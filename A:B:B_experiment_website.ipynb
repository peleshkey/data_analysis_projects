{
 "cells": [
  {
   "cell_type": "markdown",
   "metadata": {},
   "source": [
    "# Анализ поведения пользователей мобильного приложения по продаже продуктов питания. Анализ результатов А/А/В-эксперимента."
   ]
  },
  {
   "cell_type": "markdown",
   "metadata": {},
   "source": [
    "## Введение\n",
    "\n",
    "Данный проект направлен на проведение анализа поведения пользователей мобильного приложения по продаже продуктов питания, а также результатов А/А/В-эксперимента, проводимого с целью получения информации о реакции пользователей на изменение шрифтов во всем приложении. Целью данного проекта является изучение данного эксперимента для выявления его значимой эффективности.\n",
    "\n",
    "Проведения данного исследования будет базироваться на массиве данных, содержащем информацию о:\n",
    "\n",
    "- пользователях и совершенных ими событиях;\n",
    "- делении пользователей на три группы для проведения эксперимента: две контрольные со старыми визуальными характеристиками приложения и одной экспериментальной - с новыми визуальными характеристиками приложения.\n",
    "\n",
    "В ходе проведения данного исследования планируется проведение:\n",
    "\n",
    "- проверки данных;\n",
    "- анализа воронки событий;\n",
    "- анализа результатов эксперимента.\n",
    "\n",
    "По итогам выполнения каждого пункта проекта будут сделаны промежуточные выводы. В заключении проекта будет сформирован вывод по резальтатам проведенного анализа с указанием имеющихся предположений и заключением об эффективности проводимых изменений в приложении."
   ]
  },
  {
   "cell_type": "markdown",
   "metadata": {},
   "source": [
    "## Подготовка данных"
   ]
  },
  {
   "cell_type": "code",
   "execution_count": 82,
   "metadata": {},
   "outputs": [],
   "source": [
    "import pandas as pd\n",
    "import numpy as np\n",
    "import matplotlib.pyplot as plt\n",
    "import datetime as dt\n",
    "import scipy.stats as stats\n",
    "import seaborn as sns\n",
    "import math as mth\n",
    "from plotly import graph_objects as go"
   ]
  },
  {
   "cell_type": "markdown",
   "metadata": {},
   "source": [
    "Загрузим и изучим представленный для анализа массив данных."
   ]
  },
  {
   "cell_type": "code",
   "execution_count": 83,
   "metadata": {},
   "outputs": [],
   "source": [
    "try:\n",
    "    data_raw = pd.read_csv('/Users/imac27/DataAnalysis/datasets/logs_exp (1).csv', sep = '\\t')\n",
    "except:\n",
    "    data_raw = pd.read_csv('/datasets/logs_exp.csv', sep = '\\t')        "
   ]
  },
  {
   "cell_type": "code",
   "execution_count": 84,
   "metadata": {},
   "outputs": [
    {
     "data": {
      "text/html": [
       "<div>\n",
       "<style scoped>\n",
       "    .dataframe tbody tr th:only-of-type {\n",
       "        vertical-align: middle;\n",
       "    }\n",
       "\n",
       "    .dataframe tbody tr th {\n",
       "        vertical-align: top;\n",
       "    }\n",
       "\n",
       "    .dataframe thead th {\n",
       "        text-align: right;\n",
       "    }\n",
       "</style>\n",
       "<table border=\"1\" class=\"dataframe\">\n",
       "  <thead>\n",
       "    <tr style=\"text-align: right;\">\n",
       "      <th></th>\n",
       "      <th>EventName</th>\n",
       "      <th>DeviceIDHash</th>\n",
       "      <th>EventTimestamp</th>\n",
       "      <th>ExpId</th>\n",
       "    </tr>\n",
       "  </thead>\n",
       "  <tbody>\n",
       "    <tr>\n",
       "      <th>0</th>\n",
       "      <td>MainScreenAppear</td>\n",
       "      <td>4575588528974610257</td>\n",
       "      <td>1564029816</td>\n",
       "      <td>246</td>\n",
       "    </tr>\n",
       "    <tr>\n",
       "      <th>1</th>\n",
       "      <td>MainScreenAppear</td>\n",
       "      <td>7416695313311560658</td>\n",
       "      <td>1564053102</td>\n",
       "      <td>246</td>\n",
       "    </tr>\n",
       "    <tr>\n",
       "      <th>2</th>\n",
       "      <td>PaymentScreenSuccessful</td>\n",
       "      <td>3518123091307005509</td>\n",
       "      <td>1564054127</td>\n",
       "      <td>248</td>\n",
       "    </tr>\n",
       "    <tr>\n",
       "      <th>3</th>\n",
       "      <td>CartScreenAppear</td>\n",
       "      <td>3518123091307005509</td>\n",
       "      <td>1564054127</td>\n",
       "      <td>248</td>\n",
       "    </tr>\n",
       "    <tr>\n",
       "      <th>4</th>\n",
       "      <td>PaymentScreenSuccessful</td>\n",
       "      <td>6217807653094995999</td>\n",
       "      <td>1564055322</td>\n",
       "      <td>248</td>\n",
       "    </tr>\n",
       "  </tbody>\n",
       "</table>\n",
       "</div>"
      ],
      "text/plain": [
       "                 EventName         DeviceIDHash  EventTimestamp  ExpId\n",
       "0         MainScreenAppear  4575588528974610257      1564029816    246\n",
       "1         MainScreenAppear  7416695313311560658      1564053102    246\n",
       "2  PaymentScreenSuccessful  3518123091307005509      1564054127    248\n",
       "3         CartScreenAppear  3518123091307005509      1564054127    248\n",
       "4  PaymentScreenSuccessful  6217807653094995999      1564055322    248"
      ]
     },
     "execution_count": 84,
     "metadata": {},
     "output_type": "execute_result"
    }
   ],
   "source": [
    "data_raw.head()"
   ]
  },
  {
   "cell_type": "code",
   "execution_count": 85,
   "metadata": {},
   "outputs": [
    {
     "name": "stdout",
     "output_type": "stream",
     "text": [
      "<class 'pandas.core.frame.DataFrame'>\n",
      "RangeIndex: 244126 entries, 0 to 244125\n",
      "Data columns (total 4 columns):\n",
      " #   Column          Non-Null Count   Dtype \n",
      "---  ------          --------------   ----- \n",
      " 0   EventName       244126 non-null  object\n",
      " 1   DeviceIDHash    244126 non-null  int64 \n",
      " 2   EventTimestamp  244126 non-null  int64 \n",
      " 3   ExpId           244126 non-null  int64 \n",
      "dtypes: int64(3), object(1)\n",
      "memory usage: 7.5+ MB\n"
     ]
    }
   ],
   "source": [
    "data_raw.info()"
   ]
  },
  {
   "cell_type": "markdown",
   "metadata": {},
   "source": [
    "Согласно полученной информации, столбец, содержащий информацию о времени события, имеет неверный тип данных. Приведем его к типу данных `datetime`."
   ]
  },
  {
   "cell_type": "code",
   "execution_count": 86,
   "metadata": {},
   "outputs": [],
   "source": [
    "data_raw['EventTimestamp'] = pd.to_datetime(data_raw['EventTimestamp'], unit='s')"
   ]
  },
  {
   "cell_type": "code",
   "execution_count": 87,
   "metadata": {},
   "outputs": [
    {
     "data": {
      "text/html": [
       "<div>\n",
       "<style scoped>\n",
       "    .dataframe tbody tr th:only-of-type {\n",
       "        vertical-align: middle;\n",
       "    }\n",
       "\n",
       "    .dataframe tbody tr th {\n",
       "        vertical-align: top;\n",
       "    }\n",
       "\n",
       "    .dataframe thead th {\n",
       "        text-align: right;\n",
       "    }\n",
       "</style>\n",
       "<table border=\"1\" class=\"dataframe\">\n",
       "  <thead>\n",
       "    <tr style=\"text-align: right;\">\n",
       "      <th></th>\n",
       "      <th>EventName</th>\n",
       "      <th>DeviceIDHash</th>\n",
       "      <th>EventTimestamp</th>\n",
       "      <th>ExpId</th>\n",
       "    </tr>\n",
       "  </thead>\n",
       "  <tbody>\n",
       "    <tr>\n",
       "      <th>0</th>\n",
       "      <td>MainScreenAppear</td>\n",
       "      <td>4575588528974610257</td>\n",
       "      <td>2019-07-25 04:43:36</td>\n",
       "      <td>246</td>\n",
       "    </tr>\n",
       "    <tr>\n",
       "      <th>1</th>\n",
       "      <td>MainScreenAppear</td>\n",
       "      <td>7416695313311560658</td>\n",
       "      <td>2019-07-25 11:11:42</td>\n",
       "      <td>246</td>\n",
       "    </tr>\n",
       "    <tr>\n",
       "      <th>2</th>\n",
       "      <td>PaymentScreenSuccessful</td>\n",
       "      <td>3518123091307005509</td>\n",
       "      <td>2019-07-25 11:28:47</td>\n",
       "      <td>248</td>\n",
       "    </tr>\n",
       "    <tr>\n",
       "      <th>3</th>\n",
       "      <td>CartScreenAppear</td>\n",
       "      <td>3518123091307005509</td>\n",
       "      <td>2019-07-25 11:28:47</td>\n",
       "      <td>248</td>\n",
       "    </tr>\n",
       "    <tr>\n",
       "      <th>4</th>\n",
       "      <td>PaymentScreenSuccessful</td>\n",
       "      <td>6217807653094995999</td>\n",
       "      <td>2019-07-25 11:48:42</td>\n",
       "      <td>248</td>\n",
       "    </tr>\n",
       "  </tbody>\n",
       "</table>\n",
       "</div>"
      ],
      "text/plain": [
       "                 EventName         DeviceIDHash      EventTimestamp  ExpId\n",
       "0         MainScreenAppear  4575588528974610257 2019-07-25 04:43:36    246\n",
       "1         MainScreenAppear  7416695313311560658 2019-07-25 11:11:42    246\n",
       "2  PaymentScreenSuccessful  3518123091307005509 2019-07-25 11:28:47    248\n",
       "3         CartScreenAppear  3518123091307005509 2019-07-25 11:28:47    248\n",
       "4  PaymentScreenSuccessful  6217807653094995999 2019-07-25 11:48:42    248"
      ]
     },
     "execution_count": 87,
     "metadata": {},
     "output_type": "execute_result"
    }
   ],
   "source": [
    "data_raw.head()"
   ]
  },
  {
   "cell_type": "markdown",
   "metadata": {},
   "source": [
    "Переименуем столбцы в соответствии со стандартами наименований:"
   ]
  },
  {
   "cell_type": "code",
   "execution_count": 88,
   "metadata": {},
   "outputs": [],
   "source": [
    "data_raw = data_raw.rename(columns = {'EventName':'event', \n",
    "                                      'DeviceIDHash':'user_id', \n",
    "                                      'EventTimestamp':'event_time', \n",
    "                                      'ExpId':'group'})"
   ]
  },
  {
   "cell_type": "code",
   "execution_count": 89,
   "metadata": {},
   "outputs": [
    {
     "name": "stdout",
     "output_type": "stream",
     "text": [
      "<class 'pandas.core.frame.DataFrame'>\n",
      "RangeIndex: 244126 entries, 0 to 244125\n",
      "Data columns (total 4 columns):\n",
      " #   Column      Non-Null Count   Dtype         \n",
      "---  ------      --------------   -----         \n",
      " 0   event       244126 non-null  object        \n",
      " 1   user_id     244126 non-null  int64         \n",
      " 2   event_time  244126 non-null  datetime64[ns]\n",
      " 3   group       244126 non-null  int64         \n",
      "dtypes: datetime64[ns](1), int64(2), object(1)\n",
      "memory usage: 7.5+ MB\n"
     ]
    }
   ],
   "source": [
    "data_raw.info()"
   ]
  },
  {
   "cell_type": "markdown",
   "metadata": {},
   "source": [
    "Согласно полученной информации о датафрейме, **пропуски в данных отсутствуют**."
   ]
  },
  {
   "cell_type": "markdown",
   "metadata": {},
   "source": [
    "Проверим массив данных на наличие явных дубликатов."
   ]
  },
  {
   "cell_type": "code",
   "execution_count": 90,
   "metadata": {},
   "outputs": [
    {
     "data": {
      "text/plain": [
       "413"
      ]
     },
     "execution_count": 90,
     "metadata": {},
     "output_type": "execute_result"
    }
   ],
   "source": [
    "data_raw.duplicated().sum()"
   ]
  },
  {
   "cell_type": "markdown",
   "metadata": {},
   "source": [
    "Выявлено 413 явных дубликатов, удалим их из массива данных."
   ]
  },
  {
   "cell_type": "code",
   "execution_count": 91,
   "metadata": {},
   "outputs": [
    {
     "name": "stdout",
     "output_type": "stream",
     "text": [
      "<class 'pandas.core.frame.DataFrame'>\n",
      "RangeIndex: 243713 entries, 0 to 243712\n",
      "Data columns (total 4 columns):\n",
      " #   Column      Non-Null Count   Dtype         \n",
      "---  ------      --------------   -----         \n",
      " 0   event       243713 non-null  object        \n",
      " 1   user_id     243713 non-null  int64         \n",
      " 2   event_time  243713 non-null  datetime64[ns]\n",
      " 3   group       243713 non-null  int64         \n",
      "dtypes: datetime64[ns](1), int64(2), object(1)\n",
      "memory usage: 7.4+ MB\n"
     ]
    }
   ],
   "source": [
    "data_raw = data_raw.drop_duplicates().reset_index(drop=True)\n",
    "data_raw.info()"
   ]
  },
  {
   "cell_type": "markdown",
   "metadata": {},
   "source": [
    "Добавим в датафрейм новый столбец `date`, содержащий информацию о дне события без указания времени. Данный столбец понадобится при проведении дальнейших расчетов."
   ]
  },
  {
   "cell_type": "code",
   "execution_count": 92,
   "metadata": {
    "scrolled": false
   },
   "outputs": [
    {
     "data": {
      "text/html": [
       "<div>\n",
       "<style scoped>\n",
       "    .dataframe tbody tr th:only-of-type {\n",
       "        vertical-align: middle;\n",
       "    }\n",
       "\n",
       "    .dataframe tbody tr th {\n",
       "        vertical-align: top;\n",
       "    }\n",
       "\n",
       "    .dataframe thead th {\n",
       "        text-align: right;\n",
       "    }\n",
       "</style>\n",
       "<table border=\"1\" class=\"dataframe\">\n",
       "  <thead>\n",
       "    <tr style=\"text-align: right;\">\n",
       "      <th></th>\n",
       "      <th>event</th>\n",
       "      <th>user_id</th>\n",
       "      <th>event_time</th>\n",
       "      <th>group</th>\n",
       "      <th>date</th>\n",
       "    </tr>\n",
       "  </thead>\n",
       "  <tbody>\n",
       "    <tr>\n",
       "      <th>0</th>\n",
       "      <td>MainScreenAppear</td>\n",
       "      <td>4575588528974610257</td>\n",
       "      <td>2019-07-25 04:43:36</td>\n",
       "      <td>246</td>\n",
       "      <td>2019-07-25</td>\n",
       "    </tr>\n",
       "    <tr>\n",
       "      <th>1</th>\n",
       "      <td>MainScreenAppear</td>\n",
       "      <td>7416695313311560658</td>\n",
       "      <td>2019-07-25 11:11:42</td>\n",
       "      <td>246</td>\n",
       "      <td>2019-07-25</td>\n",
       "    </tr>\n",
       "    <tr>\n",
       "      <th>2</th>\n",
       "      <td>PaymentScreenSuccessful</td>\n",
       "      <td>3518123091307005509</td>\n",
       "      <td>2019-07-25 11:28:47</td>\n",
       "      <td>248</td>\n",
       "      <td>2019-07-25</td>\n",
       "    </tr>\n",
       "    <tr>\n",
       "      <th>3</th>\n",
       "      <td>CartScreenAppear</td>\n",
       "      <td>3518123091307005509</td>\n",
       "      <td>2019-07-25 11:28:47</td>\n",
       "      <td>248</td>\n",
       "      <td>2019-07-25</td>\n",
       "    </tr>\n",
       "    <tr>\n",
       "      <th>4</th>\n",
       "      <td>PaymentScreenSuccessful</td>\n",
       "      <td>6217807653094995999</td>\n",
       "      <td>2019-07-25 11:48:42</td>\n",
       "      <td>248</td>\n",
       "      <td>2019-07-25</td>\n",
       "    </tr>\n",
       "  </tbody>\n",
       "</table>\n",
       "</div>"
      ],
      "text/plain": [
       "                     event              user_id          event_time  group  \\\n",
       "0         MainScreenAppear  4575588528974610257 2019-07-25 04:43:36    246   \n",
       "1         MainScreenAppear  7416695313311560658 2019-07-25 11:11:42    246   \n",
       "2  PaymentScreenSuccessful  3518123091307005509 2019-07-25 11:28:47    248   \n",
       "3         CartScreenAppear  3518123091307005509 2019-07-25 11:28:47    248   \n",
       "4  PaymentScreenSuccessful  6217807653094995999 2019-07-25 11:48:42    248   \n",
       "\n",
       "         date  \n",
       "0  2019-07-25  \n",
       "1  2019-07-25  \n",
       "2  2019-07-25  \n",
       "3  2019-07-25  \n",
       "4  2019-07-25  "
      ]
     },
     "execution_count": 92,
     "metadata": {},
     "output_type": "execute_result"
    }
   ],
   "source": [
    "data_raw['date'] = data_raw['event_time'].dt.date\n",
    "data_raw.head()"
   ]
  },
  {
   "cell_type": "markdown",
   "metadata": {},
   "source": [
    "Проверим пересечение пользователей между группами, т.е. участие одних и тех же `user_id` в нескольких группах одновременно."
   ]
  },
  {
   "cell_type": "code",
   "execution_count": 93,
   "metadata": {},
   "outputs": [],
   "source": [
    "group_one_raw = data_raw.query('group == 246')\n",
    "group_two_raw = data_raw.query('group == 247')\n",
    "group_test_raw = data_raw.query('group == 248')"
   ]
  },
  {
   "cell_type": "code",
   "execution_count": 94,
   "metadata": {},
   "outputs": [
    {
     "data": {
      "text/plain": [
       "0"
      ]
     },
     "execution_count": 94,
     "metadata": {},
     "output_type": "execute_result"
    }
   ],
   "source": [
    "group_a = group_one_raw.merge(group_two_raw, on = 'user_id', how = 'inner')\n",
    "duplicates = group_a.merge(group_test_raw, on = 'user_id', how = 'inner')\n",
    "duplicates['user_id'].count()"
   ]
  },
  {
   "cell_type": "markdown",
   "metadata": {},
   "source": [
    "Текие дубликаты не выявлены, все группы содержат уникальных пользователей."
   ]
  },
  {
   "cell_type": "markdown",
   "metadata": {},
   "source": [
    "## Изучение и проверка данных"
   ]
  },
  {
   "cell_type": "markdown",
   "metadata": {},
   "source": [
    "Определим наименования уникальных событий в имеющемся массиве данных:"
   ]
  },
  {
   "cell_type": "code",
   "execution_count": 95,
   "metadata": {},
   "outputs": [
    {
     "name": "stdout",
     "output_type": "stream",
     "text": [
      "Количество уникальных событий: 5\n",
      "MainScreenAppear\n",
      "PaymentScreenSuccessful\n",
      "CartScreenAppear\n",
      "OffersScreenAppear\n",
      "Tutorial\n"
     ]
    }
   ],
   "source": [
    "print('Количество уникальных событий:', len(data_raw['event'].unique()))\n",
    "for i in data_raw['event'].unique():\n",
    "    print(i)"
   ]
  },
  {
   "cell_type": "markdown",
   "metadata": {},
   "source": [
    "Определим общее количество событий в имеющемся массиве данных:"
   ]
  },
  {
   "cell_type": "code",
   "execution_count": 96,
   "metadata": {},
   "outputs": [
    {
     "data": {
      "text/plain": [
       "243713"
      ]
     },
     "execution_count": 96,
     "metadata": {},
     "output_type": "execute_result"
    }
   ],
   "source": [
    "data_raw['event'].count()"
   ]
  },
  {
   "cell_type": "markdown",
   "metadata": {},
   "source": [
    "Определим количество уникальных пользователей в имеющемся массиве данных:"
   ]
  },
  {
   "cell_type": "code",
   "execution_count": 97,
   "metadata": {},
   "outputs": [
    {
     "name": "stdout",
     "output_type": "stream",
     "text": [
      "Количество уникальных пользователей: 7551\n"
     ]
    }
   ],
   "source": [
    "print('Количество уникальных пользователей:', len(data_raw['user_id'].unique()))"
   ]
  },
  {
   "cell_type": "markdown",
   "metadata": {},
   "source": [
    "Определим среднее количество событий, совершаемых одним пользователем:"
   ]
  },
  {
   "cell_type": "code",
   "execution_count": 98,
   "metadata": {},
   "outputs": [
    {
     "data": {
      "text/plain": [
       "39.2"
      ]
     },
     "execution_count": 98,
     "metadata": {},
     "output_type": "execute_result"
    }
   ],
   "source": [
    "event_num = data_raw.groupby('user_id').agg({'event':'count'}).head()\n",
    "event_num['event'].mean()"
   ]
  },
  {
   "cell_type": "markdown",
   "metadata": {},
   "source": [
    "Определим медианное количество событий, совершаемых одним пользователем:"
   ]
  },
  {
   "cell_type": "code",
   "execution_count": 99,
   "metadata": {},
   "outputs": [
    {
     "data": {
      "text/plain": [
       "6.0"
      ]
     },
     "execution_count": 99,
     "metadata": {},
     "output_type": "execute_result"
    }
   ],
   "source": [
    "event_num['event'].median()"
   ]
  },
  {
   "cell_type": "markdown",
   "metadata": {},
   "source": [
    "Из полученных расчетов видно, что пользователи имеют различное поведение, в том числе имеются такие, действия которых могут быть аномальными и влияющими на расчет среднего, в связи с этим среднее и медианное количество событий на одного пользователя значительно различается."
   ]
  },
  {
   "cell_type": "code",
   "execution_count": 100,
   "metadata": {},
   "outputs": [
    {
     "data": {
      "image/png": "[encoded data removed]",
      "text/plain": [
       "<Figure size 400x700 with 1 Axes>"
      ]
     },
     "metadata": {},
     "output_type": "display_data"
    }
   ],
   "source": [
    "plt.figure(figsize=(4, 7))\n",
    "\n",
    "sns.boxplot(y = 'event', data = event_num)\n",
    "\n",
    "plt.title('Диаграмма размаха количества событий, совершаемых одним пользователем.', fontsize=14)\n",
    "plt.ylabel('Количество событий', fontsize=14)\n",
    "plt.show()"
   ]
  },
  {
   "cell_type": "code",
   "execution_count": 101,
   "metadata": {},
   "outputs": [
    {
     "data": {
      "text/html": [
       "<div>\n",
       "<style scoped>\n",
       "    .dataframe tbody tr th:only-of-type {\n",
       "        vertical-align: middle;\n",
       "    }\n",
       "\n",
       "    .dataframe tbody tr th {\n",
       "        vertical-align: top;\n",
       "    }\n",
       "\n",
       "    .dataframe thead th {\n",
       "        text-align: right;\n",
       "    }\n",
       "</style>\n",
       "<table border=\"1\" class=\"dataframe\">\n",
       "  <thead>\n",
       "    <tr style=\"text-align: right;\">\n",
       "      <th></th>\n",
       "      <th>event</th>\n",
       "    </tr>\n",
       "  </thead>\n",
       "  <tbody>\n",
       "    <tr>\n",
       "      <th>count</th>\n",
       "      <td>5.000000</td>\n",
       "    </tr>\n",
       "    <tr>\n",
       "      <th>mean</th>\n",
       "      <td>39.200000</td>\n",
       "    </tr>\n",
       "    <tr>\n",
       "      <th>std</th>\n",
       "      <td>57.785811</td>\n",
       "    </tr>\n",
       "    <tr>\n",
       "      <th>min</th>\n",
       "      <td>1.000000</td>\n",
       "    </tr>\n",
       "    <tr>\n",
       "      <th>25%</th>\n",
       "      <td>5.000000</td>\n",
       "    </tr>\n",
       "    <tr>\n",
       "      <th>50%</th>\n",
       "      <td>6.000000</td>\n",
       "    </tr>\n",
       "    <tr>\n",
       "      <th>75%</th>\n",
       "      <td>47.000000</td>\n",
       "    </tr>\n",
       "    <tr>\n",
       "      <th>max</th>\n",
       "      <td>137.000000</td>\n",
       "    </tr>\n",
       "  </tbody>\n",
       "</table>\n",
       "</div>"
      ],
      "text/plain": [
       "            event\n",
       "count    5.000000\n",
       "mean    39.200000\n",
       "std     57.785811\n",
       "min      1.000000\n",
       "25%      5.000000\n",
       "50%      6.000000\n",
       "75%     47.000000\n",
       "max    137.000000"
      ]
     },
     "execution_count": 101,
     "metadata": {},
     "output_type": "execute_result"
    }
   ],
   "source": [
    "event_num.describe()"
   ]
  },
  {
   "cell_type": "markdown",
   "metadata": {},
   "source": [
    "Из данного расчета можно сделать вывод, что имеется один пользователь, совершивший 137 событий, что является аномальным, что и повлияло на расчет среднего. Чаще всего пользователи совершали от 5 до 47 событий."
   ]
  },
  {
   "cell_type": "markdown",
   "metadata": {},
   "source": [
    "Определим период времени, за который были собраны имеющиеся данные. Для этого найдем минимальное и максимальное значение столбца `event_time`."
   ]
  },
  {
   "cell_type": "code",
   "execution_count": 102,
   "metadata": {},
   "outputs": [
    {
     "data": {
      "text/plain": [
       "Timestamp('2019-07-25 04:43:36')"
      ]
     },
     "execution_count": 102,
     "metadata": {},
     "output_type": "execute_result"
    }
   ],
   "source": [
    "data_raw['event_time'].min()"
   ]
  },
  {
   "cell_type": "code",
   "execution_count": 103,
   "metadata": {},
   "outputs": [
    {
     "data": {
      "text/plain": [
       "Timestamp('2019-08-07 21:15:17')"
      ]
     },
     "execution_count": 103,
     "metadata": {},
     "output_type": "execute_result"
    }
   ],
   "source": [
    "data_raw['event_time'].max()"
   ]
  },
  {
   "cell_type": "markdown",
   "metadata": {},
   "source": [
    "Построим столбчатую диаграмму, отражающую изменение ежедневного количества событий для всего массива данных."
   ]
  },
  {
   "cell_type": "code",
   "execution_count": 104,
   "metadata": {},
   "outputs": [],
   "source": [
    "data_hist = data_raw.pivot_table(index='date', values='event', aggfunc='count').reset_index()"
   ]
  },
  {
   "cell_type": "code",
   "execution_count": 105,
   "metadata": {},
   "outputs": [
    {
     "data": {
      "image/png": "[encoded data removed]",
      "text/plain": [
       "<Figure size 1700x500 with 1 Axes>"
      ]
     },
     "metadata": {},
     "output_type": "display_data"
    }
   ],
   "source": [
    "plt.figure(figsize=(17, 5))\n",
    "sns.barplot(x='date', y='event', data=data_hist)\n",
    "\n",
    "\n",
    "plt.title('Ежедневное количество событий для всех групп', fontsize=18)\n",
    "plt.xlabel('Дата', fontsize=12)\n",
    "plt.ylabel('Количество событий', fontsize=12)\n",
    "plt.show()"
   ]
  },
  {
   "cell_type": "markdown",
   "metadata": {},
   "source": [
    "Построим гистограммы, отражающие изменение ежедневного количества событий для каждой из трех групп."
   ]
  },
  {
   "cell_type": "code",
   "execution_count": 106,
   "metadata": {},
   "outputs": [
    {
     "name": "stdout",
     "output_type": "stream",
     "text": [
      "Ежедневное количество событий отдельно по группам:\n"
     ]
    },
    {
     "data": {
      "image/png": "[encoded data removed]",
      "text/plain": [
       "<Figure size 1700x400 with 1 Axes>"
      ]
     },
     "metadata": {},
     "output_type": "display_data"
    },
    {
     "data": {
      "image/png": "[encoded data removed]",
      "text/plain": [
       "<Figure size 1700x400 with 1 Axes>"
      ]
     },
     "metadata": {},
     "output_type": "display_data"
    },
    {
     "data": {
      "image/png": "[encoded data removed]",
      "text/plain": [
       "<Figure size 1700x400 with 1 Axes>"
      ]
     },
     "metadata": {},
     "output_type": "display_data"
    }
   ],
   "source": [
    "print('Ежедневное количество событий отдельно по группам:')\n",
    "\n",
    "for gr, diagram in data_raw.groupby('group'):\n",
    "    plt.figure(figsize=(17, 4))\n",
    "    diagram = data_raw.query('group == @gr').pivot_table(index='date', values='event', aggfunc='count').reset_index()\n",
    "    sns.barplot(x='date', y='event', data=diagram)\n",
    "    \n",
    "    plt.title(gr, fontsize=18)\n",
    "    plt.xlabel('Дата', fontsize=12)\n",
    "    plt.ylabel('Количество событий', fontsize=12)"
   ]
  },
  {
   "cell_type": "markdown",
   "metadata": {},
   "source": [
    "Из полученных диаграмм видно, что тенденции в поведении пользователей в целом одинаковы. В первые 7 дней эксперимента активность пользователей была близка к нулю во всех группах и начала расти только с 30.07.2019. Далее, 01.08.2019 наблюдался резкий скачок в активности среди всех групп. Согласно заданию к проекту, предпосылок для резкого скачка активности в этот день обозначено не было. В связи с этим, можно предположить, что данные за первую половину исследуемого периода неполные и связанные с техническими особенностями. В связи с этим, для устранения вероятности искажения исследования, удалим из датафрейма данные до 01.08.2019.\n",
    "\n",
    "Также необходимо отметить, что согдасно данным диагреммам, поведение пользователей из экспериментальной группы 248 несколько отличалось от поведения пользователей двух других групп. Так 02.08.2019 в данной группе наблюдался подъем активности, когда в двух других был небольшой спад. К концу периода, все группы показали плавное снижение активности пользователей в приложении."
   ]
  },
  {
   "cell_type": "markdown",
   "metadata": {},
   "source": [
    "Удалим из датафрейма данные до 01.08.2019, являющиеся неполными."
   ]
  },
  {
   "cell_type": "code",
   "execution_count": 107,
   "metadata": {},
   "outputs": [],
   "source": [
    "data = data_raw.query('event_time >= \"2019-08-01\"')"
   ]
  },
  {
   "cell_type": "markdown",
   "metadata": {},
   "source": [
    "Таким образом, в ходе проведения исследования мы будем располагать данными за одну неделю с 01.08.2019 по 07.08.2019.\n",
    "\n",
    "Проверим, какой объем данных был удален:"
   ]
  },
  {
   "cell_type": "code",
   "execution_count": 108,
   "metadata": {},
   "outputs": [
    {
     "name": "stdout",
     "output_type": "stream",
     "text": [
      "<class 'pandas.core.frame.DataFrame'>\n",
      "Index: 240887 entries, 2826 to 243712\n",
      "Data columns (total 5 columns):\n",
      " #   Column      Non-Null Count   Dtype         \n",
      "---  ------      --------------   -----         \n",
      " 0   event       240887 non-null  object        \n",
      " 1   user_id     240887 non-null  int64         \n",
      " 2   event_time  240887 non-null  datetime64[ns]\n",
      " 3   group       240887 non-null  int64         \n",
      " 4   date        240887 non-null  object        \n",
      "dtypes: datetime64[ns](1), int64(2), object(2)\n",
      "memory usage: 11.0+ MB\n"
     ]
    }
   ],
   "source": [
    "data.info()"
   ]
  },
  {
   "cell_type": "code",
   "execution_count": 109,
   "metadata": {},
   "outputs": [
    {
     "name": "stdout",
     "output_type": "stream",
     "text": [
      "Процент удаленных данных составляет 1.17%\n"
     ]
    }
   ],
   "source": [
    "print('Процент удаленных данных составляет {0:.2%}'.format(len(data_raw) / len(data) - 1))"
   ]
  },
  {
   "cell_type": "markdown",
   "metadata": {},
   "source": [
    "Процент удаленных данных составил 1,17%, что является незначительным. \n",
    "\n",
    "Проверим корректность удаления данных, получив все уникальные даты, оставлиеся в массиве."
   ]
  },
  {
   "cell_type": "code",
   "execution_count": 110,
   "metadata": {},
   "outputs": [
    {
     "data": {
      "text/plain": [
       "array([datetime.date(2019, 8, 1), datetime.date(2019, 8, 2),\n",
       "       datetime.date(2019, 8, 3), datetime.date(2019, 8, 4),\n",
       "       datetime.date(2019, 8, 5), datetime.date(2019, 8, 6),\n",
       "       datetime.date(2019, 8, 7)], dtype=object)"
      ]
     },
     "execution_count": 110,
     "metadata": {},
     "output_type": "execute_result"
    }
   ],
   "source": [
    "data['date'].unique()"
   ]
  },
  {
   "cell_type": "markdown",
   "metadata": {},
   "source": [
    "Проверим изменение количества пользователей и событий до и после удаления данных о половине периода."
   ]
  },
  {
   "cell_type": "code",
   "execution_count": 111,
   "metadata": {},
   "outputs": [
    {
     "data": {
      "text/html": [
       "<div>\n",
       "<style scoped>\n",
       "    .dataframe tbody tr th:only-of-type {\n",
       "        vertical-align: middle;\n",
       "    }\n",
       "\n",
       "    .dataframe tbody tr th {\n",
       "        vertical-align: top;\n",
       "    }\n",
       "\n",
       "    .dataframe thead th {\n",
       "        text-align: right;\n",
       "    }\n",
       "</style>\n",
       "<table border=\"1\" class=\"dataframe\">\n",
       "  <thead>\n",
       "    <tr style=\"text-align: right;\">\n",
       "      <th></th>\n",
       "      <th></th>\n",
       "      <th>users_data_raw</th>\n",
       "      <th>events_number_raw</th>\n",
       "      <th>users_data</th>\n",
       "      <th>events_number</th>\n",
       "    </tr>\n",
       "    <tr>\n",
       "      <th>group</th>\n",
       "      <th>event</th>\n",
       "      <th></th>\n",
       "      <th></th>\n",
       "      <th></th>\n",
       "      <th></th>\n",
       "    </tr>\n",
       "  </thead>\n",
       "  <tbody>\n",
       "    <tr>\n",
       "      <th rowspan=\"5\" valign=\"top\">246</th>\n",
       "      <th>CartScreenAppear</th>\n",
       "      <td>1270</td>\n",
       "      <td>14798</td>\n",
       "      <td>1266</td>\n",
       "      <td>14690</td>\n",
       "    </tr>\n",
       "    <tr>\n",
       "      <th>MainScreenAppear</th>\n",
       "      <td>2456</td>\n",
       "      <td>38249</td>\n",
       "      <td>2450</td>\n",
       "      <td>37676</td>\n",
       "    </tr>\n",
       "    <tr>\n",
       "      <th>OffersScreenAppear</th>\n",
       "      <td>1545</td>\n",
       "      <td>14904</td>\n",
       "      <td>1542</td>\n",
       "      <td>14767</td>\n",
       "    </tr>\n",
       "    <tr>\n",
       "      <th>PaymentScreenSuccessful</th>\n",
       "      <td>1202</td>\n",
       "      <td>11912</td>\n",
       "      <td>1200</td>\n",
       "      <td>11852</td>\n",
       "    </tr>\n",
       "    <tr>\n",
       "      <th>Tutorial</th>\n",
       "      <td>279</td>\n",
       "      <td>318</td>\n",
       "      <td>278</td>\n",
       "      <td>317</td>\n",
       "    </tr>\n",
       "    <tr>\n",
       "      <th rowspan=\"5\" valign=\"top\">247</th>\n",
       "      <th>CartScreenAppear</th>\n",
       "      <td>1240</td>\n",
       "      <td>12548</td>\n",
       "      <td>1238</td>\n",
       "      <td>12434</td>\n",
       "    </tr>\n",
       "    <tr>\n",
       "      <th>MainScreenAppear</th>\n",
       "      <td>2482</td>\n",
       "      <td>39677</td>\n",
       "      <td>2476</td>\n",
       "      <td>39090</td>\n",
       "    </tr>\n",
       "    <tr>\n",
       "      <th>OffersScreenAppear</th>\n",
       "      <td>1530</td>\n",
       "      <td>15341</td>\n",
       "      <td>1520</td>\n",
       "      <td>15179</td>\n",
       "    </tr>\n",
       "    <tr>\n",
       "      <th>PaymentScreenSuccessful</th>\n",
       "      <td>1160</td>\n",
       "      <td>10039</td>\n",
       "      <td>1158</td>\n",
       "      <td>9981</td>\n",
       "    </tr>\n",
       "    <tr>\n",
       "      <th>Tutorial</th>\n",
       "      <td>286</td>\n",
       "      <td>345</td>\n",
       "      <td>283</td>\n",
       "      <td>338</td>\n",
       "    </tr>\n",
       "    <tr>\n",
       "      <th rowspan=\"5\" valign=\"top\">248</th>\n",
       "      <th>CartScreenAppear</th>\n",
       "      <td>1239</td>\n",
       "      <td>15322</td>\n",
       "      <td>1230</td>\n",
       "      <td>15179</td>\n",
       "    </tr>\n",
       "    <tr>\n",
       "      <th>MainScreenAppear</th>\n",
       "      <td>2501</td>\n",
       "      <td>41175</td>\n",
       "      <td>2493</td>\n",
       "      <td>40562</td>\n",
       "    </tr>\n",
       "    <tr>\n",
       "      <th>OffersScreenAppear</th>\n",
       "      <td>1538</td>\n",
       "      <td>16563</td>\n",
       "      <td>1531</td>\n",
       "      <td>16387</td>\n",
       "    </tr>\n",
       "    <tr>\n",
       "      <th>PaymentScreenSuccessful</th>\n",
       "      <td>1185</td>\n",
       "      <td>12167</td>\n",
       "      <td>1181</td>\n",
       "      <td>12085</td>\n",
       "    </tr>\n",
       "    <tr>\n",
       "      <th>Tutorial</th>\n",
       "      <td>282</td>\n",
       "      <td>355</td>\n",
       "      <td>279</td>\n",
       "      <td>350</td>\n",
       "    </tr>\n",
       "  </tbody>\n",
       "</table>\n",
       "</div>"
      ],
      "text/plain": [
       "                               users_data_raw  events_number_raw  users_data  \\\n",
       "group event                                                                    \n",
       "246   CartScreenAppear                   1270              14798        1266   \n",
       "      MainScreenAppear                   2456              38249        2450   \n",
       "      OffersScreenAppear                 1545              14904        1542   \n",
       "      PaymentScreenSuccessful            1202              11912        1200   \n",
       "      Tutorial                            279                318         278   \n",
       "247   CartScreenAppear                   1240              12548        1238   \n",
       "      MainScreenAppear                   2482              39677        2476   \n",
       "      OffersScreenAppear                 1530              15341        1520   \n",
       "      PaymentScreenSuccessful            1160              10039        1158   \n",
       "      Tutorial                            286                345         283   \n",
       "248   CartScreenAppear                   1239              15322        1230   \n",
       "      MainScreenAppear                   2501              41175        2493   \n",
       "      OffersScreenAppear                 1538              16563        1531   \n",
       "      PaymentScreenSuccessful            1185              12167        1181   \n",
       "      Tutorial                            282                355         279   \n",
       "\n",
       "                               events_number  \n",
       "group event                                   \n",
       "246   CartScreenAppear                 14690  \n",
       "      MainScreenAppear                 37676  \n",
       "      OffersScreenAppear               14767  \n",
       "      PaymentScreenSuccessful          11852  \n",
       "      Tutorial                           317  \n",
       "247   CartScreenAppear                 12434  \n",
       "      MainScreenAppear                 39090  \n",
       "      OffersScreenAppear               15179  \n",
       "      PaymentScreenSuccessful           9981  \n",
       "      Tutorial                           338  \n",
       "248   CartScreenAppear                 15179  \n",
       "      MainScreenAppear                 40562  \n",
       "      OffersScreenAppear               16387  \n",
       "      PaymentScreenSuccessful          12085  \n",
       "      Tutorial                           350  "
      ]
     },
     "execution_count": 111,
     "metadata": {},
     "output_type": "execute_result"
    }
   ],
   "source": [
    "users_data_raw = (data_raw\n",
    "                  .groupby(by = ['group', 'event'])\n",
    "                  .agg({'user_id':'nunique', 'event':'count'}))\n",
    "users_data_raw = users_data_raw.rename(columns = {'user_id':'users_data_raw', 'event':'events_number_raw'})\n",
    "\n",
    "users_data = (data\n",
    "                  .groupby(by = ['group', 'event'])\n",
    "                  .agg({'user_id':'nunique', 'event':'count'}))\n",
    "users_data = users_data.rename(columns = {'user_id':'users_data', 'event':'events_number'})\n",
    "\n",
    "changes = users_data_raw.merge(users_data, on = ['group', 'event'])\n",
    "\n",
    "changes"
   ]
  },
  {
   "cell_type": "markdown",
   "metadata": {},
   "source": [
    "После проведенной очестки данных, произошли незначительные уменьшения как в количестве событий, так и в количестве уникальных пользователей. Пользователи как и события имеются во всех трех рассматриваемых группах."
   ]
  },
  {
   "cell_type": "markdown",
   "metadata": {},
   "source": [
    "Рассчитаем абсолютные и относительные показатели изменения данных величин.\n",
    "\n",
    "**Изменение количества событий:**"
   ]
  },
  {
   "cell_type": "code",
   "execution_count": 112,
   "metadata": {},
   "outputs": [
    {
     "data": {
      "text/html": [
       "<div>\n",
       "<style scoped>\n",
       "    .dataframe tbody tr th:only-of-type {\n",
       "        vertical-align: middle;\n",
       "    }\n",
       "\n",
       "    .dataframe tbody tr th {\n",
       "        vertical-align: top;\n",
       "    }\n",
       "\n",
       "    .dataframe thead th {\n",
       "        text-align: right;\n",
       "    }\n",
       "</style>\n",
       "<table border=\"1\" class=\"dataframe\">\n",
       "  <thead>\n",
       "    <tr style=\"text-align: right;\">\n",
       "      <th></th>\n",
       "      <th>events_number_raw</th>\n",
       "      <th>events_number</th>\n",
       "      <th>difference</th>\n",
       "      <th>percent</th>\n",
       "    </tr>\n",
       "    <tr>\n",
       "      <th>group</th>\n",
       "      <th></th>\n",
       "      <th></th>\n",
       "      <th></th>\n",
       "      <th></th>\n",
       "    </tr>\n",
       "  </thead>\n",
       "  <tbody>\n",
       "    <tr>\n",
       "      <th>246</th>\n",
       "      <td>80181</td>\n",
       "      <td>79302</td>\n",
       "      <td>-879</td>\n",
       "      <td>-1.10%</td>\n",
       "    </tr>\n",
       "    <tr>\n",
       "      <th>247</th>\n",
       "      <td>77950</td>\n",
       "      <td>77022</td>\n",
       "      <td>-928</td>\n",
       "      <td>-1.19%</td>\n",
       "    </tr>\n",
       "    <tr>\n",
       "      <th>248</th>\n",
       "      <td>85582</td>\n",
       "      <td>84563</td>\n",
       "      <td>-1019</td>\n",
       "      <td>-1.19%</td>\n",
       "    </tr>\n",
       "  </tbody>\n",
       "</table>\n",
       "</div>"
      ],
      "text/plain": [
       "       events_number_raw  events_number  difference percent\n",
       "group                                                      \n",
       "246                80181          79302        -879  -1.10%\n",
       "247                77950          77022        -928  -1.19%\n",
       "248                85582          84563       -1019  -1.19%"
      ]
     },
     "execution_count": 112,
     "metadata": {},
     "output_type": "execute_result"
    }
   ],
   "source": [
    "changes_events = (changes\n",
    "                  .groupby(by = ['group'])\n",
    "                  .agg({'events_number_raw':'sum', 'events_number':'sum'}))\n",
    "\n",
    "changes_events['difference'] = changes_events['events_number'] - changes_events['events_number_raw']\n",
    "changes_events['percent'] = changes_events['events_number']/changes_events['events_number_raw'] - 1\n",
    "\n",
    "for i in changes_events.index:    \n",
    "    changes_events.loc[i, 'percent'] = '{:.2%}'.format(changes_events.loc[i, 'percent'])\n",
    "    \n",
    "changes_events"
   ]
  },
  {
   "cell_type": "markdown",
   "metadata": {},
   "source": [
    "В результате сокращения периода, количество событий уменьшилось от 879 до 1019, наибольшее уменьшение произошло в группе 248. Поскольку в процентном выражение такие изменения составили не более 1.19%, данные корректировки не могут повлиять на результаты исследования. "
   ]
  },
  {
   "cell_type": "markdown",
   "metadata": {},
   "source": [
    "**Изменение количества пользователей:**"
   ]
  },
  {
   "cell_type": "code",
   "execution_count": 113,
   "metadata": {},
   "outputs": [
    {
     "data": {
      "text/html": [
       "<div>\n",
       "<style scoped>\n",
       "    .dataframe tbody tr th:only-of-type {\n",
       "        vertical-align: middle;\n",
       "    }\n",
       "\n",
       "    .dataframe tbody tr th {\n",
       "        vertical-align: top;\n",
       "    }\n",
       "\n",
       "    .dataframe thead th {\n",
       "        text-align: right;\n",
       "    }\n",
       "</style>\n",
       "<table border=\"1\" class=\"dataframe\">\n",
       "  <thead>\n",
       "    <tr style=\"text-align: right;\">\n",
       "      <th></th>\n",
       "      <th>users_data_raw</th>\n",
       "      <th>users_data</th>\n",
       "      <th>difference</th>\n",
       "      <th>percent</th>\n",
       "    </tr>\n",
       "    <tr>\n",
       "      <th>group</th>\n",
       "      <th></th>\n",
       "      <th></th>\n",
       "      <th></th>\n",
       "      <th></th>\n",
       "    </tr>\n",
       "  </thead>\n",
       "  <tbody>\n",
       "    <tr>\n",
       "      <th>246</th>\n",
       "      <td>6752</td>\n",
       "      <td>6736</td>\n",
       "      <td>-16</td>\n",
       "      <td>-0.24%</td>\n",
       "    </tr>\n",
       "    <tr>\n",
       "      <th>247</th>\n",
       "      <td>6698</td>\n",
       "      <td>6675</td>\n",
       "      <td>-23</td>\n",
       "      <td>-0.34%</td>\n",
       "    </tr>\n",
       "    <tr>\n",
       "      <th>248</th>\n",
       "      <td>6745</td>\n",
       "      <td>6714</td>\n",
       "      <td>-31</td>\n",
       "      <td>-0.46%</td>\n",
       "    </tr>\n",
       "  </tbody>\n",
       "</table>\n",
       "</div>"
      ],
      "text/plain": [
       "       users_data_raw  users_data  difference percent\n",
       "group                                                \n",
       "246              6752        6736         -16  -0.24%\n",
       "247              6698        6675         -23  -0.34%\n",
       "248              6745        6714         -31  -0.46%"
      ]
     },
     "execution_count": 113,
     "metadata": {},
     "output_type": "execute_result"
    }
   ],
   "source": [
    "changes_users = (changes\n",
    "                  .groupby(by = ['group'])\n",
    "                  .agg({'users_data_raw':'sum', 'users_data':'sum'}))\n",
    "\n",
    "changes_users['difference'] = changes_users['users_data'] - changes_users['users_data_raw']\n",
    "changes_users['percent'] = changes_users['users_data']/changes_users['users_data_raw'] - 1\n",
    "\n",
    "for i in changes_users.index:    \n",
    "    changes_users.loc[i, 'percent'] = '{:.2%}'.format(changes_users.loc[i, 'percent'])\n",
    "    \n",
    "changes_users"
   ]
  },
  {
   "cell_type": "markdown",
   "metadata": {},
   "source": [
    "В результате сокращения периода, количество уникальных пользователей уменьшилось от 16 до 31, наибольшее уменьшение произошло в группе 248. В процентном выражение такие изменения составляют менее 0.5%, что является незначительным изменением."
   ]
  },
  {
   "cell_type": "markdown",
   "metadata": {},
   "source": [
    "## Воронка событий"
   ]
  },
  {
   "cell_type": "markdown",
   "metadata": {},
   "source": [
    "Рассмотрим виды событий и насколько часто они встречаются."
   ]
  },
  {
   "cell_type": "code",
   "execution_count": 114,
   "metadata": {},
   "outputs": [
    {
     "data": {
      "text/html": [
       "<div>\n",
       "<style scoped>\n",
       "    .dataframe tbody tr th:only-of-type {\n",
       "        vertical-align: middle;\n",
       "    }\n",
       "\n",
       "    .dataframe tbody tr th {\n",
       "        vertical-align: top;\n",
       "    }\n",
       "\n",
       "    .dataframe thead th {\n",
       "        text-align: right;\n",
       "    }\n",
       "</style>\n",
       "<table border=\"1\" class=\"dataframe\">\n",
       "  <thead>\n",
       "    <tr style=\"text-align: right;\">\n",
       "      <th></th>\n",
       "      <th>event</th>\n",
       "      <th>event_number</th>\n",
       "    </tr>\n",
       "  </thead>\n",
       "  <tbody>\n",
       "    <tr>\n",
       "      <th>0</th>\n",
       "      <td>MainScreenAppear</td>\n",
       "      <td>117328</td>\n",
       "    </tr>\n",
       "    <tr>\n",
       "      <th>1</th>\n",
       "      <td>OffersScreenAppear</td>\n",
       "      <td>46333</td>\n",
       "    </tr>\n",
       "    <tr>\n",
       "      <th>2</th>\n",
       "      <td>CartScreenAppear</td>\n",
       "      <td>42303</td>\n",
       "    </tr>\n",
       "    <tr>\n",
       "      <th>3</th>\n",
       "      <td>PaymentScreenSuccessful</td>\n",
       "      <td>33918</td>\n",
       "    </tr>\n",
       "    <tr>\n",
       "      <th>4</th>\n",
       "      <td>Tutorial</td>\n",
       "      <td>1005</td>\n",
       "    </tr>\n",
       "  </tbody>\n",
       "</table>\n",
       "</div>"
      ],
      "text/plain": [
       "                     event  event_number\n",
       "0         MainScreenAppear        117328\n",
       "1       OffersScreenAppear         46333\n",
       "2         CartScreenAppear         42303\n",
       "3  PaymentScreenSuccessful         33918\n",
       "4                 Tutorial          1005"
      ]
     },
     "execution_count": 114,
     "metadata": {},
     "output_type": "execute_result"
    }
   ],
   "source": [
    "data_events = data.pivot_table(index = 'event', values = 'event_time', aggfunc = 'count')\n",
    "data_events = data_events.rename(columns = {'event_time':'event_number'})\n",
    "\n",
    "data_events.sort_values(by = 'event_number', ascending = False).reset_index()"
   ]
  },
  {
   "cell_type": "markdown",
   "metadata": {},
   "source": [
    "Наиболее часто встречающимся событием является MainScreenAppear, самое редкое событие - Tutorial.\n",
    "\n",
    "Определим количество уникальных пользователей, которые совершали каждое из этих событий."
   ]
  },
  {
   "cell_type": "code",
   "execution_count": 115,
   "metadata": {},
   "outputs": [
    {
     "data": {
      "text/html": [
       "<div>\n",
       "<style scoped>\n",
       "    .dataframe tbody tr th:only-of-type {\n",
       "        vertical-align: middle;\n",
       "    }\n",
       "\n",
       "    .dataframe tbody tr th {\n",
       "        vertical-align: top;\n",
       "    }\n",
       "\n",
       "    .dataframe thead th {\n",
       "        text-align: right;\n",
       "    }\n",
       "</style>\n",
       "<table border=\"1\" class=\"dataframe\">\n",
       "  <thead>\n",
       "    <tr style=\"text-align: right;\">\n",
       "      <th></th>\n",
       "      <th>event</th>\n",
       "      <th>event_number</th>\n",
       "      <th>user_number</th>\n",
       "    </tr>\n",
       "  </thead>\n",
       "  <tbody>\n",
       "    <tr>\n",
       "      <th>0</th>\n",
       "      <td>MainScreenAppear</td>\n",
       "      <td>117328</td>\n",
       "      <td>7419</td>\n",
       "    </tr>\n",
       "    <tr>\n",
       "      <th>1</th>\n",
       "      <td>OffersScreenAppear</td>\n",
       "      <td>46333</td>\n",
       "      <td>4593</td>\n",
       "    </tr>\n",
       "    <tr>\n",
       "      <th>2</th>\n",
       "      <td>CartScreenAppear</td>\n",
       "      <td>42303</td>\n",
       "      <td>3734</td>\n",
       "    </tr>\n",
       "    <tr>\n",
       "      <th>3</th>\n",
       "      <td>PaymentScreenSuccessful</td>\n",
       "      <td>33918</td>\n",
       "      <td>3539</td>\n",
       "    </tr>\n",
       "    <tr>\n",
       "      <th>4</th>\n",
       "      <td>Tutorial</td>\n",
       "      <td>1005</td>\n",
       "      <td>840</td>\n",
       "    </tr>\n",
       "  </tbody>\n",
       "</table>\n",
       "</div>"
      ],
      "text/plain": [
       "                     event  event_number  user_number\n",
       "0         MainScreenAppear        117328         7419\n",
       "1       OffersScreenAppear         46333         4593\n",
       "2         CartScreenAppear         42303         3734\n",
       "3  PaymentScreenSuccessful         33918         3539\n",
       "4                 Tutorial          1005          840"
      ]
     },
     "execution_count": 115,
     "metadata": {},
     "output_type": "execute_result"
    }
   ],
   "source": [
    "data_users = data.groupby('event', as_index = False).agg({'event_time':'count', 'user_id':'nunique'})\n",
    "data_users = data_users.rename(columns = {'event_time':'event_number', 'user_id':'user_number'})\n",
    "\n",
    "data_users.sort_values(by = 'user_number', ascending = False).reset_index(drop=True)"
   ]
  },
  {
   "cell_type": "markdown",
   "metadata": {},
   "source": [
    "Рассчитаем долю пользователей, которые хоть раз совершали каждое из данных событий. Для этого определим общее количество уникальных пользователей, после чего число участников каждого события на данное число."
   ]
  },
  {
   "cell_type": "code",
   "execution_count": 116,
   "metadata": {},
   "outputs": [],
   "source": [
    "all_users = len(data['user_id'].unique())"
   ]
  },
  {
   "cell_type": "code",
   "execution_count": 117,
   "metadata": {
    "scrolled": true
   },
   "outputs": [
    {
     "data": {
      "text/html": [
       "<div>\n",
       "<style scoped>\n",
       "    .dataframe tbody tr th:only-of-type {\n",
       "        vertical-align: middle;\n",
       "    }\n",
       "\n",
       "    .dataframe tbody tr th {\n",
       "        vertical-align: top;\n",
       "    }\n",
       "\n",
       "    .dataframe thead th {\n",
       "        text-align: right;\n",
       "    }\n",
       "</style>\n",
       "<table border=\"1\" class=\"dataframe\">\n",
       "  <thead>\n",
       "    <tr style=\"text-align: right;\">\n",
       "      <th></th>\n",
       "      <th>event</th>\n",
       "      <th>event_number</th>\n",
       "      <th>user_number</th>\n",
       "      <th>active_part</th>\n",
       "    </tr>\n",
       "  </thead>\n",
       "  <tbody>\n",
       "    <tr>\n",
       "      <th>0</th>\n",
       "      <td>MainScreenAppear</td>\n",
       "      <td>117328</td>\n",
       "      <td>7419</td>\n",
       "      <td>0.98</td>\n",
       "    </tr>\n",
       "    <tr>\n",
       "      <th>1</th>\n",
       "      <td>OffersScreenAppear</td>\n",
       "      <td>46333</td>\n",
       "      <td>4593</td>\n",
       "      <td>0.61</td>\n",
       "    </tr>\n",
       "    <tr>\n",
       "      <th>2</th>\n",
       "      <td>CartScreenAppear</td>\n",
       "      <td>42303</td>\n",
       "      <td>3734</td>\n",
       "      <td>0.50</td>\n",
       "    </tr>\n",
       "    <tr>\n",
       "      <th>3</th>\n",
       "      <td>PaymentScreenSuccessful</td>\n",
       "      <td>33918</td>\n",
       "      <td>3539</td>\n",
       "      <td>0.47</td>\n",
       "    </tr>\n",
       "    <tr>\n",
       "      <th>4</th>\n",
       "      <td>Tutorial</td>\n",
       "      <td>1005</td>\n",
       "      <td>840</td>\n",
       "      <td>0.11</td>\n",
       "    </tr>\n",
       "  </tbody>\n",
       "</table>\n",
       "</div>"
      ],
      "text/plain": [
       "                     event  event_number  user_number  active_part\n",
       "0         MainScreenAppear        117328         7419         0.98\n",
       "1       OffersScreenAppear         46333         4593         0.61\n",
       "2         CartScreenAppear         42303         3734         0.50\n",
       "3  PaymentScreenSuccessful         33918         3539         0.47\n",
       "4                 Tutorial          1005          840         0.11"
      ]
     },
     "execution_count": 117,
     "metadata": {},
     "output_type": "execute_result"
    }
   ],
   "source": [
    "data_users['active_part'] = round((data_users['user_number'] / all_users), 2)\n",
    "data_users.sort_values(by = 'active_part', ascending = False).reset_index(drop=True)"
   ]
  },
  {
   "cell_type": "markdown",
   "metadata": {},
   "source": [
    "Учитывая данные в полученной таблице, можно сделать вывод, что воронка событий может быть представлена в последовательности представленной сортировки:\n",
    "1. MainScreenAppear \n",
    "2. OffersScreenAppear \n",
    "3. CartScreenAppear \n",
    "4. PaymentScreenSuccessful\n",
    "\n",
    "В воронке стоит учитывать все события кроме Tutorial, поскольку это обучаюшая страница, не влияющая на воронку событий, представляющую собой процесс оформления заказа продуктов в приложении. Только 11% от всех пользователей нуждались в изучении данной информации.\n",
    "\n",
    "В связи с этим, удалим из воронки данные о событии Tutorial, после чего рассчитаем конверсию пользователей (долю перехода на каждый шаг воронки по отношению к предыдущему шагу)."
   ]
  },
  {
   "cell_type": "code",
   "execution_count": 118,
   "metadata": {},
   "outputs": [],
   "source": [
    "data_users_funnel = (data_users\n",
    "              .query('event != \"Tutorial\"')\n",
    "              .sort_values(by = 'user_number', ascending = False).reset_index(drop=True))\n",
    "\n",
    "del data_users_funnel['active_part']\n",
    "\n",
    "for i in data_users_funnel.index:\n",
    "    if i==0:\n",
    "        data_users_funnel.loc[i, 'conversion'] = 1\n",
    "    else:\n",
    "        data_users_funnel.loc[i, 'conversion'] = round((data_users_funnel.loc[i, 'user_number'] / data_users_funnel.loc[(i-1), 'user_number']), 2)\n",
    "   "
   ]
  },
  {
   "cell_type": "code",
   "execution_count": 119,
   "metadata": {},
   "outputs": [
    {
     "data": {
      "text/html": [
       "<div>\n",
       "<style scoped>\n",
       "    .dataframe tbody tr th:only-of-type {\n",
       "        vertical-align: middle;\n",
       "    }\n",
       "\n",
       "    .dataframe tbody tr th {\n",
       "        vertical-align: top;\n",
       "    }\n",
       "\n",
       "    .dataframe thead th {\n",
       "        text-align: right;\n",
       "    }\n",
       "</style>\n",
       "<table border=\"1\" class=\"dataframe\">\n",
       "  <thead>\n",
       "    <tr style=\"text-align: right;\">\n",
       "      <th></th>\n",
       "      <th>event</th>\n",
       "      <th>event_number</th>\n",
       "      <th>user_number</th>\n",
       "      <th>conversion</th>\n",
       "    </tr>\n",
       "  </thead>\n",
       "  <tbody>\n",
       "    <tr>\n",
       "      <th>0</th>\n",
       "      <td>MainScreenAppear</td>\n",
       "      <td>117328</td>\n",
       "      <td>7419</td>\n",
       "      <td>1.00</td>\n",
       "    </tr>\n",
       "    <tr>\n",
       "      <th>1</th>\n",
       "      <td>OffersScreenAppear</td>\n",
       "      <td>46333</td>\n",
       "      <td>4593</td>\n",
       "      <td>0.62</td>\n",
       "    </tr>\n",
       "    <tr>\n",
       "      <th>2</th>\n",
       "      <td>CartScreenAppear</td>\n",
       "      <td>42303</td>\n",
       "      <td>3734</td>\n",
       "      <td>0.81</td>\n",
       "    </tr>\n",
       "    <tr>\n",
       "      <th>3</th>\n",
       "      <td>PaymentScreenSuccessful</td>\n",
       "      <td>33918</td>\n",
       "      <td>3539</td>\n",
       "      <td>0.95</td>\n",
       "    </tr>\n",
       "  </tbody>\n",
       "</table>\n",
       "</div>"
      ],
      "text/plain": [
       "                     event  event_number  user_number  conversion\n",
       "0         MainScreenAppear        117328         7419        1.00\n",
       "1       OffersScreenAppear         46333         4593        0.62\n",
       "2         CartScreenAppear         42303         3734        0.81\n",
       "3  PaymentScreenSuccessful         33918         3539        0.95"
      ]
     },
     "execution_count": 119,
     "metadata": {},
     "output_type": "execute_result"
    }
   ],
   "source": [
    "data_users_funnel"
   ]
  },
  {
   "cell_type": "markdown",
   "metadata": {},
   "source": [
    "Наибольшее количество пользователей теряется при переходе от MainScreenAppear к OffersScreenAppear, только 62% пользователей переходит на второй этап.\n",
    "\n",
    "Наиболее эффективным переходом является переход от CartScreenAppear к PaymentScreenSuccessful, т.е. 95% пользователей, положивших товары в корзину, оплачивают свои покупки.\n",
    "\n",
    "Рассчитаем долю пользователей, которые доходят от первого события до оплаты:"
   ]
  },
  {
   "cell_type": "code",
   "execution_count": 120,
   "metadata": {},
   "outputs": [
    {
     "name": "stdout",
     "output_type": "stream",
     "text": [
      "Процент пользователей, которые доходят от первого события до оплаты: 48.00%\n"
     ]
    }
   ],
   "source": [
    "total_conversion = round((data_users_funnel.loc[(len(data_users_funnel.index)-1), 'user_number'] / data_users_funnel.loc[0, 'user_number']), 2)\n",
    "\n",
    "print('Процент пользователей, которые доходят от первого события до оплаты: {0:.2%}'.format(total_conversion))\n"
   ]
  },
  {
   "cell_type": "markdown",
   "metadata": {},
   "source": [
    "Отобразим воронку событий графически."
   ]
  },
  {
   "cell_type": "code",
   "execution_count": 121,
   "metadata": {},
   "outputs": [
    {
     "data": {
      "application/vnd.plotly.v1+json": {
       "config": {
        "plotlyServerURL": "https://plot.ly"
       },
       "data": [
        {
         "marker": {
          "color": [
           "darkcyan",
           "lightseagreen",
           "lightskyblue",
           "cornflowerblue"
          ]
         },
         "textinfo": "value+percent initial",
         "type": "funnel",
         "x": [
          7419,
          4593,
          3734,
          3539
         ],
         "y": [
          "MainScreenAppear",
          "OffersScreenAppear",
          "CartScreenAppear",
          "PaymentScreenSuccessful"
         ]
        }
       ],
       "layout": {
        "template": {
         "data": {
          "bar": [
           {
            "error_x": {
             "color": "#2a3f5f"
            },
            "error_y": {
             "color": "#2a3f5f"
            },
            "marker": {
             "line": {
              "color": "#E5ECF6",
              "width": 0.5
             },
             "pattern": {
              "fillmode": "overlay",
              "size": 10,
              "solidity": 0.2
             }
            },
            "type": "bar"
           }
          ],
          "barpolar": [
           {
            "marker": {
             "line": {
              "color": "#E5ECF6",
              "width": 0.5
             },
             "pattern": {
              "fillmode": "overlay",
              "size": 10,
              "solidity": 0.2
             }
            },
            "type": "barpolar"
           }
          ],
          "carpet": [
           {
            "aaxis": {
             "endlinecolor": "#2a3f5f",
             "gridcolor": "white",
             "linecolor": "white",
             "minorgridcolor": "white",
             "startlinecolor": "#2a3f5f"
            },
            "baxis": {
             "endlinecolor": "#2a3f5f",
             "gridcolor": "white",
             "linecolor": "white",
             "minorgridcolor": "white",
             "startlinecolor": "#2a3f5f"
            },
            "type": "carpet"
           }
          ],
          "choropleth": [
           {
            "colorbar": {
             "outlinewidth": 0,
             "ticks": ""
            },
            "type": "choropleth"
           }
          ],
          "contour": [
           {
            "colorbar": {
             "outlinewidth": 0,
             "ticks": ""
            },
            "colorscale": [
             [
              0,
              "#0d0887"
             ],
             [
              0.1111111111111111,
              "#46039f"
             ],
             [
              0.2222222222222222,
              "#7201a8"
             ],
             [
              0.3333333333333333,
              "#9c179e"
             ],
             [
              0.4444444444444444,
              "#bd3786"
             ],
             [
              0.5555555555555556,
              "#d8576b"
             ],
             [
              0.6666666666666666,
              "#ed7953"
             ],
             [
              0.7777777777777778,
              "#fb9f3a"
             ],
             [
              0.8888888888888888,
              "#fdca26"
             ],
             [
              1,
              "#f0f921"
             ]
            ],
            "type": "contour"
           }
          ],
          "contourcarpet": [
           {
            "colorbar": {
             "outlinewidth": 0,
             "ticks": ""
            },
            "type": "contourcarpet"
           }
          ],
          "heatmap": [
           {
            "colorbar": {
             "outlinewidth": 0,
             "ticks": ""
            },
            "colorscale": [
             [
              0,
              "#0d0887"
             ],
             [
              0.1111111111111111,
              "#46039f"
             ],
             [
              0.2222222222222222,
              "#7201a8"
             ],
             [
              0.3333333333333333,
              "#9c179e"
             ],
             [
              0.4444444444444444,
              "#bd3786"
             ],
             [
              0.5555555555555556,
              "#d8576b"
             ],
             [
              0.6666666666666666,
              "#ed7953"
             ],
             [
              0.7777777777777778,
              "#fb9f3a"
             ],
             [
              0.8888888888888888,
              "#fdca26"
             ],
             [
              1,
              "#f0f921"
             ]
            ],
            "type": "heatmap"
           }
          ],
          "heatmapgl": [
           {
            "colorbar": {
             "outlinewidth": 0,
             "ticks": ""
            },
            "colorscale": [
             [
              0,
              "#0d0887"
             ],
             [
              0.1111111111111111,
              "#46039f"
             ],
             [
              0.2222222222222222,
              "#7201a8"
             ],
             [
              0.3333333333333333,
              "#9c179e"
             ],
             [
              0.4444444444444444,
              "#bd3786"
             ],
             [
              0.5555555555555556,
              "#d8576b"
             ],
             [
              0.6666666666666666,
              "#ed7953"
             ],
             [
              0.7777777777777778,
              "#fb9f3a"
             ],
             [
              0.8888888888888888,
              "#fdca26"
             ],
             [
              1,
              "#f0f921"
             ]
            ],
            "type": "heatmapgl"
           }
          ],
          "histogram": [
           {
            "marker": {
             "pattern": {
              "fillmode": "overlay",
              "size": 10,
              "solidity": 0.2
             }
            },
            "type": "histogram"
           }
          ],
          "histogram2d": [
           {
            "colorbar": {
             "outlinewidth": 0,
             "ticks": ""
            },
            "colorscale": [
             [
              0,
              "#0d0887"
             ],
             [
              0.1111111111111111,
              "#46039f"
             ],
             [
              0.2222222222222222,
              "#7201a8"
             ],
             [
              0.3333333333333333,
              "#9c179e"
             ],
             [
              0.4444444444444444,
              "#bd3786"
             ],
             [
              0.5555555555555556,
              "#d8576b"
             ],
             [
              0.6666666666666666,
              "#ed7953"
             ],
             [
              0.7777777777777778,
              "#fb9f3a"
             ],
             [
              0.8888888888888888,
              "#fdca26"
             ],
             [
              1,
              "#f0f921"
             ]
            ],
            "type": "histogram2d"
           }
          ],
          "histogram2dcontour": [
           {
            "colorbar": {
             "outlinewidth": 0,
             "ticks": ""
            },
            "colorscale": [
             [
              0,
              "#0d0887"
             ],
             [
              0.1111111111111111,
              "#46039f"
             ],
             [
              0.2222222222222222,
              "#7201a8"
             ],
             [
              0.3333333333333333,
              "#9c179e"
             ],
             [
              0.4444444444444444,
              "#bd3786"
             ],
             [
              0.5555555555555556,
              "#d8576b"
             ],
             [
              0.6666666666666666,
              "#ed7953"
             ],
             [
              0.7777777777777778,
              "#fb9f3a"
             ],
             [
              0.8888888888888888,
              "#fdca26"
             ],
             [
              1,
              "#f0f921"
             ]
            ],
            "type": "histogram2dcontour"
           }
          ],
          "mesh3d": [
           {
            "colorbar": {
             "outlinewidth": 0,
             "ticks": ""
            },
            "type": "mesh3d"
           }
          ],
          "parcoords": [
           {
            "line": {
             "colorbar": {
              "outlinewidth": 0,
              "ticks": ""
             }
            },
            "type": "parcoords"
           }
          ],
          "pie": [
           {
            "automargin": true,
            "type": "pie"
           }
          ],
          "scatter": [
           {
            "fillpattern": {
             "fillmode": "overlay",
             "size": 10,
             "solidity": 0.2
            },
            "type": "scatter"
           }
          ],
          "scatter3d": [
           {
            "line": {
             "colorbar": {
              "outlinewidth": 0,
              "ticks": ""
             }
            },
            "marker": {
             "colorbar": {
              "outlinewidth": 0,
              "ticks": ""
             }
            },
            "type": "scatter3d"
           }
          ],
          "scattercarpet": [
           {
            "marker": {
             "colorbar": {
              "outlinewidth": 0,
              "ticks": ""
             }
            },
            "type": "scattercarpet"
           }
          ],
          "scattergeo": [
           {
            "marker": {
             "colorbar": {
              "outlinewidth": 0,
              "ticks": ""
             }
            },
            "type": "scattergeo"
           }
          ],
          "scattergl": [
           {
            "marker": {
             "colorbar": {
              "outlinewidth": 0,
              "ticks": ""
             }
            },
            "type": "scattergl"
           }
          ],
          "scattermapbox": [
           {
            "marker": {
             "colorbar": {
              "outlinewidth": 0,
              "ticks": ""
             }
            },
            "type": "scattermapbox"
           }
          ],
          "scatterpolar": [
           {
            "marker": {
             "colorbar": {
              "outlinewidth": 0,
              "ticks": ""
             }
            },
            "type": "scatterpolar"
           }
          ],
          "scatterpolargl": [
           {
            "marker": {
             "colorbar": {
              "outlinewidth": 0,
              "ticks": ""
             }
            },
            "type": "scatterpolargl"
           }
          ],
          "scatterternary": [
           {
            "marker": {
             "colorbar": {
              "outlinewidth": 0,
              "ticks": ""
             }
            },
            "type": "scatterternary"
           }
          ],
          "surface": [
           {
            "colorbar": {
             "outlinewidth": 0,
             "ticks": ""
            },
            "colorscale": [
             [
              0,
              "#0d0887"
             ],
             [
              0.1111111111111111,
              "#46039f"
             ],
             [
              0.2222222222222222,
              "#7201a8"
             ],
             [
              0.3333333333333333,
              "#9c179e"
             ],
             [
              0.4444444444444444,
              "#bd3786"
             ],
             [
              0.5555555555555556,
              "#d8576b"
             ],
             [
              0.6666666666666666,
              "#ed7953"
             ],
             [
              0.7777777777777778,
              "#fb9f3a"
             ],
             [
              0.8888888888888888,
              "#fdca26"
             ],
             [
              1,
              "#f0f921"
             ]
            ],
            "type": "surface"
           }
          ],
          "table": [
           {
            "cells": {
             "fill": {
              "color": "#EBF0F8"
             },
             "line": {
              "color": "white"
             }
            },
            "header": {
             "fill": {
              "color": "#C8D4E3"
             },
             "line": {
              "color": "white"
             }
            },
            "type": "table"
           }
          ]
         },
         "layout": {
          "annotationdefaults": {
           "arrowcolor": "#2a3f5f",
           "arrowhead": 0,
           "arrowwidth": 1
          },
          "autotypenumbers": "strict",
          "coloraxis": {
           "colorbar": {
            "outlinewidth": 0,
            "ticks": ""
           }
          },
          "colorscale": {
           "diverging": [
            [
             0,
             "#8e0152"
            ],
            [
             0.1,
             "#c51b7d"
            ],
            [
             0.2,
             "#de77ae"
            ],
            [
             0.3,
             "#f1b6da"
            ],
            [
             0.4,
             "#fde0ef"
            ],
            [
             0.5,
             "#f7f7f7"
            ],
            [
             0.6,
             "#e6f5d0"
            ],
            [
             0.7,
             "#b8e186"
            ],
            [
             0.8,
             "#7fbc41"
            ],
            [
             0.9,
             "#4d9221"
            ],
            [
             1,
             "#276419"
            ]
           ],
           "sequential": [
            [
             0,
             "#0d0887"
            ],
            [
             0.1111111111111111,
             "#46039f"
            ],
            [
             0.2222222222222222,
             "#7201a8"
            ],
            [
             0.3333333333333333,
             "#9c179e"
            ],
            [
             0.4444444444444444,
             "#bd3786"
            ],
            [
             0.5555555555555556,
             "#d8576b"
            ],
            [
             0.6666666666666666,
             "#ed7953"
            ],
            [
             0.7777777777777778,
             "#fb9f3a"
            ],
            [
             0.8888888888888888,
             "#fdca26"
            ],
            [
             1,
             "#f0f921"
            ]
           ],
           "sequentialminus": [
            [
             0,
             "#0d0887"
            ],
            [
             0.1111111111111111,
             "#46039f"
            ],
            [
             0.2222222222222222,
             "#7201a8"
            ],
            [
             0.3333333333333333,
             "#9c179e"
            ],
            [
             0.4444444444444444,
             "#bd3786"
            ],
            [
             0.5555555555555556,
             "#d8576b"
            ],
            [
             0.6666666666666666,
             "#ed7953"
            ],
            [
             0.7777777777777778,
             "#fb9f3a"
            ],
            [
             0.8888888888888888,
             "#fdca26"
            ],
            [
             1,
             "#f0f921"
            ]
           ]
          },
          "colorway": [
           "#636efa",
           "#EF553B",
           "#00cc96",
           "#ab63fa",
           "#FFA15A",
           "#19d3f3",
           "#FF6692",
           "#B6E880",
           "#FF97FF",
           "#FECB52"
          ],
          "font": {
           "color": "#2a3f5f"
          },
          "geo": {
           "bgcolor": "white",
           "lakecolor": "white",
           "landcolor": "#E5ECF6",
           "showlakes": true,
           "showland": true,
           "subunitcolor": "white"
          },
          "hoverlabel": {
           "align": "left"
          },
          "hovermode": "closest",
          "mapbox": {
           "style": "light"
          },
          "paper_bgcolor": "white",
          "plot_bgcolor": "#E5ECF6",
          "polar": {
           "angularaxis": {
            "gridcolor": "white",
            "linecolor": "white",
            "ticks": ""
           },
           "bgcolor": "#E5ECF6",
           "radialaxis": {
            "gridcolor": "white",
            "linecolor": "white",
            "ticks": ""
           }
          },
          "scene": {
           "xaxis": {
            "backgroundcolor": "#E5ECF6",
            "gridcolor": "white",
            "gridwidth": 2,
            "linecolor": "white",
            "showbackground": true,
            "ticks": "",
            "zerolinecolor": "white"
           },
           "yaxis": {
            "backgroundcolor": "#E5ECF6",
            "gridcolor": "white",
            "gridwidth": 2,
            "linecolor": "white",
            "showbackground": true,
            "ticks": "",
            "zerolinecolor": "white"
           },
           "zaxis": {
            "backgroundcolor": "#E5ECF6",
            "gridcolor": "white",
            "gridwidth": 2,
            "linecolor": "white",
            "showbackground": true,
            "ticks": "",
            "zerolinecolor": "white"
           }
          },
          "shapedefaults": {
           "line": {
            "color": "#2a3f5f"
           }
          },
          "ternary": {
           "aaxis": {
            "gridcolor": "white",
            "linecolor": "white",
            "ticks": ""
           },
           "baxis": {
            "gridcolor": "white",
            "linecolor": "white",
            "ticks": ""
           },
           "bgcolor": "#E5ECF6",
           "caxis": {
            "gridcolor": "white",
            "linecolor": "white",
            "ticks": ""
           }
          },
          "title": {
           "x": 0.05
          },
          "xaxis": {
           "automargin": true,
           "gridcolor": "white",
           "linecolor": "white",
           "ticks": "",
           "title": {
            "standoff": 15
           },
           "zerolinecolor": "white",
           "zerolinewidth": 2
          },
          "yaxis": {
           "automargin": true,
           "gridcolor": "white",
           "linecolor": "white",
           "ticks": "",
           "title": {
            "standoff": 15
           },
           "zerolinecolor": "white",
           "zerolinewidth": 2
          }
         }
        },
        "title": {
         "text": "Воронка событий"
        },
        "yaxis": {
         "title": {
          "text": "Тип события"
         }
        }
       }
      },
      "text/html": [
       "<div>                            <div id=\"f92192c8-ee6f-4778-ad5d-fc84ea5f9fae\" class=\"plotly-graph-div\" style=\"height:525px; width:100%;\"></div>            <script type=\"text/javascript\">                require([\"plotly\"], function(Plotly) {                    window.PLOTLYENV=window.PLOTLYENV || {};                                    if (document.getElementById(\"f92192c8-ee6f-4778-ad5d-fc84ea5f9fae\")) {                    Plotly.newPlot(                        \"f92192c8-ee6f-4778-ad5d-fc84ea5f9fae\",                        [{\"marker\":{\"color\":[\"darkcyan\",\"lightseagreen\",\"lightskyblue\",\"cornflowerblue\"]},\"textinfo\":\"value+percent initial\",\"x\":[7419,4593,3734,3539],\"y\":[\"MainScreenAppear\",\"OffersScreenAppear\",\"CartScreenAppear\",\"PaymentScreenSuccessful\"],\"type\":\"funnel\"}],                        {\"template\":{\"data\":{\"histogram2dcontour\":[{\"type\":\"histogram2dcontour\",\"colorbar\":{\"outlinewidth\":0,\"ticks\":\"\"},\"colorscale\":[[0.0,\"#0d0887\"],[0.1111111111111111,\"#46039f\"],[0.2222222222222222,\"#7201a8\"],[0.3333333333333333,\"#9c179e\"],[0.4444444444444444,\"#bd3786\"],[0.5555555555555556,\"#d8576b\"],[0.6666666666666666,\"#ed7953\"],[0.7777777777777778,\"#fb9f3a\"],[0.8888888888888888,\"#fdca26\"],[1.0,\"#f0f921\"]]}],\"choropleth\":[{\"type\":\"choropleth\",\"colorbar\":{\"outlinewidth\":0,\"ticks\":\"\"}}],\"histogram2d\":[{\"type\":\"histogram2d\",\"colorbar\":{\"outlinewidth\":0,\"ticks\":\"\"},\"colorscale\":[[0.0,\"#0d0887\"],[0.1111111111111111,\"#46039f\"],[0.2222222222222222,\"#7201a8\"],[0.3333333333333333,\"#9c179e\"],[0.4444444444444444,\"#bd3786\"],[0.5555555555555556,\"#d8576b\"],[0.6666666666666666,\"#ed7953\"],[0.7777777777777778,\"#fb9f3a\"],[0.8888888888888888,\"#fdca26\"],[1.0,\"#f0f921\"]]}],\"heatmap\":[{\"type\":\"heatmap\",\"colorbar\":{\"outlinewidth\":0,\"ticks\":\"\"},\"colorscale\":[[0.0,\"#0d0887\"],[0.1111111111111111,\"#46039f\"],[0.2222222222222222,\"#7201a8\"],[0.3333333333333333,\"#9c179e\"],[0.4444444444444444,\"#bd3786\"],[0.5555555555555556,\"#d8576b\"],[0.6666666666666666,\"#ed7953\"],[0.7777777777777778,\"#fb9f3a\"],[0.8888888888888888,\"#fdca26\"],[1.0,\"#f0f921\"]]}],\"heatmapgl\":[{\"type\":\"heatmapgl\",\"colorbar\":{\"outlinewidth\":0,\"ticks\":\"\"},\"colorscale\":[[0.0,\"#0d0887\"],[0.1111111111111111,\"#46039f\"],[0.2222222222222222,\"#7201a8\"],[0.3333333333333333,\"#9c179e\"],[0.4444444444444444,\"#bd3786\"],[0.5555555555555556,\"#d8576b\"],[0.6666666666666666,\"#ed7953\"],[0.7777777777777778,\"#fb9f3a\"],[0.8888888888888888,\"#fdca26\"],[1.0,\"#f0f921\"]]}],\"contourcarpet\":[{\"type\":\"contourcarpet\",\"colorbar\":{\"outlinewidth\":0,\"ticks\":\"\"}}],\"contour\":[{\"type\":\"contour\",\"colorbar\":{\"outlinewidth\":0,\"ticks\":\"\"},\"colorscale\":[[0.0,\"#0d0887\"],[0.1111111111111111,\"#46039f\"],[0.2222222222222222,\"#7201a8\"],[0.3333333333333333,\"#9c179e\"],[0.4444444444444444,\"#bd3786\"],[0.5555555555555556,\"#d8576b\"],[0.6666666666666666,\"#ed7953\"],[0.7777777777777778,\"#fb9f3a\"],[0.8888888888888888,\"#fdca26\"],[1.0,\"#f0f921\"]]}],\"surface\":[{\"type\":\"surface\",\"colorbar\":{\"outlinewidth\":0,\"ticks\":\"\"},\"colorscale\":[[0.0,\"#0d0887\"],[0.1111111111111111,\"#46039f\"],[0.2222222222222222,\"#7201a8\"],[0.3333333333333333,\"#9c179e\"],[0.4444444444444444,\"#bd3786\"],[0.5555555555555556,\"#d8576b\"],[0.6666666666666666,\"#ed7953\"],[0.7777777777777778,\"#fb9f3a\"],[0.8888888888888888,\"#fdca26\"],[1.0,\"#f0f921\"]]}],\"mesh3d\":[{\"type\":\"mesh3d\",\"colorbar\":{\"outlinewidth\":0,\"ticks\":\"\"}}],\"scatter\":[{\"fillpattern\":{\"fillmode\":\"overlay\",\"size\":10,\"solidity\":0.2},\"type\":\"scatter\"}],\"parcoords\":[{\"type\":\"parcoords\",\"line\":{\"colorbar\":{\"outlinewidth\":0,\"ticks\":\"\"}}}],\"scatterpolargl\":[{\"type\":\"scatterpolargl\",\"marker\":{\"colorbar\":{\"outlinewidth\":0,\"ticks\":\"\"}}}],\"bar\":[{\"error_x\":{\"color\":\"#2a3f5f\"},\"error_y\":{\"color\":\"#2a3f5f\"},\"marker\":{\"line\":{\"color\":\"#E5ECF6\",\"width\":0.5},\"pattern\":{\"fillmode\":\"overlay\",\"size\":10,\"solidity\":0.2}},\"type\":\"bar\"}],\"scattergeo\":[{\"type\":\"scattergeo\",\"marker\":{\"colorbar\":{\"outlinewidth\":0,\"ticks\":\"\"}}}],\"scatterpolar\":[{\"type\":\"scatterpolar\",\"marker\":{\"colorbar\":{\"outlinewidth\":0,\"ticks\":\"\"}}}],\"histogram\":[{\"marker\":{\"pattern\":{\"fillmode\":\"overlay\",\"size\":10,\"solidity\":0.2}},\"type\":\"histogram\"}],\"scattergl\":[{\"type\":\"scattergl\",\"marker\":{\"colorbar\":{\"outlinewidth\":0,\"ticks\":\"\"}}}],\"scatter3d\":[{\"type\":\"scatter3d\",\"line\":{\"colorbar\":{\"outlinewidth\":0,\"ticks\":\"\"}},\"marker\":{\"colorbar\":{\"outlinewidth\":0,\"ticks\":\"\"}}}],\"scattermapbox\":[{\"type\":\"scattermapbox\",\"marker\":{\"colorbar\":{\"outlinewidth\":0,\"ticks\":\"\"}}}],\"scatterternary\":[{\"type\":\"scatterternary\",\"marker\":{\"colorbar\":{\"outlinewidth\":0,\"ticks\":\"\"}}}],\"scattercarpet\":[{\"type\":\"scattercarpet\",\"marker\":{\"colorbar\":{\"outlinewidth\":0,\"ticks\":\"\"}}}],\"carpet\":[{\"aaxis\":{\"endlinecolor\":\"#2a3f5f\",\"gridcolor\":\"white\",\"linecolor\":\"white\",\"minorgridcolor\":\"white\",\"startlinecolor\":\"#2a3f5f\"},\"baxis\":{\"endlinecolor\":\"#2a3f5f\",\"gridcolor\":\"white\",\"linecolor\":\"white\",\"minorgridcolor\":\"white\",\"startlinecolor\":\"#2a3f5f\"},\"type\":\"carpet\"}],\"table\":[{\"cells\":{\"fill\":{\"color\":\"#EBF0F8\"},\"line\":{\"color\":\"white\"}},\"header\":{\"fill\":{\"color\":\"#C8D4E3\"},\"line\":{\"color\":\"white\"}},\"type\":\"table\"}],\"barpolar\":[{\"marker\":{\"line\":{\"color\":\"#E5ECF6\",\"width\":0.5},\"pattern\":{\"fillmode\":\"overlay\",\"size\":10,\"solidity\":0.2}},\"type\":\"barpolar\"}],\"pie\":[{\"automargin\":true,\"type\":\"pie\"}]},\"layout\":{\"autotypenumbers\":\"strict\",\"colorway\":[\"#636efa\",\"#EF553B\",\"#00cc96\",\"#ab63fa\",\"#FFA15A\",\"#19d3f3\",\"#FF6692\",\"#B6E880\",\"#FF97FF\",\"#FECB52\"],\"font\":{\"color\":\"#2a3f5f\"},\"hovermode\":\"closest\",\"hoverlabel\":{\"align\":\"left\"},\"paper_bgcolor\":\"white\",\"plot_bgcolor\":\"#E5ECF6\",\"polar\":{\"bgcolor\":\"#E5ECF6\",\"angularaxis\":{\"gridcolor\":\"white\",\"linecolor\":\"white\",\"ticks\":\"\"},\"radialaxis\":{\"gridcolor\":\"white\",\"linecolor\":\"white\",\"ticks\":\"\"}},\"ternary\":{\"bgcolor\":\"#E5ECF6\",\"aaxis\":{\"gridcolor\":\"white\",\"linecolor\":\"white\",\"ticks\":\"\"},\"baxis\":{\"gridcolor\":\"white\",\"linecolor\":\"white\",\"ticks\":\"\"},\"caxis\":{\"gridcolor\":\"white\",\"linecolor\":\"white\",\"ticks\":\"\"}},\"coloraxis\":{\"colorbar\":{\"outlinewidth\":0,\"ticks\":\"\"}},\"colorscale\":{\"sequential\":[[0.0,\"#0d0887\"],[0.1111111111111111,\"#46039f\"],[0.2222222222222222,\"#7201a8\"],[0.3333333333333333,\"#9c179e\"],[0.4444444444444444,\"#bd3786\"],[0.5555555555555556,\"#d8576b\"],[0.6666666666666666,\"#ed7953\"],[0.7777777777777778,\"#fb9f3a\"],[0.8888888888888888,\"#fdca26\"],[1.0,\"#f0f921\"]],\"sequentialminus\":[[0.0,\"#0d0887\"],[0.1111111111111111,\"#46039f\"],[0.2222222222222222,\"#7201a8\"],[0.3333333333333333,\"#9c179e\"],[0.4444444444444444,\"#bd3786\"],[0.5555555555555556,\"#d8576b\"],[0.6666666666666666,\"#ed7953\"],[0.7777777777777778,\"#fb9f3a\"],[0.8888888888888888,\"#fdca26\"],[1.0,\"#f0f921\"]],\"diverging\":[[0,\"#8e0152\"],[0.1,\"#c51b7d\"],[0.2,\"#de77ae\"],[0.3,\"#f1b6da\"],[0.4,\"#fde0ef\"],[0.5,\"#f7f7f7\"],[0.6,\"#e6f5d0\"],[0.7,\"#b8e186\"],[0.8,\"#7fbc41\"],[0.9,\"#4d9221\"],[1,\"#276419\"]]},\"xaxis\":{\"gridcolor\":\"white\",\"linecolor\":\"white\",\"ticks\":\"\",\"title\":{\"standoff\":15},\"zerolinecolor\":\"white\",\"automargin\":true,\"zerolinewidth\":2},\"yaxis\":{\"gridcolor\":\"white\",\"linecolor\":\"white\",\"ticks\":\"\",\"title\":{\"standoff\":15},\"zerolinecolor\":\"white\",\"automargin\":true,\"zerolinewidth\":2},\"scene\":{\"xaxis\":{\"backgroundcolor\":\"#E5ECF6\",\"gridcolor\":\"white\",\"linecolor\":\"white\",\"showbackground\":true,\"ticks\":\"\",\"zerolinecolor\":\"white\",\"gridwidth\":2},\"yaxis\":{\"backgroundcolor\":\"#E5ECF6\",\"gridcolor\":\"white\",\"linecolor\":\"white\",\"showbackground\":true,\"ticks\":\"\",\"zerolinecolor\":\"white\",\"gridwidth\":2},\"zaxis\":{\"backgroundcolor\":\"#E5ECF6\",\"gridcolor\":\"white\",\"linecolor\":\"white\",\"showbackground\":true,\"ticks\":\"\",\"zerolinecolor\":\"white\",\"gridwidth\":2}},\"shapedefaults\":{\"line\":{\"color\":\"#2a3f5f\"}},\"annotationdefaults\":{\"arrowcolor\":\"#2a3f5f\",\"arrowhead\":0,\"arrowwidth\":1},\"geo\":{\"bgcolor\":\"white\",\"landcolor\":\"#E5ECF6\",\"subunitcolor\":\"white\",\"showland\":true,\"showlakes\":true,\"lakecolor\":\"white\"},\"title\":{\"x\":0.05},\"mapbox\":{\"style\":\"light\"}}},\"title\":{\"text\":\"\\u0412\\u043e\\u0440\\u043e\\u043d\\u043a\\u0430 \\u0441\\u043e\\u0431\\u044b\\u0442\\u0438\\u0439\"},\"yaxis\":{\"title\":{\"text\":\"\\u0422\\u0438\\u043f \\u0441\\u043e\\u0431\\u044b\\u0442\\u0438\\u044f\"}}},                        {\"responsive\": true}                    ).then(function(){\n",
       "                            \n",
       "var gd = document.getElementById('f92192c8-ee6f-4778-ad5d-fc84ea5f9fae');\n",
       "var x = new MutationObserver(function (mutations, observer) {{\n",
       "        var display = window.getComputedStyle(gd).display;\n",
       "        if (!display || display === 'none') {{\n",
       "            console.log([gd, 'removed!']);\n",
       "            Plotly.purge(gd);\n",
       "            observer.disconnect();\n",
       "        }}\n",
       "}});\n",
       "\n",
       "// Listen for the removal of the full notebook cells\n",
       "var notebookContainer = gd.closest('#notebook-container');\n",
       "if (notebookContainer) {{\n",
       "    x.observe(notebookContainer, {childList: true});\n",
       "}}\n",
       "\n",
       "// Listen for the clearing of the current output cell\n",
       "var outputEl = gd.closest('.output');\n",
       "if (outputEl) {{\n",
       "    x.observe(outputEl, {childList: true});\n",
       "}}\n",
       "\n",
       "                        })                };                });            </script>        </div>"
      ]
     },
     "metadata": {},
     "output_type": "display_data"
    }
   ],
   "source": [
    "fig = go.Figure(go.Funnel(\n",
    "    y = data_users_funnel['event'],\n",
    "    x = data_users_funnel['user_number'],\n",
    "    textinfo = 'value+percent initial',\n",
    "    marker = {'color': ['darkcyan', 'lightseagreen', 'lightskyblue', 'cornflowerblue']},\n",
    "    ))\n",
    "\n",
    "fig.update_layout(title=\"Воронка событий\",\n",
    "                  yaxis_title=\"Тип события\"\n",
    "                 )\n",
    "fig.show()"
   ]
  },
  {
   "cell_type": "markdown",
   "metadata": {},
   "source": [
    "На полученном графике наглядно отображено, что наибольшая потеря пользователей происходит при переходе с этапа MainScreenAppear на OffersScreenAppear."
   ]
  },
  {
   "cell_type": "markdown",
   "metadata": {},
   "source": [
    "## Результаты эксперимента"
   ]
  },
  {
   "cell_type": "markdown",
   "metadata": {},
   "source": [
    "Количество пользователей в каждой экспериментальной группе составляет:"
   ]
  },
  {
   "cell_type": "code",
   "execution_count": 122,
   "metadata": {},
   "outputs": [
    {
     "data": {
      "text/html": [
       "<div>\n",
       "<style scoped>\n",
       "    .dataframe tbody tr th:only-of-type {\n",
       "        vertical-align: middle;\n",
       "    }\n",
       "\n",
       "    .dataframe tbody tr th {\n",
       "        vertical-align: top;\n",
       "    }\n",
       "\n",
       "    .dataframe thead th {\n",
       "        text-align: right;\n",
       "    }\n",
       "</style>\n",
       "<table border=\"1\" class=\"dataframe\">\n",
       "  <thead>\n",
       "    <tr style=\"text-align: right;\">\n",
       "      <th></th>\n",
       "      <th>user_id</th>\n",
       "    </tr>\n",
       "    <tr>\n",
       "      <th>group</th>\n",
       "      <th></th>\n",
       "    </tr>\n",
       "  </thead>\n",
       "  <tbody>\n",
       "    <tr>\n",
       "      <th>246</th>\n",
       "      <td>2484</td>\n",
       "    </tr>\n",
       "    <tr>\n",
       "      <th>247</th>\n",
       "      <td>2513</td>\n",
       "    </tr>\n",
       "  </tbody>\n",
       "</table>\n",
       "</div>"
      ],
      "text/plain": [
       "       user_id\n",
       "group         \n",
       "246       2484\n",
       "247       2513"
      ]
     },
     "execution_count": 122,
     "metadata": {},
     "output_type": "execute_result"
    }
   ],
   "source": [
    "(data\n",
    " .query('group == 246 or group == 247')\n",
    " .groupby('group')\n",
    " .agg({'user_id':'nunique'}))"
   ]
  },
  {
   "cell_type": "markdown",
   "metadata": {},
   "source": [
    "Проверим, имеется ли статистическая разница между выборками.\n",
    "\n",
    "**Нулевая гипотеза** - Выборки 246 и 247 не имеют статистически значимой разницы\n",
    "\n",
    "**Альтернативная гипотеза** - Выборки 246 и 247 разные"
   ]
  },
  {
   "cell_type": "code",
   "execution_count": 123,
   "metadata": {},
   "outputs": [],
   "source": [
    "users_days = data.groupby(by = ['group', 'date'], as_index = False).agg({'user_id':'nunique'})"
   ]
  },
  {
   "cell_type": "code",
   "execution_count": 124,
   "metadata": {},
   "outputs": [],
   "source": [
    "group_one_days = users_days.query('group == 246')\n",
    "group_two_days = users_days.query('group == 247')"
   ]
  },
  {
   "cell_type": "code",
   "execution_count": 125,
   "metadata": {},
   "outputs": [],
   "source": [
    "alpha = 0.05"
   ]
  },
  {
   "cell_type": "code",
   "execution_count": 126,
   "metadata": {},
   "outputs": [
    {
     "name": "stdout",
     "output_type": "stream",
     "text": [
      "р-значение: 0.309\n",
      "Не получилось отверкнуть нулевую гипотезу\n"
     ]
    }
   ],
   "source": [
    "result = stats.ttest_ind(group_one_days['user_id'], group_two_days['user_id'])\n",
    "\n",
    "print('р-значение:', round(result.pvalue, 4))\n",
    "\n",
    "if result.pvalue < alpha:\n",
    "    print('Отвергаем нулевую гипотезу')\n",
    "else:\n",
    "    print('Не получилось отверкнуть нулевую гипотезу')"
   ]
  },
  {
   "cell_type": "markdown",
   "metadata": {},
   "source": [
    "Согласно проведенному тесту, выборки 246 и 247 не имеют статистически значимой разницы, а значит две контрольные группы для А/А-эксперимента корректны."
   ]
  },
  {
   "cell_type": "markdown",
   "metadata": {},
   "source": [
    "Как было выявлено в предыдущем разделе, самым популярным событием является `MainScreenAppear`. Определим количество пользователей в каждой из групп, совершивших это событие и проверим будет ли отличие между группами статистически достоверным.\n",
    "\n",
    "Данные расчеты поместим в функцию `group_difference`, для ее дальнейшего использования в проверке гипотез."
   ]
  },
  {
   "cell_type": "code",
   "execution_count": 127,
   "metadata": {},
   "outputs": [],
   "source": [
    "def group_difference(first_group, second_group, event_name):\n",
    "    \n",
    "    #Выделим из общего датафрейма данные по рассматриваемому событию, сгруппируем их по группам, \n",
    "    #рассчитав суммарное количество пользователей, участвовавших в данном событии, для каждой группы\n",
    "    users_event = (data\n",
    "                   .query('event == @event_name')\n",
    "                   .groupby(by = 'group', as_index = False)\n",
    "                   .agg({'user_id':'nunique'}))\n",
    "    users_event = users_event.rename(columns = {'user_id':'users_event'})\n",
    "    \n",
    "    #Для каждой группы рассчитаем общее количество пользователей \n",
    "    users_group = data.groupby(by = 'group', as_index = False).agg({'user_id':'nunique'})\n",
    "    users_group = users_group.rename(columns = {'user_id':'users_number'})\n",
    "    \n",
    "    #Объединим таблицу с общим количеством пользователей в группе и количеством пользователей, \n",
    "    #участвовавших в событии\n",
    "    part_users = users_group.merge(users_event, on = 'group')\n",
    "    \n",
    "    \n",
    "    if first_group == 246 or first_group == 247 or first_group == 248:\n",
    "\n",
    "    #Из полученной таблицы выделим данные для каждой группы для их использования в дальнейших расчетах\n",
    "        first_part_users = part_users.query('group == @first_group').reset_index(drop=True)\n",
    "        second_part_users = part_users.query('group == @second_group').reset_index(drop=True)\n",
    "    \n",
    "        successes1 = first_part_users.loc[0, 'users_event']\n",
    "        successes2 = second_part_users.loc[0, 'users_event']\n",
    "    \n",
    "        users1 = first_part_users.loc[0, 'users_number']\n",
    "        users2 = second_part_users.loc[0, 'users_number']\n",
    "    else:           \n",
    "        first_part_users = part_users.query('group == 246').reset_index(drop=True)\n",
    "        second_part_users = part_users.query('group == 247').reset_index(drop=True)\n",
    "        test_part_users = part_users.query('group == 248').reset_index(drop=True)\n",
    "    \n",
    "    #Рассматриваем объединенную контрольную группу в successes1\n",
    "        successes1 = first_part_users.loc[0, 'users_event'] + second_part_users.loc[0, 'users_event']\n",
    "        successes2 = test_part_users.loc[0, 'users_event']\n",
    "    \n",
    "    #Рассматриваем объединенную контрольную группу в users1\n",
    "        users1 = first_part_users.loc[0, 'users_number'] + second_part_users.loc[0, 'users_number']\n",
    "        users2 = test_part_users.loc[0, 'users_number']\n",
    "    \n",
    "    p1 = successes1 / users1\n",
    "    p2 = successes2 / users2\n",
    "        \n",
    "    p_combined = (successes1 + successes2)/(users1 + users2)\n",
    "    \n",
    "    difference = p1 - p2\n",
    "    \n",
    "    z_value = difference / mth.sqrt(p_combined * (1 - p_combined) * (1/users1 + 1/users2))\n",
    "    distr = stats.norm(0, 1)\n",
    "    \n",
    "    p_value = (1 - distr.cdf(abs(z_value))) * 2\n",
    "    \n",
    "    print('р-значение:', round(p_value, 4))\n",
    "\n",
    "    if p_value < alpha:\n",
    "        print('Отвергаем нулевую гипотезу: между долями есть значимая разница')\n",
    "    else:\n",
    "        print('Не получилось отвергнуть нулевую гипотезу, нет оснований считать доли разными')\n",
    "   \n",
    "    return "
   ]
  },
  {
   "cell_type": "markdown",
   "metadata": {},
   "source": [
    "Проверим, имеется ли статистическая разница между долями пользователей из групп 246 и 247, участвовавшими в событии `MainScreenAppear`. \n",
    "\n",
    "**Нулевая гипотеза** - Между долями пользователей двух групп нет статистически значимой разницы.\n",
    "\n",
    "**Альтернативная гипотеза** - Между долями пользователей двух групп есть значимая разница."
   ]
  },
  {
   "cell_type": "code",
   "execution_count": 128,
   "metadata": {},
   "outputs": [
    {
     "name": "stdout",
     "output_type": "stream",
     "text": [
      "р-значение: 0.7571\n",
      "Не получилось отвергнуть нулевую гипотезу, нет оснований считать доли разными\n"
     ]
    }
   ],
   "source": [
    "group_difference(246, 247, 'MainScreenAppear')"
   ]
  },
  {
   "cell_type": "markdown",
   "metadata": {},
   "source": [
    "Проверим, имеется ли статистическая разница между долями пользователей из групп 246 и 247, участвовавшими в событии `OffersScreenAppear`. \n",
    "\n",
    "**Нулевая гипотеза** - Между долями пользователей двух групп нет статистически значимой разницы.\n",
    "\n",
    "**Альтернативная гипотеза** - Между долями пользователей двух групп есть значимая разница."
   ]
  },
  {
   "cell_type": "code",
   "execution_count": 129,
   "metadata": {},
   "outputs": [
    {
     "name": "stdout",
     "output_type": "stream",
     "text": [
      "р-значение: 0.2481\n",
      "Не получилось отвергнуть нулевую гипотезу, нет оснований считать доли разными\n"
     ]
    }
   ],
   "source": [
    "group_difference(246, 247, 'OffersScreenAppear')"
   ]
  },
  {
   "cell_type": "markdown",
   "metadata": {},
   "source": [
    "Проверим, имеется ли статистическая разница между долями пользователей из групп 246 и 247, участвовавшими в событии `CartScreenAppear`. \n",
    "\n",
    "**Нулевая гипотеза** - Между долями пользователей двух групп нет статистически значимой разницы.\n",
    "\n",
    "**Альтернативная гипотеза** - Между долями пользователей двух групп есть значимая разница."
   ]
  },
  {
   "cell_type": "code",
   "execution_count": 130,
   "metadata": {},
   "outputs": [
    {
     "name": "stdout",
     "output_type": "stream",
     "text": [
      "р-значение: 0.2288\n",
      "Не получилось отвергнуть нулевую гипотезу, нет оснований считать доли разными\n"
     ]
    }
   ],
   "source": [
    "group_difference(246, 247, 'CartScreenAppear')"
   ]
  },
  {
   "cell_type": "markdown",
   "metadata": {},
   "source": [
    "Проверим, имеется ли статистическая разница между долями пользователей из групп 246 и 247, участвовавшими в событии `PaymentScreenSuccessful`. \n",
    "\n",
    "**Нулевая гипотеза** - Между долями пользователей двух групп нет статистически значимой разницы.\n",
    "\n",
    "**Альтернативная гипотеза** - Между долями пользователей двух групп есть значимая разница."
   ]
  },
  {
   "cell_type": "code",
   "execution_count": 131,
   "metadata": {
    "scrolled": true
   },
   "outputs": [
    {
     "name": "stdout",
     "output_type": "stream",
     "text": [
      "р-значение: 0.1146\n",
      "Не получилось отвергнуть нулевую гипотезу, нет оснований считать доли разными\n"
     ]
    }
   ],
   "source": [
    "group_difference(246, 247, 'PaymentScreenSuccessful')"
   ]
  },
  {
   "cell_type": "markdown",
   "metadata": {},
   "source": [
    "**Промежуточный вывод:** Согласно проведенным проверкам гипотез отдельно для каждого события для групп 246 и 247, какой либо значимой статистической разницы между этими группами выявлено не было. В связи с этим можно сделать вывод, что разбиение на группы работает корректно. "
   ]
  },
  {
   "cell_type": "markdown",
   "metadata": {},
   "source": [
    "Проведем аналогичные проверки гипотез для всех событий в отношении сочетания каждой контрольной группы с экспериментальной группой."
   ]
  },
  {
   "cell_type": "markdown",
   "metadata": {},
   "source": [
    "Проверим, имеется ли статистическая разница между долями пользователей из групп 246 и 248, участвовавшими в событии `MainScreenAppear`. \n",
    "\n",
    "**Нулевая гипотеза** - Между долями пользователей двух групп нет статистически значимой разницы.\n",
    "\n",
    "**Альтернативная гипотеза** - Между долями пользователей двух групп есть значимая разница."
   ]
  },
  {
   "cell_type": "code",
   "execution_count": 132,
   "metadata": {},
   "outputs": [
    {
     "name": "stdout",
     "output_type": "stream",
     "text": [
      "р-значение: 0.295\n",
      "Не получилось отвергнуть нулевую гипотезу, нет оснований считать доли разными\n"
     ]
    }
   ],
   "source": [
    "group_difference(246, 248, 'MainScreenAppear')"
   ]
  },
  {
   "cell_type": "markdown",
   "metadata": {},
   "source": [
    "Проверим, имеется ли статистическая разница между долями пользователей из групп 247 и 248, участвовавшими в событии `MainScreenAppear`. \n",
    "\n",
    "**Нулевая гипотеза** - Между долями пользователей двух групп нет статистически значимой разницы.\n",
    "\n",
    "**Альтернативная гипотеза** - Между долями пользователей двух групп есть значимая разница."
   ]
  },
  {
   "cell_type": "code",
   "execution_count": 133,
   "metadata": {},
   "outputs": [
    {
     "name": "stdout",
     "output_type": "stream",
     "text": [
      "р-значение: 0.4587\n",
      "Не получилось отвергнуть нулевую гипотезу, нет оснований считать доли разными\n"
     ]
    }
   ],
   "source": [
    "group_difference(247, 248, 'MainScreenAppear')"
   ]
  },
  {
   "cell_type": "markdown",
   "metadata": {},
   "source": [
    "Проверим, имеется ли статистическая разница между долями пользователей из групп 246 и 248, участвовавшими в событии `OffersScreenAppear`. \n",
    "\n",
    "**Нулевая гипотеза** - Между долями пользователей двух групп нет статистически значимой разницы.\n",
    "\n",
    "**Альтернативная гипотеза** - Между долями пользователей двух групп есть значимая разница."
   ]
  },
  {
   "cell_type": "code",
   "execution_count": 134,
   "metadata": {},
   "outputs": [
    {
     "name": "stdout",
     "output_type": "stream",
     "text": [
      "р-значение: 0.2084\n",
      "Не получилось отвергнуть нулевую гипотезу, нет оснований считать доли разными\n"
     ]
    }
   ],
   "source": [
    "group_difference(246, 248, 'OffersScreenAppear')"
   ]
  },
  {
   "cell_type": "markdown",
   "metadata": {},
   "source": [
    "Проверим, имеется ли статистическая разница между долями пользователей из групп 247 и 248, участвовавшими в событии `OffersScreenAppear`. \n",
    "\n",
    "**Нулевая гипотеза** - Между долями пользователей двух групп нет статистически значимой разницы.\n",
    "\n",
    "**Альтернативная гипотеза** - Между долями пользователей двух групп есть значимая разница."
   ]
  },
  {
   "cell_type": "code",
   "execution_count": 135,
   "metadata": {},
   "outputs": [
    {
     "name": "stdout",
     "output_type": "stream",
     "text": [
      "р-значение: 0.9198\n",
      "Не получилось отвергнуть нулевую гипотезу, нет оснований считать доли разными\n"
     ]
    }
   ],
   "source": [
    "group_difference(247, 248, 'OffersScreenAppear')"
   ]
  },
  {
   "cell_type": "markdown",
   "metadata": {},
   "source": [
    "Проверим, имеется ли статистическая разница между долями пользователей из групп 246 и 248, участвовавшими в событии `CartScreenAppear`. \n",
    "\n",
    "**Нулевая гипотеза** - Между долями пользователей двух групп нет статистически значимой разницы.\n",
    "\n",
    "**Альтернативная гипотеза** - Между долями пользователей двух групп есть значимая разница."
   ]
  },
  {
   "cell_type": "code",
   "execution_count": 136,
   "metadata": {},
   "outputs": [
    {
     "name": "stdout",
     "output_type": "stream",
     "text": [
      "р-значение: 0.0784\n",
      "Не получилось отвергнуть нулевую гипотезу, нет оснований считать доли разными\n"
     ]
    }
   ],
   "source": [
    "group_difference(246, 248, 'CartScreenAppear')"
   ]
  },
  {
   "cell_type": "markdown",
   "metadata": {},
   "source": [
    "Проверим, имеется ли статистическая разница между долями пользователей из групп 247 и 248, участвовавшими в событии `CartScreenAppear`. \n",
    "\n",
    "**Нулевая гипотеза** - Между долями пользователей двух групп нет статистически значимой разницы.\n",
    "\n",
    "**Альтернативная гипотеза** - Между долями пользователей двух групп есть значимая разница."
   ]
  },
  {
   "cell_type": "code",
   "execution_count": 137,
   "metadata": {},
   "outputs": [
    {
     "name": "stdout",
     "output_type": "stream",
     "text": [
      "р-значение: 0.5786\n",
      "Не получилось отвергнуть нулевую гипотезу, нет оснований считать доли разными\n"
     ]
    }
   ],
   "source": [
    "group_difference(247, 248, 'CartScreenAppear')"
   ]
  },
  {
   "cell_type": "markdown",
   "metadata": {},
   "source": [
    "Проверим, имеется ли статистическая разница между долями пользователей из групп 246 и 248, участвовавшими в событии `PaymentScreenSuccessful`. \n",
    "\n",
    "**Нулевая гипотеза** - Между долями пользователей двух групп нет статистически значимой разницы.\n",
    "\n",
    "**Альтернативная гипотеза** - Между долями пользователей двух групп есть значимая разница."
   ]
  },
  {
   "cell_type": "code",
   "execution_count": 138,
   "metadata": {},
   "outputs": [
    {
     "name": "stdout",
     "output_type": "stream",
     "text": [
      "р-значение: 0.2123\n",
      "Не получилось отвергнуть нулевую гипотезу, нет оснований считать доли разными\n"
     ]
    }
   ],
   "source": [
    "group_difference(246, 248, 'PaymentScreenSuccessful')"
   ]
  },
  {
   "cell_type": "markdown",
   "metadata": {},
   "source": [
    "Проверим, имеется ли статистическая разница между долями пользователей из групп 247 и 248, участвовавшими в событии `PaymentScreenSuccessful`. \n",
    "\n",
    "**Нулевая гипотеза** - Между долями пользователей двух групп нет статистически значимой разницы.\n",
    "\n",
    "**Альтернативная гипотеза** - Между долями пользователей двух групп есть значимая разница."
   ]
  },
  {
   "cell_type": "code",
   "execution_count": 139,
   "metadata": {},
   "outputs": [
    {
     "name": "stdout",
     "output_type": "stream",
     "text": [
      "р-значение: 0.7373\n",
      "Не получилось отвергнуть нулевую гипотезу, нет оснований считать доли разными\n"
     ]
    }
   ],
   "source": [
    "group_difference(247, 248, 'PaymentScreenSuccessful')"
   ]
  },
  {
   "cell_type": "markdown",
   "metadata": {},
   "source": [
    "**Промежуточный вывод:** Все проведенные тесты с принятым уровнем статистической значимости alpha=0.05 показали, что какой либо разницы в долях в исследуемых группах (как контрольных, так и экспериментальной) нет по всем событиям. "
   ]
  },
  {
   "cell_type": "markdown",
   "metadata": {},
   "source": [
    "Сравним экспериментальную группу с объединенной контрольной группой. Для этого так же применим созданную ранее функцию `group_difference`."
   ]
  },
  {
   "cell_type": "markdown",
   "metadata": {},
   "source": [
    "Проверим, имеется ли статистическая разница между долями пользователей из объединенной контрольной группой и 248, участвовавшими в событии MainScreenAppear.\n",
    "\n",
    "**Нулевая гипотеза** - Между долями пользователей двух групп нет статистически значимой разницы.\n",
    "\n",
    "**Альтернативная гипотеза** - Между долями пользователей двух групп есть значимая разница."
   ]
  },
  {
   "cell_type": "code",
   "execution_count": 140,
   "metadata": {},
   "outputs": [
    {
     "name": "stdout",
     "output_type": "stream",
     "text": [
      "р-значение: 0.2942\n",
      "Не получилось отвергнуть нулевую гипотезу, нет оснований считать доли разными\n"
     ]
    }
   ],
   "source": [
    "group_difference('246+247', 248, 'MainScreenAppear') "
   ]
  },
  {
   "cell_type": "markdown",
   "metadata": {},
   "source": [
    "Проверим, имеется ли статистическая разница между долями пользователей из объединенной контрольной группой и 248, участвовавшими в событии OffersScreenAppear.\n",
    "\n",
    "**Нулевая гипотеза** - Между долями пользователей двух групп нет статистически значимой разницы.\n",
    "\n",
    "**Альтернативная гипотеза** - Между долями пользователей двух групп есть значимая разница."
   ]
  },
  {
   "cell_type": "code",
   "execution_count": 141,
   "metadata": {},
   "outputs": [
    {
     "name": "stdout",
     "output_type": "stream",
     "text": [
      "р-значение: 0.4343\n",
      "Не получилось отвергнуть нулевую гипотезу, нет оснований считать доли разными\n"
     ]
    }
   ],
   "source": [
    "group_difference('246+247', 248, 'OffersScreenAppear')"
   ]
  },
  {
   "cell_type": "markdown",
   "metadata": {},
   "source": [
    "Проверим, имеется ли статистическая разница между долями пользователей из объединенной контрольной группой и 248, участвовавшими в событии CartScreenAppear.\n",
    "\n",
    "**Нулевая гипотеза** - Между долями пользователей двух групп нет статистически значимой разницы.\n",
    "\n",
    "**Альтернативная гипотеза** - Между долями пользователей двух групп есть значимая разница."
   ]
  },
  {
   "cell_type": "code",
   "execution_count": 142,
   "metadata": {},
   "outputs": [
    {
     "name": "stdout",
     "output_type": "stream",
     "text": [
      "р-значение: 0.1818\n",
      "Не получилось отвергнуть нулевую гипотезу, нет оснований считать доли разными\n"
     ]
    }
   ],
   "source": [
    "group_difference('246+247', 248, 'CartScreenAppear')"
   ]
  },
  {
   "cell_type": "markdown",
   "metadata": {},
   "source": [
    "Проверим, имеется ли статистическая разница между долями пользователей из объединенной контрольной группой и 248, участвовавшими в событии PaymentScreenSuccessful.\n",
    "\n",
    "**Нулевая гипотеза** - Между долями пользователей двух групп нет статистически значимой разницы.\n",
    "\n",
    "**Альтернативная гипотеза** - Между долями пользователей двух групп есть значимая разница."
   ]
  },
  {
   "cell_type": "code",
   "execution_count": 143,
   "metadata": {},
   "outputs": [
    {
     "name": "stdout",
     "output_type": "stream",
     "text": [
      "р-значение: 0.6004\n",
      "Не получилось отвергнуть нулевую гипотезу, нет оснований считать доли разными\n"
     ]
    }
   ],
   "source": [
    "group_difference('246+247', 248, 'PaymentScreenSuccessful')"
   ]
  },
  {
   "cell_type": "markdown",
   "metadata": {},
   "source": [
    "**Промежуточный вывод:** Статистически значимой разницы между экспериментальной и объединенной контрольной группой так же выявлено не было. "
   ]
  },
  {
   "cell_type": "markdown",
   "metadata": {},
   "source": [
    "В ходе проведения эксперимента на неизмененных данных, суммарно было проведено 16 экспериментов. Это является множественным тестом."
   ]
  },
  {
   "cell_type": "code",
   "execution_count": 144,
   "metadata": {},
   "outputs": [],
   "source": [
    "number_of_control = 16"
   ]
  },
  {
   "cell_type": "markdown",
   "metadata": {},
   "source": [
    "При проведении неоднократных сравнений, проводимых на одних и тех же данных, с каждой новой проверкой гипотезы растет вероятность ошибки первого рода. Для избежания данной ошибки необходимо применить метод корректировки уровня значимости для уменьшения групповой вероятности ошибки первого рода. Поскольку в данной ситуации ни одна из гипотез не была отвергнута даже при применении неизмененного коэффициента, перерасчет можно не выполнять. В данном проекте проведем его для дополнительной перепроверки результатов.\n",
    "\n",
    "Для данной корректировки применим метод Шидака. Рассчитаем новое значение уровня статистической значимости."
   ]
  },
  {
   "cell_type": "code",
   "execution_count": 145,
   "metadata": {},
   "outputs": [],
   "source": [
    "alpha = 1 - (1 - alpha)**(1 / number_of_control)"
   ]
  },
  {
   "cell_type": "code",
   "execution_count": 146,
   "metadata": {},
   "outputs": [
    {
     "data": {
      "text/plain": [
       "0.0032"
      ]
     },
     "execution_count": 146,
     "metadata": {},
     "output_type": "execute_result"
    }
   ],
   "source": [
    "round(alpha, 4)"
   ]
  },
  {
   "cell_type": "markdown",
   "metadata": {},
   "source": [
    "Применим данный уровень статистической значимости для повтора расчета всех 16 экспериментов, проведенных ранее."
   ]
  },
  {
   "cell_type": "code",
   "execution_count": 147,
   "metadata": {},
   "outputs": [
    {
     "name": "stdout",
     "output_type": "stream",
     "text": [
      "р-значение: 0.7571\n",
      "Не получилось отвергнуть нулевую гипотезу, нет оснований считать доли разными\n"
     ]
    }
   ],
   "source": [
    "group_difference(246, 247, 'MainScreenAppear')"
   ]
  },
  {
   "cell_type": "code",
   "execution_count": 148,
   "metadata": {},
   "outputs": [
    {
     "name": "stdout",
     "output_type": "stream",
     "text": [
      "р-значение: 0.2481\n",
      "Не получилось отвергнуть нулевую гипотезу, нет оснований считать доли разными\n"
     ]
    }
   ],
   "source": [
    "group_difference(246, 247, 'OffersScreenAppear')"
   ]
  },
  {
   "cell_type": "code",
   "execution_count": 149,
   "metadata": {},
   "outputs": [
    {
     "name": "stdout",
     "output_type": "stream",
     "text": [
      "р-значение: 0.2288\n",
      "Не получилось отвергнуть нулевую гипотезу, нет оснований считать доли разными\n"
     ]
    }
   ],
   "source": [
    "group_difference(246, 247, 'CartScreenAppear')"
   ]
  },
  {
   "cell_type": "code",
   "execution_count": 150,
   "metadata": {},
   "outputs": [
    {
     "name": "stdout",
     "output_type": "stream",
     "text": [
      "р-значение: 0.1146\n",
      "Не получилось отвергнуть нулевую гипотезу, нет оснований считать доли разными\n"
     ]
    }
   ],
   "source": [
    "group_difference(246, 247, 'PaymentScreenSuccessful')"
   ]
  },
  {
   "cell_type": "code",
   "execution_count": 151,
   "metadata": {},
   "outputs": [
    {
     "name": "stdout",
     "output_type": "stream",
     "text": [
      "р-значение: 0.295\n",
      "Не получилось отвергнуть нулевую гипотезу, нет оснований считать доли разными\n"
     ]
    }
   ],
   "source": [
    "group_difference(246, 248, 'MainScreenAppear')"
   ]
  },
  {
   "cell_type": "code",
   "execution_count": 152,
   "metadata": {},
   "outputs": [
    {
     "name": "stdout",
     "output_type": "stream",
     "text": [
      "р-значение: 0.4587\n",
      "Не получилось отвергнуть нулевую гипотезу, нет оснований считать доли разными\n"
     ]
    }
   ],
   "source": [
    "group_difference(247, 248, 'MainScreenAppear')"
   ]
  },
  {
   "cell_type": "code",
   "execution_count": 153,
   "metadata": {},
   "outputs": [
    {
     "name": "stdout",
     "output_type": "stream",
     "text": [
      "р-значение: 0.2084\n",
      "Не получилось отвергнуть нулевую гипотезу, нет оснований считать доли разными\n"
     ]
    }
   ],
   "source": [
    "group_difference(246, 248, 'OffersScreenAppear')"
   ]
  },
  {
   "cell_type": "code",
   "execution_count": 154,
   "metadata": {},
   "outputs": [
    {
     "name": "stdout",
     "output_type": "stream",
     "text": [
      "р-значение: 0.9198\n",
      "Не получилось отвергнуть нулевую гипотезу, нет оснований считать доли разными\n"
     ]
    }
   ],
   "source": [
    "group_difference(247, 248, 'OffersScreenAppear')"
   ]
  },
  {
   "cell_type": "code",
   "execution_count": 155,
   "metadata": {},
   "outputs": [
    {
     "name": "stdout",
     "output_type": "stream",
     "text": [
      "р-значение: 0.0784\n",
      "Не получилось отвергнуть нулевую гипотезу, нет оснований считать доли разными\n"
     ]
    }
   ],
   "source": [
    "group_difference(246, 248, 'CartScreenAppear')"
   ]
  },
  {
   "cell_type": "code",
   "execution_count": 156,
   "metadata": {},
   "outputs": [
    {
     "name": "stdout",
     "output_type": "stream",
     "text": [
      "р-значение: 0.5786\n",
      "Не получилось отвергнуть нулевую гипотезу, нет оснований считать доли разными\n"
     ]
    }
   ],
   "source": [
    "group_difference(247, 248, 'CartScreenAppear')"
   ]
  },
  {
   "cell_type": "code",
   "execution_count": 157,
   "metadata": {},
   "outputs": [
    {
     "name": "stdout",
     "output_type": "stream",
     "text": [
      "р-значение: 0.2123\n",
      "Не получилось отвергнуть нулевую гипотезу, нет оснований считать доли разными\n"
     ]
    }
   ],
   "source": [
    "group_difference(246, 248, 'PaymentScreenSuccessful')"
   ]
  },
  {
   "cell_type": "code",
   "execution_count": 158,
   "metadata": {},
   "outputs": [
    {
     "name": "stdout",
     "output_type": "stream",
     "text": [
      "р-значение: 0.7373\n",
      "Не получилось отвергнуть нулевую гипотезу, нет оснований считать доли разными\n"
     ]
    }
   ],
   "source": [
    "group_difference(247, 248, 'PaymentScreenSuccessful')"
   ]
  },
  {
   "cell_type": "code",
   "execution_count": 159,
   "metadata": {},
   "outputs": [
    {
     "name": "stdout",
     "output_type": "stream",
     "text": [
      "р-значение: 0.2942\n",
      "Не получилось отвергнуть нулевую гипотезу, нет оснований считать доли разными\n"
     ]
    }
   ],
   "source": [
    "group_difference('246+247', 248, 'MainScreenAppear') "
   ]
  },
  {
   "cell_type": "code",
   "execution_count": 160,
   "metadata": {},
   "outputs": [
    {
     "name": "stdout",
     "output_type": "stream",
     "text": [
      "р-значение: 0.4343\n",
      "Не получилось отвергнуть нулевую гипотезу, нет оснований считать доли разными\n"
     ]
    }
   ],
   "source": [
    "group_difference('246+247', 248, 'OffersScreenAppear') "
   ]
  },
  {
   "cell_type": "code",
   "execution_count": 161,
   "metadata": {},
   "outputs": [
    {
     "name": "stdout",
     "output_type": "stream",
     "text": [
      "р-значение: 0.1818\n",
      "Не получилось отвергнуть нулевую гипотезу, нет оснований считать доли разными\n"
     ]
    }
   ],
   "source": [
    "group_difference('246+247', 248, 'CartScreenAppear') "
   ]
  },
  {
   "cell_type": "code",
   "execution_count": 162,
   "metadata": {},
   "outputs": [
    {
     "name": "stdout",
     "output_type": "stream",
     "text": [
      "р-значение: 0.6004\n",
      "Не получилось отвергнуть нулевую гипотезу, нет оснований считать доли разными\n"
     ]
    }
   ],
   "source": [
    "group_difference('246+247', 248, 'PaymentScreenSuccessful') "
   ]
  },
  {
   "cell_type": "markdown",
   "metadata": {},
   "source": [
    "**Промежуточный вывод:** В соответствии с проведенным расчетом на основе уточненного коэффициента статистического уровня значимости между долями во всех сочетаниях трех групп нет статистически значимой разницы."
   ]
  },
  {
   "cell_type": "markdown",
   "metadata": {},
   "source": [
    "# Вывод по проекту.\n",
    "\n",
    "В данном проекте был проведен анализ поведения пользователей мобильного приложения по продаже продуктов питания, а также анализ результатов А/А/В-эксперимента, проводимого с целью получения информации о реакции пользователей на изменение шрифтов во всем приложении. \n",
    "\n",
    "В ходе проведения данного исследования были проведены:\n",
    "\n",
    "- проверка данных, которая показала наличие дубликатов в имеющемся массиве данных, а также имеющиеся ошибки в части формата данных и формата названий столбцов, а так же наличия периода, содержащего неполные данные. Все имеющиеся недостатки были устранены.\n",
    "- анализ воронки событий, который показал, что наибольшее количество пользователей теряется при переходе от события MainScreenAppear к OffersScreenAppear (только 62% пользователей переходит на второй этап). На данном этапе стоит рассмотреть внедрение улучшений с целью увеличения конверсии. Наиболее эффективным переходом является переход от CartScreenAppear к PaymentScreenSuccessful, т.е. 95% пользователей, положивших товары в корзину, оплачивают свои покупки. Конверсия от первого события в воронке до последнего составляет 48%.\n",
    "- анализ результатов эксперимента, который был проведен с применение двух коэффициентов статистической значимости: учитывающим и не учитывающим множественный тест, проводимый на неизмененных данных. Ни один из проведенных экспериментов не показал наличие статистически значимой разницы между долями. Это позволяет предположить, что в целом изменение шрифтов в приложении никак не влияет на поведение пользователей, в связи с чем данное изменение может быть применено."
   ]
  }
 ],
 "metadata": {
  "ExecuteTimeLog": [
   {
    "duration": 374,
    "start_time": "2024-04-01T04:22:10.900Z"
   },
   {
    "duration": 410,
    "start_time": "2024-04-01T04:22:30.836Z"
   },
   {
    "duration": 11,
    "start_time": "2024-04-01T04:22:38.723Z"
   },
   {
    "duration": 320,
    "start_time": "2024-04-01T04:22:54.898Z"
   },
   {
    "duration": 85,
    "start_time": "2024-04-01T04:23:01.391Z"
   },
   {
    "duration": 52,
    "start_time": "2024-04-01T04:23:16.590Z"
   },
   {
    "duration": 6,
    "start_time": "2024-04-01T04:23:18.512Z"
   },
   {
    "duration": 289,
    "start_time": "2024-04-01T04:23:24.320Z"
   },
   {
    "duration": 6,
    "start_time": "2024-04-01T04:23:25.243Z"
   },
   {
    "duration": 393,
    "start_time": "2024-04-01T04:24:52.872Z"
   },
   {
    "duration": 55,
    "start_time": "2024-04-01T04:28:45.384Z"
   },
   {
    "duration": 7,
    "start_time": "2024-04-01T04:29:02.225Z"
   },
   {
    "duration": 183,
    "start_time": "2024-04-01T04:29:11.529Z"
   },
   {
    "duration": 8,
    "start_time": "2024-04-01T04:29:14.106Z"
   },
   {
    "duration": 24,
    "start_time": "2024-04-01T04:29:39.080Z"
   },
   {
    "duration": 50,
    "start_time": "2024-04-01T06:04:22.647Z"
   },
   {
    "duration": 833,
    "start_time": "2024-04-01T06:04:28.710Z"
   },
   {
    "duration": 884,
    "start_time": "2024-04-01T06:04:29.546Z"
   },
   {
    "duration": 12,
    "start_time": "2024-04-01T06:04:30.432Z"
   },
   {
    "duration": 83,
    "start_time": "2024-04-01T06:04:30.445Z"
   },
   {
    "duration": 28,
    "start_time": "2024-04-01T06:04:30.530Z"
   },
   {
    "duration": 4,
    "start_time": "2024-04-01T06:04:40.626Z"
   },
   {
    "duration": 96,
    "start_time": "2024-04-01T06:08:11.772Z"
   },
   {
    "duration": 86,
    "start_time": "2024-04-01T06:08:44.219Z"
   },
   {
    "duration": 14,
    "start_time": "2024-04-01T06:08:49.720Z"
   },
   {
    "duration": 15,
    "start_time": "2024-04-01T06:12:02.640Z"
   },
   {
    "duration": 13,
    "start_time": "2024-04-01T06:17:37.935Z"
   },
   {
    "duration": 14,
    "start_time": "2024-04-01T06:21:18.480Z"
   },
   {
    "duration": 10,
    "start_time": "2024-04-01T06:23:36.742Z"
   },
   {
    "duration": 14,
    "start_time": "2024-04-01T06:23:42.494Z"
   },
   {
    "duration": 10,
    "start_time": "2024-04-01T06:25:26.100Z"
   },
   {
    "duration": 15,
    "start_time": "2024-04-01T06:25:38.810Z"
   },
   {
    "duration": 33,
    "start_time": "2024-04-01T06:25:54.055Z"
   },
   {
    "duration": 21,
    "start_time": "2024-04-01T06:27:26.984Z"
   },
   {
    "duration": 697,
    "start_time": "2024-04-01T06:31:53.989Z"
   },
   {
    "duration": 212,
    "start_time": "2024-04-01T06:31:54.688Z"
   },
   {
    "duration": 13,
    "start_time": "2024-04-01T06:31:54.902Z"
   },
   {
    "duration": 24,
    "start_time": "2024-04-01T06:31:54.917Z"
   },
   {
    "duration": 4,
    "start_time": "2024-04-01T06:31:54.943Z"
   },
   {
    "duration": 105,
    "start_time": "2024-04-01T06:31:54.949Z"
   },
   {
    "duration": 0,
    "start_time": "2024-04-01T06:31:55.056Z"
   },
   {
    "duration": 0,
    "start_time": "2024-04-01T06:31:55.057Z"
   },
   {
    "duration": 646,
    "start_time": "2024-04-01T06:33:16.000Z"
   },
   {
    "duration": 191,
    "start_time": "2024-04-01T06:33:16.648Z"
   },
   {
    "duration": 11,
    "start_time": "2024-04-01T06:33:16.841Z"
   },
   {
    "duration": 48,
    "start_time": "2024-04-01T06:33:16.853Z"
   },
   {
    "duration": 4,
    "start_time": "2024-04-01T06:33:16.903Z"
   },
   {
    "duration": 89,
    "start_time": "2024-04-01T06:33:16.908Z"
   },
   {
    "duration": 0,
    "start_time": "2024-04-01T06:33:16.999Z"
   },
   {
    "duration": 0,
    "start_time": "2024-04-01T06:33:17.000Z"
   },
   {
    "duration": 16,
    "start_time": "2024-04-01T06:33:41.225Z"
   },
   {
    "duration": 16,
    "start_time": "2024-04-01T06:34:24.689Z"
   },
   {
    "duration": 525,
    "start_time": "2024-04-01T06:34:54.536Z"
   },
   {
    "duration": 42,
    "start_time": "2024-04-01T06:34:58.283Z"
   },
   {
    "duration": 18,
    "start_time": "2024-04-01T06:35:06.037Z"
   },
   {
    "duration": 6,
    "start_time": "2024-04-01T06:36:54.681Z"
   },
   {
    "duration": 6526,
    "start_time": "2024-04-01T06:49:33.687Z"
   },
   {
    "duration": 6,
    "start_time": "2024-04-01T06:50:39.916Z"
   },
   {
    "duration": 22,
    "start_time": "2024-04-01T06:51:07.165Z"
   },
   {
    "duration": 14,
    "start_time": "2024-04-01T06:57:29.801Z"
   },
   {
    "duration": 383,
    "start_time": "2024-04-01T07:04:17.042Z"
   },
   {
    "duration": 1213,
    "start_time": "2024-04-01T07:04:36.560Z"
   },
   {
    "duration": 208,
    "start_time": "2024-04-01T07:04:37.775Z"
   },
   {
    "duration": 12,
    "start_time": "2024-04-01T07:04:37.985Z"
   },
   {
    "duration": 34,
    "start_time": "2024-04-01T07:04:37.999Z"
   },
   {
    "duration": 4,
    "start_time": "2024-04-01T07:04:38.035Z"
   },
   {
    "duration": 145,
    "start_time": "2024-04-01T07:04:38.040Z"
   },
   {
    "duration": 0,
    "start_time": "2024-04-01T07:04:38.186Z"
   },
   {
    "duration": 0,
    "start_time": "2024-04-01T07:04:38.188Z"
   },
   {
    "duration": 4,
    "start_time": "2024-04-01T07:07:30.561Z"
   },
   {
    "duration": 3,
    "start_time": "2024-04-01T07:09:46.746Z"
   },
   {
    "duration": 65,
    "start_time": "2024-04-01T07:10:23.522Z"
   },
   {
    "duration": 3,
    "start_time": "2024-04-01T07:10:47.634Z"
   },
   {
    "duration": 58,
    "start_time": "2024-04-01T07:10:48.669Z"
   },
   {
    "duration": 3,
    "start_time": "2024-04-01T07:13:21.707Z"
   },
   {
    "duration": 56,
    "start_time": "2024-04-01T07:13:22.945Z"
   },
   {
    "duration": 3,
    "start_time": "2024-04-01T07:13:41.417Z"
   },
   {
    "duration": 3776,
    "start_time": "2024-04-01T07:13:42.632Z"
   },
   {
    "duration": 45,
    "start_time": "2024-04-01T07:14:06.168Z"
   },
   {
    "duration": 12,
    "start_time": "2024-04-01T07:14:39.526Z"
   },
   {
    "duration": 2,
    "start_time": "2024-04-01T07:15:20.117Z"
   },
   {
    "duration": 9,
    "start_time": "2024-04-01T07:17:10.125Z"
   },
   {
    "duration": 1127,
    "start_time": "2024-04-01T07:17:40.725Z"
   },
   {
    "duration": 191,
    "start_time": "2024-04-01T07:17:41.853Z"
   },
   {
    "duration": 12,
    "start_time": "2024-04-01T07:17:42.046Z"
   },
   {
    "duration": 39,
    "start_time": "2024-04-01T07:17:42.060Z"
   },
   {
    "duration": 4,
    "start_time": "2024-04-01T07:17:42.101Z"
   },
   {
    "duration": 112,
    "start_time": "2024-04-01T07:17:42.107Z"
   },
   {
    "duration": 0,
    "start_time": "2024-04-01T07:17:42.220Z"
   },
   {
    "duration": 0,
    "start_time": "2024-04-01T07:17:42.221Z"
   },
   {
    "duration": 1,
    "start_time": "2024-04-01T07:17:42.222Z"
   },
   {
    "duration": 0,
    "start_time": "2024-04-01T07:17:42.223Z"
   },
   {
    "duration": 2,
    "start_time": "2024-04-01T07:20:42.278Z"
   },
   {
    "duration": 11,
    "start_time": "2024-04-01T07:21:23.769Z"
   },
   {
    "duration": 73,
    "start_time": "2024-04-01T07:21:38.914Z"
   },
   {
    "duration": 83,
    "start_time": "2024-04-01T07:22:13.193Z"
   },
   {
    "duration": 86,
    "start_time": "2024-04-01T07:22:35.369Z"
   },
   {
    "duration": 96,
    "start_time": "2024-04-01T07:22:48.993Z"
   },
   {
    "duration": 1194,
    "start_time": "2024-04-01T07:23:27.252Z"
   },
   {
    "duration": 188,
    "start_time": "2024-04-01T07:23:28.448Z"
   },
   {
    "duration": 12,
    "start_time": "2024-04-01T07:23:28.638Z"
   },
   {
    "duration": 33,
    "start_time": "2024-04-01T07:23:28.651Z"
   },
   {
    "duration": 4,
    "start_time": "2024-04-01T07:23:28.686Z"
   },
   {
    "duration": 9,
    "start_time": "2024-04-01T07:23:28.691Z"
   },
   {
    "duration": 12,
    "start_time": "2024-04-01T07:23:28.702Z"
   },
   {
    "duration": 11,
    "start_time": "2024-04-01T07:23:28.716Z"
   },
   {
    "duration": 6,
    "start_time": "2024-04-01T07:23:28.728Z"
   },
   {
    "duration": 5,
    "start_time": "2024-04-01T07:23:28.735Z"
   },
   {
    "duration": 73,
    "start_time": "2024-04-01T07:23:28.742Z"
   },
   {
    "duration": 105,
    "start_time": "2024-04-01T07:23:28.816Z"
   },
   {
    "duration": 22,
    "start_time": "2024-04-01T07:24:04.889Z"
   },
   {
    "duration": 93,
    "start_time": "2024-04-01T07:24:39.216Z"
   },
   {
    "duration": 102,
    "start_time": "2024-04-01T07:24:41.735Z"
   },
   {
    "duration": 9,
    "start_time": "2024-04-01T07:25:58.126Z"
   },
   {
    "duration": 1144,
    "start_time": "2024-04-01T07:26:51.006Z"
   },
   {
    "duration": 188,
    "start_time": "2024-04-01T07:26:52.153Z"
   },
   {
    "duration": 12,
    "start_time": "2024-04-01T07:26:52.342Z"
   },
   {
    "duration": 37,
    "start_time": "2024-04-01T07:26:52.356Z"
   },
   {
    "duration": 4,
    "start_time": "2024-04-01T07:26:52.395Z"
   },
   {
    "duration": 38,
    "start_time": "2024-04-01T07:26:52.400Z"
   },
   {
    "duration": 22,
    "start_time": "2024-04-01T07:26:52.440Z"
   },
   {
    "duration": 37,
    "start_time": "2024-04-01T07:26:52.464Z"
   },
   {
    "duration": 51,
    "start_time": "2024-04-01T07:26:52.503Z"
   },
   {
    "duration": 6,
    "start_time": "2024-04-01T07:26:52.556Z"
   },
   {
    "duration": 81,
    "start_time": "2024-04-01T07:26:52.563Z"
   },
   {
    "duration": 70,
    "start_time": "2024-04-01T07:26:52.646Z"
   },
   {
    "duration": 22,
    "start_time": "2024-04-01T07:26:52.718Z"
   },
   {
    "duration": 101,
    "start_time": "2024-04-01T07:27:37.637Z"
   },
   {
    "duration": 1208,
    "start_time": "2024-04-01T07:29:56.539Z"
   },
   {
    "duration": 195,
    "start_time": "2024-04-01T07:29:57.749Z"
   },
   {
    "duration": 13,
    "start_time": "2024-04-01T07:29:57.946Z"
   },
   {
    "duration": 38,
    "start_time": "2024-04-01T07:29:57.961Z"
   },
   {
    "duration": 4,
    "start_time": "2024-04-01T07:29:58.000Z"
   },
   {
    "duration": 17,
    "start_time": "2024-04-01T07:29:58.005Z"
   },
   {
    "duration": 14,
    "start_time": "2024-04-01T07:29:58.024Z"
   },
   {
    "duration": 16,
    "start_time": "2024-04-01T07:29:58.040Z"
   },
   {
    "duration": 10,
    "start_time": "2024-04-01T07:29:58.057Z"
   },
   {
    "duration": 4,
    "start_time": "2024-04-01T07:29:58.069Z"
   },
   {
    "duration": 74,
    "start_time": "2024-04-01T07:29:58.074Z"
   },
   {
    "duration": 87,
    "start_time": "2024-04-01T07:29:58.149Z"
   },
   {
    "duration": 35,
    "start_time": "2024-04-01T07:29:58.238Z"
   },
   {
    "duration": 120,
    "start_time": "2024-04-01T07:29:58.275Z"
   },
   {
    "duration": 1190,
    "start_time": "2024-04-01T07:59:37.764Z"
   },
   {
    "duration": 189,
    "start_time": "2024-04-01T07:59:38.956Z"
   },
   {
    "duration": 12,
    "start_time": "2024-04-01T07:59:39.146Z"
   },
   {
    "duration": 31,
    "start_time": "2024-04-01T07:59:39.160Z"
   },
   {
    "duration": 3,
    "start_time": "2024-04-01T07:59:39.194Z"
   },
   {
    "duration": 23,
    "start_time": "2024-04-01T07:59:56.389Z"
   },
   {
    "duration": 1215,
    "start_time": "2024-04-01T08:00:34.083Z"
   },
   {
    "duration": 195,
    "start_time": "2024-04-01T08:00:35.300Z"
   },
   {
    "duration": 15,
    "start_time": "2024-04-01T08:00:35.497Z"
   },
   {
    "duration": 33,
    "start_time": "2024-04-01T08:00:35.513Z"
   },
   {
    "duration": 28,
    "start_time": "2024-04-01T08:00:35.548Z"
   },
   {
    "duration": 16,
    "start_time": "2024-04-01T08:00:35.578Z"
   },
   {
    "duration": 1138,
    "start_time": "2024-04-01T08:01:09.923Z"
   },
   {
    "duration": 189,
    "start_time": "2024-04-01T08:01:11.063Z"
   },
   {
    "duration": 13,
    "start_time": "2024-04-01T08:01:11.254Z"
   },
   {
    "duration": 49,
    "start_time": "2024-04-01T08:01:11.268Z"
   },
   {
    "duration": 446,
    "start_time": "2024-04-01T08:01:11.320Z"
   },
   {
    "duration": 0,
    "start_time": "2024-04-01T08:01:11.768Z"
   },
   {
    "duration": 0,
    "start_time": "2024-04-01T08:01:11.769Z"
   },
   {
    "duration": 22,
    "start_time": "2024-04-01T08:01:57.459Z"
   },
   {
    "duration": 354,
    "start_time": "2024-04-01T08:01:59.078Z"
   },
   {
    "duration": 1146,
    "start_time": "2024-04-01T08:04:04.209Z"
   },
   {
    "duration": 188,
    "start_time": "2024-04-01T08:04:05.357Z"
   },
   {
    "duration": 12,
    "start_time": "2024-04-01T08:04:05.547Z"
   },
   {
    "duration": 31,
    "start_time": "2024-04-01T08:04:05.560Z"
   },
   {
    "duration": 14,
    "start_time": "2024-04-01T08:04:05.593Z"
   },
   {
    "duration": 5,
    "start_time": "2024-04-01T08:04:05.609Z"
   },
   {
    "duration": 17,
    "start_time": "2024-04-01T08:04:05.616Z"
   },
   {
    "duration": 23,
    "start_time": "2024-04-01T08:04:20.877Z"
   },
   {
    "duration": 8,
    "start_time": "2024-04-01T08:04:44.414Z"
   },
   {
    "duration": 4,
    "start_time": "2024-04-01T08:07:19.511Z"
   },
   {
    "duration": 24,
    "start_time": "2024-04-01T08:07:22.716Z"
   },
   {
    "duration": 1207,
    "start_time": "2024-04-01T08:09:29.643Z"
   },
   {
    "duration": 193,
    "start_time": "2024-04-01T08:09:30.853Z"
   },
   {
    "duration": 13,
    "start_time": "2024-04-01T08:09:31.048Z"
   },
   {
    "duration": 67,
    "start_time": "2024-04-01T08:09:31.063Z"
   },
   {
    "duration": 105,
    "start_time": "2024-04-01T08:09:31.133Z"
   },
   {
    "duration": 122,
    "start_time": "2024-04-01T08:09:31.240Z"
   },
   {
    "duration": 70,
    "start_time": "2024-04-01T08:09:31.363Z"
   },
   {
    "duration": 74,
    "start_time": "2024-04-01T08:09:31.435Z"
   },
   {
    "duration": 123,
    "start_time": "2024-04-01T08:09:31.511Z"
   },
   {
    "duration": 21,
    "start_time": "2024-04-01T08:10:08.604Z"
   },
   {
    "duration": 71,
    "start_time": "2024-04-01T08:11:32.229Z"
   },
   {
    "duration": 105,
    "start_time": "2024-04-01T08:12:15.431Z"
   },
   {
    "duration": 8,
    "start_time": "2024-04-01T08:12:31.822Z"
   },
   {
    "duration": 114,
    "start_time": "2024-04-01T08:13:43.342Z"
   },
   {
    "duration": 10,
    "start_time": "2024-04-01T08:13:54.278Z"
   },
   {
    "duration": 27,
    "start_time": "2024-04-01T08:14:33.464Z"
   },
   {
    "duration": 11,
    "start_time": "2024-04-01T08:15:20.389Z"
   },
   {
    "duration": 27,
    "start_time": "2024-04-01T08:15:21.322Z"
   },
   {
    "duration": 1168,
    "start_time": "2024-04-01T08:15:30.393Z"
   },
   {
    "duration": 192,
    "start_time": "2024-04-01T08:15:31.563Z"
   },
   {
    "duration": 12,
    "start_time": "2024-04-01T08:15:31.756Z"
   },
   {
    "duration": 70,
    "start_time": "2024-04-01T08:15:31.770Z"
   },
   {
    "duration": 90,
    "start_time": "2024-04-01T08:15:31.842Z"
   },
   {
    "duration": 56,
    "start_time": "2024-04-01T08:15:31.934Z"
   },
   {
    "duration": 80,
    "start_time": "2024-04-01T08:15:31.991Z"
   },
   {
    "duration": 88,
    "start_time": "2024-04-01T08:15:32.073Z"
   },
   {
    "duration": 83,
    "start_time": "2024-04-01T08:15:32.163Z"
   },
   {
    "duration": 40,
    "start_time": "2024-04-01T08:15:32.248Z"
   },
   {
    "duration": 75,
    "start_time": "2024-04-01T08:15:32.290Z"
   },
   {
    "duration": 110,
    "start_time": "2024-04-01T08:15:32.367Z"
   },
   {
    "duration": 21,
    "start_time": "2024-04-01T08:15:32.478Z"
   },
   {
    "duration": 1222,
    "start_time": "2024-04-01T08:16:02.453Z"
   },
   {
    "duration": 191,
    "start_time": "2024-04-01T08:16:03.677Z"
   },
   {
    "duration": 13,
    "start_time": "2024-04-01T08:16:03.870Z"
   },
   {
    "duration": 41,
    "start_time": "2024-04-01T08:16:03.885Z"
   },
   {
    "duration": 20,
    "start_time": "2024-04-01T08:16:03.929Z"
   },
   {
    "duration": 32,
    "start_time": "2024-04-01T08:16:03.951Z"
   },
   {
    "duration": 28,
    "start_time": "2024-04-01T08:16:03.985Z"
   },
   {
    "duration": 40,
    "start_time": "2024-04-01T08:16:04.014Z"
   },
   {
    "duration": 41,
    "start_time": "2024-04-01T08:16:04.056Z"
   },
   {
    "duration": 1374,
    "start_time": "2024-04-01T08:16:04.098Z"
   },
   {
    "duration": 0,
    "start_time": "2024-04-01T08:16:05.473Z"
   },
   {
    "duration": 0,
    "start_time": "2024-04-01T08:16:05.475Z"
   },
   {
    "duration": 0,
    "start_time": "2024-04-01T08:16:05.476Z"
   },
   {
    "duration": 21,
    "start_time": "2024-04-01T08:16:10.735Z"
   },
   {
    "duration": 73,
    "start_time": "2024-04-01T08:16:12.163Z"
   },
   {
    "duration": 104,
    "start_time": "2024-04-01T08:16:12.973Z"
   },
   {
    "duration": 24,
    "start_time": "2024-04-01T08:16:16.855Z"
   },
   {
    "duration": 16,
    "start_time": "2024-04-01T08:17:44.304Z"
   },
   {
    "duration": 23,
    "start_time": "2024-04-01T08:18:31.850Z"
   },
   {
    "duration": 22,
    "start_time": "2024-04-01T08:19:01.505Z"
   },
   {
    "duration": 21,
    "start_time": "2024-04-01T08:19:10.618Z"
   },
   {
    "duration": 24,
    "start_time": "2024-04-01T08:19:20.362Z"
   },
   {
    "duration": 78,
    "start_time": "2024-04-01T08:21:32.036Z"
   },
   {
    "duration": 93,
    "start_time": "2024-04-01T08:21:40.163Z"
   },
   {
    "duration": 26,
    "start_time": "2024-04-01T08:22:14.338Z"
   },
   {
    "duration": 19,
    "start_time": "2024-04-01T08:22:58.810Z"
   },
   {
    "duration": 81,
    "start_time": "2024-04-01T08:24:40.896Z"
   },
   {
    "duration": 92,
    "start_time": "2024-04-01T08:24:55.905Z"
   },
   {
    "duration": 9,
    "start_time": "2024-04-01T08:25:30.658Z"
   },
   {
    "duration": 10,
    "start_time": "2024-04-01T08:25:39.492Z"
   },
   {
    "duration": 55,
    "start_time": "2024-04-01T08:27:53.264Z"
   },
   {
    "duration": 42,
    "start_time": "2024-04-01T08:28:53.826Z"
   },
   {
    "duration": 15,
    "start_time": "2024-04-01T08:29:22.492Z"
   },
   {
    "duration": 43,
    "start_time": "2024-04-01T08:29:38.039Z"
   },
   {
    "duration": 7,
    "start_time": "2024-04-01T08:30:00.742Z"
   },
   {
    "duration": 61,
    "start_time": "2024-04-01T08:31:14.559Z"
   },
   {
    "duration": 6,
    "start_time": "2024-04-01T08:31:56.025Z"
   },
   {
    "duration": 5,
    "start_time": "2024-04-01T08:32:12.565Z"
   },
   {
    "duration": 1307,
    "start_time": "2024-04-01T11:34:59.019Z"
   },
   {
    "duration": 822,
    "start_time": "2024-04-01T11:35:00.328Z"
   },
   {
    "duration": 12,
    "start_time": "2024-04-01T11:35:01.152Z"
   },
   {
    "duration": 393,
    "start_time": "2024-04-01T11:35:01.166Z"
   },
   {
    "duration": 199,
    "start_time": "2024-04-01T11:35:01.561Z"
   },
   {
    "duration": 103,
    "start_time": "2024-04-01T11:35:01.763Z"
   },
   {
    "duration": 138,
    "start_time": "2024-04-01T11:35:01.868Z"
   },
   {
    "duration": 308,
    "start_time": "2024-04-01T11:35:02.008Z"
   },
   {
    "duration": 76,
    "start_time": "2024-04-01T11:35:02.318Z"
   },
   {
    "duration": 101,
    "start_time": "2024-04-01T11:35:02.396Z"
   },
   {
    "duration": 101,
    "start_time": "2024-04-01T11:35:02.499Z"
   },
   {
    "duration": 19,
    "start_time": "2024-04-01T11:35:02.602Z"
   },
   {
    "duration": 69,
    "start_time": "2024-04-01T11:35:02.623Z"
   },
   {
    "duration": 173,
    "start_time": "2024-04-01T11:35:02.694Z"
   },
   {
    "duration": 199,
    "start_time": "2024-04-01T11:35:02.869Z"
   },
   {
    "duration": 76,
    "start_time": "2024-04-01T11:35:03.069Z"
   },
   {
    "duration": 102,
    "start_time": "2024-04-01T11:35:08.580Z"
   },
   {
    "duration": 26,
    "start_time": "2024-04-01T11:37:02.185Z"
   },
   {
    "duration": 21,
    "start_time": "2024-04-01T11:37:32.350Z"
   },
   {
    "duration": 22,
    "start_time": "2024-04-01T11:38:23.171Z"
   },
   {
    "duration": 5,
    "start_time": "2024-04-01T11:39:15.966Z"
   },
   {
    "duration": 5,
    "start_time": "2024-04-01T11:39:44.509Z"
   },
   {
    "duration": 5,
    "start_time": "2024-04-01T11:39:58.201Z"
   },
   {
    "duration": 229,
    "start_time": "2024-04-01T12:12:44.839Z"
   },
   {
    "duration": 328,
    "start_time": "2024-04-01T12:14:52.262Z"
   },
   {
    "duration": 504,
    "start_time": "2024-04-01T12:16:28.384Z"
   },
   {
    "duration": 436,
    "start_time": "2024-04-01T12:16:46.668Z"
   },
   {
    "duration": 218,
    "start_time": "2024-04-01T12:17:37.364Z"
   },
   {
    "duration": 54,
    "start_time": "2024-04-01T12:23:37.827Z"
   },
   {
    "duration": 40,
    "start_time": "2024-04-01T12:23:51.484Z"
   },
   {
    "duration": 11,
    "start_time": "2024-04-01T12:24:56.794Z"
   },
   {
    "duration": 41,
    "start_time": "2024-04-01T12:25:16.088Z"
   },
   {
    "duration": 9,
    "start_time": "2024-04-01T12:25:38.960Z"
   },
   {
    "duration": 65,
    "start_time": "2024-04-01T12:26:05.590Z"
   },
   {
    "duration": 199,
    "start_time": "2024-04-01T12:26:10.350Z"
   },
   {
    "duration": 228,
    "start_time": "2024-04-01T12:26:16.840Z"
   },
   {
    "duration": 241,
    "start_time": "2024-04-01T12:26:46.475Z"
   },
   {
    "duration": 231,
    "start_time": "2024-04-01T12:27:12.441Z"
   },
   {
    "duration": 218,
    "start_time": "2024-04-01T12:27:22.049Z"
   },
   {
    "duration": 220,
    "start_time": "2024-04-01T12:27:30.702Z"
   },
   {
    "duration": 219,
    "start_time": "2024-04-01T12:27:40.860Z"
   },
   {
    "duration": 39,
    "start_time": "2024-04-01T12:28:07.487Z"
   },
   {
    "duration": 16,
    "start_time": "2024-04-01T12:28:09.301Z"
   },
   {
    "duration": 41,
    "start_time": "2024-04-01T12:28:26.773Z"
   },
   {
    "duration": 309,
    "start_time": "2024-04-01T12:28:28.192Z"
   },
   {
    "duration": 241,
    "start_time": "2024-04-01T12:28:55.474Z"
   },
   {
    "duration": 245,
    "start_time": "2024-04-01T12:29:03.821Z"
   },
   {
    "duration": 214,
    "start_time": "2024-04-01T12:30:24.256Z"
   },
   {
    "duration": 228,
    "start_time": "2024-04-01T12:30:34.206Z"
   },
   {
    "duration": 191,
    "start_time": "2024-04-01T12:30:57.360Z"
   },
   {
    "duration": 15,
    "start_time": "2024-04-01T12:31:18.354Z"
   },
   {
    "duration": 28,
    "start_time": "2024-04-01T12:31:31.619Z"
   },
   {
    "duration": 217,
    "start_time": "2024-04-01T12:31:33.644Z"
   },
   {
    "duration": 15,
    "start_time": "2024-04-01T12:32:13.630Z"
   },
   {
    "duration": 39,
    "start_time": "2024-04-01T12:32:26.970Z"
   },
   {
    "duration": 242,
    "start_time": "2024-04-01T12:32:31.269Z"
   },
   {
    "duration": 9,
    "start_time": "2024-04-01T12:33:32.291Z"
   },
   {
    "duration": 16,
    "start_time": "2024-04-01T12:34:06.187Z"
   },
   {
    "duration": 23,
    "start_time": "2024-04-01T12:34:47.366Z"
   },
   {
    "duration": 38,
    "start_time": "2024-04-01T12:34:54.824Z"
   },
   {
    "duration": 51,
    "start_time": "2024-04-01T12:35:00.338Z"
   },
   {
    "duration": 240,
    "start_time": "2024-04-01T12:35:31.276Z"
   },
   {
    "duration": 329,
    "start_time": "2024-04-01T12:36:02.880Z"
   },
   {
    "duration": 231,
    "start_time": "2024-04-01T12:36:23.747Z"
   },
   {
    "duration": 227,
    "start_time": "2024-04-01T12:36:45.112Z"
   },
   {
    "duration": 234,
    "start_time": "2024-04-01T12:37:40.152Z"
   },
   {
    "duration": 226,
    "start_time": "2024-04-01T12:37:49.128Z"
   },
   {
    "duration": 268,
    "start_time": "2024-04-01T12:38:08.850Z"
   },
   {
    "duration": 260,
    "start_time": "2024-04-01T12:38:16.623Z"
   },
   {
    "duration": 218,
    "start_time": "2024-04-01T12:38:28.324Z"
   },
   {
    "duration": 222,
    "start_time": "2024-04-01T12:38:51.467Z"
   },
   {
    "duration": 219,
    "start_time": "2024-04-01T12:39:07.915Z"
   },
   {
    "duration": 235,
    "start_time": "2024-04-01T12:39:15.195Z"
   },
   {
    "duration": 70,
    "start_time": "2024-04-01T12:43:22.625Z"
   },
   {
    "duration": 1329,
    "start_time": "2024-04-02T04:08:59.657Z"
   },
   {
    "duration": 335,
    "start_time": "2024-04-02T04:09:00.988Z"
   },
   {
    "duration": 11,
    "start_time": "2024-04-02T04:09:01.325Z"
   },
   {
    "duration": 38,
    "start_time": "2024-04-02T04:09:01.338Z"
   },
   {
    "duration": 13,
    "start_time": "2024-04-02T04:09:01.378Z"
   },
   {
    "duration": 37,
    "start_time": "2024-04-02T04:09:01.392Z"
   },
   {
    "duration": 46,
    "start_time": "2024-04-02T04:09:01.431Z"
   },
   {
    "duration": 29,
    "start_time": "2024-04-02T04:09:01.478Z"
   },
   {
    "duration": 33,
    "start_time": "2024-04-02T04:09:01.508Z"
   },
   {
    "duration": 70,
    "start_time": "2024-04-02T04:09:01.543Z"
   },
   {
    "duration": 106,
    "start_time": "2024-04-02T04:09:01.615Z"
   },
   {
    "duration": 80,
    "start_time": "2024-04-02T04:09:01.723Z"
   },
   {
    "duration": 40,
    "start_time": "2024-04-02T04:09:01.805Z"
   },
   {
    "duration": 31,
    "start_time": "2024-04-02T04:09:01.846Z"
   },
   {
    "duration": 54,
    "start_time": "2024-04-02T04:09:01.878Z"
   },
   {
    "duration": 5,
    "start_time": "2024-04-02T04:09:01.934Z"
   },
   {
    "duration": 35,
    "start_time": "2024-04-02T04:09:01.940Z"
   },
   {
    "duration": 4,
    "start_time": "2024-04-02T04:09:01.977Z"
   },
   {
    "duration": 22,
    "start_time": "2024-04-02T04:09:01.983Z"
   },
   {
    "duration": 18,
    "start_time": "2024-04-02T04:09:02.006Z"
   },
   {
    "duration": 45,
    "start_time": "2024-04-02T04:09:02.025Z"
   },
   {
    "duration": 259,
    "start_time": "2024-04-02T04:09:02.072Z"
   },
   {
    "duration": 55,
    "start_time": "2024-04-02T04:09:02.332Z"
   },
   {
    "duration": 246,
    "start_time": "2024-04-02T04:09:02.389Z"
   },
   {
    "duration": 228,
    "start_time": "2024-04-02T04:09:02.637Z"
   },
   {
    "duration": 247,
    "start_time": "2024-04-02T04:09:02.867Z"
   },
   {
    "duration": 504,
    "start_time": "2024-04-02T04:09:03.116Z"
   },
   {
    "duration": 471,
    "start_time": "2024-04-02T04:10:40.531Z"
   },
   {
    "duration": 561,
    "start_time": "2024-04-02T04:11:53.097Z"
   },
   {
    "duration": 172,
    "start_time": "2024-04-02T04:12:30.697Z"
   },
   {
    "duration": 593,
    "start_time": "2024-04-02T04:13:00.277Z"
   },
   {
    "duration": 170,
    "start_time": "2024-04-02T04:13:31.518Z"
   },
   {
    "duration": 190,
    "start_time": "2024-04-02T04:14:07.001Z"
   },
   {
    "duration": 724,
    "start_time": "2024-04-02T04:14:22.021Z"
   },
   {
    "duration": 285,
    "start_time": "2024-04-02T04:15:57.109Z"
   },
   {
    "duration": 808,
    "start_time": "2024-04-02T04:16:26.185Z"
   },
   {
    "duration": 747,
    "start_time": "2024-04-02T04:17:05.458Z"
   },
   {
    "duration": 747,
    "start_time": "2024-04-02T04:17:31.454Z"
   },
   {
    "duration": 263,
    "start_time": "2024-04-02T04:19:22.195Z"
   },
   {
    "duration": 264,
    "start_time": "2024-04-02T04:19:37.615Z"
   },
   {
    "duration": 365,
    "start_time": "2024-04-02T04:20:07.813Z"
   },
   {
    "duration": 735,
    "start_time": "2024-04-02T04:20:24.556Z"
   },
   {
    "duration": 274,
    "start_time": "2024-04-02T04:28:51.979Z"
   },
   {
    "duration": 31,
    "start_time": "2024-04-02T04:32:23.477Z"
   },
   {
    "duration": 60,
    "start_time": "2024-04-02T04:33:25.365Z"
   },
   {
    "duration": 33,
    "start_time": "2024-04-02T04:33:34.781Z"
   },
   {
    "duration": 31,
    "start_time": "2024-04-02T04:33:51.633Z"
   },
   {
    "duration": 13,
    "start_time": "2024-04-02T04:35:07.905Z"
   },
   {
    "duration": 25,
    "start_time": "2024-04-02T04:35:27.117Z"
   },
   {
    "duration": 33,
    "start_time": "2024-04-02T04:35:28.591Z"
   },
   {
    "duration": 15,
    "start_time": "2024-04-02T04:35:37.186Z"
   },
   {
    "duration": 22,
    "start_time": "2024-04-02T04:36:31.145Z"
   },
   {
    "duration": 33,
    "start_time": "2024-04-02T04:36:32.573Z"
   },
   {
    "duration": 15,
    "start_time": "2024-04-02T04:36:36.410Z"
   },
   {
    "duration": 23,
    "start_time": "2024-04-02T04:36:57.762Z"
   },
   {
    "duration": 36,
    "start_time": "2024-04-02T04:37:14.492Z"
   },
   {
    "duration": 17,
    "start_time": "2024-04-02T04:37:32.440Z"
   },
   {
    "duration": 31,
    "start_time": "2024-04-02T04:37:36.002Z"
   },
   {
    "duration": 14,
    "start_time": "2024-04-02T04:37:38.411Z"
   },
   {
    "duration": 23,
    "start_time": "2024-04-02T04:38:46.002Z"
   },
   {
    "duration": 37,
    "start_time": "2024-04-02T04:38:46.871Z"
   },
   {
    "duration": 24,
    "start_time": "2024-04-02T04:39:09.629Z"
   },
   {
    "duration": 14,
    "start_time": "2024-04-02T04:41:27.819Z"
   },
   {
    "duration": 31,
    "start_time": "2024-04-02T04:41:32.185Z"
   },
   {
    "duration": 19,
    "start_time": "2024-04-02T04:41:52.692Z"
   },
   {
    "duration": 30,
    "start_time": "2024-04-02T04:41:53.900Z"
   },
   {
    "duration": 15,
    "start_time": "2024-04-02T04:41:59.647Z"
   },
   {
    "duration": 13,
    "start_time": "2024-04-02T04:42:26.703Z"
   },
   {
    "duration": 30,
    "start_time": "2024-04-02T04:42:28.369Z"
   },
   {
    "duration": 13,
    "start_time": "2024-04-02T04:42:31.439Z"
   },
   {
    "duration": 277,
    "start_time": "2024-04-02T04:42:38.191Z"
   },
   {
    "duration": 1088,
    "start_time": "2024-04-02T04:43:08.262Z"
   },
   {
    "duration": 184,
    "start_time": "2024-04-02T04:43:09.352Z"
   },
   {
    "duration": 11,
    "start_time": "2024-04-02T04:43:09.538Z"
   },
   {
    "duration": 22,
    "start_time": "2024-04-02T04:43:09.551Z"
   },
   {
    "duration": 13,
    "start_time": "2024-04-02T04:43:09.575Z"
   },
   {
    "duration": 44,
    "start_time": "2024-04-02T04:43:09.590Z"
   },
   {
    "duration": 9,
    "start_time": "2024-04-02T04:43:09.635Z"
   },
   {
    "duration": 19,
    "start_time": "2024-04-02T04:43:09.645Z"
   },
   {
    "duration": 23,
    "start_time": "2024-04-02T04:43:09.665Z"
   },
   {
    "duration": 83,
    "start_time": "2024-04-02T04:43:09.691Z"
   },
   {
    "duration": 120,
    "start_time": "2024-04-02T04:43:09.776Z"
   },
   {
    "duration": 84,
    "start_time": "2024-04-02T04:43:09.898Z"
   },
   {
    "duration": 45,
    "start_time": "2024-04-02T04:43:09.983Z"
   },
   {
    "duration": 32,
    "start_time": "2024-04-02T04:43:10.030Z"
   },
   {
    "duration": 33,
    "start_time": "2024-04-02T04:43:10.064Z"
   },
   {
    "duration": 20,
    "start_time": "2024-04-02T04:43:10.098Z"
   },
   {
    "duration": 26,
    "start_time": "2024-04-02T04:43:10.120Z"
   },
   {
    "duration": 5,
    "start_time": "2024-04-02T04:43:10.147Z"
   },
   {
    "duration": 14,
    "start_time": "2024-04-02T04:43:10.153Z"
   },
   {
    "duration": 18,
    "start_time": "2024-04-02T04:43:10.168Z"
   },
   {
    "duration": 57,
    "start_time": "2024-04-02T04:43:10.187Z"
   },
   {
    "duration": 251,
    "start_time": "2024-04-02T04:43:10.246Z"
   },
   {
    "duration": 755,
    "start_time": "2024-04-02T04:43:10.499Z"
   },
   {
    "duration": 373,
    "start_time": "2024-04-02T04:43:11.256Z"
   },
   {
    "duration": 0,
    "start_time": "2024-04-02T04:43:11.630Z"
   },
   {
    "duration": 0,
    "start_time": "2024-04-02T04:43:11.631Z"
   },
   {
    "duration": 0,
    "start_time": "2024-04-02T04:43:11.632Z"
   },
   {
    "duration": 38,
    "start_time": "2024-04-02T04:44:00.858Z"
   },
   {
    "duration": 19,
    "start_time": "2024-04-02T04:44:06.125Z"
   },
   {
    "duration": 21,
    "start_time": "2024-04-02T04:44:08.115Z"
   },
   {
    "duration": 6,
    "start_time": "2024-04-02T04:44:15.000Z"
   },
   {
    "duration": 25,
    "start_time": "2024-04-02T04:44:29.468Z"
   },
   {
    "duration": 3,
    "start_time": "2024-04-02T04:44:42.349Z"
   },
   {
    "duration": 6,
    "start_time": "2024-04-02T04:44:52.532Z"
   },
   {
    "duration": 16,
    "start_time": "2024-04-02T04:50:13.272Z"
   },
   {
    "duration": 1144,
    "start_time": "2024-04-02T04:50:23.289Z"
   },
   {
    "duration": 179,
    "start_time": "2024-04-02T04:50:24.435Z"
   },
   {
    "duration": 11,
    "start_time": "2024-04-02T04:50:24.616Z"
   },
   {
    "duration": 21,
    "start_time": "2024-04-02T04:50:24.629Z"
   },
   {
    "duration": 12,
    "start_time": "2024-04-02T04:50:24.652Z"
   },
   {
    "duration": 20,
    "start_time": "2024-04-02T04:50:24.666Z"
   },
   {
    "duration": 35,
    "start_time": "2024-04-02T04:50:24.688Z"
   },
   {
    "duration": 9,
    "start_time": "2024-04-02T04:50:24.724Z"
   },
   {
    "duration": 22,
    "start_time": "2024-04-02T04:50:24.734Z"
   },
   {
    "duration": 103,
    "start_time": "2024-04-02T04:50:24.759Z"
   },
   {
    "duration": 109,
    "start_time": "2024-04-02T04:50:24.864Z"
   },
   {
    "duration": 87,
    "start_time": "2024-04-02T04:50:24.974Z"
   },
   {
    "duration": 2,
    "start_time": "2024-04-02T04:50:25.063Z"
   },
   {
    "duration": 35,
    "start_time": "2024-04-02T04:50:25.067Z"
   },
   {
    "duration": 38,
    "start_time": "2024-04-02T04:50:25.104Z"
   },
   {
    "duration": 34,
    "start_time": "2024-04-02T04:50:25.144Z"
   },
   {
    "duration": 5,
    "start_time": "2024-04-02T04:50:25.179Z"
   },
   {
    "duration": 41,
    "start_time": "2024-04-02T04:50:25.186Z"
   },
   {
    "duration": 5,
    "start_time": "2024-04-02T04:50:25.228Z"
   },
   {
    "duration": 14,
    "start_time": "2024-04-02T04:50:25.235Z"
   },
   {
    "duration": 8,
    "start_time": "2024-04-02T04:50:25.251Z"
   },
   {
    "duration": 56,
    "start_time": "2024-04-02T04:50:25.261Z"
   },
   {
    "duration": 249,
    "start_time": "2024-04-02T04:50:25.319Z"
   },
   {
    "duration": 746,
    "start_time": "2024-04-02T04:50:25.569Z"
   },
   {
    "duration": 369,
    "start_time": "2024-04-02T04:50:26.316Z"
   },
   {
    "duration": 0,
    "start_time": "2024-04-02T04:50:26.687Z"
   },
   {
    "duration": 0,
    "start_time": "2024-04-02T04:50:26.688Z"
   },
   {
    "duration": 0,
    "start_time": "2024-04-02T04:50:26.689Z"
   },
   {
    "duration": 0,
    "start_time": "2024-04-02T04:50:26.690Z"
   },
   {
    "duration": 21,
    "start_time": "2024-04-02T04:50:41.804Z"
   },
   {
    "duration": 31,
    "start_time": "2024-04-02T04:50:43.343Z"
   },
   {
    "duration": 15,
    "start_time": "2024-04-02T04:50:46.807Z"
   },
   {
    "duration": 17,
    "start_time": "2024-04-02T04:50:50.791Z"
   },
   {
    "duration": 19,
    "start_time": "2024-04-02T04:51:13.372Z"
   },
   {
    "duration": 13,
    "start_time": "2024-04-02T04:51:28.538Z"
   },
   {
    "duration": 12,
    "start_time": "2024-04-02T04:51:53.220Z"
   },
   {
    "duration": 14,
    "start_time": "2024-04-02T04:52:12.652Z"
   },
   {
    "duration": 39,
    "start_time": "2024-04-02T04:56:35.675Z"
   },
   {
    "duration": 36,
    "start_time": "2024-04-02T04:56:43.264Z"
   },
   {
    "duration": 40,
    "start_time": "2024-04-02T04:58:25.709Z"
   },
   {
    "duration": 36,
    "start_time": "2024-04-02T04:58:43.919Z"
   },
   {
    "duration": 51,
    "start_time": "2024-04-02T05:01:07.856Z"
   },
   {
    "duration": 68,
    "start_time": "2024-04-02T05:01:31.516Z"
   },
   {
    "duration": 62,
    "start_time": "2024-04-02T05:03:33.134Z"
   },
   {
    "duration": 56,
    "start_time": "2024-04-02T05:03:38.724Z"
   },
   {
    "duration": 64,
    "start_time": "2024-04-02T05:03:45.644Z"
   },
   {
    "duration": 58,
    "start_time": "2024-04-02T05:05:23.418Z"
   },
   {
    "duration": 61,
    "start_time": "2024-04-02T05:05:44.494Z"
   },
   {
    "duration": 66,
    "start_time": "2024-04-02T05:06:00.841Z"
   },
   {
    "duration": 59,
    "start_time": "2024-04-02T05:06:27.911Z"
   },
   {
    "duration": 6,
    "start_time": "2024-04-02T05:08:15.955Z"
   },
   {
    "duration": 9,
    "start_time": "2024-04-02T05:09:20.173Z"
   },
   {
    "duration": 9,
    "start_time": "2024-04-02T05:09:41.087Z"
   },
   {
    "duration": 57,
    "start_time": "2024-04-02T05:10:05.916Z"
   },
   {
    "duration": 11,
    "start_time": "2024-04-02T05:10:31.725Z"
   },
   {
    "duration": 4,
    "start_time": "2024-04-02T05:24:02.458Z"
   },
   {
    "duration": 10,
    "start_time": "2024-04-02T05:24:14.259Z"
   },
   {
    "duration": 4,
    "start_time": "2024-04-02T05:24:19.829Z"
   },
   {
    "duration": 9,
    "start_time": "2024-04-02T05:27:34.595Z"
   },
   {
    "duration": 12,
    "start_time": "2024-04-02T05:28:33.783Z"
   },
   {
    "duration": 840,
    "start_time": "2024-04-02T05:28:48.891Z"
   },
   {
    "duration": 5,
    "start_time": "2024-04-02T05:29:36.178Z"
   },
   {
    "duration": 9,
    "start_time": "2024-04-02T05:29:47.199Z"
   },
   {
    "duration": 8,
    "start_time": "2024-04-02T05:30:58.027Z"
   },
   {
    "duration": 9,
    "start_time": "2024-04-02T05:30:59.641Z"
   },
   {
    "duration": 7,
    "start_time": "2024-04-02T05:31:55.828Z"
   },
   {
    "duration": 8,
    "start_time": "2024-04-02T05:31:57.617Z"
   },
   {
    "duration": 7,
    "start_time": "2024-04-02T05:32:38.086Z"
   },
   {
    "duration": 8,
    "start_time": "2024-04-02T05:32:39.404Z"
   },
   {
    "duration": 6,
    "start_time": "2024-04-02T05:33:49.098Z"
   },
   {
    "duration": 8,
    "start_time": "2024-04-02T05:33:50.720Z"
   },
   {
    "duration": 7,
    "start_time": "2024-04-02T05:34:05.950Z"
   },
   {
    "duration": 8,
    "start_time": "2024-04-02T05:34:06.673Z"
   },
   {
    "duration": 7,
    "start_time": "2024-04-02T05:34:55.913Z"
   },
   {
    "duration": 9,
    "start_time": "2024-04-02T05:34:56.640Z"
   },
   {
    "duration": 7,
    "start_time": "2024-04-02T05:39:27.363Z"
   },
   {
    "duration": 9,
    "start_time": "2024-04-02T05:39:28.645Z"
   },
   {
    "duration": 26,
    "start_time": "2024-04-02T05:41:34.561Z"
   },
   {
    "duration": 12,
    "start_time": "2024-04-02T05:42:07.860Z"
   },
   {
    "duration": 8,
    "start_time": "2024-04-02T05:42:23.916Z"
   },
   {
    "duration": 9,
    "start_time": "2024-04-02T05:42:29.055Z"
   },
   {
    "duration": 8,
    "start_time": "2024-04-02T05:42:35.963Z"
   },
   {
    "duration": 12,
    "start_time": "2024-04-02T05:44:31.495Z"
   },
   {
    "duration": 7,
    "start_time": "2024-04-02T05:44:32.655Z"
   },
   {
    "duration": 15,
    "start_time": "2024-04-02T05:46:24.596Z"
   },
   {
    "duration": 3,
    "start_time": "2024-04-02T05:46:43.827Z"
   },
   {
    "duration": 5,
    "start_time": "2024-04-02T05:46:58.932Z"
   },
   {
    "duration": 5,
    "start_time": "2024-04-02T05:47:33.261Z"
   },
   {
    "duration": 8,
    "start_time": "2024-04-02T09:10:38.864Z"
   },
   {
    "duration": 6,
    "start_time": "2024-04-02T09:11:34.240Z"
   },
   {
    "duration": 8,
    "start_time": "2024-04-02T09:11:54.503Z"
   },
   {
    "duration": 3,
    "start_time": "2024-04-02T09:16:23.644Z"
   },
   {
    "duration": 10,
    "start_time": "2024-04-02T09:18:30.008Z"
   },
   {
    "duration": 6,
    "start_time": "2024-04-02T09:19:12.287Z"
   },
   {
    "duration": 4,
    "start_time": "2024-04-02T09:19:34.619Z"
   },
   {
    "duration": 16,
    "start_time": "2024-04-02T09:24:44.151Z"
   },
   {
    "duration": 16,
    "start_time": "2024-04-02T09:25:02.096Z"
   },
   {
    "duration": 12,
    "start_time": "2024-04-02T09:25:16.766Z"
   },
   {
    "duration": 17,
    "start_time": "2024-04-02T09:25:26.587Z"
   },
   {
    "duration": 27,
    "start_time": "2024-04-02T09:53:48.567Z"
   },
   {
    "duration": 30,
    "start_time": "2024-04-02T09:54:02.553Z"
   },
   {
    "duration": 35,
    "start_time": "2024-04-02T09:54:17.865Z"
   },
   {
    "duration": 15,
    "start_time": "2024-04-02T10:07:45.815Z"
   },
   {
    "duration": 134,
    "start_time": "2024-04-02T10:14:10.922Z"
   },
   {
    "duration": 12,
    "start_time": "2024-04-02T10:16:01.356Z"
   },
   {
    "duration": 98,
    "start_time": "2024-04-02T10:17:08.307Z"
   },
   {
    "duration": 92,
    "start_time": "2024-04-02T10:17:17.679Z"
   },
   {
    "duration": 103,
    "start_time": "2024-04-02T10:17:39.347Z"
   },
   {
    "duration": 212,
    "start_time": "2024-04-02T10:19:11.883Z"
   },
   {
    "duration": 129,
    "start_time": "2024-04-02T10:19:19.116Z"
   },
   {
    "duration": 52,
    "start_time": "2024-04-03T05:08:31.509Z"
   },
   {
    "duration": 1439,
    "start_time": "2024-04-03T05:08:50.381Z"
   },
   {
    "duration": 885,
    "start_time": "2024-04-03T05:08:51.822Z"
   },
   {
    "duration": 12,
    "start_time": "2024-04-03T05:08:52.709Z"
   },
   {
    "duration": 39,
    "start_time": "2024-04-03T05:08:52.724Z"
   },
   {
    "duration": 14,
    "start_time": "2024-04-03T05:08:52.765Z"
   },
   {
    "duration": 8,
    "start_time": "2024-04-03T05:08:52.781Z"
   },
   {
    "duration": 25,
    "start_time": "2024-04-03T05:08:52.790Z"
   },
   {
    "duration": 24,
    "start_time": "2024-04-03T05:08:52.816Z"
   },
   {
    "duration": 70,
    "start_time": "2024-04-03T05:08:52.841Z"
   },
   {
    "duration": 122,
    "start_time": "2024-04-03T05:08:52.914Z"
   },
   {
    "duration": 89,
    "start_time": "2024-04-03T05:08:53.037Z"
   },
   {
    "duration": 50,
    "start_time": "2024-04-03T05:08:53.128Z"
   },
   {
    "duration": 30,
    "start_time": "2024-04-03T05:08:53.179Z"
   },
   {
    "duration": 36,
    "start_time": "2024-04-03T05:08:53.211Z"
   },
   {
    "duration": 31,
    "start_time": "2024-04-03T05:08:53.248Z"
   },
   {
    "duration": 6,
    "start_time": "2024-04-03T05:08:53.281Z"
   },
   {
    "duration": 24,
    "start_time": "2024-04-03T05:08:53.289Z"
   },
   {
    "duration": 5,
    "start_time": "2024-04-03T05:08:53.315Z"
   },
   {
    "duration": 188,
    "start_time": "2024-04-03T05:08:53.322Z"
   },
   {
    "duration": 13,
    "start_time": "2024-04-03T05:08:53.513Z"
   },
   {
    "duration": 16,
    "start_time": "2024-04-03T05:08:53.528Z"
   },
   {
    "duration": 10,
    "start_time": "2024-04-03T05:08:53.546Z"
   },
   {
    "duration": 57,
    "start_time": "2024-04-03T05:08:53.558Z"
   },
   {
    "duration": 281,
    "start_time": "2024-04-03T05:08:53.617Z"
   },
   {
    "duration": 799,
    "start_time": "2024-04-03T05:08:53.900Z"
   },
   {
    "duration": 19,
    "start_time": "2024-04-03T05:08:54.701Z"
   },
   {
    "duration": 34,
    "start_time": "2024-04-03T05:08:54.722Z"
   },
   {
    "duration": 28,
    "start_time": "2024-04-03T05:08:54.759Z"
   },
   {
    "duration": 30,
    "start_time": "2024-04-03T05:08:54.789Z"
   },
   {
    "duration": 16,
    "start_time": "2024-04-03T05:08:54.821Z"
   },
   {
    "duration": 15,
    "start_time": "2024-04-03T05:08:54.839Z"
   },
   {
    "duration": 43,
    "start_time": "2024-04-03T05:08:54.873Z"
   },
   {
    "duration": 83,
    "start_time": "2024-04-03T05:08:54.918Z"
   },
   {
    "duration": 6,
    "start_time": "2024-04-03T05:08:55.003Z"
   },
   {
    "duration": 17,
    "start_time": "2024-04-03T05:08:55.011Z"
   },
   {
    "duration": 21,
    "start_time": "2024-04-03T05:08:55.029Z"
   },
   {
    "duration": 29,
    "start_time": "2024-04-03T05:08:55.052Z"
   },
   {
    "duration": 22,
    "start_time": "2024-04-03T05:08:55.083Z"
   },
   {
    "duration": 25,
    "start_time": "2024-04-03T05:08:55.106Z"
   },
   {
    "duration": 7,
    "start_time": "2024-04-03T05:08:55.132Z"
   },
   {
    "duration": 13,
    "start_time": "2024-04-03T05:08:55.140Z"
   },
   {
    "duration": 18,
    "start_time": "2024-04-03T05:08:55.154Z"
   },
   {
    "duration": 27,
    "start_time": "2024-04-03T05:08:55.173Z"
   },
   {
    "duration": 13,
    "start_time": "2024-04-03T05:08:55.202Z"
   },
   {
    "duration": 13,
    "start_time": "2024-04-03T05:08:55.217Z"
   },
   {
    "duration": 59,
    "start_time": "2024-04-03T05:08:55.232Z"
   },
   {
    "duration": 46,
    "start_time": "2024-04-03T05:09:41.122Z"
   },
   {
    "duration": 44,
    "start_time": "2024-04-03T05:11:08.391Z"
   },
   {
    "duration": 45,
    "start_time": "2024-04-03T05:11:17.853Z"
   },
   {
    "duration": 141,
    "start_time": "2024-04-03T05:13:34.557Z"
   },
   {
    "duration": 44,
    "start_time": "2024-04-03T05:14:12.853Z"
   },
   {
    "duration": 43,
    "start_time": "2024-04-03T05:14:53.737Z"
   },
   {
    "duration": 38,
    "start_time": "2024-04-03T05:15:04.616Z"
   },
   {
    "duration": 9,
    "start_time": "2024-04-03T05:15:12.413Z"
   },
   {
    "duration": 7,
    "start_time": "2024-04-03T05:15:43.487Z"
   },
   {
    "duration": 9,
    "start_time": "2024-04-03T05:15:53.017Z"
   },
   {
    "duration": 6,
    "start_time": "2024-04-03T05:17:20.770Z"
   },
   {
    "duration": 9,
    "start_time": "2024-04-03T05:17:31.604Z"
   },
   {
    "duration": 8,
    "start_time": "2024-04-03T05:17:51.438Z"
   },
   {
    "duration": 4,
    "start_time": "2024-04-03T05:33:34.487Z"
   },
   {
    "duration": 5,
    "start_time": "2024-04-03T05:48:37.695Z"
   },
   {
    "duration": 39,
    "start_time": "2024-04-03T05:49:30.973Z"
   },
   {
    "duration": 48,
    "start_time": "2024-04-03T05:49:57.890Z"
   },
   {
    "duration": 5,
    "start_time": "2024-04-03T05:50:21.064Z"
   },
   {
    "duration": 1407,
    "start_time": "2024-04-03T05:50:22.899Z"
   },
   {
    "duration": 1494,
    "start_time": "2024-04-03T05:50:37.725Z"
   },
   {
    "duration": 9,
    "start_time": "2024-04-03T05:51:51.056Z"
   },
   {
    "duration": 1324,
    "start_time": "2024-04-03T05:51:52.012Z"
   },
   {
    "duration": 84,
    "start_time": "2024-04-03T05:52:30.353Z"
   },
   {
    "duration": 1287,
    "start_time": "2024-04-03T05:52:31.421Z"
   },
   {
    "duration": 7,
    "start_time": "2024-04-03T05:54:35.863Z"
   },
   {
    "duration": 1391,
    "start_time": "2024-04-03T05:54:37.022Z"
   },
   {
    "duration": 5,
    "start_time": "2024-04-03T05:55:11.481Z"
   },
   {
    "duration": 20,
    "start_time": "2024-04-03T05:55:14.744Z"
   },
   {
    "duration": 5,
    "start_time": "2024-04-03T05:55:55.774Z"
   },
   {
    "duration": 1314,
    "start_time": "2024-04-03T05:55:56.944Z"
   },
   {
    "duration": 5,
    "start_time": "2024-04-03T05:58:18.664Z"
   },
   {
    "duration": 1446,
    "start_time": "2024-04-03T05:58:19.924Z"
   },
   {
    "duration": 91,
    "start_time": "2024-04-03T05:59:02.552Z"
   },
   {
    "duration": 29,
    "start_time": "2024-04-03T05:59:16.907Z"
   },
   {
    "duration": 1352,
    "start_time": "2024-04-03T05:59:37.710Z"
   },
   {
    "duration": 11,
    "start_time": "2024-04-03T06:00:49.532Z"
   },
   {
    "duration": 1392,
    "start_time": "2024-04-03T06:01:15.769Z"
   },
   {
    "duration": 11,
    "start_time": "2024-04-03T06:01:34.231Z"
   },
   {
    "duration": 7,
    "start_time": "2024-04-03T06:01:37.796Z"
   },
   {
    "duration": 9,
    "start_time": "2024-04-03T06:02:52.241Z"
   },
   {
    "duration": 1333,
    "start_time": "2024-04-03T06:03:03.208Z"
   },
   {
    "duration": 1386,
    "start_time": "2024-04-03T06:03:34.069Z"
   },
   {
    "duration": 14,
    "start_time": "2024-04-03T06:04:25.134Z"
   },
   {
    "duration": 10,
    "start_time": "2024-04-03T06:04:58.289Z"
   },
   {
    "duration": 11,
    "start_time": "2024-04-03T06:05:02.654Z"
   },
   {
    "duration": 1466,
    "start_time": "2024-04-03T06:05:07.919Z"
   },
   {
    "duration": 1339,
    "start_time": "2024-04-03T06:05:34.738Z"
   },
   {
    "duration": 12,
    "start_time": "2024-04-03T06:05:46.893Z"
   },
   {
    "duration": 13,
    "start_time": "2024-04-03T06:05:57.197Z"
   },
   {
    "duration": 1331,
    "start_time": "2024-04-03T06:06:02.259Z"
   },
   {
    "duration": 14,
    "start_time": "2024-04-03T06:06:12.082Z"
   },
   {
    "duration": 12,
    "start_time": "2024-04-03T06:06:33.130Z"
   },
   {
    "duration": 19,
    "start_time": "2024-04-03T06:07:06.803Z"
   },
   {
    "duration": 12,
    "start_time": "2024-04-03T06:07:33.612Z"
   },
   {
    "duration": 5,
    "start_time": "2024-04-03T06:07:52.592Z"
   },
   {
    "duration": 21,
    "start_time": "2024-04-03T06:07:57.183Z"
   },
   {
    "duration": 6,
    "start_time": "2024-04-03T06:08:20.065Z"
   },
   {
    "duration": 9,
    "start_time": "2024-04-03T06:08:23.745Z"
   },
   {
    "duration": 16,
    "start_time": "2024-04-03T06:08:32.170Z"
   },
   {
    "duration": 6,
    "start_time": "2024-04-03T06:08:48.978Z"
   },
   {
    "duration": 9,
    "start_time": "2024-04-03T06:08:50.779Z"
   },
   {
    "duration": 10,
    "start_time": "2024-04-03T06:09:28.368Z"
   },
   {
    "duration": 4,
    "start_time": "2024-04-03T06:11:46.521Z"
   },
   {
    "duration": 9,
    "start_time": "2024-04-03T06:12:37.869Z"
   },
   {
    "duration": 9,
    "start_time": "2024-04-03T06:12:38.768Z"
   },
   {
    "duration": 13,
    "start_time": "2024-04-03T06:13:04.139Z"
   },
   {
    "duration": 9,
    "start_time": "2024-04-03T06:13:17.166Z"
   },
   {
    "duration": 12,
    "start_time": "2024-04-03T06:13:18.359Z"
   },
   {
    "duration": 9,
    "start_time": "2024-04-03T06:13:41.219Z"
   },
   {
    "duration": 9,
    "start_time": "2024-04-03T06:13:58.783Z"
   },
   {
    "duration": 51,
    "start_time": "2024-04-03T06:45:27.405Z"
   },
   {
    "duration": 7,
    "start_time": "2024-04-03T06:46:48.204Z"
   },
   {
    "duration": 5,
    "start_time": "2024-04-03T06:46:50.410Z"
   },
   {
    "duration": 85,
    "start_time": "2024-04-03T06:48:56.290Z"
   },
   {
    "duration": 8,
    "start_time": "2024-04-03T06:49:07.519Z"
   },
   {
    "duration": 5,
    "start_time": "2024-04-03T06:49:15.393Z"
   },
   {
    "duration": 9,
    "start_time": "2024-04-03T06:49:43.655Z"
   },
   {
    "duration": 5,
    "start_time": "2024-04-03T06:54:25.817Z"
   },
   {
    "duration": 5,
    "start_time": "2024-04-03T06:54:27.796Z"
   },
   {
    "duration": 14,
    "start_time": "2024-04-03T06:55:35.579Z"
   },
   {
    "duration": 73,
    "start_time": "2024-04-03T06:55:41.554Z"
   },
   {
    "duration": 86,
    "start_time": "2024-04-03T06:55:49.316Z"
   },
   {
    "duration": 10,
    "start_time": "2024-04-03T06:57:46.343Z"
   },
   {
    "duration": 6,
    "start_time": "2024-04-03T06:58:10.396Z"
   },
   {
    "duration": 4,
    "start_time": "2024-04-03T06:58:17.709Z"
   },
   {
    "duration": 66,
    "start_time": "2024-04-03T07:01:26.750Z"
   },
   {
    "duration": 7,
    "start_time": "2024-04-03T07:01:28.796Z"
   },
   {
    "duration": 4,
    "start_time": "2024-04-03T07:01:32.724Z"
   },
   {
    "duration": 6,
    "start_time": "2024-04-03T07:01:33.498Z"
   },
   {
    "duration": 5,
    "start_time": "2024-04-03T07:01:35.366Z"
   },
   {
    "duration": 72,
    "start_time": "2024-04-03T07:02:02.828Z"
   },
   {
    "duration": 67,
    "start_time": "2024-04-03T07:02:52.173Z"
   },
   {
    "duration": 11,
    "start_time": "2024-04-03T07:10:06.015Z"
   },
   {
    "duration": 89,
    "start_time": "2024-04-03T07:10:22.124Z"
   },
   {
    "duration": 85,
    "start_time": "2024-04-03T07:10:36.761Z"
   },
   {
    "duration": 86,
    "start_time": "2024-04-03T07:10:38.897Z"
   },
   {
    "duration": 10,
    "start_time": "2024-04-03T07:18:38.449Z"
   },
   {
    "duration": 87,
    "start_time": "2024-04-03T07:18:47.740Z"
   },
   {
    "duration": 85,
    "start_time": "2024-04-03T07:18:48.846Z"
   },
   {
    "duration": 83,
    "start_time": "2024-04-03T07:18:49.619Z"
   },
   {
    "duration": 67,
    "start_time": "2024-04-03T07:24:33.557Z"
   },
   {
    "duration": 74,
    "start_time": "2024-04-03T07:24:47.601Z"
   },
   {
    "duration": 68,
    "start_time": "2024-04-03T07:25:06.881Z"
   },
   {
    "duration": 70,
    "start_time": "2024-04-03T07:25:31.478Z"
   },
   {
    "duration": 67,
    "start_time": "2024-04-03T07:25:42.894Z"
   },
   {
    "duration": 68,
    "start_time": "2024-04-03T07:26:13.923Z"
   },
   {
    "duration": 13,
    "start_time": "2024-04-03T07:26:42.670Z"
   },
   {
    "duration": 98,
    "start_time": "2024-04-03T07:26:44.175Z"
   },
   {
    "duration": 87,
    "start_time": "2024-04-03T07:26:45.189Z"
   },
   {
    "duration": 85,
    "start_time": "2024-04-03T07:26:48.213Z"
   },
   {
    "duration": 9,
    "start_time": "2024-04-03T07:26:59.521Z"
   },
   {
    "duration": 86,
    "start_time": "2024-04-03T07:27:00.410Z"
   },
   {
    "duration": 86,
    "start_time": "2024-04-03T07:27:01.365Z"
   },
   {
    "duration": 8,
    "start_time": "2024-04-03T07:27:07.669Z"
   },
   {
    "duration": 63,
    "start_time": "2024-04-03T07:27:42.610Z"
   },
   {
    "duration": 63,
    "start_time": "2024-04-03T07:27:49.363Z"
   },
   {
    "duration": 65,
    "start_time": "2024-04-03T07:28:04.949Z"
   },
   {
    "duration": 83,
    "start_time": "2024-04-03T07:29:23.065Z"
   },
   {
    "duration": 70,
    "start_time": "2024-04-03T07:29:39.141Z"
   },
   {
    "duration": 61,
    "start_time": "2024-04-03T07:29:54.611Z"
   },
   {
    "duration": 3,
    "start_time": "2024-04-03T07:35:48.839Z"
   },
   {
    "duration": 2,
    "start_time": "2024-04-03T07:39:20.414Z"
   },
   {
    "duration": 86,
    "start_time": "2024-04-03T07:39:33.498Z"
   },
   {
    "duration": 66,
    "start_time": "2024-04-03T07:40:21.919Z"
   },
   {
    "duration": 85,
    "start_time": "2024-04-03T07:42:58.804Z"
   },
   {
    "duration": 83,
    "start_time": "2024-04-03T07:43:20.989Z"
   },
   {
    "duration": 1229,
    "start_time": "2024-04-03T07:43:49.081Z"
   },
   {
    "duration": 195,
    "start_time": "2024-04-03T07:43:50.311Z"
   },
   {
    "duration": 12,
    "start_time": "2024-04-03T07:43:50.507Z"
   },
   {
    "duration": 27,
    "start_time": "2024-04-03T07:43:50.521Z"
   },
   {
    "duration": 26,
    "start_time": "2024-04-03T07:43:50.550Z"
   },
   {
    "duration": 8,
    "start_time": "2024-04-03T07:43:50.577Z"
   },
   {
    "duration": 13,
    "start_time": "2024-04-03T07:43:50.587Z"
   },
   {
    "duration": 52,
    "start_time": "2024-04-03T07:43:50.601Z"
   },
   {
    "duration": 73,
    "start_time": "2024-04-03T07:43:50.655Z"
   },
   {
    "duration": 126,
    "start_time": "2024-04-03T07:43:50.731Z"
   },
   {
    "duration": 100,
    "start_time": "2024-04-03T07:43:50.858Z"
   },
   {
    "duration": 64,
    "start_time": "2024-04-03T07:43:50.960Z"
   },
   {
    "duration": 29,
    "start_time": "2024-04-03T07:43:51.026Z"
   },
   {
    "duration": 36,
    "start_time": "2024-04-03T07:43:51.056Z"
   },
   {
    "duration": 15,
    "start_time": "2024-04-03T07:43:51.094Z"
   },
   {
    "duration": 8,
    "start_time": "2024-04-03T07:43:51.111Z"
   },
   {
    "duration": 23,
    "start_time": "2024-04-03T07:43:51.120Z"
   },
   {
    "duration": 9,
    "start_time": "2024-04-03T07:43:51.144Z"
   },
   {
    "duration": 151,
    "start_time": "2024-04-03T07:43:51.174Z"
   },
   {
    "duration": 12,
    "start_time": "2024-04-03T07:43:51.326Z"
   },
   {
    "duration": 28,
    "start_time": "2024-04-03T07:43:51.340Z"
   },
   {
    "duration": 24,
    "start_time": "2024-04-03T07:43:51.369Z"
   },
   {
    "duration": 87,
    "start_time": "2024-04-03T07:43:51.395Z"
   },
   {
    "duration": 258,
    "start_time": "2024-04-03T07:43:51.484Z"
   },
   {
    "duration": 810,
    "start_time": "2024-04-03T07:43:51.744Z"
   },
   {
    "duration": 27,
    "start_time": "2024-04-03T07:43:52.556Z"
   },
   {
    "duration": 34,
    "start_time": "2024-04-03T07:43:52.584Z"
   },
   {
    "duration": 15,
    "start_time": "2024-04-03T07:43:52.622Z"
   },
   {
    "duration": 36,
    "start_time": "2024-04-03T07:43:52.638Z"
   },
   {
    "duration": 14,
    "start_time": "2024-04-03T07:43:52.675Z"
   },
   {
    "duration": 17,
    "start_time": "2024-04-03T07:43:52.691Z"
   },
   {
    "duration": 69,
    "start_time": "2024-04-03T07:43:52.709Z"
   },
   {
    "duration": 67,
    "start_time": "2024-04-03T07:43:52.780Z"
   },
   {
    "duration": 5,
    "start_time": "2024-04-03T07:43:52.849Z"
   },
   {
    "duration": 30,
    "start_time": "2024-04-03T07:43:52.856Z"
   },
   {
    "duration": 27,
    "start_time": "2024-04-03T07:43:52.888Z"
   },
   {
    "duration": 31,
    "start_time": "2024-04-03T07:43:52.917Z"
   },
   {
    "duration": 26,
    "start_time": "2024-04-03T07:43:52.950Z"
   },
   {
    "duration": 17,
    "start_time": "2024-04-03T07:43:52.978Z"
   },
   {
    "duration": 86,
    "start_time": "2024-04-03T07:43:52.997Z"
   },
   {
    "duration": 7,
    "start_time": "2024-04-03T07:43:53.085Z"
   },
   {
    "duration": 52,
    "start_time": "2024-04-03T07:43:53.094Z"
   },
   {
    "duration": 13,
    "start_time": "2024-04-03T07:43:53.148Z"
   },
   {
    "duration": 102,
    "start_time": "2024-04-03T07:43:53.163Z"
   },
   {
    "duration": 0,
    "start_time": "2024-04-03T07:43:53.266Z"
   },
   {
    "duration": 0,
    "start_time": "2024-04-03T07:43:53.267Z"
   },
   {
    "duration": 0,
    "start_time": "2024-04-03T07:43:53.272Z"
   },
   {
    "duration": 0,
    "start_time": "2024-04-03T07:43:53.273Z"
   },
   {
    "duration": 0,
    "start_time": "2024-04-03T07:43:53.274Z"
   },
   {
    "duration": 0,
    "start_time": "2024-04-03T07:43:53.279Z"
   },
   {
    "duration": 0,
    "start_time": "2024-04-03T07:43:53.280Z"
   },
   {
    "duration": 0,
    "start_time": "2024-04-03T07:43:53.282Z"
   },
   {
    "duration": 0,
    "start_time": "2024-04-03T07:43:53.283Z"
   },
   {
    "duration": 0,
    "start_time": "2024-04-03T07:43:53.285Z"
   },
   {
    "duration": 0,
    "start_time": "2024-04-03T07:43:53.287Z"
   },
   {
    "duration": 0,
    "start_time": "2024-04-03T07:43:53.288Z"
   },
   {
    "duration": 0,
    "start_time": "2024-04-03T07:43:53.290Z"
   },
   {
    "duration": 0,
    "start_time": "2024-04-03T07:43:53.291Z"
   },
   {
    "duration": 0,
    "start_time": "2024-04-03T07:43:53.293Z"
   },
   {
    "duration": 0,
    "start_time": "2024-04-03T07:43:53.294Z"
   },
   {
    "duration": 0,
    "start_time": "2024-04-03T07:43:53.295Z"
   },
   {
    "duration": 0,
    "start_time": "2024-04-03T07:43:53.296Z"
   },
   {
    "duration": 0,
    "start_time": "2024-04-03T07:43:53.297Z"
   },
   {
    "duration": 0,
    "start_time": "2024-04-03T07:43:53.298Z"
   },
   {
    "duration": 0,
    "start_time": "2024-04-03T07:43:53.298Z"
   },
   {
    "duration": 4,
    "start_time": "2024-04-03T07:44:17.410Z"
   },
   {
    "duration": 10,
    "start_time": "2024-04-03T07:44:54.367Z"
   },
   {
    "duration": 7,
    "start_time": "2024-04-03T07:45:17.093Z"
   },
   {
    "duration": 1178,
    "start_time": "2024-04-03T07:45:27.830Z"
   },
   {
    "duration": 193,
    "start_time": "2024-04-03T07:45:29.010Z"
   },
   {
    "duration": 11,
    "start_time": "2024-04-03T07:45:29.204Z"
   },
   {
    "duration": 39,
    "start_time": "2024-04-03T07:45:29.218Z"
   },
   {
    "duration": 25,
    "start_time": "2024-04-03T07:45:29.259Z"
   },
   {
    "duration": 11,
    "start_time": "2024-04-03T07:45:29.286Z"
   },
   {
    "duration": 13,
    "start_time": "2024-04-03T07:45:29.299Z"
   },
   {
    "duration": 52,
    "start_time": "2024-04-03T07:45:29.314Z"
   },
   {
    "duration": 72,
    "start_time": "2024-04-03T07:45:29.368Z"
   },
   {
    "duration": 128,
    "start_time": "2024-04-03T07:45:29.444Z"
   },
   {
    "duration": 106,
    "start_time": "2024-04-03T07:45:29.573Z"
   },
   {
    "duration": 33,
    "start_time": "2024-04-03T07:45:29.681Z"
   },
   {
    "duration": 30,
    "start_time": "2024-04-03T07:45:29.715Z"
   },
   {
    "duration": 51,
    "start_time": "2024-04-03T07:45:29.746Z"
   },
   {
    "duration": 14,
    "start_time": "2024-04-03T07:45:29.799Z"
   },
   {
    "duration": 24,
    "start_time": "2024-04-03T07:45:29.814Z"
   },
   {
    "duration": 32,
    "start_time": "2024-04-03T07:45:29.839Z"
   },
   {
    "duration": 4,
    "start_time": "2024-04-03T07:45:29.873Z"
   },
   {
    "duration": 155,
    "start_time": "2024-04-03T07:45:29.878Z"
   },
   {
    "duration": 12,
    "start_time": "2024-04-03T07:45:30.035Z"
   },
   {
    "duration": 90,
    "start_time": "2024-04-03T07:45:30.048Z"
   },
   {
    "duration": 81,
    "start_time": "2024-04-03T07:45:30.140Z"
   },
   {
    "duration": 112,
    "start_time": "2024-04-03T07:45:30.223Z"
   },
   {
    "duration": 366,
    "start_time": "2024-04-03T07:45:30.337Z"
   },
   {
    "duration": 818,
    "start_time": "2024-04-03T07:45:30.705Z"
   },
   {
    "duration": 18,
    "start_time": "2024-04-03T07:45:31.525Z"
   },
   {
    "duration": 82,
    "start_time": "2024-04-03T07:45:31.544Z"
   },
   {
    "duration": 28,
    "start_time": "2024-04-03T07:45:31.630Z"
   },
   {
    "duration": 126,
    "start_time": "2024-04-03T07:45:31.660Z"
   },
   {
    "duration": 112,
    "start_time": "2024-04-03T07:45:31.788Z"
   },
   {
    "duration": 94,
    "start_time": "2024-04-03T07:45:31.902Z"
   },
   {
    "duration": 50,
    "start_time": "2024-04-03T07:45:31.998Z"
   },
   {
    "duration": 78,
    "start_time": "2024-04-03T07:45:32.050Z"
   },
   {
    "duration": 7,
    "start_time": "2024-04-03T07:45:32.130Z"
   },
   {
    "duration": 37,
    "start_time": "2024-04-03T07:45:32.139Z"
   },
   {
    "duration": 18,
    "start_time": "2024-04-03T07:45:32.178Z"
   },
   {
    "duration": 37,
    "start_time": "2024-04-03T07:45:32.198Z"
   },
   {
    "duration": 15,
    "start_time": "2024-04-03T07:45:32.237Z"
   },
   {
    "duration": 11,
    "start_time": "2024-04-03T07:45:32.254Z"
   },
   {
    "duration": 80,
    "start_time": "2024-04-03T07:45:32.267Z"
   },
   {
    "duration": 7,
    "start_time": "2024-04-03T07:45:32.350Z"
   },
   {
    "duration": 6,
    "start_time": "2024-04-03T07:45:32.359Z"
   },
   {
    "duration": 6,
    "start_time": "2024-04-03T07:45:32.373Z"
   },
   {
    "duration": 18,
    "start_time": "2024-04-03T07:45:32.380Z"
   },
   {
    "duration": 13,
    "start_time": "2024-04-03T07:45:32.400Z"
   },
   {
    "duration": 19,
    "start_time": "2024-04-03T07:45:32.414Z"
   },
   {
    "duration": 15,
    "start_time": "2024-04-03T07:45:32.434Z"
   },
   {
    "duration": 92,
    "start_time": "2024-04-03T07:45:32.451Z"
   },
   {
    "duration": 72,
    "start_time": "2024-04-03T07:45:32.545Z"
   },
   {
    "duration": 77,
    "start_time": "2024-04-03T07:45:32.618Z"
   },
   {
    "duration": 63,
    "start_time": "2024-04-03T07:45:32.696Z"
   },
   {
    "duration": 93,
    "start_time": "2024-04-03T07:45:32.761Z"
   },
   {
    "duration": 95,
    "start_time": "2024-04-03T07:45:32.856Z"
   },
   {
    "duration": 78,
    "start_time": "2024-04-03T07:45:32.953Z"
   },
   {
    "duration": 73,
    "start_time": "2024-04-03T07:45:33.033Z"
   },
   {
    "duration": 80,
    "start_time": "2024-04-03T07:45:33.108Z"
   },
   {
    "duration": 64,
    "start_time": "2024-04-03T07:45:33.190Z"
   },
   {
    "duration": 76,
    "start_time": "2024-04-03T07:45:33.256Z"
   },
   {
    "duration": 77,
    "start_time": "2024-04-03T07:45:33.333Z"
   },
   {
    "duration": 3,
    "start_time": "2024-04-03T07:45:33.412Z"
   },
   {
    "duration": 18,
    "start_time": "2024-04-03T07:45:33.416Z"
   },
   {
    "duration": 103,
    "start_time": "2024-04-03T07:45:33.436Z"
   },
   {
    "duration": 69,
    "start_time": "2024-04-03T07:45:33.540Z"
   },
   {
    "duration": 98,
    "start_time": "2024-04-03T07:45:33.611Z"
   },
   {
    "duration": 11,
    "start_time": "2024-04-03T08:10:07.420Z"
   },
   {
    "duration": 109,
    "start_time": "2024-04-03T08:10:31.393Z"
   },
   {
    "duration": 87,
    "start_time": "2024-04-03T08:10:45.852Z"
   },
   {
    "duration": 68,
    "start_time": "2024-04-03T08:13:20.252Z"
   },
   {
    "duration": 65,
    "start_time": "2024-04-03T08:13:38.569Z"
   },
   {
    "duration": 89,
    "start_time": "2024-04-03T08:13:52.115Z"
   },
   {
    "duration": 93,
    "start_time": "2024-04-03T08:14:00.630Z"
   },
   {
    "duration": 66,
    "start_time": "2024-04-03T08:14:13.074Z"
   },
   {
    "duration": 67,
    "start_time": "2024-04-03T08:14:21.523Z"
   },
   {
    "duration": 69,
    "start_time": "2024-04-03T08:14:37.716Z"
   },
   {
    "duration": 67,
    "start_time": "2024-04-03T08:14:46.703Z"
   },
   {
    "duration": 65,
    "start_time": "2024-04-03T08:15:01.790Z"
   },
   {
    "duration": 63,
    "start_time": "2024-04-03T08:15:09.869Z"
   },
   {
    "duration": 3,
    "start_time": "2024-04-03T08:18:04.242Z"
   },
   {
    "duration": 86,
    "start_time": "2024-04-03T08:18:07.369Z"
   },
   {
    "duration": 65,
    "start_time": "2024-04-03T08:18:08.472Z"
   },
   {
    "duration": 66,
    "start_time": "2024-04-03T08:18:09.777Z"
   },
   {
    "duration": 64,
    "start_time": "2024-04-03T08:18:14.467Z"
   },
   {
    "duration": 86,
    "start_time": "2024-04-03T08:18:15.516Z"
   },
   {
    "duration": 83,
    "start_time": "2024-04-03T08:18:16.610Z"
   },
   {
    "duration": 64,
    "start_time": "2024-04-03T08:18:17.689Z"
   },
   {
    "duration": 65,
    "start_time": "2024-04-03T08:18:20.790Z"
   },
   {
    "duration": 68,
    "start_time": "2024-04-03T08:18:21.814Z"
   },
   {
    "duration": 68,
    "start_time": "2024-04-03T08:18:22.818Z"
   },
   {
    "duration": 78,
    "start_time": "2024-04-03T08:18:23.773Z"
   },
   {
    "duration": 65,
    "start_time": "2024-04-03T08:18:26.315Z"
   },
   {
    "duration": 4,
    "start_time": "2024-04-03T08:18:39.456Z"
   },
   {
    "duration": 3,
    "start_time": "2024-04-03T09:39:20.038Z"
   },
   {
    "duration": 4,
    "start_time": "2024-04-03T09:39:29.980Z"
   },
   {
    "duration": 5,
    "start_time": "2024-04-03T09:40:23.368Z"
   },
   {
    "duration": 12,
    "start_time": "2024-04-03T09:41:12.473Z"
   },
   {
    "duration": 5,
    "start_time": "2024-04-03T09:43:48.799Z"
   },
   {
    "duration": 77,
    "start_time": "2024-04-03T09:44:01.432Z"
   },
   {
    "duration": 4,
    "start_time": "2024-04-03T09:44:14.539Z"
   },
   {
    "duration": 3,
    "start_time": "2024-04-03T09:44:33.125Z"
   },
   {
    "duration": 4,
    "start_time": "2024-04-03T09:44:54.446Z"
   },
   {
    "duration": 153,
    "start_time": "2024-04-03T09:51:36.500Z"
   },
   {
    "duration": 153,
    "start_time": "2024-04-03T09:52:15.146Z"
   },
   {
    "duration": 170,
    "start_time": "2024-04-03T09:54:51.246Z"
   },
   {
    "duration": 177,
    "start_time": "2024-04-03T09:55:00.730Z"
   },
   {
    "duration": 81,
    "start_time": "2024-04-03T10:16:30.344Z"
   },
   {
    "duration": 5,
    "start_time": "2024-04-03T10:16:36.487Z"
   },
   {
    "duration": 1374,
    "start_time": "2024-04-03T10:17:59.684Z"
   },
   {
    "duration": 199,
    "start_time": "2024-04-03T10:18:01.060Z"
   },
   {
    "duration": 128,
    "start_time": "2024-04-03T10:18:01.261Z"
   },
   {
    "duration": 143,
    "start_time": "2024-04-03T10:18:01.391Z"
   },
   {
    "duration": 111,
    "start_time": "2024-04-03T10:18:01.536Z"
   },
   {
    "duration": 206,
    "start_time": "2024-04-03T10:18:01.649Z"
   },
   {
    "duration": 72,
    "start_time": "2024-04-03T10:18:01.857Z"
   },
   {
    "duration": 57,
    "start_time": "2024-04-03T10:18:01.931Z"
   },
   {
    "duration": 181,
    "start_time": "2024-04-03T10:18:01.991Z"
   },
   {
    "duration": 259,
    "start_time": "2024-04-03T10:18:02.175Z"
   },
   {
    "duration": 112,
    "start_time": "2024-04-03T10:18:02.436Z"
   },
   {
    "duration": 179,
    "start_time": "2024-04-03T10:18:02.550Z"
   },
   {
    "duration": 175,
    "start_time": "2024-04-03T10:18:02.731Z"
   },
   {
    "duration": 46,
    "start_time": "2024-04-03T10:18:02.908Z"
   },
   {
    "duration": 31,
    "start_time": "2024-04-03T10:18:02.955Z"
   },
   {
    "duration": 52,
    "start_time": "2024-04-03T10:18:02.988Z"
   },
   {
    "duration": 75,
    "start_time": "2024-04-03T10:18:03.042Z"
   },
   {
    "duration": 5,
    "start_time": "2024-04-03T10:18:03.120Z"
   },
   {
    "duration": 170,
    "start_time": "2024-04-03T10:18:03.126Z"
   },
   {
    "duration": 12,
    "start_time": "2024-04-03T10:18:03.298Z"
   },
   {
    "duration": 24,
    "start_time": "2024-04-03T10:18:03.312Z"
   },
   {
    "duration": 39,
    "start_time": "2024-04-03T10:18:03.338Z"
   },
   {
    "duration": 75,
    "start_time": "2024-04-03T10:18:03.379Z"
   },
   {
    "duration": 268,
    "start_time": "2024-04-03T10:18:03.456Z"
   },
   {
    "duration": 833,
    "start_time": "2024-04-03T10:18:03.727Z"
   },
   {
    "duration": 25,
    "start_time": "2024-04-03T10:18:04.561Z"
   },
   {
    "duration": 35,
    "start_time": "2024-04-03T10:18:04.588Z"
   },
   {
    "duration": 4,
    "start_time": "2024-04-03T10:18:04.630Z"
   },
   {
    "duration": 54,
    "start_time": "2024-04-03T10:18:04.636Z"
   },
   {
    "duration": 241,
    "start_time": "2024-04-03T10:18:04.692Z"
   },
   {
    "duration": 56,
    "start_time": "2024-04-03T10:18:04.935Z"
   },
   {
    "duration": 81,
    "start_time": "2024-04-03T10:18:04.993Z"
   },
   {
    "duration": 5,
    "start_time": "2024-04-03T10:18:05.076Z"
   },
   {
    "duration": 29,
    "start_time": "2024-04-03T10:18:05.082Z"
   },
   {
    "duration": 39,
    "start_time": "2024-04-03T10:18:05.113Z"
   },
   {
    "duration": 64,
    "start_time": "2024-04-03T10:18:05.154Z"
   },
   {
    "duration": 13,
    "start_time": "2024-04-03T10:18:05.219Z"
   },
   {
    "duration": 19,
    "start_time": "2024-04-03T10:18:05.234Z"
   },
   {
    "duration": 104,
    "start_time": "2024-04-03T10:18:05.255Z"
   },
   {
    "duration": 8,
    "start_time": "2024-04-03T10:18:05.360Z"
   },
   {
    "duration": 9,
    "start_time": "2024-04-03T10:18:05.370Z"
   },
   {
    "duration": 34,
    "start_time": "2024-04-03T10:18:05.381Z"
   },
   {
    "duration": 63,
    "start_time": "2024-04-03T10:18:05.417Z"
   },
   {
    "duration": 27,
    "start_time": "2024-04-03T10:18:05.482Z"
   },
   {
    "duration": 108,
    "start_time": "2024-04-03T10:18:05.510Z"
   },
   {
    "duration": 37,
    "start_time": "2024-04-03T10:18:05.620Z"
   },
   {
    "duration": 148,
    "start_time": "2024-04-03T10:18:05.659Z"
   },
   {
    "duration": 64,
    "start_time": "2024-04-03T10:18:05.809Z"
   },
   {
    "duration": 60,
    "start_time": "2024-04-03T10:18:05.875Z"
   },
   {
    "duration": 82,
    "start_time": "2024-04-03T10:18:05.937Z"
   },
   {
    "duration": 82,
    "start_time": "2024-04-03T10:18:06.020Z"
   },
   {
    "duration": 101,
    "start_time": "2024-04-03T10:18:06.109Z"
   },
   {
    "duration": 92,
    "start_time": "2024-04-03T10:18:06.212Z"
   },
   {
    "duration": 76,
    "start_time": "2024-04-03T10:18:06.307Z"
   },
   {
    "duration": 66,
    "start_time": "2024-04-03T10:18:06.385Z"
   },
   {
    "duration": 81,
    "start_time": "2024-04-03T10:18:06.453Z"
   },
   {
    "duration": 76,
    "start_time": "2024-04-03T10:18:06.536Z"
   },
   {
    "duration": 74,
    "start_time": "2024-04-03T10:18:06.613Z"
   },
   {
    "duration": 8,
    "start_time": "2024-04-03T10:18:06.689Z"
   },
   {
    "duration": 117,
    "start_time": "2024-04-03T10:18:06.699Z"
   },
   {
    "duration": 3,
    "start_time": "2024-04-03T10:18:06.818Z"
   },
   {
    "duration": 22,
    "start_time": "2024-04-03T10:18:06.823Z"
   },
   {
    "duration": 7,
    "start_time": "2024-04-03T10:18:06.847Z"
   },
   {
    "duration": 82,
    "start_time": "2024-04-03T10:18:06.856Z"
   },
   {
    "duration": 77,
    "start_time": "2024-04-03T10:18:06.940Z"
   },
   {
    "duration": 86,
    "start_time": "2024-04-03T10:18:07.019Z"
   },
   {
    "duration": 76,
    "start_time": "2024-04-03T10:18:07.106Z"
   },
   {
    "duration": 88,
    "start_time": "2024-04-03T10:18:07.184Z"
   },
   {
    "duration": 81,
    "start_time": "2024-04-03T10:18:07.274Z"
   },
   {
    "duration": 77,
    "start_time": "2024-04-03T10:18:07.357Z"
   },
   {
    "duration": 80,
    "start_time": "2024-04-03T10:18:07.435Z"
   },
   {
    "duration": 78,
    "start_time": "2024-04-03T10:18:07.517Z"
   },
   {
    "duration": 92,
    "start_time": "2024-04-03T10:18:07.597Z"
   },
   {
    "duration": 72,
    "start_time": "2024-04-03T10:18:07.691Z"
   },
   {
    "duration": 99,
    "start_time": "2024-04-03T10:18:07.774Z"
   },
   {
    "duration": 11,
    "start_time": "2024-04-03T10:19:19.303Z"
   },
   {
    "duration": 130,
    "start_time": "2024-04-03T10:19:20.955Z"
   },
   {
    "duration": 9,
    "start_time": "2024-04-03T10:19:29.215Z"
   },
   {
    "duration": 78,
    "start_time": "2024-04-03T10:19:29.890Z"
   },
   {
    "duration": 8,
    "start_time": "2024-04-03T10:20:49.903Z"
   },
   {
    "duration": 66,
    "start_time": "2024-04-03T10:21:31.088Z"
   },
   {
    "duration": 94,
    "start_time": "2024-04-03T10:21:33.127Z"
   },
   {
    "duration": 65,
    "start_time": "2024-04-03T10:21:34.499Z"
   },
   {
    "duration": 1168,
    "start_time": "2024-04-04T05:25:56.878Z"
   },
   {
    "duration": 232,
    "start_time": "2024-04-04T05:25:58.047Z"
   },
   {
    "duration": 10,
    "start_time": "2024-04-04T05:25:58.280Z"
   },
   {
    "duration": 18,
    "start_time": "2024-04-04T05:25:58.292Z"
   },
   {
    "duration": 12,
    "start_time": "2024-04-04T05:25:58.312Z"
   },
   {
    "duration": 7,
    "start_time": "2024-04-04T05:25:58.326Z"
   },
   {
    "duration": 8,
    "start_time": "2024-04-04T05:25:58.334Z"
   },
   {
    "duration": 16,
    "start_time": "2024-04-04T05:25:58.343Z"
   },
   {
    "duration": 81,
    "start_time": "2024-04-04T05:25:58.361Z"
   },
   {
    "duration": 84,
    "start_time": "2024-04-04T05:25:58.445Z"
   },
   {
    "duration": 53,
    "start_time": "2024-04-04T05:25:58.530Z"
   },
   {
    "duration": 40,
    "start_time": "2024-04-04T05:25:58.584Z"
   },
   {
    "duration": 23,
    "start_time": "2024-04-04T05:25:58.625Z"
   },
   {
    "duration": 30,
    "start_time": "2024-04-04T05:25:58.650Z"
   },
   {
    "duration": 24,
    "start_time": "2024-04-04T05:25:58.681Z"
   },
   {
    "duration": 5,
    "start_time": "2024-04-04T05:25:58.707Z"
   },
   {
    "duration": 16,
    "start_time": "2024-04-04T05:25:58.713Z"
   },
   {
    "duration": 4,
    "start_time": "2024-04-04T05:25:58.730Z"
   },
   {
    "duration": 130,
    "start_time": "2024-04-04T05:25:58.735Z"
   },
   {
    "duration": 9,
    "start_time": "2024-04-04T05:25:58.866Z"
   },
   {
    "duration": 7,
    "start_time": "2024-04-04T05:25:58.876Z"
   },
   {
    "duration": 4,
    "start_time": "2024-04-04T05:25:58.884Z"
   },
   {
    "duration": 37,
    "start_time": "2024-04-04T05:25:58.901Z"
   },
   {
    "duration": 209,
    "start_time": "2024-04-04T05:25:58.939Z"
   },
   {
    "duration": 583,
    "start_time": "2024-04-04T05:25:59.150Z"
   },
   {
    "duration": 15,
    "start_time": "2024-04-04T05:25:59.734Z"
   },
   {
    "duration": 20,
    "start_time": "2024-04-04T05:25:59.750Z"
   },
   {
    "duration": 3,
    "start_time": "2024-04-04T05:25:59.773Z"
   },
   {
    "duration": 29,
    "start_time": "2024-04-04T05:25:59.777Z"
   },
   {
    "duration": 133,
    "start_time": "2024-04-04T05:25:59.808Z"
   },
   {
    "duration": 33,
    "start_time": "2024-04-04T05:25:59.942Z"
   },
   {
    "duration": 63,
    "start_time": "2024-04-04T05:25:59.976Z"
   },
   {
    "duration": 4,
    "start_time": "2024-04-04T05:26:00.040Z"
   },
   {
    "duration": 25,
    "start_time": "2024-04-04T05:26:00.045Z"
   },
   {
    "duration": 38,
    "start_time": "2024-04-04T05:26:00.071Z"
   },
   {
    "duration": 28,
    "start_time": "2024-04-04T05:26:00.110Z"
   },
   {
    "duration": 36,
    "start_time": "2024-04-04T05:26:00.139Z"
   },
   {
    "duration": 79,
    "start_time": "2024-04-04T05:26:00.176Z"
   },
   {
    "duration": 5,
    "start_time": "2024-04-04T05:26:00.256Z"
   },
   {
    "duration": 70,
    "start_time": "2024-04-04T05:26:00.262Z"
   },
   {
    "duration": 82,
    "start_time": "2024-04-04T05:26:00.334Z"
   },
   {
    "duration": 61,
    "start_time": "2024-04-04T05:26:00.417Z"
   },
   {
    "duration": 123,
    "start_time": "2024-04-04T05:26:00.479Z"
   },
   {
    "duration": 69,
    "start_time": "2024-04-04T05:26:00.604Z"
   },
   {
    "duration": 52,
    "start_time": "2024-04-04T05:26:00.675Z"
   },
   {
    "duration": 71,
    "start_time": "2024-04-04T05:26:00.728Z"
   },
   {
    "duration": 63,
    "start_time": "2024-04-04T05:26:00.800Z"
   },
   {
    "duration": 68,
    "start_time": "2024-04-04T05:26:00.864Z"
   },
   {
    "duration": 52,
    "start_time": "2024-04-04T05:26:00.934Z"
   },
   {
    "duration": 65,
    "start_time": "2024-04-04T05:26:00.988Z"
   },
   {
    "duration": 58,
    "start_time": "2024-04-04T05:26:01.054Z"
   },
   {
    "duration": 59,
    "start_time": "2024-04-04T05:26:01.114Z"
   },
   {
    "duration": 63,
    "start_time": "2024-04-04T05:26:01.175Z"
   },
   {
    "duration": 51,
    "start_time": "2024-04-04T05:26:01.239Z"
   },
   {
    "duration": 6,
    "start_time": "2024-04-04T05:26:01.301Z"
   },
   {
    "duration": 148,
    "start_time": "2024-04-04T05:26:01.308Z"
   },
   {
    "duration": 71,
    "start_time": "2024-04-04T05:26:01.457Z"
   },
   {
    "duration": 50,
    "start_time": "2024-04-04T05:26:01.529Z"
   },
   {
    "duration": 61,
    "start_time": "2024-04-04T05:26:01.581Z"
   },
   {
    "duration": 7,
    "start_time": "2024-04-04T05:26:01.643Z"
   },
   {
    "duration": 45,
    "start_time": "2024-04-04T05:26:01.651Z"
   },
   {
    "duration": 64,
    "start_time": "2024-04-04T05:26:01.698Z"
   },
   {
    "duration": 95,
    "start_time": "2024-04-04T05:26:01.763Z"
   },
   {
    "duration": 63,
    "start_time": "2024-04-04T05:26:01.860Z"
   },
   {
    "duration": 61,
    "start_time": "2024-04-04T05:26:01.924Z"
   },
   {
    "duration": 61,
    "start_time": "2024-04-04T05:26:01.987Z"
   },
   {
    "duration": 69,
    "start_time": "2024-04-04T05:26:02.050Z"
   },
   {
    "duration": 63,
    "start_time": "2024-04-04T05:26:02.121Z"
   },
   {
    "duration": 68,
    "start_time": "2024-04-04T05:26:02.185Z"
   },
   {
    "duration": 58,
    "start_time": "2024-04-04T05:26:02.254Z"
   },
   {
    "duration": 55,
    "start_time": "2024-04-04T05:26:02.313Z"
   },
   {
    "duration": 66,
    "start_time": "2024-04-04T05:26:02.370Z"
   },
   {
    "duration": 50,
    "start_time": "2024-04-04T05:26:02.437Z"
   },
   {
    "duration": 60,
    "start_time": "2024-04-04T05:26:02.488Z"
   },
   {
    "duration": 11,
    "start_time": "2024-04-04T05:39:24.334Z"
   },
   {
    "duration": 1009,
    "start_time": "2024-04-04T05:39:44.465Z"
   },
   {
    "duration": 143,
    "start_time": "2024-04-04T05:39:45.476Z"
   },
   {
    "duration": 10,
    "start_time": "2024-04-04T05:39:45.620Z"
   },
   {
    "duration": 57,
    "start_time": "2024-04-04T05:39:45.632Z"
   },
   {
    "duration": 20,
    "start_time": "2024-04-04T05:39:45.691Z"
   },
   {
    "duration": 8,
    "start_time": "2024-04-04T05:39:45.712Z"
   },
   {
    "duration": 23,
    "start_time": "2024-04-04T05:39:45.722Z"
   },
   {
    "duration": 37,
    "start_time": "2024-04-04T05:39:45.746Z"
   },
   {
    "duration": 62,
    "start_time": "2024-04-04T05:39:45.784Z"
   },
   {
    "duration": 87,
    "start_time": "2024-04-04T05:39:45.849Z"
   },
   {
    "duration": 56,
    "start_time": "2024-04-04T05:39:45.938Z"
   },
   {
    "duration": 32,
    "start_time": "2024-04-04T05:39:46.001Z"
   },
   {
    "duration": 22,
    "start_time": "2024-04-04T05:39:46.035Z"
   },
   {
    "duration": 33,
    "start_time": "2024-04-04T05:39:46.059Z"
   },
   {
    "duration": 10,
    "start_time": "2024-04-04T05:39:46.101Z"
   },
   {
    "duration": 4,
    "start_time": "2024-04-04T05:39:46.112Z"
   },
   {
    "duration": 16,
    "start_time": "2024-04-04T05:39:46.117Z"
   },
   {
    "duration": 4,
    "start_time": "2024-04-04T05:39:46.134Z"
   },
   {
    "duration": 128,
    "start_time": "2024-04-04T05:39:46.139Z"
   },
   {
    "duration": 10,
    "start_time": "2024-04-04T05:39:46.268Z"
   },
   {
    "duration": 5,
    "start_time": "2024-04-04T05:39:46.279Z"
   },
   {
    "duration": 17,
    "start_time": "2024-04-04T05:39:46.285Z"
   },
   {
    "duration": 36,
    "start_time": "2024-04-04T05:39:46.304Z"
   },
   {
    "duration": 206,
    "start_time": "2024-04-04T05:39:46.342Z"
   },
   {
    "duration": 592,
    "start_time": "2024-04-04T05:39:46.549Z"
   },
   {
    "duration": 15,
    "start_time": "2024-04-04T05:39:47.142Z"
   },
   {
    "duration": 22,
    "start_time": "2024-04-04T05:39:47.158Z"
   },
   {
    "duration": 2,
    "start_time": "2024-04-04T05:39:47.184Z"
   },
   {
    "duration": 25,
    "start_time": "2024-04-04T05:39:47.187Z"
   },
   {
    "duration": 143,
    "start_time": "2024-04-04T05:39:47.213Z"
   },
   {
    "duration": 34,
    "start_time": "2024-04-04T05:39:47.357Z"
   },
   {
    "duration": 56,
    "start_time": "2024-04-04T05:39:47.392Z"
   },
   {
    "duration": 3,
    "start_time": "2024-04-04T05:39:47.450Z"
   },
   {
    "duration": 12,
    "start_time": "2024-04-04T05:39:47.454Z"
   },
   {
    "duration": 8,
    "start_time": "2024-04-04T05:39:47.467Z"
   },
   {
    "duration": 6,
    "start_time": "2024-04-04T05:39:47.477Z"
   },
   {
    "duration": 3,
    "start_time": "2024-04-04T05:39:47.501Z"
   },
   {
    "duration": 12,
    "start_time": "2024-04-04T05:39:47.505Z"
   },
   {
    "duration": 47,
    "start_time": "2024-04-04T05:39:47.518Z"
   },
   {
    "duration": 5,
    "start_time": "2024-04-04T05:39:47.566Z"
   },
   {
    "duration": 5,
    "start_time": "2024-04-04T05:39:47.572Z"
   },
   {
    "duration": 13,
    "start_time": "2024-04-04T05:39:47.578Z"
   },
   {
    "duration": 12,
    "start_time": "2024-04-04T05:39:47.592Z"
   },
   {
    "duration": 64,
    "start_time": "2024-04-04T05:39:47.605Z"
   },
   {
    "duration": 54,
    "start_time": "2024-04-04T05:39:47.670Z"
   },
   {
    "duration": 44,
    "start_time": "2024-04-04T05:39:47.725Z"
   },
   {
    "duration": 56,
    "start_time": "2024-04-04T05:39:47.770Z"
   },
   {
    "duration": 59,
    "start_time": "2024-04-04T05:39:47.827Z"
   },
   {
    "duration": 79,
    "start_time": "2024-04-04T05:39:47.888Z"
   },
   {
    "duration": 62,
    "start_time": "2024-04-04T05:39:47.968Z"
   },
   {
    "duration": 54,
    "start_time": "2024-04-04T05:39:48.032Z"
   },
   {
    "duration": 61,
    "start_time": "2024-04-04T05:39:48.087Z"
   },
   {
    "duration": 65,
    "start_time": "2024-04-04T05:39:48.149Z"
   },
   {
    "duration": 50,
    "start_time": "2024-04-04T05:39:48.215Z"
   },
   {
    "duration": 61,
    "start_time": "2024-04-04T05:39:48.267Z"
   },
   {
    "duration": 7,
    "start_time": "2024-04-04T05:39:48.329Z"
   },
   {
    "duration": 70,
    "start_time": "2024-04-04T05:39:48.337Z"
   },
   {
    "duration": 54,
    "start_time": "2024-04-04T05:39:48.408Z"
   },
   {
    "duration": 61,
    "start_time": "2024-04-04T05:39:48.464Z"
   },
   {
    "duration": 51,
    "start_time": "2024-04-04T05:39:48.526Z"
   },
   {
    "duration": 2,
    "start_time": "2024-04-04T05:39:48.578Z"
   },
   {
    "duration": 8,
    "start_time": "2024-04-04T05:39:48.581Z"
   },
   {
    "duration": 2,
    "start_time": "2024-04-04T05:39:48.601Z"
   },
   {
    "duration": 66,
    "start_time": "2024-04-04T05:39:48.605Z"
   },
   {
    "duration": 65,
    "start_time": "2024-04-04T05:39:48.674Z"
   },
   {
    "duration": 51,
    "start_time": "2024-04-04T05:39:48.741Z"
   },
   {
    "duration": 56,
    "start_time": "2024-04-04T05:39:48.793Z"
   },
   {
    "duration": 73,
    "start_time": "2024-04-04T05:39:48.851Z"
   },
   {
    "duration": 65,
    "start_time": "2024-04-04T05:39:48.925Z"
   },
   {
    "duration": 59,
    "start_time": "2024-04-04T05:39:48.991Z"
   },
   {
    "duration": 64,
    "start_time": "2024-04-04T05:39:49.051Z"
   },
   {
    "duration": 50,
    "start_time": "2024-04-04T05:39:49.117Z"
   },
   {
    "duration": 73,
    "start_time": "2024-04-04T05:39:49.169Z"
   },
   {
    "duration": 63,
    "start_time": "2024-04-04T05:39:49.244Z"
   },
   {
    "duration": 53,
    "start_time": "2024-04-04T05:39:49.308Z"
   },
   {
    "duration": 35,
    "start_time": "2024-04-04T05:40:02.843Z"
   },
   {
    "duration": 7,
    "start_time": "2024-04-04T05:49:56.900Z"
   },
   {
    "duration": 69,
    "start_time": "2024-04-04T05:49:57.843Z"
   },
   {
    "duration": 7,
    "start_time": "2024-04-04T05:50:41.373Z"
   },
   {
    "duration": 68,
    "start_time": "2024-04-04T05:50:42.249Z"
   },
   {
    "duration": 6,
    "start_time": "2024-04-04T05:51:11.895Z"
   },
   {
    "duration": 67,
    "start_time": "2024-04-04T05:51:13.458Z"
   },
   {
    "duration": 58,
    "start_time": "2024-04-04T05:51:37.411Z"
   },
   {
    "duration": 6,
    "start_time": "2024-04-04T05:55:10.641Z"
   },
   {
    "duration": 7,
    "start_time": "2024-04-04T05:56:18.277Z"
   },
   {
    "duration": 69,
    "start_time": "2024-04-04T06:19:16.085Z"
   },
   {
    "duration": 59,
    "start_time": "2024-04-04T06:19:43.234Z"
   },
   {
    "duration": 55,
    "start_time": "2024-04-04T06:20:38.643Z"
   },
   {
    "duration": 54,
    "start_time": "2024-04-04T06:20:50.804Z"
   },
   {
    "duration": 56,
    "start_time": "2024-04-04T06:21:20.516Z"
   },
   {
    "duration": 61,
    "start_time": "2024-04-04T06:21:40.250Z"
   },
   {
    "duration": 1059,
    "start_time": "2024-04-04T06:21:48.479Z"
   },
   {
    "duration": 138,
    "start_time": "2024-04-04T06:21:49.540Z"
   },
   {
    "duration": 10,
    "start_time": "2024-04-04T06:21:49.679Z"
   },
   {
    "duration": 19,
    "start_time": "2024-04-04T06:21:49.690Z"
   },
   {
    "duration": 11,
    "start_time": "2024-04-04T06:21:49.710Z"
   },
   {
    "duration": 6,
    "start_time": "2024-04-04T06:21:49.722Z"
   },
   {
    "duration": 19,
    "start_time": "2024-04-04T06:21:49.729Z"
   },
   {
    "duration": 17,
    "start_time": "2024-04-04T06:21:49.750Z"
   },
   {
    "duration": 72,
    "start_time": "2024-04-04T06:21:49.768Z"
   },
   {
    "duration": 88,
    "start_time": "2024-04-04T06:21:49.843Z"
   },
   {
    "duration": 59,
    "start_time": "2024-04-04T06:21:49.933Z"
   },
   {
    "duration": 28,
    "start_time": "2024-04-04T06:21:50.002Z"
   },
   {
    "duration": 37,
    "start_time": "2024-04-04T06:21:50.031Z"
   },
   {
    "duration": 37,
    "start_time": "2024-04-04T06:21:50.069Z"
   },
   {
    "duration": 11,
    "start_time": "2024-04-04T06:21:50.107Z"
   },
   {
    "duration": 15,
    "start_time": "2024-04-04T06:21:50.120Z"
   },
   {
    "duration": 23,
    "start_time": "2024-04-04T06:21:50.137Z"
   },
   {
    "duration": 4,
    "start_time": "2024-04-04T06:21:50.162Z"
   },
   {
    "duration": 135,
    "start_time": "2024-04-04T06:21:50.167Z"
   },
   {
    "duration": 11,
    "start_time": "2024-04-04T06:21:50.303Z"
   },
   {
    "duration": 11,
    "start_time": "2024-04-04T06:21:50.315Z"
   },
   {
    "duration": 27,
    "start_time": "2024-04-04T06:21:50.327Z"
   },
   {
    "duration": 58,
    "start_time": "2024-04-04T06:21:50.356Z"
   },
   {
    "duration": 216,
    "start_time": "2024-04-04T06:21:50.416Z"
   },
   {
    "duration": 612,
    "start_time": "2024-04-04T06:21:50.633Z"
   },
   {
    "duration": 16,
    "start_time": "2024-04-04T06:21:51.246Z"
   },
   {
    "duration": 22,
    "start_time": "2024-04-04T06:21:51.264Z"
   },
   {
    "duration": 3,
    "start_time": "2024-04-04T06:21:51.304Z"
   },
   {
    "duration": 28,
    "start_time": "2024-04-04T06:21:51.308Z"
   },
   {
    "duration": 139,
    "start_time": "2024-04-04T06:21:51.338Z"
   },
   {
    "duration": 41,
    "start_time": "2024-04-04T06:21:51.478Z"
   },
   {
    "duration": 64,
    "start_time": "2024-04-04T06:21:51.521Z"
   },
   {
    "duration": 19,
    "start_time": "2024-04-04T06:21:51.587Z"
   },
   {
    "duration": 26,
    "start_time": "2024-04-04T06:21:51.608Z"
   },
   {
    "duration": 12,
    "start_time": "2024-04-04T06:21:51.635Z"
   },
   {
    "duration": 20,
    "start_time": "2024-04-04T06:21:51.648Z"
   },
   {
    "duration": 18,
    "start_time": "2024-04-04T06:21:51.670Z"
   },
   {
    "duration": 43,
    "start_time": "2024-04-04T06:21:51.689Z"
   },
   {
    "duration": 55,
    "start_time": "2024-04-04T06:21:51.733Z"
   },
   {
    "duration": 6,
    "start_time": "2024-04-04T06:21:51.790Z"
   },
   {
    "duration": 22,
    "start_time": "2024-04-04T06:21:51.797Z"
   },
   {
    "duration": 20,
    "start_time": "2024-04-04T06:21:51.820Z"
   },
   {
    "duration": 7,
    "start_time": "2024-04-04T06:21:51.842Z"
   },
   {
    "duration": 73,
    "start_time": "2024-04-04T06:21:51.851Z"
   },
   {
    "duration": 50,
    "start_time": "2024-04-04T06:21:51.925Z"
   },
   {
    "duration": 61,
    "start_time": "2024-04-04T06:21:51.976Z"
   },
   {
    "duration": 48,
    "start_time": "2024-04-04T06:21:52.039Z"
   },
   {
    "duration": 74,
    "start_time": "2024-04-04T06:21:52.088Z"
   },
   {
    "duration": 72,
    "start_time": "2024-04-04T06:21:52.163Z"
   },
   {
    "duration": 66,
    "start_time": "2024-04-04T06:21:52.237Z"
   },
   {
    "duration": 59,
    "start_time": "2024-04-04T06:21:52.305Z"
   },
   {
    "duration": 72,
    "start_time": "2024-04-04T06:21:52.366Z"
   },
   {
    "duration": 66,
    "start_time": "2024-04-04T06:21:52.440Z"
   },
   {
    "duration": 53,
    "start_time": "2024-04-04T06:21:52.507Z"
   },
   {
    "duration": 64,
    "start_time": "2024-04-04T06:21:52.561Z"
   },
   {
    "duration": 6,
    "start_time": "2024-04-04T06:21:52.626Z"
   },
   {
    "duration": 75,
    "start_time": "2024-04-04T06:21:52.634Z"
   },
   {
    "duration": 52,
    "start_time": "2024-04-04T06:21:52.711Z"
   },
   {
    "duration": 68,
    "start_time": "2024-04-04T06:21:52.765Z"
   },
   {
    "duration": 50,
    "start_time": "2024-04-04T06:21:52.835Z"
   },
   {
    "duration": 17,
    "start_time": "2024-04-04T06:21:52.886Z"
   },
   {
    "duration": 4,
    "start_time": "2024-04-04T06:21:52.905Z"
   },
   {
    "duration": 6,
    "start_time": "2024-04-04T06:21:52.910Z"
   },
   {
    "duration": 74,
    "start_time": "2024-04-04T06:21:52.917Z"
   },
   {
    "duration": 61,
    "start_time": "2024-04-04T06:21:52.992Z"
   },
   {
    "duration": 75,
    "start_time": "2024-04-04T06:21:53.055Z"
   },
   {
    "duration": 56,
    "start_time": "2024-04-04T06:21:53.131Z"
   },
   {
    "duration": 68,
    "start_time": "2024-04-04T06:21:53.202Z"
   },
   {
    "duration": 76,
    "start_time": "2024-04-04T06:21:53.271Z"
   },
   {
    "duration": 61,
    "start_time": "2024-04-04T06:21:53.348Z"
   },
   {
    "duration": 54,
    "start_time": "2024-04-04T06:21:53.411Z"
   },
   {
    "duration": 71,
    "start_time": "2024-04-04T06:21:53.466Z"
   },
   {
    "duration": 64,
    "start_time": "2024-04-04T06:21:53.538Z"
   },
   {
    "duration": 55,
    "start_time": "2024-04-04T06:21:53.603Z"
   },
   {
    "duration": 70,
    "start_time": "2024-04-04T06:21:53.659Z"
   },
   {
    "duration": 62,
    "start_time": "2024-04-04T06:30:53.489Z"
   },
   {
    "duration": 52,
    "start_time": "2024-04-04T06:30:54.639Z"
   },
   {
    "duration": 53,
    "start_time": "2024-04-04T06:30:55.457Z"
   },
   {
    "duration": 50,
    "start_time": "2024-04-04T06:30:56.371Z"
   },
   {
    "duration": 3,
    "start_time": "2024-04-04T06:41:15.167Z"
   },
   {
    "duration": 3,
    "start_time": "2024-04-04T06:41:19.308Z"
   },
   {
    "duration": 3,
    "start_time": "2024-04-04T06:41:37.691Z"
   },
   {
    "duration": 3,
    "start_time": "2024-04-04T06:41:38.398Z"
   },
   {
    "duration": 991,
    "start_time": "2024-04-04T06:44:31.742Z"
   },
   {
    "duration": 137,
    "start_time": "2024-04-04T06:44:32.735Z"
   },
   {
    "duration": 11,
    "start_time": "2024-04-04T06:44:32.873Z"
   },
   {
    "duration": 36,
    "start_time": "2024-04-04T06:44:32.886Z"
   },
   {
    "duration": 11,
    "start_time": "2024-04-04T06:44:32.924Z"
   },
   {
    "duration": 7,
    "start_time": "2024-04-04T06:44:32.936Z"
   },
   {
    "duration": 10,
    "start_time": "2024-04-04T06:44:32.944Z"
   },
   {
    "duration": 18,
    "start_time": "2024-04-04T06:44:32.956Z"
   },
   {
    "duration": 70,
    "start_time": "2024-04-04T06:44:32.975Z"
   },
   {
    "duration": 90,
    "start_time": "2024-04-04T06:44:33.047Z"
   },
   {
    "duration": 66,
    "start_time": "2024-04-04T06:44:33.138Z"
   },
   {
    "duration": 27,
    "start_time": "2024-04-04T06:44:33.206Z"
   },
   {
    "duration": 23,
    "start_time": "2024-04-04T06:44:33.234Z"
   },
   {
    "duration": 44,
    "start_time": "2024-04-04T06:44:33.258Z"
   },
   {
    "duration": 10,
    "start_time": "2024-04-04T06:44:33.303Z"
   },
   {
    "duration": 7,
    "start_time": "2024-04-04T06:44:33.314Z"
   },
   {
    "duration": 23,
    "start_time": "2024-04-04T06:44:33.322Z"
   },
   {
    "duration": 3,
    "start_time": "2024-04-04T06:44:33.347Z"
   },
   {
    "duration": 124,
    "start_time": "2024-04-04T06:44:33.352Z"
   },
   {
    "duration": 9,
    "start_time": "2024-04-04T06:44:33.477Z"
   },
   {
    "duration": 17,
    "start_time": "2024-04-04T06:44:33.487Z"
   },
   {
    "duration": 5,
    "start_time": "2024-04-04T06:44:33.505Z"
   },
   {
    "duration": 42,
    "start_time": "2024-04-04T06:44:33.511Z"
   },
   {
    "duration": 197,
    "start_time": "2024-04-04T06:44:33.555Z"
   },
   {
    "duration": 589,
    "start_time": "2024-04-04T06:44:33.753Z"
   },
   {
    "duration": 15,
    "start_time": "2024-04-04T06:44:34.344Z"
   },
   {
    "duration": 21,
    "start_time": "2024-04-04T06:44:34.361Z"
   },
   {
    "duration": 17,
    "start_time": "2024-04-04T06:44:34.385Z"
   },
   {
    "duration": 15,
    "start_time": "2024-04-04T06:44:34.403Z"
   },
   {
    "duration": 136,
    "start_time": "2024-04-04T06:44:34.419Z"
   },
   {
    "duration": 34,
    "start_time": "2024-04-04T06:44:34.556Z"
   },
   {
    "duration": 51,
    "start_time": "2024-04-04T06:44:34.601Z"
   },
   {
    "duration": 4,
    "start_time": "2024-04-04T06:44:34.653Z"
   },
   {
    "duration": 25,
    "start_time": "2024-04-04T06:44:34.658Z"
   },
   {
    "duration": 15,
    "start_time": "2024-04-04T06:44:34.684Z"
   },
   {
    "duration": 20,
    "start_time": "2024-04-04T06:44:34.700Z"
   },
   {
    "duration": 8,
    "start_time": "2024-04-04T06:44:34.721Z"
   },
   {
    "duration": 32,
    "start_time": "2024-04-04T06:44:34.730Z"
   },
   {
    "duration": 46,
    "start_time": "2024-04-04T06:44:34.763Z"
   },
   {
    "duration": 5,
    "start_time": "2024-04-04T06:44:34.811Z"
   },
   {
    "duration": 6,
    "start_time": "2024-04-04T06:44:34.817Z"
   },
   {
    "duration": 8,
    "start_time": "2024-04-04T06:44:34.824Z"
   },
   {
    "duration": 24,
    "start_time": "2024-04-04T06:44:34.833Z"
   },
   {
    "duration": 189,
    "start_time": "2024-04-04T06:44:34.858Z"
   },
   {
    "duration": 60,
    "start_time": "2024-04-04T06:44:35.049Z"
   },
   {
    "duration": 57,
    "start_time": "2024-04-04T06:44:35.111Z"
   },
   {
    "duration": 74,
    "start_time": "2024-04-04T06:44:35.170Z"
   },
   {
    "duration": 78,
    "start_time": "2024-04-04T06:44:35.246Z"
   },
   {
    "duration": 76,
    "start_time": "2024-04-04T06:44:35.326Z"
   },
   {
    "duration": 56,
    "start_time": "2024-04-04T06:44:35.404Z"
   },
   {
    "duration": 74,
    "start_time": "2024-04-04T06:44:35.462Z"
   },
   {
    "duration": 73,
    "start_time": "2024-04-04T06:44:35.538Z"
   },
   {
    "duration": 55,
    "start_time": "2024-04-04T06:44:35.612Z"
   },
   {
    "duration": 62,
    "start_time": "2024-04-04T06:44:35.669Z"
   },
   {
    "duration": 52,
    "start_time": "2024-04-04T06:44:35.732Z"
   },
   {
    "duration": 16,
    "start_time": "2024-04-04T06:44:35.786Z"
   },
   {
    "duration": 70,
    "start_time": "2024-04-04T06:44:35.803Z"
   },
   {
    "duration": 53,
    "start_time": "2024-04-04T06:44:35.874Z"
   },
   {
    "duration": 51,
    "start_time": "2024-04-04T06:44:35.928Z"
   },
   {
    "duration": 59,
    "start_time": "2024-04-04T06:44:35.980Z"
   },
   {
    "duration": 2,
    "start_time": "2024-04-04T06:44:36.040Z"
   },
   {
    "duration": 30,
    "start_time": "2024-04-04T06:44:36.043Z"
   },
   {
    "duration": 17,
    "start_time": "2024-04-04T06:44:36.074Z"
   },
   {
    "duration": 69,
    "start_time": "2024-04-04T06:44:36.092Z"
   },
   {
    "duration": 60,
    "start_time": "2024-04-04T06:44:36.162Z"
   },
   {
    "duration": 55,
    "start_time": "2024-04-04T06:44:36.223Z"
   },
   {
    "duration": 66,
    "start_time": "2024-04-04T06:44:36.279Z"
   },
   {
    "duration": 78,
    "start_time": "2024-04-04T06:44:36.346Z"
   },
   {
    "duration": 63,
    "start_time": "2024-04-04T06:44:36.425Z"
   },
   {
    "duration": 62,
    "start_time": "2024-04-04T06:44:36.490Z"
   },
   {
    "duration": 65,
    "start_time": "2024-04-04T06:44:36.553Z"
   },
   {
    "duration": 63,
    "start_time": "2024-04-04T06:44:36.619Z"
   },
   {
    "duration": 67,
    "start_time": "2024-04-04T06:44:36.684Z"
   },
   {
    "duration": 63,
    "start_time": "2024-04-04T06:44:36.753Z"
   },
   {
    "duration": 53,
    "start_time": "2024-04-04T06:44:36.817Z"
   },
   {
    "duration": 6,
    "start_time": "2024-04-04T06:52:21.252Z"
   },
   {
    "duration": 68,
    "start_time": "2024-04-04T06:52:23.546Z"
   },
   {
    "duration": 61,
    "start_time": "2024-04-04T06:52:48.658Z"
   },
   {
    "duration": 1045,
    "start_time": "2024-04-04T07:11:44.380Z"
   },
   {
    "duration": 138,
    "start_time": "2024-04-04T07:11:45.427Z"
   },
   {
    "duration": 9,
    "start_time": "2024-04-04T07:11:45.567Z"
   },
   {
    "duration": 49,
    "start_time": "2024-04-04T07:11:45.578Z"
   },
   {
    "duration": 28,
    "start_time": "2024-04-04T07:11:45.629Z"
   },
   {
    "duration": 18,
    "start_time": "2024-04-04T07:11:45.658Z"
   },
   {
    "duration": 19,
    "start_time": "2024-04-04T07:11:45.677Z"
   },
   {
    "duration": 31,
    "start_time": "2024-04-04T07:11:45.697Z"
   },
   {
    "duration": 64,
    "start_time": "2024-04-04T07:11:45.729Z"
   },
   {
    "duration": 88,
    "start_time": "2024-04-04T07:11:45.795Z"
   },
   {
    "duration": 59,
    "start_time": "2024-04-04T07:11:45.884Z"
   },
   {
    "duration": 41,
    "start_time": "2024-04-04T07:11:45.944Z"
   },
   {
    "duration": 31,
    "start_time": "2024-04-04T07:11:45.987Z"
   },
   {
    "duration": 30,
    "start_time": "2024-04-04T07:11:46.019Z"
   },
   {
    "duration": 16,
    "start_time": "2024-04-04T07:11:46.050Z"
   },
   {
    "duration": 24,
    "start_time": "2024-04-04T07:11:46.067Z"
   },
   {
    "duration": 44,
    "start_time": "2024-04-04T07:11:46.092Z"
   },
   {
    "duration": 4,
    "start_time": "2024-04-04T07:11:46.137Z"
   },
   {
    "duration": 128,
    "start_time": "2024-04-04T07:11:46.143Z"
   },
   {
    "duration": 10,
    "start_time": "2024-04-04T07:11:46.273Z"
   },
   {
    "duration": 39,
    "start_time": "2024-04-04T07:11:46.284Z"
   },
   {
    "duration": 14,
    "start_time": "2024-04-04T07:11:46.324Z"
   },
   {
    "duration": 68,
    "start_time": "2024-04-04T07:11:46.339Z"
   },
   {
    "duration": 215,
    "start_time": "2024-04-04T07:11:46.408Z"
   },
   {
    "duration": 596,
    "start_time": "2024-04-04T07:11:46.624Z"
   },
   {
    "duration": 16,
    "start_time": "2024-04-04T07:11:47.221Z"
   },
   {
    "duration": 26,
    "start_time": "2024-04-04T07:11:47.239Z"
   },
   {
    "duration": 3,
    "start_time": "2024-04-04T07:11:47.269Z"
   },
   {
    "duration": 25,
    "start_time": "2024-04-04T07:11:47.273Z"
   },
   {
    "duration": 163,
    "start_time": "2024-04-04T07:11:47.302Z"
   },
   {
    "duration": 35,
    "start_time": "2024-04-04T07:11:47.467Z"
   },
   {
    "duration": 51,
    "start_time": "2024-04-04T07:11:47.503Z"
   },
   {
    "duration": 3,
    "start_time": "2024-04-04T07:11:47.556Z"
   },
   {
    "duration": 15,
    "start_time": "2024-04-04T07:11:47.561Z"
   },
   {
    "duration": 24,
    "start_time": "2024-04-04T07:11:47.577Z"
   },
   {
    "duration": 21,
    "start_time": "2024-04-04T07:11:47.603Z"
   },
   {
    "duration": 5,
    "start_time": "2024-04-04T07:11:47.626Z"
   },
   {
    "duration": 59,
    "start_time": "2024-04-04T07:11:47.632Z"
   },
   {
    "duration": 48,
    "start_time": "2024-04-04T07:11:47.693Z"
   },
   {
    "duration": 6,
    "start_time": "2024-04-04T07:11:47.743Z"
   },
   {
    "duration": 22,
    "start_time": "2024-04-04T07:11:47.750Z"
   },
   {
    "duration": 5,
    "start_time": "2024-04-04T07:11:47.774Z"
   },
   {
    "duration": 7,
    "start_time": "2024-04-04T07:11:47.780Z"
   },
   {
    "duration": 69,
    "start_time": "2024-04-04T07:11:47.788Z"
   },
   {
    "duration": 63,
    "start_time": "2024-04-04T07:11:47.859Z"
   },
   {
    "duration": 53,
    "start_time": "2024-04-04T07:11:47.923Z"
   },
   {
    "duration": 65,
    "start_time": "2024-04-04T07:11:47.978Z"
   },
   {
    "duration": 74,
    "start_time": "2024-04-04T07:11:48.044Z"
   },
   {
    "duration": 84,
    "start_time": "2024-04-04T07:11:48.119Z"
   },
   {
    "duration": 58,
    "start_time": "2024-04-04T07:11:48.205Z"
   },
   {
    "duration": 70,
    "start_time": "2024-04-04T07:11:48.265Z"
   },
   {
    "duration": 65,
    "start_time": "2024-04-04T07:11:48.336Z"
   },
   {
    "duration": 60,
    "start_time": "2024-04-04T07:11:48.403Z"
   },
   {
    "duration": 65,
    "start_time": "2024-04-04T07:11:48.464Z"
   },
   {
    "duration": 53,
    "start_time": "2024-04-04T07:11:48.530Z"
   },
   {
    "duration": 20,
    "start_time": "2024-04-04T07:11:48.585Z"
   },
   {
    "duration": 73,
    "start_time": "2024-04-04T07:11:48.606Z"
   },
   {
    "duration": 62,
    "start_time": "2024-04-04T07:11:48.680Z"
   },
   {
    "duration": 66,
    "start_time": "2024-04-04T07:11:48.743Z"
   },
   {
    "duration": 52,
    "start_time": "2024-04-04T07:11:48.811Z"
   },
   {
    "duration": 2,
    "start_time": "2024-04-04T07:11:48.865Z"
   },
   {
    "duration": 4,
    "start_time": "2024-04-04T07:11:48.869Z"
   },
   {
    "duration": 4,
    "start_time": "2024-04-04T07:11:48.874Z"
   },
   {
    "duration": 90,
    "start_time": "2024-04-04T07:11:48.880Z"
   },
   {
    "duration": 74,
    "start_time": "2024-04-04T07:11:48.971Z"
   },
   {
    "duration": 65,
    "start_time": "2024-04-04T07:11:49.046Z"
   },
   {
    "duration": 53,
    "start_time": "2024-04-04T07:11:49.112Z"
   },
   {
    "duration": 86,
    "start_time": "2024-04-04T07:11:49.167Z"
   },
   {
    "duration": 74,
    "start_time": "2024-04-04T07:11:49.254Z"
   },
   {
    "duration": 58,
    "start_time": "2024-04-04T07:11:49.330Z"
   },
   {
    "duration": 70,
    "start_time": "2024-04-04T07:11:49.389Z"
   },
   {
    "duration": 73,
    "start_time": "2024-04-04T07:11:49.460Z"
   },
   {
    "duration": 68,
    "start_time": "2024-04-04T07:11:49.534Z"
   },
   {
    "duration": 55,
    "start_time": "2024-04-04T07:11:49.603Z"
   },
   {
    "duration": 64,
    "start_time": "2024-04-04T07:11:49.660Z"
   },
   {
    "duration": 3,
    "start_time": "2024-04-04T07:12:38.399Z"
   },
   {
    "duration": 14,
    "start_time": "2024-04-04T07:13:27.981Z"
   },
   {
    "duration": 619,
    "start_time": "2024-04-04T07:15:38.191Z"
   },
   {
    "duration": 607,
    "start_time": "2024-04-04T07:16:22.182Z"
   },
   {
    "duration": 180,
    "start_time": "2024-04-04T07:16:48.788Z"
   },
   {
    "duration": 188,
    "start_time": "2024-04-04T07:16:58.318Z"
   },
   {
    "duration": 1180,
    "start_time": "2024-04-04T07:41:51.039Z"
   },
   {
    "duration": 285,
    "start_time": "2024-04-04T07:41:52.220Z"
   },
   {
    "duration": 18,
    "start_time": "2024-04-04T07:41:52.507Z"
   },
   {
    "duration": 27,
    "start_time": "2024-04-04T07:41:52.528Z"
   },
   {
    "duration": 20,
    "start_time": "2024-04-04T07:41:52.557Z"
   },
   {
    "duration": 11,
    "start_time": "2024-04-04T07:41:52.581Z"
   },
   {
    "duration": 9,
    "start_time": "2024-04-04T07:41:52.594Z"
   },
   {
    "duration": 30,
    "start_time": "2024-04-04T07:41:52.605Z"
   },
   {
    "duration": 81,
    "start_time": "2024-04-04T07:41:52.637Z"
   },
   {
    "duration": 109,
    "start_time": "2024-04-04T07:41:52.721Z"
   },
   {
    "duration": 84,
    "start_time": "2024-04-04T07:41:52.832Z"
   },
   {
    "duration": 36,
    "start_time": "2024-04-04T07:41:52.919Z"
   },
   {
    "duration": 37,
    "start_time": "2024-04-04T07:41:52.966Z"
   },
   {
    "duration": 32,
    "start_time": "2024-04-04T07:41:53.005Z"
   },
   {
    "duration": 12,
    "start_time": "2024-04-04T07:41:53.039Z"
   },
   {
    "duration": 21,
    "start_time": "2024-04-04T07:41:53.052Z"
   },
   {
    "duration": 25,
    "start_time": "2024-04-04T07:41:53.075Z"
   },
   {
    "duration": 10,
    "start_time": "2024-04-04T07:41:53.101Z"
   },
   {
    "duration": 187,
    "start_time": "2024-04-04T07:41:53.112Z"
   },
   {
    "duration": 11,
    "start_time": "2024-04-04T07:41:53.301Z"
   },
   {
    "duration": 9,
    "start_time": "2024-04-04T07:41:53.314Z"
   },
   {
    "duration": 4,
    "start_time": "2024-04-04T07:41:53.325Z"
   },
   {
    "duration": 75,
    "start_time": "2024-04-04T07:41:53.331Z"
   },
   {
    "duration": 233,
    "start_time": "2024-04-04T07:41:53.407Z"
   },
   {
    "duration": 781,
    "start_time": "2024-04-04T07:41:53.641Z"
   },
   {
    "duration": 17,
    "start_time": "2024-04-04T07:41:54.423Z"
   },
   {
    "duration": 48,
    "start_time": "2024-04-04T07:41:54.441Z"
   },
   {
    "duration": 4,
    "start_time": "2024-04-04T07:41:54.493Z"
   },
   {
    "duration": 14,
    "start_time": "2024-04-04T07:41:54.498Z"
   },
   {
    "duration": 183,
    "start_time": "2024-04-04T07:41:54.514Z"
   },
   {
    "duration": 39,
    "start_time": "2024-04-04T07:41:54.699Z"
   },
   {
    "duration": 79,
    "start_time": "2024-04-04T07:41:54.739Z"
   },
   {
    "duration": 5,
    "start_time": "2024-04-04T07:41:54.819Z"
   },
   {
    "duration": 9,
    "start_time": "2024-04-04T07:41:54.825Z"
   },
   {
    "duration": 29,
    "start_time": "2024-04-04T07:41:54.836Z"
   },
   {
    "duration": 11,
    "start_time": "2024-04-04T07:41:54.875Z"
   },
   {
    "duration": 4,
    "start_time": "2024-04-04T07:41:54.888Z"
   },
   {
    "duration": 38,
    "start_time": "2024-04-04T07:41:54.894Z"
   },
   {
    "duration": 72,
    "start_time": "2024-04-04T07:41:54.933Z"
   },
   {
    "duration": 7,
    "start_time": "2024-04-04T07:41:55.007Z"
   },
   {
    "duration": 13,
    "start_time": "2024-04-04T07:41:55.015Z"
   },
   {
    "duration": 11,
    "start_time": "2024-04-04T07:41:55.029Z"
   },
   {
    "duration": 17,
    "start_time": "2024-04-04T07:41:55.041Z"
   },
   {
    "duration": 94,
    "start_time": "2024-04-04T07:41:55.059Z"
   },
   {
    "duration": 70,
    "start_time": "2024-04-04T07:41:55.155Z"
   },
   {
    "duration": 70,
    "start_time": "2024-04-04T07:41:55.226Z"
   },
   {
    "duration": 83,
    "start_time": "2024-04-04T07:41:55.298Z"
   },
   {
    "duration": 75,
    "start_time": "2024-04-04T07:41:55.384Z"
   },
   {
    "duration": 85,
    "start_time": "2024-04-04T07:41:55.460Z"
   },
   {
    "duration": 89,
    "start_time": "2024-04-04T07:41:55.547Z"
   },
   {
    "duration": 80,
    "start_time": "2024-04-04T07:41:55.638Z"
   },
   {
    "duration": 81,
    "start_time": "2024-04-04T07:41:55.720Z"
   },
   {
    "duration": 87,
    "start_time": "2024-04-04T07:41:55.803Z"
   },
   {
    "duration": 90,
    "start_time": "2024-04-04T07:41:55.891Z"
   },
   {
    "duration": 66,
    "start_time": "2024-04-04T07:41:55.982Z"
   },
   {
    "duration": 7,
    "start_time": "2024-04-04T07:41:56.050Z"
   },
   {
    "duration": 79,
    "start_time": "2024-04-04T07:41:56.058Z"
   },
   {
    "duration": 74,
    "start_time": "2024-04-04T07:41:56.139Z"
   },
   {
    "duration": 70,
    "start_time": "2024-04-04T07:41:56.215Z"
   },
   {
    "duration": 59,
    "start_time": "2024-04-04T07:41:56.287Z"
   },
   {
    "duration": 3,
    "start_time": "2024-04-04T07:41:56.348Z"
   },
   {
    "duration": 4,
    "start_time": "2024-04-04T07:41:56.375Z"
   },
   {
    "duration": 14,
    "start_time": "2024-04-04T07:41:56.382Z"
   },
   {
    "duration": 98,
    "start_time": "2024-04-04T07:41:56.398Z"
   },
   {
    "duration": 77,
    "start_time": "2024-04-04T07:41:56.497Z"
   },
   {
    "duration": 69,
    "start_time": "2024-04-04T07:41:56.576Z"
   },
   {
    "duration": 79,
    "start_time": "2024-04-04T07:41:56.647Z"
   },
   {
    "duration": 89,
    "start_time": "2024-04-04T07:41:56.727Z"
   },
   {
    "duration": 87,
    "start_time": "2024-04-04T07:41:56.818Z"
   },
   {
    "duration": 83,
    "start_time": "2024-04-04T07:41:56.907Z"
   },
   {
    "duration": 84,
    "start_time": "2024-04-04T07:41:56.991Z"
   },
   {
    "duration": 65,
    "start_time": "2024-04-04T07:41:57.080Z"
   },
   {
    "duration": 79,
    "start_time": "2024-04-04T07:41:57.147Z"
   },
   {
    "duration": 83,
    "start_time": "2024-04-04T07:41:57.227Z"
   },
   {
    "duration": 73,
    "start_time": "2024-04-04T07:41:57.312Z"
   },
   {
    "duration": 60,
    "start_time": "2024-04-05T04:03:30.765Z"
   },
   {
    "duration": 1414,
    "start_time": "2024-04-05T04:03:44.810Z"
   },
   {
    "duration": 849,
    "start_time": "2024-04-05T04:03:46.226Z"
   },
   {
    "duration": 12,
    "start_time": "2024-04-05T04:03:47.078Z"
   },
   {
    "duration": 21,
    "start_time": "2024-04-05T04:03:47.092Z"
   },
   {
    "duration": 12,
    "start_time": "2024-04-05T04:03:47.114Z"
   },
   {
    "duration": 7,
    "start_time": "2024-04-05T04:03:47.128Z"
   },
   {
    "duration": 9,
    "start_time": "2024-04-05T04:03:47.137Z"
   },
   {
    "duration": 39,
    "start_time": "2024-04-05T04:03:47.147Z"
   },
   {
    "duration": 64,
    "start_time": "2024-04-05T04:03:47.188Z"
   },
   {
    "duration": 108,
    "start_time": "2024-04-05T04:03:47.269Z"
   },
   {
    "duration": 92,
    "start_time": "2024-04-05T04:03:47.379Z"
   },
   {
    "duration": 50,
    "start_time": "2024-04-05T04:03:47.472Z"
   },
   {
    "duration": 27,
    "start_time": "2024-04-05T04:03:47.524Z"
   },
   {
    "duration": 48,
    "start_time": "2024-04-05T04:03:47.553Z"
   },
   {
    "duration": 13,
    "start_time": "2024-04-05T04:03:47.602Z"
   },
   {
    "duration": 6,
    "start_time": "2024-04-05T04:03:47.616Z"
   },
   {
    "duration": 21,
    "start_time": "2024-04-05T04:03:47.623Z"
   },
   {
    "duration": 26,
    "start_time": "2024-04-05T04:03:47.646Z"
   },
   {
    "duration": 148,
    "start_time": "2024-04-05T04:03:47.674Z"
   },
   {
    "duration": 11,
    "start_time": "2024-04-05T04:03:47.823Z"
   },
   {
    "duration": 10,
    "start_time": "2024-04-05T04:03:47.835Z"
   },
   {
    "duration": 5,
    "start_time": "2024-04-05T04:03:47.846Z"
   },
   {
    "duration": 71,
    "start_time": "2024-04-05T04:03:47.853Z"
   },
   {
    "duration": 255,
    "start_time": "2024-04-05T04:03:47.925Z"
   },
   {
    "duration": 765,
    "start_time": "2024-04-05T04:03:48.182Z"
   },
   {
    "duration": 26,
    "start_time": "2024-04-05T04:03:48.949Z"
   },
   {
    "duration": 51,
    "start_time": "2024-04-05T04:03:48.977Z"
   },
   {
    "duration": 3,
    "start_time": "2024-04-05T04:03:49.033Z"
   },
   {
    "duration": 36,
    "start_time": "2024-04-05T04:03:49.038Z"
   },
   {
    "duration": 159,
    "start_time": "2024-04-05T04:03:49.076Z"
   },
   {
    "duration": 108,
    "start_time": "2024-04-05T04:03:49.237Z"
   },
   {
    "duration": 0,
    "start_time": "2024-04-05T04:03:49.347Z"
   },
   {
    "duration": 0,
    "start_time": "2024-04-05T04:03:49.348Z"
   },
   {
    "duration": 0,
    "start_time": "2024-04-05T04:03:49.350Z"
   },
   {
    "duration": 1,
    "start_time": "2024-04-05T04:03:49.350Z"
   },
   {
    "duration": 0,
    "start_time": "2024-04-05T04:03:49.352Z"
   },
   {
    "duration": 0,
    "start_time": "2024-04-05T04:03:49.353Z"
   },
   {
    "duration": 0,
    "start_time": "2024-04-05T04:03:49.354Z"
   },
   {
    "duration": 0,
    "start_time": "2024-04-05T04:03:49.355Z"
   },
   {
    "duration": 0,
    "start_time": "2024-04-05T04:03:49.370Z"
   },
   {
    "duration": 0,
    "start_time": "2024-04-05T04:03:49.372Z"
   },
   {
    "duration": 0,
    "start_time": "2024-04-05T04:03:49.374Z"
   },
   {
    "duration": 0,
    "start_time": "2024-04-05T04:03:49.375Z"
   },
   {
    "duration": 0,
    "start_time": "2024-04-05T04:03:49.378Z"
   },
   {
    "duration": 0,
    "start_time": "2024-04-05T04:03:49.379Z"
   },
   {
    "duration": 0,
    "start_time": "2024-04-05T04:03:49.381Z"
   },
   {
    "duration": 0,
    "start_time": "2024-04-05T04:03:49.382Z"
   },
   {
    "duration": 0,
    "start_time": "2024-04-05T04:03:49.383Z"
   },
   {
    "duration": 0,
    "start_time": "2024-04-05T04:03:49.385Z"
   },
   {
    "duration": 0,
    "start_time": "2024-04-05T04:03:49.387Z"
   },
   {
    "duration": 0,
    "start_time": "2024-04-05T04:03:49.388Z"
   },
   {
    "duration": 0,
    "start_time": "2024-04-05T04:03:49.390Z"
   },
   {
    "duration": 0,
    "start_time": "2024-04-05T04:03:49.391Z"
   },
   {
    "duration": 1,
    "start_time": "2024-04-05T04:03:49.392Z"
   },
   {
    "duration": 0,
    "start_time": "2024-04-05T04:03:49.395Z"
   },
   {
    "duration": 0,
    "start_time": "2024-04-05T04:03:49.396Z"
   },
   {
    "duration": 0,
    "start_time": "2024-04-05T04:03:49.397Z"
   },
   {
    "duration": 0,
    "start_time": "2024-04-05T04:03:49.399Z"
   },
   {
    "duration": 0,
    "start_time": "2024-04-05T04:03:49.400Z"
   },
   {
    "duration": 0,
    "start_time": "2024-04-05T04:03:49.401Z"
   },
   {
    "duration": 0,
    "start_time": "2024-04-05T04:03:49.402Z"
   },
   {
    "duration": 0,
    "start_time": "2024-04-05T04:03:49.403Z"
   },
   {
    "duration": 0,
    "start_time": "2024-04-05T04:03:49.404Z"
   },
   {
    "duration": 0,
    "start_time": "2024-04-05T04:03:49.405Z"
   },
   {
    "duration": 0,
    "start_time": "2024-04-05T04:03:49.406Z"
   },
   {
    "duration": 0,
    "start_time": "2024-04-05T04:03:49.407Z"
   },
   {
    "duration": 0,
    "start_time": "2024-04-05T04:03:49.408Z"
   },
   {
    "duration": 0,
    "start_time": "2024-04-05T04:03:49.409Z"
   },
   {
    "duration": 0,
    "start_time": "2024-04-05T04:03:49.472Z"
   },
   {
    "duration": 0,
    "start_time": "2024-04-05T04:03:49.474Z"
   },
   {
    "duration": 0,
    "start_time": "2024-04-05T04:03:49.475Z"
   },
   {
    "duration": 0,
    "start_time": "2024-04-05T04:03:49.477Z"
   },
   {
    "duration": 0,
    "start_time": "2024-04-05T04:03:49.478Z"
   },
   {
    "duration": 0,
    "start_time": "2024-04-05T04:03:49.480Z"
   },
   {
    "duration": 0,
    "start_time": "2024-04-05T04:03:49.481Z"
   },
   {
    "duration": 0,
    "start_time": "2024-04-05T04:03:49.482Z"
   },
   {
    "duration": 7,
    "start_time": "2024-04-05T04:06:06.544Z"
   },
   {
    "duration": 7,
    "start_time": "2024-04-05T04:08:26.962Z"
   },
   {
    "duration": 12,
    "start_time": "2024-04-05T04:08:36.615Z"
   },
   {
    "duration": 17,
    "start_time": "2024-04-05T04:08:53.379Z"
   },
   {
    "duration": 13,
    "start_time": "2024-04-05T04:09:10.636Z"
   },
   {
    "duration": 14,
    "start_time": "2024-04-05T04:13:03.894Z"
   },
   {
    "duration": 17,
    "start_time": "2024-04-05T04:15:39.287Z"
   },
   {
    "duration": 19,
    "start_time": "2024-04-05T04:15:52.063Z"
   },
   {
    "duration": 1246,
    "start_time": "2024-04-05T06:49:13.948Z"
   },
   {
    "duration": 183,
    "start_time": "2024-04-05T06:49:15.195Z"
   },
   {
    "duration": 12,
    "start_time": "2024-04-05T06:49:15.379Z"
   },
   {
    "duration": 42,
    "start_time": "2024-04-05T06:49:15.393Z"
   },
   {
    "duration": 20,
    "start_time": "2024-04-05T06:49:15.437Z"
   },
   {
    "duration": 47,
    "start_time": "2024-04-05T06:49:15.458Z"
   },
   {
    "duration": 20,
    "start_time": "2024-04-05T06:49:15.507Z"
   },
   {
    "duration": 51,
    "start_time": "2024-04-05T06:49:15.528Z"
   },
   {
    "duration": 67,
    "start_time": "2024-04-05T06:49:15.581Z"
   },
   {
    "duration": 111,
    "start_time": "2024-04-05T06:49:15.651Z"
   },
   {
    "duration": 80,
    "start_time": "2024-04-05T06:49:15.770Z"
   },
   {
    "duration": 42,
    "start_time": "2024-04-05T06:49:15.852Z"
   },
   {
    "duration": 29,
    "start_time": "2024-04-05T06:49:15.896Z"
   },
   {
    "duration": 46,
    "start_time": "2024-04-05T06:49:15.927Z"
   },
   {
    "duration": 14,
    "start_time": "2024-04-05T06:49:15.975Z"
   },
   {
    "duration": 5,
    "start_time": "2024-04-05T06:49:15.991Z"
   },
   {
    "duration": 23,
    "start_time": "2024-04-05T06:49:15.998Z"
   },
   {
    "duration": 5,
    "start_time": "2024-04-05T06:49:16.022Z"
   },
   {
    "duration": 195,
    "start_time": "2024-04-05T06:49:16.028Z"
   },
   {
    "duration": 12,
    "start_time": "2024-04-05T06:49:16.225Z"
   },
   {
    "duration": 11,
    "start_time": "2024-04-05T06:49:16.239Z"
   },
   {
    "duration": 19,
    "start_time": "2024-04-05T06:49:16.251Z"
   },
   {
    "duration": 50,
    "start_time": "2024-04-05T06:49:16.272Z"
   },
   {
    "duration": 246,
    "start_time": "2024-04-05T06:49:16.324Z"
   },
   {
    "duration": 748,
    "start_time": "2024-04-05T06:49:16.571Z"
   },
   {
    "duration": 19,
    "start_time": "2024-04-05T06:49:17.320Z"
   },
   {
    "duration": 46,
    "start_time": "2024-04-05T06:49:17.341Z"
   },
   {
    "duration": 3,
    "start_time": "2024-04-05T06:49:17.391Z"
   },
   {
    "duration": 24,
    "start_time": "2024-04-05T06:49:17.396Z"
   },
   {
    "duration": 173,
    "start_time": "2024-04-05T06:49:17.422Z"
   },
   {
    "duration": 15,
    "start_time": "2024-04-05T06:49:17.596Z"
   },
   {
    "duration": 20,
    "start_time": "2024-04-05T06:49:17.612Z"
   },
   {
    "duration": 58,
    "start_time": "2024-04-05T06:49:17.633Z"
   },
   {
    "duration": 57,
    "start_time": "2024-04-05T06:49:17.692Z"
   },
   {
    "duration": 5,
    "start_time": "2024-04-05T06:49:17.750Z"
   },
   {
    "duration": 24,
    "start_time": "2024-04-05T06:49:17.756Z"
   },
   {
    "duration": 17,
    "start_time": "2024-04-05T06:49:17.781Z"
   },
   {
    "duration": 34,
    "start_time": "2024-04-05T06:49:17.800Z"
   },
   {
    "duration": 6,
    "start_time": "2024-04-05T06:49:17.836Z"
   },
   {
    "duration": 39,
    "start_time": "2024-04-05T06:49:17.844Z"
   },
   {
    "duration": 58,
    "start_time": "2024-04-05T06:49:17.884Z"
   },
   {
    "duration": 7,
    "start_time": "2024-04-05T06:49:17.943Z"
   },
   {
    "duration": 4,
    "start_time": "2024-04-05T06:49:17.952Z"
   },
   {
    "duration": 14,
    "start_time": "2024-04-05T06:49:17.958Z"
   },
   {
    "duration": 8,
    "start_time": "2024-04-05T06:49:17.974Z"
   },
   {
    "duration": 97,
    "start_time": "2024-04-05T06:49:17.983Z"
   },
   {
    "duration": 67,
    "start_time": "2024-04-05T06:49:18.082Z"
   },
   {
    "duration": 76,
    "start_time": "2024-04-05T06:49:18.150Z"
   },
   {
    "duration": 80,
    "start_time": "2024-04-05T06:49:18.227Z"
   },
   {
    "duration": 94,
    "start_time": "2024-04-05T06:49:18.308Z"
   },
   {
    "duration": 90,
    "start_time": "2024-04-05T06:49:18.403Z"
   },
   {
    "duration": 78,
    "start_time": "2024-04-05T06:49:18.495Z"
   },
   {
    "duration": 69,
    "start_time": "2024-04-05T06:49:18.574Z"
   },
   {
    "duration": 80,
    "start_time": "2024-04-05T06:49:18.644Z"
   },
   {
    "duration": 76,
    "start_time": "2024-04-05T06:49:18.725Z"
   },
   {
    "duration": 76,
    "start_time": "2024-04-05T06:49:18.803Z"
   },
   {
    "duration": 67,
    "start_time": "2024-04-05T06:49:18.880Z"
   },
   {
    "duration": 22,
    "start_time": "2024-04-05T06:49:18.949Z"
   },
   {
    "duration": 73,
    "start_time": "2024-04-05T06:49:18.972Z"
   },
   {
    "duration": 78,
    "start_time": "2024-04-05T06:49:19.047Z"
   },
   {
    "duration": 65,
    "start_time": "2024-04-05T06:49:19.126Z"
   },
   {
    "duration": 61,
    "start_time": "2024-04-05T06:49:19.193Z"
   },
   {
    "duration": 15,
    "start_time": "2024-04-05T06:49:19.255Z"
   },
   {
    "duration": 6,
    "start_time": "2024-04-05T06:49:19.272Z"
   },
   {
    "duration": 7,
    "start_time": "2024-04-05T06:49:19.279Z"
   },
   {
    "duration": 88,
    "start_time": "2024-04-05T06:49:19.288Z"
   },
   {
    "duration": 69,
    "start_time": "2024-04-05T06:49:19.378Z"
   },
   {
    "duration": 84,
    "start_time": "2024-04-05T06:49:19.448Z"
   },
   {
    "duration": 76,
    "start_time": "2024-04-05T06:49:19.533Z"
   },
   {
    "duration": 91,
    "start_time": "2024-04-05T06:49:19.610Z"
   },
   {
    "duration": 90,
    "start_time": "2024-04-05T06:49:19.703Z"
   },
   {
    "duration": 80,
    "start_time": "2024-04-05T06:49:19.796Z"
   },
   {
    "duration": 75,
    "start_time": "2024-04-05T06:49:19.878Z"
   },
   {
    "duration": 81,
    "start_time": "2024-04-05T06:49:19.955Z"
   },
   {
    "duration": 79,
    "start_time": "2024-04-05T06:49:20.037Z"
   },
   {
    "duration": 80,
    "start_time": "2024-04-05T06:49:20.118Z"
   },
   {
    "duration": 77,
    "start_time": "2024-04-05T06:49:20.199Z"
   },
   {
    "duration": 19,
    "start_time": "2024-04-05T06:52:59.231Z"
   },
   {
    "duration": 98,
    "start_time": "2024-04-05T06:55:19.593Z"
   },
   {
    "duration": 161,
    "start_time": "2024-04-05T06:55:32.018Z"
   },
   {
    "duration": 11,
    "start_time": "2024-04-05T06:57:00.340Z"
   },
   {
    "duration": 8,
    "start_time": "2024-04-05T06:59:43.888Z"
   },
   {
    "duration": 8,
    "start_time": "2024-04-05T06:59:53.789Z"
   },
   {
    "duration": 22,
    "start_time": "2024-04-05T07:01:02.380Z"
   },
   {
    "duration": 15,
    "start_time": "2024-04-05T07:02:23.675Z"
   },
   {
    "duration": 182,
    "start_time": "2024-04-05T07:04:25.623Z"
   },
   {
    "duration": 12,
    "start_time": "2024-04-05T07:04:42.288Z"
   },
   {
    "duration": 11,
    "start_time": "2024-04-05T07:04:53.617Z"
   },
   {
    "duration": 84,
    "start_time": "2024-04-05T07:05:41.632Z"
   },
   {
    "duration": 13,
    "start_time": "2024-04-05T07:05:51.038Z"
   },
   {
    "duration": 13,
    "start_time": "2024-04-05T07:06:22.224Z"
   },
   {
    "duration": 13,
    "start_time": "2024-04-05T07:06:57.741Z"
   },
   {
    "duration": 15,
    "start_time": "2024-04-05T07:07:26.732Z"
   },
   {
    "duration": 9,
    "start_time": "2024-04-05T07:09:25.918Z"
   },
   {
    "duration": 12,
    "start_time": "2024-04-05T07:09:59.612Z"
   },
   {
    "duration": 12,
    "start_time": "2024-04-05T07:10:04.618Z"
   },
   {
    "duration": 10,
    "start_time": "2024-04-05T07:10:12.683Z"
   },
   {
    "duration": 16,
    "start_time": "2024-04-05T07:13:23.757Z"
   },
   {
    "duration": 13,
    "start_time": "2024-04-05T07:15:06.629Z"
   },
   {
    "duration": 13,
    "start_time": "2024-04-05T07:15:16.967Z"
   },
   {
    "duration": 14,
    "start_time": "2024-04-05T07:15:23.717Z"
   },
   {
    "duration": 11,
    "start_time": "2024-04-05T07:17:23.104Z"
   },
   {
    "duration": 11,
    "start_time": "2024-04-05T07:18:22.945Z"
   },
   {
    "duration": 10,
    "start_time": "2024-04-05T07:18:47.224Z"
   },
   {
    "duration": 19,
    "start_time": "2024-04-05T07:19:16.575Z"
   },
   {
    "duration": 11,
    "start_time": "2024-04-05T07:19:24.338Z"
   },
   {
    "duration": 35,
    "start_time": "2024-04-05T07:56:58.336Z"
   },
   {
    "duration": 42,
    "start_time": "2024-04-05T07:57:10.711Z"
   },
   {
    "duration": 41,
    "start_time": "2024-04-05T07:58:04.464Z"
   },
   {
    "duration": 32,
    "start_time": "2024-04-05T07:59:59.757Z"
   },
   {
    "duration": 45,
    "start_time": "2024-04-05T08:00:03.750Z"
   },
   {
    "duration": 10,
    "start_time": "2024-04-05T09:39:22.955Z"
   },
   {
    "duration": 4,
    "start_time": "2024-04-05T09:39:43.610Z"
   },
   {
    "duration": 10,
    "start_time": "2024-04-05T09:40:20.096Z"
   },
   {
    "duration": 32,
    "start_time": "2024-04-05T09:40:49.538Z"
   },
   {
    "duration": 10,
    "start_time": "2024-04-05T09:40:57.198Z"
   },
   {
    "duration": 9,
    "start_time": "2024-04-05T10:01:45.261Z"
   },
   {
    "duration": 70,
    "start_time": "2024-04-05T10:01:50.660Z"
   },
   {
    "duration": 54,
    "start_time": "2024-04-05T10:02:07.187Z"
   },
   {
    "duration": 54,
    "start_time": "2024-04-05T10:02:11.000Z"
   },
   {
    "duration": 63,
    "start_time": "2024-04-05T10:02:15.714Z"
   },
   {
    "duration": 62,
    "start_time": "2024-04-05T10:03:36.548Z"
   },
   {
    "duration": 68,
    "start_time": "2024-04-05T10:04:00.589Z"
   },
   {
    "duration": 67,
    "start_time": "2024-04-05T10:04:14.505Z"
   },
   {
    "duration": 54,
    "start_time": "2024-04-05T10:04:49.381Z"
   },
   {
    "duration": 56,
    "start_time": "2024-04-05T10:04:56.760Z"
   },
   {
    "duration": 55,
    "start_time": "2024-04-05T10:05:04.288Z"
   },
   {
    "duration": 1172,
    "start_time": "2024-04-05T10:08:25.304Z"
   },
   {
    "duration": 177,
    "start_time": "2024-04-05T10:08:26.478Z"
   },
   {
    "duration": 10,
    "start_time": "2024-04-05T10:08:26.656Z"
   },
   {
    "duration": 26,
    "start_time": "2024-04-05T10:08:26.667Z"
   },
   {
    "duration": 12,
    "start_time": "2024-04-05T10:08:26.695Z"
   },
   {
    "duration": 8,
    "start_time": "2024-04-05T10:08:26.709Z"
   },
   {
    "duration": 16,
    "start_time": "2024-04-05T10:08:26.718Z"
   },
   {
    "duration": 35,
    "start_time": "2024-04-05T10:08:26.735Z"
   },
   {
    "duration": 67,
    "start_time": "2024-04-05T10:08:26.772Z"
   },
   {
    "duration": 109,
    "start_time": "2024-04-05T10:08:26.841Z"
   },
   {
    "duration": 87,
    "start_time": "2024-04-05T10:08:26.951Z"
   },
   {
    "duration": 37,
    "start_time": "2024-04-05T10:08:27.040Z"
   },
   {
    "duration": 30,
    "start_time": "2024-04-05T10:08:27.079Z"
   },
   {
    "duration": 33,
    "start_time": "2024-04-05T10:08:27.112Z"
   },
   {
    "duration": 31,
    "start_time": "2024-04-05T10:08:27.146Z"
   },
   {
    "duration": 9,
    "start_time": "2024-04-05T10:08:27.179Z"
   },
   {
    "duration": 25,
    "start_time": "2024-04-05T10:08:27.189Z"
   },
   {
    "duration": 4,
    "start_time": "2024-04-05T10:08:27.216Z"
   },
   {
    "duration": 144,
    "start_time": "2024-04-05T10:08:27.221Z"
   },
   {
    "duration": 12,
    "start_time": "2024-04-05T10:08:27.367Z"
   },
   {
    "duration": 9,
    "start_time": "2024-04-05T10:08:27.381Z"
   },
   {
    "duration": 7,
    "start_time": "2024-04-05T10:08:27.391Z"
   },
   {
    "duration": 43,
    "start_time": "2024-04-05T10:08:27.400Z"
   },
   {
    "duration": 236,
    "start_time": "2024-04-05T10:08:27.444Z"
   },
   {
    "duration": 733,
    "start_time": "2024-04-05T10:08:27.681Z"
   },
   {
    "duration": 18,
    "start_time": "2024-04-05T10:08:28.416Z"
   },
   {
    "duration": 38,
    "start_time": "2024-04-05T10:08:28.435Z"
   },
   {
    "duration": 3,
    "start_time": "2024-04-05T10:08:28.475Z"
   },
   {
    "duration": 27,
    "start_time": "2024-04-05T10:08:28.479Z"
   },
   {
    "duration": 163,
    "start_time": "2024-04-05T10:08:28.507Z"
   },
   {
    "duration": 14,
    "start_time": "2024-04-05T10:08:28.671Z"
   },
   {
    "duration": 28,
    "start_time": "2024-04-05T10:08:28.687Z"
   },
   {
    "duration": 40,
    "start_time": "2024-04-05T10:08:28.716Z"
   },
   {
    "duration": 57,
    "start_time": "2024-04-05T10:08:28.757Z"
   },
   {
    "duration": 4,
    "start_time": "2024-04-05T10:08:28.816Z"
   },
   {
    "duration": 11,
    "start_time": "2024-04-05T10:08:28.821Z"
   },
   {
    "duration": 18,
    "start_time": "2024-04-05T10:08:28.833Z"
   },
   {
    "duration": 27,
    "start_time": "2024-04-05T10:08:28.852Z"
   },
   {
    "duration": 7,
    "start_time": "2024-04-05T10:08:28.880Z"
   },
   {
    "duration": 166,
    "start_time": "2024-04-05T10:08:28.888Z"
   },
   {
    "duration": 43,
    "start_time": "2024-04-05T10:08:29.058Z"
   },
   {
    "duration": 114,
    "start_time": "2024-04-05T10:08:29.103Z"
   },
   {
    "duration": 7,
    "start_time": "2024-04-05T10:08:29.219Z"
   },
   {
    "duration": 9,
    "start_time": "2024-04-05T10:08:29.227Z"
   },
   {
    "duration": 9,
    "start_time": "2024-04-05T10:08:29.237Z"
   },
   {
    "duration": 12,
    "start_time": "2024-04-05T10:08:29.269Z"
   },
   {
    "duration": 89,
    "start_time": "2024-04-05T10:08:29.283Z"
   },
   {
    "duration": 58,
    "start_time": "2024-04-05T10:08:29.374Z"
   },
   {
    "duration": 67,
    "start_time": "2024-04-05T10:08:29.434Z"
   },
   {
    "duration": 57,
    "start_time": "2024-04-05T10:08:29.502Z"
   },
   {
    "duration": 74,
    "start_time": "2024-04-05T10:08:29.570Z"
   },
   {
    "duration": 87,
    "start_time": "2024-04-05T10:08:29.645Z"
   },
   {
    "duration": 63,
    "start_time": "2024-04-05T10:08:29.734Z"
   },
   {
    "duration": 57,
    "start_time": "2024-04-05T10:08:29.798Z"
   },
   {
    "duration": 68,
    "start_time": "2024-04-05T10:08:29.856Z"
   },
   {
    "duration": 80,
    "start_time": "2024-04-05T10:08:29.926Z"
   },
   {
    "duration": 71,
    "start_time": "2024-04-05T10:08:30.007Z"
   },
   {
    "duration": 60,
    "start_time": "2024-04-05T10:08:30.080Z"
   },
   {
    "duration": 100,
    "start_time": "2024-04-05T10:08:30.142Z"
   },
   {
    "duration": 74,
    "start_time": "2024-04-05T10:08:30.244Z"
   },
   {
    "duration": 70,
    "start_time": "2024-04-05T10:08:30.320Z"
   },
   {
    "duration": 66,
    "start_time": "2024-04-05T10:08:30.392Z"
   },
   {
    "duration": 144,
    "start_time": "2024-04-05T10:08:30.470Z"
   },
   {
    "duration": 113,
    "start_time": "2024-04-05T10:08:30.616Z"
   },
   {
    "duration": 79,
    "start_time": "2024-04-05T10:08:30.731Z"
   },
   {
    "duration": 159,
    "start_time": "2024-04-05T10:08:30.812Z"
   },
   {
    "duration": 63,
    "start_time": "2024-04-05T10:08:30.973Z"
   },
   {
    "duration": 120,
    "start_time": "2024-04-05T10:08:31.038Z"
   },
   {
    "duration": 74,
    "start_time": "2024-04-05T10:08:31.161Z"
   },
   {
    "duration": 159,
    "start_time": "2024-04-05T10:08:31.237Z"
   },
   {
    "duration": 113,
    "start_time": "2024-04-05T10:08:31.397Z"
   },
   {
    "duration": 70,
    "start_time": "2024-04-05T10:08:31.512Z"
   },
   {
    "duration": 61,
    "start_time": "2024-04-05T10:08:31.584Z"
   },
   {
    "duration": 73,
    "start_time": "2024-04-05T10:08:31.646Z"
   },
   {
    "duration": 71,
    "start_time": "2024-04-05T10:08:31.721Z"
   },
   {
    "duration": 78,
    "start_time": "2024-04-05T10:08:31.794Z"
   },
   {
    "duration": 59,
    "start_time": "2024-04-05T10:08:31.873Z"
   },
   {
    "duration": 10,
    "start_time": "2024-04-05T10:12:48.383Z"
   },
   {
    "duration": 1331,
    "start_time": "2024-04-05T12:44:06.602Z"
   },
   {
    "duration": 315,
    "start_time": "2024-04-05T12:44:07.935Z"
   },
   {
    "duration": 12,
    "start_time": "2024-04-05T12:44:08.252Z"
   },
   {
    "duration": 23,
    "start_time": "2024-04-05T12:44:08.266Z"
   },
   {
    "duration": 13,
    "start_time": "2024-04-05T12:44:08.291Z"
   },
   {
    "duration": 8,
    "start_time": "2024-04-05T12:44:08.305Z"
   },
   {
    "duration": 9,
    "start_time": "2024-04-05T12:44:08.314Z"
   },
   {
    "duration": 23,
    "start_time": "2024-04-05T12:44:08.324Z"
   },
   {
    "duration": 94,
    "start_time": "2024-04-05T12:44:08.349Z"
   },
   {
    "duration": 112,
    "start_time": "2024-04-05T12:44:08.446Z"
   },
   {
    "duration": 87,
    "start_time": "2024-04-05T12:44:08.560Z"
   },
   {
    "duration": 42,
    "start_time": "2024-04-05T12:44:08.649Z"
   },
   {
    "duration": 28,
    "start_time": "2024-04-05T12:44:08.693Z"
   },
   {
    "duration": 34,
    "start_time": "2024-04-05T12:44:08.722Z"
   },
   {
    "duration": 33,
    "start_time": "2024-04-05T12:44:08.757Z"
   },
   {
    "duration": 5,
    "start_time": "2024-04-05T12:44:08.792Z"
   },
   {
    "duration": 22,
    "start_time": "2024-04-05T12:44:08.798Z"
   },
   {
    "duration": 5,
    "start_time": "2024-04-05T12:44:08.821Z"
   },
   {
    "duration": 165,
    "start_time": "2024-04-05T12:44:08.827Z"
   },
   {
    "duration": 11,
    "start_time": "2024-04-05T12:44:08.993Z"
   },
   {
    "duration": 8,
    "start_time": "2024-04-05T12:44:09.006Z"
   },
   {
    "duration": 13,
    "start_time": "2024-04-05T12:44:09.016Z"
   },
   {
    "duration": 58,
    "start_time": "2024-04-05T12:44:09.031Z"
   },
   {
    "duration": 256,
    "start_time": "2024-04-05T12:44:09.090Z"
   },
   {
    "duration": 800,
    "start_time": "2024-04-05T12:44:09.347Z"
   },
   {
    "duration": 18,
    "start_time": "2024-04-05T12:44:10.148Z"
   },
   {
    "duration": 41,
    "start_time": "2024-04-05T12:44:10.168Z"
   },
   {
    "duration": 4,
    "start_time": "2024-04-05T12:44:10.213Z"
   },
   {
    "duration": 17,
    "start_time": "2024-04-05T12:44:10.218Z"
   },
   {
    "duration": 181,
    "start_time": "2024-04-05T12:44:10.236Z"
   },
   {
    "duration": 15,
    "start_time": "2024-04-05T12:44:10.419Z"
   },
   {
    "duration": 16,
    "start_time": "2024-04-05T12:44:10.435Z"
   },
   {
    "duration": 57,
    "start_time": "2024-04-05T12:44:10.453Z"
   },
   {
    "duration": 70,
    "start_time": "2024-04-05T12:44:10.512Z"
   },
   {
    "duration": 4,
    "start_time": "2024-04-05T12:44:10.583Z"
   },
   {
    "duration": 10,
    "start_time": "2024-04-05T12:44:10.589Z"
   },
   {
    "duration": 9,
    "start_time": "2024-04-05T12:44:10.601Z"
   },
   {
    "duration": 13,
    "start_time": "2024-04-05T12:44:10.611Z"
   },
   {
    "duration": 4,
    "start_time": "2024-04-05T12:44:10.625Z"
   },
   {
    "duration": 207,
    "start_time": "2024-04-05T12:44:10.630Z"
   },
   {
    "duration": 71,
    "start_time": "2024-04-05T12:44:10.839Z"
   },
   {
    "duration": 183,
    "start_time": "2024-04-05T12:44:10.912Z"
   },
   {
    "duration": 6,
    "start_time": "2024-04-05T12:44:11.097Z"
   },
   {
    "duration": 8,
    "start_time": "2024-04-05T12:44:11.105Z"
   },
   {
    "duration": 15,
    "start_time": "2024-04-05T12:44:11.115Z"
   },
   {
    "duration": 10,
    "start_time": "2024-04-05T12:44:11.131Z"
   },
   {
    "duration": 112,
    "start_time": "2024-04-05T12:44:11.142Z"
   },
   {
    "duration": 62,
    "start_time": "2024-04-05T12:44:11.256Z"
   },
   {
    "duration": 72,
    "start_time": "2024-04-05T12:44:11.320Z"
   },
   {
    "duration": 65,
    "start_time": "2024-04-05T12:44:11.394Z"
   },
   {
    "duration": 92,
    "start_time": "2024-04-05T12:44:11.460Z"
   },
   {
    "duration": 94,
    "start_time": "2024-04-05T12:44:11.554Z"
   },
   {
    "duration": 72,
    "start_time": "2024-04-05T12:44:11.650Z"
   },
   {
    "duration": 66,
    "start_time": "2024-04-05T12:44:11.724Z"
   },
   {
    "duration": 61,
    "start_time": "2024-04-05T12:44:11.791Z"
   },
   {
    "duration": 80,
    "start_time": "2024-04-05T12:44:11.854Z"
   },
   {
    "duration": 66,
    "start_time": "2024-04-05T12:44:11.936Z"
   },
   {
    "duration": 60,
    "start_time": "2024-04-05T12:44:12.004Z"
   },
   {
    "duration": 91,
    "start_time": "2024-04-05T12:44:12.066Z"
   },
   {
    "duration": 72,
    "start_time": "2024-04-05T12:44:12.159Z"
   },
   {
    "duration": 72,
    "start_time": "2024-04-05T12:44:12.233Z"
   },
   {
    "duration": 62,
    "start_time": "2024-04-05T12:44:12.306Z"
   },
   {
    "duration": 19,
    "start_time": "2024-04-05T12:44:12.370Z"
   },
   {
    "duration": 14,
    "start_time": "2024-04-05T12:44:12.394Z"
   },
   {
    "duration": 6,
    "start_time": "2024-04-05T12:44:12.410Z"
   },
   {
    "duration": 93,
    "start_time": "2024-04-05T12:44:12.418Z"
   },
   {
    "duration": 82,
    "start_time": "2024-04-05T12:44:12.513Z"
   },
   {
    "duration": 59,
    "start_time": "2024-04-05T12:44:12.597Z"
   },
   {
    "duration": 80,
    "start_time": "2024-04-05T12:44:12.657Z"
   },
   {
    "duration": 85,
    "start_time": "2024-04-05T12:44:12.738Z"
   },
   {
    "duration": 88,
    "start_time": "2024-04-05T12:44:12.824Z"
   },
   {
    "duration": 68,
    "start_time": "2024-04-05T12:44:12.914Z"
   },
   {
    "duration": 60,
    "start_time": "2024-04-05T12:44:12.984Z"
   },
   {
    "duration": 77,
    "start_time": "2024-04-05T12:44:13.046Z"
   },
   {
    "duration": 69,
    "start_time": "2024-04-05T12:44:13.125Z"
   },
   {
    "duration": 60,
    "start_time": "2024-04-05T12:44:13.195Z"
   },
   {
    "duration": 73,
    "start_time": "2024-04-05T12:44:13.257Z"
   },
   {
    "duration": 97,
    "start_time": "2024-04-05T13:03:09.366Z"
   },
   {
    "duration": 62,
    "start_time": "2024-04-05T13:03:21.970Z"
   },
   {
    "duration": 64,
    "start_time": "2024-04-05T13:03:30.707Z"
   },
   {
    "duration": 65,
    "start_time": "2024-04-05T13:03:36.597Z"
   },
   {
    "duration": 1175,
    "start_time": "2024-04-05T13:15:17.219Z"
   },
   {
    "duration": 181,
    "start_time": "2024-04-05T13:15:18.396Z"
   },
   {
    "duration": 11,
    "start_time": "2024-04-05T13:15:18.578Z"
   },
   {
    "duration": 22,
    "start_time": "2024-04-05T13:15:18.591Z"
   },
   {
    "duration": 13,
    "start_time": "2024-04-05T13:15:18.615Z"
   },
   {
    "duration": 8,
    "start_time": "2024-04-05T13:15:18.629Z"
   },
   {
    "duration": 10,
    "start_time": "2024-04-05T13:15:18.639Z"
   },
   {
    "duration": 48,
    "start_time": "2024-04-05T13:15:18.651Z"
   },
   {
    "duration": 65,
    "start_time": "2024-04-05T13:15:18.701Z"
   },
   {
    "duration": 106,
    "start_time": "2024-04-05T13:15:18.783Z"
   },
   {
    "duration": 79,
    "start_time": "2024-04-05T13:15:18.891Z"
   },
   {
    "duration": 42,
    "start_time": "2024-04-05T13:15:18.971Z"
   },
   {
    "duration": 27,
    "start_time": "2024-04-05T13:15:19.015Z"
   },
   {
    "duration": 52,
    "start_time": "2024-04-05T13:15:19.043Z"
   },
   {
    "duration": 14,
    "start_time": "2024-04-05T13:15:19.097Z"
   },
   {
    "duration": 7,
    "start_time": "2024-04-05T13:15:19.113Z"
   },
   {
    "duration": 23,
    "start_time": "2024-04-05T13:15:19.122Z"
   },
   {
    "duration": 5,
    "start_time": "2024-04-05T13:15:19.146Z"
   },
   {
    "duration": 146,
    "start_time": "2024-04-05T13:15:19.182Z"
   },
   {
    "duration": 12,
    "start_time": "2024-04-05T13:15:19.329Z"
   },
   {
    "duration": 15,
    "start_time": "2024-04-05T13:15:19.343Z"
   },
   {
    "duration": 6,
    "start_time": "2024-04-05T13:15:19.360Z"
   },
   {
    "duration": 83,
    "start_time": "2024-04-05T13:15:19.367Z"
   },
   {
    "duration": 251,
    "start_time": "2024-04-05T13:15:19.452Z"
   },
   {
    "duration": 743,
    "start_time": "2024-04-05T13:15:19.705Z"
   },
   {
    "duration": 18,
    "start_time": "2024-04-05T13:15:20.450Z"
   },
   {
    "duration": 35,
    "start_time": "2024-04-05T13:15:20.470Z"
   },
   {
    "duration": 3,
    "start_time": "2024-04-05T13:15:20.509Z"
   },
   {
    "duration": 22,
    "start_time": "2024-04-05T13:15:20.514Z"
   },
   {
    "duration": 198,
    "start_time": "2024-04-05T13:15:20.537Z"
   },
   {
    "duration": 16,
    "start_time": "2024-04-05T13:15:20.737Z"
   },
   {
    "duration": 30,
    "start_time": "2024-04-05T13:15:20.754Z"
   },
   {
    "duration": 46,
    "start_time": "2024-04-05T13:15:20.785Z"
   },
   {
    "duration": 67,
    "start_time": "2024-04-05T13:15:20.833Z"
   },
   {
    "duration": 5,
    "start_time": "2024-04-05T13:15:20.902Z"
   },
   {
    "duration": 13,
    "start_time": "2024-04-05T13:15:20.909Z"
   },
   {
    "duration": 18,
    "start_time": "2024-04-05T13:15:20.923Z"
   },
   {
    "duration": 8,
    "start_time": "2024-04-05T13:15:20.943Z"
   },
   {
    "duration": 9,
    "start_time": "2024-04-05T13:15:20.952Z"
   },
   {
    "duration": 189,
    "start_time": "2024-04-05T13:15:20.983Z"
   },
   {
    "duration": 42,
    "start_time": "2024-04-05T13:15:21.174Z"
   },
   {
    "duration": 107,
    "start_time": "2024-04-05T13:15:21.217Z"
   },
   {
    "duration": 6,
    "start_time": "2024-04-05T13:15:21.326Z"
   },
   {
    "duration": 31,
    "start_time": "2024-04-05T13:15:21.333Z"
   },
   {
    "duration": 21,
    "start_time": "2024-04-05T13:15:21.365Z"
   },
   {
    "duration": 25,
    "start_time": "2024-04-05T13:15:21.388Z"
   },
   {
    "duration": 84,
    "start_time": "2024-04-05T13:15:21.415Z"
   },
   {
    "duration": 63,
    "start_time": "2024-04-05T13:15:21.500Z"
   },
   {
    "duration": 67,
    "start_time": "2024-04-05T13:15:21.565Z"
   },
   {
    "duration": 70,
    "start_time": "2024-04-05T13:15:21.633Z"
   },
   {
    "duration": 85,
    "start_time": "2024-04-05T13:15:21.704Z"
   },
   {
    "duration": 81,
    "start_time": "2024-04-05T13:15:21.790Z"
   },
   {
    "duration": 77,
    "start_time": "2024-04-05T13:15:21.882Z"
   },
   {
    "duration": 75,
    "start_time": "2024-04-05T13:15:21.960Z"
   },
   {
    "duration": 74,
    "start_time": "2024-04-05T13:15:22.037Z"
   },
   {
    "duration": 70,
    "start_time": "2024-04-05T13:15:22.113Z"
   },
   {
    "duration": 62,
    "start_time": "2024-04-05T13:15:22.185Z"
   },
   {
    "duration": 87,
    "start_time": "2024-04-05T13:15:22.249Z"
   },
   {
    "duration": 97,
    "start_time": "2024-04-05T13:15:22.338Z"
   },
   {
    "duration": 81,
    "start_time": "2024-04-05T13:15:22.436Z"
   },
   {
    "duration": 80,
    "start_time": "2024-04-05T13:15:22.521Z"
   },
   {
    "duration": 59,
    "start_time": "2024-04-05T13:15:22.603Z"
   },
   {
    "duration": 2,
    "start_time": "2024-04-05T13:15:22.664Z"
   },
   {
    "duration": 3,
    "start_time": "2024-04-05T13:15:22.681Z"
   },
   {
    "duration": 5,
    "start_time": "2024-04-05T13:15:22.686Z"
   },
   {
    "duration": 92,
    "start_time": "2024-04-05T13:15:22.693Z"
   },
   {
    "duration": 62,
    "start_time": "2024-04-05T13:15:22.787Z"
   },
   {
    "duration": 75,
    "start_time": "2024-04-05T13:15:22.851Z"
   },
   {
    "duration": 65,
    "start_time": "2024-04-05T13:15:22.928Z"
   },
   {
    "duration": 89,
    "start_time": "2024-04-05T13:15:22.994Z"
   },
   {
    "duration": 84,
    "start_time": "2024-04-05T13:15:23.084Z"
   },
   {
    "duration": 75,
    "start_time": "2024-04-05T13:15:23.169Z"
   },
   {
    "duration": 79,
    "start_time": "2024-04-05T13:15:23.245Z"
   },
   {
    "duration": 68,
    "start_time": "2024-04-05T13:15:23.325Z"
   },
   {
    "duration": 59,
    "start_time": "2024-04-05T13:15:23.395Z"
   },
   {
    "duration": 74,
    "start_time": "2024-04-05T13:15:23.455Z"
   },
   {
    "duration": 72,
    "start_time": "2024-04-05T13:15:23.531Z"
   },
   {
    "duration": 81,
    "start_time": "2024-04-05T13:15:23.605Z"
   },
   {
    "duration": 62,
    "start_time": "2024-04-05T13:15:23.688Z"
   },
   {
    "duration": 79,
    "start_time": "2024-04-05T13:15:23.752Z"
   },
   {
    "duration": 74,
    "start_time": "2024-04-05T13:15:23.833Z"
   },
   {
    "duration": 11,
    "start_time": "2024-04-05T13:17:14.967Z"
   },
   {
    "duration": 17,
    "start_time": "2024-04-05T13:17:54.466Z"
   },
   {
    "duration": 86,
    "start_time": "2024-04-05T13:18:16.180Z"
   },
   {
    "duration": 1179,
    "start_time": "2024-04-05T14:44:44.988Z"
   },
   {
    "duration": 178,
    "start_time": "2024-04-05T14:44:46.168Z"
   },
   {
    "duration": 9,
    "start_time": "2024-04-05T14:44:46.348Z"
   },
   {
    "duration": 22,
    "start_time": "2024-04-05T14:44:46.359Z"
   },
   {
    "duration": 13,
    "start_time": "2024-04-05T14:44:46.382Z"
   },
   {
    "duration": 28,
    "start_time": "2024-04-05T14:44:46.396Z"
   },
   {
    "duration": 18,
    "start_time": "2024-04-05T14:44:46.425Z"
   },
   {
    "duration": 21,
    "start_time": "2024-04-05T14:44:46.445Z"
   },
   {
    "duration": 81,
    "start_time": "2024-04-05T14:44:46.468Z"
   },
   {
    "duration": 111,
    "start_time": "2024-04-05T14:44:46.552Z"
   },
   {
    "duration": 86,
    "start_time": "2024-04-05T14:44:46.665Z"
   },
   {
    "duration": 32,
    "start_time": "2024-04-05T14:44:46.753Z"
   },
   {
    "duration": 44,
    "start_time": "2024-04-05T14:44:46.787Z"
   },
   {
    "duration": 31,
    "start_time": "2024-04-05T14:44:46.833Z"
   },
   {
    "duration": 14,
    "start_time": "2024-04-05T14:44:46.866Z"
   },
   {
    "duration": 40,
    "start_time": "2024-04-05T14:44:46.882Z"
   },
   {
    "duration": 28,
    "start_time": "2024-04-05T14:44:46.924Z"
   },
   {
    "duration": 5,
    "start_time": "2024-04-05T14:44:46.953Z"
   },
   {
    "duration": 150,
    "start_time": "2024-04-05T14:44:46.959Z"
   },
   {
    "duration": 15,
    "start_time": "2024-04-05T14:44:47.110Z"
   },
   {
    "duration": 5,
    "start_time": "2024-04-05T14:44:47.127Z"
   },
   {
    "duration": 18,
    "start_time": "2024-04-05T14:44:47.133Z"
   },
   {
    "duration": 43,
    "start_time": "2024-04-05T14:44:47.152Z"
   },
   {
    "duration": 228,
    "start_time": "2024-04-05T14:44:47.197Z"
   },
   {
    "duration": 713,
    "start_time": "2024-04-05T14:44:47.426Z"
   },
   {
    "duration": 17,
    "start_time": "2024-04-05T14:44:48.140Z"
   },
   {
    "duration": 29,
    "start_time": "2024-04-05T14:44:48.158Z"
   },
   {
    "duration": 3,
    "start_time": "2024-04-05T14:44:48.191Z"
   },
   {
    "duration": 35,
    "start_time": "2024-04-05T14:44:48.195Z"
   },
   {
    "duration": 160,
    "start_time": "2024-04-05T14:44:48.232Z"
   },
   {
    "duration": 12,
    "start_time": "2024-04-05T14:44:48.393Z"
   },
   {
    "duration": 14,
    "start_time": "2024-04-05T14:44:48.417Z"
   },
   {
    "duration": 36,
    "start_time": "2024-04-05T14:44:48.432Z"
   },
   {
    "duration": 86,
    "start_time": "2024-04-05T14:44:48.469Z"
   },
   {
    "duration": 4,
    "start_time": "2024-04-05T14:44:48.556Z"
   },
   {
    "duration": 10,
    "start_time": "2024-04-05T14:44:48.562Z"
   },
   {
    "duration": 19,
    "start_time": "2024-04-05T14:44:48.573Z"
   },
   {
    "duration": 25,
    "start_time": "2024-04-05T14:44:48.593Z"
   },
   {
    "duration": 4,
    "start_time": "2024-04-05T14:44:48.620Z"
   },
   {
    "duration": 312,
    "start_time": "2024-04-05T14:44:48.625Z"
   },
   {
    "duration": 83,
    "start_time": "2024-04-05T14:44:48.938Z"
   },
   {
    "duration": 99,
    "start_time": "2024-04-05T14:44:49.023Z"
   },
   {
    "duration": 6,
    "start_time": "2024-04-05T14:44:49.123Z"
   },
   {
    "duration": 4,
    "start_time": "2024-04-05T14:44:49.131Z"
   },
   {
    "duration": 5,
    "start_time": "2024-04-05T14:44:49.137Z"
   },
   {
    "duration": 12,
    "start_time": "2024-04-05T14:44:49.144Z"
   },
   {
    "duration": 91,
    "start_time": "2024-04-05T14:44:49.157Z"
   },
   {
    "duration": 58,
    "start_time": "2024-04-05T14:44:49.250Z"
   },
   {
    "duration": 55,
    "start_time": "2024-04-05T14:44:49.318Z"
   },
   {
    "duration": 67,
    "start_time": "2024-04-05T14:44:49.375Z"
   },
   {
    "duration": 79,
    "start_time": "2024-04-05T14:44:49.443Z"
   },
   {
    "duration": 81,
    "start_time": "2024-04-05T14:44:49.523Z"
   },
   {
    "duration": 76,
    "start_time": "2024-04-05T14:44:49.617Z"
   },
   {
    "duration": 84,
    "start_time": "2024-04-05T14:44:49.695Z"
   },
   {
    "duration": 67,
    "start_time": "2024-04-05T14:44:49.781Z"
   },
   {
    "duration": 55,
    "start_time": "2024-04-05T14:44:49.850Z"
   },
   {
    "duration": 57,
    "start_time": "2024-04-05T14:44:49.917Z"
   },
   {
    "duration": 75,
    "start_time": "2024-04-05T14:44:49.976Z"
   },
   {
    "duration": 79,
    "start_time": "2024-04-05T14:44:50.052Z"
   },
   {
    "duration": 57,
    "start_time": "2024-04-05T14:44:50.133Z"
   },
   {
    "duration": 67,
    "start_time": "2024-04-05T14:44:50.192Z"
   },
   {
    "duration": 62,
    "start_time": "2024-04-05T14:44:50.261Z"
   },
   {
    "duration": 3,
    "start_time": "2024-04-05T14:44:50.324Z"
   },
   {
    "duration": 4,
    "start_time": "2024-04-05T14:44:50.328Z"
   },
   {
    "duration": 8,
    "start_time": "2024-04-05T14:44:50.333Z"
   },
   {
    "duration": 87,
    "start_time": "2024-04-05T14:44:50.342Z"
   },
   {
    "duration": 56,
    "start_time": "2024-04-05T14:44:50.430Z"
   },
   {
    "duration": 72,
    "start_time": "2024-04-05T14:44:50.487Z"
   },
   {
    "duration": 62,
    "start_time": "2024-04-05T14:44:50.561Z"
   },
   {
    "duration": 71,
    "start_time": "2024-04-05T14:44:50.624Z"
   },
   {
    "duration": 82,
    "start_time": "2024-04-05T14:44:50.697Z"
   },
   {
    "duration": 65,
    "start_time": "2024-04-05T14:44:50.781Z"
   },
   {
    "duration": 57,
    "start_time": "2024-04-05T14:44:50.847Z"
   },
   {
    "duration": 56,
    "start_time": "2024-04-05T14:44:50.917Z"
   },
   {
    "duration": 71,
    "start_time": "2024-04-05T14:44:50.975Z"
   },
   {
    "duration": 71,
    "start_time": "2024-04-05T14:44:51.048Z"
   },
   {
    "duration": 53,
    "start_time": "2024-04-05T14:44:51.120Z"
   },
   {
    "duration": 86,
    "start_time": "2024-04-05T14:44:51.174Z"
   },
   {
    "duration": 74,
    "start_time": "2024-04-05T14:44:51.261Z"
   },
   {
    "duration": 59,
    "start_time": "2024-04-05T14:44:51.336Z"
   },
   {
    "duration": 80,
    "start_time": "2024-04-05T14:44:51.396Z"
   }
  ],
  "kernelspec": {
   "display_name": "Python 3 (ipykernel)",
   "language": "python",
   "name": "python3"
  },
  "language_info": {
   "codemirror_mode": {
    "name": "ipython",
    "version": 3
   },
   "file_extension": ".py",
   "mimetype": "text/x-python",
   "name": "python",
   "nbconvert_exporter": "python",
   "pygments_lexer": "ipython3",
   "version": "3.11.5"
  },
  "toc": {
   "base_numbering": 1,
   "nav_menu": {},
   "number_sections": true,
   "sideBar": true,
   "skip_h1_title": true,
   "title_cell": "Table of Contents",
   "title_sidebar": "Contents",
   "toc_cell": false,
   "toc_position": {},
   "toc_section_display": true,
   "toc_window_display": false
  }
 },
 "nbformat": 4,
 "nbformat_minor": 2
}
