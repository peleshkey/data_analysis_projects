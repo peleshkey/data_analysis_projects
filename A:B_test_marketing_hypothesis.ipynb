{
 "cells": [
  {
   "cell_type": "markdown",
   "metadata": {},
   "source": [
    "# Анализ списка гипотез. Анализ А/В-теста и его результатов."
   ]
  },
  {
   "cell_type": "markdown",
   "metadata": {},
   "source": [
    "## Введение\n",
    "\n",
    "Данный проект направлен на проведение анализа списка гипотез, подготовленного отделом маркетинга с целью увеличения выручки интернет-магазина, а также анализа проведенного А/В-теста и его результатов. Цель проекта - определение наиболее приоритетных гипотез; определение значимости А/В-теста и возможности его продолжения.\n",
    "\n",
    "Проведения данного исследования будет базироваться на массивах данных, содержащих информацию о: \n",
    "1. перечне выдвинутых гипотез,\n",
    "2. заказах, совершенных пользователями в рамках А/В-теста с указанием группы, в которую попал заказ,\n",
    "3. пользователях интеренет-магазина с указанием их группы.\n",
    "\n",
    "В ходе проведения данного исследования планируется:\n",
    "\n",
    "1. Проведение приоритизации гипотез двумя методами;\n",
    "2. Проведение анализа А/В-теста путем расчета ряда характеристик, по итогам чего будет принято решение о его результативности.\n",
    "\n",
    "По итогам выполнения каждого пункта проекта будут сделаны промежуточные выводы. В заключении проекта будет сформирован вывод по резальтатам проведенного анализа с указанием имеющихся предположений."
   ]
  },
  {
   "cell_type": "markdown",
   "metadata": {},
   "source": [
    "## Приоритизация гипотез"
   ]
  },
  {
   "cell_type": "code",
   "execution_count": 1,
   "metadata": {},
   "outputs": [],
   "source": [
    "import pandas as pd\n",
    "import datetime as dt\n",
    "import numpy as np\n",
    "import matplotlib.pyplot as plt\n",
    "import scipy.stats as stats\n",
    "pd.set_option('display.max_colwidth', None)"
   ]
  },
  {
   "cell_type": "markdown",
   "metadata": {},
   "source": [
    "Рассмотрим первый датасет с перечнем выдвинутых гипотез и переименуем столбцы с использованием только строчных букв."
   ]
  },
  {
   "cell_type": "code",
   "execution_count": 2,
   "metadata": {},
   "outputs": [],
   "source": [
    "hypothesis = pd.read_csv('/datasets/hypothesis.csv')"
   ]
  },
  {
   "cell_type": "code",
   "execution_count": 3,
   "metadata": {},
   "outputs": [],
   "source": [
    "hypothesis.columns = ['hypothesis', 'reach', 'impact', 'confidence', 'efforts']"
   ]
  },
  {
   "cell_type": "code",
   "execution_count": 4,
   "metadata": {},
   "outputs": [
    {
     "data": {
      "text/html": [
       "<div>\n",
       "<style scoped>\n",
       "    .dataframe tbody tr th:only-of-type {\n",
       "        vertical-align: middle;\n",
       "    }\n",
       "\n",
       "    .dataframe tbody tr th {\n",
       "        vertical-align: top;\n",
       "    }\n",
       "\n",
       "    .dataframe thead th {\n",
       "        text-align: right;\n",
       "    }\n",
       "</style>\n",
       "<table border=\"1\" class=\"dataframe\">\n",
       "  <thead>\n",
       "    <tr style=\"text-align: right;\">\n",
       "      <th></th>\n",
       "      <th>hypothesis</th>\n",
       "      <th>reach</th>\n",
       "      <th>impact</th>\n",
       "      <th>confidence</th>\n",
       "      <th>efforts</th>\n",
       "    </tr>\n",
       "  </thead>\n",
       "  <tbody>\n",
       "    <tr>\n",
       "      <th>0</th>\n",
       "      <td>Добавить два новых канала привлечения трафика, что позволит привлекать на 30% больше пользователей</td>\n",
       "      <td>3</td>\n",
       "      <td>10</td>\n",
       "      <td>8</td>\n",
       "      <td>6</td>\n",
       "    </tr>\n",
       "    <tr>\n",
       "      <th>1</th>\n",
       "      <td>Запустить собственную службу доставки, что сократит срок доставки заказов</td>\n",
       "      <td>2</td>\n",
       "      <td>5</td>\n",
       "      <td>4</td>\n",
       "      <td>10</td>\n",
       "    </tr>\n",
       "    <tr>\n",
       "      <th>2</th>\n",
       "      <td>Добавить блоки рекомендаций товаров на сайт интернет магазина, чтобы повысить конверсию и средний чек заказа</td>\n",
       "      <td>8</td>\n",
       "      <td>3</td>\n",
       "      <td>7</td>\n",
       "      <td>3</td>\n",
       "    </tr>\n",
       "    <tr>\n",
       "      <th>3</th>\n",
       "      <td>Изменить структура категорий, что увеличит конверсию, т.к. пользователи быстрее найдут нужный товар</td>\n",
       "      <td>8</td>\n",
       "      <td>3</td>\n",
       "      <td>3</td>\n",
       "      <td>8</td>\n",
       "    </tr>\n",
       "    <tr>\n",
       "      <th>4</th>\n",
       "      <td>Изменить цвет фона главной страницы, чтобы увеличить вовлеченность пользователей</td>\n",
       "      <td>3</td>\n",
       "      <td>1</td>\n",
       "      <td>1</td>\n",
       "      <td>1</td>\n",
       "    </tr>\n",
       "    <tr>\n",
       "      <th>5</th>\n",
       "      <td>Добавить страницу отзывов клиентов о магазине, что позволит увеличить количество заказов</td>\n",
       "      <td>3</td>\n",
       "      <td>2</td>\n",
       "      <td>2</td>\n",
       "      <td>3</td>\n",
       "    </tr>\n",
       "    <tr>\n",
       "      <th>6</th>\n",
       "      <td>Показать на главной странице баннеры с актуальными акциями и распродажами, чтобы увеличить конверсию</td>\n",
       "      <td>5</td>\n",
       "      <td>3</td>\n",
       "      <td>8</td>\n",
       "      <td>3</td>\n",
       "    </tr>\n",
       "    <tr>\n",
       "      <th>7</th>\n",
       "      <td>Добавить форму подписки на все основные страницы, чтобы собрать базу клиентов для email-рассылок</td>\n",
       "      <td>10</td>\n",
       "      <td>7</td>\n",
       "      <td>8</td>\n",
       "      <td>5</td>\n",
       "    </tr>\n",
       "    <tr>\n",
       "      <th>8</th>\n",
       "      <td>Запустить акцию, дающую скидку на товар в день рождения</td>\n",
       "      <td>1</td>\n",
       "      <td>9</td>\n",
       "      <td>9</td>\n",
       "      <td>5</td>\n",
       "    </tr>\n",
       "  </tbody>\n",
       "</table>\n",
       "</div>"
      ],
      "text/plain": [
       "                                                                                                     hypothesis  \\\n",
       "0            Добавить два новых канала привлечения трафика, что позволит привлекать на 30% больше пользователей   \n",
       "1                                     Запустить собственную службу доставки, что сократит срок доставки заказов   \n",
       "2  Добавить блоки рекомендаций товаров на сайт интернет магазина, чтобы повысить конверсию и средний чек заказа   \n",
       "3           Изменить структура категорий, что увеличит конверсию, т.к. пользователи быстрее найдут нужный товар   \n",
       "4                              Изменить цвет фона главной страницы, чтобы увеличить вовлеченность пользователей   \n",
       "5                      Добавить страницу отзывов клиентов о магазине, что позволит увеличить количество заказов   \n",
       "6          Показать на главной странице баннеры с актуальными акциями и распродажами, чтобы увеличить конверсию   \n",
       "7              Добавить форму подписки на все основные страницы, чтобы собрать базу клиентов для email-рассылок   \n",
       "8                                                       Запустить акцию, дающую скидку на товар в день рождения   \n",
       "\n",
       "   reach  impact  confidence  efforts  \n",
       "0      3      10           8        6  \n",
       "1      2       5           4       10  \n",
       "2      8       3           7        3  \n",
       "3      8       3           3        8  \n",
       "4      3       1           1        1  \n",
       "5      3       2           2        3  \n",
       "6      5       3           8        3  \n",
       "7     10       7           8        5  \n",
       "8      1       9           9        5  "
      ]
     },
     "execution_count": 4,
     "metadata": {},
     "output_type": "execute_result"
    }
   ],
   "source": [
    "hypothesis"
   ]
  },
  {
   "cell_type": "markdown",
   "metadata": {},
   "source": [
    "Проведем приоритизацию гипотез методом ICE, отсортируем полученные данные в порядке убывания приоритета."
   ]
  },
  {
   "cell_type": "code",
   "execution_count": 5,
   "metadata": {},
   "outputs": [
    {
     "data": {
      "text/html": [
       "<div>\n",
       "<style scoped>\n",
       "    .dataframe tbody tr th:only-of-type {\n",
       "        vertical-align: middle;\n",
       "    }\n",
       "\n",
       "    .dataframe tbody tr th {\n",
       "        vertical-align: top;\n",
       "    }\n",
       "\n",
       "    .dataframe thead th {\n",
       "        text-align: right;\n",
       "    }\n",
       "</style>\n",
       "<table border=\"1\" class=\"dataframe\">\n",
       "  <thead>\n",
       "    <tr style=\"text-align: right;\">\n",
       "      <th></th>\n",
       "      <th>hypothesis</th>\n",
       "      <th>ICE</th>\n",
       "    </tr>\n",
       "  </thead>\n",
       "  <tbody>\n",
       "    <tr>\n",
       "      <th>0</th>\n",
       "      <td>Запустить акцию, дающую скидку на товар в день рождения</td>\n",
       "      <td>16.20</td>\n",
       "    </tr>\n",
       "    <tr>\n",
       "      <th>1</th>\n",
       "      <td>Добавить два новых канала привлечения трафика, что позволит привлекать на 30% больше пользователей</td>\n",
       "      <td>13.33</td>\n",
       "    </tr>\n",
       "    <tr>\n",
       "      <th>2</th>\n",
       "      <td>Добавить форму подписки на все основные страницы, чтобы собрать базу клиентов для email-рассылок</td>\n",
       "      <td>11.20</td>\n",
       "    </tr>\n",
       "    <tr>\n",
       "      <th>3</th>\n",
       "      <td>Показать на главной странице баннеры с актуальными акциями и распродажами, чтобы увеличить конверсию</td>\n",
       "      <td>8.00</td>\n",
       "    </tr>\n",
       "    <tr>\n",
       "      <th>4</th>\n",
       "      <td>Добавить блоки рекомендаций товаров на сайт интернет магазина, чтобы повысить конверсию и средний чек заказа</td>\n",
       "      <td>7.00</td>\n",
       "    </tr>\n",
       "    <tr>\n",
       "      <th>5</th>\n",
       "      <td>Запустить собственную службу доставки, что сократит срок доставки заказов</td>\n",
       "      <td>2.00</td>\n",
       "    </tr>\n",
       "    <tr>\n",
       "      <th>6</th>\n",
       "      <td>Добавить страницу отзывов клиентов о магазине, что позволит увеличить количество заказов</td>\n",
       "      <td>1.33</td>\n",
       "    </tr>\n",
       "    <tr>\n",
       "      <th>7</th>\n",
       "      <td>Изменить структура категорий, что увеличит конверсию, т.к. пользователи быстрее найдут нужный товар</td>\n",
       "      <td>1.12</td>\n",
       "    </tr>\n",
       "    <tr>\n",
       "      <th>8</th>\n",
       "      <td>Изменить цвет фона главной страницы, чтобы увеличить вовлеченность пользователей</td>\n",
       "      <td>1.00</td>\n",
       "    </tr>\n",
       "  </tbody>\n",
       "</table>\n",
       "</div>"
      ],
      "text/plain": [
       "                                                                                                     hypothesis  \\\n",
       "0                                                       Запустить акцию, дающую скидку на товар в день рождения   \n",
       "1            Добавить два новых канала привлечения трафика, что позволит привлекать на 30% больше пользователей   \n",
       "2              Добавить форму подписки на все основные страницы, чтобы собрать базу клиентов для email-рассылок   \n",
       "3          Показать на главной странице баннеры с актуальными акциями и распродажами, чтобы увеличить конверсию   \n",
       "4  Добавить блоки рекомендаций товаров на сайт интернет магазина, чтобы повысить конверсию и средний чек заказа   \n",
       "5                                     Запустить собственную службу доставки, что сократит срок доставки заказов   \n",
       "6                      Добавить страницу отзывов клиентов о магазине, что позволит увеличить количество заказов   \n",
       "7           Изменить структура категорий, что увеличит конверсию, т.к. пользователи быстрее найдут нужный товар   \n",
       "8                              Изменить цвет фона главной страницы, чтобы увеличить вовлеченность пользователей   \n",
       "\n",
       "     ICE  \n",
       "0  16.20  \n",
       "1  13.33  \n",
       "2  11.20  \n",
       "3   8.00  \n",
       "4   7.00  \n",
       "5   2.00  \n",
       "6   1.33  \n",
       "7   1.12  \n",
       "8   1.00  "
      ]
     },
     "execution_count": 5,
     "metadata": {},
     "output_type": "execute_result"
    }
   ],
   "source": [
    "hypothesis['ICE'] = round((hypothesis['impact'] * hypothesis['confidence']) / hypothesis['efforts'], 2)\n",
    "\n",
    "hypothesis_ice = hypothesis[['hypothesis', 'ICE']].sort_values(by='ICE', ascending=False).reset_index(drop=True)\n",
    "\n",
    "hypothesis_ice"
   ]
  },
  {
   "cell_type": "markdown",
   "metadata": {},
   "source": [
    "Пять наиболее приоритетные гипотезы в соответствии с данным методом:"
   ]
  },
  {
   "cell_type": "code",
   "execution_count": 6,
   "metadata": {},
   "outputs": [
    {
     "name": "stdout",
     "output_type": "stream",
     "text": [
      "1 Запустить акцию, дающую скидку на товар в день рождения\n",
      "2 Добавить два новых канала привлечения трафика, что позволит привлекать на 30% больше пользователей\n",
      "3 Добавить форму подписки на все основные страницы, чтобы собрать базу клиентов для email-рассылок\n",
      "4 Показать на главной странице баннеры с актуальными акциями и распродажами, чтобы увеличить конверсию\n",
      "5 Добавить блоки рекомендаций товаров на сайт интернет магазина, чтобы повысить конверсию и средний чек заказа\n"
     ]
    }
   ],
   "source": [
    "for i in range(5):\n",
    "    print((i+1), hypothesis_ice.loc[i, 'hypothesis'])"
   ]
  },
  {
   "cell_type": "markdown",
   "metadata": {},
   "source": [
    "Проведем приоритизацию гипотез методом RICE, отсортируем полученные данные в порядке убывания приоритета."
   ]
  },
  {
   "cell_type": "code",
   "execution_count": 7,
   "metadata": {},
   "outputs": [
    {
     "data": {
      "text/html": [
       "<div>\n",
       "<style scoped>\n",
       "    .dataframe tbody tr th:only-of-type {\n",
       "        vertical-align: middle;\n",
       "    }\n",
       "\n",
       "    .dataframe tbody tr th {\n",
       "        vertical-align: top;\n",
       "    }\n",
       "\n",
       "    .dataframe thead th {\n",
       "        text-align: right;\n",
       "    }\n",
       "</style>\n",
       "<table border=\"1\" class=\"dataframe\">\n",
       "  <thead>\n",
       "    <tr style=\"text-align: right;\">\n",
       "      <th></th>\n",
       "      <th>hypothesis</th>\n",
       "      <th>RICE</th>\n",
       "    </tr>\n",
       "  </thead>\n",
       "  <tbody>\n",
       "    <tr>\n",
       "      <th>0</th>\n",
       "      <td>Добавить форму подписки на все основные страницы, чтобы собрать базу клиентов для email-рассылок</td>\n",
       "      <td>112.0</td>\n",
       "    </tr>\n",
       "    <tr>\n",
       "      <th>1</th>\n",
       "      <td>Добавить блоки рекомендаций товаров на сайт интернет магазина, чтобы повысить конверсию и средний чек заказа</td>\n",
       "      <td>56.0</td>\n",
       "    </tr>\n",
       "    <tr>\n",
       "      <th>2</th>\n",
       "      <td>Добавить два новых канала привлечения трафика, что позволит привлекать на 30% больше пользователей</td>\n",
       "      <td>40.0</td>\n",
       "    </tr>\n",
       "    <tr>\n",
       "      <th>3</th>\n",
       "      <td>Показать на главной странице баннеры с актуальными акциями и распродажами, чтобы увеличить конверсию</td>\n",
       "      <td>40.0</td>\n",
       "    </tr>\n",
       "    <tr>\n",
       "      <th>4</th>\n",
       "      <td>Запустить акцию, дающую скидку на товар в день рождения</td>\n",
       "      <td>16.2</td>\n",
       "    </tr>\n",
       "    <tr>\n",
       "      <th>5</th>\n",
       "      <td>Изменить структура категорий, что увеличит конверсию, т.к. пользователи быстрее найдут нужный товар</td>\n",
       "      <td>9.0</td>\n",
       "    </tr>\n",
       "    <tr>\n",
       "      <th>6</th>\n",
       "      <td>Запустить собственную службу доставки, что сократит срок доставки заказов</td>\n",
       "      <td>4.0</td>\n",
       "    </tr>\n",
       "    <tr>\n",
       "      <th>7</th>\n",
       "      <td>Добавить страницу отзывов клиентов о магазине, что позволит увеличить количество заказов</td>\n",
       "      <td>4.0</td>\n",
       "    </tr>\n",
       "    <tr>\n",
       "      <th>8</th>\n",
       "      <td>Изменить цвет фона главной страницы, чтобы увеличить вовлеченность пользователей</td>\n",
       "      <td>3.0</td>\n",
       "    </tr>\n",
       "  </tbody>\n",
       "</table>\n",
       "</div>"
      ],
      "text/plain": [
       "                                                                                                     hypothesis  \\\n",
       "0              Добавить форму подписки на все основные страницы, чтобы собрать базу клиентов для email-рассылок   \n",
       "1  Добавить блоки рекомендаций товаров на сайт интернет магазина, чтобы повысить конверсию и средний чек заказа   \n",
       "2            Добавить два новых канала привлечения трафика, что позволит привлекать на 30% больше пользователей   \n",
       "3          Показать на главной странице баннеры с актуальными акциями и распродажами, чтобы увеличить конверсию   \n",
       "4                                                       Запустить акцию, дающую скидку на товар в день рождения   \n",
       "5           Изменить структура категорий, что увеличит конверсию, т.к. пользователи быстрее найдут нужный товар   \n",
       "6                                     Запустить собственную службу доставки, что сократит срок доставки заказов   \n",
       "7                      Добавить страницу отзывов клиентов о магазине, что позволит увеличить количество заказов   \n",
       "8                              Изменить цвет фона главной страницы, чтобы увеличить вовлеченность пользователей   \n",
       "\n",
       "    RICE  \n",
       "0  112.0  \n",
       "1   56.0  \n",
       "2   40.0  \n",
       "3   40.0  \n",
       "4   16.2  \n",
       "5    9.0  \n",
       "6    4.0  \n",
       "7    4.0  \n",
       "8    3.0  "
      ]
     },
     "execution_count": 7,
     "metadata": {},
     "output_type": "execute_result"
    }
   ],
   "source": [
    "hypothesis['RICE'] = (hypothesis['reach'] * hypothesis['impact'] * hypothesis['confidence']) / hypothesis['efforts']\n",
    "\n",
    "hypothesis_rice = hypothesis[['hypothesis', 'RICE']].sort_values(by='RICE', ascending=False).reset_index(drop=True)\n",
    "\n",
    "hypothesis_rice"
   ]
  },
  {
   "cell_type": "markdown",
   "metadata": {},
   "source": [
    "Пять наиболее приоритетных гипотез в соответствии с данным методом:"
   ]
  },
  {
   "cell_type": "code",
   "execution_count": 8,
   "metadata": {},
   "outputs": [
    {
     "name": "stdout",
     "output_type": "stream",
     "text": [
      "1 Добавить форму подписки на все основные страницы, чтобы собрать базу клиентов для email-рассылок\n",
      "2 Добавить блоки рекомендаций товаров на сайт интернет магазина, чтобы повысить конверсию и средний чек заказа\n",
      "3 Добавить два новых канала привлечения трафика, что позволит привлекать на 30% больше пользователей\n",
      "4 Показать на главной странице баннеры с актуальными акциями и распродажами, чтобы увеличить конверсию\n",
      "5 Запустить акцию, дающую скидку на товар в день рождения\n"
     ]
    }
   ],
   "source": [
    "for i in range(5):\n",
    "    print((i+1), hypothesis_rice.loc[i, 'hypothesis'])"
   ]
  },
  {
   "cell_type": "code",
   "execution_count": 9,
   "metadata": {},
   "outputs": [
    {
     "data": {
      "text/html": [
       "<div>\n",
       "<style scoped>\n",
       "    .dataframe tbody tr th:only-of-type {\n",
       "        vertical-align: middle;\n",
       "    }\n",
       "\n",
       "    .dataframe tbody tr th {\n",
       "        vertical-align: top;\n",
       "    }\n",
       "\n",
       "    .dataframe thead th {\n",
       "        text-align: right;\n",
       "    }\n",
       "</style>\n",
       "<table border=\"1\" class=\"dataframe\">\n",
       "  <thead>\n",
       "    <tr style=\"text-align: right;\">\n",
       "      <th></th>\n",
       "      <th>hypothesis</th>\n",
       "      <th>ICE</th>\n",
       "      <th>RICE</th>\n",
       "    </tr>\n",
       "  </thead>\n",
       "  <tbody>\n",
       "    <tr>\n",
       "      <th>7</th>\n",
       "      <td>Добавить форму подписки на все основные страницы, чтобы собрать базу клиентов для email-рассылок</td>\n",
       "      <td>11.20</td>\n",
       "      <td>112.0</td>\n",
       "    </tr>\n",
       "    <tr>\n",
       "      <th>2</th>\n",
       "      <td>Добавить блоки рекомендаций товаров на сайт интернет магазина, чтобы повысить конверсию и средний чек заказа</td>\n",
       "      <td>7.00</td>\n",
       "      <td>56.0</td>\n",
       "    </tr>\n",
       "    <tr>\n",
       "      <th>0</th>\n",
       "      <td>Добавить два новых канала привлечения трафика, что позволит привлекать на 30% больше пользователей</td>\n",
       "      <td>13.33</td>\n",
       "      <td>40.0</td>\n",
       "    </tr>\n",
       "    <tr>\n",
       "      <th>6</th>\n",
       "      <td>Показать на главной странице баннеры с актуальными акциями и распродажами, чтобы увеличить конверсию</td>\n",
       "      <td>8.00</td>\n",
       "      <td>40.0</td>\n",
       "    </tr>\n",
       "    <tr>\n",
       "      <th>8</th>\n",
       "      <td>Запустить акцию, дающую скидку на товар в день рождения</td>\n",
       "      <td>16.20</td>\n",
       "      <td>16.2</td>\n",
       "    </tr>\n",
       "    <tr>\n",
       "      <th>3</th>\n",
       "      <td>Изменить структура категорий, что увеличит конверсию, т.к. пользователи быстрее найдут нужный товар</td>\n",
       "      <td>1.12</td>\n",
       "      <td>9.0</td>\n",
       "    </tr>\n",
       "    <tr>\n",
       "      <th>1</th>\n",
       "      <td>Запустить собственную службу доставки, что сократит срок доставки заказов</td>\n",
       "      <td>2.00</td>\n",
       "      <td>4.0</td>\n",
       "    </tr>\n",
       "    <tr>\n",
       "      <th>5</th>\n",
       "      <td>Добавить страницу отзывов клиентов о магазине, что позволит увеличить количество заказов</td>\n",
       "      <td>1.33</td>\n",
       "      <td>4.0</td>\n",
       "    </tr>\n",
       "    <tr>\n",
       "      <th>4</th>\n",
       "      <td>Изменить цвет фона главной страницы, чтобы увеличить вовлеченность пользователей</td>\n",
       "      <td>1.00</td>\n",
       "      <td>3.0</td>\n",
       "    </tr>\n",
       "  </tbody>\n",
       "</table>\n",
       "</div>"
      ],
      "text/plain": [
       "                                                                                                     hypothesis  \\\n",
       "7              Добавить форму подписки на все основные страницы, чтобы собрать базу клиентов для email-рассылок   \n",
       "2  Добавить блоки рекомендаций товаров на сайт интернет магазина, чтобы повысить конверсию и средний чек заказа   \n",
       "0            Добавить два новых канала привлечения трафика, что позволит привлекать на 30% больше пользователей   \n",
       "6          Показать на главной странице баннеры с актуальными акциями и распродажами, чтобы увеличить конверсию   \n",
       "8                                                       Запустить акцию, дающую скидку на товар в день рождения   \n",
       "3           Изменить структура категорий, что увеличит конверсию, т.к. пользователи быстрее найдут нужный товар   \n",
       "1                                     Запустить собственную службу доставки, что сократит срок доставки заказов   \n",
       "5                      Добавить страницу отзывов клиентов о магазине, что позволит увеличить количество заказов   \n",
       "4                              Изменить цвет фона главной страницы, чтобы увеличить вовлеченность пользователей   \n",
       "\n",
       "     ICE   RICE  \n",
       "7  11.20  112.0  \n",
       "2   7.00   56.0  \n",
       "0  13.33   40.0  \n",
       "6   8.00   40.0  \n",
       "8  16.20   16.2  \n",
       "3   1.12    9.0  \n",
       "1   2.00    4.0  \n",
       "5   1.33    4.0  \n",
       "4   1.00    3.0  "
      ]
     },
     "execution_count": 9,
     "metadata": {},
     "output_type": "execute_result"
    }
   ],
   "source": [
    "hypothesis[['hypothesis', 'ICE', 'RICE']].sort_values(by='RICE', ascending=False)"
   ]
  },
  {
   "cell_type": "markdown",
   "metadata": {},
   "source": [
    "**Вывод по разделу**\n",
    "Как видно из полученных результатов, приоритезация гипотез разными методами привела к отличающимся друг от друга результатами. Несмотря на то, что в ТОП-5 попали одни и те же гипотезы, порядок их приоритетов отличается. Это связано с тем, что примененный метод RICE учитывает оцененный в датафрейме параметр reach, в то время как в формуле ICE данный показатель не учитывается. \n",
    "\n",
    "Параметр reach оценивает уровень охвата пользователей. Поскольку данный параметр находится в числителе формулы RICE для расчета приоритета, он влияет на результат прямопропорционально, и следовательно, чем больше пользователей охватывает применение данной гипотезы, тем больше данный показатель будет влиять на ее приоритетность.\n",
    "\n",
    "Например, гипотеза 'Добавить форму подписки на все основные страницы, чтобы собрать базу клиентов для email-рассылок' охватывает наибольшее количество пользователей, в связи с чем ее параметр reach = 10. Это и являлось причиной подъема данной гипотезы в приоритете до первого методом RICE с третьего методом ICE. Так же необходимо отметить, что данная гипотеза имеет высокие значения и по другим параметрам.\n",
    "\n",
    "В условиях данного проекта, учитывая, что охват может быть оценен, более подходящим и точным является выбор метода RICE."
   ]
  },
  {
   "cell_type": "markdown",
   "metadata": {},
   "source": [
    "## Анализ А/В-теста."
   ]
  },
  {
   "cell_type": "markdown",
   "metadata": {},
   "source": [
    "Рассмотрим датасет с перечнем заказов, совершенных пользователями в рамках А/В-теста."
   ]
  },
  {
   "cell_type": "code",
   "execution_count": 10,
   "metadata": {},
   "outputs": [
    {
     "data": {
      "text/html": [
       "<div>\n",
       "<style scoped>\n",
       "    .dataframe tbody tr th:only-of-type {\n",
       "        vertical-align: middle;\n",
       "    }\n",
       "\n",
       "    .dataframe tbody tr th {\n",
       "        vertical-align: top;\n",
       "    }\n",
       "\n",
       "    .dataframe thead th {\n",
       "        text-align: right;\n",
       "    }\n",
       "</style>\n",
       "<table border=\"1\" class=\"dataframe\">\n",
       "  <thead>\n",
       "    <tr style=\"text-align: right;\">\n",
       "      <th></th>\n",
       "      <th>transactionId</th>\n",
       "      <th>visitorId</th>\n",
       "      <th>date</th>\n",
       "      <th>revenue</th>\n",
       "      <th>group</th>\n",
       "    </tr>\n",
       "  </thead>\n",
       "  <tbody>\n",
       "    <tr>\n",
       "      <th>0</th>\n",
       "      <td>3667963787</td>\n",
       "      <td>3312258926</td>\n",
       "      <td>2019-08-15</td>\n",
       "      <td>1650</td>\n",
       "      <td>B</td>\n",
       "    </tr>\n",
       "    <tr>\n",
       "      <th>1</th>\n",
       "      <td>2804400009</td>\n",
       "      <td>3642806036</td>\n",
       "      <td>2019-08-15</td>\n",
       "      <td>730</td>\n",
       "      <td>B</td>\n",
       "    </tr>\n",
       "    <tr>\n",
       "      <th>2</th>\n",
       "      <td>2961555356</td>\n",
       "      <td>4069496402</td>\n",
       "      <td>2019-08-15</td>\n",
       "      <td>400</td>\n",
       "      <td>A</td>\n",
       "    </tr>\n",
       "    <tr>\n",
       "      <th>3</th>\n",
       "      <td>3797467345</td>\n",
       "      <td>1196621759</td>\n",
       "      <td>2019-08-15</td>\n",
       "      <td>9759</td>\n",
       "      <td>B</td>\n",
       "    </tr>\n",
       "    <tr>\n",
       "      <th>4</th>\n",
       "      <td>2282983706</td>\n",
       "      <td>2322279887</td>\n",
       "      <td>2019-08-15</td>\n",
       "      <td>2308</td>\n",
       "      <td>B</td>\n",
       "    </tr>\n",
       "  </tbody>\n",
       "</table>\n",
       "</div>"
      ],
      "text/plain": [
       "   transactionId   visitorId        date  revenue group\n",
       "0     3667963787  3312258926  2019-08-15     1650     B\n",
       "1     2804400009  3642806036  2019-08-15      730     B\n",
       "2     2961555356  4069496402  2019-08-15      400     A\n",
       "3     3797467345  1196621759  2019-08-15     9759     B\n",
       "4     2282983706  2322279887  2019-08-15     2308     B"
      ]
     },
     "execution_count": 10,
     "metadata": {},
     "output_type": "execute_result"
    }
   ],
   "source": [
    "orders = pd.read_csv('/datasets/orders.csv')\n",
    "\n",
    "orders.head()"
   ]
  },
  {
   "cell_type": "code",
   "execution_count": 11,
   "metadata": {},
   "outputs": [
    {
     "name": "stdout",
     "output_type": "stream",
     "text": [
      "<class 'pandas.core.frame.DataFrame'>\n",
      "RangeIndex: 1197 entries, 0 to 1196\n",
      "Data columns (total 5 columns):\n",
      " #   Column         Non-Null Count  Dtype \n",
      "---  ------         --------------  ----- \n",
      " 0   transactionId  1197 non-null   int64 \n",
      " 1   visitorId      1197 non-null   int64 \n",
      " 2   date           1197 non-null   object\n",
      " 3   revenue        1197 non-null   int64 \n",
      " 4   group          1197 non-null   object\n",
      "dtypes: int64(3), object(2)\n",
      "memory usage: 46.9+ KB\n"
     ]
    }
   ],
   "source": [
    "orders.info()"
   ]
  },
  {
   "cell_type": "markdown",
   "metadata": {},
   "source": [
    "Как видно из полученной информации о данном массиве данных, столбец `date` имеет неверный тип данных. Приобразуем его в необходимый тип datetime"
   ]
  },
  {
   "cell_type": "code",
   "execution_count": 12,
   "metadata": {},
   "outputs": [
    {
     "name": "stdout",
     "output_type": "stream",
     "text": [
      "<class 'pandas.core.frame.DataFrame'>\n",
      "RangeIndex: 1197 entries, 0 to 1196\n",
      "Data columns (total 5 columns):\n",
      " #   Column         Non-Null Count  Dtype         \n",
      "---  ------         --------------  -----         \n",
      " 0   transactionId  1197 non-null   int64         \n",
      " 1   visitorId      1197 non-null   int64         \n",
      " 2   date           1197 non-null   datetime64[ns]\n",
      " 3   revenue        1197 non-null   int64         \n",
      " 4   group          1197 non-null   object        \n",
      "dtypes: datetime64[ns](1), int64(3), object(1)\n",
      "memory usage: 46.9+ KB\n"
     ]
    }
   ],
   "source": [
    "orders['date'] = orders['date'].map(lambda x: dt.datetime.strptime(x, '%Y-%m-%d'))\n",
    "\n",
    "orders.info()"
   ]
  },
  {
   "cell_type": "markdown",
   "metadata": {},
   "source": [
    "Проверим данный массив данных на наличие явных дубликатов."
   ]
  },
  {
   "cell_type": "code",
   "execution_count": 13,
   "metadata": {},
   "outputs": [
    {
     "data": {
      "text/plain": [
       "0"
      ]
     },
     "execution_count": 13,
     "metadata": {},
     "output_type": "execute_result"
    }
   ],
   "source": [
    "orders.duplicated().sum()"
   ]
  },
  {
   "cell_type": "markdown",
   "metadata": {},
   "source": [
    "Дубликаты не выявлены."
   ]
  },
  {
   "cell_type": "markdown",
   "metadata": {},
   "source": [
    "Рассмотрим датасет с перечнем пользователей в рамках А/В-теста."
   ]
  },
  {
   "cell_type": "code",
   "execution_count": 14,
   "metadata": {},
   "outputs": [
    {
     "data": {
      "text/html": [
       "<div>\n",
       "<style scoped>\n",
       "    .dataframe tbody tr th:only-of-type {\n",
       "        vertical-align: middle;\n",
       "    }\n",
       "\n",
       "    .dataframe tbody tr th {\n",
       "        vertical-align: top;\n",
       "    }\n",
       "\n",
       "    .dataframe thead th {\n",
       "        text-align: right;\n",
       "    }\n",
       "</style>\n",
       "<table border=\"1\" class=\"dataframe\">\n",
       "  <thead>\n",
       "    <tr style=\"text-align: right;\">\n",
       "      <th></th>\n",
       "      <th>date</th>\n",
       "      <th>group</th>\n",
       "      <th>visitors</th>\n",
       "    </tr>\n",
       "  </thead>\n",
       "  <tbody>\n",
       "    <tr>\n",
       "      <th>0</th>\n",
       "      <td>2019-08-01</td>\n",
       "      <td>A</td>\n",
       "      <td>719</td>\n",
       "    </tr>\n",
       "    <tr>\n",
       "      <th>1</th>\n",
       "      <td>2019-08-02</td>\n",
       "      <td>A</td>\n",
       "      <td>619</td>\n",
       "    </tr>\n",
       "    <tr>\n",
       "      <th>2</th>\n",
       "      <td>2019-08-03</td>\n",
       "      <td>A</td>\n",
       "      <td>507</td>\n",
       "    </tr>\n",
       "    <tr>\n",
       "      <th>3</th>\n",
       "      <td>2019-08-04</td>\n",
       "      <td>A</td>\n",
       "      <td>717</td>\n",
       "    </tr>\n",
       "    <tr>\n",
       "      <th>4</th>\n",
       "      <td>2019-08-05</td>\n",
       "      <td>A</td>\n",
       "      <td>756</td>\n",
       "    </tr>\n",
       "  </tbody>\n",
       "</table>\n",
       "</div>"
      ],
      "text/plain": [
       "         date group  visitors\n",
       "0  2019-08-01     A       719\n",
       "1  2019-08-02     A       619\n",
       "2  2019-08-03     A       507\n",
       "3  2019-08-04     A       717\n",
       "4  2019-08-05     A       756"
      ]
     },
     "execution_count": 14,
     "metadata": {},
     "output_type": "execute_result"
    }
   ],
   "source": [
    "visitors = pd.read_csv('/datasets/visitors.csv')\n",
    "\n",
    "visitors.head()"
   ]
  },
  {
   "cell_type": "code",
   "execution_count": 15,
   "metadata": {},
   "outputs": [
    {
     "name": "stdout",
     "output_type": "stream",
     "text": [
      "<class 'pandas.core.frame.DataFrame'>\n",
      "RangeIndex: 62 entries, 0 to 61\n",
      "Data columns (total 3 columns):\n",
      " #   Column    Non-Null Count  Dtype \n",
      "---  ------    --------------  ----- \n",
      " 0   date      62 non-null     object\n",
      " 1   group     62 non-null     object\n",
      " 2   visitors  62 non-null     int64 \n",
      "dtypes: int64(1), object(2)\n",
      "memory usage: 1.6+ KB\n"
     ]
    }
   ],
   "source": [
    "visitors.info()"
   ]
  },
  {
   "cell_type": "markdown",
   "metadata": {},
   "source": [
    "Как видно из полученной информации о данном массиве данных, столбец `date` имеет неверный тип данных. Приобразуем его в необходимый тип datetime"
   ]
  },
  {
   "cell_type": "code",
   "execution_count": 16,
   "metadata": {},
   "outputs": [
    {
     "name": "stdout",
     "output_type": "stream",
     "text": [
      "<class 'pandas.core.frame.DataFrame'>\n",
      "RangeIndex: 62 entries, 0 to 61\n",
      "Data columns (total 3 columns):\n",
      " #   Column    Non-Null Count  Dtype         \n",
      "---  ------    --------------  -----         \n",
      " 0   date      62 non-null     datetime64[ns]\n",
      " 1   group     62 non-null     object        \n",
      " 2   visitors  62 non-null     int64         \n",
      "dtypes: datetime64[ns](1), int64(1), object(1)\n",
      "memory usage: 1.6+ KB\n"
     ]
    }
   ],
   "source": [
    "visitors['date'] = pd.to_datetime(visitors['date'], format='%Y-%m-%d')\n",
    "\n",
    "visitors.info()"
   ]
  },
  {
   "cell_type": "markdown",
   "metadata": {},
   "source": [
    "Проверим данный массив данных на наличие явных дубликатов."
   ]
  },
  {
   "cell_type": "code",
   "execution_count": 17,
   "metadata": {},
   "outputs": [
    {
     "data": {
      "text/plain": [
       "0"
      ]
     },
     "execution_count": 17,
     "metadata": {},
     "output_type": "execute_result"
    }
   ],
   "source": [
    "visitors.duplicated().sum()"
   ]
  },
  {
   "cell_type": "markdown",
   "metadata": {},
   "source": [
    "Дубликаты не выявлены."
   ]
  },
  {
   "cell_type": "markdown",
   "metadata": {},
   "source": [
    "Проверим наличие задвоений посетителей между группами."
   ]
  },
  {
   "cell_type": "code",
   "execution_count": 18,
   "metadata": {},
   "outputs": [
    {
     "data": {
      "text/plain": [
       "183"
      ]
     },
     "execution_count": 18,
     "metadata": {},
     "output_type": "execute_result"
    }
   ],
   "source": [
    "ordersA = orders.query('group == \"A\"')\n",
    "ordersB = orders.query('group == \"B\"')\n",
    "\n",
    "duplicated = ordersA.merge(ordersB, on = 'visitorId', how = 'inner', suffixes=['A', 'B'])\n",
    "\n",
    "duplicated['visitorId'].count()"
   ]
  },
  {
   "cell_type": "markdown",
   "metadata": {},
   "source": [
    "Выявлено 183 посетителя, которые встречаются в обоих группах. Удалим им с целью избежания дублирования и искажения результатов исследования."
   ]
  },
  {
   "cell_type": "code",
   "execution_count": 19,
   "metadata": {},
   "outputs": [],
   "source": [
    "duplicates = duplicated['visitorId']"
   ]
  },
  {
   "cell_type": "code",
   "execution_count": 20,
   "metadata": {},
   "outputs": [
    {
     "name": "stdout",
     "output_type": "stream",
     "text": [
      "<class 'pandas.core.frame.DataFrame'>\n",
      "Int64Index: 1016 entries, 0 to 1196\n",
      "Data columns (total 5 columns):\n",
      " #   Column         Non-Null Count  Dtype         \n",
      "---  ------         --------------  -----         \n",
      " 0   transactionId  1016 non-null   int64         \n",
      " 1   visitorId      1016 non-null   int64         \n",
      " 2   date           1016 non-null   datetime64[ns]\n",
      " 3   revenue        1016 non-null   int64         \n",
      " 4   group          1016 non-null   object        \n",
      "dtypes: datetime64[ns](1), int64(3), object(1)\n",
      "memory usage: 47.6+ KB\n"
     ]
    }
   ],
   "source": [
    "orders = orders.query('visitorId not in @duplicates')\n",
    "orders.info()"
   ]
  },
  {
   "cell_type": "markdown",
   "metadata": {},
   "source": [
    "### График кумулятивной выручки по группам"
   ]
  },
  {
   "cell_type": "markdown",
   "metadata": {},
   "source": [
    "Для построения графика кумулятивной выручки по группам, определим все уникальные пары значений даты и группы."
   ]
  },
  {
   "cell_type": "code",
   "execution_count": 21,
   "metadata": {},
   "outputs": [],
   "source": [
    "datesGroups = orders[['date', 'group']].drop_duplicates()"
   ]
  },
  {
   "cell_type": "markdown",
   "metadata": {},
   "source": [
    "Рассчитаем кумулятивную выручку для каждого дня для каждой группы в соответствии с данными о заказах из соответствующего датафрейма, используя полученные ранее уникальные пары значений даты и группы."
   ]
  },
  {
   "cell_type": "code",
   "execution_count": 22,
   "metadata": {},
   "outputs": [
    {
     "data": {
      "text/html": [
       "<div>\n",
       "<style scoped>\n",
       "    .dataframe tbody tr th:only-of-type {\n",
       "        vertical-align: middle;\n",
       "    }\n",
       "\n",
       "    .dataframe tbody tr th {\n",
       "        vertical-align: top;\n",
       "    }\n",
       "\n",
       "    .dataframe thead th {\n",
       "        text-align: right;\n",
       "    }\n",
       "</style>\n",
       "<table border=\"1\" class=\"dataframe\">\n",
       "  <thead>\n",
       "    <tr style=\"text-align: right;\">\n",
       "      <th></th>\n",
       "      <th>date</th>\n",
       "      <th>group</th>\n",
       "      <th>transactionId</th>\n",
       "      <th>visitorId</th>\n",
       "      <th>revenue</th>\n",
       "    </tr>\n",
       "  </thead>\n",
       "  <tbody>\n",
       "    <tr>\n",
       "      <th>55</th>\n",
       "      <td>2019-08-01</td>\n",
       "      <td>A</td>\n",
       "      <td>23</td>\n",
       "      <td>19</td>\n",
       "      <td>142779</td>\n",
       "    </tr>\n",
       "    <tr>\n",
       "      <th>66</th>\n",
       "      <td>2019-08-01</td>\n",
       "      <td>B</td>\n",
       "      <td>17</td>\n",
       "      <td>17</td>\n",
       "      <td>59758</td>\n",
       "    </tr>\n",
       "    <tr>\n",
       "      <th>175</th>\n",
       "      <td>2019-08-02</td>\n",
       "      <td>A</td>\n",
       "      <td>42</td>\n",
       "      <td>36</td>\n",
       "      <td>234381</td>\n",
       "    </tr>\n",
       "    <tr>\n",
       "      <th>173</th>\n",
       "      <td>2019-08-02</td>\n",
       "      <td>B</td>\n",
       "      <td>40</td>\n",
       "      <td>39</td>\n",
       "      <td>221801</td>\n",
       "    </tr>\n",
       "    <tr>\n",
       "      <th>291</th>\n",
       "      <td>2019-08-03</td>\n",
       "      <td>A</td>\n",
       "      <td>66</td>\n",
       "      <td>60</td>\n",
       "      <td>346854</td>\n",
       "    </tr>\n",
       "  </tbody>\n",
       "</table>\n",
       "</div>"
      ],
      "text/plain": [
       "          date group  transactionId  visitorId  revenue\n",
       "55  2019-08-01     A             23         19   142779\n",
       "66  2019-08-01     B             17         17    59758\n",
       "175 2019-08-02     A             42         36   234381\n",
       "173 2019-08-02     B             40         39   221801\n",
       "291 2019-08-03     A             66         60   346854"
      ]
     },
     "execution_count": 22,
     "metadata": {},
     "output_type": "execute_result"
    }
   ],
   "source": [
    "ordersAggregated = (datesGroups\n",
    "                    .apply(lambda x: orders[np.logical_and(orders['date'] <= x['date'], orders['group'] == x['group'])]\n",
    "                    .agg({'date' : 'max', 'group': 'max', 'transactionId': 'nunique', 'visitorId': 'nunique', 'revenue': 'sum'}), axis=1)\n",
    "                    .sort_values(by=['date', 'group'])\n",
    "                   )\n",
    "\n",
    "ordersAggregated.head()"
   ]
  },
  {
   "cell_type": "markdown",
   "metadata": {},
   "source": [
    "Определим кумулятивное количество пользователей для каждого дня для каждой группы в соответствии с данными о пользователях из второго датафрейма. "
   ]
  },
  {
   "cell_type": "code",
   "execution_count": 23,
   "metadata": {},
   "outputs": [
    {
     "data": {
      "text/html": [
       "<div>\n",
       "<style scoped>\n",
       "    .dataframe tbody tr th:only-of-type {\n",
       "        vertical-align: middle;\n",
       "    }\n",
       "\n",
       "    .dataframe tbody tr th {\n",
       "        vertical-align: top;\n",
       "    }\n",
       "\n",
       "    .dataframe thead th {\n",
       "        text-align: right;\n",
       "    }\n",
       "</style>\n",
       "<table border=\"1\" class=\"dataframe\">\n",
       "  <thead>\n",
       "    <tr style=\"text-align: right;\">\n",
       "      <th></th>\n",
       "      <th>date</th>\n",
       "      <th>group</th>\n",
       "      <th>visitors</th>\n",
       "    </tr>\n",
       "  </thead>\n",
       "  <tbody>\n",
       "    <tr>\n",
       "      <th>55</th>\n",
       "      <td>2019-08-01</td>\n",
       "      <td>A</td>\n",
       "      <td>719</td>\n",
       "    </tr>\n",
       "    <tr>\n",
       "      <th>66</th>\n",
       "      <td>2019-08-01</td>\n",
       "      <td>B</td>\n",
       "      <td>713</td>\n",
       "    </tr>\n",
       "    <tr>\n",
       "      <th>175</th>\n",
       "      <td>2019-08-02</td>\n",
       "      <td>A</td>\n",
       "      <td>1338</td>\n",
       "    </tr>\n",
       "    <tr>\n",
       "      <th>173</th>\n",
       "      <td>2019-08-02</td>\n",
       "      <td>B</td>\n",
       "      <td>1294</td>\n",
       "    </tr>\n",
       "    <tr>\n",
       "      <th>291</th>\n",
       "      <td>2019-08-03</td>\n",
       "      <td>A</td>\n",
       "      <td>1845</td>\n",
       "    </tr>\n",
       "  </tbody>\n",
       "</table>\n",
       "</div>"
      ],
      "text/plain": [
       "          date group  visitors\n",
       "55  2019-08-01     A       719\n",
       "66  2019-08-01     B       713\n",
       "175 2019-08-02     A      1338\n",
       "173 2019-08-02     B      1294\n",
       "291 2019-08-03     A      1845"
      ]
     },
     "execution_count": 23,
     "metadata": {},
     "output_type": "execute_result"
    }
   ],
   "source": [
    "visitorsAggregated = (datesGroups\n",
    "                      .apply(lambda x: visitors[np.logical_and(visitors['date'] <= x['date'], visitors['group'] == x['group'])]\n",
    "                      .agg({'date': 'max', 'group': 'max', 'visitors': 'sum'}), axis=1)\n",
    "                      .sort_values(by=['date', 'group'])\n",
    "                     )\n",
    "\n",
    "visitorsAggregated.head()"
   ]
  },
  {
   "cell_type": "markdown",
   "metadata": {},
   "source": [
    "Объединим полученные две таблицы в соответствии со значениями в столбцах `date` и `group`."
   ]
  },
  {
   "cell_type": "code",
   "execution_count": 24,
   "metadata": {},
   "outputs": [
    {
     "data": {
      "text/html": [
       "<div>\n",
       "<style scoped>\n",
       "    .dataframe tbody tr th:only-of-type {\n",
       "        vertical-align: middle;\n",
       "    }\n",
       "\n",
       "    .dataframe tbody tr th {\n",
       "        vertical-align: top;\n",
       "    }\n",
       "\n",
       "    .dataframe thead th {\n",
       "        text-align: right;\n",
       "    }\n",
       "</style>\n",
       "<table border=\"1\" class=\"dataframe\">\n",
       "  <thead>\n",
       "    <tr style=\"text-align: right;\">\n",
       "      <th></th>\n",
       "      <th>date</th>\n",
       "      <th>group</th>\n",
       "      <th>orders</th>\n",
       "      <th>buyers</th>\n",
       "      <th>revenue</th>\n",
       "      <th>visitors</th>\n",
       "    </tr>\n",
       "  </thead>\n",
       "  <tbody>\n",
       "    <tr>\n",
       "      <th>0</th>\n",
       "      <td>2019-08-01</td>\n",
       "      <td>A</td>\n",
       "      <td>23</td>\n",
       "      <td>19</td>\n",
       "      <td>142779</td>\n",
       "      <td>719</td>\n",
       "    </tr>\n",
       "    <tr>\n",
       "      <th>1</th>\n",
       "      <td>2019-08-01</td>\n",
       "      <td>B</td>\n",
       "      <td>17</td>\n",
       "      <td>17</td>\n",
       "      <td>59758</td>\n",
       "      <td>713</td>\n",
       "    </tr>\n",
       "    <tr>\n",
       "      <th>2</th>\n",
       "      <td>2019-08-02</td>\n",
       "      <td>A</td>\n",
       "      <td>42</td>\n",
       "      <td>36</td>\n",
       "      <td>234381</td>\n",
       "      <td>1338</td>\n",
       "    </tr>\n",
       "    <tr>\n",
       "      <th>3</th>\n",
       "      <td>2019-08-02</td>\n",
       "      <td>B</td>\n",
       "      <td>40</td>\n",
       "      <td>39</td>\n",
       "      <td>221801</td>\n",
       "      <td>1294</td>\n",
       "    </tr>\n",
       "    <tr>\n",
       "      <th>4</th>\n",
       "      <td>2019-08-03</td>\n",
       "      <td>A</td>\n",
       "      <td>66</td>\n",
       "      <td>60</td>\n",
       "      <td>346854</td>\n",
       "      <td>1845</td>\n",
       "    </tr>\n",
       "  </tbody>\n",
       "</table>\n",
       "</div>"
      ],
      "text/plain": [
       "        date group  orders  buyers  revenue  visitors\n",
       "0 2019-08-01     A      23      19   142779       719\n",
       "1 2019-08-01     B      17      17    59758       713\n",
       "2 2019-08-02     A      42      36   234381      1338\n",
       "3 2019-08-02     B      40      39   221801      1294\n",
       "4 2019-08-03     A      66      60   346854      1845"
      ]
     },
     "execution_count": 24,
     "metadata": {},
     "output_type": "execute_result"
    }
   ],
   "source": [
    "cumulativeData = (ordersAggregated\n",
    "                  .merge(visitorsAggregated, left_on = ['date', 'group'], right_on = ['date', 'group'])\n",
    "                 )\n",
    "\n",
    "cumulativeData.columns = ['date', 'group', 'orders', 'buyers', 'revenue', 'visitors']\n",
    "\n",
    "cumulativeData.head()"
   ]
  },
  {
   "cell_type": "markdown",
   "metadata": {},
   "source": [
    "Разделим полученный датафрейм `cumulativeData` на две части: для группы А и группы В. Поскольку в дальнейшем для расчетов будем использовать только данные столбцов `date`, `revenue`, `orders`, оставим только их. "
   ]
  },
  {
   "cell_type": "code",
   "execution_count": 25,
   "metadata": {},
   "outputs": [],
   "source": [
    "cumulativeRevenueA = cumulativeData[cumulativeData['group'] == 'A'][['date', 'revenue', 'orders']]\n",
    "\n",
    "cumulativeRevenueB = cumulativeData[cumulativeData['group'] == 'B'][['date', 'revenue', 'orders']]"
   ]
  },
  {
   "cell_type": "markdown",
   "metadata": {},
   "source": [
    "Построим график кумулятивной выручки для каждой группы."
   ]
  },
  {
   "cell_type": "code",
   "execution_count": 26,
   "metadata": {},
   "outputs": [
    {
     "data": {
      "image/png": "[encoded data removed]",
      "text/plain": [
       "<Figure size 1080x360 with 1 Axes>"
      ]
     },
     "metadata": {
      "needs_background": "light"
     },
     "output_type": "display_data"
    }
   ],
   "source": [
    "plt.figure(figsize=(15,5))\n",
    "\n",
    "plt.plot(cumulativeRevenueA['date'], cumulativeRevenueA['revenue'], label='A')\n",
    "plt.plot(cumulativeRevenueB['date'], cumulativeRevenueB['revenue'], label='B')\n",
    "\n",
    "plt.legend()\n",
    "plt.title('Графики кумулятивной выручки по группам А и Б', fontsize=18)\n",
    "plt.xlabel('День', fontsize=14)\n",
    "plt.ylabel('Выручка', fontsize=14)\n",
    "plt.grid()\n",
    "plt.show()"
   ]
  },
  {
   "cell_type": "markdown",
   "metadata": {},
   "source": [
    "**Промежуточный вывод**\n",
    "\n",
    "Кумулятивная выручка по группе А растет плавно с начала до последней контрольной точки проведения теста.\n",
    "Кумулятивная выручка по группе В росла так же плавно с незначительным привышением значений для группы А, но 19.08.2019 произошел резкий скачок в выручке, после чего график продолжил свой рост параллельно графику группы А, но со значительно превышающими его значениями.\n",
    "\n",
    "Данный график не может говорить о преимуществах группы В и ее большей кумулятивной выручке, поскольку вероятнее всего в указанную точку скачка на графике могут присутствовать аномально высокие значения выручки по некоторым пользователям, что может искажать реальную ситуацию."
   ]
  },
  {
   "cell_type": "markdown",
   "metadata": {},
   "source": [
    "### График кумулятивного среднего чека по группам"
   ]
  },
  {
   "cell_type": "markdown",
   "metadata": {},
   "source": [
    "Постройте график кумулятивного среднего чека по группам с помощью данных, расчитанных в предыдущем пункте."
   ]
  },
  {
   "cell_type": "code",
   "execution_count": 27,
   "metadata": {},
   "outputs": [
    {
     "data": {
      "image/png": "[encoded data removed]",
      "text/plain": [
       "<Figure size 1080x360 with 1 Axes>"
      ]
     },
     "metadata": {
      "needs_background": "light"
     },
     "output_type": "display_data"
    }
   ],
   "source": [
    "plt.figure(figsize=(15,5))\n",
    "\n",
    "plt.plot(cumulativeRevenueA['date'], cumulativeRevenueA['revenue']/cumulativeRevenueA['orders'], label='A')\n",
    "plt.plot(cumulativeRevenueB['date'], cumulativeRevenueB['revenue']/cumulativeRevenueB['orders'], label='B')\n",
    "\n",
    "plt.legend()\n",
    "plt.title('Графики кумулятивного среднего чека по группам А и Б', fontsize=18)\n",
    "plt.xlabel('День', fontsize=14)\n",
    "plt.ylabel('Средний чек', fontsize=14)\n",
    "plt.grid()\n",
    "plt.show()"
   ]
  },
  {
   "cell_type": "markdown",
   "metadata": {},
   "source": [
    "**Промежуточный вывод**\n",
    "\n",
    "Как и предполагалось в пункте ранее, 19.08.2019 произошел резкий скачок среднего чека для группы В, который вероятнее всего был вызван появлением аномально высокого чека, исказившего результаты.\n",
    "\n",
    "До этой даты графики вели себя нестабильно, переодически средний чек был выше для группы В, переодически для группы А. После скачка среднего чека группы В, он снизился, и вышел на стабильный уровень, параллельный группе А, но превышающий ее значения на 2000 руб.\n",
    "\n",
    "По данному графику нельзя сказать, что средний чек по группе В выше группы А, поскольку существует вероятность искажения кумулятивных значений выбросами."
   ]
  },
  {
   "cell_type": "markdown",
   "metadata": {},
   "source": [
    "### График относительного изменения кумулятивного среднего чека группы B к группе A"
   ]
  },
  {
   "cell_type": "markdown",
   "metadata": {},
   "source": [
    "Для расчета данного параметра, объединим полученные ранее данные о кумулятивных выручке и количеств заказов для двух групп в одну таблицу."
   ]
  },
  {
   "cell_type": "code",
   "execution_count": 28,
   "metadata": {},
   "outputs": [
    {
     "data": {
      "text/html": [
       "<div>\n",
       "<style scoped>\n",
       "    .dataframe tbody tr th:only-of-type {\n",
       "        vertical-align: middle;\n",
       "    }\n",
       "\n",
       "    .dataframe tbody tr th {\n",
       "        vertical-align: top;\n",
       "    }\n",
       "\n",
       "    .dataframe thead th {\n",
       "        text-align: right;\n",
       "    }\n",
       "</style>\n",
       "<table border=\"1\" class=\"dataframe\">\n",
       "  <thead>\n",
       "    <tr style=\"text-align: right;\">\n",
       "      <th></th>\n",
       "      <th>date</th>\n",
       "      <th>revenueA</th>\n",
       "      <th>ordersA</th>\n",
       "      <th>revenueB</th>\n",
       "      <th>ordersB</th>\n",
       "    </tr>\n",
       "  </thead>\n",
       "  <tbody>\n",
       "    <tr>\n",
       "      <th>0</th>\n",
       "      <td>2019-08-01</td>\n",
       "      <td>142779</td>\n",
       "      <td>23</td>\n",
       "      <td>59758</td>\n",
       "      <td>17</td>\n",
       "    </tr>\n",
       "    <tr>\n",
       "      <th>1</th>\n",
       "      <td>2019-08-02</td>\n",
       "      <td>234381</td>\n",
       "      <td>42</td>\n",
       "      <td>221801</td>\n",
       "      <td>40</td>\n",
       "    </tr>\n",
       "    <tr>\n",
       "      <th>2</th>\n",
       "      <td>2019-08-03</td>\n",
       "      <td>346854</td>\n",
       "      <td>66</td>\n",
       "      <td>288850</td>\n",
       "      <td>54</td>\n",
       "    </tr>\n",
       "    <tr>\n",
       "      <th>3</th>\n",
       "      <td>2019-08-04</td>\n",
       "      <td>388030</td>\n",
       "      <td>77</td>\n",
       "      <td>385740</td>\n",
       "      <td>68</td>\n",
       "    </tr>\n",
       "    <tr>\n",
       "      <th>4</th>\n",
       "      <td>2019-08-05</td>\n",
       "      <td>474413</td>\n",
       "      <td>99</td>\n",
       "      <td>475648</td>\n",
       "      <td>89</td>\n",
       "    </tr>\n",
       "  </tbody>\n",
       "</table>\n",
       "</div>"
      ],
      "text/plain": [
       "        date  revenueA  ordersA  revenueB  ordersB\n",
       "0 2019-08-01    142779       23     59758       17\n",
       "1 2019-08-02    234381       42    221801       40\n",
       "2 2019-08-03    346854       66    288850       54\n",
       "3 2019-08-04    388030       77    385740       68\n",
       "4 2019-08-05    474413       99    475648       89"
      ]
     },
     "execution_count": 28,
     "metadata": {},
     "output_type": "execute_result"
    }
   ],
   "source": [
    "mergedCumulativeRevenue = (cumulativeRevenueA\n",
    "                          .merge(cumulativeRevenueB, left_on='date', right_on='date', how='left', suffixes=['A', 'B'])\n",
    "                          )\n",
    "mergedCumulativeRevenue.head()"
   ]
  },
  {
   "cell_type": "markdown",
   "metadata": {},
   "source": [
    "На основе полученной таблицы, построим график относительного изменения кумулятивного среднего чека группы B к группе A."
   ]
  },
  {
   "cell_type": "code",
   "execution_count": 29,
   "metadata": {},
   "outputs": [
    {
     "data": {
      "image/png": "[encoded data removed]",
      "text/plain": [
       "<Figure size 1080x360 with 1 Axes>"
      ]
     },
     "metadata": {
      "needs_background": "light"
     },
     "output_type": "display_data"
    }
   ],
   "source": [
    "plt.figure(figsize=(15,5))\n",
    "\n",
    "plt.plot(mergedCumulativeRevenue['date'], (mergedCumulativeRevenue['revenueB']/mergedCumulativeRevenue['ordersB'])/(mergedCumulativeRevenue['revenueA']/mergedCumulativeRevenue['ordersA'])-1)\n",
    "\n",
    "plt.title('График относительного изменения кумулятивного среднего чека группы B к группе A', fontsize=18)\n",
    "plt.xlabel('День', fontsize=14)\n",
    "plt.axhline(y=0, color='black', linestyle='--')\n",
    "plt.grid()\n",
    "plt.show()"
   ]
  },
  {
   "cell_type": "markdown",
   "metadata": {},
   "source": [
    "**Промежуточный вывод**\n",
    "\n",
    "Согласно полученному графику видно, что данные значительно менялись несколько раз в ходе проведения теста, что говорит о наличии аномальных значений в данных по результатам проведения теста. Так средний чек по группе В превышал группу А в начале эксперимента, потом начал снижаться, опустился ниже среднего чека группы А, после чего вновь начал резко подниматься.\n",
    "\n",
    "В последние дни проведения эксперимента, график, возможно, начал стабилизироваться, но сделать вывод о более высоком чеке в группе В некорректно, поскольку в расчетных кумулятивных данных были накоплены искажения чрезмерно высокими чеками, в связи с чем итоговый результат может быть некорректен."
   ]
  },
  {
   "cell_type": "markdown",
   "metadata": {},
   "source": [
    "### График кумулятивного среднего количества заказов на посетителя по группам."
   ]
  },
  {
   "cell_type": "markdown",
   "metadata": {},
   "source": [
    "Расчитаем среднее кумулятивное количество заказов на посетителя для всего массива данных, а затем разделим его на две группы."
   ]
  },
  {
   "cell_type": "code",
   "execution_count": 30,
   "metadata": {},
   "outputs": [],
   "source": [
    "cumulativeData['conversion'] = cumulativeData['orders'] / cumulativeData['visitors']"
   ]
  },
  {
   "cell_type": "code",
   "execution_count": 31,
   "metadata": {},
   "outputs": [],
   "source": [
    "cumulativeDataA = cumulativeData[cumulativeData['group'] == 'A']\n",
    "cumulativeDataB = cumulativeData[cumulativeData['group'] == 'B']"
   ]
  },
  {
   "cell_type": "markdown",
   "metadata": {},
   "source": [
    "Построим график кумулятивного среднего количества заказов на посетителя по группам, используя полученные данные."
   ]
  },
  {
   "cell_type": "code",
   "execution_count": 63,
   "metadata": {},
   "outputs": [
    {
     "data": {
      "image/png": "[encoded data removed]",
      "text/plain": [
       "<Figure size 1080x360 with 1 Axes>"
      ]
     },
     "metadata": {
      "needs_background": "light"
     },
     "output_type": "display_data"
    }
   ],
   "source": [
    "plt.figure(figsize=(15,5))\n",
    "\n",
    "plt.plot(cumulativeDataA['date'], cumulativeDataA['conversion'], label='A')\n",
    "plt.plot(cumulativeDataB['date'], cumulativeDataB['conversion'], label='B')\n",
    "\n",
    "plt.legend()\n",
    "plt.axhline(y=0.029, color='black', linestyle='--')\n",
    "plt.axhline(y=0.0255, color='black', linestyle='--')\n",
    "plt.title('График кумулятивного среднего количества заказов на посетителя по группам А и Б', fontsize=18)\n",
    "plt.xlabel('День', fontsize=14)\n",
    "plt.ylabel('Среднее количество заказов на посетителя', fontsize=14)\n",
    "plt.grid()\n",
    "plt.show()"
   ]
  },
  {
   "cell_type": "markdown",
   "metadata": {},
   "source": [
    "**Промежуточный вывод**\n",
    "\n",
    "В соответствии с полученным графиком можно сделать вывод, что в начале проведения теста наблюдалась нестабильность в количестве заказов на посетителей сайта, но после 9.08.2019 тенданция выровнялась для обоих групп: конверсия для группы А составляла около 2.55%, для группы В - 2.9%. Данные имеют тенденцию колебаться около этих значений.\n",
    "\n",
    "Таким образом, посетители группы В на 0,35% чаще переходят в статус покупателей, чем в группе А. Различие не значительное, что говорит о необходимости рассмотрения и других показателей для данных групп."
   ]
  },
  {
   "cell_type": "markdown",
   "metadata": {},
   "source": [
    "### График относительного изменения кумулятивного среднего количества заказов на посетителя группы B к группе A."
   ]
  },
  {
   "cell_type": "markdown",
   "metadata": {},
   "source": [
    "Для построения графика относительного изменения кумулятивного среднего количества заказов на посетителя группы B к группе A, объединим кумулятивные данные о количестве заказов на посетителя из каждой группы, находящиеся в таблицах `cumulativeDataA` и `cumulativeDataB`, и построим график, используя полученный расчет."
   ]
  },
  {
   "cell_type": "code",
   "execution_count": 33,
   "metadata": {},
   "outputs": [],
   "source": [
    "mergedCumulativeConversions = (cumulativeDataA[['date', 'conversion']]\n",
    "                              .merge(cumulativeDataB[['date', 'conversion']], left_on = 'date', right_on = 'date', how='left', suffixes=['A', 'B'])\n",
    "                              )\n"
   ]
  },
  {
   "cell_type": "code",
   "execution_count": 34,
   "metadata": {
    "scrolled": true
   },
   "outputs": [
    {
     "data": {
      "image/png": "[encoded data removed]",
      "text/plain": [
       "<Figure size 1080x360 with 1 Axes>"
      ]
     },
     "metadata": {
      "needs_background": "light"
     },
     "output_type": "display_data"
    }
   ],
   "source": [
    "plt.figure(figsize=(15,5))\n",
    "\n",
    "plt.plot(mergedCumulativeConversions['date'], (mergedCumulativeConversions['conversionB']/mergedCumulativeConversions['conversionA'])-1)\n",
    "\n",
    "plt.title('График относительного изменения кумулятивного среднего количества заказов на посетителя группы B к группе A', fontsize=18)\n",
    "plt.xlabel('День', fontsize=14)\n",
    "plt.axhline(y=0, color='black', linestyle='--')\n",
    "plt.axhline(y=0.14, color='gray', linestyle='--')\n",
    "plt.grid()\n",
    "plt.show()"
   ]
  },
  {
   "cell_type": "markdown",
   "metadata": {},
   "source": [
    "**Промежуточный вывод**\n",
    "\n",
    "Согласно полученному графику, в начале эксперимента конверсия в группе В была ниже конверсии в группе А, после чего появилась т енданция к ее увеличению. в период с 21.08.2019 и до конца эксперимента, относительное изменение кумулятивного среднего количества заказов на посетителя группы B к группе A находилось на примерном уровне 14%. Следовательно группа В стабильно лидирует по данной метрике на 14%, что может говорить о более эффективном переходе посетителей в статус покупателей для данной группы."
   ]
  },
  {
   "cell_type": "markdown",
   "metadata": {},
   "source": [
    "### Точечный график количества заказов по пользователям"
   ]
  },
  {
   "cell_type": "markdown",
   "metadata": {},
   "source": [
    "Для построения точечного графика количества заказов по пользователям, создадим сводную таблицу, содержащую данные о посетителях и количестве всех их уникальных заказов. На основе полученных данных построим требуемый график."
   ]
  },
  {
   "cell_type": "code",
   "execution_count": 35,
   "metadata": {},
   "outputs": [
    {
     "data": {
      "text/html": [
       "<div>\n",
       "<style scoped>\n",
       "    .dataframe tbody tr th:only-of-type {\n",
       "        vertical-align: middle;\n",
       "    }\n",
       "\n",
       "    .dataframe tbody tr th {\n",
       "        vertical-align: top;\n",
       "    }\n",
       "\n",
       "    .dataframe thead th {\n",
       "        text-align: right;\n",
       "    }\n",
       "</style>\n",
       "<table border=\"1\" class=\"dataframe\">\n",
       "  <thead>\n",
       "    <tr style=\"text-align: right;\">\n",
       "      <th></th>\n",
       "      <th>visitorId</th>\n",
       "      <th>transactionId</th>\n",
       "    </tr>\n",
       "  </thead>\n",
       "  <tbody>\n",
       "    <tr>\n",
       "      <th>0</th>\n",
       "      <td>3967698036</td>\n",
       "      <td>3</td>\n",
       "    </tr>\n",
       "    <tr>\n",
       "      <th>1</th>\n",
       "      <td>249864742</td>\n",
       "      <td>3</td>\n",
       "    </tr>\n",
       "    <tr>\n",
       "      <th>2</th>\n",
       "      <td>2108163459</td>\n",
       "      <td>3</td>\n",
       "    </tr>\n",
       "    <tr>\n",
       "      <th>3</th>\n",
       "      <td>2988190573</td>\n",
       "      <td>3</td>\n",
       "    </tr>\n",
       "    <tr>\n",
       "      <th>4</th>\n",
       "      <td>3908431265</td>\n",
       "      <td>3</td>\n",
       "    </tr>\n",
       "  </tbody>\n",
       "</table>\n",
       "</div>"
      ],
      "text/plain": [
       "    visitorId  transactionId\n",
       "0  3967698036              3\n",
       "1   249864742              3\n",
       "2  2108163459              3\n",
       "3  2988190573              3\n",
       "4  3908431265              3"
      ]
     },
     "execution_count": 35,
     "metadata": {},
     "output_type": "execute_result"
    }
   ],
   "source": [
    "orders_number = (orders\n",
    "                 .pivot_table(index='visitorId', values='transactionId', aggfunc='nunique')\n",
    "                 .sort_values(by='transactionId', ascending=False)\n",
    "                 .reset_index()\n",
    "                )\n",
    "orders_number.head()"
   ]
  },
  {
   "cell_type": "code",
   "execution_count": 36,
   "metadata": {},
   "outputs": [
    {
     "data": {
      "image/png": "[encoded data removed]",
      "text/plain": [
       "<Figure size 720x360 with 1 Axes>"
      ]
     },
     "metadata": {
      "needs_background": "light"
     },
     "output_type": "display_data"
    }
   ],
   "source": [
    "plt.figure(figsize=(10,5))\n",
    "\n",
    "plt.scatter(orders_number['visitorId'], orders_number['transactionId'])\n",
    "\n",
    "plt.title('График количества заказов по пользователям', fontsize=18)\n",
    "plt.xlabel('Пользователи', fontsize=14)\n",
    "plt.ylabel('Количество заказов', fontsize=14)\n",
    "plt.grid()\n",
    "plt.show()"
   ]
  },
  {
   "cell_type": "markdown",
   "metadata": {},
   "source": [
    "**Промежуточный вывод**\n",
    "\n",
    "Согласно полученному графику, наибольшая часть пользователей оформляет только один заказ на сайте. Оформление двух заказов происходит значительно реже. Необходимо отметить, что оформления трех заказов единичны, что скорее говорит о нестандартном поведении таких пользователей и является выбросами для данного теста.\n",
    "\n",
    "Для более точного определения категории выбросов, определим пограничное значения в качестве 95-й и 99-й перцентилей, после чего определим, какую часть данных можно считать аномалиями.  "
   ]
  },
  {
   "cell_type": "markdown",
   "metadata": {},
   "source": [
    "### 95-й и 99-й перцентили количества заказов на пользователя."
   ]
  },
  {
   "cell_type": "markdown",
   "metadata": {},
   "source": [
    "Рассчитаем 95-й и 99-й перцентили количества заказов на пользователя, после чего выберем границу для определения аномальных пользователей."
   ]
  },
  {
   "cell_type": "code",
   "execution_count": 37,
   "metadata": {},
   "outputs": [
    {
     "data": {
      "text/plain": [
       "array([1., 1., 2.])"
      ]
     },
     "execution_count": 37,
     "metadata": {},
     "output_type": "execute_result"
    }
   ],
   "source": [
    "np.percentile(orders_number['transactionId'], [90, 95, 99])"
   ]
  },
  {
   "cell_type": "code",
   "execution_count": 38,
   "metadata": {},
   "outputs": [],
   "source": [
    "number_percent = np.percentile(orders_number['transactionId'], 99)"
   ]
  },
  {
   "cell_type": "markdown",
   "metadata": {},
   "source": [
    "**Промежуточный вывод**\n",
    "\n",
    "Как видно из полученного расчета, пользователи, оформившие 2 заказа и более составляют 1% от выборки, что подтверждается полученными выше графиками.\n",
    "\n",
    "Отсеивание от 1 до 5% наблюдений с крайними значениями считается нормальным при проведении анализа. Примем границей для определения аномальных пользователей 99й персентиль, т.е. отсеим 1% данных, являющихся близкими к аномальным."
   ]
  },
  {
   "cell_type": "markdown",
   "metadata": {},
   "source": [
    "### Точечный график стоимостей заказов."
   ]
  },
  {
   "cell_type": "markdown",
   "metadata": {},
   "source": [
    "Построим точечный график стоимостей заказов на основе имеющихся данных в таблице `orders`."
   ]
  },
  {
   "cell_type": "code",
   "execution_count": 39,
   "metadata": {},
   "outputs": [
    {
     "data": {
      "image/png": "[encoded data removed]",
      "text/plain": [
       "<Figure size 720x360 with 1 Axes>"
      ]
     },
     "metadata": {
      "needs_background": "light"
     },
     "output_type": "display_data"
    }
   ],
   "source": [
    "plt.figure(figsize=(10,5))\n",
    "\n",
    "x_values = pd.Series(range(0, len(orders['revenue'])))\n",
    "plt.scatter(x_values, orders['revenue'])\n",
    "\n",
    "plt.title('График стоимостей заказов', fontsize=18)\n",
    "plt.xlabel('Пользователи', fontsize=14)\n",
    "plt.ylabel('Стоимость заказа', fontsize=14)\n",
    "plt.grid()\n",
    "plt.show()"
   ]
  },
  {
   "cell_type": "markdown",
   "metadata": {},
   "source": [
    "Из данного графика видно, что в массиве данных имеется два заказа, являющихся аномальными, один из них составил более 1,2млн, что может быть так же ошибкой в данных. Наличие такие заказов может являться основной причиной скачков на графиках, обнаруженных в начале исследования для группы В.\n",
    "\n",
    "Для нагладности построим график в большем масштабе, не учитывая выявленные аномалии."
   ]
  },
  {
   "cell_type": "code",
   "execution_count": 40,
   "metadata": {},
   "outputs": [
    {
     "data": {
      "image/png": "[encoded data removed]",
      "text/plain": [
       "<Figure size 720x360 with 1 Axes>"
      ]
     },
     "metadata": {
      "needs_background": "light"
     },
     "output_type": "display_data"
    }
   ],
   "source": [
    "plt.figure(figsize=(10,5))\n",
    "\n",
    "x_values = pd.Series(range(0, len(orders['revenue'])))\n",
    "plt.scatter(x_values, orders['revenue'])\n",
    "\n",
    "plt.ylim(0, 0.1*10**6)\n",
    "plt.title('График стоимостей заказов', fontsize=18)\n",
    "plt.xlabel('Пользователи', fontsize=14)\n",
    "plt.ylabel('Стоимость заказа', fontsize=14)\n",
    "plt.grid()\n",
    "plt.show()"
   ]
  },
  {
   "cell_type": "markdown",
   "metadata": {},
   "source": [
    "**Промежуточный вывод**\n",
    "\n",
    "Из полученного графика видно, что основное количество заказов имело стоимость в пределах 10 000, при увеличении стоимости заказов их количество уменьшаются, заказы на сумму выше 20 000 являются редкими.  \n",
    "\n",
    "Для более точного определения категории выбросов, определим пограничное значения в качестве 95-й и 99-й перцентилей."
   ]
  },
  {
   "cell_type": "markdown",
   "metadata": {},
   "source": [
    "### 95-й и 99-й перцентили стоимости заказов."
   ]
  },
  {
   "cell_type": "markdown",
   "metadata": {},
   "source": [
    "Рассчитаем 95-й и 99-й перцентили стоимости заказов, после чего выберем границу для определения аномальных пользователей. "
   ]
  },
  {
   "cell_type": "code",
   "execution_count": 41,
   "metadata": {},
   "outputs": [
    {
     "data": {
      "text/plain": [
       "array([17990., 26785., 53904.])"
      ]
     },
     "execution_count": 41,
     "metadata": {},
     "output_type": "execute_result"
    }
   ],
   "source": [
    "np.percentile(orders['revenue'], [90, 95, 99])"
   ]
  },
  {
   "cell_type": "code",
   "execution_count": 42,
   "metadata": {},
   "outputs": [],
   "source": [
    "revenue_percent = np.percentile(orders['revenue'], 95)"
   ]
  },
  {
   "cell_type": "markdown",
   "metadata": {},
   "source": [
    "**Промежуточный вывод**\n",
    "\n",
    "Как видно из полученного расчета, только 5% пользователей оформляет заказы на сумму выше 28 000, а 1% пользователей - на сумму выше 58 233, что подтверждается полученными выше графиками.\n",
    "\n",
    "В соответствии с графиком выше, количество заказов на сумму более 20 000 значительно сокращается относительно заказов меньшей стоимости. Учитывая что отсеивание до 5% наблюдений с крайними значениями считается нормальным при проведении анализа, примем границей для определения аномальных пользователей 95й персентиль, т.е. отсеим 5% данных, являющихся близкими к аномальным."
   ]
  },
  {
   "cell_type": "markdown",
   "metadata": {},
   "source": [
    "### Рассчет статистической значимость различий в среднем количестве заказов на посетителя между группами по «сырым» данным."
   ]
  },
  {
   "cell_type": "markdown",
   "metadata": {},
   "source": [
    "Рассчитаем ежедневное количество пользователей для групп А и В."
   ]
  },
  {
   "cell_type": "code",
   "execution_count": 43,
   "metadata": {},
   "outputs": [],
   "source": [
    "visitorsADaily = visitors[visitors['group'] == 'A'][['date', 'visitors']]\n",
    "\n",
    "visitorsADaily.columns = ['date', 'visitorsPerDateA']"
   ]
  },
  {
   "cell_type": "code",
   "execution_count": 44,
   "metadata": {},
   "outputs": [],
   "source": [
    "visitorsBDaily = visitors[visitors['group'] == 'B'][['date', 'visitors']]\n",
    "\n",
    "visitorsBDaily.columns = ['date', 'visitorsPerDateB']"
   ]
  },
  {
   "cell_type": "markdown",
   "metadata": {},
   "source": [
    "Создадим таблицу с количеством заказов для каждого пользователя отдельно для каждой группы."
   ]
  },
  {
   "cell_type": "code",
   "execution_count": 45,
   "metadata": {},
   "outputs": [],
   "source": [
    "ordersByUsersA =(\n",
    "    orders[orders['group'] == 'A']\n",
    "    .groupby('visitorId', as_index=False)\n",
    "    .agg({'transactionId':pd.Series.nunique})\n",
    ")\n",
    "ordersByUsersA.columns = ['userId', 'orders']"
   ]
  },
  {
   "cell_type": "code",
   "execution_count": 46,
   "metadata": {},
   "outputs": [],
   "source": [
    "ordersByUsersB = (\n",
    "    orders[orders['group'] == 'B']\n",
    "    .groupby('visitorId', as_index=False)\n",
    "    .agg({'transactionId':pd.Series.nunique})\n",
    ")\n",
    "ordersByUsersB.columns = ['userId', 'orders']\n"
   ]
  },
  {
   "cell_type": "code",
   "execution_count": 47,
   "metadata": {},
   "outputs": [],
   "source": [
    "sampleA = (pd.concat([ordersByUsersA['orders'],\n",
    "                      pd.Series(0, index=np.arange(visitorsADaily['visitorsPerDateA'].sum() - len(ordersByUsersA['orders'])),\n",
    "                                name='orders')],axis=0)\n",
    "          )"
   ]
  },
  {
   "cell_type": "code",
   "execution_count": 48,
   "metadata": {},
   "outputs": [],
   "source": [
    "sampleB = (pd.concat([ordersByUsersB['orders'],\n",
    "                      pd.Series(0, index=np.arange(visitorsBDaily['visitorsPerDateB'].sum() - len(ordersByUsersB['orders'])),\n",
    "                                name='orders')],axis=0)\n",
    "          )"
   ]
  },
  {
   "cell_type": "markdown",
   "metadata": {},
   "source": [
    "Обозначим нулевую и альтернативную гипотезу для проведения теста:\n",
    "\n",
    "**Нулевая гипотеза** - Среднее количество заказов между группами в сырых данных одинаковое.\n",
    "\n",
    "**Альтернативная гипотеза** - Среднее количество заказов между группами в сырых данных разное."
   ]
  },
  {
   "cell_type": "markdown",
   "metadata": {},
   "source": [
    "Рассчитаем статистическую значимость p-value различия среднего количества заказов по результатам теста с применением теста Манна-Уитни. Формат данного теста наиболее удобен при работе с данными, которые имеют выбросы, поскольку это непараметрический метод и сравнение групп будет происходить по номеру ранга для одних и тех же значений, присвоенному при ранжировании от меньшего к большему для каждой группы, а не по фактической величине значения. Таким образом выбросы не могут оказывать значительного влияния на результат."
   ]
  },
  {
   "cell_type": "code",
   "execution_count": 49,
   "metadata": {},
   "outputs": [
    {
     "data": {
      "text/plain": [
       "'0.011'"
      ]
     },
     "execution_count": 49,
     "metadata": {},
     "output_type": "execute_result"
    }
   ],
   "source": [
    "\"{0:.3f}\".format(stats.mannwhitneyu(sampleA, sampleB)[1])"
   ]
  },
  {
   "cell_type": "markdown",
   "metadata": {},
   "source": [
    "Рассчитаем относительное различие в среднем между группами"
   ]
  },
  {
   "cell_type": "code",
   "execution_count": 50,
   "metadata": {},
   "outputs": [
    {
     "data": {
      "text/plain": [
       "'0.160'"
      ]
     },
     "execution_count": 50,
     "metadata": {},
     "output_type": "execute_result"
    }
   ],
   "source": [
    "\"{0:.3f}\".format(sampleB.mean() / sampleA.mean() - 1)"
   ]
  },
  {
   "cell_type": "markdown",
   "metadata": {},
   "source": [
    "**Промежуточный вывод**\n",
    "\n",
    "Расчет статистической значимости различия среднего количества заказов показал, что расчитанный p-value значительно ниже 0.05 (стандартное значение статистической значимости), а значит Нулевая липотеза должна быть отвергнута. Принимаем Альтернативную гипотезу, говорящую о том, что в среднем количестве заказов между группами есть статистически значимые различия.\n",
    "\n",
    "Расчет относительного различия в среднем между группами показал, что относительный прирост группы В составляем 16%"
   ]
  },
  {
   "cell_type": "markdown",
   "metadata": {},
   "source": [
    "### Статистическая значимость различий в среднем чеке заказа между группами по «сырым» данным."
   ]
  },
  {
   "cell_type": "markdown",
   "metadata": {},
   "source": [
    "Обозначим нулевую и альтернативную гипотезу для проведения теста:\n",
    "\n",
    "**Нулевая гипотеза** - Средний чек заказа в группе А и В в сырых данных одинаковый.\n",
    "\n",
    "**Альтернативная гипотеза** - Средний чек заказа в группе А и В в сырых данных разный."
   ]
  },
  {
   "cell_type": "markdown",
   "metadata": {},
   "source": [
    "Рассчитаем статистическую значимость p-value различия в среднем чеке заказа по результатам теста так же с применением теста Манна-Уитни."
   ]
  },
  {
   "cell_type": "code",
   "execution_count": 51,
   "metadata": {},
   "outputs": [
    {
     "data": {
      "text/plain": [
       "'0.829'"
      ]
     },
     "execution_count": 51,
     "metadata": {},
     "output_type": "execute_result"
    }
   ],
   "source": [
    "('{0:.3f}'\n",
    " .format(stats.mannwhitneyu(orders[orders['group']=='A']['revenue'], \n",
    "                            orders[orders['group']=='B']['revenue'])[1])\n",
    ")"
   ]
  },
  {
   "cell_type": "markdown",
   "metadata": {},
   "source": [
    "Рассчитаем относительный прирост среднего чека группы В."
   ]
  },
  {
   "cell_type": "code",
   "execution_count": 52,
   "metadata": {},
   "outputs": [
    {
     "data": {
      "text/plain": [
       "'0.287'"
      ]
     },
     "execution_count": 52,
     "metadata": {},
     "output_type": "execute_result"
    }
   ],
   "source": [
    "('{0:.3f}'\n",
    " .format(orders[orders['group']=='B']['revenue'].mean()/orders[orders['group']=='A']['revenue'].mean()-1)\n",
    ")"
   ]
  },
  {
   "cell_type": "markdown",
   "metadata": {},
   "source": [
    "**Промежуточный вывод**\n",
    "\n",
    "Расчет статистической значимости различия в среднем чеке заказа показал, что расчитанный p-value значительно больше 0.05 (стандартное значение статистической значимости), а значит между группами нет статистически значимых различий по данному показателю. Оставляем Нулевую гипотезу.\n",
    "\n",
    "Расчет относительного прироста среднего чека группы В составляет 28,7% относительно группы А, что скорее всего было обусловлено наличием значительных аномалий в данных."
   ]
  },
  {
   "cell_type": "markdown",
   "metadata": {},
   "source": [
    "### Cтатистическая значимость различий в среднем количестве заказов на посетителя между группами по «очищенным» данным."
   ]
  },
  {
   "cell_type": "markdown",
   "metadata": {},
   "source": [
    "Рассчитаем те же показатели для \"очещенных\" данных. В соответствии с принятым ранее решением, будем считать чистыми данные, входящие в 99-й персентиль по количеству заказов и в 95-й персентиль по их сумме, т.е. по пользователям, оформившим 1 или 2 заказа на сумму меньше 28000.\n",
    "\n",
    "Выделим аномальные данные в отдельные таблицы."
   ]
  },
  {
   "cell_type": "code",
   "execution_count": 53,
   "metadata": {},
   "outputs": [],
   "source": [
    "usersWithManyOrders = pd.concat(\n",
    "    [\n",
    "        ordersByUsersA[ordersByUsersA['orders'] > number_percent]['userId'],\n",
    "        ordersByUsersB[ordersByUsersB['orders'] > number_percent]['userId'],\n",
    "    ],\n",
    "    axis=0,\n",
    ")"
   ]
  },
  {
   "cell_type": "code",
   "execution_count": 54,
   "metadata": {},
   "outputs": [],
   "source": [
    "usersWithExpensiveOrders = orders[orders['revenue'] > revenue_percent]['visitorId']\n",
    "\n",
    "abnormalUsers = (\n",
    "    pd.concat([usersWithManyOrders, usersWithExpensiveOrders], axis=0)\n",
    "    .drop_duplicates()\n",
    "    .sort_values()\n",
    ")"
   ]
  },
  {
   "cell_type": "markdown",
   "metadata": {},
   "source": [
    "Отфильтруем данные с учетом аномалий."
   ]
  },
  {
   "cell_type": "code",
   "execution_count": 55,
   "metadata": {},
   "outputs": [],
   "source": [
    "sampleAFiltered = (pd.concat(\n",
    "    [ordersByUsersA[np.logical_not(ordersByUsersA['userId'].isin(abnormalUsers))]['orders'],\n",
    "     pd.Series(0, index=np.arange(visitorsADaily['visitorsPerDateA'].sum() - len(ordersByUsersA['orders'])),\n",
    "               name='orders',),\n",
    "    ],\n",
    "    axis=0,)\n",
    "                  )"
   ]
  },
  {
   "cell_type": "code",
   "execution_count": 56,
   "metadata": {},
   "outputs": [],
   "source": [
    "sampleBFiltered = (pd.concat(\n",
    "    [ordersByUsersB[np.logical_not(ordersByUsersB['userId'].isin(abnormalUsers))]['orders'],\n",
    "     pd.Series(0, index=np.arange(visitorsBDaily['visitorsPerDateB'].sum() - len(ordersByUsersB['orders'])),\n",
    "               name='orders',),\n",
    "    ],\n",
    "    axis=0,) \n",
    "                  )"
   ]
  },
  {
   "cell_type": "markdown",
   "metadata": {},
   "source": [
    "Обозначим нулевую и альтернативную гипотезу для проведения теста:\n",
    "\n",
    "**Нулевая гипотеза** - Среднее количество заказов между группами в очищенных данных одинаковое.\n",
    "\n",
    "**Альтернативная гипотеза** - Среднее количество заказов между группами в очищенных данных  разное."
   ]
  },
  {
   "cell_type": "markdown",
   "metadata": {},
   "source": [
    "Рассчитаем статистическую значимость p-value различия среднего количества заказов по результатам теста с применением теста Манна-Уитни для очищенных данных."
   ]
  },
  {
   "cell_type": "code",
   "execution_count": 57,
   "metadata": {},
   "outputs": [
    {
     "data": {
      "text/plain": [
       "'0.012'"
      ]
     },
     "execution_count": 57,
     "metadata": {},
     "output_type": "execute_result"
    }
   ],
   "source": [
    "'{0:.3f}'.format(stats.mannwhitneyu(sampleAFiltered, sampleBFiltered)[1])"
   ]
  },
  {
   "cell_type": "markdown",
   "metadata": {},
   "source": [
    "Рассчитаем относительное различие в среднем между группами для очищенных данных."
   ]
  },
  {
   "cell_type": "code",
   "execution_count": 58,
   "metadata": {},
   "outputs": [
    {
     "data": {
      "text/plain": [
       "'0.182'"
      ]
     },
     "execution_count": 58,
     "metadata": {},
     "output_type": "execute_result"
    }
   ],
   "source": [
    "'{0:.3f}'.format(sampleBFiltered.mean()/sampleAFiltered.mean()-1)"
   ]
  },
  {
   "cell_type": "markdown",
   "metadata": {},
   "source": [
    "**Промежуточный вывод**\n",
    "\n",
    "Удаление аномальных данных из массива не привело к значительным изменениям данных показателей.\n",
    "\n",
    "Расчет статистической значимости различия среднего количества заказов для очищенных данных также показал, что расчитанный p-value значительно ниже 0.05 (стандартное значение статистической значимости), а значит Нулевая гипотеза должна быть отвергнута. Принимаем Альтернативную гипотезу, что в среднем количестве заказов между группами есть статистически значимые различия.\n",
    "\n",
    "Расчет относительного различия в среднем между группами увеличился и показал, что относительный прирост группы В составляет 18,2%"
   ]
  },
  {
   "cell_type": "markdown",
   "metadata": {},
   "source": [
    "### Cтатистическая значимость различий в среднем чеке заказа между группами по «очищенным» данным."
   ]
  },
  {
   "cell_type": "markdown",
   "metadata": {},
   "source": [
    "Обозначим нулевую и альтернативную гипотезу для проведения теста:\n",
    "\n",
    "**Нулевая гипотеза** - Средний чек заказа в группе А и В в очищенных данных одинаковый.\n",
    "\n",
    "**Альтернативная гипотеза** - Средний чек заказа в группе А и В в очищенных данных разный."
   ]
  },
  {
   "cell_type": "markdown",
   "metadata": {},
   "source": [
    "Рассчитаем статистическую значимость p-value различия в среднем чеке заказа по результатам теста по «очищенным» данным с применением теста Манна-Уитни. "
   ]
  },
  {
   "cell_type": "code",
   "execution_count": 59,
   "metadata": {},
   "outputs": [
    {
     "data": {
      "text/plain": [
       "'0.646'"
      ]
     },
     "execution_count": 59,
     "metadata": {},
     "output_type": "execute_result"
    }
   ],
   "source": [
    "('{0:.3f}'.format(stats.mannwhitneyu\n",
    "                  (orders[np.logical_and(orders['group'] == 'A',\n",
    "                                         np.logical_not(orders['visitorId'].isin(abnormalUsers)),)]['revenue'],\n",
    "                   orders[np.logical_and(orders['group'] == 'B',\n",
    "                                         np.logical_not(orders['visitorId'].isin(abnormalUsers)),)]['revenue'],)[1])\n",
    ")"
   ]
  },
  {
   "cell_type": "code",
   "execution_count": 60,
   "metadata": {},
   "outputs": [
    {
     "data": {
      "text/plain": [
       "'-0.048'"
      ]
     },
     "execution_count": 60,
     "metadata": {},
     "output_type": "execute_result"
    }
   ],
   "source": [
    "(\"{0:.3f}\".format(orders[np.logical_and(orders['group'] == 'B',\n",
    "                                        np.logical_not(orders['visitorId'].isin(abnormalUsers)),)]['revenue'].mean()\n",
    "                  / orders[np.logical_and(orders['group'] == 'A',\n",
    "                                          np.logical_not(orders['visitorId'].isin(abnormalUsers)),)]['revenue'].mean()- 1)\n",
    ")"
   ]
  },
  {
   "cell_type": "markdown",
   "metadata": {},
   "source": [
    "**Промежуточный вывод**\n",
    "\n",
    "Расчет статистической значимости различия в среднем чеке практически не изменился с расчетом для неочищенных данных, расчитанный p-value также значительно больше 0.05 (стандартное значение статистической значимости), а значит Нулевая гипотеза не может быть отвергнута, между группами нет статистически значимых различий по данному показателю.\n",
    "\n",
    "Расчет относительного прироста среднего чека группы В изменился кардинально и показал, что группа В отстает от группы А на 4.8%, следовательно имеющиеся в данных аномалии оказывали значительное влияние на расчет среднего чека."
   ]
  },
  {
   "cell_type": "markdown",
   "metadata": {},
   "source": [
    "### Принатие решения по результатам теста."
   ]
  },
  {
   "cell_type": "markdown",
   "metadata": {},
   "source": [
    "В ходе проведения анализа, было выявлено, что группа В лидирует по некоторым показателям, таким как конверсия, что в свою очередь привело к тому, что различия в группах по количеству заказов превышает статистически значимый уровень, а значит должно быть принято во внимание. Данный факт говорит о том, что при применении условий для группы В, несмотря на то, что средние чеки в группах не различаются, может быть эффективным шагом для улучшения экономического состояния.\n",
    "\n",
    "В связи с этим, может быть принято решение об остановке теста и признания группы В лидером."
   ]
  },
  {
   "cell_type": "markdown",
   "metadata": {},
   "source": [
    "## Вывод по проекту.\n",
    "\n",
    "В ходе проведения данного исследования были проведены:\n",
    "1.\tПриоритизация списка гипотез, подготовленного отделом маркетинга, с целью увеличения выручки интернет-магазина двумя методами. В ходе данного процесса были определены наиболее приоритетные гипотезы и описаны различи мажду расчетами с помощью двух показателей и выдвинуты соответствующие рекомендации.\n",
    "2.\tАнализ А/В-теста путем расчета ряда характеристик, по итогам данного теста было выявлено:\n",
    "\n",
    "- Анализ кумулятивной выручки и среднего чека по группам показал наличие аномально высоких данных в группе В, искажающих ситуацию, в связи с чем группа В в большинстве случаев находилась в лидерах анализа.\n",
    "- Расчет конверсии для группы А составлял около 2.55%, для группы В - 2.9%, т.е. посетители группы В на 0,35% чаще переходят в статус покупателей, чем в группе А. В то же время относительное изменение кумулятивного среднего количества заказов на посетителя группы B к группе A находилось составляет 11%, что говорит о о более эффективном переходе посетителей в статус покупателей для данной группы.\n",
    "- Было определено, что наибольшая часть пользователей оформляет только один заказ на сайте. Оформление двух заказов происходит значительно реже, пользователи, оформившие 2 заказа и более составляют 5% от выборки.\n",
    "- Было определено, что основное количество заказов имело стоимость в пределах 10 000, при увеличении стоимости заказов их количество уменьшаются, заказы на сумму выше 20 000 являются редкими, только 5% пользователей оформляет заказы на сумму выше 28 000.\n",
    "- Расчет статистической значимости различия среднего количества заказов по неочищенным данным показал, что в среднем количестве заказов между группами есть статистически значимые различия, относительный прирост группы В составляет 13,8%. Очистка данных не изменила результата.\n",
    "- Расчет статистической значимости различия в среднем чеке заказа как для очищенных так и для не очищенных данных показал, что между группами нет статистически значимых различий по данному показателю. Для очищенных данных расчет относительного прироста среднего чека группы В показал, что группа В отстает от группы А на 2%, следовательно значимого различия среднего чека нет.\n",
    "\n",
    "Таким образом, в ходе проведения анализа, было выявлено, что группа В лидирует по некоторым показателям, таким как конверсия. Данный факт говорит о том, что при применении условий для группы В может быть эффективным шагом для улучшения экономического состояния. В связи с этим, рекомендуется принятие решения об остановке теста и признании группы В лидером."
   ]
  }
 ],
 "metadata": {
  "ExecuteTimeLog": [
   {
    "duration": 407,
    "start_time": "2024-03-27T11:34:21.294Z"
   },
   {
    "duration": 94,
    "start_time": "2024-03-27T11:34:55.498Z"
   },
   {
    "duration": 11,
    "start_time": "2024-03-27T11:35:18.323Z"
   },
   {
    "duration": 70,
    "start_time": "2024-03-27T11:36:39.117Z"
   },
   {
    "duration": 3,
    "start_time": "2024-03-27T11:51:30.600Z"
   },
   {
    "duration": 7,
    "start_time": "2024-03-27T11:51:39.981Z"
   },
   {
    "duration": 7,
    "start_time": "2024-03-27T11:51:59.094Z"
   },
   {
    "duration": 36,
    "start_time": "2024-03-27T11:52:04.951Z"
   },
   {
    "duration": 2,
    "start_time": "2024-03-27T11:52:07.208Z"
   },
   {
    "duration": 5,
    "start_time": "2024-03-27T11:52:12.089Z"
   },
   {
    "duration": 7,
    "start_time": "2024-03-27T11:55:41.151Z"
   },
   {
    "duration": 431,
    "start_time": "2024-03-27T11:56:53.877Z"
   },
   {
    "duration": 40,
    "start_time": "2024-03-27T11:56:54.310Z"
   },
   {
    "duration": 9,
    "start_time": "2024-03-27T11:56:54.351Z"
   },
   {
    "duration": 8,
    "start_time": "2024-03-27T12:02:27.621Z"
   },
   {
    "duration": 14,
    "start_time": "2024-03-27T12:02:32.640Z"
   },
   {
    "duration": 13,
    "start_time": "2024-03-27T12:02:43.922Z"
   },
   {
    "duration": 13,
    "start_time": "2024-03-27T12:02:53.419Z"
   },
   {
    "duration": 437,
    "start_time": "2024-03-27T12:03:05.780Z"
   },
   {
    "duration": 39,
    "start_time": "2024-03-27T12:03:06.219Z"
   },
   {
    "duration": 9,
    "start_time": "2024-03-27T12:03:06.259Z"
   },
   {
    "duration": 18,
    "start_time": "2024-03-27T12:03:06.269Z"
   },
   {
    "duration": 12,
    "start_time": "2024-03-27T12:03:26.033Z"
   },
   {
    "duration": 11,
    "start_time": "2024-03-27T12:03:38.340Z"
   },
   {
    "duration": 385,
    "start_time": "2024-03-27T12:03:46.624Z"
   },
   {
    "duration": 38,
    "start_time": "2024-03-27T12:03:47.011Z"
   },
   {
    "duration": 9,
    "start_time": "2024-03-27T12:03:47.052Z"
   },
   {
    "duration": 20,
    "start_time": "2024-03-27T12:03:47.064Z"
   },
   {
    "duration": 10,
    "start_time": "2024-03-27T12:04:10.604Z"
   },
   {
    "duration": 76,
    "start_time": "2024-03-27T12:06:38.510Z"
   },
   {
    "duration": 12,
    "start_time": "2024-03-27T12:06:44.969Z"
   },
   {
    "duration": 10,
    "start_time": "2024-03-27T12:07:03.329Z"
   },
   {
    "duration": 101,
    "start_time": "2024-03-27T12:10:33.157Z"
   },
   {
    "duration": 11,
    "start_time": "2024-03-27T12:10:51.393Z"
   },
   {
    "duration": 76,
    "start_time": "2024-03-27T12:12:17.951Z"
   },
   {
    "duration": 13,
    "start_time": "2024-03-27T12:12:32.881Z"
   },
   {
    "duration": 356,
    "start_time": "2024-03-27T12:14:17.912Z"
   },
   {
    "duration": 3,
    "start_time": "2024-03-27T12:16:28.155Z"
   },
   {
    "duration": 329,
    "start_time": "2024-03-27T12:16:33.522Z"
   },
   {
    "duration": 332,
    "start_time": "2024-03-27T12:16:58.554Z"
   },
   {
    "duration": 21,
    "start_time": "2024-03-27T12:17:14.225Z"
   },
   {
    "duration": 13,
    "start_time": "2024-03-27T12:17:30.913Z"
   },
   {
    "duration": 4,
    "start_time": "2024-03-27T12:19:56.060Z"
   },
   {
    "duration": 12,
    "start_time": "2024-03-27T12:20:08.839Z"
   },
   {
    "duration": 7,
    "start_time": "2024-03-27T12:20:27.257Z"
   },
   {
    "duration": 3,
    "start_time": "2024-03-27T12:22:57.068Z"
   },
   {
    "duration": 6,
    "start_time": "2024-03-27T12:23:54.210Z"
   },
   {
    "duration": 23,
    "start_time": "2024-03-27T12:29:39.631Z"
   },
   {
    "duration": 200,
    "start_time": "2024-03-27T12:33:13.546Z"
   },
   {
    "duration": 177,
    "start_time": "2024-03-27T12:33:26.629Z"
   },
   {
    "duration": 12,
    "start_time": "2024-03-27T12:33:52.854Z"
   },
   {
    "duration": 169,
    "start_time": "2024-03-27T12:34:06.680Z"
   },
   {
    "duration": 119,
    "start_time": "2024-03-27T12:36:57.821Z"
   },
   {
    "duration": 14,
    "start_time": "2024-03-27T12:39:04.071Z"
   },
   {
    "duration": 13,
    "start_time": "2024-03-27T12:39:58.197Z"
   },
   {
    "duration": 425,
    "start_time": "2024-03-27T12:41:31.969Z"
   },
   {
    "duration": 40,
    "start_time": "2024-03-27T12:41:32.396Z"
   },
   {
    "duration": 4,
    "start_time": "2024-03-27T12:41:32.437Z"
   },
   {
    "duration": 10,
    "start_time": "2024-03-27T12:41:32.442Z"
   },
   {
    "duration": 16,
    "start_time": "2024-03-27T12:41:32.454Z"
   },
   {
    "duration": 18,
    "start_time": "2024-03-27T12:41:32.472Z"
   },
   {
    "duration": 54,
    "start_time": "2024-03-27T12:41:32.492Z"
   },
   {
    "duration": 12,
    "start_time": "2024-03-27T12:41:32.547Z"
   },
   {
    "duration": 27,
    "start_time": "2024-03-27T12:41:32.561Z"
   },
   {
    "duration": 21,
    "start_time": "2024-03-27T12:41:32.589Z"
   },
   {
    "duration": 10,
    "start_time": "2024-03-27T12:41:32.611Z"
   },
   {
    "duration": 16,
    "start_time": "2024-03-27T12:41:32.622Z"
   },
   {
    "duration": 6,
    "start_time": "2024-03-27T12:41:32.639Z"
   },
   {
    "duration": 212,
    "start_time": "2024-03-27T12:41:32.647Z"
   },
   {
    "duration": 150,
    "start_time": "2024-03-27T12:41:32.861Z"
   },
   {
    "duration": 13,
    "start_time": "2024-03-27T12:41:33.013Z"
   },
   {
    "duration": 6,
    "start_time": "2024-03-27T12:47:13.245Z"
   },
   {
    "duration": 69,
    "start_time": "2024-03-27T12:49:14.803Z"
   },
   {
    "duration": 429,
    "start_time": "2024-03-27T12:49:29.080Z"
   },
   {
    "duration": 272,
    "start_time": "2024-03-27T12:49:33.716Z"
   },
   {
    "duration": 200,
    "start_time": "2024-03-27T12:49:49.725Z"
   },
   {
    "duration": 161,
    "start_time": "2024-03-27T12:50:45.143Z"
   },
   {
    "duration": 11,
    "start_time": "2024-03-27T12:51:42.486Z"
   },
   {
    "duration": 94,
    "start_time": "2024-03-27T12:53:07.447Z"
   },
   {
    "duration": 232,
    "start_time": "2024-03-27T12:53:28.033Z"
   },
   {
    "duration": 204,
    "start_time": "2024-03-27T12:54:52.706Z"
   },
   {
    "duration": 152,
    "start_time": "2024-03-27T12:55:10.594Z"
   },
   {
    "duration": 645,
    "start_time": "2024-03-27T12:55:45.401Z"
   },
   {
    "duration": 43,
    "start_time": "2024-03-27T12:55:46.047Z"
   },
   {
    "duration": 4,
    "start_time": "2024-03-27T12:55:46.092Z"
   },
   {
    "duration": 17,
    "start_time": "2024-03-27T12:55:46.097Z"
   },
   {
    "duration": 18,
    "start_time": "2024-03-27T12:55:46.116Z"
   },
   {
    "duration": 13,
    "start_time": "2024-03-27T12:55:46.135Z"
   },
   {
    "duration": 47,
    "start_time": "2024-03-27T12:55:46.149Z"
   },
   {
    "duration": 12,
    "start_time": "2024-03-27T12:55:46.197Z"
   },
   {
    "duration": 35,
    "start_time": "2024-03-27T12:55:46.210Z"
   },
   {
    "duration": 26,
    "start_time": "2024-03-27T12:55:46.246Z"
   },
   {
    "duration": 10,
    "start_time": "2024-03-27T12:55:46.273Z"
   },
   {
    "duration": 17,
    "start_time": "2024-03-27T12:55:46.284Z"
   },
   {
    "duration": 27,
    "start_time": "2024-03-27T12:55:46.303Z"
   },
   {
    "duration": 189,
    "start_time": "2024-03-27T12:55:46.333Z"
   },
   {
    "duration": 136,
    "start_time": "2024-03-27T12:55:46.524Z"
   },
   {
    "duration": 23,
    "start_time": "2024-03-27T12:55:46.662Z"
   },
   {
    "duration": 29,
    "start_time": "2024-03-27T12:55:46.687Z"
   },
   {
    "duration": 328,
    "start_time": "2024-03-27T12:55:46.718Z"
   },
   {
    "duration": 207,
    "start_time": "2024-03-27T12:56:01.061Z"
   },
   {
    "duration": 330,
    "start_time": "2024-03-27T12:56:49.291Z"
   },
   {
    "duration": 274,
    "start_time": "2024-03-27T12:57:02.813Z"
   },
   {
    "duration": 225,
    "start_time": "2024-03-27T12:57:50.426Z"
   },
   {
    "duration": 236,
    "start_time": "2024-03-27T12:58:51.502Z"
   },
   {
    "duration": 281,
    "start_time": "2024-03-27T12:59:05.971Z"
   },
   {
    "duration": 229,
    "start_time": "2024-03-27T12:59:22.779Z"
   },
   {
    "duration": 6,
    "start_time": "2024-03-27T13:01:17.666Z"
   },
   {
    "duration": 230,
    "start_time": "2024-03-27T13:01:18.700Z"
   },
   {
    "duration": 229,
    "start_time": "2024-03-27T13:03:01.776Z"
   },
   {
    "duration": 172,
    "start_time": "2024-03-27T13:04:53.659Z"
   },
   {
    "duration": 53,
    "start_time": "2024-03-28T04:31:01.323Z"
   },
   {
    "duration": 897,
    "start_time": "2024-03-28T04:31:14.857Z"
   },
   {
    "duration": 90,
    "start_time": "2024-03-28T04:31:15.757Z"
   },
   {
    "duration": 3,
    "start_time": "2024-03-28T04:31:15.849Z"
   },
   {
    "duration": 36,
    "start_time": "2024-03-28T04:31:15.854Z"
   },
   {
    "duration": 22,
    "start_time": "2024-03-28T04:31:15.891Z"
   },
   {
    "duration": 14,
    "start_time": "2024-03-28T04:31:15.915Z"
   },
   {
    "duration": 95,
    "start_time": "2024-03-28T04:31:15.930Z"
   },
   {
    "duration": 11,
    "start_time": "2024-03-28T04:31:16.027Z"
   },
   {
    "duration": 35,
    "start_time": "2024-03-28T04:31:16.040Z"
   },
   {
    "duration": 88,
    "start_time": "2024-03-28T04:31:16.078Z"
   },
   {
    "duration": 12,
    "start_time": "2024-03-28T04:31:16.167Z"
   },
   {
    "duration": 15,
    "start_time": "2024-03-28T04:31:16.181Z"
   },
   {
    "duration": 19,
    "start_time": "2024-03-28T04:31:16.198Z"
   },
   {
    "duration": 193,
    "start_time": "2024-03-28T04:31:16.219Z"
   },
   {
    "duration": 142,
    "start_time": "2024-03-28T04:31:16.413Z"
   },
   {
    "duration": 24,
    "start_time": "2024-03-28T04:31:16.557Z"
   },
   {
    "duration": 7,
    "start_time": "2024-03-28T04:31:16.583Z"
   },
   {
    "duration": 358,
    "start_time": "2024-03-28T04:31:16.591Z"
   },
   {
    "duration": 244,
    "start_time": "2024-03-28T04:31:16.951Z"
   },
   {
    "duration": 7,
    "start_time": "2024-03-28T04:31:17.197Z"
   },
   {
    "duration": 264,
    "start_time": "2024-03-28T04:31:17.205Z"
   },
   {
    "duration": 12,
    "start_time": "2024-03-28T04:31:46.855Z"
   },
   {
    "duration": 271,
    "start_time": "2024-03-28T04:32:48.720Z"
   },
   {
    "duration": 228,
    "start_time": "2024-03-28T04:33:49.463Z"
   },
   {
    "duration": 239,
    "start_time": "2024-03-28T04:33:58.010Z"
   },
   {
    "duration": 222,
    "start_time": "2024-03-28T04:35:47.183Z"
   },
   {
    "duration": 349,
    "start_time": "2024-03-28T04:37:08.904Z"
   },
   {
    "duration": 5,
    "start_time": "2024-03-28T04:40:01.370Z"
   },
   {
    "duration": 6,
    "start_time": "2024-03-28T04:40:56.484Z"
   },
   {
    "duration": 262,
    "start_time": "2024-03-28T04:41:59.722Z"
   },
   {
    "duration": 266,
    "start_time": "2024-03-28T04:43:01.867Z"
   },
   {
    "duration": 20,
    "start_time": "2024-03-28T04:47:26.596Z"
   },
   {
    "duration": 12,
    "start_time": "2024-03-28T04:48:01.403Z"
   },
   {
    "duration": 10,
    "start_time": "2024-03-28T04:48:12.171Z"
   },
   {
    "duration": 331,
    "start_time": "2024-03-28T04:50:32.338Z"
   },
   {
    "duration": 358,
    "start_time": "2024-03-28T04:51:12.084Z"
   },
   {
    "duration": 15,
    "start_time": "2024-03-28T04:56:23.174Z"
   },
   {
    "duration": 19,
    "start_time": "2024-03-28T04:56:41.579Z"
   },
   {
    "duration": 14,
    "start_time": "2024-03-28T04:56:47.925Z"
   },
   {
    "duration": 14,
    "start_time": "2024-03-28T04:56:54.708Z"
   },
   {
    "duration": 11,
    "start_time": "2024-03-28T04:57:32.398Z"
   },
   {
    "duration": 317,
    "start_time": "2024-03-28T04:58:15.846Z"
   },
   {
    "duration": 346,
    "start_time": "2024-03-28T04:58:29.739Z"
   },
   {
    "duration": 293,
    "start_time": "2024-03-28T04:58:57.888Z"
   },
   {
    "duration": 309,
    "start_time": "2024-03-28T04:59:11.478Z"
   },
   {
    "duration": 282,
    "start_time": "2024-03-28T05:00:34.977Z"
   },
   {
    "duration": 15,
    "start_time": "2024-03-28T05:01:15.500Z"
   },
   {
    "duration": 265,
    "start_time": "2024-03-28T05:01:17.592Z"
   },
   {
    "duration": 23,
    "start_time": "2024-03-28T05:02:13.272Z"
   },
   {
    "duration": 17,
    "start_time": "2024-03-28T05:02:31.080Z"
   },
   {
    "duration": 254,
    "start_time": "2024-03-28T05:02:35.501Z"
   },
   {
    "duration": 6,
    "start_time": "2024-03-28T05:05:03.778Z"
   },
   {
    "duration": 227,
    "start_time": "2024-03-28T05:07:00.522Z"
   },
   {
    "duration": 165,
    "start_time": "2024-03-28T05:08:20.646Z"
   },
   {
    "duration": 176,
    "start_time": "2024-03-28T05:09:15.065Z"
   },
   {
    "duration": 148,
    "start_time": "2024-03-28T05:09:56.420Z"
   },
   {
    "duration": 187,
    "start_time": "2024-03-28T05:10:23.566Z"
   },
   {
    "duration": 232,
    "start_time": "2024-03-28T05:11:10.369Z"
   },
   {
    "duration": 167,
    "start_time": "2024-03-28T05:11:19.695Z"
   },
   {
    "duration": 5,
    "start_time": "2024-03-28T05:12:10.736Z"
   },
   {
    "duration": 15,
    "start_time": "2024-03-28T05:21:12.998Z"
   },
   {
    "duration": 70,
    "start_time": "2024-03-28T05:22:04.165Z"
   },
   {
    "duration": 73,
    "start_time": "2024-03-28T05:22:19.802Z"
   },
   {
    "duration": 67,
    "start_time": "2024-03-28T05:23:18.270Z"
   },
   {
    "duration": 60,
    "start_time": "2024-03-28T05:23:24.616Z"
   },
   {
    "duration": 54,
    "start_time": "2024-03-28T05:35:00.104Z"
   },
   {
    "duration": 46,
    "start_time": "2024-03-28T05:35:31.841Z"
   },
   {
    "duration": 16,
    "start_time": "2024-03-28T05:37:35.662Z"
   },
   {
    "duration": 50,
    "start_time": "2024-03-28T05:39:59.372Z"
   },
   {
    "duration": 13,
    "start_time": "2024-03-28T05:40:57.400Z"
   },
   {
    "duration": 49,
    "start_time": "2024-03-28T05:42:14.362Z"
   },
   {
    "duration": 19,
    "start_time": "2024-03-28T05:43:13.314Z"
   },
   {
    "duration": 11,
    "start_time": "2024-03-28T05:43:22.118Z"
   },
   {
    "duration": 63,
    "start_time": "2024-03-28T05:43:48.167Z"
   },
   {
    "duration": 88,
    "start_time": "2024-03-28T05:43:49.066Z"
   },
   {
    "duration": 7,
    "start_time": "2024-03-28T05:43:51.676Z"
   },
   {
    "duration": 4,
    "start_time": "2024-03-28T05:44:58.189Z"
   },
   {
    "duration": 4,
    "start_time": "2024-03-28T05:45:01.057Z"
   },
   {
    "duration": 12,
    "start_time": "2024-03-28T05:46:01.145Z"
   },
   {
    "duration": 6,
    "start_time": "2024-03-28T05:46:56.147Z"
   },
   {
    "duration": 400,
    "start_time": "2024-03-28T05:47:22.213Z"
   },
   {
    "duration": 26,
    "start_time": "2024-03-28T05:47:29.121Z"
   },
   {
    "duration": 4,
    "start_time": "2024-03-28T05:47:33.633Z"
   },
   {
    "duration": 23,
    "start_time": "2024-03-28T05:48:03.254Z"
   },
   {
    "duration": 4,
    "start_time": "2024-03-28T05:48:04.987Z"
   },
   {
    "duration": 8,
    "start_time": "2024-03-28T05:49:33.897Z"
   },
   {
    "duration": 7,
    "start_time": "2024-03-28T05:50:16.423Z"
   },
   {
    "duration": 6,
    "start_time": "2024-03-28T05:53:37.251Z"
   },
   {
    "duration": 1341,
    "start_time": "2024-03-28T05:53:41.042Z"
   },
   {
    "duration": 5,
    "start_time": "2024-03-28T05:54:23.725Z"
   },
   {
    "duration": 8,
    "start_time": "2024-03-28T05:54:57.330Z"
   },
   {
    "duration": 5,
    "start_time": "2024-03-28T05:55:09.649Z"
   },
   {
    "duration": 6,
    "start_time": "2024-03-28T05:58:35.776Z"
   },
   {
    "duration": 5,
    "start_time": "2024-03-28T05:59:36.988Z"
   },
   {
    "duration": 25,
    "start_time": "2024-03-28T05:59:50.365Z"
   },
   {
    "duration": 24,
    "start_time": "2024-03-28T05:59:55.202Z"
   },
   {
    "duration": 4,
    "start_time": "2024-03-28T06:00:08.965Z"
   },
   {
    "duration": 1337,
    "start_time": "2024-03-28T06:09:18.008Z"
   },
   {
    "duration": 11,
    "start_time": "2024-03-28T06:09:41.485Z"
   },
   {
    "duration": 1389,
    "start_time": "2024-03-28T06:11:26.585Z"
   },
   {
    "duration": 9,
    "start_time": "2024-03-28T06:11:40.310Z"
   },
   {
    "duration": 27,
    "start_time": "2024-03-28T06:48:09.321Z"
   },
   {
    "duration": 3,
    "start_time": "2024-03-28T06:48:13.336Z"
   },
   {
    "duration": 8,
    "start_time": "2024-03-28T06:48:14.305Z"
   },
   {
    "duration": 11,
    "start_time": "2024-03-28T06:48:47.831Z"
   },
   {
    "duration": 12,
    "start_time": "2024-03-28T06:51:49.218Z"
   },
   {
    "duration": 4,
    "start_time": "2024-03-28T06:52:16.499Z"
   },
   {
    "duration": 4,
    "start_time": "2024-03-28T06:53:00.309Z"
   },
   {
    "duration": 3,
    "start_time": "2024-03-28T06:53:11.434Z"
   },
   {
    "duration": 12,
    "start_time": "2024-03-28T06:54:01.880Z"
   },
   {
    "duration": 4,
    "start_time": "2024-03-28T06:54:28.577Z"
   },
   {
    "duration": 1143,
    "start_time": "2024-03-28T06:54:46.499Z"
   },
   {
    "duration": 27,
    "start_time": "2024-03-28T06:54:47.643Z"
   },
   {
    "duration": 3,
    "start_time": "2024-03-28T06:54:47.672Z"
   },
   {
    "duration": 17,
    "start_time": "2024-03-28T06:54:47.677Z"
   },
   {
    "duration": 12,
    "start_time": "2024-03-28T06:54:47.696Z"
   },
   {
    "duration": 4,
    "start_time": "2024-03-28T06:54:47.709Z"
   },
   {
    "duration": 11,
    "start_time": "2024-03-28T06:54:47.715Z"
   },
   {
    "duration": 21,
    "start_time": "2024-03-28T06:54:47.727Z"
   },
   {
    "duration": 43,
    "start_time": "2024-03-28T06:54:47.750Z"
   },
   {
    "duration": 10,
    "start_time": "2024-03-28T06:54:47.795Z"
   },
   {
    "duration": 35,
    "start_time": "2024-03-28T06:54:47.806Z"
   },
   {
    "duration": 28,
    "start_time": "2024-03-28T06:54:47.843Z"
   },
   {
    "duration": 9,
    "start_time": "2024-03-28T06:54:47.873Z"
   },
   {
    "duration": 15,
    "start_time": "2024-03-28T06:54:47.884Z"
   },
   {
    "duration": 12,
    "start_time": "2024-03-28T06:54:47.900Z"
   },
   {
    "duration": 174,
    "start_time": "2024-03-28T06:54:47.913Z"
   },
   {
    "duration": 135,
    "start_time": "2024-03-28T06:54:48.089Z"
   },
   {
    "duration": 13,
    "start_time": "2024-03-28T06:54:48.226Z"
   },
   {
    "duration": 54,
    "start_time": "2024-03-28T06:54:48.241Z"
   },
   {
    "duration": 321,
    "start_time": "2024-03-28T06:54:48.297Z"
   },
   {
    "duration": 225,
    "start_time": "2024-03-28T06:54:48.620Z"
   },
   {
    "duration": 11,
    "start_time": "2024-03-28T06:54:48.847Z"
   },
   {
    "duration": 330,
    "start_time": "2024-03-28T06:54:48.870Z"
   },
   {
    "duration": 4,
    "start_time": "2024-03-28T06:54:49.202Z"
   },
   {
    "duration": 11,
    "start_time": "2024-03-28T06:54:49.207Z"
   },
   {
    "duration": 251,
    "start_time": "2024-03-28T06:54:49.219Z"
   },
   {
    "duration": 7,
    "start_time": "2024-03-28T06:54:49.472Z"
   },
   {
    "duration": 343,
    "start_time": "2024-03-28T06:54:49.482Z"
   },
   {
    "duration": 13,
    "start_time": "2024-03-28T06:54:49.826Z"
   },
   {
    "duration": 185,
    "start_time": "2024-03-28T06:54:49.841Z"
   },
   {
    "duration": 4,
    "start_time": "2024-03-28T06:54:50.028Z"
   },
   {
    "duration": 182,
    "start_time": "2024-03-28T06:54:50.034Z"
   },
   {
    "duration": 6,
    "start_time": "2024-03-28T06:54:50.217Z"
   },
   {
    "duration": 58,
    "start_time": "2024-03-28T06:54:50.224Z"
   },
   {
    "duration": 49,
    "start_time": "2024-03-28T06:54:50.283Z"
   },
   {
    "duration": 29,
    "start_time": "2024-03-28T06:54:50.334Z"
   },
   {
    "duration": 59,
    "start_time": "2024-03-28T06:54:50.365Z"
   },
   {
    "duration": 23,
    "start_time": "2024-03-28T06:54:50.425Z"
   },
   {
    "duration": 78,
    "start_time": "2024-03-28T06:54:50.450Z"
   },
   {
    "duration": 23,
    "start_time": "2024-03-28T06:54:50.530Z"
   },
   {
    "duration": 19,
    "start_time": "2024-03-28T06:54:50.555Z"
   },
   {
    "duration": 89,
    "start_time": "2024-03-28T06:54:50.576Z"
   },
   {
    "duration": 74,
    "start_time": "2024-03-28T06:54:50.666Z"
   },
   {
    "duration": 4,
    "start_time": "2024-03-28T06:54:50.741Z"
   },
   {
    "duration": 26,
    "start_time": "2024-03-28T06:54:50.747Z"
   },
   {
    "duration": 36,
    "start_time": "2024-03-28T06:54:50.775Z"
   },
   {
    "duration": 4,
    "start_time": "2024-03-28T06:54:50.813Z"
   },
   {
    "duration": 15,
    "start_time": "2024-03-28T06:54:50.818Z"
   },
   {
    "duration": 7,
    "start_time": "2024-03-28T06:54:50.835Z"
   },
   {
    "duration": 18,
    "start_time": "2024-03-28T06:54:50.844Z"
   },
   {
    "duration": 7,
    "start_time": "2024-03-28T06:54:50.864Z"
   },
   {
    "duration": 24,
    "start_time": "2024-03-28T06:54:50.872Z"
   },
   {
    "duration": 12,
    "start_time": "2024-03-28T06:54:50.897Z"
   },
   {
    "duration": 35,
    "start_time": "2024-03-28T06:54:50.910Z"
   },
   {
    "duration": 5,
    "start_time": "2024-03-28T06:54:50.947Z"
   },
   {
    "duration": 23,
    "start_time": "2024-03-28T06:54:50.953Z"
   },
   {
    "duration": 31,
    "start_time": "2024-03-28T06:54:50.978Z"
   },
   {
    "duration": 11,
    "start_time": "2024-03-28T06:56:11.888Z"
   },
   {
    "duration": 4,
    "start_time": "2024-03-28T06:56:21.776Z"
   },
   {
    "duration": 11,
    "start_time": "2024-03-28T06:56:53.513Z"
   },
   {
    "duration": 11,
    "start_time": "2024-03-28T06:57:23.202Z"
   },
   {
    "duration": 5,
    "start_time": "2024-03-28T06:57:29.008Z"
   },
   {
    "duration": 4,
    "start_time": "2024-03-28T06:57:49.697Z"
   },
   {
    "duration": 5,
    "start_time": "2024-03-28T06:57:55.040Z"
   },
   {
    "duration": 6,
    "start_time": "2024-03-28T07:17:52.794Z"
   },
   {
    "duration": 5,
    "start_time": "2024-03-28T07:20:14.276Z"
   },
   {
    "duration": 31,
    "start_time": "2024-03-28T07:20:34.144Z"
   },
   {
    "duration": 17,
    "start_time": "2024-03-28T07:28:00.837Z"
   },
   {
    "duration": 13,
    "start_time": "2024-03-28T07:28:14.170Z"
   },
   {
    "duration": 45,
    "start_time": "2024-03-28T12:31:51.377Z"
   },
   {
    "duration": 1349,
    "start_time": "2024-03-28T12:31:59.022Z"
   },
   {
    "duration": 69,
    "start_time": "2024-03-28T12:32:00.373Z"
   },
   {
    "duration": 32,
    "start_time": "2024-03-28T12:32:00.444Z"
   },
   {
    "duration": 92,
    "start_time": "2024-03-28T12:32:00.478Z"
   },
   {
    "duration": 57,
    "start_time": "2024-03-28T12:32:00.571Z"
   },
   {
    "duration": 43,
    "start_time": "2024-03-28T12:32:00.629Z"
   },
   {
    "duration": 45,
    "start_time": "2024-03-28T12:32:00.674Z"
   },
   {
    "duration": 33,
    "start_time": "2024-03-28T12:32:00.720Z"
   },
   {
    "duration": 158,
    "start_time": "2024-03-28T12:32:00.755Z"
   },
   {
    "duration": 15,
    "start_time": "2024-03-28T12:32:00.916Z"
   },
   {
    "duration": 52,
    "start_time": "2024-03-28T12:32:00.936Z"
   },
   {
    "duration": 34,
    "start_time": "2024-03-28T12:32:00.990Z"
   },
   {
    "duration": 117,
    "start_time": "2024-03-28T12:32:01.026Z"
   },
   {
    "duration": 10,
    "start_time": "2024-03-28T12:32:01.145Z"
   },
   {
    "duration": 90,
    "start_time": "2024-03-28T12:32:01.157Z"
   },
   {
    "duration": 46,
    "start_time": "2024-03-28T12:32:01.248Z"
   },
   {
    "duration": 45,
    "start_time": "2024-03-28T12:32:01.296Z"
   },
   {
    "duration": 223,
    "start_time": "2024-03-28T12:32:01.342Z"
   },
   {
    "duration": 142,
    "start_time": "2024-03-28T12:32:01.567Z"
   },
   {
    "duration": 13,
    "start_time": "2024-03-28T12:32:01.717Z"
   },
   {
    "duration": 100,
    "start_time": "2024-03-28T12:32:01.732Z"
   },
   {
    "duration": 404,
    "start_time": "2024-03-28T12:32:01.834Z"
   },
   {
    "duration": 251,
    "start_time": "2024-03-28T12:32:02.240Z"
   },
   {
    "duration": 12,
    "start_time": "2024-03-28T12:32:02.493Z"
   },
   {
    "duration": 365,
    "start_time": "2024-03-28T12:32:02.518Z"
   },
   {
    "duration": 12,
    "start_time": "2024-03-28T12:32:02.885Z"
   },
   {
    "duration": 4,
    "start_time": "2024-03-28T12:32:02.899Z"
   },
   {
    "duration": 4,
    "start_time": "2024-03-28T12:32:02.920Z"
   },
   {
    "duration": 236,
    "start_time": "2024-03-28T12:32:02.925Z"
   },
   {
    "duration": 9,
    "start_time": "2024-03-28T12:32:03.162Z"
   },
   {
    "duration": 326,
    "start_time": "2024-03-28T12:32:03.173Z"
   },
   {
    "duration": 22,
    "start_time": "2024-03-28T12:32:03.500Z"
   },
   {
    "duration": 170,
    "start_time": "2024-03-28T12:32:03.523Z"
   },
   {
    "duration": 7,
    "start_time": "2024-03-28T12:32:03.694Z"
   },
   {
    "duration": 181,
    "start_time": "2024-03-28T12:32:03.703Z"
   },
   {
    "duration": 5,
    "start_time": "2024-03-28T12:32:03.886Z"
   },
   {
    "duration": 72,
    "start_time": "2024-03-28T12:32:03.892Z"
   },
   {
    "duration": 44,
    "start_time": "2024-03-28T12:32:03.966Z"
   },
   {
    "duration": 23,
    "start_time": "2024-03-28T12:32:04.019Z"
   },
   {
    "duration": 51,
    "start_time": "2024-03-28T12:32:04.045Z"
   },
   {
    "duration": 13,
    "start_time": "2024-03-28T12:32:04.118Z"
   },
   {
    "duration": 46,
    "start_time": "2024-03-28T12:32:04.133Z"
   },
   {
    "duration": 38,
    "start_time": "2024-03-28T12:32:04.181Z"
   },
   {
    "duration": 10,
    "start_time": "2024-03-28T12:32:04.220Z"
   },
   {
    "duration": 61,
    "start_time": "2024-03-28T12:32:04.231Z"
   },
   {
    "duration": 103,
    "start_time": "2024-03-28T12:32:04.294Z"
   },
   {
    "duration": 4,
    "start_time": "2024-03-28T12:32:04.399Z"
   },
   {
    "duration": 18,
    "start_time": "2024-03-28T12:32:04.404Z"
   },
   {
    "duration": 32,
    "start_time": "2024-03-28T12:32:04.424Z"
   },
   {
    "duration": 4,
    "start_time": "2024-03-28T12:32:04.458Z"
   },
   {
    "duration": 18,
    "start_time": "2024-03-28T12:32:04.463Z"
   },
   {
    "duration": 20,
    "start_time": "2024-03-28T12:32:04.483Z"
   },
   {
    "duration": 12,
    "start_time": "2024-03-28T12:32:04.505Z"
   },
   {
    "duration": 12,
    "start_time": "2024-03-28T12:32:04.519Z"
   },
   {
    "duration": 11,
    "start_time": "2024-03-28T12:32:04.532Z"
   },
   {
    "duration": 18,
    "start_time": "2024-03-28T12:32:04.544Z"
   },
   {
    "duration": 24,
    "start_time": "2024-03-28T12:32:04.564Z"
   },
   {
    "duration": 4,
    "start_time": "2024-03-28T12:32:04.589Z"
   },
   {
    "duration": 16,
    "start_time": "2024-03-28T12:32:04.594Z"
   },
   {
    "duration": 7,
    "start_time": "2024-03-28T12:32:04.612Z"
   },
   {
    "duration": 4,
    "start_time": "2024-03-28T12:34:08.948Z"
   },
   {
    "duration": 893,
    "start_time": "2024-03-28T12:34:27.375Z"
   },
   {
    "duration": 3,
    "start_time": "2024-03-28T12:34:38.323Z"
   },
   {
    "duration": 5,
    "start_time": "2024-03-28T12:34:39.568Z"
   },
   {
    "duration": 302,
    "start_time": "2024-03-28T12:34:40.825Z"
   },
   {
    "duration": 1218,
    "start_time": "2024-03-29T05:12:16.838Z"
   },
   {
    "duration": 81,
    "start_time": "2024-03-29T05:12:18.058Z"
   },
   {
    "duration": 3,
    "start_time": "2024-03-29T05:12:18.141Z"
   },
   {
    "duration": 21,
    "start_time": "2024-03-29T05:12:18.145Z"
   },
   {
    "duration": 21,
    "start_time": "2024-03-29T05:12:18.167Z"
   },
   {
    "duration": 21,
    "start_time": "2024-03-29T05:12:18.190Z"
   },
   {
    "duration": 17,
    "start_time": "2024-03-29T05:12:18.212Z"
   },
   {
    "duration": 4,
    "start_time": "2024-03-29T05:12:18.231Z"
   },
   {
    "duration": 108,
    "start_time": "2024-03-29T05:12:18.237Z"
   },
   {
    "duration": 10,
    "start_time": "2024-03-29T05:12:18.347Z"
   },
   {
    "duration": 40,
    "start_time": "2024-03-29T05:12:18.359Z"
   },
   {
    "duration": 10,
    "start_time": "2024-03-29T05:12:18.400Z"
   },
   {
    "duration": 86,
    "start_time": "2024-03-29T05:12:18.411Z"
   },
   {
    "duration": 9,
    "start_time": "2024-03-29T05:12:18.498Z"
   },
   {
    "duration": 25,
    "start_time": "2024-03-29T05:12:18.509Z"
   },
   {
    "duration": 19,
    "start_time": "2024-03-29T05:12:18.536Z"
   },
   {
    "duration": 25,
    "start_time": "2024-03-29T05:12:18.556Z"
   },
   {
    "duration": 175,
    "start_time": "2024-03-29T05:12:18.582Z"
   },
   {
    "duration": 126,
    "start_time": "2024-03-29T05:12:18.758Z"
   },
   {
    "duration": 12,
    "start_time": "2024-03-29T05:12:18.885Z"
   },
   {
    "duration": 13,
    "start_time": "2024-03-29T05:12:18.898Z"
   },
   {
    "duration": 317,
    "start_time": "2024-03-29T05:12:18.912Z"
   },
   {
    "duration": 220,
    "start_time": "2024-03-29T05:12:19.230Z"
   },
   {
    "duration": 11,
    "start_time": "2024-03-29T05:12:19.451Z"
   },
   {
    "duration": 387,
    "start_time": "2024-03-29T05:12:19.463Z"
   },
   {
    "duration": 5,
    "start_time": "2024-03-29T05:12:19.852Z"
   },
   {
    "duration": 7,
    "start_time": "2024-03-29T05:12:19.858Z"
   },
   {
    "duration": 279,
    "start_time": "2024-03-29T05:12:19.885Z"
   },
   {
    "duration": 102,
    "start_time": "2024-03-29T05:12:20.166Z"
   },
   {
    "duration": 0,
    "start_time": "2024-03-29T05:12:20.270Z"
   },
   {
    "duration": 0,
    "start_time": "2024-03-29T05:12:20.271Z"
   },
   {
    "duration": 0,
    "start_time": "2024-03-29T05:12:20.282Z"
   },
   {
    "duration": 0,
    "start_time": "2024-03-29T05:12:20.283Z"
   },
   {
    "duration": 0,
    "start_time": "2024-03-29T05:12:20.284Z"
   },
   {
    "duration": 0,
    "start_time": "2024-03-29T05:12:20.285Z"
   },
   {
    "duration": 0,
    "start_time": "2024-03-29T05:12:20.287Z"
   },
   {
    "duration": 0,
    "start_time": "2024-03-29T05:12:20.288Z"
   },
   {
    "duration": 0,
    "start_time": "2024-03-29T05:12:20.289Z"
   },
   {
    "duration": 0,
    "start_time": "2024-03-29T05:12:20.290Z"
   },
   {
    "duration": 0,
    "start_time": "2024-03-29T05:12:20.291Z"
   },
   {
    "duration": 0,
    "start_time": "2024-03-29T05:12:20.292Z"
   },
   {
    "duration": 0,
    "start_time": "2024-03-29T05:12:20.293Z"
   },
   {
    "duration": 0,
    "start_time": "2024-03-29T05:12:20.295Z"
   },
   {
    "duration": 0,
    "start_time": "2024-03-29T05:12:20.296Z"
   },
   {
    "duration": 0,
    "start_time": "2024-03-29T05:12:20.297Z"
   },
   {
    "duration": 0,
    "start_time": "2024-03-29T05:12:20.298Z"
   },
   {
    "duration": 0,
    "start_time": "2024-03-29T05:12:20.299Z"
   },
   {
    "duration": 0,
    "start_time": "2024-03-29T05:12:20.301Z"
   },
   {
    "duration": 0,
    "start_time": "2024-03-29T05:12:20.302Z"
   },
   {
    "duration": 0,
    "start_time": "2024-03-29T05:12:20.303Z"
   },
   {
    "duration": 0,
    "start_time": "2024-03-29T05:12:20.304Z"
   },
   {
    "duration": 0,
    "start_time": "2024-03-29T05:12:20.305Z"
   },
   {
    "duration": 0,
    "start_time": "2024-03-29T05:12:20.306Z"
   },
   {
    "duration": 0,
    "start_time": "2024-03-29T05:12:20.307Z"
   },
   {
    "duration": 0,
    "start_time": "2024-03-29T05:12:20.308Z"
   },
   {
    "duration": 0,
    "start_time": "2024-03-29T05:12:20.309Z"
   },
   {
    "duration": 0,
    "start_time": "2024-03-29T05:12:20.310Z"
   },
   {
    "duration": 0,
    "start_time": "2024-03-29T05:12:20.311Z"
   },
   {
    "duration": 0,
    "start_time": "2024-03-29T05:12:20.313Z"
   },
   {
    "duration": 6,
    "start_time": "2024-03-29T05:18:04.844Z"
   },
   {
    "duration": 4,
    "start_time": "2024-03-29T05:19:29.446Z"
   },
   {
    "duration": 240,
    "start_time": "2024-03-29T05:19:31.306Z"
   },
   {
    "duration": 309,
    "start_time": "2024-03-29T05:21:10.522Z"
   },
   {
    "duration": 341,
    "start_time": "2024-03-29T05:21:19.916Z"
   },
   {
    "duration": 12,
    "start_time": "2024-03-29T05:28:25.533Z"
   },
   {
    "duration": 1095,
    "start_time": "2024-03-29T05:28:43.287Z"
   },
   {
    "duration": 27,
    "start_time": "2024-03-29T05:28:44.384Z"
   },
   {
    "duration": 3,
    "start_time": "2024-03-29T05:28:44.413Z"
   },
   {
    "duration": 16,
    "start_time": "2024-03-29T05:28:44.418Z"
   },
   {
    "duration": 15,
    "start_time": "2024-03-29T05:28:44.437Z"
   },
   {
    "duration": 4,
    "start_time": "2024-03-29T05:28:44.454Z"
   },
   {
    "duration": 12,
    "start_time": "2024-03-29T05:28:44.459Z"
   },
   {
    "duration": 3,
    "start_time": "2024-03-29T05:28:44.482Z"
   },
   {
    "duration": 46,
    "start_time": "2024-03-29T05:28:44.486Z"
   },
   {
    "duration": 10,
    "start_time": "2024-03-29T05:28:44.534Z"
   },
   {
    "duration": 30,
    "start_time": "2024-03-29T05:28:44.545Z"
   },
   {
    "duration": 14,
    "start_time": "2024-03-29T05:28:44.576Z"
   },
   {
    "duration": 22,
    "start_time": "2024-03-29T05:28:44.591Z"
   },
   {
    "duration": 12,
    "start_time": "2024-03-29T05:28:44.615Z"
   },
   {
    "duration": 16,
    "start_time": "2024-03-29T05:28:44.628Z"
   },
   {
    "duration": 6,
    "start_time": "2024-03-29T05:28:44.646Z"
   },
   {
    "duration": 15,
    "start_time": "2024-03-29T05:28:44.653Z"
   },
   {
    "duration": 179,
    "start_time": "2024-03-29T05:28:44.670Z"
   },
   {
    "duration": 122,
    "start_time": "2024-03-29T05:28:44.850Z"
   },
   {
    "duration": 11,
    "start_time": "2024-03-29T05:28:44.983Z"
   },
   {
    "duration": 7,
    "start_time": "2024-03-29T05:28:44.995Z"
   },
   {
    "duration": 338,
    "start_time": "2024-03-29T05:28:45.003Z"
   },
   {
    "duration": 225,
    "start_time": "2024-03-29T05:28:45.343Z"
   },
   {
    "duration": 17,
    "start_time": "2024-03-29T05:28:45.570Z"
   },
   {
    "duration": 345,
    "start_time": "2024-03-29T05:28:45.588Z"
   },
   {
    "duration": 5,
    "start_time": "2024-03-29T05:28:45.934Z"
   },
   {
    "duration": 13,
    "start_time": "2024-03-29T05:28:45.940Z"
   },
   {
    "duration": 916,
    "start_time": "2024-03-29T05:28:45.954Z"
   },
   {
    "duration": 0,
    "start_time": "2024-03-29T05:28:46.872Z"
   },
   {
    "duration": 0,
    "start_time": "2024-03-29T05:28:46.873Z"
   },
   {
    "duration": 0,
    "start_time": "2024-03-29T05:28:46.874Z"
   },
   {
    "duration": 0,
    "start_time": "2024-03-29T05:28:46.875Z"
   },
   {
    "duration": 0,
    "start_time": "2024-03-29T05:28:46.876Z"
   },
   {
    "duration": 0,
    "start_time": "2024-03-29T05:28:46.877Z"
   },
   {
    "duration": 0,
    "start_time": "2024-03-29T05:28:46.877Z"
   },
   {
    "duration": 0,
    "start_time": "2024-03-29T05:28:46.879Z"
   },
   {
    "duration": 0,
    "start_time": "2024-03-29T05:28:46.879Z"
   },
   {
    "duration": 0,
    "start_time": "2024-03-29T05:28:46.880Z"
   },
   {
    "duration": 0,
    "start_time": "2024-03-29T05:28:46.881Z"
   },
   {
    "duration": 0,
    "start_time": "2024-03-29T05:28:46.882Z"
   },
   {
    "duration": 0,
    "start_time": "2024-03-29T05:28:46.883Z"
   },
   {
    "duration": 0,
    "start_time": "2024-03-29T05:28:46.884Z"
   },
   {
    "duration": 0,
    "start_time": "2024-03-29T05:28:46.885Z"
   },
   {
    "duration": 0,
    "start_time": "2024-03-29T05:28:46.886Z"
   },
   {
    "duration": 0,
    "start_time": "2024-03-29T05:28:46.887Z"
   },
   {
    "duration": 0,
    "start_time": "2024-03-29T05:28:46.888Z"
   },
   {
    "duration": 0,
    "start_time": "2024-03-29T05:28:46.889Z"
   },
   {
    "duration": 0,
    "start_time": "2024-03-29T05:28:46.889Z"
   },
   {
    "duration": 0,
    "start_time": "2024-03-29T05:28:46.890Z"
   },
   {
    "duration": 0,
    "start_time": "2024-03-29T05:28:46.891Z"
   },
   {
    "duration": 0,
    "start_time": "2024-03-29T05:28:46.892Z"
   },
   {
    "duration": 0,
    "start_time": "2024-03-29T05:28:46.893Z"
   },
   {
    "duration": 0,
    "start_time": "2024-03-29T05:28:46.894Z"
   },
   {
    "duration": 0,
    "start_time": "2024-03-29T05:28:46.895Z"
   },
   {
    "duration": 0,
    "start_time": "2024-03-29T05:28:46.896Z"
   },
   {
    "duration": 0,
    "start_time": "2024-03-29T05:28:46.897Z"
   },
   {
    "duration": 0,
    "start_time": "2024-03-29T05:28:46.898Z"
   },
   {
    "duration": 1,
    "start_time": "2024-03-29T05:28:46.898Z"
   },
   {
    "duration": 0,
    "start_time": "2024-03-29T05:28:46.900Z"
   },
   {
    "duration": 1139,
    "start_time": "2024-03-29T05:29:21.204Z"
   },
   {
    "duration": 28,
    "start_time": "2024-03-29T05:29:22.345Z"
   },
   {
    "duration": 4,
    "start_time": "2024-03-29T05:29:22.374Z"
   },
   {
    "duration": 12,
    "start_time": "2024-03-29T05:29:22.379Z"
   },
   {
    "duration": 10,
    "start_time": "2024-03-29T05:29:22.393Z"
   },
   {
    "duration": 4,
    "start_time": "2024-03-29T05:29:22.404Z"
   },
   {
    "duration": 14,
    "start_time": "2024-03-29T05:29:22.409Z"
   },
   {
    "duration": 6,
    "start_time": "2024-03-29T05:29:22.424Z"
   },
   {
    "duration": 43,
    "start_time": "2024-03-29T05:29:22.431Z"
   },
   {
    "duration": 10,
    "start_time": "2024-03-29T05:29:22.477Z"
   },
   {
    "duration": 24,
    "start_time": "2024-03-29T05:29:22.489Z"
   },
   {
    "duration": 6,
    "start_time": "2024-03-29T05:29:22.515Z"
   },
   {
    "duration": 21,
    "start_time": "2024-03-29T05:29:22.523Z"
   },
   {
    "duration": 13,
    "start_time": "2024-03-29T05:29:22.546Z"
   },
   {
    "duration": 11,
    "start_time": "2024-03-29T05:29:22.582Z"
   },
   {
    "duration": 5,
    "start_time": "2024-03-29T05:29:22.595Z"
   },
   {
    "duration": 6,
    "start_time": "2024-03-29T05:29:22.601Z"
   },
   {
    "duration": 176,
    "start_time": "2024-03-29T05:29:22.608Z"
   },
   {
    "duration": 129,
    "start_time": "2024-03-29T05:29:22.785Z"
   },
   {
    "duration": 11,
    "start_time": "2024-03-29T05:29:22.916Z"
   },
   {
    "duration": 10,
    "start_time": "2024-03-29T05:29:22.929Z"
   },
   {
    "duration": 323,
    "start_time": "2024-03-29T05:29:22.940Z"
   },
   {
    "duration": 226,
    "start_time": "2024-03-29T05:29:23.264Z"
   },
   {
    "duration": 11,
    "start_time": "2024-03-29T05:29:23.491Z"
   },
   {
    "duration": 324,
    "start_time": "2024-03-29T05:29:23.504Z"
   },
   {
    "duration": 4,
    "start_time": "2024-03-29T05:29:23.830Z"
   },
   {
    "duration": 6,
    "start_time": "2024-03-29T05:29:23.835Z"
   },
   {
    "duration": 440,
    "start_time": "2024-03-29T05:29:23.844Z"
   },
   {
    "duration": 7,
    "start_time": "2024-03-29T05:29:24.286Z"
   },
   {
    "duration": 314,
    "start_time": "2024-03-29T05:29:24.295Z"
   },
   {
    "duration": 13,
    "start_time": "2024-03-29T05:29:24.611Z"
   },
   {
    "duration": 147,
    "start_time": "2024-03-29T05:29:24.625Z"
   },
   {
    "duration": 11,
    "start_time": "2024-03-29T05:29:24.773Z"
   },
   {
    "duration": 161,
    "start_time": "2024-03-29T05:29:24.786Z"
   },
   {
    "duration": 5,
    "start_time": "2024-03-29T05:29:24.949Z"
   },
   {
    "duration": 61,
    "start_time": "2024-03-29T05:29:24.955Z"
   },
   {
    "duration": 47,
    "start_time": "2024-03-29T05:29:25.017Z"
   },
   {
    "duration": 24,
    "start_time": "2024-03-29T05:29:25.066Z"
   },
   {
    "duration": 69,
    "start_time": "2024-03-29T05:29:25.091Z"
   },
   {
    "duration": 18,
    "start_time": "2024-03-29T05:29:25.162Z"
   },
   {
    "duration": 47,
    "start_time": "2024-03-29T05:29:25.181Z"
   },
   {
    "duration": 19,
    "start_time": "2024-03-29T05:29:25.229Z"
   },
   {
    "duration": 9,
    "start_time": "2024-03-29T05:29:25.250Z"
   },
   {
    "duration": 83,
    "start_time": "2024-03-29T05:29:25.260Z"
   },
   {
    "duration": 76,
    "start_time": "2024-03-29T05:29:25.345Z"
   },
   {
    "duration": 4,
    "start_time": "2024-03-29T05:29:25.423Z"
   },
   {
    "duration": 6,
    "start_time": "2024-03-29T05:29:25.428Z"
   },
   {
    "duration": 34,
    "start_time": "2024-03-29T05:29:25.435Z"
   },
   {
    "duration": 12,
    "start_time": "2024-03-29T05:29:25.470Z"
   },
   {
    "duration": 8,
    "start_time": "2024-03-29T05:29:25.483Z"
   },
   {
    "duration": 10,
    "start_time": "2024-03-29T05:29:25.492Z"
   },
   {
    "duration": 9,
    "start_time": "2024-03-29T05:29:25.503Z"
   },
   {
    "duration": 8,
    "start_time": "2024-03-29T05:29:25.513Z"
   },
   {
    "duration": 7,
    "start_time": "2024-03-29T05:29:25.523Z"
   },
   {
    "duration": 5,
    "start_time": "2024-03-29T05:29:25.531Z"
   },
   {
    "duration": 44,
    "start_time": "2024-03-29T05:29:25.538Z"
   },
   {
    "duration": 5,
    "start_time": "2024-03-29T05:29:25.583Z"
   },
   {
    "duration": 10,
    "start_time": "2024-03-29T05:29:25.589Z"
   },
   {
    "duration": 7,
    "start_time": "2024-03-29T05:29:25.600Z"
   },
   {
    "duration": 348,
    "start_time": "2024-03-29T05:34:14.063Z"
   },
   {
    "duration": 209,
    "start_time": "2024-03-29T05:46:49.851Z"
   },
   {
    "duration": 206,
    "start_time": "2024-03-29T06:07:36.925Z"
   },
   {
    "duration": 164,
    "start_time": "2024-03-29T06:09:19.877Z"
   },
   {
    "duration": 146,
    "start_time": "2024-03-29T06:09:34.117Z"
   },
   {
    "duration": 12,
    "start_time": "2024-03-29T06:43:12.032Z"
   },
   {
    "duration": 9,
    "start_time": "2024-03-29T06:43:29.548Z"
   },
   {
    "duration": 51,
    "start_time": "2024-03-29T06:43:33.023Z"
   },
   {
    "duration": 52,
    "start_time": "2024-03-29T06:43:44.904Z"
   },
   {
    "duration": 5,
    "start_time": "2024-03-29T06:45:28.113Z"
   },
   {
    "duration": 5,
    "start_time": "2024-03-29T06:46:45.243Z"
   },
   {
    "duration": 5,
    "start_time": "2024-03-29T06:46:46.774Z"
   },
   {
    "duration": 10,
    "start_time": "2024-03-29T06:48:00.204Z"
   },
   {
    "duration": 51,
    "start_time": "2024-03-29T06:48:40.614Z"
   },
   {
    "duration": 6,
    "start_time": "2024-03-29T06:51:21.850Z"
   },
   {
    "duration": 10,
    "start_time": "2024-03-29T06:51:29.995Z"
   },
   {
    "duration": 1055,
    "start_time": "2024-03-29T06:51:38.283Z"
   },
   {
    "duration": 28,
    "start_time": "2024-03-29T06:51:39.339Z"
   },
   {
    "duration": 3,
    "start_time": "2024-03-29T06:51:39.368Z"
   },
   {
    "duration": 13,
    "start_time": "2024-03-29T06:51:39.372Z"
   },
   {
    "duration": 12,
    "start_time": "2024-03-29T06:51:39.387Z"
   },
   {
    "duration": 5,
    "start_time": "2024-03-29T06:51:39.401Z"
   },
   {
    "duration": 15,
    "start_time": "2024-03-29T06:51:39.408Z"
   },
   {
    "duration": 5,
    "start_time": "2024-03-29T06:51:39.425Z"
   },
   {
    "duration": 46,
    "start_time": "2024-03-29T06:51:39.432Z"
   },
   {
    "duration": 12,
    "start_time": "2024-03-29T06:51:39.481Z"
   },
   {
    "duration": 24,
    "start_time": "2024-03-29T06:51:39.495Z"
   },
   {
    "duration": 6,
    "start_time": "2024-03-29T06:51:39.521Z"
   },
   {
    "duration": 23,
    "start_time": "2024-03-29T06:51:39.528Z"
   },
   {
    "duration": 13,
    "start_time": "2024-03-29T06:51:39.555Z"
   },
   {
    "duration": 15,
    "start_time": "2024-03-29T06:51:39.582Z"
   },
   {
    "duration": 6,
    "start_time": "2024-03-29T06:51:39.599Z"
   },
   {
    "duration": 5,
    "start_time": "2024-03-29T06:51:39.607Z"
   },
   {
    "duration": 195,
    "start_time": "2024-03-29T06:51:39.614Z"
   },
   {
    "duration": 147,
    "start_time": "2024-03-29T06:51:39.811Z"
   },
   {
    "duration": 22,
    "start_time": "2024-03-29T06:51:39.960Z"
   },
   {
    "duration": 6,
    "start_time": "2024-03-29T06:51:39.983Z"
   },
   {
    "duration": 305,
    "start_time": "2024-03-29T06:51:39.990Z"
   },
   {
    "duration": 218,
    "start_time": "2024-03-29T06:51:40.297Z"
   },
   {
    "duration": 10,
    "start_time": "2024-03-29T06:51:40.517Z"
   },
   {
    "duration": 286,
    "start_time": "2024-03-29T06:51:40.528Z"
   },
   {
    "duration": 4,
    "start_time": "2024-03-29T06:51:40.816Z"
   },
   {
    "duration": 17,
    "start_time": "2024-03-29T06:51:40.821Z"
   },
   {
    "duration": 369,
    "start_time": "2024-03-29T06:51:40.839Z"
   },
   {
    "duration": 7,
    "start_time": "2024-03-29T06:51:41.210Z"
   },
   {
    "duration": 304,
    "start_time": "2024-03-29T06:51:41.218Z"
   },
   {
    "duration": 13,
    "start_time": "2024-03-29T06:51:41.523Z"
   },
   {
    "duration": 146,
    "start_time": "2024-03-29T06:51:41.538Z"
   },
   {
    "duration": 4,
    "start_time": "2024-03-29T06:51:41.686Z"
   },
   {
    "duration": 157,
    "start_time": "2024-03-29T06:51:41.692Z"
   },
   {
    "duration": 158,
    "start_time": "2024-03-29T06:51:41.851Z"
   },
   {
    "duration": 5,
    "start_time": "2024-03-29T06:51:42.010Z"
   },
   {
    "duration": 16,
    "start_time": "2024-03-29T06:51:42.016Z"
   },
   {
    "duration": 4,
    "start_time": "2024-03-29T06:51:42.033Z"
   },
   {
    "duration": 10,
    "start_time": "2024-03-29T06:51:42.038Z"
   },
   {
    "duration": 13,
    "start_time": "2024-03-29T06:51:42.049Z"
   },
   {
    "duration": 23,
    "start_time": "2024-03-29T06:51:42.066Z"
   },
   {
    "duration": 119,
    "start_time": "2024-03-29T06:51:42.090Z"
   },
   {
    "duration": 23,
    "start_time": "2024-03-29T06:51:42.211Z"
   },
   {
    "duration": 66,
    "start_time": "2024-03-29T06:51:42.236Z"
   },
   {
    "duration": 111,
    "start_time": "2024-03-29T06:51:42.305Z"
   },
   {
    "duration": 0,
    "start_time": "2024-03-29T06:51:42.418Z"
   },
   {
    "duration": 0,
    "start_time": "2024-03-29T06:51:42.419Z"
   },
   {
    "duration": 0,
    "start_time": "2024-03-29T06:51:42.421Z"
   },
   {
    "duration": 0,
    "start_time": "2024-03-29T06:51:42.422Z"
   },
   {
    "duration": 0,
    "start_time": "2024-03-29T06:51:42.424Z"
   },
   {
    "duration": 0,
    "start_time": "2024-03-29T06:51:42.425Z"
   },
   {
    "duration": 0,
    "start_time": "2024-03-29T06:51:42.427Z"
   },
   {
    "duration": 0,
    "start_time": "2024-03-29T06:51:42.428Z"
   },
   {
    "duration": 0,
    "start_time": "2024-03-29T06:51:42.429Z"
   },
   {
    "duration": 0,
    "start_time": "2024-03-29T06:51:42.431Z"
   },
   {
    "duration": 0,
    "start_time": "2024-03-29T06:51:42.432Z"
   },
   {
    "duration": 0,
    "start_time": "2024-03-29T06:51:42.434Z"
   },
   {
    "duration": 0,
    "start_time": "2024-03-29T06:51:42.435Z"
   },
   {
    "duration": 0,
    "start_time": "2024-03-29T06:51:42.436Z"
   },
   {
    "duration": 0,
    "start_time": "2024-03-29T06:51:42.437Z"
   },
   {
    "duration": 0,
    "start_time": "2024-03-29T06:51:42.439Z"
   },
   {
    "duration": 0,
    "start_time": "2024-03-29T06:51:42.440Z"
   },
   {
    "duration": 5,
    "start_time": "2024-03-29T06:51:59.044Z"
   },
   {
    "duration": 5,
    "start_time": "2024-03-29T06:53:02.158Z"
   },
   {
    "duration": 18,
    "start_time": "2024-03-29T06:53:29.832Z"
   },
   {
    "duration": 14,
    "start_time": "2024-03-29T06:59:26.711Z"
   },
   {
    "duration": 1064,
    "start_time": "2024-03-29T07:00:56.830Z"
   },
   {
    "duration": 27,
    "start_time": "2024-03-29T07:00:57.896Z"
   },
   {
    "duration": 9,
    "start_time": "2024-03-29T07:00:57.925Z"
   },
   {
    "duration": 31,
    "start_time": "2024-03-29T07:00:57.936Z"
   },
   {
    "duration": 18,
    "start_time": "2024-03-29T07:00:57.969Z"
   },
   {
    "duration": 18,
    "start_time": "2024-03-29T07:00:57.989Z"
   },
   {
    "duration": 37,
    "start_time": "2024-03-29T07:00:58.008Z"
   },
   {
    "duration": 14,
    "start_time": "2024-03-29T07:00:58.047Z"
   },
   {
    "duration": 62,
    "start_time": "2024-03-29T07:00:58.062Z"
   },
   {
    "duration": 10,
    "start_time": "2024-03-29T07:00:58.126Z"
   },
   {
    "duration": 37,
    "start_time": "2024-03-29T07:00:58.138Z"
   },
   {
    "duration": 25,
    "start_time": "2024-03-29T07:00:58.177Z"
   },
   {
    "duration": 36,
    "start_time": "2024-03-29T07:00:58.204Z"
   },
   {
    "duration": 10,
    "start_time": "2024-03-29T07:00:58.241Z"
   },
   {
    "duration": 42,
    "start_time": "2024-03-29T07:00:58.252Z"
   },
   {
    "duration": 25,
    "start_time": "2024-03-29T07:00:58.295Z"
   },
   {
    "duration": 27,
    "start_time": "2024-03-29T07:00:58.322Z"
   },
   {
    "duration": 169,
    "start_time": "2024-03-29T07:00:58.351Z"
   },
   {
    "duration": 120,
    "start_time": "2024-03-29T07:00:58.522Z"
   },
   {
    "duration": 11,
    "start_time": "2024-03-29T07:00:58.643Z"
   },
   {
    "duration": 18,
    "start_time": "2024-03-29T07:00:58.656Z"
   },
   {
    "duration": 299,
    "start_time": "2024-03-29T07:00:58.676Z"
   },
   {
    "duration": 224,
    "start_time": "2024-03-29T07:00:58.977Z"
   },
   {
    "duration": 11,
    "start_time": "2024-03-29T07:00:59.203Z"
   },
   {
    "duration": 310,
    "start_time": "2024-03-29T07:00:59.215Z"
   },
   {
    "duration": 3,
    "start_time": "2024-03-29T07:00:59.527Z"
   },
   {
    "duration": 14,
    "start_time": "2024-03-29T07:00:59.532Z"
   },
   {
    "duration": 407,
    "start_time": "2024-03-29T07:00:59.549Z"
   },
   {
    "duration": 8,
    "start_time": "2024-03-29T07:00:59.958Z"
   },
   {
    "duration": 344,
    "start_time": "2024-03-29T07:00:59.967Z"
   },
   {
    "duration": 13,
    "start_time": "2024-03-29T07:01:00.312Z"
   },
   {
    "duration": 176,
    "start_time": "2024-03-29T07:01:00.326Z"
   },
   {
    "duration": 5,
    "start_time": "2024-03-29T07:01:00.504Z"
   },
   {
    "duration": 259,
    "start_time": "2024-03-29T07:01:00.511Z"
   },
   {
    "duration": 169,
    "start_time": "2024-03-29T07:01:00.772Z"
   },
   {
    "duration": 4,
    "start_time": "2024-03-29T07:01:00.943Z"
   },
   {
    "duration": 57,
    "start_time": "2024-03-29T07:01:00.949Z"
   },
   {
    "duration": 87,
    "start_time": "2024-03-29T07:01:01.008Z"
   },
   {
    "duration": 29,
    "start_time": "2024-03-29T07:01:01.097Z"
   },
   {
    "duration": 35,
    "start_time": "2024-03-29T07:01:01.128Z"
   },
   {
    "duration": 34,
    "start_time": "2024-03-29T07:01:01.165Z"
   },
   {
    "duration": 36,
    "start_time": "2024-03-29T07:01:01.201Z"
   },
   {
    "duration": 100,
    "start_time": "2024-03-29T07:01:01.239Z"
   },
   {
    "duration": 26,
    "start_time": "2024-03-29T07:01:01.341Z"
   },
   {
    "duration": 24,
    "start_time": "2024-03-29T07:01:01.369Z"
   },
   {
    "duration": 32,
    "start_time": "2024-03-29T07:01:01.395Z"
   },
   {
    "duration": 41,
    "start_time": "2024-03-29T07:01:01.429Z"
   },
   {
    "duration": 71,
    "start_time": "2024-03-29T07:01:01.472Z"
   },
   {
    "duration": 75,
    "start_time": "2024-03-29T07:01:01.544Z"
   },
   {
    "duration": 5,
    "start_time": "2024-03-29T07:01:01.620Z"
   },
   {
    "duration": 24,
    "start_time": "2024-03-29T07:01:01.626Z"
   },
   {
    "duration": 50,
    "start_time": "2024-03-29T07:01:01.652Z"
   },
   {
    "duration": 9,
    "start_time": "2024-03-29T07:01:01.703Z"
   },
   {
    "duration": 26,
    "start_time": "2024-03-29T07:01:01.713Z"
   },
   {
    "duration": 14,
    "start_time": "2024-03-29T07:01:01.740Z"
   },
   {
    "duration": 30,
    "start_time": "2024-03-29T07:01:01.755Z"
   },
   {
    "duration": 34,
    "start_time": "2024-03-29T07:01:01.786Z"
   },
   {
    "duration": 31,
    "start_time": "2024-03-29T07:01:01.822Z"
   },
   {
    "duration": 51,
    "start_time": "2024-03-29T07:01:01.854Z"
   },
   {
    "duration": 37,
    "start_time": "2024-03-29T07:01:01.907Z"
   },
   {
    "duration": 5,
    "start_time": "2024-03-29T07:01:01.945Z"
   },
   {
    "duration": 34,
    "start_time": "2024-03-29T07:01:01.951Z"
   },
   {
    "duration": 18,
    "start_time": "2024-03-29T07:01:01.987Z"
   },
   {
    "duration": 1100,
    "start_time": "2024-03-29T10:51:47.674Z"
   },
   {
    "duration": 27,
    "start_time": "2024-03-29T10:51:48.776Z"
   },
   {
    "duration": 3,
    "start_time": "2024-03-29T10:51:48.804Z"
   },
   {
    "duration": 13,
    "start_time": "2024-03-29T10:51:48.808Z"
   },
   {
    "duration": 10,
    "start_time": "2024-03-29T10:51:48.823Z"
   },
   {
    "duration": 5,
    "start_time": "2024-03-29T10:51:48.834Z"
   },
   {
    "duration": 21,
    "start_time": "2024-03-29T10:51:48.840Z"
   },
   {
    "duration": 9,
    "start_time": "2024-03-29T10:51:48.862Z"
   },
   {
    "duration": 41,
    "start_time": "2024-03-29T10:51:48.873Z"
   },
   {
    "duration": 9,
    "start_time": "2024-03-29T10:51:48.916Z"
   },
   {
    "duration": 27,
    "start_time": "2024-03-29T10:51:48.927Z"
   },
   {
    "duration": 6,
    "start_time": "2024-03-29T10:51:48.955Z"
   },
   {
    "duration": 19,
    "start_time": "2024-03-29T10:51:48.962Z"
   },
   {
    "duration": 10,
    "start_time": "2024-03-29T10:51:48.982Z"
   },
   {
    "duration": 17,
    "start_time": "2024-03-29T10:51:48.993Z"
   },
   {
    "duration": 10,
    "start_time": "2024-03-29T10:51:49.011Z"
   },
   {
    "duration": 7,
    "start_time": "2024-03-29T10:51:49.022Z"
   },
   {
    "duration": 177,
    "start_time": "2024-03-29T10:51:49.030Z"
   },
   {
    "duration": 126,
    "start_time": "2024-03-29T10:51:49.209Z"
   },
   {
    "duration": 11,
    "start_time": "2024-03-29T10:51:49.336Z"
   },
   {
    "duration": 6,
    "start_time": "2024-03-29T10:51:49.349Z"
   },
   {
    "duration": 312,
    "start_time": "2024-03-29T10:51:49.356Z"
   },
   {
    "duration": 239,
    "start_time": "2024-03-29T10:51:49.670Z"
   },
   {
    "duration": 15,
    "start_time": "2024-03-29T10:51:49.910Z"
   },
   {
    "duration": 311,
    "start_time": "2024-03-29T10:51:49.927Z"
   },
   {
    "duration": 4,
    "start_time": "2024-03-29T10:51:50.239Z"
   },
   {
    "duration": 5,
    "start_time": "2024-03-29T10:51:50.244Z"
   },
   {
    "duration": 395,
    "start_time": "2024-03-29T10:51:50.253Z"
   },
   {
    "duration": 8,
    "start_time": "2024-03-29T10:51:50.650Z"
   },
   {
    "duration": 339,
    "start_time": "2024-03-29T10:51:50.659Z"
   },
   {
    "duration": 13,
    "start_time": "2024-03-29T10:51:50.999Z"
   },
   {
    "duration": 175,
    "start_time": "2024-03-29T10:51:51.013Z"
   },
   {
    "duration": 4,
    "start_time": "2024-03-29T10:51:51.189Z"
   },
   {
    "duration": 155,
    "start_time": "2024-03-29T10:51:51.195Z"
   },
   {
    "duration": 160,
    "start_time": "2024-03-29T10:51:51.351Z"
   },
   {
    "duration": 5,
    "start_time": "2024-03-29T10:51:51.513Z"
   },
   {
    "duration": 16,
    "start_time": "2024-03-29T10:51:51.519Z"
   },
   {
    "duration": 6,
    "start_time": "2024-03-29T10:51:51.536Z"
   },
   {
    "duration": 42,
    "start_time": "2024-03-29T10:51:51.543Z"
   },
   {
    "duration": 16,
    "start_time": "2024-03-29T10:51:51.586Z"
   },
   {
    "duration": 19,
    "start_time": "2024-03-29T10:51:51.603Z"
   },
   {
    "duration": 11,
    "start_time": "2024-03-29T10:51:51.624Z"
   },
   {
    "duration": 8,
    "start_time": "2024-03-29T10:51:51.637Z"
   },
   {
    "duration": 7,
    "start_time": "2024-03-29T10:51:51.646Z"
   },
   {
    "duration": 156,
    "start_time": "2024-03-29T10:51:51.654Z"
   },
   {
    "duration": 10,
    "start_time": "2024-03-29T10:51:51.811Z"
   },
   {
    "duration": 93,
    "start_time": "2024-03-29T10:51:51.823Z"
   },
   {
    "duration": 80,
    "start_time": "2024-03-29T10:51:51.917Z"
   },
   {
    "duration": 4,
    "start_time": "2024-03-29T10:51:51.999Z"
   },
   {
    "duration": 12,
    "start_time": "2024-03-29T10:51:52.004Z"
   },
   {
    "duration": 53,
    "start_time": "2024-03-29T10:51:52.018Z"
   },
   {
    "duration": 4,
    "start_time": "2024-03-29T10:51:52.072Z"
   },
   {
    "duration": 14,
    "start_time": "2024-03-29T10:51:52.077Z"
   },
   {
    "duration": 27,
    "start_time": "2024-03-29T10:51:52.093Z"
   },
   {
    "duration": 14,
    "start_time": "2024-03-29T10:51:52.121Z"
   },
   {
    "duration": 22,
    "start_time": "2024-03-29T10:51:52.136Z"
   },
   {
    "duration": 27,
    "start_time": "2024-03-29T10:51:52.159Z"
   },
   {
    "duration": 6,
    "start_time": "2024-03-29T10:51:52.188Z"
   },
   {
    "duration": 56,
    "start_time": "2024-03-29T10:51:52.195Z"
   },
   {
    "duration": 5,
    "start_time": "2024-03-29T10:51:52.252Z"
   },
   {
    "duration": 40,
    "start_time": "2024-03-29T10:51:52.258Z"
   },
   {
    "duration": 10,
    "start_time": "2024-03-29T10:51:52.299Z"
   },
   {
    "duration": 49,
    "start_time": "2024-03-30T09:35:42.370Z"
   },
   {
    "duration": 1346,
    "start_time": "2024-03-30T09:35:49.226Z"
   },
   {
    "duration": 80,
    "start_time": "2024-03-30T09:35:50.574Z"
   },
   {
    "duration": 2,
    "start_time": "2024-03-30T09:35:50.656Z"
   },
   {
    "duration": 17,
    "start_time": "2024-03-30T09:35:50.660Z"
   },
   {
    "duration": 13,
    "start_time": "2024-03-30T09:35:50.678Z"
   },
   {
    "duration": 4,
    "start_time": "2024-03-30T09:35:50.692Z"
   },
   {
    "duration": 11,
    "start_time": "2024-03-30T09:35:50.698Z"
   },
   {
    "duration": 4,
    "start_time": "2024-03-30T09:35:50.711Z"
   },
   {
    "duration": 89,
    "start_time": "2024-03-30T09:35:50.716Z"
   },
   {
    "duration": 10,
    "start_time": "2024-03-30T09:35:50.807Z"
   },
   {
    "duration": 42,
    "start_time": "2024-03-30T09:35:50.818Z"
   },
   {
    "duration": 18,
    "start_time": "2024-03-30T09:35:50.861Z"
   },
   {
    "duration": 68,
    "start_time": "2024-03-30T09:35:50.881Z"
   },
   {
    "duration": 9,
    "start_time": "2024-03-30T09:35:50.951Z"
   },
   {
    "duration": 25,
    "start_time": "2024-03-30T09:35:50.961Z"
   },
   {
    "duration": 20,
    "start_time": "2024-03-30T09:35:50.988Z"
   },
   {
    "duration": 5,
    "start_time": "2024-03-30T09:35:51.009Z"
   },
   {
    "duration": 241,
    "start_time": "2024-03-30T09:35:51.016Z"
   },
   {
    "duration": 135,
    "start_time": "2024-03-30T09:35:51.258Z"
   },
   {
    "duration": 12,
    "start_time": "2024-03-30T09:35:51.395Z"
   },
   {
    "duration": 9,
    "start_time": "2024-03-30T09:35:51.408Z"
   },
   {
    "duration": 325,
    "start_time": "2024-03-30T09:35:51.418Z"
   },
   {
    "duration": 231,
    "start_time": "2024-03-30T09:35:51.745Z"
   },
   {
    "duration": 11,
    "start_time": "2024-03-30T09:35:51.977Z"
   },
   {
    "duration": 354,
    "start_time": "2024-03-30T09:35:51.990Z"
   },
   {
    "duration": 4,
    "start_time": "2024-03-30T09:35:52.345Z"
   },
   {
    "duration": 6,
    "start_time": "2024-03-30T09:35:52.350Z"
   },
   {
    "duration": 392,
    "start_time": "2024-03-30T09:35:52.369Z"
   },
   {
    "duration": 7,
    "start_time": "2024-03-30T09:35:52.762Z"
   },
   {
    "duration": 330,
    "start_time": "2024-03-30T09:35:52.770Z"
   },
   {
    "duration": 13,
    "start_time": "2024-03-30T09:35:53.101Z"
   },
   {
    "duration": 155,
    "start_time": "2024-03-30T09:35:53.115Z"
   },
   {
    "duration": 5,
    "start_time": "2024-03-30T09:35:53.271Z"
   },
   {
    "duration": 165,
    "start_time": "2024-03-30T09:35:53.277Z"
   },
   {
    "duration": 232,
    "start_time": "2024-03-30T09:35:53.444Z"
   },
   {
    "duration": 4,
    "start_time": "2024-03-30T09:35:53.678Z"
   },
   {
    "duration": 5,
    "start_time": "2024-03-30T09:35:53.683Z"
   },
   {
    "duration": 5,
    "start_time": "2024-03-30T09:35:53.689Z"
   },
   {
    "duration": 7,
    "start_time": "2024-03-30T09:35:53.695Z"
   },
   {
    "duration": 4,
    "start_time": "2024-03-30T09:35:53.703Z"
   },
   {
    "duration": 14,
    "start_time": "2024-03-30T09:35:53.709Z"
   },
   {
    "duration": 44,
    "start_time": "2024-03-30T09:35:53.725Z"
   },
   {
    "duration": 6,
    "start_time": "2024-03-30T09:35:53.771Z"
   },
   {
    "duration": 7,
    "start_time": "2024-03-30T09:35:53.778Z"
   },
   {
    "duration": 24,
    "start_time": "2024-03-30T09:35:53.786Z"
   },
   {
    "duration": 10,
    "start_time": "2024-03-30T09:35:53.811Z"
   },
   {
    "duration": 76,
    "start_time": "2024-03-30T09:35:53.822Z"
   },
   {
    "duration": 86,
    "start_time": "2024-03-30T09:35:53.900Z"
   },
   {
    "duration": 4,
    "start_time": "2024-03-30T09:35:53.988Z"
   },
   {
    "duration": 12,
    "start_time": "2024-03-30T09:35:53.993Z"
   },
   {
    "duration": 25,
    "start_time": "2024-03-30T09:35:54.006Z"
   },
   {
    "duration": 4,
    "start_time": "2024-03-30T09:35:54.032Z"
   },
   {
    "duration": 10,
    "start_time": "2024-03-30T09:35:54.037Z"
   },
   {
    "duration": 24,
    "start_time": "2024-03-30T09:35:54.048Z"
   },
   {
    "duration": 5,
    "start_time": "2024-03-30T09:35:54.073Z"
   },
   {
    "duration": 7,
    "start_time": "2024-03-30T09:35:54.080Z"
   },
   {
    "duration": 13,
    "start_time": "2024-03-30T09:35:54.089Z"
   },
   {
    "duration": 5,
    "start_time": "2024-03-30T09:35:54.103Z"
   },
   {
    "duration": 37,
    "start_time": "2024-03-30T09:35:54.110Z"
   },
   {
    "duration": 5,
    "start_time": "2024-03-30T09:35:54.149Z"
   },
   {
    "duration": 17,
    "start_time": "2024-03-30T09:35:54.156Z"
   },
   {
    "duration": 10,
    "start_time": "2024-03-30T09:35:54.175Z"
   },
   {
    "duration": 9,
    "start_time": "2024-03-30T09:41:40.211Z"
   },
   {
    "duration": 11,
    "start_time": "2024-03-30T09:42:26.953Z"
   },
   {
    "duration": 10,
    "start_time": "2024-03-30T09:42:36.372Z"
   },
   {
    "duration": 1090,
    "start_time": "2024-03-30T09:42:48.422Z"
   },
   {
    "duration": 27,
    "start_time": "2024-03-30T09:42:49.514Z"
   },
   {
    "duration": 3,
    "start_time": "2024-03-30T09:42:49.542Z"
   },
   {
    "duration": 12,
    "start_time": "2024-03-30T09:42:49.547Z"
   },
   {
    "duration": 18,
    "start_time": "2024-03-30T09:42:49.561Z"
   },
   {
    "duration": 5,
    "start_time": "2024-03-30T09:42:49.580Z"
   },
   {
    "duration": 11,
    "start_time": "2024-03-30T09:42:49.587Z"
   },
   {
    "duration": 21,
    "start_time": "2024-03-30T09:42:49.600Z"
   },
   {
    "duration": 12,
    "start_time": "2024-03-30T09:42:49.623Z"
   },
   {
    "duration": 42,
    "start_time": "2024-03-30T09:42:49.638Z"
   },
   {
    "duration": 11,
    "start_time": "2024-03-30T09:42:49.681Z"
   },
   {
    "duration": 22,
    "start_time": "2024-03-30T09:42:49.693Z"
   },
   {
    "duration": 10,
    "start_time": "2024-03-30T09:42:49.717Z"
   },
   {
    "duration": 22,
    "start_time": "2024-03-30T09:42:49.728Z"
   },
   {
    "duration": 10,
    "start_time": "2024-03-30T09:42:49.752Z"
   },
   {
    "duration": 11,
    "start_time": "2024-03-30T09:42:49.769Z"
   },
   {
    "duration": 7,
    "start_time": "2024-03-30T09:42:49.781Z"
   },
   {
    "duration": 6,
    "start_time": "2024-03-30T09:42:49.789Z"
   },
   {
    "duration": 203,
    "start_time": "2024-03-30T09:42:49.796Z"
   },
   {
    "duration": 136,
    "start_time": "2024-03-30T09:42:50.001Z"
   },
   {
    "duration": 19,
    "start_time": "2024-03-30T09:42:50.139Z"
   },
   {
    "duration": 13,
    "start_time": "2024-03-30T09:42:50.160Z"
   },
   {
    "duration": 336,
    "start_time": "2024-03-30T09:42:50.175Z"
   },
   {
    "duration": 219,
    "start_time": "2024-03-30T09:42:50.513Z"
   },
   {
    "duration": 10,
    "start_time": "2024-03-30T09:42:50.734Z"
   },
   {
    "duration": 354,
    "start_time": "2024-03-30T09:42:50.746Z"
   },
   {
    "duration": 4,
    "start_time": "2024-03-30T09:42:51.102Z"
   },
   {
    "duration": 22,
    "start_time": "2024-03-30T09:42:51.109Z"
   },
   {
    "duration": 397,
    "start_time": "2024-03-30T09:42:51.132Z"
   },
   {
    "duration": 8,
    "start_time": "2024-03-30T09:42:51.530Z"
   },
   {
    "duration": 365,
    "start_time": "2024-03-30T09:42:51.539Z"
   },
   {
    "duration": 13,
    "start_time": "2024-03-30T09:42:51.905Z"
   },
   {
    "duration": 165,
    "start_time": "2024-03-30T09:42:51.920Z"
   },
   {
    "duration": 4,
    "start_time": "2024-03-30T09:42:52.087Z"
   },
   {
    "duration": 174,
    "start_time": "2024-03-30T09:42:52.093Z"
   },
   {
    "duration": 158,
    "start_time": "2024-03-30T09:42:52.270Z"
   },
   {
    "duration": 5,
    "start_time": "2024-03-30T09:42:52.429Z"
   },
   {
    "duration": 28,
    "start_time": "2024-03-30T09:42:52.435Z"
   },
   {
    "duration": 14,
    "start_time": "2024-03-30T09:42:52.465Z"
   },
   {
    "duration": 23,
    "start_time": "2024-03-30T09:42:52.480Z"
   },
   {
    "duration": 20,
    "start_time": "2024-03-30T09:42:52.504Z"
   },
   {
    "duration": 31,
    "start_time": "2024-03-30T09:42:52.526Z"
   },
   {
    "duration": 33,
    "start_time": "2024-03-30T09:42:52.559Z"
   },
   {
    "duration": 28,
    "start_time": "2024-03-30T09:42:52.594Z"
   },
   {
    "duration": 26,
    "start_time": "2024-03-30T09:42:52.624Z"
   },
   {
    "duration": 85,
    "start_time": "2024-03-30T09:42:52.652Z"
   },
   {
    "duration": 14,
    "start_time": "2024-03-30T09:42:52.739Z"
   },
   {
    "duration": 81,
    "start_time": "2024-03-30T09:42:52.754Z"
   },
   {
    "duration": 74,
    "start_time": "2024-03-30T09:42:52.837Z"
   },
   {
    "duration": 5,
    "start_time": "2024-03-30T09:42:52.913Z"
   },
   {
    "duration": 22,
    "start_time": "2024-03-30T09:42:52.920Z"
   },
   {
    "duration": 40,
    "start_time": "2024-03-30T09:42:52.943Z"
   },
   {
    "duration": 5,
    "start_time": "2024-03-30T09:42:52.985Z"
   },
   {
    "duration": 30,
    "start_time": "2024-03-30T09:42:52.992Z"
   },
   {
    "duration": 15,
    "start_time": "2024-03-30T09:42:53.023Z"
   },
   {
    "duration": 19,
    "start_time": "2024-03-30T09:42:53.040Z"
   },
   {
    "duration": 17,
    "start_time": "2024-03-30T09:42:53.060Z"
   },
   {
    "duration": 14,
    "start_time": "2024-03-30T09:42:53.079Z"
   },
   {
    "duration": 14,
    "start_time": "2024-03-30T09:42:53.095Z"
   },
   {
    "duration": 25,
    "start_time": "2024-03-30T09:42:53.110Z"
   },
   {
    "duration": 5,
    "start_time": "2024-03-30T09:42:53.137Z"
   },
   {
    "duration": 11,
    "start_time": "2024-03-30T09:42:53.144Z"
   },
   {
    "duration": 13,
    "start_time": "2024-03-30T09:42:53.157Z"
   },
   {
    "duration": 98,
    "start_time": "2024-03-30T09:43:20.733Z"
   },
   {
    "duration": 9,
    "start_time": "2024-03-30T09:43:45.332Z"
   },
   {
    "duration": 10,
    "start_time": "2024-03-30T09:44:36.582Z"
   },
   {
    "duration": 11,
    "start_time": "2024-03-30T09:45:11.492Z"
   },
   {
    "duration": 10,
    "start_time": "2024-03-30T09:45:50.226Z"
   },
   {
    "duration": 9,
    "start_time": "2024-03-30T09:45:57.501Z"
   },
   {
    "duration": 10,
    "start_time": "2024-03-30T09:46:43.553Z"
   },
   {
    "duration": 11,
    "start_time": "2024-03-30T09:47:39.922Z"
   },
   {
    "duration": 10,
    "start_time": "2024-03-30T10:01:38.670Z"
   },
   {
    "duration": 16,
    "start_time": "2024-03-30T10:01:50.789Z"
   },
   {
    "duration": 16,
    "start_time": "2024-03-30T10:04:31.901Z"
   },
   {
    "duration": 4,
    "start_time": "2024-03-30T10:15:59.021Z"
   },
   {
    "duration": 31,
    "start_time": "2024-03-30T10:16:51.660Z"
   },
   {
    "duration": 5,
    "start_time": "2024-03-30T10:16:59.917Z"
   },
   {
    "duration": 13,
    "start_time": "2024-03-30T10:17:12.953Z"
   },
   {
    "duration": 3,
    "start_time": "2024-03-30T10:17:50.677Z"
   },
   {
    "duration": 8,
    "start_time": "2024-03-30T10:19:12.771Z"
   },
   {
    "duration": 18,
    "start_time": "2024-03-30T10:19:19.661Z"
   },
   {
    "duration": 4,
    "start_time": "2024-03-30T10:20:24.079Z"
   },
   {
    "duration": 25,
    "start_time": "2024-03-30T10:23:46.641Z"
   },
   {
    "duration": 27,
    "start_time": "2024-03-30T10:24:26.110Z"
   },
   {
    "duration": 14,
    "start_time": "2024-03-30T10:25:05.669Z"
   },
   {
    "duration": 11,
    "start_time": "2024-03-30T10:25:27.871Z"
   },
   {
    "duration": 1188,
    "start_time": "2024-03-30T10:26:46.638Z"
   },
   {
    "duration": 27,
    "start_time": "2024-03-30T10:26:47.828Z"
   },
   {
    "duration": 3,
    "start_time": "2024-03-30T10:26:47.856Z"
   },
   {
    "duration": 27,
    "start_time": "2024-03-30T10:26:47.860Z"
   },
   {
    "duration": 33,
    "start_time": "2024-03-30T10:26:47.889Z"
   },
   {
    "duration": 5,
    "start_time": "2024-03-30T10:26:47.924Z"
   },
   {
    "duration": 13,
    "start_time": "2024-03-30T10:26:47.930Z"
   },
   {
    "duration": 6,
    "start_time": "2024-03-30T10:26:47.944Z"
   },
   {
    "duration": 14,
    "start_time": "2024-03-30T10:26:47.951Z"
   },
   {
    "duration": 48,
    "start_time": "2024-03-30T10:26:47.966Z"
   },
   {
    "duration": 10,
    "start_time": "2024-03-30T10:26:48.016Z"
   },
   {
    "duration": 21,
    "start_time": "2024-03-30T10:26:48.028Z"
   },
   {
    "duration": 6,
    "start_time": "2024-03-30T10:26:48.050Z"
   },
   {
    "duration": 19,
    "start_time": "2024-03-30T10:26:48.059Z"
   },
   {
    "duration": 9,
    "start_time": "2024-03-30T10:26:48.079Z"
   },
   {
    "duration": 12,
    "start_time": "2024-03-30T10:26:48.089Z"
   },
   {
    "duration": 7,
    "start_time": "2024-03-30T10:26:48.102Z"
   },
   {
    "duration": 13,
    "start_time": "2024-03-30T10:26:48.110Z"
   },
   {
    "duration": 2,
    "start_time": "2024-03-30T10:26:48.125Z"
   },
   {
    "duration": 41,
    "start_time": "2024-03-30T10:26:48.128Z"
   },
   {
    "duration": 6,
    "start_time": "2024-03-30T10:26:48.171Z"
   },
   {
    "duration": 179,
    "start_time": "2024-03-30T10:26:48.178Z"
   },
   {
    "duration": 137,
    "start_time": "2024-03-30T10:26:48.359Z"
   },
   {
    "duration": 12,
    "start_time": "2024-03-30T10:26:48.497Z"
   },
   {
    "duration": 6,
    "start_time": "2024-03-30T10:26:48.510Z"
   },
   {
    "duration": 334,
    "start_time": "2024-03-30T10:26:48.517Z"
   },
   {
    "duration": 228,
    "start_time": "2024-03-30T10:26:48.852Z"
   },
   {
    "duration": 11,
    "start_time": "2024-03-30T10:26:49.082Z"
   },
   {
    "duration": 299,
    "start_time": "2024-03-30T10:26:49.094Z"
   },
   {
    "duration": 4,
    "start_time": "2024-03-30T10:26:49.394Z"
   },
   {
    "duration": 9,
    "start_time": "2024-03-30T10:26:49.399Z"
   },
   {
    "duration": 326,
    "start_time": "2024-03-30T10:26:49.410Z"
   },
   {
    "duration": 7,
    "start_time": "2024-03-30T10:26:49.738Z"
   },
   {
    "duration": 348,
    "start_time": "2024-03-30T10:26:49.747Z"
   },
   {
    "duration": 13,
    "start_time": "2024-03-30T10:26:50.097Z"
   },
   {
    "duration": 174,
    "start_time": "2024-03-30T10:26:50.111Z"
   },
   {
    "duration": 5,
    "start_time": "2024-03-30T10:26:50.287Z"
   },
   {
    "duration": 168,
    "start_time": "2024-03-30T10:26:50.294Z"
   },
   {
    "duration": 157,
    "start_time": "2024-03-30T10:26:50.469Z"
   },
   {
    "duration": 5,
    "start_time": "2024-03-30T10:26:50.628Z"
   },
   {
    "duration": 29,
    "start_time": "2024-03-30T10:26:50.637Z"
   },
   {
    "duration": 18,
    "start_time": "2024-03-30T10:26:50.668Z"
   },
   {
    "duration": 16,
    "start_time": "2024-03-30T10:26:50.688Z"
   },
   {
    "duration": 10,
    "start_time": "2024-03-30T10:26:50.705Z"
   },
   {
    "duration": 14,
    "start_time": "2024-03-30T10:26:50.716Z"
   },
   {
    "duration": 15,
    "start_time": "2024-03-30T10:26:50.731Z"
   },
   {
    "duration": 17,
    "start_time": "2024-03-30T10:26:50.748Z"
   },
   {
    "duration": 21,
    "start_time": "2024-03-30T10:26:50.766Z"
   },
   {
    "duration": 86,
    "start_time": "2024-03-30T10:26:50.788Z"
   },
   {
    "duration": 16,
    "start_time": "2024-03-30T10:26:50.875Z"
   },
   {
    "duration": 70,
    "start_time": "2024-03-30T10:26:50.892Z"
   },
   {
    "duration": 71,
    "start_time": "2024-03-30T10:26:50.963Z"
   },
   {
    "duration": 4,
    "start_time": "2024-03-30T10:26:51.036Z"
   },
   {
    "duration": 10,
    "start_time": "2024-03-30T10:26:51.041Z"
   },
   {
    "duration": 36,
    "start_time": "2024-03-30T10:26:51.052Z"
   },
   {
    "duration": 4,
    "start_time": "2024-03-30T10:26:51.090Z"
   },
   {
    "duration": 8,
    "start_time": "2024-03-30T10:26:51.095Z"
   },
   {
    "duration": 6,
    "start_time": "2024-03-30T10:26:51.104Z"
   },
   {
    "duration": 6,
    "start_time": "2024-03-30T10:26:51.112Z"
   },
   {
    "duration": 9,
    "start_time": "2024-03-30T10:26:51.120Z"
   },
   {
    "duration": 13,
    "start_time": "2024-03-30T10:26:51.130Z"
   },
   {
    "duration": 26,
    "start_time": "2024-03-30T10:26:51.144Z"
   },
   {
    "duration": 24,
    "start_time": "2024-03-30T10:26:51.172Z"
   },
   {
    "duration": 3,
    "start_time": "2024-03-30T10:26:51.198Z"
   },
   {
    "duration": 12,
    "start_time": "2024-03-30T10:26:51.203Z"
   },
   {
    "duration": 13,
    "start_time": "2024-03-30T10:26:51.216Z"
   },
   {
    "duration": 348,
    "start_time": "2024-03-30T10:30:33.751Z"
   },
   {
    "duration": 287,
    "start_time": "2024-03-30T10:30:41.407Z"
   },
   {
    "duration": 3,
    "start_time": "2024-03-30T10:59:40.200Z"
   },
   {
    "duration": 5,
    "start_time": "2024-03-30T10:59:48.137Z"
   },
   {
    "duration": 3,
    "start_time": "2024-03-30T10:59:54.531Z"
   },
   {
    "duration": 4,
    "start_time": "2024-03-30T11:00:34.508Z"
   },
   {
    "duration": 7,
    "start_time": "2024-03-30T11:01:04.138Z"
   },
   {
    "duration": 3,
    "start_time": "2024-03-30T11:01:40.156Z"
   },
   {
    "duration": 5,
    "start_time": "2024-03-30T11:01:50.044Z"
   },
   {
    "duration": 1153,
    "start_time": "2024-03-30T11:49:09.970Z"
   },
   {
    "duration": 27,
    "start_time": "2024-03-30T11:49:11.125Z"
   },
   {
    "duration": 4,
    "start_time": "2024-03-30T11:49:11.153Z"
   },
   {
    "duration": 17,
    "start_time": "2024-03-30T11:49:11.158Z"
   },
   {
    "duration": 25,
    "start_time": "2024-03-30T11:49:11.177Z"
   },
   {
    "duration": 4,
    "start_time": "2024-03-30T11:49:11.203Z"
   },
   {
    "duration": 12,
    "start_time": "2024-03-30T11:49:11.208Z"
   },
   {
    "duration": 5,
    "start_time": "2024-03-30T11:49:11.221Z"
   },
   {
    "duration": 13,
    "start_time": "2024-03-30T11:49:11.227Z"
   },
   {
    "duration": 44,
    "start_time": "2024-03-30T11:49:11.241Z"
   },
   {
    "duration": 11,
    "start_time": "2024-03-30T11:49:11.286Z"
   },
   {
    "duration": 22,
    "start_time": "2024-03-30T11:49:11.298Z"
   },
   {
    "duration": 12,
    "start_time": "2024-03-30T11:49:11.321Z"
   },
   {
    "duration": 26,
    "start_time": "2024-03-30T11:49:11.336Z"
   },
   {
    "duration": 10,
    "start_time": "2024-03-30T11:49:11.364Z"
   },
   {
    "duration": 15,
    "start_time": "2024-03-30T11:49:11.375Z"
   },
   {
    "duration": 9,
    "start_time": "2024-03-30T11:49:11.392Z"
   },
   {
    "duration": 12,
    "start_time": "2024-03-30T11:49:11.402Z"
   },
   {
    "duration": 2,
    "start_time": "2024-03-30T11:49:11.416Z"
   },
   {
    "duration": 12,
    "start_time": "2024-03-30T11:49:11.419Z"
   },
   {
    "duration": 4,
    "start_time": "2024-03-30T11:49:11.433Z"
   },
   {
    "duration": 191,
    "start_time": "2024-03-30T11:49:11.439Z"
   },
   {
    "duration": 128,
    "start_time": "2024-03-30T11:49:11.631Z"
   },
   {
    "duration": 17,
    "start_time": "2024-03-30T11:49:11.761Z"
   },
   {
    "duration": 7,
    "start_time": "2024-03-30T11:49:11.779Z"
   },
   {
    "duration": 329,
    "start_time": "2024-03-30T11:49:11.788Z"
   },
   {
    "duration": 218,
    "start_time": "2024-03-30T11:49:12.119Z"
   },
   {
    "duration": 11,
    "start_time": "2024-03-30T11:49:12.338Z"
   },
   {
    "duration": 322,
    "start_time": "2024-03-30T11:49:12.350Z"
   },
   {
    "duration": 4,
    "start_time": "2024-03-30T11:49:12.674Z"
   },
   {
    "duration": 6,
    "start_time": "2024-03-30T11:49:12.679Z"
   },
   {
    "duration": 352,
    "start_time": "2024-03-30T11:49:12.687Z"
   },
   {
    "duration": 7,
    "start_time": "2024-03-30T11:49:13.041Z"
   },
   {
    "duration": 358,
    "start_time": "2024-03-30T11:49:13.049Z"
   },
   {
    "duration": 15,
    "start_time": "2024-03-30T11:49:13.409Z"
   },
   {
    "duration": 174,
    "start_time": "2024-03-30T11:49:13.425Z"
   },
   {
    "duration": 4,
    "start_time": "2024-03-30T11:49:13.601Z"
   },
   {
    "duration": 4,
    "start_time": "2024-03-30T11:49:13.607Z"
   },
   {
    "duration": 161,
    "start_time": "2024-03-30T11:49:13.613Z"
   },
   {
    "duration": 152,
    "start_time": "2024-03-30T11:49:13.776Z"
   },
   {
    "duration": 5,
    "start_time": "2024-03-30T11:49:13.932Z"
   },
   {
    "duration": 8,
    "start_time": "2024-03-30T11:49:13.938Z"
   },
   {
    "duration": 9,
    "start_time": "2024-03-30T11:49:13.947Z"
   },
   {
    "duration": 17,
    "start_time": "2024-03-30T11:49:13.958Z"
   },
   {
    "duration": 11,
    "start_time": "2024-03-30T11:49:13.976Z"
   },
   {
    "duration": 7,
    "start_time": "2024-03-30T11:49:13.988Z"
   },
   {
    "duration": 27,
    "start_time": "2024-03-30T11:49:13.996Z"
   },
   {
    "duration": 14,
    "start_time": "2024-03-30T11:49:14.024Z"
   },
   {
    "duration": 4,
    "start_time": "2024-03-30T11:49:14.040Z"
   },
   {
    "duration": 7,
    "start_time": "2024-03-30T11:49:14.045Z"
   },
   {
    "duration": 94,
    "start_time": "2024-03-30T11:49:14.054Z"
   },
   {
    "duration": 10,
    "start_time": "2024-03-30T11:49:14.149Z"
   },
   {
    "duration": 63,
    "start_time": "2024-03-30T11:49:14.169Z"
   },
   {
    "duration": 90,
    "start_time": "2024-03-30T11:49:14.233Z"
   },
   {
    "duration": 4,
    "start_time": "2024-03-30T11:49:14.325Z"
   },
   {
    "duration": 11,
    "start_time": "2024-03-30T11:49:14.330Z"
   },
   {
    "duration": 36,
    "start_time": "2024-03-30T11:49:14.343Z"
   },
   {
    "duration": 4,
    "start_time": "2024-03-30T11:49:14.381Z"
   },
   {
    "duration": 10,
    "start_time": "2024-03-30T11:49:14.386Z"
   },
   {
    "duration": 11,
    "start_time": "2024-03-30T11:49:14.398Z"
   },
   {
    "duration": 6,
    "start_time": "2024-03-30T11:49:14.411Z"
   },
   {
    "duration": 9,
    "start_time": "2024-03-30T11:49:14.418Z"
   },
   {
    "duration": 9,
    "start_time": "2024-03-30T11:49:14.428Z"
   },
   {
    "duration": 23,
    "start_time": "2024-03-30T11:49:14.439Z"
   },
   {
    "duration": 35,
    "start_time": "2024-03-30T11:49:14.463Z"
   },
   {
    "duration": 4,
    "start_time": "2024-03-30T11:49:14.500Z"
   },
   {
    "duration": 11,
    "start_time": "2024-03-30T11:49:14.505Z"
   },
   {
    "duration": 19,
    "start_time": "2024-03-30T11:49:14.517Z"
   },
   {
    "duration": 1172,
    "start_time": "2024-03-30T11:54:04.961Z"
   },
   {
    "duration": 29,
    "start_time": "2024-03-30T11:54:06.135Z"
   },
   {
    "duration": 3,
    "start_time": "2024-03-30T11:54:06.166Z"
   },
   {
    "duration": 27,
    "start_time": "2024-03-30T11:54:06.171Z"
   },
   {
    "duration": 12,
    "start_time": "2024-03-30T11:54:06.200Z"
   },
   {
    "duration": 5,
    "start_time": "2024-03-30T11:54:06.214Z"
   },
   {
    "duration": 12,
    "start_time": "2024-03-30T11:54:06.221Z"
   },
   {
    "duration": 5,
    "start_time": "2024-03-30T11:54:06.234Z"
   },
   {
    "duration": 31,
    "start_time": "2024-03-30T11:54:06.240Z"
   },
   {
    "duration": 55,
    "start_time": "2024-03-30T11:54:06.274Z"
   },
   {
    "duration": 11,
    "start_time": "2024-03-30T11:54:06.331Z"
   },
   {
    "duration": 21,
    "start_time": "2024-03-30T11:54:06.344Z"
   },
   {
    "duration": 9,
    "start_time": "2024-03-30T11:54:06.367Z"
   },
   {
    "duration": 25,
    "start_time": "2024-03-30T11:54:06.377Z"
   },
   {
    "duration": 11,
    "start_time": "2024-03-30T11:54:06.405Z"
   },
   {
    "duration": 15,
    "start_time": "2024-03-30T11:54:06.418Z"
   },
   {
    "duration": 7,
    "start_time": "2024-03-30T11:54:06.434Z"
   },
   {
    "duration": 21,
    "start_time": "2024-03-30T11:54:06.443Z"
   },
   {
    "duration": 3,
    "start_time": "2024-03-30T11:54:06.470Z"
   },
   {
    "duration": 14,
    "start_time": "2024-03-30T11:54:06.475Z"
   },
   {
    "duration": 5,
    "start_time": "2024-03-30T11:54:06.490Z"
   },
   {
    "duration": 178,
    "start_time": "2024-03-30T11:54:06.497Z"
   },
   {
    "duration": 127,
    "start_time": "2024-03-30T11:54:06.676Z"
   },
   {
    "duration": 13,
    "start_time": "2024-03-30T11:54:06.804Z"
   },
   {
    "duration": 9,
    "start_time": "2024-03-30T11:54:06.818Z"
   },
   {
    "duration": 314,
    "start_time": "2024-03-30T11:54:06.828Z"
   },
   {
    "duration": 226,
    "start_time": "2024-03-30T11:54:07.143Z"
   },
   {
    "duration": 11,
    "start_time": "2024-03-30T11:54:07.373Z"
   },
   {
    "duration": 316,
    "start_time": "2024-03-30T11:54:07.385Z"
   },
   {
    "duration": 3,
    "start_time": "2024-03-30T11:54:07.703Z"
   },
   {
    "duration": 8,
    "start_time": "2024-03-30T11:54:07.708Z"
   },
   {
    "duration": 329,
    "start_time": "2024-03-30T11:54:07.717Z"
   },
   {
    "duration": 8,
    "start_time": "2024-03-30T11:54:08.048Z"
   },
   {
    "duration": 329,
    "start_time": "2024-03-30T11:54:08.057Z"
   },
   {
    "duration": 14,
    "start_time": "2024-03-30T11:54:08.387Z"
   },
   {
    "duration": 187,
    "start_time": "2024-03-30T11:54:08.403Z"
   },
   {
    "duration": 6,
    "start_time": "2024-03-30T11:54:08.592Z"
   },
   {
    "duration": 6,
    "start_time": "2024-03-30T11:54:08.600Z"
   },
   {
    "duration": 177,
    "start_time": "2024-03-30T11:54:08.607Z"
   },
   {
    "duration": 157,
    "start_time": "2024-03-30T11:54:08.785Z"
   },
   {
    "duration": 5,
    "start_time": "2024-03-30T11:54:08.944Z"
   },
   {
    "duration": 5,
    "start_time": "2024-03-30T11:54:08.950Z"
   },
   {
    "duration": 13,
    "start_time": "2024-03-30T11:54:08.957Z"
   },
   {
    "duration": 5,
    "start_time": "2024-03-30T11:54:08.972Z"
   },
   {
    "duration": 73,
    "start_time": "2024-03-30T11:54:08.979Z"
   },
   {
    "duration": 68,
    "start_time": "2024-03-30T11:54:09.053Z"
   },
   {
    "duration": 4,
    "start_time": "2024-03-30T11:54:09.123Z"
   },
   {
    "duration": 14,
    "start_time": "2024-03-30T11:54:09.128Z"
   },
   {
    "duration": 36,
    "start_time": "2024-03-30T11:54:09.143Z"
   },
   {
    "duration": 69,
    "start_time": "2024-03-30T11:54:09.180Z"
   },
   {
    "duration": 23,
    "start_time": "2024-03-30T11:54:09.250Z"
   },
   {
    "duration": 12,
    "start_time": "2024-03-30T11:54:09.274Z"
   },
   {
    "duration": 6,
    "start_time": "2024-03-30T11:54:09.288Z"
   },
   {
    "duration": 13,
    "start_time": "2024-03-30T11:54:09.296Z"
   },
   {
    "duration": 13,
    "start_time": "2024-03-30T11:54:09.311Z"
   },
   {
    "duration": 13,
    "start_time": "2024-03-30T11:54:09.325Z"
   },
   {
    "duration": 38,
    "start_time": "2024-03-30T11:54:09.340Z"
   },
   {
    "duration": 4,
    "start_time": "2024-03-30T11:54:09.379Z"
   },
   {
    "duration": 14,
    "start_time": "2024-03-30T11:54:09.385Z"
   },
   {
    "duration": 7,
    "start_time": "2024-03-30T11:54:09.400Z"
   },
   {
    "duration": 1114,
    "start_time": "2024-03-30T11:58:12.617Z"
   },
   {
    "duration": 28,
    "start_time": "2024-03-30T11:58:13.733Z"
   },
   {
    "duration": 4,
    "start_time": "2024-03-30T11:58:13.762Z"
   },
   {
    "duration": 13,
    "start_time": "2024-03-30T11:58:13.767Z"
   },
   {
    "duration": 12,
    "start_time": "2024-03-30T11:58:13.782Z"
   },
   {
    "duration": 5,
    "start_time": "2024-03-30T11:58:13.796Z"
   },
   {
    "duration": 12,
    "start_time": "2024-03-30T11:58:13.803Z"
   },
   {
    "duration": 5,
    "start_time": "2024-03-30T11:58:13.816Z"
   },
   {
    "duration": 12,
    "start_time": "2024-03-30T11:58:13.822Z"
   },
   {
    "duration": 75,
    "start_time": "2024-03-30T11:58:13.835Z"
   },
   {
    "duration": 11,
    "start_time": "2024-03-30T11:58:13.912Z"
   },
   {
    "duration": 22,
    "start_time": "2024-03-30T11:58:13.924Z"
   },
   {
    "duration": 12,
    "start_time": "2024-03-30T11:58:13.947Z"
   },
   {
    "duration": 20,
    "start_time": "2024-03-30T11:58:13.962Z"
   },
   {
    "duration": 10,
    "start_time": "2024-03-30T11:58:13.983Z"
   },
   {
    "duration": 15,
    "start_time": "2024-03-30T11:58:13.994Z"
   },
   {
    "duration": 5,
    "start_time": "2024-03-30T11:58:14.010Z"
   },
   {
    "duration": 12,
    "start_time": "2024-03-30T11:58:14.016Z"
   },
   {
    "duration": 3,
    "start_time": "2024-03-30T11:58:14.029Z"
   },
   {
    "duration": 12,
    "start_time": "2024-03-30T11:58:14.033Z"
   },
   {
    "duration": 25,
    "start_time": "2024-03-30T11:58:14.047Z"
   },
   {
    "duration": 187,
    "start_time": "2024-03-30T11:58:14.073Z"
   },
   {
    "duration": 133,
    "start_time": "2024-03-30T11:58:14.261Z"
   },
   {
    "duration": 11,
    "start_time": "2024-03-30T11:58:14.396Z"
   },
   {
    "duration": 12,
    "start_time": "2024-03-30T11:58:14.408Z"
   },
   {
    "duration": 308,
    "start_time": "2024-03-30T11:58:14.421Z"
   },
   {
    "duration": 228,
    "start_time": "2024-03-30T11:58:14.730Z"
   },
   {
    "duration": 12,
    "start_time": "2024-03-30T11:58:14.960Z"
   },
   {
    "duration": 310,
    "start_time": "2024-03-30T11:58:14.973Z"
   },
   {
    "duration": 4,
    "start_time": "2024-03-30T11:58:15.284Z"
   },
   {
    "duration": 43,
    "start_time": "2024-03-30T11:58:15.289Z"
   },
   {
    "duration": 397,
    "start_time": "2024-03-30T11:58:15.333Z"
   },
   {
    "duration": 7,
    "start_time": "2024-03-30T11:58:15.731Z"
   },
   {
    "duration": 349,
    "start_time": "2024-03-30T11:58:15.740Z"
   },
   {
    "duration": 14,
    "start_time": "2024-03-30T11:58:16.090Z"
   },
   {
    "duration": 180,
    "start_time": "2024-03-30T11:58:16.105Z"
   },
   {
    "duration": 5,
    "start_time": "2024-03-30T11:58:16.286Z"
   },
   {
    "duration": 28,
    "start_time": "2024-03-30T11:58:16.292Z"
   },
   {
    "duration": 165,
    "start_time": "2024-03-30T11:58:16.322Z"
   },
   {
    "duration": 177,
    "start_time": "2024-03-30T11:58:16.489Z"
   },
   {
    "duration": 4,
    "start_time": "2024-03-30T11:58:16.672Z"
   },
   {
    "duration": 17,
    "start_time": "2024-03-30T11:58:16.677Z"
   },
   {
    "duration": 24,
    "start_time": "2024-03-30T11:58:16.696Z"
   },
   {
    "duration": 11,
    "start_time": "2024-03-30T11:58:16.721Z"
   },
   {
    "duration": 70,
    "start_time": "2024-03-30T11:58:16.734Z"
   },
   {
    "duration": 69,
    "start_time": "2024-03-30T11:58:16.806Z"
   },
   {
    "duration": 4,
    "start_time": "2024-03-30T11:58:16.876Z"
   },
   {
    "duration": 16,
    "start_time": "2024-03-30T11:58:16.882Z"
   },
   {
    "duration": 42,
    "start_time": "2024-03-30T11:58:16.900Z"
   },
   {
    "duration": 4,
    "start_time": "2024-03-30T11:58:16.944Z"
   },
   {
    "duration": 78,
    "start_time": "2024-03-30T11:58:16.950Z"
   },
   {
    "duration": 43,
    "start_time": "2024-03-30T11:58:17.029Z"
   },
   {
    "duration": 10,
    "start_time": "2024-03-30T11:58:17.074Z"
   },
   {
    "duration": 14,
    "start_time": "2024-03-30T11:58:17.086Z"
   },
   {
    "duration": 5,
    "start_time": "2024-03-30T11:58:17.102Z"
   },
   {
    "duration": 29,
    "start_time": "2024-03-30T11:58:17.109Z"
   },
   {
    "duration": 31,
    "start_time": "2024-03-30T11:58:17.140Z"
   },
   {
    "duration": 4,
    "start_time": "2024-03-30T11:58:17.173Z"
   },
   {
    "duration": 11,
    "start_time": "2024-03-30T11:58:17.179Z"
   },
   {
    "duration": 9,
    "start_time": "2024-03-30T11:58:17.192Z"
   },
   {
    "duration": 3,
    "start_time": "2024-03-30T11:59:08.619Z"
   },
   {
    "duration": 10,
    "start_time": "2024-03-30T11:59:12.868Z"
   },
   {
    "duration": 1150,
    "start_time": "2024-03-30T11:59:33.480Z"
   },
   {
    "duration": 26,
    "start_time": "2024-03-30T11:59:34.632Z"
   },
   {
    "duration": 2,
    "start_time": "2024-03-30T11:59:34.660Z"
   },
   {
    "duration": 18,
    "start_time": "2024-03-30T11:59:34.664Z"
   },
   {
    "duration": 12,
    "start_time": "2024-03-30T11:59:34.684Z"
   },
   {
    "duration": 4,
    "start_time": "2024-03-30T11:59:34.698Z"
   },
   {
    "duration": 16,
    "start_time": "2024-03-30T11:59:34.703Z"
   },
   {
    "duration": 5,
    "start_time": "2024-03-30T11:59:34.721Z"
   },
   {
    "duration": 17,
    "start_time": "2024-03-30T11:59:34.727Z"
   },
   {
    "duration": 47,
    "start_time": "2024-03-30T11:59:34.745Z"
   },
   {
    "duration": 9,
    "start_time": "2024-03-30T11:59:34.793Z"
   },
   {
    "duration": 30,
    "start_time": "2024-03-30T11:59:34.803Z"
   },
   {
    "duration": 8,
    "start_time": "2024-03-30T11:59:34.835Z"
   },
   {
    "duration": 24,
    "start_time": "2024-03-30T11:59:34.845Z"
   },
   {
    "duration": 9,
    "start_time": "2024-03-30T11:59:34.870Z"
   },
   {
    "duration": 28,
    "start_time": "2024-03-30T11:59:34.881Z"
   },
   {
    "duration": 15,
    "start_time": "2024-03-30T11:59:34.910Z"
   },
   {
    "duration": 16,
    "start_time": "2024-03-30T11:59:34.926Z"
   },
   {
    "duration": 10,
    "start_time": "2024-03-30T11:59:34.944Z"
   },
   {
    "duration": 17,
    "start_time": "2024-03-30T11:59:34.955Z"
   },
   {
    "duration": 5,
    "start_time": "2024-03-30T11:59:34.973Z"
   },
   {
    "duration": 175,
    "start_time": "2024-03-30T11:59:34.979Z"
   },
   {
    "duration": 134,
    "start_time": "2024-03-30T11:59:35.155Z"
   },
   {
    "duration": 11,
    "start_time": "2024-03-30T11:59:35.290Z"
   },
   {
    "duration": 10,
    "start_time": "2024-03-30T11:59:35.303Z"
   },
   {
    "duration": 312,
    "start_time": "2024-03-30T11:59:35.314Z"
   },
   {
    "duration": 242,
    "start_time": "2024-03-30T11:59:35.628Z"
   },
   {
    "duration": 12,
    "start_time": "2024-03-30T11:59:35.872Z"
   },
   {
    "duration": 308,
    "start_time": "2024-03-30T11:59:35.885Z"
   },
   {
    "duration": 4,
    "start_time": "2024-03-30T11:59:36.194Z"
   },
   {
    "duration": 10,
    "start_time": "2024-03-30T11:59:36.200Z"
   },
   {
    "duration": 360,
    "start_time": "2024-03-30T11:59:36.212Z"
   },
   {
    "duration": 8,
    "start_time": "2024-03-30T11:59:36.574Z"
   },
   {
    "duration": 315,
    "start_time": "2024-03-30T11:59:36.583Z"
   },
   {
    "duration": 13,
    "start_time": "2024-03-30T11:59:36.900Z"
   },
   {
    "duration": 171,
    "start_time": "2024-03-30T11:59:36.914Z"
   },
   {
    "duration": 5,
    "start_time": "2024-03-30T11:59:37.086Z"
   },
   {
    "duration": 16,
    "start_time": "2024-03-30T11:59:37.092Z"
   },
   {
    "duration": 155,
    "start_time": "2024-03-30T11:59:37.110Z"
   },
   {
    "duration": 165,
    "start_time": "2024-03-30T11:59:37.266Z"
   },
   {
    "duration": 4,
    "start_time": "2024-03-30T11:59:37.435Z"
   },
   {
    "duration": 7,
    "start_time": "2024-03-30T11:59:37.441Z"
   },
   {
    "duration": 22,
    "start_time": "2024-03-30T11:59:37.449Z"
   },
   {
    "duration": 14,
    "start_time": "2024-03-30T11:59:37.473Z"
   },
   {
    "duration": 72,
    "start_time": "2024-03-30T11:59:37.488Z"
   },
   {
    "duration": 68,
    "start_time": "2024-03-30T11:59:37.562Z"
   },
   {
    "duration": 4,
    "start_time": "2024-03-30T11:59:37.631Z"
   },
   {
    "duration": 12,
    "start_time": "2024-03-30T11:59:37.637Z"
   },
   {
    "duration": 30,
    "start_time": "2024-03-30T11:59:37.650Z"
   },
   {
    "duration": 4,
    "start_time": "2024-03-30T11:59:37.682Z"
   },
   {
    "duration": 86,
    "start_time": "2024-03-30T11:59:37.688Z"
   },
   {
    "duration": 5,
    "start_time": "2024-03-30T11:59:37.776Z"
   },
   {
    "duration": 9,
    "start_time": "2024-03-30T11:59:37.783Z"
   },
   {
    "duration": 6,
    "start_time": "2024-03-30T11:59:37.793Z"
   },
   {
    "duration": 10,
    "start_time": "2024-03-30T11:59:37.800Z"
   },
   {
    "duration": 6,
    "start_time": "2024-03-30T11:59:37.812Z"
   },
   {
    "duration": 52,
    "start_time": "2024-03-30T11:59:37.820Z"
   },
   {
    "duration": 5,
    "start_time": "2024-03-30T11:59:37.874Z"
   },
   {
    "duration": 11,
    "start_time": "2024-03-30T11:59:37.881Z"
   },
   {
    "duration": 9,
    "start_time": "2024-03-30T11:59:37.893Z"
   },
   {
    "duration": 373,
    "start_time": "2024-03-30T12:03:50.150Z"
   },
   {
    "duration": 354,
    "start_time": "2024-03-30T12:04:05.866Z"
   },
   {
    "duration": 331,
    "start_time": "2024-03-30T12:04:14.890Z"
   }
  ],
  "kernelspec": {
   "display_name": "Python 3 (ipykernel)",
   "language": "python",
   "name": "python3"
  },
  "language_info": {
   "codemirror_mode": {
    "name": "ipython",
    "version": 3
   },
   "file_extension": ".py",
   "mimetype": "text/x-python",
   "name": "python",
   "nbconvert_exporter": "python",
   "pygments_lexer": "ipython3",
   "version": "3.11.5"
  },
  "toc": {
   "base_numbering": 1,
   "nav_menu": {},
   "number_sections": true,
   "sideBar": true,
   "skip_h1_title": true,
   "title_cell": "Table of Contents",
   "title_sidebar": "Contents",
   "toc_cell": false,
   "toc_position": {},
   "toc_section_display": true,
   "toc_window_display": false
  }
 },
 "nbformat": 4,
 "nbformat_minor": 2
}
