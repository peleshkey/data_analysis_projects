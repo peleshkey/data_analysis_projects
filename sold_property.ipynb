{
 "cells": [
  {
   "cell_type": "markdown",
   "metadata": {
    "id": "-VFbjcb3Awb7"
   },
   "source": [
    "# Исследование объявлений о продаже квартир"
   ]
  },
  {
   "cell_type": "markdown",
   "metadata": {},
   "source": [
    "**Введение.**\n",
    "\n",
    "В данном проекте будет проведено исследование рынка недвижимости в Санкт-Петербурге и соседних населенных пунктах в соответствии с архивом объявлений. В результате данного иссладования будет выявлена зависимость между различными параметрами и ценой объекта, а так же определены те из них которые максимально важны при оценки стоимости."
   ]
  },
  {
   "cell_type": "code",
   "execution_count": 1,
   "metadata": {
    "id": "7MZxY65pAwb9"
   },
   "outputs": [
    {
     "data": {
      "text/html": [
       "<div>\n",
       "<style scoped>\n",
       "    .dataframe tbody tr th:only-of-type {\n",
       "        vertical-align: middle;\n",
       "    }\n",
       "\n",
       "    .dataframe tbody tr th {\n",
       "        vertical-align: top;\n",
       "    }\n",
       "\n",
       "    .dataframe thead th {\n",
       "        text-align: right;\n",
       "    }\n",
       "</style>\n",
       "<table border=\"1\" class=\"dataframe\">\n",
       "  <thead>\n",
       "    <tr style=\"text-align: right;\">\n",
       "      <th></th>\n",
       "      <th>total_images</th>\n",
       "      <th>last_price</th>\n",
       "      <th>total_area</th>\n",
       "      <th>first_day_exposition</th>\n",
       "      <th>rooms</th>\n",
       "      <th>ceiling_height</th>\n",
       "      <th>floors_total</th>\n",
       "      <th>living_area</th>\n",
       "      <th>floor</th>\n",
       "      <th>is_apartment</th>\n",
       "      <th>...</th>\n",
       "      <th>kitchen_area</th>\n",
       "      <th>balcony</th>\n",
       "      <th>locality_name</th>\n",
       "      <th>airports_nearest</th>\n",
       "      <th>cityCenters_nearest</th>\n",
       "      <th>parks_around3000</th>\n",
       "      <th>parks_nearest</th>\n",
       "      <th>ponds_around3000</th>\n",
       "      <th>ponds_nearest</th>\n",
       "      <th>days_exposition</th>\n",
       "    </tr>\n",
       "  </thead>\n",
       "  <tbody>\n",
       "    <tr>\n",
       "      <th>0</th>\n",
       "      <td>20</td>\n",
       "      <td>13000000.0</td>\n",
       "      <td>108.0</td>\n",
       "      <td>2019-03-07T00:00:00</td>\n",
       "      <td>3</td>\n",
       "      <td>2.70</td>\n",
       "      <td>16.0</td>\n",
       "      <td>51.0</td>\n",
       "      <td>8</td>\n",
       "      <td>NaN</td>\n",
       "      <td>...</td>\n",
       "      <td>25.0</td>\n",
       "      <td>NaN</td>\n",
       "      <td>Санкт-Петербург</td>\n",
       "      <td>18863.0</td>\n",
       "      <td>16028.0</td>\n",
       "      <td>1.0</td>\n",
       "      <td>482.0</td>\n",
       "      <td>2.0</td>\n",
       "      <td>755.0</td>\n",
       "      <td>NaN</td>\n",
       "    </tr>\n",
       "    <tr>\n",
       "      <th>1</th>\n",
       "      <td>7</td>\n",
       "      <td>3350000.0</td>\n",
       "      <td>40.4</td>\n",
       "      <td>2018-12-04T00:00:00</td>\n",
       "      <td>1</td>\n",
       "      <td>NaN</td>\n",
       "      <td>11.0</td>\n",
       "      <td>18.6</td>\n",
       "      <td>1</td>\n",
       "      <td>NaN</td>\n",
       "      <td>...</td>\n",
       "      <td>11.0</td>\n",
       "      <td>2.0</td>\n",
       "      <td>посёлок Шушары</td>\n",
       "      <td>12817.0</td>\n",
       "      <td>18603.0</td>\n",
       "      <td>0.0</td>\n",
       "      <td>NaN</td>\n",
       "      <td>0.0</td>\n",
       "      <td>NaN</td>\n",
       "      <td>81.0</td>\n",
       "    </tr>\n",
       "    <tr>\n",
       "      <th>2</th>\n",
       "      <td>10</td>\n",
       "      <td>5196000.0</td>\n",
       "      <td>56.0</td>\n",
       "      <td>2015-08-20T00:00:00</td>\n",
       "      <td>2</td>\n",
       "      <td>NaN</td>\n",
       "      <td>5.0</td>\n",
       "      <td>34.3</td>\n",
       "      <td>4</td>\n",
       "      <td>NaN</td>\n",
       "      <td>...</td>\n",
       "      <td>8.3</td>\n",
       "      <td>0.0</td>\n",
       "      <td>Санкт-Петербург</td>\n",
       "      <td>21741.0</td>\n",
       "      <td>13933.0</td>\n",
       "      <td>1.0</td>\n",
       "      <td>90.0</td>\n",
       "      <td>2.0</td>\n",
       "      <td>574.0</td>\n",
       "      <td>558.0</td>\n",
       "    </tr>\n",
       "    <tr>\n",
       "      <th>3</th>\n",
       "      <td>0</td>\n",
       "      <td>64900000.0</td>\n",
       "      <td>159.0</td>\n",
       "      <td>2015-07-24T00:00:00</td>\n",
       "      <td>3</td>\n",
       "      <td>NaN</td>\n",
       "      <td>14.0</td>\n",
       "      <td>NaN</td>\n",
       "      <td>9</td>\n",
       "      <td>NaN</td>\n",
       "      <td>...</td>\n",
       "      <td>NaN</td>\n",
       "      <td>0.0</td>\n",
       "      <td>Санкт-Петербург</td>\n",
       "      <td>28098.0</td>\n",
       "      <td>6800.0</td>\n",
       "      <td>2.0</td>\n",
       "      <td>84.0</td>\n",
       "      <td>3.0</td>\n",
       "      <td>234.0</td>\n",
       "      <td>424.0</td>\n",
       "    </tr>\n",
       "    <tr>\n",
       "      <th>4</th>\n",
       "      <td>2</td>\n",
       "      <td>10000000.0</td>\n",
       "      <td>100.0</td>\n",
       "      <td>2018-06-19T00:00:00</td>\n",
       "      <td>2</td>\n",
       "      <td>3.03</td>\n",
       "      <td>14.0</td>\n",
       "      <td>32.0</td>\n",
       "      <td>13</td>\n",
       "      <td>NaN</td>\n",
       "      <td>...</td>\n",
       "      <td>41.0</td>\n",
       "      <td>NaN</td>\n",
       "      <td>Санкт-Петербург</td>\n",
       "      <td>31856.0</td>\n",
       "      <td>8098.0</td>\n",
       "      <td>2.0</td>\n",
       "      <td>112.0</td>\n",
       "      <td>1.0</td>\n",
       "      <td>48.0</td>\n",
       "      <td>121.0</td>\n",
       "    </tr>\n",
       "  </tbody>\n",
       "</table>\n",
       "<p>5 rows × 22 columns</p>\n",
       "</div>"
      ],
      "text/plain": [
       "   total_images  last_price  total_area first_day_exposition  rooms  \\\n",
       "0            20  13000000.0       108.0  2019-03-07T00:00:00      3   \n",
       "1             7   3350000.0        40.4  2018-12-04T00:00:00      1   \n",
       "2            10   5196000.0        56.0  2015-08-20T00:00:00      2   \n",
       "3             0  64900000.0       159.0  2015-07-24T00:00:00      3   \n",
       "4             2  10000000.0       100.0  2018-06-19T00:00:00      2   \n",
       "\n",
       "   ceiling_height  floors_total  living_area  floor is_apartment  ...  \\\n",
       "0            2.70          16.0         51.0      8          NaN  ...   \n",
       "1             NaN          11.0         18.6      1          NaN  ...   \n",
       "2             NaN           5.0         34.3      4          NaN  ...   \n",
       "3             NaN          14.0          NaN      9          NaN  ...   \n",
       "4            3.03          14.0         32.0     13          NaN  ...   \n",
       "\n",
       "   kitchen_area  balcony    locality_name  airports_nearest  \\\n",
       "0          25.0      NaN  Санкт-Петербург           18863.0   \n",
       "1          11.0      2.0   посёлок Шушары           12817.0   \n",
       "2           8.3      0.0  Санкт-Петербург           21741.0   \n",
       "3           NaN      0.0  Санкт-Петербург           28098.0   \n",
       "4          41.0      NaN  Санкт-Петербург           31856.0   \n",
       "\n",
       "  cityCenters_nearest  parks_around3000  parks_nearest  ponds_around3000  \\\n",
       "0             16028.0               1.0          482.0               2.0   \n",
       "1             18603.0               0.0            NaN               0.0   \n",
       "2             13933.0               1.0           90.0               2.0   \n",
       "3              6800.0               2.0           84.0               3.0   \n",
       "4              8098.0               2.0          112.0               1.0   \n",
       "\n",
       "   ponds_nearest  days_exposition  \n",
       "0          755.0              NaN  \n",
       "1            NaN             81.0  \n",
       "2          574.0            558.0  \n",
       "3          234.0            424.0  \n",
       "4           48.0            121.0  \n",
       "\n",
       "[5 rows x 22 columns]"
      ]
     },
     "execution_count": 1,
     "metadata": {},
     "output_type": "execute_result"
    }
   ],
   "source": [
    "import pandas as pd\n",
    "import matplotlib.pyplot as plt\n",
    "\n",
    "data = pd.read_csv('/datasets/real_estate_data.csv', sep='\\t')\n",
    "\n",
    "data.head()"
   ]
  },
  {
   "cell_type": "code",
   "execution_count": 2,
   "metadata": {},
   "outputs": [
    {
     "name": "stdout",
     "output_type": "stream",
     "text": [
      "<class 'pandas.core.frame.DataFrame'>\n",
      "RangeIndex: 23699 entries, 0 to 23698\n",
      "Data columns (total 22 columns):\n",
      " #   Column                Non-Null Count  Dtype  \n",
      "---  ------                --------------  -----  \n",
      " 0   total_images          23699 non-null  int64  \n",
      " 1   last_price            23699 non-null  float64\n",
      " 2   total_area            23699 non-null  float64\n",
      " 3   first_day_exposition  23699 non-null  object \n",
      " 4   rooms                 23699 non-null  int64  \n",
      " 5   ceiling_height        14504 non-null  float64\n",
      " 6   floors_total          23613 non-null  float64\n",
      " 7   living_area           21796 non-null  float64\n",
      " 8   floor                 23699 non-null  int64  \n",
      " 9   is_apartment          2775 non-null   object \n",
      " 10  studio                23699 non-null  bool   \n",
      " 11  open_plan             23699 non-null  bool   \n",
      " 12  kitchen_area          21421 non-null  float64\n",
      " 13  balcony               12180 non-null  float64\n",
      " 14  locality_name         23650 non-null  object \n",
      " 15  airports_nearest      18157 non-null  float64\n",
      " 16  cityCenters_nearest   18180 non-null  float64\n",
      " 17  parks_around3000      18181 non-null  float64\n",
      " 18  parks_nearest         8079 non-null   float64\n",
      " 19  ponds_around3000      18181 non-null  float64\n",
      " 20  ponds_nearest         9110 non-null   float64\n",
      " 21  days_exposition       20518 non-null  float64\n",
      "dtypes: bool(2), float64(14), int64(3), object(3)\n",
      "memory usage: 3.7+ MB\n"
     ]
    }
   ],
   "source": [
    "data.info()"
   ]
  },
  {
   "cell_type": "code",
   "execution_count": 3,
   "metadata": {},
   "outputs": [
    {
     "data": {
      "text/plain": [
       "array([[<AxesSubplot:title={'center':'total_images'}>,\n",
       "        <AxesSubplot:title={'center':'last_price'}>,\n",
       "        <AxesSubplot:title={'center':'total_area'}>,\n",
       "        <AxesSubplot:title={'center':'rooms'}>],\n",
       "       [<AxesSubplot:title={'center':'ceiling_height'}>,\n",
       "        <AxesSubplot:title={'center':'floors_total'}>,\n",
       "        <AxesSubplot:title={'center':'living_area'}>,\n",
       "        <AxesSubplot:title={'center':'floor'}>],\n",
       "       [<AxesSubplot:title={'center':'kitchen_area'}>,\n",
       "        <AxesSubplot:title={'center':'balcony'}>,\n",
       "        <AxesSubplot:title={'center':'airports_nearest'}>,\n",
       "        <AxesSubplot:title={'center':'cityCenters_nearest'}>],\n",
       "       [<AxesSubplot:title={'center':'parks_around3000'}>,\n",
       "        <AxesSubplot:title={'center':'parks_nearest'}>,\n",
       "        <AxesSubplot:title={'center':'ponds_around3000'}>,\n",
       "        <AxesSubplot:title={'center':'ponds_nearest'}>],\n",
       "       [<AxesSubplot:title={'center':'days_exposition'}>, <AxesSubplot:>,\n",
       "        <AxesSubplot:>, <AxesSubplot:>]], dtype=object)"
      ]
     },
     "execution_count": 3,
     "metadata": {},
     "output_type": "execute_result"
    },
    {
     "data": {
      "image/png": "[encoded data removed]",
      "text/plain": [
       "<Figure size 1080x1440 with 20 Axes>"
      ]
     },
     "metadata": {
      "needs_background": "light"
     },
     "output_type": "display_data"
    }
   ],
   "source": [
    "data.hist(figsize=(15, 20))"
   ]
  },
  {
   "cell_type": "markdown",
   "metadata": {},
   "source": [
    "**Промежуточный вывод.**\n",
    "\n",
    "В предоставленных данных выявлены пропуски данных в ряде колонок, которые требуют обработки. Данная обработка будет проведена в следующем разделе проекта.\n",
    "\n",
    "В соответствии с приведенными выше гистограммами, с нормальным распределнием данных, но с имеющимися выбросами. Например в данных 'days_exposition' показано, что некоторые квартиры продавались до 1500 дней. Это может быть возможно, например для объектов в очень плохом состоянии, для которых крайне сложно найти покупателя, но в то же время такие данные могут искажать дальнейшее исследование."
   ]
  },
  {
   "cell_type": "markdown",
   "metadata": {
    "id": "-O5NtivEAwb9"
   },
   "source": [
    "### Выполните предобработку данных"
   ]
  },
  {
   "cell_type": "markdown",
   "metadata": {},
   "source": [
    "В начале предобработки данных оценим количество пропущенных значений в представленной базе данных."
   ]
  },
  {
   "cell_type": "code",
   "execution_count": 4,
   "metadata": {
    "id": "7v3vAeTuAwb-"
   },
   "outputs": [
    {
     "data": {
      "text/plain": [
       "total_images                0\n",
       "last_price                  0\n",
       "total_area                  0\n",
       "first_day_exposition        0\n",
       "rooms                       0\n",
       "ceiling_height           9195\n",
       "floors_total               86\n",
       "living_area              1903\n",
       "floor                       0\n",
       "is_apartment            20924\n",
       "studio                      0\n",
       "open_plan                   0\n",
       "kitchen_area             2278\n",
       "balcony                 11519\n",
       "locality_name              49\n",
       "airports_nearest         5542\n",
       "cityCenters_nearest      5519\n",
       "parks_around3000         5518\n",
       "parks_nearest           15620\n",
       "ponds_around3000         5518\n",
       "ponds_nearest           14589\n",
       "days_exposition          3181\n",
       "dtype: int64"
      ]
     },
     "execution_count": 4,
     "metadata": {},
     "output_type": "execute_result"
    }
   ],
   "source": [
    "data.isna().sum()"
   ]
  },
  {
   "cell_type": "markdown",
   "metadata": {},
   "source": [
    "Первым действием приведем название колонки 'cityCenters_nearest' к единому варианту написания в соответствии с остальными колонками."
   ]
  },
  {
   "cell_type": "code",
   "execution_count": 5,
   "metadata": {},
   "outputs": [
    {
     "data": {
      "text/plain": [
       "Index(['total_images', 'last_price', 'total_area', 'first_day_exposition',\n",
       "       'rooms', 'ceiling_height', 'floors_total', 'living_area', 'floor',\n",
       "       'is_apartment', 'studio', 'open_plan', 'kitchen_area', 'balcony',\n",
       "       'locality_name', 'airports_nearest', 'city_centers_nearest',\n",
       "       'parks_around3000', 'parks_nearest', 'ponds_around3000',\n",
       "       'ponds_nearest', 'days_exposition'],\n",
       "      dtype='object')"
      ]
     },
     "execution_count": 5,
     "metadata": {},
     "output_type": "execute_result"
    }
   ],
   "source": [
    "data = data.rename(columns={'cityCenters_nearest':'city_centers_nearest'})\n",
    "data.columns"
   ]
  },
  {
   "cell_type": "markdown",
   "metadata": {},
   "source": [
    "**Исправим тип данных в колонке 'is_apartment'.** Согласно заданию к проекту, тип данных в колонке 'is_apartment' должен быть булевым, а в базе данных он является строкой. Заменим тип данных на верный и все пропуски заменим на False, поскольку можно предположить, что данная информация не была указана поскольку объект недвижимости апартаментами не является."
   ]
  },
  {
   "cell_type": "code",
   "execution_count": 6,
   "metadata": {},
   "outputs": [
    {
     "data": {
      "text/plain": [
       "array([nan, False, True], dtype=object)"
      ]
     },
     "execution_count": 6,
     "metadata": {},
     "output_type": "execute_result"
    }
   ],
   "source": [
    "data['is_apartment'].unique()"
   ]
  },
  {
   "cell_type": "code",
   "execution_count": 7,
   "metadata": {},
   "outputs": [
    {
     "data": {
      "text/plain": [
       "array([ True, False])"
      ]
     },
     "execution_count": 7,
     "metadata": {},
     "output_type": "execute_result"
    }
   ],
   "source": [
    "data['is_apartment'] = data['is_apartment'].astype('bool')\n",
    "\n",
    "data['is_apartment'] = data['is_apartment'].fillna(False)\n",
    "\n",
    "data['is_apartment'].unique()"
   ]
  },
  {
   "cell_type": "markdown",
   "metadata": {},
   "source": [
    "**Обработаем пропуски в данных о балконах, парках и прудах.** Заменим данные о балконах с пропусками на 0, поскольку если это не указали в публикации, значит скорее всего балкона в квартире нет. Согласно такой же логике можно заменить значения на ноль в колонках 'parks_around3000' и 'ponds_around3000'.\n",
    "Также проанализировав первые строки базы данных, можно сделать вывод, что в строках, что наличие нулей в колонках 'parks_around3000' и 'ponds_around3000' соответствует наличию пропусков в 'parks_nearest', 'ponds_nearest', поскольку парк или пруд дальше 3км не является легко доступным, вероятнее всего рядом с объектом недвижимости не имеется парков или прудов, а удаленность их более чем на 3км не имеет значения в связи с чем данные эти не указаны, все пропуски так же заменим на 0."
   ]
  },
  {
   "cell_type": "code",
   "execution_count": 8,
   "metadata": {},
   "outputs": [],
   "source": [
    "columns_empty = ['balcony', 'parks_around3000', 'ponds_around3000', 'parks_nearest', 'ponds_nearest']\n",
    "\n",
    "for col in columns_empty:\n",
    "    data[col] = data[col].fillna(0)\n"
   ]
  },
  {
   "cell_type": "code",
   "execution_count": 9,
   "metadata": {},
   "outputs": [
    {
     "data": {
      "text/html": [
       "<div>\n",
       "<style scoped>\n",
       "    .dataframe tbody tr th:only-of-type {\n",
       "        vertical-align: middle;\n",
       "    }\n",
       "\n",
       "    .dataframe tbody tr th {\n",
       "        vertical-align: top;\n",
       "    }\n",
       "\n",
       "    .dataframe thead th {\n",
       "        text-align: right;\n",
       "    }\n",
       "</style>\n",
       "<table border=\"1\" class=\"dataframe\">\n",
       "  <thead>\n",
       "    <tr style=\"text-align: right;\">\n",
       "      <th></th>\n",
       "      <th>total_images</th>\n",
       "      <th>last_price</th>\n",
       "      <th>total_area</th>\n",
       "      <th>first_day_exposition</th>\n",
       "      <th>rooms</th>\n",
       "      <th>ceiling_height</th>\n",
       "      <th>floors_total</th>\n",
       "      <th>living_area</th>\n",
       "      <th>floor</th>\n",
       "      <th>is_apartment</th>\n",
       "      <th>...</th>\n",
       "      <th>kitchen_area</th>\n",
       "      <th>balcony</th>\n",
       "      <th>locality_name</th>\n",
       "      <th>airports_nearest</th>\n",
       "      <th>city_centers_nearest</th>\n",
       "      <th>parks_around3000</th>\n",
       "      <th>parks_nearest</th>\n",
       "      <th>ponds_around3000</th>\n",
       "      <th>ponds_nearest</th>\n",
       "      <th>days_exposition</th>\n",
       "    </tr>\n",
       "  </thead>\n",
       "  <tbody>\n",
       "    <tr>\n",
       "      <th>0</th>\n",
       "      <td>20</td>\n",
       "      <td>13000000.0</td>\n",
       "      <td>108.0</td>\n",
       "      <td>2019-03-07T00:00:00</td>\n",
       "      <td>3</td>\n",
       "      <td>2.70</td>\n",
       "      <td>16.0</td>\n",
       "      <td>51.0</td>\n",
       "      <td>8</td>\n",
       "      <td>True</td>\n",
       "      <td>...</td>\n",
       "      <td>25.0</td>\n",
       "      <td>0.0</td>\n",
       "      <td>Санкт-Петербург</td>\n",
       "      <td>18863.0</td>\n",
       "      <td>16028.0</td>\n",
       "      <td>1.0</td>\n",
       "      <td>482.0</td>\n",
       "      <td>2.0</td>\n",
       "      <td>755.0</td>\n",
       "      <td>NaN</td>\n",
       "    </tr>\n",
       "    <tr>\n",
       "      <th>1</th>\n",
       "      <td>7</td>\n",
       "      <td>3350000.0</td>\n",
       "      <td>40.4</td>\n",
       "      <td>2018-12-04T00:00:00</td>\n",
       "      <td>1</td>\n",
       "      <td>NaN</td>\n",
       "      <td>11.0</td>\n",
       "      <td>18.6</td>\n",
       "      <td>1</td>\n",
       "      <td>True</td>\n",
       "      <td>...</td>\n",
       "      <td>11.0</td>\n",
       "      <td>2.0</td>\n",
       "      <td>посёлок Шушары</td>\n",
       "      <td>12817.0</td>\n",
       "      <td>18603.0</td>\n",
       "      <td>0.0</td>\n",
       "      <td>0.0</td>\n",
       "      <td>0.0</td>\n",
       "      <td>0.0</td>\n",
       "      <td>81.0</td>\n",
       "    </tr>\n",
       "    <tr>\n",
       "      <th>2</th>\n",
       "      <td>10</td>\n",
       "      <td>5196000.0</td>\n",
       "      <td>56.0</td>\n",
       "      <td>2015-08-20T00:00:00</td>\n",
       "      <td>2</td>\n",
       "      <td>NaN</td>\n",
       "      <td>5.0</td>\n",
       "      <td>34.3</td>\n",
       "      <td>4</td>\n",
       "      <td>True</td>\n",
       "      <td>...</td>\n",
       "      <td>8.3</td>\n",
       "      <td>0.0</td>\n",
       "      <td>Санкт-Петербург</td>\n",
       "      <td>21741.0</td>\n",
       "      <td>13933.0</td>\n",
       "      <td>1.0</td>\n",
       "      <td>90.0</td>\n",
       "      <td>2.0</td>\n",
       "      <td>574.0</td>\n",
       "      <td>558.0</td>\n",
       "    </tr>\n",
       "    <tr>\n",
       "      <th>3</th>\n",
       "      <td>0</td>\n",
       "      <td>64900000.0</td>\n",
       "      <td>159.0</td>\n",
       "      <td>2015-07-24T00:00:00</td>\n",
       "      <td>3</td>\n",
       "      <td>NaN</td>\n",
       "      <td>14.0</td>\n",
       "      <td>NaN</td>\n",
       "      <td>9</td>\n",
       "      <td>True</td>\n",
       "      <td>...</td>\n",
       "      <td>NaN</td>\n",
       "      <td>0.0</td>\n",
       "      <td>Санкт-Петербург</td>\n",
       "      <td>28098.0</td>\n",
       "      <td>6800.0</td>\n",
       "      <td>2.0</td>\n",
       "      <td>84.0</td>\n",
       "      <td>3.0</td>\n",
       "      <td>234.0</td>\n",
       "      <td>424.0</td>\n",
       "    </tr>\n",
       "    <tr>\n",
       "      <th>4</th>\n",
       "      <td>2</td>\n",
       "      <td>10000000.0</td>\n",
       "      <td>100.0</td>\n",
       "      <td>2018-06-19T00:00:00</td>\n",
       "      <td>2</td>\n",
       "      <td>3.03</td>\n",
       "      <td>14.0</td>\n",
       "      <td>32.0</td>\n",
       "      <td>13</td>\n",
       "      <td>True</td>\n",
       "      <td>...</td>\n",
       "      <td>41.0</td>\n",
       "      <td>0.0</td>\n",
       "      <td>Санкт-Петербург</td>\n",
       "      <td>31856.0</td>\n",
       "      <td>8098.0</td>\n",
       "      <td>2.0</td>\n",
       "      <td>112.0</td>\n",
       "      <td>1.0</td>\n",
       "      <td>48.0</td>\n",
       "      <td>121.0</td>\n",
       "    </tr>\n",
       "  </tbody>\n",
       "</table>\n",
       "<p>5 rows × 22 columns</p>\n",
       "</div>"
      ],
      "text/plain": [
       "   total_images  last_price  total_area first_day_exposition  rooms  \\\n",
       "0            20  13000000.0       108.0  2019-03-07T00:00:00      3   \n",
       "1             7   3350000.0        40.4  2018-12-04T00:00:00      1   \n",
       "2            10   5196000.0        56.0  2015-08-20T00:00:00      2   \n",
       "3             0  64900000.0       159.0  2015-07-24T00:00:00      3   \n",
       "4             2  10000000.0       100.0  2018-06-19T00:00:00      2   \n",
       "\n",
       "   ceiling_height  floors_total  living_area  floor  is_apartment  ...  \\\n",
       "0            2.70          16.0         51.0      8          True  ...   \n",
       "1             NaN          11.0         18.6      1          True  ...   \n",
       "2             NaN           5.0         34.3      4          True  ...   \n",
       "3             NaN          14.0          NaN      9          True  ...   \n",
       "4            3.03          14.0         32.0     13          True  ...   \n",
       "\n",
       "   kitchen_area  balcony    locality_name  airports_nearest  \\\n",
       "0          25.0      0.0  Санкт-Петербург           18863.0   \n",
       "1          11.0      2.0   посёлок Шушары           12817.0   \n",
       "2           8.3      0.0  Санкт-Петербург           21741.0   \n",
       "3           NaN      0.0  Санкт-Петербург           28098.0   \n",
       "4          41.0      0.0  Санкт-Петербург           31856.0   \n",
       "\n",
       "  city_centers_nearest  parks_around3000  parks_nearest  ponds_around3000  \\\n",
       "0              16028.0               1.0          482.0               2.0   \n",
       "1              18603.0               0.0            0.0               0.0   \n",
       "2              13933.0               1.0           90.0               2.0   \n",
       "3               6800.0               2.0           84.0               3.0   \n",
       "4               8098.0               2.0          112.0               1.0   \n",
       "\n",
       "   ponds_nearest  days_exposition  \n",
       "0          755.0              NaN  \n",
       "1            0.0             81.0  \n",
       "2          574.0            558.0  \n",
       "3          234.0            424.0  \n",
       "4           48.0            121.0  \n",
       "\n",
       "[5 rows x 22 columns]"
      ]
     },
     "execution_count": 9,
     "metadata": {},
     "output_type": "execute_result"
    }
   ],
   "source": [
    "data.head()"
   ]
  },
  {
   "cell_type": "markdown",
   "metadata": {},
   "source": [
    "**Обработку данных относительно удаленности аэропорта** можно произвести для поселков, указанных в столбце 'locality_name'. Вероятнее всего, данные поселки не велики, в связи с чем, удаленность от аэропорта не будет различаться от объекта к объекту. Такой же логики можно придерживаться относительно данных для этих поселков в колонке 'city_centers_nearest'"
   ]
  },
  {
   "cell_type": "code",
   "execution_count": 10,
   "metadata": {},
   "outputs": [
    {
     "data": {
      "text/html": [
       "<div>\n",
       "<style scoped>\n",
       "    .dataframe tbody tr th:only-of-type {\n",
       "        vertical-align: middle;\n",
       "    }\n",
       "\n",
       "    .dataframe tbody tr th {\n",
       "        vertical-align: top;\n",
       "    }\n",
       "\n",
       "    .dataframe thead th {\n",
       "        text-align: right;\n",
       "    }\n",
       "</style>\n",
       "<table border=\"1\" class=\"dataframe\">\n",
       "  <thead>\n",
       "    <tr style=\"text-align: right;\">\n",
       "      <th></th>\n",
       "      <th>airports_nearest</th>\n",
       "      <th>city_centers_nearest</th>\n",
       "    </tr>\n",
       "    <tr>\n",
       "      <th>locality_name</th>\n",
       "      <th></th>\n",
       "      <th></th>\n",
       "    </tr>\n",
       "  </thead>\n",
       "  <tbody>\n",
       "    <tr>\n",
       "      <th>Зеленогорск</th>\n",
       "      <td>72282.0</td>\n",
       "      <td>53381.0</td>\n",
       "    </tr>\n",
       "    <tr>\n",
       "      <th>Колпино</th>\n",
       "      <td>26232.0</td>\n",
       "      <td>32018.0</td>\n",
       "    </tr>\n",
       "    <tr>\n",
       "      <th>Красное Село</th>\n",
       "      <td>25715.5</td>\n",
       "      <td>29140.5</td>\n",
       "    </tr>\n",
       "    <tr>\n",
       "      <th>Кронштадт</th>\n",
       "      <td>67850.0</td>\n",
       "      <td>49575.0</td>\n",
       "    </tr>\n",
       "    <tr>\n",
       "      <th>Ломоносов</th>\n",
       "      <td>48415.5</td>\n",
       "      <td>51677.0</td>\n",
       "    </tr>\n",
       "    <tr>\n",
       "      <th>Павловск</th>\n",
       "      <td>20529.5</td>\n",
       "      <td>32683.0</td>\n",
       "    </tr>\n",
       "    <tr>\n",
       "      <th>Петергоф</th>\n",
       "      <td>39231.0</td>\n",
       "      <td>33771.0</td>\n",
       "    </tr>\n",
       "    <tr>\n",
       "      <th>Пушкин</th>\n",
       "      <td>15766.0</td>\n",
       "      <td>27930.5</td>\n",
       "    </tr>\n",
       "    <tr>\n",
       "      <th>Санкт-Петербург</th>\n",
       "      <td>26757.5</td>\n",
       "      <td>12244.5</td>\n",
       "    </tr>\n",
       "    <tr>\n",
       "      <th>Сестрорецк</th>\n",
       "      <td>56692.0</td>\n",
       "      <td>34821.0</td>\n",
       "    </tr>\n",
       "    <tr>\n",
       "      <th>поселок Лисий Нос</th>\n",
       "      <td>55930.0</td>\n",
       "      <td>28246.0</td>\n",
       "    </tr>\n",
       "    <tr>\n",
       "      <th>поселок Мурино</th>\n",
       "      <td>51553.0</td>\n",
       "      <td>21888.0</td>\n",
       "    </tr>\n",
       "    <tr>\n",
       "      <th>посёлок Александровская</th>\n",
       "      <td>12896.5</td>\n",
       "      <td>27468.0</td>\n",
       "    </tr>\n",
       "    <tr>\n",
       "      <th>посёлок Белоостров</th>\n",
       "      <td>57769.0</td>\n",
       "      <td>38868.0</td>\n",
       "    </tr>\n",
       "    <tr>\n",
       "      <th>посёлок Левашово</th>\n",
       "      <td>52693.0</td>\n",
       "      <td>25727.0</td>\n",
       "    </tr>\n",
       "    <tr>\n",
       "      <th>посёлок Лисий Нос</th>\n",
       "      <td>54988.5</td>\n",
       "      <td>27297.0</td>\n",
       "    </tr>\n",
       "    <tr>\n",
       "      <th>посёлок Металлострой</th>\n",
       "      <td>25758.0</td>\n",
       "      <td>27602.0</td>\n",
       "    </tr>\n",
       "    <tr>\n",
       "      <th>посёлок Молодёжное</th>\n",
       "      <td>84665.0</td>\n",
       "      <td>65764.0</td>\n",
       "    </tr>\n",
       "    <tr>\n",
       "      <th>посёлок Парголово</th>\n",
       "      <td>53426.0</td>\n",
       "      <td>19311.0</td>\n",
       "    </tr>\n",
       "    <tr>\n",
       "      <th>посёлок Песочный</th>\n",
       "      <td>54831.5</td>\n",
       "      <td>26099.5</td>\n",
       "    </tr>\n",
       "    <tr>\n",
       "      <th>посёлок Петро-Славянка</th>\n",
       "      <td>20605.0</td>\n",
       "      <td>27165.0</td>\n",
       "    </tr>\n",
       "    <tr>\n",
       "      <th>посёлок Понтонный</th>\n",
       "      <td>30642.0</td>\n",
       "      <td>32354.0</td>\n",
       "    </tr>\n",
       "    <tr>\n",
       "      <th>посёлок Репино</th>\n",
       "      <td>61797.5</td>\n",
       "      <td>42896.5</td>\n",
       "    </tr>\n",
       "    <tr>\n",
       "      <th>посёлок Сапёрный</th>\n",
       "      <td>34147.5</td>\n",
       "      <td>35859.5</td>\n",
       "    </tr>\n",
       "    <tr>\n",
       "      <th>посёлок Стрельна</th>\n",
       "      <td>28317.0</td>\n",
       "      <td>23506.0</td>\n",
       "    </tr>\n",
       "    <tr>\n",
       "      <th>посёлок Усть-Ижора</th>\n",
       "      <td>26510.5</td>\n",
       "      <td>28222.5</td>\n",
       "    </tr>\n",
       "    <tr>\n",
       "      <th>посёлок Шушары</th>\n",
       "      <td>17427.0</td>\n",
       "      <td>24212.0</td>\n",
       "    </tr>\n",
       "    <tr>\n",
       "      <th>посёлок Щеглово</th>\n",
       "      <td>61908.0</td>\n",
       "      <td>34085.0</td>\n",
       "    </tr>\n",
       "  </tbody>\n",
       "</table>\n",
       "</div>"
      ],
      "text/plain": [
       "                         airports_nearest  city_centers_nearest\n",
       "locality_name                                                  \n",
       "Зеленогорск                       72282.0               53381.0\n",
       "Колпино                           26232.0               32018.0\n",
       "Красное Село                      25715.5               29140.5\n",
       "Кронштадт                         67850.0               49575.0\n",
       "Ломоносов                         48415.5               51677.0\n",
       "Павловск                          20529.5               32683.0\n",
       "Петергоф                          39231.0               33771.0\n",
       "Пушкин                            15766.0               27930.5\n",
       "Санкт-Петербург                   26757.5               12244.5\n",
       "Сестрорецк                        56692.0               34821.0\n",
       "поселок Лисий Нос                 55930.0               28246.0\n",
       "поселок Мурино                    51553.0               21888.0\n",
       "посёлок Александровская           12896.5               27468.0\n",
       "посёлок Белоостров                57769.0               38868.0\n",
       "посёлок Левашово                  52693.0               25727.0\n",
       "посёлок Лисий Нос                 54988.5               27297.0\n",
       "посёлок Металлострой              25758.0               27602.0\n",
       "посёлок Молодёжное                84665.0               65764.0\n",
       "посёлок Парголово                 53426.0               19311.0\n",
       "посёлок Песочный                  54831.5               26099.5\n",
       "посёлок Петро-Славянка            20605.0               27165.0\n",
       "посёлок Понтонный                 30642.0               32354.0\n",
       "посёлок Репино                    61797.5               42896.5\n",
       "посёлок Сапёрный                  34147.5               35859.5\n",
       "посёлок Стрельна                  28317.0               23506.0\n",
       "посёлок Усть-Ижора                26510.5               28222.5\n",
       "посёлок Шушары                    17427.0               24212.0\n",
       "посёлок Щеглово                   61908.0               34085.0"
      ]
     },
     "execution_count": 10,
     "metadata": {},
     "output_type": "execute_result"
    }
   ],
   "source": [
    "data_airoport = data.pivot_table(\n",
    "    index='locality_name', \n",
    "    values=['airports_nearest', 'city_centers_nearest'], \n",
    "    aggfunc='median'\n",
    ")\n",
    "data_airoport"
   ]
  },
  {
   "cell_type": "markdown",
   "metadata": {},
   "source": [
    "Согласно медианным значениям удаленности от центра города в колонке 'city_centers_nearest', наименьшая удаленность в Санкт-Петербурге, поэтому скорее всего данные предоставленны для центра города СПб, в связи с чем, пропуски в этой колонке для малых поселков и городов можно заменить средними значениями."
   ]
  },
  {
   "cell_type": "code",
   "execution_count": 11,
   "metadata": {},
   "outputs": [
    {
     "data": {
      "text/plain": [
       "total_images               0\n",
       "last_price                 0\n",
       "total_area                 0\n",
       "first_day_exposition       0\n",
       "rooms                      0\n",
       "ceiling_height          9195\n",
       "floors_total              86\n",
       "living_area             1903\n",
       "floor                      0\n",
       "is_apartment               0\n",
       "studio                     0\n",
       "open_plan                  0\n",
       "kitchen_area            2278\n",
       "balcony                    0\n",
       "locality_name             49\n",
       "airports_nearest        5479\n",
       "city_centers_nearest    5455\n",
       "parks_around3000           0\n",
       "parks_nearest              0\n",
       "ponds_around3000           0\n",
       "ponds_nearest              0\n",
       "days_exposition         3181\n",
       "dtype: int64"
      ]
     },
     "execution_count": 11,
     "metadata": {},
     "output_type": "execute_result"
    }
   ],
   "source": [
    "for name in data['locality_name'].unique():\n",
    "    data.loc[(data['locality_name'] != 'Санкт-Петербург') & (data['locality_name'] == name) & (data['airports_nearest'].isna()), 'airports_nearest'] = \\\n",
    "    data.loc[(data['locality_name'] == name), 'airports_nearest'].mean()\n",
    "    \n",
    "    data.loc[(data['locality_name'] != 'Санкт-Петербург') & (data['locality_name'] == name) & (data['city_centers_nearest'].isna()), 'city_centers_nearest'] = \\\n",
    "    data.loc[(data['locality_name'] == name), 'city_centers_nearest'].mean()\n",
    "    \n",
    "data.isna().sum()\n",
    "    "
   ]
  },
  {
   "cell_type": "markdown",
   "metadata": {},
   "source": [
    "Удалось заполнить только часть пропусков, поскольку по некоторым населенным пунктам данные для расчета среднего значения отсутствуют полностью, в связи с чам заполнить данные пропуски не представляется возможным.\n",
    "\n",
    "Так же **не представляется возможным заполнить пропуски в колонке days_exposition**, поскольку данная информация не связана ни с какими другими данными и не может быть определена."
   ]
  },
  {
   "cell_type": "code",
   "execution_count": 12,
   "metadata": {},
   "outputs": [
    {
     "data": {
      "text/html": [
       "<div>\n",
       "<style scoped>\n",
       "    .dataframe tbody tr th:only-of-type {\n",
       "        vertical-align: middle;\n",
       "    }\n",
       "\n",
       "    .dataframe tbody tr th {\n",
       "        vertical-align: top;\n",
       "    }\n",
       "\n",
       "    .dataframe thead th {\n",
       "        text-align: right;\n",
       "    }\n",
       "</style>\n",
       "<table border=\"1\" class=\"dataframe\">\n",
       "  <thead>\n",
       "    <tr style=\"text-align: right;\">\n",
       "      <th></th>\n",
       "      <th>total_images</th>\n",
       "      <th>last_price</th>\n",
       "      <th>total_area</th>\n",
       "      <th>first_day_exposition</th>\n",
       "      <th>rooms</th>\n",
       "      <th>ceiling_height</th>\n",
       "      <th>floors_total</th>\n",
       "      <th>living_area</th>\n",
       "      <th>floor</th>\n",
       "      <th>is_apartment</th>\n",
       "      <th>...</th>\n",
       "      <th>kitchen_area</th>\n",
       "      <th>balcony</th>\n",
       "      <th>locality_name</th>\n",
       "      <th>airports_nearest</th>\n",
       "      <th>city_centers_nearest</th>\n",
       "      <th>parks_around3000</th>\n",
       "      <th>parks_nearest</th>\n",
       "      <th>ponds_around3000</th>\n",
       "      <th>ponds_nearest</th>\n",
       "      <th>days_exposition</th>\n",
       "    </tr>\n",
       "  </thead>\n",
       "  <tbody>\n",
       "    <tr>\n",
       "      <th>0</th>\n",
       "      <td>20</td>\n",
       "      <td>13000000.0</td>\n",
       "      <td>108.0</td>\n",
       "      <td>2019-03-07T00:00:00</td>\n",
       "      <td>3</td>\n",
       "      <td>2.70</td>\n",
       "      <td>16.0</td>\n",
       "      <td>51.0</td>\n",
       "      <td>8</td>\n",
       "      <td>True</td>\n",
       "      <td>...</td>\n",
       "      <td>25.0</td>\n",
       "      <td>0.0</td>\n",
       "      <td>Санкт-Петербург</td>\n",
       "      <td>18863.0</td>\n",
       "      <td>16028.0</td>\n",
       "      <td>1.0</td>\n",
       "      <td>482.0</td>\n",
       "      <td>2.0</td>\n",
       "      <td>755.0</td>\n",
       "      <td>NaN</td>\n",
       "    </tr>\n",
       "    <tr>\n",
       "      <th>1</th>\n",
       "      <td>7</td>\n",
       "      <td>3350000.0</td>\n",
       "      <td>40.4</td>\n",
       "      <td>2018-12-04T00:00:00</td>\n",
       "      <td>1</td>\n",
       "      <td>NaN</td>\n",
       "      <td>11.0</td>\n",
       "      <td>18.6</td>\n",
       "      <td>1</td>\n",
       "      <td>True</td>\n",
       "      <td>...</td>\n",
       "      <td>11.0</td>\n",
       "      <td>2.0</td>\n",
       "      <td>посёлок Шушары</td>\n",
       "      <td>12817.0</td>\n",
       "      <td>18603.0</td>\n",
       "      <td>0.0</td>\n",
       "      <td>0.0</td>\n",
       "      <td>0.0</td>\n",
       "      <td>0.0</td>\n",
       "      <td>81.0</td>\n",
       "    </tr>\n",
       "    <tr>\n",
       "      <th>2</th>\n",
       "      <td>10</td>\n",
       "      <td>5196000.0</td>\n",
       "      <td>56.0</td>\n",
       "      <td>2015-08-20T00:00:00</td>\n",
       "      <td>2</td>\n",
       "      <td>NaN</td>\n",
       "      <td>5.0</td>\n",
       "      <td>34.3</td>\n",
       "      <td>4</td>\n",
       "      <td>True</td>\n",
       "      <td>...</td>\n",
       "      <td>8.3</td>\n",
       "      <td>0.0</td>\n",
       "      <td>Санкт-Петербург</td>\n",
       "      <td>21741.0</td>\n",
       "      <td>13933.0</td>\n",
       "      <td>1.0</td>\n",
       "      <td>90.0</td>\n",
       "      <td>2.0</td>\n",
       "      <td>574.0</td>\n",
       "      <td>558.0</td>\n",
       "    </tr>\n",
       "    <tr>\n",
       "      <th>3</th>\n",
       "      <td>0</td>\n",
       "      <td>64900000.0</td>\n",
       "      <td>159.0</td>\n",
       "      <td>2015-07-24T00:00:00</td>\n",
       "      <td>3</td>\n",
       "      <td>NaN</td>\n",
       "      <td>14.0</td>\n",
       "      <td>NaN</td>\n",
       "      <td>9</td>\n",
       "      <td>True</td>\n",
       "      <td>...</td>\n",
       "      <td>NaN</td>\n",
       "      <td>0.0</td>\n",
       "      <td>Санкт-Петербург</td>\n",
       "      <td>28098.0</td>\n",
       "      <td>6800.0</td>\n",
       "      <td>2.0</td>\n",
       "      <td>84.0</td>\n",
       "      <td>3.0</td>\n",
       "      <td>234.0</td>\n",
       "      <td>424.0</td>\n",
       "    </tr>\n",
       "    <tr>\n",
       "      <th>4</th>\n",
       "      <td>2</td>\n",
       "      <td>10000000.0</td>\n",
       "      <td>100.0</td>\n",
       "      <td>2018-06-19T00:00:00</td>\n",
       "      <td>2</td>\n",
       "      <td>3.03</td>\n",
       "      <td>14.0</td>\n",
       "      <td>32.0</td>\n",
       "      <td>13</td>\n",
       "      <td>True</td>\n",
       "      <td>...</td>\n",
       "      <td>41.0</td>\n",
       "      <td>0.0</td>\n",
       "      <td>Санкт-Петербург</td>\n",
       "      <td>31856.0</td>\n",
       "      <td>8098.0</td>\n",
       "      <td>2.0</td>\n",
       "      <td>112.0</td>\n",
       "      <td>1.0</td>\n",
       "      <td>48.0</td>\n",
       "      <td>121.0</td>\n",
       "    </tr>\n",
       "  </tbody>\n",
       "</table>\n",
       "<p>5 rows × 22 columns</p>\n",
       "</div>"
      ],
      "text/plain": [
       "   total_images  last_price  total_area first_day_exposition  rooms  \\\n",
       "0            20  13000000.0       108.0  2019-03-07T00:00:00      3   \n",
       "1             7   3350000.0        40.4  2018-12-04T00:00:00      1   \n",
       "2            10   5196000.0        56.0  2015-08-20T00:00:00      2   \n",
       "3             0  64900000.0       159.0  2015-07-24T00:00:00      3   \n",
       "4             2  10000000.0       100.0  2018-06-19T00:00:00      2   \n",
       "\n",
       "   ceiling_height  floors_total  living_area  floor  is_apartment  ...  \\\n",
       "0            2.70          16.0         51.0      8          True  ...   \n",
       "1             NaN          11.0         18.6      1          True  ...   \n",
       "2             NaN           5.0         34.3      4          True  ...   \n",
       "3             NaN          14.0          NaN      9          True  ...   \n",
       "4            3.03          14.0         32.0     13          True  ...   \n",
       "\n",
       "   kitchen_area  balcony    locality_name  airports_nearest  \\\n",
       "0          25.0      0.0  Санкт-Петербург           18863.0   \n",
       "1          11.0      2.0   посёлок Шушары           12817.0   \n",
       "2           8.3      0.0  Санкт-Петербург           21741.0   \n",
       "3           NaN      0.0  Санкт-Петербург           28098.0   \n",
       "4          41.0      0.0  Санкт-Петербург           31856.0   \n",
       "\n",
       "  city_centers_nearest  parks_around3000  parks_nearest  ponds_around3000  \\\n",
       "0              16028.0               1.0          482.0               2.0   \n",
       "1              18603.0               0.0            0.0               0.0   \n",
       "2              13933.0               1.0           90.0               2.0   \n",
       "3               6800.0               2.0           84.0               3.0   \n",
       "4               8098.0               2.0          112.0               1.0   \n",
       "\n",
       "   ponds_nearest  days_exposition  \n",
       "0          755.0              NaN  \n",
       "1            0.0             81.0  \n",
       "2          574.0            558.0  \n",
       "3          234.0            424.0  \n",
       "4           48.0            121.0  \n",
       "\n",
       "[5 rows x 22 columns]"
      ]
     },
     "execution_count": 12,
     "metadata": {},
     "output_type": "execute_result"
    }
   ],
   "source": [
    "data.head()"
   ]
  },
  {
   "cell_type": "markdown",
   "metadata": {},
   "source": [
    "**Заполним пропуски в столбцах 'living_area' и 'kitchen_area'.** Для заполнения данных пропусков рассчитаем медианное значение для доли этих помещений в квартирах по всему массиву данных. \n",
    "К сожалению, в данном методе невозможно оценить наличие коммунальных квартир, в которых в принципе отсутствует кухня. Но для решения данной проблемы, необходимо введение дополнительной информации в данные о том является ли квартира коммунальной."
   ]
  },
  {
   "cell_type": "code",
   "execution_count": 13,
   "metadata": {},
   "outputs": [
    {
     "data": {
      "text/html": [
       "<div>\n",
       "<style scoped>\n",
       "    .dataframe tbody tr th:only-of-type {\n",
       "        vertical-align: middle;\n",
       "    }\n",
       "\n",
       "    .dataframe tbody tr th {\n",
       "        vertical-align: top;\n",
       "    }\n",
       "\n",
       "    .dataframe thead th {\n",
       "        text-align: right;\n",
       "    }\n",
       "</style>\n",
       "<table border=\"1\" class=\"dataframe\">\n",
       "  <thead>\n",
       "    <tr style=\"text-align: right;\">\n",
       "      <th></th>\n",
       "      <th>total_images</th>\n",
       "      <th>last_price</th>\n",
       "      <th>total_area</th>\n",
       "      <th>first_day_exposition</th>\n",
       "      <th>rooms</th>\n",
       "      <th>ceiling_height</th>\n",
       "      <th>floors_total</th>\n",
       "      <th>living_area</th>\n",
       "      <th>floor</th>\n",
       "      <th>is_apartment</th>\n",
       "      <th>...</th>\n",
       "      <th>locality_name</th>\n",
       "      <th>airports_nearest</th>\n",
       "      <th>city_centers_nearest</th>\n",
       "      <th>parks_around3000</th>\n",
       "      <th>parks_nearest</th>\n",
       "      <th>ponds_around3000</th>\n",
       "      <th>ponds_nearest</th>\n",
       "      <th>days_exposition</th>\n",
       "      <th>living_area_percent</th>\n",
       "      <th>kitchen_area_percent</th>\n",
       "    </tr>\n",
       "  </thead>\n",
       "  <tbody>\n",
       "    <tr>\n",
       "      <th>0</th>\n",
       "      <td>20</td>\n",
       "      <td>13000000.0</td>\n",
       "      <td>108.0</td>\n",
       "      <td>2019-03-07T00:00:00</td>\n",
       "      <td>3</td>\n",
       "      <td>2.70</td>\n",
       "      <td>16.0</td>\n",
       "      <td>51.0</td>\n",
       "      <td>8</td>\n",
       "      <td>True</td>\n",
       "      <td>...</td>\n",
       "      <td>Санкт-Петербург</td>\n",
       "      <td>18863.0</td>\n",
       "      <td>16028.0</td>\n",
       "      <td>1.0</td>\n",
       "      <td>482.0</td>\n",
       "      <td>2.0</td>\n",
       "      <td>755.0</td>\n",
       "      <td>NaN</td>\n",
       "      <td>0.472222</td>\n",
       "      <td>0.231481</td>\n",
       "    </tr>\n",
       "    <tr>\n",
       "      <th>1</th>\n",
       "      <td>7</td>\n",
       "      <td>3350000.0</td>\n",
       "      <td>40.4</td>\n",
       "      <td>2018-12-04T00:00:00</td>\n",
       "      <td>1</td>\n",
       "      <td>NaN</td>\n",
       "      <td>11.0</td>\n",
       "      <td>18.6</td>\n",
       "      <td>1</td>\n",
       "      <td>True</td>\n",
       "      <td>...</td>\n",
       "      <td>посёлок Шушары</td>\n",
       "      <td>12817.0</td>\n",
       "      <td>18603.0</td>\n",
       "      <td>0.0</td>\n",
       "      <td>0.0</td>\n",
       "      <td>0.0</td>\n",
       "      <td>0.0</td>\n",
       "      <td>81.0</td>\n",
       "      <td>0.460396</td>\n",
       "      <td>0.272277</td>\n",
       "    </tr>\n",
       "    <tr>\n",
       "      <th>2</th>\n",
       "      <td>10</td>\n",
       "      <td>5196000.0</td>\n",
       "      <td>56.0</td>\n",
       "      <td>2015-08-20T00:00:00</td>\n",
       "      <td>2</td>\n",
       "      <td>NaN</td>\n",
       "      <td>5.0</td>\n",
       "      <td>34.3</td>\n",
       "      <td>4</td>\n",
       "      <td>True</td>\n",
       "      <td>...</td>\n",
       "      <td>Санкт-Петербург</td>\n",
       "      <td>21741.0</td>\n",
       "      <td>13933.0</td>\n",
       "      <td>1.0</td>\n",
       "      <td>90.0</td>\n",
       "      <td>2.0</td>\n",
       "      <td>574.0</td>\n",
       "      <td>558.0</td>\n",
       "      <td>0.612500</td>\n",
       "      <td>0.148214</td>\n",
       "    </tr>\n",
       "    <tr>\n",
       "      <th>3</th>\n",
       "      <td>0</td>\n",
       "      <td>64900000.0</td>\n",
       "      <td>159.0</td>\n",
       "      <td>2015-07-24T00:00:00</td>\n",
       "      <td>3</td>\n",
       "      <td>NaN</td>\n",
       "      <td>14.0</td>\n",
       "      <td>NaN</td>\n",
       "      <td>9</td>\n",
       "      <td>True</td>\n",
       "      <td>...</td>\n",
       "      <td>Санкт-Петербург</td>\n",
       "      <td>28098.0</td>\n",
       "      <td>6800.0</td>\n",
       "      <td>2.0</td>\n",
       "      <td>84.0</td>\n",
       "      <td>3.0</td>\n",
       "      <td>234.0</td>\n",
       "      <td>424.0</td>\n",
       "      <td>NaN</td>\n",
       "      <td>NaN</td>\n",
       "    </tr>\n",
       "    <tr>\n",
       "      <th>4</th>\n",
       "      <td>2</td>\n",
       "      <td>10000000.0</td>\n",
       "      <td>100.0</td>\n",
       "      <td>2018-06-19T00:00:00</td>\n",
       "      <td>2</td>\n",
       "      <td>3.03</td>\n",
       "      <td>14.0</td>\n",
       "      <td>32.0</td>\n",
       "      <td>13</td>\n",
       "      <td>True</td>\n",
       "      <td>...</td>\n",
       "      <td>Санкт-Петербург</td>\n",
       "      <td>31856.0</td>\n",
       "      <td>8098.0</td>\n",
       "      <td>2.0</td>\n",
       "      <td>112.0</td>\n",
       "      <td>1.0</td>\n",
       "      <td>48.0</td>\n",
       "      <td>121.0</td>\n",
       "      <td>0.320000</td>\n",
       "      <td>0.410000</td>\n",
       "    </tr>\n",
       "  </tbody>\n",
       "</table>\n",
       "<p>5 rows × 24 columns</p>\n",
       "</div>"
      ],
      "text/plain": [
       "   total_images  last_price  total_area first_day_exposition  rooms  \\\n",
       "0            20  13000000.0       108.0  2019-03-07T00:00:00      3   \n",
       "1             7   3350000.0        40.4  2018-12-04T00:00:00      1   \n",
       "2            10   5196000.0        56.0  2015-08-20T00:00:00      2   \n",
       "3             0  64900000.0       159.0  2015-07-24T00:00:00      3   \n",
       "4             2  10000000.0       100.0  2018-06-19T00:00:00      2   \n",
       "\n",
       "   ceiling_height  floors_total  living_area  floor  is_apartment  ...  \\\n",
       "0            2.70          16.0         51.0      8          True  ...   \n",
       "1             NaN          11.0         18.6      1          True  ...   \n",
       "2             NaN           5.0         34.3      4          True  ...   \n",
       "3             NaN          14.0          NaN      9          True  ...   \n",
       "4            3.03          14.0         32.0     13          True  ...   \n",
       "\n",
       "     locality_name  airports_nearest  city_centers_nearest  parks_around3000  \\\n",
       "0  Санкт-Петербург           18863.0               16028.0               1.0   \n",
       "1   посёлок Шушары           12817.0               18603.0               0.0   \n",
       "2  Санкт-Петербург           21741.0               13933.0               1.0   \n",
       "3  Санкт-Петербург           28098.0                6800.0               2.0   \n",
       "4  Санкт-Петербург           31856.0                8098.0               2.0   \n",
       "\n",
       "  parks_nearest  ponds_around3000  ponds_nearest  days_exposition  \\\n",
       "0         482.0               2.0          755.0              NaN   \n",
       "1           0.0               0.0            0.0             81.0   \n",
       "2          90.0               2.0          574.0            558.0   \n",
       "3          84.0               3.0          234.0            424.0   \n",
       "4         112.0               1.0           48.0            121.0   \n",
       "\n",
       "   living_area_percent  kitchen_area_percent  \n",
       "0             0.472222              0.231481  \n",
       "1             0.460396              0.272277  \n",
       "2             0.612500              0.148214  \n",
       "3                  NaN                   NaN  \n",
       "4             0.320000              0.410000  \n",
       "\n",
       "[5 rows x 24 columns]"
      ]
     },
     "execution_count": 13,
     "metadata": {},
     "output_type": "execute_result"
    }
   ],
   "source": [
    "try:\n",
    "    data['living_area_percent'] = data['living_area'] / data['total_area']\n",
    "    data['kitchen_area_percent'] = data['kitchen_area'] / data['total_area']\n",
    "except:\n",
    "    data['living_area_percent'] = NaN\n",
    "    data['kitchen_area_percent'] = NaN\n",
    "    \n",
    "data.head()    "
   ]
  },
  {
   "cell_type": "code",
   "execution_count": 14,
   "metadata": {},
   "outputs": [
    {
     "data": {
      "text/plain": [
       "(0.5664556962025316, 0.171875)"
      ]
     },
     "execution_count": 14,
     "metadata": {},
     "output_type": "execute_result"
    }
   ],
   "source": [
    "data_without_kitchen_nan = data.dropna(subset=['living_area', 'kitchen_area'])\n",
    "living_percent = data_without_kitchen_nan['living_area_percent'].median()\n",
    "kitchen_percent = data_without_kitchen_nan['kitchen_area_percent'].median()\n",
    "\n",
    "living_percent, kitchen_percent "
   ]
  },
  {
   "cell_type": "markdown",
   "metadata": {},
   "source": [
    "Заполняем все имеющиеся пропуски с учетом полученных медианных значений для этих двух помещений."
   ]
  },
  {
   "cell_type": "code",
   "execution_count": 15,
   "metadata": {},
   "outputs": [
    {
     "data": {
      "text/html": [
       "<div>\n",
       "<style scoped>\n",
       "    .dataframe tbody tr th:only-of-type {\n",
       "        vertical-align: middle;\n",
       "    }\n",
       "\n",
       "    .dataframe tbody tr th {\n",
       "        vertical-align: top;\n",
       "    }\n",
       "\n",
       "    .dataframe thead th {\n",
       "        text-align: right;\n",
       "    }\n",
       "</style>\n",
       "<table border=\"1\" class=\"dataframe\">\n",
       "  <thead>\n",
       "    <tr style=\"text-align: right;\">\n",
       "      <th></th>\n",
       "      <th>total_images</th>\n",
       "      <th>last_price</th>\n",
       "      <th>total_area</th>\n",
       "      <th>first_day_exposition</th>\n",
       "      <th>rooms</th>\n",
       "      <th>ceiling_height</th>\n",
       "      <th>floors_total</th>\n",
       "      <th>living_area</th>\n",
       "      <th>floor</th>\n",
       "      <th>is_apartment</th>\n",
       "      <th>...</th>\n",
       "      <th>locality_name</th>\n",
       "      <th>airports_nearest</th>\n",
       "      <th>city_centers_nearest</th>\n",
       "      <th>parks_around3000</th>\n",
       "      <th>parks_nearest</th>\n",
       "      <th>ponds_around3000</th>\n",
       "      <th>ponds_nearest</th>\n",
       "      <th>days_exposition</th>\n",
       "      <th>living_area_percent</th>\n",
       "      <th>kitchen_area_percent</th>\n",
       "    </tr>\n",
       "  </thead>\n",
       "  <tbody>\n",
       "    <tr>\n",
       "      <th>0</th>\n",
       "      <td>20</td>\n",
       "      <td>13000000.0</td>\n",
       "      <td>108.0</td>\n",
       "      <td>2019-03-07T00:00:00</td>\n",
       "      <td>3</td>\n",
       "      <td>2.70</td>\n",
       "      <td>16.0</td>\n",
       "      <td>51.000000</td>\n",
       "      <td>8</td>\n",
       "      <td>True</td>\n",
       "      <td>...</td>\n",
       "      <td>Санкт-Петербург</td>\n",
       "      <td>18863.0</td>\n",
       "      <td>16028.0</td>\n",
       "      <td>1.0</td>\n",
       "      <td>482.0</td>\n",
       "      <td>2.0</td>\n",
       "      <td>755.0</td>\n",
       "      <td>NaN</td>\n",
       "      <td>0.472222</td>\n",
       "      <td>0.231481</td>\n",
       "    </tr>\n",
       "    <tr>\n",
       "      <th>1</th>\n",
       "      <td>7</td>\n",
       "      <td>3350000.0</td>\n",
       "      <td>40.4</td>\n",
       "      <td>2018-12-04T00:00:00</td>\n",
       "      <td>1</td>\n",
       "      <td>NaN</td>\n",
       "      <td>11.0</td>\n",
       "      <td>18.600000</td>\n",
       "      <td>1</td>\n",
       "      <td>True</td>\n",
       "      <td>...</td>\n",
       "      <td>посёлок Шушары</td>\n",
       "      <td>12817.0</td>\n",
       "      <td>18603.0</td>\n",
       "      <td>0.0</td>\n",
       "      <td>0.0</td>\n",
       "      <td>0.0</td>\n",
       "      <td>0.0</td>\n",
       "      <td>81.0</td>\n",
       "      <td>0.460396</td>\n",
       "      <td>0.272277</td>\n",
       "    </tr>\n",
       "    <tr>\n",
       "      <th>2</th>\n",
       "      <td>10</td>\n",
       "      <td>5196000.0</td>\n",
       "      <td>56.0</td>\n",
       "      <td>2015-08-20T00:00:00</td>\n",
       "      <td>2</td>\n",
       "      <td>NaN</td>\n",
       "      <td>5.0</td>\n",
       "      <td>34.300000</td>\n",
       "      <td>4</td>\n",
       "      <td>True</td>\n",
       "      <td>...</td>\n",
       "      <td>Санкт-Петербург</td>\n",
       "      <td>21741.0</td>\n",
       "      <td>13933.0</td>\n",
       "      <td>1.0</td>\n",
       "      <td>90.0</td>\n",
       "      <td>2.0</td>\n",
       "      <td>574.0</td>\n",
       "      <td>558.0</td>\n",
       "      <td>0.612500</td>\n",
       "      <td>0.148214</td>\n",
       "    </tr>\n",
       "    <tr>\n",
       "      <th>3</th>\n",
       "      <td>0</td>\n",
       "      <td>64900000.0</td>\n",
       "      <td>159.0</td>\n",
       "      <td>2015-07-24T00:00:00</td>\n",
       "      <td>3</td>\n",
       "      <td>NaN</td>\n",
       "      <td>14.0</td>\n",
       "      <td>90.066456</td>\n",
       "      <td>9</td>\n",
       "      <td>True</td>\n",
       "      <td>...</td>\n",
       "      <td>Санкт-Петербург</td>\n",
       "      <td>28098.0</td>\n",
       "      <td>6800.0</td>\n",
       "      <td>2.0</td>\n",
       "      <td>84.0</td>\n",
       "      <td>3.0</td>\n",
       "      <td>234.0</td>\n",
       "      <td>424.0</td>\n",
       "      <td>NaN</td>\n",
       "      <td>NaN</td>\n",
       "    </tr>\n",
       "    <tr>\n",
       "      <th>4</th>\n",
       "      <td>2</td>\n",
       "      <td>10000000.0</td>\n",
       "      <td>100.0</td>\n",
       "      <td>2018-06-19T00:00:00</td>\n",
       "      <td>2</td>\n",
       "      <td>3.03</td>\n",
       "      <td>14.0</td>\n",
       "      <td>32.000000</td>\n",
       "      <td>13</td>\n",
       "      <td>True</td>\n",
       "      <td>...</td>\n",
       "      <td>Санкт-Петербург</td>\n",
       "      <td>31856.0</td>\n",
       "      <td>8098.0</td>\n",
       "      <td>2.0</td>\n",
       "      <td>112.0</td>\n",
       "      <td>1.0</td>\n",
       "      <td>48.0</td>\n",
       "      <td>121.0</td>\n",
       "      <td>0.320000</td>\n",
       "      <td>0.410000</td>\n",
       "    </tr>\n",
       "  </tbody>\n",
       "</table>\n",
       "<p>5 rows × 24 columns</p>\n",
       "</div>"
      ],
      "text/plain": [
       "   total_images  last_price  total_area first_day_exposition  rooms  \\\n",
       "0            20  13000000.0       108.0  2019-03-07T00:00:00      3   \n",
       "1             7   3350000.0        40.4  2018-12-04T00:00:00      1   \n",
       "2            10   5196000.0        56.0  2015-08-20T00:00:00      2   \n",
       "3             0  64900000.0       159.0  2015-07-24T00:00:00      3   \n",
       "4             2  10000000.0       100.0  2018-06-19T00:00:00      2   \n",
       "\n",
       "   ceiling_height  floors_total  living_area  floor  is_apartment  ...  \\\n",
       "0            2.70          16.0    51.000000      8          True  ...   \n",
       "1             NaN          11.0    18.600000      1          True  ...   \n",
       "2             NaN           5.0    34.300000      4          True  ...   \n",
       "3             NaN          14.0    90.066456      9          True  ...   \n",
       "4            3.03          14.0    32.000000     13          True  ...   \n",
       "\n",
       "     locality_name  airports_nearest  city_centers_nearest  parks_around3000  \\\n",
       "0  Санкт-Петербург           18863.0               16028.0               1.0   \n",
       "1   посёлок Шушары           12817.0               18603.0               0.0   \n",
       "2  Санкт-Петербург           21741.0               13933.0               1.0   \n",
       "3  Санкт-Петербург           28098.0                6800.0               2.0   \n",
       "4  Санкт-Петербург           31856.0                8098.0               2.0   \n",
       "\n",
       "  parks_nearest  ponds_around3000  ponds_nearest  days_exposition  \\\n",
       "0         482.0               2.0          755.0              NaN   \n",
       "1           0.0               0.0            0.0             81.0   \n",
       "2          90.0               2.0          574.0            558.0   \n",
       "3          84.0               3.0          234.0            424.0   \n",
       "4         112.0               1.0           48.0            121.0   \n",
       "\n",
       "   living_area_percent  kitchen_area_percent  \n",
       "0             0.472222              0.231481  \n",
       "1             0.460396              0.272277  \n",
       "2             0.612500              0.148214  \n",
       "3                  NaN                   NaN  \n",
       "4             0.320000              0.410000  \n",
       "\n",
       "[5 rows x 24 columns]"
      ]
     },
     "execution_count": 15,
     "metadata": {},
     "output_type": "execute_result"
    }
   ],
   "source": [
    "data.loc[(data['living_area'].isna()), 'living_area'] = data['total_area'] * living_percent\n",
    "data.loc[(data['kitchen_area'].isna()), 'kitchen_area'] = data['total_area'] * kitchen_percent\n",
    "    \n",
    "data.head()"
   ]
  },
  {
   "cell_type": "code",
   "execution_count": 16,
   "metadata": {},
   "outputs": [
    {
     "data": {
      "text/plain": [
       "total_images               0\n",
       "last_price                 0\n",
       "total_area                 0\n",
       "first_day_exposition       0\n",
       "rooms                      0\n",
       "ceiling_height          9195\n",
       "floors_total              86\n",
       "living_area                0\n",
       "floor                      0\n",
       "is_apartment               0\n",
       "studio                     0\n",
       "open_plan                  0\n",
       "kitchen_area               0\n",
       "balcony                    0\n",
       "locality_name             49\n",
       "airports_nearest        5479\n",
       "city_centers_nearest    5455\n",
       "parks_around3000           0\n",
       "parks_nearest              0\n",
       "ponds_around3000           0\n",
       "ponds_nearest              0\n",
       "days_exposition         3181\n",
       "living_area_percent     1903\n",
       "kitchen_area_percent    2278\n",
       "dtype: int64"
      ]
     },
     "execution_count": 16,
     "metadata": {},
     "output_type": "execute_result"
    }
   ],
   "source": [
    "data.isna().sum()"
   ]
  },
  {
   "cell_type": "markdown",
   "metadata": {},
   "source": [
    "Учитывая, что в массиве данных представлено 23699 строк, строки с пропущенными значениями в столбцах 'floors_total' и 'locality_name' составляют 0,6% от общего количества строк, их удаление не может повлиять значительно на итоговые значения. "
   ]
  },
  {
   "cell_type": "code",
   "execution_count": 17,
   "metadata": {},
   "outputs": [],
   "source": [
    "data = data.dropna(subset=['floors_total', 'locality_name'])"
   ]
  },
  {
   "cell_type": "markdown",
   "metadata": {},
   "source": [
    "Удалим созданные ранее столбцы 'living_area_percent', 'kitchen_area_percent' из датафрейма."
   ]
  },
  {
   "cell_type": "code",
   "execution_count": null,
   "metadata": {},
   "outputs": [],
   "source": [
    "data.drop(['living_area_percent', 'kitchen_area_percent'], axis=1, inplace=True)\n",
    "\n",
    "data.isna().sum()"
   ]
  },
  {
   "cell_type": "markdown",
   "metadata": {},
   "source": [
    "**Заполним пропуски в колонке ceiling_height.** Для определения метода заполнения пропусков в колонке ceiling_height рассмотрем, существует ли зависимость между высотой потолков и населенным пунктом, предварительно удалив все аномальные значения."
   ]
  },
  {
   "cell_type": "code",
   "execution_count": 19,
   "metadata": {},
   "outputs": [
    {
     "name": "stdout",
     "output_type": "stream",
     "text": [
      "2.7\n"
     ]
    },
    {
     "data": {
      "text/html": [
       "<div>\n",
       "<style scoped>\n",
       "    .dataframe tbody tr th:only-of-type {\n",
       "        vertical-align: middle;\n",
       "    }\n",
       "\n",
       "    .dataframe tbody tr th {\n",
       "        vertical-align: top;\n",
       "    }\n",
       "\n",
       "    .dataframe thead th {\n",
       "        text-align: right;\n",
       "    }\n",
       "</style>\n",
       "<table border=\"1\" class=\"dataframe\">\n",
       "  <thead>\n",
       "    <tr style=\"text-align: right;\">\n",
       "      <th></th>\n",
       "      <th>ceiling_height</th>\n",
       "    </tr>\n",
       "    <tr>\n",
       "      <th>locality_name</th>\n",
       "      <th></th>\n",
       "    </tr>\n",
       "  </thead>\n",
       "  <tbody>\n",
       "    <tr>\n",
       "      <th>Бокситогорск</th>\n",
       "      <td>3.90</td>\n",
       "    </tr>\n",
       "    <tr>\n",
       "      <th>Волосово</th>\n",
       "      <td>2.50</td>\n",
       "    </tr>\n",
       "    <tr>\n",
       "      <th>Волхов</th>\n",
       "      <td>2.58</td>\n",
       "    </tr>\n",
       "    <tr>\n",
       "      <th>Всеволожск</th>\n",
       "      <td>2.70</td>\n",
       "    </tr>\n",
       "    <tr>\n",
       "      <th>Выборг</th>\n",
       "      <td>2.55</td>\n",
       "    </tr>\n",
       "    <tr>\n",
       "      <th>...</th>\n",
       "      <td>...</td>\n",
       "    </tr>\n",
       "    <tr>\n",
       "      <th>садовое товарищество Рахья</th>\n",
       "      <td>2.60</td>\n",
       "    </tr>\n",
       "    <tr>\n",
       "      <th>село Копорье</th>\n",
       "      <td>2.50</td>\n",
       "    </tr>\n",
       "    <tr>\n",
       "      <th>село Павлово</th>\n",
       "      <td>2.75</td>\n",
       "    </tr>\n",
       "    <tr>\n",
       "      <th>село Путилово</th>\n",
       "      <td>2.55</td>\n",
       "    </tr>\n",
       "    <tr>\n",
       "      <th>село Русско-Высоцкое</th>\n",
       "      <td>2.60</td>\n",
       "    </tr>\n",
       "  </tbody>\n",
       "</table>\n",
       "<p>281 rows × 1 columns</p>\n",
       "</div>"
      ],
      "text/plain": [
       "                            ceiling_height\n",
       "locality_name                             \n",
       "Бокситогорск                          3.90\n",
       "Волосово                              2.50\n",
       "Волхов                                2.58\n",
       "Всеволожск                            2.70\n",
       "Выборг                                2.55\n",
       "...                                    ...\n",
       "садовое товарищество Рахья            2.60\n",
       "село Копорье                          2.50\n",
       "село Павлово                          2.75\n",
       "село Путилово                         2.55\n",
       "село Русско-Высоцкое                  2.60\n",
       "\n",
       "[281 rows x 1 columns]"
      ]
     },
     "execution_count": 19,
     "metadata": {},
     "output_type": "execute_result"
    }
   ],
   "source": [
    "data_middle_ceil = data.query('ceiling_height>2.2 and ceiling_height<6 and ceiling_height!=\"NaN\"')\n",
    "print(data_middle_ceil.query('locality_name == \"Санкт-Петербург\"')['ceiling_height'].median())\n",
    "data_middle_ceil.pivot_table(index='locality_name', values='ceiling_height', aggfunc='median')"
   ]
  },
  {
   "cell_type": "markdown",
   "metadata": {},
   "source": [
    "Данный расчет выглядит усредненно и не показывает какой-либо зависимости в этих данных. \n",
    "\n",
    "Попробуем посмотреть зависимость высоты потолка от удаленности объекта от центра города. Гипотетически, в центра Санкт-Петербурга преобладает старая застройка с более высокими потоками, в то время как в состедних населенных пунктах или в удалении от центра может преобладать советская или современная застройка с более низкими потолками.\n",
    "\n",
    "Построим график зависимости высоты потолков от удаленности от центра:"
   ]
  },
  {
   "cell_type": "code",
   "execution_count": 20,
   "metadata": {},
   "outputs": [
    {
     "data": {
      "text/plain": [
       "<AxesSubplot:xlabel='city_centers_nearest'>"
      ]
     },
     "execution_count": 20,
     "metadata": {},
     "output_type": "execute_result"
    },
    {
     "data": {
      "image/png": "[encoded data removed]",
      "text/plain": [
       "<Figure size 648x216 with 1 Axes>"
      ]
     },
     "metadata": {
      "needs_background": "light"
     },
     "output_type": "display_data"
    }
   ],
   "source": [
    "data.plot(x='city_centers_nearest', y='ceiling_height', style='o', ylim=(0, 6), grid=True, figsize=(9,3))"
   ]
  },
  {
   "cell_type": "markdown",
   "metadata": {},
   "source": [
    "На графике прослеживается зависимость высоты потолков от близости к центру города. Напишем функцию для выделения нового столбца с категориальным значением для удаленности."
   ]
  },
  {
   "cell_type": "code",
   "execution_count": 21,
   "metadata": {},
   "outputs": [],
   "source": [
    "def location_func(location):\n",
    "    try:\n",
    "        if 0<=location<=5000:\n",
    "            return 'city_center'\n",
    "        elif 5000<location<=10000:\n",
    "            return 'middle_area'\n",
    "        elif 10000<location:\n",
    "            return 'far_area'\n",
    "    except:\n",
    "        pass\n",
    "    \n",
    "data['area'] = data['city_centers_nearest'].apply(location_func)\n",
    "        "
   ]
  },
  {
   "cell_type": "markdown",
   "metadata": {},
   "source": [
    "Определим медианное значение высоты потолка в каждой из определенных зон."
   ]
  },
  {
   "cell_type": "code",
   "execution_count": 22,
   "metadata": {},
   "outputs": [
    {
     "data": {
      "text/html": [
       "<div>\n",
       "<style scoped>\n",
       "    .dataframe tbody tr th:only-of-type {\n",
       "        vertical-align: middle;\n",
       "    }\n",
       "\n",
       "    .dataframe tbody tr th {\n",
       "        vertical-align: top;\n",
       "    }\n",
       "\n",
       "    .dataframe thead th {\n",
       "        text-align: right;\n",
       "    }\n",
       "</style>\n",
       "<table border=\"1\" class=\"dataframe\">\n",
       "  <thead>\n",
       "    <tr style=\"text-align: right;\">\n",
       "      <th></th>\n",
       "      <th>ceiling_height</th>\n",
       "    </tr>\n",
       "    <tr>\n",
       "      <th>area</th>\n",
       "      <th></th>\n",
       "    </tr>\n",
       "  </thead>\n",
       "  <tbody>\n",
       "    <tr>\n",
       "      <th>far_area</th>\n",
       "      <td>2.6</td>\n",
       "    </tr>\n",
       "    <tr>\n",
       "      <th>middle_area</th>\n",
       "      <td>2.8</td>\n",
       "    </tr>\n",
       "    <tr>\n",
       "      <th>city_center</th>\n",
       "      <td>3.1</td>\n",
       "    </tr>\n",
       "  </tbody>\n",
       "</table>\n",
       "</div>"
      ],
      "text/plain": [
       "             ceiling_height\n",
       "area                       \n",
       "far_area                2.6\n",
       "middle_area             2.8\n",
       "city_center             3.1"
      ]
     },
     "execution_count": 22,
     "metadata": {},
     "output_type": "execute_result"
    }
   ],
   "source": [
    "(data.\n",
    " query('ceiling_height>2.2 and ceiling_height<6 and ceiling_height!=\"NaN\"').\n",
    " pivot_table(index='area', values='ceiling_height', aggfunc='median').\n",
    " sort_values('ceiling_height')\n",
    ")"
   ]
  },
  {
   "cell_type": "markdown",
   "metadata": {},
   "source": [
    "Учитывая полученные данные, высота потолков зависит от места нахождения объекта недвижимости.\n",
    "Заполним пропущенные значения исходя из полученных данных.\n",
    "\n",
    "После этого, удалим созданный ранее столбец с распределением зон."
   ]
  },
  {
   "cell_type": "code",
   "execution_count": 23,
   "metadata": {},
   "outputs": [
    {
     "data": {
      "text/html": [
       "<div>\n",
       "<style scoped>\n",
       "    .dataframe tbody tr th:only-of-type {\n",
       "        vertical-align: middle;\n",
       "    }\n",
       "\n",
       "    .dataframe tbody tr th {\n",
       "        vertical-align: top;\n",
       "    }\n",
       "\n",
       "    .dataframe thead th {\n",
       "        text-align: right;\n",
       "    }\n",
       "</style>\n",
       "<table border=\"1\" class=\"dataframe\">\n",
       "  <thead>\n",
       "    <tr style=\"text-align: right;\">\n",
       "      <th></th>\n",
       "      <th>total_images</th>\n",
       "      <th>last_price</th>\n",
       "      <th>total_area</th>\n",
       "      <th>first_day_exposition</th>\n",
       "      <th>rooms</th>\n",
       "      <th>ceiling_height</th>\n",
       "      <th>floors_total</th>\n",
       "      <th>living_area</th>\n",
       "      <th>floor</th>\n",
       "      <th>is_apartment</th>\n",
       "      <th>...</th>\n",
       "      <th>kitchen_area</th>\n",
       "      <th>balcony</th>\n",
       "      <th>locality_name</th>\n",
       "      <th>airports_nearest</th>\n",
       "      <th>city_centers_nearest</th>\n",
       "      <th>parks_around3000</th>\n",
       "      <th>parks_nearest</th>\n",
       "      <th>ponds_around3000</th>\n",
       "      <th>ponds_nearest</th>\n",
       "      <th>days_exposition</th>\n",
       "    </tr>\n",
       "  </thead>\n",
       "  <tbody>\n",
       "    <tr>\n",
       "      <th>0</th>\n",
       "      <td>20</td>\n",
       "      <td>13000000.0</td>\n",
       "      <td>108.0</td>\n",
       "      <td>2019-03-07T00:00:00</td>\n",
       "      <td>3</td>\n",
       "      <td>2.70</td>\n",
       "      <td>16.0</td>\n",
       "      <td>51.000000</td>\n",
       "      <td>8</td>\n",
       "      <td>True</td>\n",
       "      <td>...</td>\n",
       "      <td>25.000000</td>\n",
       "      <td>0.0</td>\n",
       "      <td>Санкт-Петербург</td>\n",
       "      <td>18863.0</td>\n",
       "      <td>16028.0</td>\n",
       "      <td>1.0</td>\n",
       "      <td>482.0</td>\n",
       "      <td>2.0</td>\n",
       "      <td>755.0</td>\n",
       "      <td>NaN</td>\n",
       "    </tr>\n",
       "    <tr>\n",
       "      <th>1</th>\n",
       "      <td>7</td>\n",
       "      <td>3350000.0</td>\n",
       "      <td>40.4</td>\n",
       "      <td>2018-12-04T00:00:00</td>\n",
       "      <td>1</td>\n",
       "      <td>2.60</td>\n",
       "      <td>11.0</td>\n",
       "      <td>18.600000</td>\n",
       "      <td>1</td>\n",
       "      <td>True</td>\n",
       "      <td>...</td>\n",
       "      <td>11.000000</td>\n",
       "      <td>2.0</td>\n",
       "      <td>посёлок Шушары</td>\n",
       "      <td>12817.0</td>\n",
       "      <td>18603.0</td>\n",
       "      <td>0.0</td>\n",
       "      <td>0.0</td>\n",
       "      <td>0.0</td>\n",
       "      <td>0.0</td>\n",
       "      <td>81.0</td>\n",
       "    </tr>\n",
       "    <tr>\n",
       "      <th>2</th>\n",
       "      <td>10</td>\n",
       "      <td>5196000.0</td>\n",
       "      <td>56.0</td>\n",
       "      <td>2015-08-20T00:00:00</td>\n",
       "      <td>2</td>\n",
       "      <td>2.60</td>\n",
       "      <td>5.0</td>\n",
       "      <td>34.300000</td>\n",
       "      <td>4</td>\n",
       "      <td>True</td>\n",
       "      <td>...</td>\n",
       "      <td>8.300000</td>\n",
       "      <td>0.0</td>\n",
       "      <td>Санкт-Петербург</td>\n",
       "      <td>21741.0</td>\n",
       "      <td>13933.0</td>\n",
       "      <td>1.0</td>\n",
       "      <td>90.0</td>\n",
       "      <td>2.0</td>\n",
       "      <td>574.0</td>\n",
       "      <td>558.0</td>\n",
       "    </tr>\n",
       "    <tr>\n",
       "      <th>3</th>\n",
       "      <td>0</td>\n",
       "      <td>64900000.0</td>\n",
       "      <td>159.0</td>\n",
       "      <td>2015-07-24T00:00:00</td>\n",
       "      <td>3</td>\n",
       "      <td>2.80</td>\n",
       "      <td>14.0</td>\n",
       "      <td>90.066456</td>\n",
       "      <td>9</td>\n",
       "      <td>True</td>\n",
       "      <td>...</td>\n",
       "      <td>27.328125</td>\n",
       "      <td>0.0</td>\n",
       "      <td>Санкт-Петербург</td>\n",
       "      <td>28098.0</td>\n",
       "      <td>6800.0</td>\n",
       "      <td>2.0</td>\n",
       "      <td>84.0</td>\n",
       "      <td>3.0</td>\n",
       "      <td>234.0</td>\n",
       "      <td>424.0</td>\n",
       "    </tr>\n",
       "    <tr>\n",
       "      <th>4</th>\n",
       "      <td>2</td>\n",
       "      <td>10000000.0</td>\n",
       "      <td>100.0</td>\n",
       "      <td>2018-06-19T00:00:00</td>\n",
       "      <td>2</td>\n",
       "      <td>3.03</td>\n",
       "      <td>14.0</td>\n",
       "      <td>32.000000</td>\n",
       "      <td>13</td>\n",
       "      <td>True</td>\n",
       "      <td>...</td>\n",
       "      <td>41.000000</td>\n",
       "      <td>0.0</td>\n",
       "      <td>Санкт-Петербург</td>\n",
       "      <td>31856.0</td>\n",
       "      <td>8098.0</td>\n",
       "      <td>2.0</td>\n",
       "      <td>112.0</td>\n",
       "      <td>1.0</td>\n",
       "      <td>48.0</td>\n",
       "      <td>121.0</td>\n",
       "    </tr>\n",
       "  </tbody>\n",
       "</table>\n",
       "<p>5 rows × 22 columns</p>\n",
       "</div>"
      ],
      "text/plain": [
       "   total_images  last_price  total_area first_day_exposition  rooms  \\\n",
       "0            20  13000000.0       108.0  2019-03-07T00:00:00      3   \n",
       "1             7   3350000.0        40.4  2018-12-04T00:00:00      1   \n",
       "2            10   5196000.0        56.0  2015-08-20T00:00:00      2   \n",
       "3             0  64900000.0       159.0  2015-07-24T00:00:00      3   \n",
       "4             2  10000000.0       100.0  2018-06-19T00:00:00      2   \n",
       "\n",
       "   ceiling_height  floors_total  living_area  floor  is_apartment  ...  \\\n",
       "0            2.70          16.0    51.000000      8          True  ...   \n",
       "1            2.60          11.0    18.600000      1          True  ...   \n",
       "2            2.60           5.0    34.300000      4          True  ...   \n",
       "3            2.80          14.0    90.066456      9          True  ...   \n",
       "4            3.03          14.0    32.000000     13          True  ...   \n",
       "\n",
       "   kitchen_area  balcony    locality_name  airports_nearest  \\\n",
       "0     25.000000      0.0  Санкт-Петербург           18863.0   \n",
       "1     11.000000      2.0   посёлок Шушары           12817.0   \n",
       "2      8.300000      0.0  Санкт-Петербург           21741.0   \n",
       "3     27.328125      0.0  Санкт-Петербург           28098.0   \n",
       "4     41.000000      0.0  Санкт-Петербург           31856.0   \n",
       "\n",
       "  city_centers_nearest  parks_around3000  parks_nearest  ponds_around3000  \\\n",
       "0              16028.0               1.0          482.0               2.0   \n",
       "1              18603.0               0.0            0.0               0.0   \n",
       "2              13933.0               1.0           90.0               2.0   \n",
       "3               6800.0               2.0           84.0               3.0   \n",
       "4               8098.0               2.0          112.0               1.0   \n",
       "\n",
       "   ponds_nearest  days_exposition  \n",
       "0          755.0              NaN  \n",
       "1            0.0             81.0  \n",
       "2          574.0            558.0  \n",
       "3          234.0            424.0  \n",
       "4           48.0            121.0  \n",
       "\n",
       "[5 rows x 22 columns]"
      ]
     },
     "execution_count": 23,
     "metadata": {},
     "output_type": "execute_result"
    }
   ],
   "source": [
    "data.loc[(data['area'] == 'far_area') & (data['ceiling_height'].isna()), 'ceiling_height'] = 2.6\n",
    "data.loc[(data['area'] == 'middle_area') & (data['ceiling_height'].isna()), 'ceiling_height'] = 2.8\n",
    "data.loc[(data['area'] == 'city_center') & (data['ceiling_height'].isna()), 'ceiling_height'] = 3.1\n",
    "\n",
    "data.drop(['area'], axis=1, inplace=True)\n",
    "\n",
    "data.head()"
   ]
  },
  {
   "cell_type": "code",
   "execution_count": 24,
   "metadata": {},
   "outputs": [
    {
     "data": {
      "text/plain": [
       "total_images               0\n",
       "last_price                 0\n",
       "total_area                 0\n",
       "first_day_exposition       0\n",
       "rooms                      0\n",
       "ceiling_height          2522\n",
       "floors_total               0\n",
       "living_area                0\n",
       "floor                      0\n",
       "is_apartment               0\n",
       "studio                     0\n",
       "open_plan                  0\n",
       "kitchen_area               0\n",
       "balcony                    0\n",
       "locality_name              0\n",
       "airports_nearest        5462\n",
       "city_centers_nearest    5438\n",
       "parks_around3000           0\n",
       "parks_nearest              0\n",
       "ponds_around3000           0\n",
       "ponds_nearest              0\n",
       "days_exposition         3171\n",
       "dtype: int64"
      ]
     },
     "execution_count": 24,
     "metadata": {},
     "output_type": "execute_result"
    }
   ],
   "source": [
    "data.isna().sum()"
   ]
  },
  {
   "cell_type": "markdown",
   "metadata": {},
   "source": [
    " **Обработка дубликатов**"
   ]
  },
  {
   "cell_type": "markdown",
   "metadata": {},
   "source": [
    "**Проведем обработку дубликатов в данных.**\n",
    "\n",
    "В первую очередь определим наличие явных дубликатов."
   ]
  },
  {
   "cell_type": "code",
   "execution_count": 25,
   "metadata": {},
   "outputs": [
    {
     "data": {
      "text/plain": [
       "0"
      ]
     },
     "execution_count": 25,
     "metadata": {},
     "output_type": "execute_result"
    }
   ],
   "source": [
    "data.duplicated().sum()"
   ]
  },
  {
   "cell_type": "markdown",
   "metadata": {},
   "source": [
    "Явные дубликаты отсутствуют.\n",
    "\n",
    "Проанализируем список с уникальными названиями населенных пунктов, поскольку в нем можут содержаться различные формы написания."
   ]
  },
  {
   "cell_type": "code",
   "execution_count": 26,
   "metadata": {},
   "outputs": [
    {
     "name": "stdout",
     "output_type": "stream",
     "text": [
      "364\n"
     ]
    },
    {
     "data": {
      "text/plain": [
       "array(['Санкт-Петербург', 'посёлок Шушары', 'городской посёлок Янино-1',\n",
       "       'посёлок Парголово', 'посёлок Мурино', 'Ломоносов', 'Сертолово',\n",
       "       'Петергоф', 'Пушкин', 'деревня Кудрово', 'Коммунар', 'Колпино',\n",
       "       'поселок городского типа Красный Бор', 'Гатчина', 'поселок Мурино',\n",
       "       'деревня Фёдоровское', 'Выборг', 'Кронштадт', 'Кировск',\n",
       "       'деревня Новое Девяткино', 'посёлок Металлострой',\n",
       "       'посёлок городского типа Лебяжье',\n",
       "       'посёлок городского типа Сиверский', 'поселок Молодцово',\n",
       "       'поселок городского типа Кузьмоловский',\n",
       "       'садовое товарищество Новая Ропша', 'Павловск',\n",
       "       'деревня Пикколово', 'Всеволожск', 'Волхов', 'Кингисепп',\n",
       "       'Приозерск', 'Сестрорецк', 'деревня Куттузи', 'посёлок Аннино',\n",
       "       'поселок городского типа Ефимовский', 'посёлок Плодовое',\n",
       "       'деревня Заклинье', 'поселок Торковичи', 'поселок Первомайское',\n",
       "       'Красное Село', 'посёлок Понтонный', 'Сясьстрой', 'деревня Старая',\n",
       "       'деревня Лесколово', 'посёлок Новый Свет', 'Сланцы',\n",
       "       'село Путилово', 'Ивангород', 'Мурино', 'Шлиссельбург',\n",
       "       'Никольское', 'Зеленогорск', 'Сосновый Бор', 'поселок Новый Свет',\n",
       "       'деревня Оржицы', 'деревня Кальтино', 'Кудрово',\n",
       "       'поселок Романовка', 'посёлок Бугры', 'поселок Бугры',\n",
       "       'поселок городского типа Рощино', 'Кириши', 'Луга', 'Волосово',\n",
       "       'Отрадное', 'село Павлово', 'поселок Оредеж', 'село Копорье',\n",
       "       'посёлок городского типа Красный Бор', 'посёлок Молодёжное',\n",
       "       'Тихвин', 'посёлок Победа', 'деревня Нурма',\n",
       "       'поселок городского типа Синявино', 'Тосно',\n",
       "       'посёлок городского типа Кузьмоловский', 'посёлок Стрельна',\n",
       "       'Бокситогорск', 'посёлок Александровская', 'деревня Лопухинка',\n",
       "       'Пикалёво', 'поселок Терволово',\n",
       "       'поселок городского типа Советский', 'Подпорожье',\n",
       "       'посёлок Петровское', 'посёлок городского типа Токсово',\n",
       "       'поселок Сельцо', 'посёлок городского типа Вырица',\n",
       "       'деревня Кипень', 'деревня Келози', 'деревня Вартемяги',\n",
       "       'посёлок Тельмана', 'поселок Севастьяново',\n",
       "       'городской поселок Большая Ижора', 'городской посёлок Павлово',\n",
       "       'деревня Агалатово', 'посёлок Новогорелово',\n",
       "       'городской посёлок Лесогорский', 'деревня Лаголово',\n",
       "       'поселок Цвелодубово', 'поселок городского типа Рахья',\n",
       "       'поселок городского типа Вырица', 'деревня Белогорка',\n",
       "       'поселок Заводской', 'городской посёлок Новоселье',\n",
       "       'деревня Большие Колпаны', 'деревня Горбунки', 'деревня Батово',\n",
       "       'деревня Заневка', 'деревня Иссад', 'Приморск',\n",
       "       'городской посёлок Фёдоровское', 'деревня Мистолово',\n",
       "       'Новая Ладога', 'поселок Зимитицы', 'поселок Барышево',\n",
       "       'деревня Разметелево', 'поселок городского типа имени Свердлова',\n",
       "       'деревня Пеники', 'поселок Рябово', 'деревня Пудомяги',\n",
       "       'поселок станции Корнево', 'деревня Низино', 'деревня Бегуницы',\n",
       "       'посёлок Поляны', 'городской посёлок Мга', 'поселок Елизаветино',\n",
       "       'посёлок городского типа Кузнечное', 'деревня Колтуши',\n",
       "       'поселок Запорожское', 'посёлок городского типа Рощино',\n",
       "       'деревня Гостилицы', 'деревня Малое Карлино',\n",
       "       'посёлок Мичуринское', 'посёлок городского типа имени Морозова',\n",
       "       'посёлок Песочный', 'посёлок Сосново', 'деревня Аро',\n",
       "       'поселок Ильичёво', 'посёлок городского типа Тайцы',\n",
       "       'деревня Малое Верево', 'деревня Извара', 'поселок станции Вещево',\n",
       "       'село Паша', 'деревня Калитино',\n",
       "       'посёлок городского типа Ульяновка', 'деревня Чудской Бор',\n",
       "       'поселок городского типа Дубровка', 'деревня Мины',\n",
       "       'поселок Войсковицы', 'посёлок городского типа имени Свердлова',\n",
       "       'деревня Коркино', 'посёлок Ропша',\n",
       "       'поселок городского типа Приладожский', 'посёлок Щеглово',\n",
       "       'посёлок Гаврилово', 'Лодейное Поле', 'деревня Рабитицы',\n",
       "       'поселок городского типа Никольский', 'деревня Кузьмолово',\n",
       "       'деревня Малые Колпаны', 'поселок Тельмана',\n",
       "       'посёлок Петро-Славянка', 'городской посёлок Назия',\n",
       "       'посёлок Репино', 'посёлок Ильичёво', 'поселок Углово',\n",
       "       'поселок Старая Малукса', 'садовое товарищество Рахья',\n",
       "       'поселок Аннино', 'поселок Победа', 'деревня Меньково',\n",
       "       'деревня Старые Бегуницы', 'посёлок Сапёрный', 'поселок Семрино',\n",
       "       'поселок Гаврилово', 'поселок Глажево', 'поселок Кобринское',\n",
       "       'деревня Гарболово', 'деревня Юкки',\n",
       "       'поселок станции Приветнинское', 'деревня Мануйлово',\n",
       "       'деревня Пчева', 'поселок Поляны', 'поселок Цвылёво',\n",
       "       'поселок Мельниково', 'посёлок Пудость', 'посёлок Усть-Луга',\n",
       "       'Светогорск', 'Любань', 'поселок Селезнёво',\n",
       "       'поселок городского типа Рябово', 'Каменногорск', 'деревня Кривко',\n",
       "       'поселок Глебычево', 'деревня Парицы', 'поселок Жилпосёлок',\n",
       "       'посёлок городского типа Мга', 'городской поселок Янино-1',\n",
       "       'посёлок Войскорово', 'село Никольское', 'посёлок Терволово',\n",
       "       'поселок Стеклянный', 'посёлок городского типа Важины',\n",
       "       'посёлок Мыза-Ивановка', 'село Русско-Высоцкое',\n",
       "       'поселок городского типа Лебяжье',\n",
       "       'поселок городского типа Форносово', 'село Старая Ладога',\n",
       "       'поселок Житково', 'городской посёлок Виллози', 'деревня Лампово',\n",
       "       'деревня Шпаньково', 'деревня Лаврики', 'посёлок Сумино',\n",
       "       'посёлок Возрождение', 'деревня Старосиверская',\n",
       "       'посёлок Кикерино', 'поселок Возрождение',\n",
       "       'деревня Старое Хинколово', 'посёлок Пригородный',\n",
       "       'посёлок Торфяное', 'городской посёлок Будогощь',\n",
       "       'поселок Суходолье', 'поселок Красная Долина', 'деревня Хапо-Ое',\n",
       "       'поселок городского типа Дружная Горка', 'поселок Лисий Нос',\n",
       "       'деревня Яльгелево', 'посёлок Стеклянный', 'село Рождествено',\n",
       "       'деревня Старополье', 'посёлок Левашово', 'деревня Сяськелево',\n",
       "       'деревня Камышовка',\n",
       "       'садоводческое некоммерческое товарищество Лесная Поляна',\n",
       "       'деревня Хязельки', 'поселок Жилгородок',\n",
       "       'посёлок городского типа Павлово', 'деревня Ялгино',\n",
       "       'поселок Новый Учхоз', 'городской посёлок Рощино',\n",
       "       'поселок Гончарово', 'поселок Почап', 'посёлок Сапёрное',\n",
       "       'посёлок Платформа 69-й километр', 'поселок Каложицы',\n",
       "       'деревня Фалилеево', 'деревня Пельгора',\n",
       "       'поселок городского типа Лесогорский', 'деревня Торошковичи',\n",
       "       'посёлок Белоостров', 'посёлок Алексеевка', 'поселок Серебрянский',\n",
       "       'поселок Лукаши', 'поселок Петровское', 'деревня Щеглово',\n",
       "       'поселок Мичуринское', 'деревня Тарасово', 'поселок Кингисеппский',\n",
       "       'посёлок при железнодорожной станции Вещево', 'поселок Ушаки',\n",
       "       'деревня Котлы', 'деревня Сижно', 'деревня Торосово',\n",
       "       'посёлок Форт Красная Горка', 'деревня Новолисино',\n",
       "       'посёлок станции Громово', 'деревня Глинка', 'посёлок Мельниково',\n",
       "       'поселок городского типа Назия', 'деревня Старая Пустошь',\n",
       "       'поселок Коммунары', 'поселок Починок',\n",
       "       'посёлок городского типа Вознесенье', 'деревня Разбегаево',\n",
       "       'посёлок городского типа Рябово', 'поселок Гладкое',\n",
       "       'посёлок при железнодорожной станции Приветнинское',\n",
       "       'поселок Тёсово-4', 'посёлок Жилгородок', 'деревня Бор',\n",
       "       'посёлок Коробицыно', 'деревня Большая Вруда', 'деревня Курковицы',\n",
       "       'посёлок Лисий Нос', 'городской посёлок Советский',\n",
       "       'посёлок Кобралово', 'деревня Суоранда', 'поселок Кобралово',\n",
       "       'поселок городского типа Кондратьево',\n",
       "       'коттеджный поселок Счастье', 'поселок Любань', 'деревня Реброво',\n",
       "       'деревня Зимитицы', 'деревня Тойворово', 'поселок Семиозерье',\n",
       "       'поселок Лесное', 'поселок Совхозный', 'поселок Усть-Луга',\n",
       "       'посёлок Ленинское', 'посёлок Суйда',\n",
       "       'посёлок городского типа Форносово', 'деревня Нижние Осельки',\n",
       "       'посёлок станции Свирь', 'поселок Перово', 'Высоцк',\n",
       "       'поселок Гарболово', 'село Шум', 'поселок Котельский',\n",
       "       'поселок станции Лужайка', 'деревня Большая Пустомержа',\n",
       "       'поселок Красносельское', 'деревня Вахнова Кара', 'деревня Пижма',\n",
       "       'коттеджный поселок Кивеннапа Север', 'поселок Коробицыно',\n",
       "       'поселок Ромашки', 'посёлок Перово', 'деревня Каськово',\n",
       "       'деревня Куровицы', 'посёлок Плоское', 'поселок Сумино',\n",
       "       'поселок городского типа Большая Ижора', 'поселок Кирпичное',\n",
       "       'деревня Ям-Тесово', 'деревня Раздолье', 'деревня Терпилицы',\n",
       "       'поселок городского типа Токсово', 'посёлок Шугозеро',\n",
       "       'деревня Ваганово', 'поселок Пушное', 'садовое товарищество Садко',\n",
       "       'посёлок Усть-Ижора', 'деревня Выскатка',\n",
       "       'городской посёлок Свирьстрой', 'поселок Громово',\n",
       "       'деревня Кисельня', 'посёлок Старая Малукса',\n",
       "       'деревня Трубников Бор', 'поселок Калитино',\n",
       "       'посёлок Высокоключевой', 'садовое товарищество Приладожский',\n",
       "       'посёлок Пансионат Зелёный Бор', 'деревня Ненимяки',\n",
       "       'поселок Пансионат Зелёный Бор', 'деревня Снегирёвка',\n",
       "       'деревня Рапполово', 'деревня Пустынка', 'поселок Рабитицы',\n",
       "       'деревня Большой Сабск', 'деревня Русско', 'деревня Лупполово',\n",
       "       'деревня Большое Рейзино', 'деревня Малая Романовка',\n",
       "       'поселок Дружноселье', 'поселок Пчевжа', 'поселок Володарское',\n",
       "       'деревня Нижняя', 'коттеджный посёлок Лесное', 'деревня Тихковицы',\n",
       "       'деревня Борисова Грива', 'посёлок Дзержинского'], dtype=object)"
      ]
     },
     "execution_count": 26,
     "metadata": {},
     "output_type": "execute_result"
    }
   ],
   "source": [
    "print (len(data['locality_name'].unique()))\n",
    "data['locality_name'].unique()"
   ]
  },
  {
   "cell_type": "markdown",
   "metadata": {},
   "source": [
    "Как и предполагалось ранее, написание слова 'посёлок' имеет два варианта с буквой е и буквой ё, в связи с чем, многие населенные пункты задвоены. Так же некоторые населенные пункты с одинаковыми названиями  могут быть прописаны как \"поселок городского типа\" и \"поселок\", что так же задваивает их в списке. \n",
    "\n",
    "В связи с этим, оставим в данных только название населенного пункта без указания его типа."
   ]
  },
  {
   "cell_type": "code",
   "execution_count": 27,
   "metadata": {
    "scrolled": true
   },
   "outputs": [
    {
     "data": {
      "text/plain": [
       "array(['Агалатово', 'Александровская', 'Алексеевка', 'Аннино', 'Аро',\n",
       "       'Барышево', 'Батово', 'Бегуницы', 'Белогорка', 'Белоостров',\n",
       "       'Бокситогорск', 'Бор', 'Бугры', 'Будогощь', 'Ваганово', 'Важины',\n",
       "       'Вартемяги', 'Верево', 'Вещево', 'Виллози', 'Вознесенье',\n",
       "       'Возрождение', 'Войсковицы', 'Войскорово', 'Володарское',\n",
       "       'Волосово', 'Волхов', 'Вруда', 'Всеволожск', 'Выборг', 'Вырица',\n",
       "       'Выскатка', 'Высокоключевой', 'Высоцк', 'Гаврилово', 'Гарболово',\n",
       "       'Гатчина', 'Гладкое', 'Глажево', 'Глебычево', 'Глинка',\n",
       "       'Гончарово', 'Горбунки', 'Горка', 'Гостилицы', 'Грива', 'Громово',\n",
       "       'Девяткино', 'Дзержинского', 'Долина', 'Дружноселье', 'Дубровка',\n",
       "       'Елизаветино', 'Ефимовский', 'Жилгородок', 'Жилпосёлок', 'Житково',\n",
       "       'Заводской', 'Заклинье', 'Заневка', 'Запорожское', 'Зеленогорск',\n",
       "       'Зимитицы', 'Ивангород', 'Ижора', 'Извара', 'Ильичёво', 'Иссад',\n",
       "       'Калитино', 'Каложицы', 'Кальтино', 'Каменногорск', 'Камышовка',\n",
       "       'Кара', 'Карлино', 'Каськово', 'Келози', 'Кикерино', 'Кингисепп',\n",
       "       'Кингисеппский', 'Кипень', 'Кириши', 'Кировск', 'Кирпичное',\n",
       "       'Кисельня', 'Кобралово', 'Кобринское', 'Колпаны', 'Колпино',\n",
       "       'Колтуши', 'Коммунар', 'Коммунары', 'Кондратьево', 'Копорье',\n",
       "       'Коркино', 'Корнево', 'Коробицыно', 'Котельский', 'Котлы',\n",
       "       'Красносельское', 'Кривко', 'Кронштадт', 'Кудрово', 'Кузнечное',\n",
       "       'Кузьмолово', 'Кузьмоловский', 'Курковицы', 'Куровицы', 'Куттузи',\n",
       "       'Лаврики', 'Лаголово', 'Ладога', 'Лампово', 'Лебяжье', 'Левашово',\n",
       "       'Ленинское', 'Лесколово', 'Лесное', 'Лесогорский', 'Ломоносов',\n",
       "       'Лопухинка', 'Луга', 'Лужайка', 'Лукаши', 'Лупполово', 'Любань',\n",
       "       'Малукса', 'Мануйлово', 'Мга', 'Мельниково', 'Меньково',\n",
       "       'Металлострой', 'Мины', 'Мистолово', 'Мичуринское', 'Молодцово',\n",
       "       'Молодёжное', 'Морозова', 'Мурино', 'Мыза-Ивановка', 'Назия',\n",
       "       'Ненимяки', 'Нижняя', 'Низино', 'Никольский', 'Никольское',\n",
       "       'Новогорелово', 'Новолисино', 'Новоселье', 'Нос', 'Нурма',\n",
       "       'Оредеж', 'Оржицы', 'Осельки', 'Отрадное', 'Павлово', 'Павловск',\n",
       "       'Парголово', 'Парицы', 'Паша', 'Пельгора', 'Пеники',\n",
       "       'Первомайское', 'Перово', 'Песочный', 'Петергоф', 'Петро-Славянка',\n",
       "       'Петровское', 'Пижма', 'Пикалёво', 'Пикколово', 'Плодовое',\n",
       "       'Плоское', 'Победа', 'Подпорожье', 'Поле', 'Поляна', 'Поляны',\n",
       "       'Понтонный', 'Почап', 'Починок', 'Приветнинское', 'Пригородный',\n",
       "       'Приладожский', 'Приморск', 'Приозерск', 'Пудомяги', 'Пудость',\n",
       "       'Пустомержа', 'Пустошь', 'Пустынка', 'Путилово', 'Пушкин',\n",
       "       'Пушное', 'Пчева', 'Пчевжа', 'Рабитицы', 'Разбегаево', 'Раздолье',\n",
       "       'Разметелево', 'Рапполово', 'Рахья', 'Реброво', 'Рейзино',\n",
       "       'Репино', 'Рождествено', 'Романовка', 'Ромашки', 'Ропша', 'Рощино',\n",
       "       'Русско', 'Русско-Высоцкое', 'Рябово', 'Сабск', 'Садко',\n",
       "       'Санкт-Петербург', 'Сапёрное', 'Сапёрный', 'Свердлова', 'Свет',\n",
       "       'Светогорск', 'Свирь', 'Свирьстрой', 'Севастьяново', 'Север',\n",
       "       'Селезнёво', 'Село', 'Сельцо', 'Семиозерье', 'Семрино',\n",
       "       'Серебрянский', 'Сертолово', 'Сестрорецк', 'Сиверский', 'Сижно',\n",
       "       'Синявино', 'Сланцы', 'Снегирёвка', 'Советский', 'Совхозный',\n",
       "       'Сосново', 'Старая', 'Старополье', 'Старосиверская', 'Стеклянный',\n",
       "       'Стрельна', 'Суйда', 'Сумино', 'Суоранда', 'Суходолье', 'Счастье',\n",
       "       'Сяськелево', 'Сясьстрой', 'Тайцы', 'Тарасово', 'Тельмана',\n",
       "       'Терволово', 'Терпилицы', 'Тихвин', 'Тихковицы', 'Тойворово',\n",
       "       'Токсово', 'Торковичи', 'Торосово', 'Торошковичи', 'Торфяное',\n",
       "       'Тосно', 'Тёсово-4', 'Углово', 'Ульяновка', 'Усть-Ижора',\n",
       "       'Усть-Луга', 'Учхоз', 'Ушаки', 'Фалилеево', 'Форносово',\n",
       "       'Фёдоровское', 'Хапо-Ое', 'Хинколово', 'Хязельки', 'Цвелодубово',\n",
       "       'Цвылёво', 'Шлиссельбург', 'Шпаньково', 'Шугозеро', 'Шум',\n",
       "       'Шушары', 'Щеглово', 'Юкки', 'Ялгино', 'Яльгелево', 'Ям-Тесово',\n",
       "       'Янино-1', 'километр'], dtype=object)"
      ]
     },
     "execution_count": 27,
     "metadata": {},
     "output_type": "execute_result"
    }
   ],
   "source": [
    "def change_name(name):\n",
    "    name_splited = name.split()\n",
    "    new_name = name_splited[-1]\n",
    "    return new_name\n",
    "        \n",
    "data['locality_name'] = data['locality_name'].apply(change_name)    \n",
    "\n",
    "data['locality_name'].sort_values().unique()"
   ]
  },
  {
   "cell_type": "markdown",
   "metadata": {},
   "source": [
    "Приведем написание посёлка Рябово к одному формату, после всех произведенных действий обновляем индексы датафрейма."
   ]
  },
  {
   "cell_type": "code",
   "execution_count": 28,
   "metadata": {},
   "outputs": [
    {
     "data": {
      "text/plain": [
       "294"
      ]
     },
     "execution_count": 28,
     "metadata": {},
     "output_type": "execute_result"
    }
   ],
   "source": [
    "len(data['locality_name'].unique())"
   ]
  },
  {
   "cell_type": "markdown",
   "metadata": {},
   "source": [
    "**Промежуточный вывод.**\n",
    "\n",
    "После проведенной предобработки данных, количество пропущенных данных было значительно уменьшено. Оставлены только пропуски, которые не представляется возможным заполнить с учетом имеющейся информации. \n",
    "Строки с пропущенными значениями не удалены, поскольку они в дальнейшем могут не оказывать значительного влияния.\n",
    "\n",
    "Наличие данных пропусков так же может быть объяснено проблемами в выгрузке данных. Например, данные о ближайшем аэропорте и удаленность от центра города заполняются автоматически с учетом картографических данных, соответственно в данном процессе могут собержаться какие-либо ошибки, что должно быть сообщено разработчикам.\n",
    "\n",
    "Также были выявлены неявные дубликаты и откорректированы. Наличие ошибок в написание объектов так же требует доработки кода со стороны разработчиков, возможно, эти данные не категориальные и заполняются в ручную, что и может привести к таким расхождениям."
   ]
  },
  {
   "cell_type": "code",
   "execution_count": 29,
   "metadata": {},
   "outputs": [],
   "source": [
    "# Расчет цены одного квадратного метра\n",
    "data['price_one_meter'] = round((data['last_price']/data['total_area']), 2)"
   ]
  },
  {
   "cell_type": "code",
   "execution_count": 30,
   "metadata": {},
   "outputs": [],
   "source": [
    "#День недели публикации\n",
    "data['first_day_exposition'] = pd.to_datetime(data['first_day_exposition'], format='%Y-%m-%dT%H:%M:%S')\n",
    "\n",
    "data['weekday_exposition'] = data['first_day_exposition'].dt.weekday"
   ]
  },
  {
   "cell_type": "code",
   "execution_count": 31,
   "metadata": {},
   "outputs": [],
   "source": [
    "#Месяц публикации объявления\n",
    "data['month_exposition'] = data['first_day_exposition'].dt.month"
   ]
  },
  {
   "cell_type": "code",
   "execution_count": 32,
   "metadata": {},
   "outputs": [],
   "source": [
    "#Год публикации объявления\n",
    "data['year_exposition'] = data['first_day_exposition'].dt.year"
   ]
  },
  {
   "cell_type": "code",
   "execution_count": 33,
   "metadata": {},
   "outputs": [],
   "source": [
    "#Тип этажа квартиры\n",
    "data['floors_total'] = data['floors_total'].astype('int') #Тип данных в столбце 'floors_total' приводим к целочисленному.\n",
    "data['floor'] = data['floor'].astype('int') ##Тип данных в столбце 'floor' приводим к целочисленному.\n",
    "\n",
    "\n",
    "def floor_func(row):\n",
    "    try:\n",
    "        if row['floor'] == 1:\n",
    "            return 'первый'\n",
    "        elif row['floor'] == row['floors_total']:\n",
    "            return 'последний'\n",
    "        else:\n",
    "            return 'другой'\n",
    "    except:\n",
    "        pass\n",
    "\n",
    "data['floor_type'] = data.apply(floor_func, axis=1)"
   ]
  },
  {
   "cell_type": "code",
   "execution_count": 34,
   "metadata": {},
   "outputs": [
    {
     "data": {
      "text/html": [
       "<div>\n",
       "<style scoped>\n",
       "    .dataframe tbody tr th:only-of-type {\n",
       "        vertical-align: middle;\n",
       "    }\n",
       "\n",
       "    .dataframe tbody tr th {\n",
       "        vertical-align: top;\n",
       "    }\n",
       "\n",
       "    .dataframe thead th {\n",
       "        text-align: right;\n",
       "    }\n",
       "</style>\n",
       "<table border=\"1\" class=\"dataframe\">\n",
       "  <thead>\n",
       "    <tr style=\"text-align: right;\">\n",
       "      <th></th>\n",
       "      <th>total_images</th>\n",
       "      <th>last_price</th>\n",
       "      <th>total_area</th>\n",
       "      <th>first_day_exposition</th>\n",
       "      <th>rooms</th>\n",
       "      <th>ceiling_height</th>\n",
       "      <th>floors_total</th>\n",
       "      <th>living_area</th>\n",
       "      <th>floor</th>\n",
       "      <th>is_apartment</th>\n",
       "      <th>...</th>\n",
       "      <th>parks_nearest</th>\n",
       "      <th>ponds_around3000</th>\n",
       "      <th>ponds_nearest</th>\n",
       "      <th>days_exposition</th>\n",
       "      <th>price_one_meter</th>\n",
       "      <th>weekday_exposition</th>\n",
       "      <th>month_exposition</th>\n",
       "      <th>year_exposition</th>\n",
       "      <th>floor_type</th>\n",
       "      <th>city_centers_km</th>\n",
       "    </tr>\n",
       "  </thead>\n",
       "  <tbody>\n",
       "    <tr>\n",
       "      <th>0</th>\n",
       "      <td>20</td>\n",
       "      <td>13000000.0</td>\n",
       "      <td>108.0</td>\n",
       "      <td>2019-03-07</td>\n",
       "      <td>3</td>\n",
       "      <td>2.70</td>\n",
       "      <td>16</td>\n",
       "      <td>51.000000</td>\n",
       "      <td>8</td>\n",
       "      <td>True</td>\n",
       "      <td>...</td>\n",
       "      <td>482.0</td>\n",
       "      <td>2.0</td>\n",
       "      <td>755.0</td>\n",
       "      <td>NaN</td>\n",
       "      <td>120370.37</td>\n",
       "      <td>3</td>\n",
       "      <td>3</td>\n",
       "      <td>2019</td>\n",
       "      <td>другой</td>\n",
       "      <td>16.0</td>\n",
       "    </tr>\n",
       "    <tr>\n",
       "      <th>1</th>\n",
       "      <td>7</td>\n",
       "      <td>3350000.0</td>\n",
       "      <td>40.4</td>\n",
       "      <td>2018-12-04</td>\n",
       "      <td>1</td>\n",
       "      <td>2.60</td>\n",
       "      <td>11</td>\n",
       "      <td>18.600000</td>\n",
       "      <td>1</td>\n",
       "      <td>True</td>\n",
       "      <td>...</td>\n",
       "      <td>0.0</td>\n",
       "      <td>0.0</td>\n",
       "      <td>0.0</td>\n",
       "      <td>81.0</td>\n",
       "      <td>82920.79</td>\n",
       "      <td>1</td>\n",
       "      <td>12</td>\n",
       "      <td>2018</td>\n",
       "      <td>первый</td>\n",
       "      <td>19.0</td>\n",
       "    </tr>\n",
       "    <tr>\n",
       "      <th>2</th>\n",
       "      <td>10</td>\n",
       "      <td>5196000.0</td>\n",
       "      <td>56.0</td>\n",
       "      <td>2015-08-20</td>\n",
       "      <td>2</td>\n",
       "      <td>2.60</td>\n",
       "      <td>5</td>\n",
       "      <td>34.300000</td>\n",
       "      <td>4</td>\n",
       "      <td>True</td>\n",
       "      <td>...</td>\n",
       "      <td>90.0</td>\n",
       "      <td>2.0</td>\n",
       "      <td>574.0</td>\n",
       "      <td>558.0</td>\n",
       "      <td>92785.71</td>\n",
       "      <td>3</td>\n",
       "      <td>8</td>\n",
       "      <td>2015</td>\n",
       "      <td>другой</td>\n",
       "      <td>14.0</td>\n",
       "    </tr>\n",
       "    <tr>\n",
       "      <th>3</th>\n",
       "      <td>0</td>\n",
       "      <td>64900000.0</td>\n",
       "      <td>159.0</td>\n",
       "      <td>2015-07-24</td>\n",
       "      <td>3</td>\n",
       "      <td>2.80</td>\n",
       "      <td>14</td>\n",
       "      <td>90.066456</td>\n",
       "      <td>9</td>\n",
       "      <td>True</td>\n",
       "      <td>...</td>\n",
       "      <td>84.0</td>\n",
       "      <td>3.0</td>\n",
       "      <td>234.0</td>\n",
       "      <td>424.0</td>\n",
       "      <td>408176.10</td>\n",
       "      <td>4</td>\n",
       "      <td>7</td>\n",
       "      <td>2015</td>\n",
       "      <td>другой</td>\n",
       "      <td>7.0</td>\n",
       "    </tr>\n",
       "    <tr>\n",
       "      <th>4</th>\n",
       "      <td>2</td>\n",
       "      <td>10000000.0</td>\n",
       "      <td>100.0</td>\n",
       "      <td>2018-06-19</td>\n",
       "      <td>2</td>\n",
       "      <td>3.03</td>\n",
       "      <td>14</td>\n",
       "      <td>32.000000</td>\n",
       "      <td>13</td>\n",
       "      <td>True</td>\n",
       "      <td>...</td>\n",
       "      <td>112.0</td>\n",
       "      <td>1.0</td>\n",
       "      <td>48.0</td>\n",
       "      <td>121.0</td>\n",
       "      <td>100000.00</td>\n",
       "      <td>1</td>\n",
       "      <td>6</td>\n",
       "      <td>2018</td>\n",
       "      <td>другой</td>\n",
       "      <td>8.0</td>\n",
       "    </tr>\n",
       "  </tbody>\n",
       "</table>\n",
       "<p>5 rows × 28 columns</p>\n",
       "</div>"
      ],
      "text/plain": [
       "   total_images  last_price  total_area first_day_exposition  rooms  \\\n",
       "0            20  13000000.0       108.0           2019-03-07      3   \n",
       "1             7   3350000.0        40.4           2018-12-04      1   \n",
       "2            10   5196000.0        56.0           2015-08-20      2   \n",
       "3             0  64900000.0       159.0           2015-07-24      3   \n",
       "4             2  10000000.0       100.0           2018-06-19      2   \n",
       "\n",
       "   ceiling_height  floors_total  living_area  floor  is_apartment  ...  \\\n",
       "0            2.70            16    51.000000      8          True  ...   \n",
       "1            2.60            11    18.600000      1          True  ...   \n",
       "2            2.60             5    34.300000      4          True  ...   \n",
       "3            2.80            14    90.066456      9          True  ...   \n",
       "4            3.03            14    32.000000     13          True  ...   \n",
       "\n",
       "   parks_nearest  ponds_around3000  ponds_nearest  days_exposition  \\\n",
       "0          482.0               2.0          755.0              NaN   \n",
       "1            0.0               0.0            0.0             81.0   \n",
       "2           90.0               2.0          574.0            558.0   \n",
       "3           84.0               3.0          234.0            424.0   \n",
       "4          112.0               1.0           48.0            121.0   \n",
       "\n",
       "  price_one_meter  weekday_exposition  month_exposition  year_exposition  \\\n",
       "0       120370.37                   3                 3             2019   \n",
       "1        82920.79                   1                12             2018   \n",
       "2        92785.71                   3                 8             2015   \n",
       "3       408176.10                   4                 7             2015   \n",
       "4       100000.00                   1                 6             2018   \n",
       "\n",
       "   floor_type  city_centers_km  \n",
       "0      другой             16.0  \n",
       "1      первый             19.0  \n",
       "2      другой             14.0  \n",
       "3      другой              7.0  \n",
       "4      другой              8.0  \n",
       "\n",
       "[5 rows x 28 columns]"
      ]
     },
     "execution_count": 34,
     "metadata": {},
     "output_type": "execute_result"
    }
   ],
   "source": [
    "#Расстояние от центра города в километрах\n",
    "data['city_centers_km'] = round((data['city_centers_nearest']/1000), 0)\n",
    "\n",
    "data.head()"
   ]
  },
  {
   "cell_type": "markdown",
   "metadata": {},
   "source": [
    "**Промежуточный вывод.**\n",
    "\n",
    "В массив данных добавлены шесть новых столбцов с рассчетами цены одного квадратного метра, дня недели, месяца и года публикации объявления, типа этажа квартиры и расстояния до центра города в километрах. Данная информация необходима для проведения дальнейшего исследования. "
   ]
  },
  {
   "cell_type": "markdown",
   "metadata": {
    "id": "pPyxrKWTAwb-"
   },
   "source": [
    "### Исследовательский анализ данных"
   ]
  },
  {
   "cell_type": "markdown",
   "metadata": {},
   "source": [
    "**Общая площадь квартиры**"
   ]
  },
  {
   "cell_type": "code",
   "execution_count": 35,
   "metadata": {},
   "outputs": [
    {
     "data": {
      "text/plain": [
       "count    23565.000000\n",
       "mean        60.322824\n",
       "std         35.657060\n",
       "min         12.000000\n",
       "25%         40.000000\n",
       "50%         52.000000\n",
       "75%         69.700000\n",
       "max        900.000000\n",
       "Name: total_area, dtype: float64"
      ]
     },
     "execution_count": 35,
     "metadata": {},
     "output_type": "execute_result"
    }
   ],
   "source": [
    "data['total_area'].describe()"
   ]
  },
  {
   "cell_type": "code",
   "execution_count": 36,
   "metadata": {},
   "outputs": [
    {
     "data": {
      "text/html": [
       "<div>\n",
       "<style scoped>\n",
       "    .dataframe tbody tr th:only-of-type {\n",
       "        vertical-align: middle;\n",
       "    }\n",
       "\n",
       "    .dataframe tbody tr th {\n",
       "        vertical-align: top;\n",
       "    }\n",
       "\n",
       "    .dataframe thead th {\n",
       "        text-align: right;\n",
       "    }\n",
       "</style>\n",
       "<table border=\"1\" class=\"dataframe\">\n",
       "  <thead>\n",
       "    <tr style=\"text-align: right;\">\n",
       "      <th></th>\n",
       "      <th>total_images</th>\n",
       "      <th>last_price</th>\n",
       "      <th>total_area</th>\n",
       "      <th>first_day_exposition</th>\n",
       "      <th>rooms</th>\n",
       "      <th>ceiling_height</th>\n",
       "      <th>floors_total</th>\n",
       "      <th>living_area</th>\n",
       "      <th>floor</th>\n",
       "      <th>is_apartment</th>\n",
       "      <th>...</th>\n",
       "      <th>parks_nearest</th>\n",
       "      <th>ponds_around3000</th>\n",
       "      <th>ponds_nearest</th>\n",
       "      <th>days_exposition</th>\n",
       "      <th>price_one_meter</th>\n",
       "      <th>weekday_exposition</th>\n",
       "      <th>month_exposition</th>\n",
       "      <th>year_exposition</th>\n",
       "      <th>floor_type</th>\n",
       "      <th>city_centers_km</th>\n",
       "    </tr>\n",
       "  </thead>\n",
       "  <tbody>\n",
       "    <tr>\n",
       "      <th>19540</th>\n",
       "      <td>8</td>\n",
       "      <td>420000000.0</td>\n",
       "      <td>900.0</td>\n",
       "      <td>2017-12-06</td>\n",
       "      <td>12</td>\n",
       "      <td>2.80</td>\n",
       "      <td>25</td>\n",
       "      <td>409.700000</td>\n",
       "      <td>25</td>\n",
       "      <td>True</td>\n",
       "      <td>...</td>\n",
       "      <td>0.0</td>\n",
       "      <td>2.0</td>\n",
       "      <td>318.0</td>\n",
       "      <td>106.0</td>\n",
       "      <td>466666.67</td>\n",
       "      <td>2</td>\n",
       "      <td>12</td>\n",
       "      <td>2017</td>\n",
       "      <td>последний</td>\n",
       "      <td>8.0</td>\n",
       "    </tr>\n",
       "    <tr>\n",
       "      <th>12859</th>\n",
       "      <td>20</td>\n",
       "      <td>140000000.0</td>\n",
       "      <td>631.2</td>\n",
       "      <td>2019-04-09</td>\n",
       "      <td>7</td>\n",
       "      <td>3.90</td>\n",
       "      <td>4</td>\n",
       "      <td>322.300000</td>\n",
       "      <td>4</td>\n",
       "      <td>True</td>\n",
       "      <td>...</td>\n",
       "      <td>0.0</td>\n",
       "      <td>2.0</td>\n",
       "      <td>210.0</td>\n",
       "      <td>NaN</td>\n",
       "      <td>221799.75</td>\n",
       "      <td>1</td>\n",
       "      <td>4</td>\n",
       "      <td>2019</td>\n",
       "      <td>последний</td>\n",
       "      <td>5.0</td>\n",
       "    </tr>\n",
       "    <tr>\n",
       "      <th>3117</th>\n",
       "      <td>19</td>\n",
       "      <td>140000000.0</td>\n",
       "      <td>631.0</td>\n",
       "      <td>2019-03-30</td>\n",
       "      <td>7</td>\n",
       "      <td>3.10</td>\n",
       "      <td>5</td>\n",
       "      <td>357.433544</td>\n",
       "      <td>5</td>\n",
       "      <td>True</td>\n",
       "      <td>...</td>\n",
       "      <td>0.0</td>\n",
       "      <td>2.0</td>\n",
       "      <td>210.0</td>\n",
       "      <td>NaN</td>\n",
       "      <td>221870.05</td>\n",
       "      <td>5</td>\n",
       "      <td>3</td>\n",
       "      <td>2019</td>\n",
       "      <td>последний</td>\n",
       "      <td>5.0</td>\n",
       "    </tr>\n",
       "    <tr>\n",
       "      <th>15651</th>\n",
       "      <td>20</td>\n",
       "      <td>300000000.0</td>\n",
       "      <td>618.0</td>\n",
       "      <td>2017-12-18</td>\n",
       "      <td>7</td>\n",
       "      <td>3.40</td>\n",
       "      <td>7</td>\n",
       "      <td>258.000000</td>\n",
       "      <td>5</td>\n",
       "      <td>True</td>\n",
       "      <td>...</td>\n",
       "      <td>0.0</td>\n",
       "      <td>2.0</td>\n",
       "      <td>198.0</td>\n",
       "      <td>111.0</td>\n",
       "      <td>485436.89</td>\n",
       "      <td>0</td>\n",
       "      <td>12</td>\n",
       "      <td>2017</td>\n",
       "      <td>другой</td>\n",
       "      <td>5.0</td>\n",
       "    </tr>\n",
       "    <tr>\n",
       "      <th>5358</th>\n",
       "      <td>20</td>\n",
       "      <td>65000000.0</td>\n",
       "      <td>590.0</td>\n",
       "      <td>2019-02-14</td>\n",
       "      <td>15</td>\n",
       "      <td>3.50</td>\n",
       "      <td>6</td>\n",
       "      <td>409.000000</td>\n",
       "      <td>3</td>\n",
       "      <td>True</td>\n",
       "      <td>...</td>\n",
       "      <td>767.0</td>\n",
       "      <td>0.0</td>\n",
       "      <td>0.0</td>\n",
       "      <td>14.0</td>\n",
       "      <td>110169.49</td>\n",
       "      <td>3</td>\n",
       "      <td>2</td>\n",
       "      <td>2019</td>\n",
       "      <td>другой</td>\n",
       "      <td>5.0</td>\n",
       "    </tr>\n",
       "    <tr>\n",
       "      <th>4237</th>\n",
       "      <td>1</td>\n",
       "      <td>50000000.0</td>\n",
       "      <td>517.0</td>\n",
       "      <td>2017-10-14</td>\n",
       "      <td>7</td>\n",
       "      <td>3.10</td>\n",
       "      <td>4</td>\n",
       "      <td>332.000000</td>\n",
       "      <td>3</td>\n",
       "      <td>True</td>\n",
       "      <td>...</td>\n",
       "      <td>477.0</td>\n",
       "      <td>2.0</td>\n",
       "      <td>540.0</td>\n",
       "      <td>NaN</td>\n",
       "      <td>96711.80</td>\n",
       "      <td>5</td>\n",
       "      <td>10</td>\n",
       "      <td>2017</td>\n",
       "      <td>другой</td>\n",
       "      <td>2.0</td>\n",
       "    </tr>\n",
       "    <tr>\n",
       "      <th>8018</th>\n",
       "      <td>20</td>\n",
       "      <td>84000000.0</td>\n",
       "      <td>507.0</td>\n",
       "      <td>2015-12-17</td>\n",
       "      <td>5</td>\n",
       "      <td>4.45</td>\n",
       "      <td>7</td>\n",
       "      <td>301.500000</td>\n",
       "      <td>7</td>\n",
       "      <td>True</td>\n",
       "      <td>...</td>\n",
       "      <td>110.0</td>\n",
       "      <td>0.0</td>\n",
       "      <td>0.0</td>\n",
       "      <td>1078.0</td>\n",
       "      <td>165680.47</td>\n",
       "      <td>3</td>\n",
       "      <td>12</td>\n",
       "      <td>2015</td>\n",
       "      <td>последний</td>\n",
       "      <td>6.0</td>\n",
       "    </tr>\n",
       "    <tr>\n",
       "      <th>15016</th>\n",
       "      <td>8</td>\n",
       "      <td>150000000.0</td>\n",
       "      <td>500.0</td>\n",
       "      <td>2016-01-13</td>\n",
       "      <td>4</td>\n",
       "      <td>3.20</td>\n",
       "      <td>7</td>\n",
       "      <td>283.227848</td>\n",
       "      <td>7</td>\n",
       "      <td>True</td>\n",
       "      <td>...</td>\n",
       "      <td>209.0</td>\n",
       "      <td>3.0</td>\n",
       "      <td>531.0</td>\n",
       "      <td>303.0</td>\n",
       "      <td>300000.00</td>\n",
       "      <td>2</td>\n",
       "      <td>1</td>\n",
       "      <td>2016</td>\n",
       "      <td>последний</td>\n",
       "      <td>6.0</td>\n",
       "    </tr>\n",
       "    <tr>\n",
       "      <th>5893</th>\n",
       "      <td>3</td>\n",
       "      <td>230000000.0</td>\n",
       "      <td>500.0</td>\n",
       "      <td>2017-05-31</td>\n",
       "      <td>6</td>\n",
       "      <td>2.80</td>\n",
       "      <td>7</td>\n",
       "      <td>283.227848</td>\n",
       "      <td>7</td>\n",
       "      <td>True</td>\n",
       "      <td>...</td>\n",
       "      <td>0.0</td>\n",
       "      <td>2.0</td>\n",
       "      <td>198.0</td>\n",
       "      <td>50.0</td>\n",
       "      <td>460000.00</td>\n",
       "      <td>2</td>\n",
       "      <td>5</td>\n",
       "      <td>2017</td>\n",
       "      <td>последний</td>\n",
       "      <td>5.0</td>\n",
       "    </tr>\n",
       "    <tr>\n",
       "      <th>12401</th>\n",
       "      <td>20</td>\n",
       "      <td>91500000.0</td>\n",
       "      <td>495.0</td>\n",
       "      <td>2017-06-19</td>\n",
       "      <td>7</td>\n",
       "      <td>4.65</td>\n",
       "      <td>7</td>\n",
       "      <td>347.500000</td>\n",
       "      <td>7</td>\n",
       "      <td>True</td>\n",
       "      <td>...</td>\n",
       "      <td>110.0</td>\n",
       "      <td>0.0</td>\n",
       "      <td>0.0</td>\n",
       "      <td>14.0</td>\n",
       "      <td>184848.48</td>\n",
       "      <td>0</td>\n",
       "      <td>6</td>\n",
       "      <td>2017</td>\n",
       "      <td>последний</td>\n",
       "      <td>6.0</td>\n",
       "    </tr>\n",
       "  </tbody>\n",
       "</table>\n",
       "<p>10 rows × 28 columns</p>\n",
       "</div>"
      ],
      "text/plain": [
       "       total_images   last_price  total_area first_day_exposition  rooms  \\\n",
       "19540             8  420000000.0       900.0           2017-12-06     12   \n",
       "12859            20  140000000.0       631.2           2019-04-09      7   \n",
       "3117             19  140000000.0       631.0           2019-03-30      7   \n",
       "15651            20  300000000.0       618.0           2017-12-18      7   \n",
       "5358             20   65000000.0       590.0           2019-02-14     15   \n",
       "4237              1   50000000.0       517.0           2017-10-14      7   \n",
       "8018             20   84000000.0       507.0           2015-12-17      5   \n",
       "15016             8  150000000.0       500.0           2016-01-13      4   \n",
       "5893              3  230000000.0       500.0           2017-05-31      6   \n",
       "12401            20   91500000.0       495.0           2017-06-19      7   \n",
       "\n",
       "       ceiling_height  floors_total  living_area  floor  is_apartment  ...  \\\n",
       "19540            2.80            25   409.700000     25          True  ...   \n",
       "12859            3.90             4   322.300000      4          True  ...   \n",
       "3117             3.10             5   357.433544      5          True  ...   \n",
       "15651            3.40             7   258.000000      5          True  ...   \n",
       "5358             3.50             6   409.000000      3          True  ...   \n",
       "4237             3.10             4   332.000000      3          True  ...   \n",
       "8018             4.45             7   301.500000      7          True  ...   \n",
       "15016            3.20             7   283.227848      7          True  ...   \n",
       "5893             2.80             7   283.227848      7          True  ...   \n",
       "12401            4.65             7   347.500000      7          True  ...   \n",
       "\n",
       "       parks_nearest  ponds_around3000  ponds_nearest  days_exposition  \\\n",
       "19540            0.0               2.0          318.0            106.0   \n",
       "12859            0.0               2.0          210.0              NaN   \n",
       "3117             0.0               2.0          210.0              NaN   \n",
       "15651            0.0               2.0          198.0            111.0   \n",
       "5358           767.0               0.0            0.0             14.0   \n",
       "4237           477.0               2.0          540.0              NaN   \n",
       "8018           110.0               0.0            0.0           1078.0   \n",
       "15016          209.0               3.0          531.0            303.0   \n",
       "5893             0.0               2.0          198.0             50.0   \n",
       "12401          110.0               0.0            0.0             14.0   \n",
       "\n",
       "      price_one_meter  weekday_exposition  month_exposition  year_exposition  \\\n",
       "19540       466666.67                   2                12             2017   \n",
       "12859       221799.75                   1                 4             2019   \n",
       "3117        221870.05                   5                 3             2019   \n",
       "15651       485436.89                   0                12             2017   \n",
       "5358        110169.49                   3                 2             2019   \n",
       "4237         96711.80                   5                10             2017   \n",
       "8018        165680.47                   3                12             2015   \n",
       "15016       300000.00                   2                 1             2016   \n",
       "5893        460000.00                   2                 5             2017   \n",
       "12401       184848.48                   0                 6             2017   \n",
       "\n",
       "       floor_type  city_centers_km  \n",
       "19540   последний              8.0  \n",
       "12859   последний              5.0  \n",
       "3117    последний              5.0  \n",
       "15651      другой              5.0  \n",
       "5358       другой              5.0  \n",
       "4237       другой              2.0  \n",
       "8018    последний              6.0  \n",
       "15016   последний              6.0  \n",
       "5893    последний              5.0  \n",
       "12401   последний              6.0  \n",
       "\n",
       "[10 rows x 28 columns]"
      ]
     },
     "execution_count": 36,
     "metadata": {},
     "output_type": "execute_result"
    }
   ],
   "source": [
    "data.sort_values(by='total_area', ascending=False).head(10)"
   ]
  },
  {
   "cell_type": "code",
   "execution_count": 37,
   "metadata": {},
   "outputs": [
    {
     "data": {
      "text/html": [
       "<div>\n",
       "<style scoped>\n",
       "    .dataframe tbody tr th:only-of-type {\n",
       "        vertical-align: middle;\n",
       "    }\n",
       "\n",
       "    .dataframe tbody tr th {\n",
       "        vertical-align: top;\n",
       "    }\n",
       "\n",
       "    .dataframe thead th {\n",
       "        text-align: right;\n",
       "    }\n",
       "</style>\n",
       "<table border=\"1\" class=\"dataframe\">\n",
       "  <thead>\n",
       "    <tr style=\"text-align: right;\">\n",
       "      <th></th>\n",
       "      <th>total_images</th>\n",
       "      <th>last_price</th>\n",
       "      <th>total_area</th>\n",
       "      <th>first_day_exposition</th>\n",
       "      <th>rooms</th>\n",
       "      <th>ceiling_height</th>\n",
       "      <th>floors_total</th>\n",
       "      <th>living_area</th>\n",
       "      <th>floor</th>\n",
       "      <th>is_apartment</th>\n",
       "      <th>...</th>\n",
       "      <th>parks_nearest</th>\n",
       "      <th>ponds_around3000</th>\n",
       "      <th>ponds_nearest</th>\n",
       "      <th>days_exposition</th>\n",
       "      <th>price_one_meter</th>\n",
       "      <th>weekday_exposition</th>\n",
       "      <th>month_exposition</th>\n",
       "      <th>year_exposition</th>\n",
       "      <th>floor_type</th>\n",
       "      <th>city_centers_km</th>\n",
       "    </tr>\n",
       "  </thead>\n",
       "  <tbody>\n",
       "    <tr>\n",
       "      <th>9412</th>\n",
       "      <td>5</td>\n",
       "      <td>2100000.0</td>\n",
       "      <td>16.0</td>\n",
       "      <td>2017-12-10</td>\n",
       "      <td>0</td>\n",
       "      <td>3.10</td>\n",
       "      <td>6</td>\n",
       "      <td>13.000000</td>\n",
       "      <td>1</td>\n",
       "      <td>True</td>\n",
       "      <td>...</td>\n",
       "      <td>228.0</td>\n",
       "      <td>3.0</td>\n",
       "      <td>72.0</td>\n",
       "      <td>3.0</td>\n",
       "      <td>131250.00</td>\n",
       "      <td>6</td>\n",
       "      <td>12</td>\n",
       "      <td>2017</td>\n",
       "      <td>первый</td>\n",
       "      <td>2.0</td>\n",
       "    </tr>\n",
       "    <tr>\n",
       "      <th>8886</th>\n",
       "      <td>10</td>\n",
       "      <td>2450000.0</td>\n",
       "      <td>15.5</td>\n",
       "      <td>2018-08-22</td>\n",
       "      <td>0</td>\n",
       "      <td>3.10</td>\n",
       "      <td>5</td>\n",
       "      <td>10.000000</td>\n",
       "      <td>2</td>\n",
       "      <td>True</td>\n",
       "      <td>...</td>\n",
       "      <td>0.0</td>\n",
       "      <td>1.0</td>\n",
       "      <td>446.0</td>\n",
       "      <td>27.0</td>\n",
       "      <td>158064.52</td>\n",
       "      <td>2</td>\n",
       "      <td>8</td>\n",
       "      <td>2018</td>\n",
       "      <td>другой</td>\n",
       "      <td>5.0</td>\n",
       "    </tr>\n",
       "    <tr>\n",
       "      <th>12040</th>\n",
       "      <td>5</td>\n",
       "      <td>1900000.0</td>\n",
       "      <td>15.0</td>\n",
       "      <td>2018-06-27</td>\n",
       "      <td>1</td>\n",
       "      <td>2.50</td>\n",
       "      <td>5</td>\n",
       "      <td>8.496835</td>\n",
       "      <td>1</td>\n",
       "      <td>True</td>\n",
       "      <td>...</td>\n",
       "      <td>0.0</td>\n",
       "      <td>0.0</td>\n",
       "      <td>0.0</td>\n",
       "      <td>45.0</td>\n",
       "      <td>126666.67</td>\n",
       "      <td>2</td>\n",
       "      <td>6</td>\n",
       "      <td>2018</td>\n",
       "      <td>первый</td>\n",
       "      <td>NaN</td>\n",
       "    </tr>\n",
       "    <tr>\n",
       "      <th>16949</th>\n",
       "      <td>9</td>\n",
       "      <td>1550000.0</td>\n",
       "      <td>15.0</td>\n",
       "      <td>2018-08-21</td>\n",
       "      <td>1</td>\n",
       "      <td>2.70</td>\n",
       "      <td>9</td>\n",
       "      <td>8.496835</td>\n",
       "      <td>1</td>\n",
       "      <td>True</td>\n",
       "      <td>...</td>\n",
       "      <td>0.0</td>\n",
       "      <td>1.0</td>\n",
       "      <td>1079.0</td>\n",
       "      <td>42.0</td>\n",
       "      <td>103333.33</td>\n",
       "      <td>1</td>\n",
       "      <td>8</td>\n",
       "      <td>2018</td>\n",
       "      <td>первый</td>\n",
       "      <td>16.0</td>\n",
       "    </tr>\n",
       "    <tr>\n",
       "      <th>19642</th>\n",
       "      <td>5</td>\n",
       "      <td>1190000.0</td>\n",
       "      <td>14.0</td>\n",
       "      <td>2018-07-29</td>\n",
       "      <td>1</td>\n",
       "      <td>2.60</td>\n",
       "      <td>5</td>\n",
       "      <td>11.000000</td>\n",
       "      <td>1</td>\n",
       "      <td>True</td>\n",
       "      <td>...</td>\n",
       "      <td>0.0</td>\n",
       "      <td>0.0</td>\n",
       "      <td>0.0</td>\n",
       "      <td>4.0</td>\n",
       "      <td>85000.00</td>\n",
       "      <td>6</td>\n",
       "      <td>7</td>\n",
       "      <td>2018</td>\n",
       "      <td>первый</td>\n",
       "      <td>11.0</td>\n",
       "    </tr>\n",
       "    <tr>\n",
       "      <th>19558</th>\n",
       "      <td>2</td>\n",
       "      <td>1686000.0</td>\n",
       "      <td>13.2</td>\n",
       "      <td>2018-12-17</td>\n",
       "      <td>1</td>\n",
       "      <td>3.10</td>\n",
       "      <td>5</td>\n",
       "      <td>7.477215</td>\n",
       "      <td>1</td>\n",
       "      <td>True</td>\n",
       "      <td>...</td>\n",
       "      <td>361.0</td>\n",
       "      <td>1.0</td>\n",
       "      <td>155.0</td>\n",
       "      <td>19.0</td>\n",
       "      <td>127727.27</td>\n",
       "      <td>0</td>\n",
       "      <td>12</td>\n",
       "      <td>2018</td>\n",
       "      <td>первый</td>\n",
       "      <td>4.0</td>\n",
       "    </tr>\n",
       "    <tr>\n",
       "      <th>19546</th>\n",
       "      <td>3</td>\n",
       "      <td>1850000.0</td>\n",
       "      <td>13.0</td>\n",
       "      <td>2019-03-11</td>\n",
       "      <td>1</td>\n",
       "      <td>3.40</td>\n",
       "      <td>5</td>\n",
       "      <td>7.363924</td>\n",
       "      <td>2</td>\n",
       "      <td>False</td>\n",
       "      <td>...</td>\n",
       "      <td>644.0</td>\n",
       "      <td>0.0</td>\n",
       "      <td>0.0</td>\n",
       "      <td>24.0</td>\n",
       "      <td>142307.69</td>\n",
       "      <td>0</td>\n",
       "      <td>3</td>\n",
       "      <td>2019</td>\n",
       "      <td>другой</td>\n",
       "      <td>5.0</td>\n",
       "    </tr>\n",
       "    <tr>\n",
       "      <th>17961</th>\n",
       "      <td>3</td>\n",
       "      <td>1400000.0</td>\n",
       "      <td>13.0</td>\n",
       "      <td>2017-12-03</td>\n",
       "      <td>1</td>\n",
       "      <td>2.60</td>\n",
       "      <td>9</td>\n",
       "      <td>7.363924</td>\n",
       "      <td>1</td>\n",
       "      <td>True</td>\n",
       "      <td>...</td>\n",
       "      <td>0.0</td>\n",
       "      <td>1.0</td>\n",
       "      <td>185.0</td>\n",
       "      <td>410.0</td>\n",
       "      <td>107692.31</td>\n",
       "      <td>6</td>\n",
       "      <td>12</td>\n",
       "      <td>2017</td>\n",
       "      <td>первый</td>\n",
       "      <td>16.0</td>\n",
       "    </tr>\n",
       "    <tr>\n",
       "      <th>19807</th>\n",
       "      <td>0</td>\n",
       "      <td>3800000.0</td>\n",
       "      <td>13.0</td>\n",
       "      <td>2018-07-04</td>\n",
       "      <td>1</td>\n",
       "      <td>3.10</td>\n",
       "      <td>5</td>\n",
       "      <td>10.000000</td>\n",
       "      <td>3</td>\n",
       "      <td>True</td>\n",
       "      <td>...</td>\n",
       "      <td>592.0</td>\n",
       "      <td>3.0</td>\n",
       "      <td>27.0</td>\n",
       "      <td>9.0</td>\n",
       "      <td>292307.69</td>\n",
       "      <td>2</td>\n",
       "      <td>7</td>\n",
       "      <td>2018</td>\n",
       "      <td>другой</td>\n",
       "      <td>1.0</td>\n",
       "    </tr>\n",
       "    <tr>\n",
       "      <th>19904</th>\n",
       "      <td>4</td>\n",
       "      <td>2400000.0</td>\n",
       "      <td>12.0</td>\n",
       "      <td>2017-07-19</td>\n",
       "      <td>1</td>\n",
       "      <td>2.55</td>\n",
       "      <td>5</td>\n",
       "      <td>10.000000</td>\n",
       "      <td>2</td>\n",
       "      <td>True</td>\n",
       "      <td>...</td>\n",
       "      <td>886.0</td>\n",
       "      <td>2.0</td>\n",
       "      <td>45.0</td>\n",
       "      <td>200.0</td>\n",
       "      <td>200000.00</td>\n",
       "      <td>2</td>\n",
       "      <td>7</td>\n",
       "      <td>2017</td>\n",
       "      <td>другой</td>\n",
       "      <td>1.0</td>\n",
       "    </tr>\n",
       "  </tbody>\n",
       "</table>\n",
       "<p>10 rows × 28 columns</p>\n",
       "</div>"
      ],
      "text/plain": [
       "       total_images  last_price  total_area first_day_exposition  rooms  \\\n",
       "9412              5   2100000.0        16.0           2017-12-10      0   \n",
       "8886             10   2450000.0        15.5           2018-08-22      0   \n",
       "12040             5   1900000.0        15.0           2018-06-27      1   \n",
       "16949             9   1550000.0        15.0           2018-08-21      1   \n",
       "19642             5   1190000.0        14.0           2018-07-29      1   \n",
       "19558             2   1686000.0        13.2           2018-12-17      1   \n",
       "19546             3   1850000.0        13.0           2019-03-11      1   \n",
       "17961             3   1400000.0        13.0           2017-12-03      1   \n",
       "19807             0   3800000.0        13.0           2018-07-04      1   \n",
       "19904             4   2400000.0        12.0           2017-07-19      1   \n",
       "\n",
       "       ceiling_height  floors_total  living_area  floor  is_apartment  ...  \\\n",
       "9412             3.10             6    13.000000      1          True  ...   \n",
       "8886             3.10             5    10.000000      2          True  ...   \n",
       "12040            2.50             5     8.496835      1          True  ...   \n",
       "16949            2.70             9     8.496835      1          True  ...   \n",
       "19642            2.60             5    11.000000      1          True  ...   \n",
       "19558            3.10             5     7.477215      1          True  ...   \n",
       "19546            3.40             5     7.363924      2         False  ...   \n",
       "17961            2.60             9     7.363924      1          True  ...   \n",
       "19807            3.10             5    10.000000      3          True  ...   \n",
       "19904            2.55             5    10.000000      2          True  ...   \n",
       "\n",
       "       parks_nearest  ponds_around3000  ponds_nearest  days_exposition  \\\n",
       "9412           228.0               3.0           72.0              3.0   \n",
       "8886             0.0               1.0          446.0             27.0   \n",
       "12040            0.0               0.0            0.0             45.0   \n",
       "16949            0.0               1.0         1079.0             42.0   \n",
       "19642            0.0               0.0            0.0              4.0   \n",
       "19558          361.0               1.0          155.0             19.0   \n",
       "19546          644.0               0.0            0.0             24.0   \n",
       "17961            0.0               1.0          185.0            410.0   \n",
       "19807          592.0               3.0           27.0              9.0   \n",
       "19904          886.0               2.0           45.0            200.0   \n",
       "\n",
       "      price_one_meter  weekday_exposition  month_exposition  year_exposition  \\\n",
       "9412        131250.00                   6                12             2017   \n",
       "8886        158064.52                   2                 8             2018   \n",
       "12040       126666.67                   2                 6             2018   \n",
       "16949       103333.33                   1                 8             2018   \n",
       "19642        85000.00                   6                 7             2018   \n",
       "19558       127727.27                   0                12             2018   \n",
       "19546       142307.69                   0                 3             2019   \n",
       "17961       107692.31                   6                12             2017   \n",
       "19807       292307.69                   2                 7             2018   \n",
       "19904       200000.00                   2                 7             2017   \n",
       "\n",
       "       floor_type  city_centers_km  \n",
       "9412       первый              2.0  \n",
       "8886       другой              5.0  \n",
       "12040      первый              NaN  \n",
       "16949      первый             16.0  \n",
       "19642      первый             11.0  \n",
       "19558      первый              4.0  \n",
       "19546      другой              5.0  \n",
       "17961      первый             16.0  \n",
       "19807      другой              1.0  \n",
       "19904      другой              1.0  \n",
       "\n",
       "[10 rows x 28 columns]"
      ]
     },
     "execution_count": 37,
     "metadata": {},
     "output_type": "execute_result"
    }
   ],
   "source": [
    "data.sort_values(by='total_area', ascending=False).tail(10)"
   ]
  },
  {
   "cell_type": "markdown",
   "metadata": {},
   "source": [
    "Удалим из данных одну выбивающуюся квартиру прощадью 900кв.м. и построим гистограмму. Несмотря на то, что жилой фонд в городе Санкт-Петербурге разнообразен и данная квартира, находящаяся практическив центре города, скорее всего не содержит ошибки, ее данные являются аномальными и могут значительно влиять на результаты."
   ]
  },
  {
   "cell_type": "code",
   "execution_count": 38,
   "metadata": {},
   "outputs": [
    {
     "data": {
      "text/plain": [
       "<AxesSubplot:>"
      ]
     },
     "execution_count": 38,
     "metadata": {},
     "output_type": "execute_result"
    },
    {
     "data": {
      "image/png": "[encoded data removed]",
      "text/plain": [
       "<Figure size 432x288 with 1 Axes>"
      ]
     },
     "metadata": {
      "needs_background": "light"
     },
     "output_type": "display_data"
    }
   ],
   "source": [
    "data = data.query('total_area != 900.0')\n",
    "data['total_area'].hist(bins=30, range=(0, 200))"
   ]
  },
  {
   "cell_type": "markdown",
   "metadata": {},
   "source": [
    "Согласно полученной гистограмме, наиболее популярные квартиры - это квартиры с малой площадью около 40 кв.м, медианное значение 50кв.м, что в целом соответствует тенденциям рынка недвижимости, обусловленным высокими ценами на жилье."
   ]
  },
  {
   "cell_type": "markdown",
   "metadata": {},
   "source": [
    "**Жилая площадь.**"
   ]
  },
  {
   "cell_type": "code",
   "execution_count": 39,
   "metadata": {},
   "outputs": [
    {
     "data": {
      "text/plain": [
       "count    23564.000000\n",
       "mean        34.552697\n",
       "std         22.219178\n",
       "min          2.000000\n",
       "25%         19.000000\n",
       "50%         30.000000\n",
       "75%         42.100000\n",
       "max        409.000000\n",
       "Name: living_area, dtype: float64"
      ]
     },
     "execution_count": 39,
     "metadata": {},
     "output_type": "execute_result"
    }
   ],
   "source": [
    "data['living_area'].describe()"
   ]
  },
  {
   "cell_type": "code",
   "execution_count": 40,
   "metadata": {},
   "outputs": [
    {
     "data": {
      "text/plain": [
       "<AxesSubplot:>"
      ]
     },
     "execution_count": 40,
     "metadata": {},
     "output_type": "execute_result"
    },
    {
     "data": {
      "image/png": "[encoded data removed]",
      "text/plain": [
       "<Figure size 432x288 with 1 Axes>"
      ]
     },
     "metadata": {
      "needs_background": "light"
     },
     "output_type": "display_data"
    }
   ],
   "source": [
    "data['living_area'].hist(bins=30, range=(0, 120))"
   ]
  },
  {
   "cell_type": "markdown",
   "metadata": {},
   "source": [
    "Полученная гистограмма может быть соотнесена с гистограммой общей площади квартир, даибольшее число квартир имеет жилую площадь 20 или 30 кв.м, что соотносимо с площадью стандартных комнат. Наличие двух пиков на гистограмме может быть обусловлено различными планировками квартир, либо данными для двух типов квартир: однокомнантыми и двухкомнатными."
   ]
  },
  {
   "cell_type": "markdown",
   "metadata": {},
   "source": [
    "**Площадь кухни.**"
   ]
  },
  {
   "cell_type": "code",
   "execution_count": 41,
   "metadata": {},
   "outputs": [
    {
     "data": {
      "text/plain": [
       "count    23564.000000\n",
       "mean        10.478507\n",
       "std          5.988700\n",
       "min          1.300000\n",
       "25%          7.000000\n",
       "50%          9.000000\n",
       "75%         12.000000\n",
       "max        107.000000\n",
       "Name: kitchen_area, dtype: float64"
      ]
     },
     "execution_count": 41,
     "metadata": {},
     "output_type": "execute_result"
    }
   ],
   "source": [
    "data['kitchen_area'].describe()"
   ]
  },
  {
   "cell_type": "code",
   "execution_count": 42,
   "metadata": {},
   "outputs": [
    {
     "data": {
      "text/plain": [
       "<AxesSubplot:>"
      ]
     },
     "execution_count": 42,
     "metadata": {},
     "output_type": "execute_result"
    },
    {
     "data": {
      "image/png": "[encoded data removed]",
      "text/plain": [
       "<Figure size 432x288 with 1 Axes>"
      ]
     },
     "metadata": {
      "needs_background": "light"
     },
     "output_type": "display_data"
    }
   ],
   "source": [
    "data['kitchen_area'].hist(bins=30, range=(0, 50))"
   ]
  },
  {
   "cell_type": "markdown",
   "metadata": {},
   "source": [
    "Медианное значение 9 кв.м для кухни является соответствующим действительности. Незначительное количество квартир имеет площади кухонь вплоть до 50 кв.м., но учитывая особенности квартир Санкт-Петербурга, сложно судить о наличии ошибок в данном параметре. Квартира, имеющая максимальную площадь и максимальную площадь кухни, уже была удалена ранее."
   ]
  },
  {
   "cell_type": "markdown",
   "metadata": {},
   "source": [
    "**Цена объекта.**"
   ]
  },
  {
   "cell_type": "code",
   "execution_count": 43,
   "metadata": {},
   "outputs": [
    {
     "data": {
      "text/plain": [
       "count    2.356400e+04\n",
       "mean     6.522512e+06\n",
       "std      1.057347e+07\n",
       "min      1.219000e+04\n",
       "25%      3.400000e+06\n",
       "50%      4.646000e+06\n",
       "75%      6.790000e+06\n",
       "max      7.630000e+08\n",
       "Name: last_price, dtype: float64"
      ]
     },
     "execution_count": 43,
     "metadata": {},
     "output_type": "execute_result"
    }
   ],
   "source": [
    "data['last_price'].describe()"
   ]
  },
  {
   "cell_type": "code",
   "execution_count": 44,
   "metadata": {},
   "outputs": [
    {
     "data": {
      "text/html": [
       "<div>\n",
       "<style scoped>\n",
       "    .dataframe tbody tr th:only-of-type {\n",
       "        vertical-align: middle;\n",
       "    }\n",
       "\n",
       "    .dataframe tbody tr th {\n",
       "        vertical-align: top;\n",
       "    }\n",
       "\n",
       "    .dataframe thead th {\n",
       "        text-align: right;\n",
       "    }\n",
       "</style>\n",
       "<table border=\"1\" class=\"dataframe\">\n",
       "  <thead>\n",
       "    <tr style=\"text-align: right;\">\n",
       "      <th></th>\n",
       "      <th>total_images</th>\n",
       "      <th>last_price</th>\n",
       "      <th>total_area</th>\n",
       "      <th>first_day_exposition</th>\n",
       "      <th>rooms</th>\n",
       "      <th>ceiling_height</th>\n",
       "      <th>floors_total</th>\n",
       "      <th>living_area</th>\n",
       "      <th>floor</th>\n",
       "      <th>is_apartment</th>\n",
       "      <th>...</th>\n",
       "      <th>parks_nearest</th>\n",
       "      <th>ponds_around3000</th>\n",
       "      <th>ponds_nearest</th>\n",
       "      <th>days_exposition</th>\n",
       "      <th>price_one_meter</th>\n",
       "      <th>weekday_exposition</th>\n",
       "      <th>month_exposition</th>\n",
       "      <th>year_exposition</th>\n",
       "      <th>floor_type</th>\n",
       "      <th>city_centers_km</th>\n",
       "    </tr>\n",
       "  </thead>\n",
       "  <tbody>\n",
       "    <tr>\n",
       "      <th>21912</th>\n",
       "      <td>0</td>\n",
       "      <td>470000.0</td>\n",
       "      <td>37.0</td>\n",
       "      <td>2018-02-18</td>\n",
       "      <td>1</td>\n",
       "      <td>NaN</td>\n",
       "      <td>3</td>\n",
       "      <td>20.958861</td>\n",
       "      <td>3</td>\n",
       "      <td>True</td>\n",
       "      <td>...</td>\n",
       "      <td>0.0</td>\n",
       "      <td>0.0</td>\n",
       "      <td>0.0</td>\n",
       "      <td>45.0</td>\n",
       "      <td>12702.70</td>\n",
       "      <td>6</td>\n",
       "      <td>2</td>\n",
       "      <td>2018</td>\n",
       "      <td>последний</td>\n",
       "      <td>NaN</td>\n",
       "    </tr>\n",
       "    <tr>\n",
       "      <th>18867</th>\n",
       "      <td>1</td>\n",
       "      <td>470000.0</td>\n",
       "      <td>41.0</td>\n",
       "      <td>2018-02-11</td>\n",
       "      <td>1</td>\n",
       "      <td>NaN</td>\n",
       "      <td>5</td>\n",
       "      <td>32.000000</td>\n",
       "      <td>3</td>\n",
       "      <td>True</td>\n",
       "      <td>...</td>\n",
       "      <td>0.0</td>\n",
       "      <td>0.0</td>\n",
       "      <td>0.0</td>\n",
       "      <td>46.0</td>\n",
       "      <td>11463.41</td>\n",
       "      <td>6</td>\n",
       "      <td>2</td>\n",
       "      <td>2018</td>\n",
       "      <td>другой</td>\n",
       "      <td>NaN</td>\n",
       "    </tr>\n",
       "    <tr>\n",
       "      <th>17676</th>\n",
       "      <td>0</td>\n",
       "      <td>450000.0</td>\n",
       "      <td>36.5</td>\n",
       "      <td>2018-02-01</td>\n",
       "      <td>1</td>\n",
       "      <td>NaN</td>\n",
       "      <td>5</td>\n",
       "      <td>17.300000</td>\n",
       "      <td>4</td>\n",
       "      <td>True</td>\n",
       "      <td>...</td>\n",
       "      <td>0.0</td>\n",
       "      <td>0.0</td>\n",
       "      <td>0.0</td>\n",
       "      <td>120.0</td>\n",
       "      <td>12328.77</td>\n",
       "      <td>3</td>\n",
       "      <td>2</td>\n",
       "      <td>2018</td>\n",
       "      <td>другой</td>\n",
       "      <td>NaN</td>\n",
       "    </tr>\n",
       "    <tr>\n",
       "      <th>9581</th>\n",
       "      <td>7</td>\n",
       "      <td>450000.0</td>\n",
       "      <td>43.4</td>\n",
       "      <td>2018-08-31</td>\n",
       "      <td>2</td>\n",
       "      <td>NaN</td>\n",
       "      <td>5</td>\n",
       "      <td>30.300000</td>\n",
       "      <td>3</td>\n",
       "      <td>True</td>\n",
       "      <td>...</td>\n",
       "      <td>0.0</td>\n",
       "      <td>0.0</td>\n",
       "      <td>0.0</td>\n",
       "      <td>96.0</td>\n",
       "      <td>10368.66</td>\n",
       "      <td>4</td>\n",
       "      <td>8</td>\n",
       "      <td>2018</td>\n",
       "      <td>другой</td>\n",
       "      <td>NaN</td>\n",
       "    </tr>\n",
       "    <tr>\n",
       "      <th>16219</th>\n",
       "      <td>14</td>\n",
       "      <td>450000.0</td>\n",
       "      <td>38.5</td>\n",
       "      <td>2018-07-11</td>\n",
       "      <td>2</td>\n",
       "      <td>2.65</td>\n",
       "      <td>2</td>\n",
       "      <td>21.808544</td>\n",
       "      <td>1</td>\n",
       "      <td>True</td>\n",
       "      <td>...</td>\n",
       "      <td>0.0</td>\n",
       "      <td>0.0</td>\n",
       "      <td>0.0</td>\n",
       "      <td>45.0</td>\n",
       "      <td>11688.31</td>\n",
       "      <td>2</td>\n",
       "      <td>7</td>\n",
       "      <td>2018</td>\n",
       "      <td>первый</td>\n",
       "      <td>NaN</td>\n",
       "    </tr>\n",
       "    <tr>\n",
       "      <th>5698</th>\n",
       "      <td>7</td>\n",
       "      <td>450000.0</td>\n",
       "      <td>42.0</td>\n",
       "      <td>2017-07-31</td>\n",
       "      <td>2</td>\n",
       "      <td>NaN</td>\n",
       "      <td>1</td>\n",
       "      <td>23.000000</td>\n",
       "      <td>1</td>\n",
       "      <td>True</td>\n",
       "      <td>...</td>\n",
       "      <td>0.0</td>\n",
       "      <td>0.0</td>\n",
       "      <td>0.0</td>\n",
       "      <td>233.0</td>\n",
       "      <td>10714.29</td>\n",
       "      <td>0</td>\n",
       "      <td>7</td>\n",
       "      <td>2017</td>\n",
       "      <td>первый</td>\n",
       "      <td>NaN</td>\n",
       "    </tr>\n",
       "    <tr>\n",
       "      <th>16274</th>\n",
       "      <td>18</td>\n",
       "      <td>440000.0</td>\n",
       "      <td>40.0</td>\n",
       "      <td>2018-07-10</td>\n",
       "      <td>1</td>\n",
       "      <td>NaN</td>\n",
       "      <td>5</td>\n",
       "      <td>22.658228</td>\n",
       "      <td>1</td>\n",
       "      <td>True</td>\n",
       "      <td>...</td>\n",
       "      <td>0.0</td>\n",
       "      <td>0.0</td>\n",
       "      <td>0.0</td>\n",
       "      <td>45.0</td>\n",
       "      <td>11000.00</td>\n",
       "      <td>1</td>\n",
       "      <td>7</td>\n",
       "      <td>2018</td>\n",
       "      <td>первый</td>\n",
       "      <td>NaN</td>\n",
       "    </tr>\n",
       "    <tr>\n",
       "      <th>17456</th>\n",
       "      <td>7</td>\n",
       "      <td>430000.0</td>\n",
       "      <td>30.4</td>\n",
       "      <td>2019-04-22</td>\n",
       "      <td>1</td>\n",
       "      <td>NaN</td>\n",
       "      <td>2</td>\n",
       "      <td>16.000000</td>\n",
       "      <td>1</td>\n",
       "      <td>True</td>\n",
       "      <td>...</td>\n",
       "      <td>0.0</td>\n",
       "      <td>0.0</td>\n",
       "      <td>0.0</td>\n",
       "      <td>NaN</td>\n",
       "      <td>14144.74</td>\n",
       "      <td>0</td>\n",
       "      <td>4</td>\n",
       "      <td>2019</td>\n",
       "      <td>первый</td>\n",
       "      <td>NaN</td>\n",
       "    </tr>\n",
       "    <tr>\n",
       "      <th>14911</th>\n",
       "      <td>5</td>\n",
       "      <td>430000.0</td>\n",
       "      <td>54.0</td>\n",
       "      <td>2018-06-26</td>\n",
       "      <td>2</td>\n",
       "      <td>NaN</td>\n",
       "      <td>3</td>\n",
       "      <td>30.588608</td>\n",
       "      <td>3</td>\n",
       "      <td>True</td>\n",
       "      <td>...</td>\n",
       "      <td>0.0</td>\n",
       "      <td>0.0</td>\n",
       "      <td>0.0</td>\n",
       "      <td>44.0</td>\n",
       "      <td>7962.96</td>\n",
       "      <td>1</td>\n",
       "      <td>6</td>\n",
       "      <td>2018</td>\n",
       "      <td>последний</td>\n",
       "      <td>NaN</td>\n",
       "    </tr>\n",
       "    <tr>\n",
       "      <th>8793</th>\n",
       "      <td>7</td>\n",
       "      <td>12190.0</td>\n",
       "      <td>109.0</td>\n",
       "      <td>2019-03-20</td>\n",
       "      <td>2</td>\n",
       "      <td>2.75</td>\n",
       "      <td>25</td>\n",
       "      <td>32.000000</td>\n",
       "      <td>25</td>\n",
       "      <td>True</td>\n",
       "      <td>...</td>\n",
       "      <td>805.0</td>\n",
       "      <td>0.0</td>\n",
       "      <td>0.0</td>\n",
       "      <td>8.0</td>\n",
       "      <td>111.83</td>\n",
       "      <td>2</td>\n",
       "      <td>3</td>\n",
       "      <td>2019</td>\n",
       "      <td>последний</td>\n",
       "      <td>9.0</td>\n",
       "    </tr>\n",
       "  </tbody>\n",
       "</table>\n",
       "<p>10 rows × 28 columns</p>\n",
       "</div>"
      ],
      "text/plain": [
       "       total_images  last_price  total_area first_day_exposition  rooms  \\\n",
       "21912             0    470000.0        37.0           2018-02-18      1   \n",
       "18867             1    470000.0        41.0           2018-02-11      1   \n",
       "17676             0    450000.0        36.5           2018-02-01      1   \n",
       "9581              7    450000.0        43.4           2018-08-31      2   \n",
       "16219            14    450000.0        38.5           2018-07-11      2   \n",
       "5698              7    450000.0        42.0           2017-07-31      2   \n",
       "16274            18    440000.0        40.0           2018-07-10      1   \n",
       "17456             7    430000.0        30.4           2019-04-22      1   \n",
       "14911             5    430000.0        54.0           2018-06-26      2   \n",
       "8793              7     12190.0       109.0           2019-03-20      2   \n",
       "\n",
       "       ceiling_height  floors_total  living_area  floor  is_apartment  ...  \\\n",
       "21912             NaN             3    20.958861      3          True  ...   \n",
       "18867             NaN             5    32.000000      3          True  ...   \n",
       "17676             NaN             5    17.300000      4          True  ...   \n",
       "9581              NaN             5    30.300000      3          True  ...   \n",
       "16219            2.65             2    21.808544      1          True  ...   \n",
       "5698              NaN             1    23.000000      1          True  ...   \n",
       "16274             NaN             5    22.658228      1          True  ...   \n",
       "17456             NaN             2    16.000000      1          True  ...   \n",
       "14911             NaN             3    30.588608      3          True  ...   \n",
       "8793             2.75            25    32.000000     25          True  ...   \n",
       "\n",
       "       parks_nearest  ponds_around3000  ponds_nearest  days_exposition  \\\n",
       "21912            0.0               0.0            0.0             45.0   \n",
       "18867            0.0               0.0            0.0             46.0   \n",
       "17676            0.0               0.0            0.0            120.0   \n",
       "9581             0.0               0.0            0.0             96.0   \n",
       "16219            0.0               0.0            0.0             45.0   \n",
       "5698             0.0               0.0            0.0            233.0   \n",
       "16274            0.0               0.0            0.0             45.0   \n",
       "17456            0.0               0.0            0.0              NaN   \n",
       "14911            0.0               0.0            0.0             44.0   \n",
       "8793           805.0               0.0            0.0              8.0   \n",
       "\n",
       "      price_one_meter  weekday_exposition  month_exposition  year_exposition  \\\n",
       "21912        12702.70                   6                 2             2018   \n",
       "18867        11463.41                   6                 2             2018   \n",
       "17676        12328.77                   3                 2             2018   \n",
       "9581         10368.66                   4                 8             2018   \n",
       "16219        11688.31                   2                 7             2018   \n",
       "5698         10714.29                   0                 7             2017   \n",
       "16274        11000.00                   1                 7             2018   \n",
       "17456        14144.74                   0                 4             2019   \n",
       "14911         7962.96                   1                 6             2018   \n",
       "8793           111.83                   2                 3             2019   \n",
       "\n",
       "       floor_type  city_centers_km  \n",
       "21912   последний              NaN  \n",
       "18867      другой              NaN  \n",
       "17676      другой              NaN  \n",
       "9581       другой              NaN  \n",
       "16219      первый              NaN  \n",
       "5698       первый              NaN  \n",
       "16274      первый              NaN  \n",
       "17456      первый              NaN  \n",
       "14911   последний              NaN  \n",
       "8793    последний              9.0  \n",
       "\n",
       "[10 rows x 28 columns]"
      ]
     },
     "execution_count": 44,
     "metadata": {},
     "output_type": "execute_result"
    }
   ],
   "source": [
    "data.sort_values(by='last_price', ascending=False).tail(10)"
   ]
  },
  {
   "cell_type": "markdown",
   "metadata": {},
   "source": [
    "Удалим данные о самой дешевой квартире, поскольку данные выглядят неправдоподобно."
   ]
  },
  {
   "cell_type": "code",
   "execution_count": 45,
   "metadata": {},
   "outputs": [
    {
     "data": {
      "text/plain": [
       "<AxesSubplot:>"
      ]
     },
     "execution_count": 45,
     "metadata": {},
     "output_type": "execute_result"
    },
    {
     "data": {
      "image/png": "[encoded data removed]",
      "text/plain": [
       "<Figure size 432x288 with 1 Axes>"
      ]
     },
     "metadata": {
      "needs_background": "light"
     },
     "output_type": "display_data"
    }
   ],
   "source": [
    "data = data.query('last_price != 12190.0')\n",
    "data['last_price'].hist(bins=30, range=(0, 15790000))"
   ]
  },
  {
   "cell_type": "markdown",
   "metadata": {},
   "source": [
    "В соответствии с представленной гистограммой, наиболее популярные объекты недвижимости стоят около 4млн.руб.(медианное значение 4,6млн.руб.). Учитывая то, что как было определено ранее, наиболее популярными являются квартиры малой площади, полученные данные соответствуют общей картине."
   ]
  },
  {
   "cell_type": "markdown",
   "metadata": {},
   "source": [
    "**Количество комнат.**"
   ]
  },
  {
   "cell_type": "code",
   "execution_count": 46,
   "metadata": {},
   "outputs": [
    {
     "data": {
      "text/plain": [
       "count    23563.000000\n",
       "mean         2.070237\n",
       "std          1.076695\n",
       "min          0.000000\n",
       "25%          1.000000\n",
       "50%          2.000000\n",
       "75%          3.000000\n",
       "max         19.000000\n",
       "Name: rooms, dtype: float64"
      ]
     },
     "execution_count": 46,
     "metadata": {},
     "output_type": "execute_result"
    }
   ],
   "source": [
    "data['rooms'].describe()"
   ]
  },
  {
   "cell_type": "code",
   "execution_count": 47,
   "metadata": {},
   "outputs": [
    {
     "data": {
      "text/html": [
       "<div>\n",
       "<style scoped>\n",
       "    .dataframe tbody tr th:only-of-type {\n",
       "        vertical-align: middle;\n",
       "    }\n",
       "\n",
       "    .dataframe tbody tr th {\n",
       "        vertical-align: top;\n",
       "    }\n",
       "\n",
       "    .dataframe thead th {\n",
       "        text-align: right;\n",
       "    }\n",
       "</style>\n",
       "<table border=\"1\" class=\"dataframe\">\n",
       "  <thead>\n",
       "    <tr style=\"text-align: right;\">\n",
       "      <th></th>\n",
       "      <th>total_images</th>\n",
       "      <th>last_price</th>\n",
       "      <th>total_area</th>\n",
       "      <th>first_day_exposition</th>\n",
       "      <th>rooms</th>\n",
       "      <th>ceiling_height</th>\n",
       "      <th>floors_total</th>\n",
       "      <th>living_area</th>\n",
       "      <th>floor</th>\n",
       "      <th>is_apartment</th>\n",
       "      <th>...</th>\n",
       "      <th>parks_nearest</th>\n",
       "      <th>ponds_around3000</th>\n",
       "      <th>ponds_nearest</th>\n",
       "      <th>days_exposition</th>\n",
       "      <th>price_one_meter</th>\n",
       "      <th>weekday_exposition</th>\n",
       "      <th>month_exposition</th>\n",
       "      <th>year_exposition</th>\n",
       "      <th>floor_type</th>\n",
       "      <th>city_centers_km</th>\n",
       "    </tr>\n",
       "  </thead>\n",
       "  <tbody>\n",
       "    <tr>\n",
       "      <th>22573</th>\n",
       "      <td>8</td>\n",
       "      <td>2250000.0</td>\n",
       "      <td>24.00</td>\n",
       "      <td>2017-09-28</td>\n",
       "      <td>0</td>\n",
       "      <td>NaN</td>\n",
       "      <td>12</td>\n",
       "      <td>15.00</td>\n",
       "      <td>3</td>\n",
       "      <td>True</td>\n",
       "      <td>...</td>\n",
       "      <td>0.0</td>\n",
       "      <td>0.0</td>\n",
       "      <td>0.0</td>\n",
       "      <td>45.0</td>\n",
       "      <td>93750.00</td>\n",
       "      <td>3</td>\n",
       "      <td>9</td>\n",
       "      <td>2017</td>\n",
       "      <td>другой</td>\n",
       "      <td>NaN</td>\n",
       "    </tr>\n",
       "    <tr>\n",
       "      <th>9511</th>\n",
       "      <td>18</td>\n",
       "      <td>3350000.0</td>\n",
       "      <td>27.00</td>\n",
       "      <td>2018-03-02</td>\n",
       "      <td>0</td>\n",
       "      <td>2.8</td>\n",
       "      <td>18</td>\n",
       "      <td>17.40</td>\n",
       "      <td>5</td>\n",
       "      <td>True</td>\n",
       "      <td>...</td>\n",
       "      <td>0.0</td>\n",
       "      <td>0.0</td>\n",
       "      <td>0.0</td>\n",
       "      <td>179.0</td>\n",
       "      <td>124074.07</td>\n",
       "      <td>4</td>\n",
       "      <td>3</td>\n",
       "      <td>2018</td>\n",
       "      <td>другой</td>\n",
       "      <td>8.0</td>\n",
       "    </tr>\n",
       "    <tr>\n",
       "      <th>17182</th>\n",
       "      <td>14</td>\n",
       "      <td>1990000.0</td>\n",
       "      <td>24.40</td>\n",
       "      <td>2017-01-23</td>\n",
       "      <td>0</td>\n",
       "      <td>NaN</td>\n",
       "      <td>16</td>\n",
       "      <td>17.20</td>\n",
       "      <td>9</td>\n",
       "      <td>True</td>\n",
       "      <td>...</td>\n",
       "      <td>0.0</td>\n",
       "      <td>0.0</td>\n",
       "      <td>0.0</td>\n",
       "      <td>159.0</td>\n",
       "      <td>81557.38</td>\n",
       "      <td>0</td>\n",
       "      <td>1</td>\n",
       "      <td>2017</td>\n",
       "      <td>другой</td>\n",
       "      <td>NaN</td>\n",
       "    </tr>\n",
       "    <tr>\n",
       "      <th>18444</th>\n",
       "      <td>9</td>\n",
       "      <td>1900000.0</td>\n",
       "      <td>24.20</td>\n",
       "      <td>2017-09-08</td>\n",
       "      <td>0</td>\n",
       "      <td>NaN</td>\n",
       "      <td>15</td>\n",
       "      <td>18.10</td>\n",
       "      <td>1</td>\n",
       "      <td>True</td>\n",
       "      <td>...</td>\n",
       "      <td>0.0</td>\n",
       "      <td>0.0</td>\n",
       "      <td>0.0</td>\n",
       "      <td>30.0</td>\n",
       "      <td>78512.40</td>\n",
       "      <td>4</td>\n",
       "      <td>9</td>\n",
       "      <td>2017</td>\n",
       "      <td>первый</td>\n",
       "      <td>NaN</td>\n",
       "    </tr>\n",
       "    <tr>\n",
       "      <th>17582</th>\n",
       "      <td>11</td>\n",
       "      <td>2680000.0</td>\n",
       "      <td>22.00</td>\n",
       "      <td>2018-08-11</td>\n",
       "      <td>0</td>\n",
       "      <td>2.6</td>\n",
       "      <td>25</td>\n",
       "      <td>5.00</td>\n",
       "      <td>8</td>\n",
       "      <td>True</td>\n",
       "      <td>...</td>\n",
       "      <td>835.0</td>\n",
       "      <td>1.0</td>\n",
       "      <td>652.0</td>\n",
       "      <td>70.0</td>\n",
       "      <td>121818.18</td>\n",
       "      <td>5</td>\n",
       "      <td>8</td>\n",
       "      <td>2018</td>\n",
       "      <td>другой</td>\n",
       "      <td>12.0</td>\n",
       "    </tr>\n",
       "    <tr>\n",
       "      <th>6612</th>\n",
       "      <td>18</td>\n",
       "      <td>3590000.0</td>\n",
       "      <td>26.80</td>\n",
       "      <td>2017-11-10</td>\n",
       "      <td>0</td>\n",
       "      <td>2.6</td>\n",
       "      <td>24</td>\n",
       "      <td>19.00</td>\n",
       "      <td>20</td>\n",
       "      <td>True</td>\n",
       "      <td>...</td>\n",
       "      <td>0.0</td>\n",
       "      <td>0.0</td>\n",
       "      <td>0.0</td>\n",
       "      <td>15.0</td>\n",
       "      <td>133955.22</td>\n",
       "      <td>4</td>\n",
       "      <td>11</td>\n",
       "      <td>2017</td>\n",
       "      <td>другой</td>\n",
       "      <td>13.0</td>\n",
       "    </tr>\n",
       "    <tr>\n",
       "      <th>8776</th>\n",
       "      <td>8</td>\n",
       "      <td>2450000.0</td>\n",
       "      <td>25.00</td>\n",
       "      <td>2018-01-09</td>\n",
       "      <td>0</td>\n",
       "      <td>NaN</td>\n",
       "      <td>25</td>\n",
       "      <td>18.00</td>\n",
       "      <td>24</td>\n",
       "      <td>True</td>\n",
       "      <td>...</td>\n",
       "      <td>0.0</td>\n",
       "      <td>0.0</td>\n",
       "      <td>0.0</td>\n",
       "      <td>50.0</td>\n",
       "      <td>98000.00</td>\n",
       "      <td>1</td>\n",
       "      <td>1</td>\n",
       "      <td>2018</td>\n",
       "      <td>другой</td>\n",
       "      <td>NaN</td>\n",
       "    </tr>\n",
       "    <tr>\n",
       "      <th>10416</th>\n",
       "      <td>8</td>\n",
       "      <td>3700000.0</td>\n",
       "      <td>29.10</td>\n",
       "      <td>2018-08-28</td>\n",
       "      <td>0</td>\n",
       "      <td>2.6</td>\n",
       "      <td>14</td>\n",
       "      <td>20.50</td>\n",
       "      <td>2</td>\n",
       "      <td>True</td>\n",
       "      <td>...</td>\n",
       "      <td>637.0</td>\n",
       "      <td>0.0</td>\n",
       "      <td>0.0</td>\n",
       "      <td>37.0</td>\n",
       "      <td>127147.77</td>\n",
       "      <td>1</td>\n",
       "      <td>8</td>\n",
       "      <td>2018</td>\n",
       "      <td>другой</td>\n",
       "      <td>10.0</td>\n",
       "    </tr>\n",
       "    <tr>\n",
       "      <th>2563</th>\n",
       "      <td>4</td>\n",
       "      <td>3170000.0</td>\n",
       "      <td>28.40</td>\n",
       "      <td>2018-07-26</td>\n",
       "      <td>0</td>\n",
       "      <td>2.6</td>\n",
       "      <td>23</td>\n",
       "      <td>20.46</td>\n",
       "      <td>2</td>\n",
       "      <td>True</td>\n",
       "      <td>...</td>\n",
       "      <td>0.0</td>\n",
       "      <td>1.0</td>\n",
       "      <td>170.0</td>\n",
       "      <td>28.0</td>\n",
       "      <td>111619.72</td>\n",
       "      <td>3</td>\n",
       "      <td>7</td>\n",
       "      <td>2018</td>\n",
       "      <td>другой</td>\n",
       "      <td>17.0</td>\n",
       "    </tr>\n",
       "    <tr>\n",
       "      <th>10182</th>\n",
       "      <td>14</td>\n",
       "      <td>2250000.0</td>\n",
       "      <td>24.75</td>\n",
       "      <td>2018-10-02</td>\n",
       "      <td>0</td>\n",
       "      <td>NaN</td>\n",
       "      <td>19</td>\n",
       "      <td>17.20</td>\n",
       "      <td>6</td>\n",
       "      <td>True</td>\n",
       "      <td>...</td>\n",
       "      <td>0.0</td>\n",
       "      <td>0.0</td>\n",
       "      <td>0.0</td>\n",
       "      <td>13.0</td>\n",
       "      <td>90909.09</td>\n",
       "      <td>1</td>\n",
       "      <td>10</td>\n",
       "      <td>2018</td>\n",
       "      <td>другой</td>\n",
       "      <td>NaN</td>\n",
       "    </tr>\n",
       "  </tbody>\n",
       "</table>\n",
       "<p>10 rows × 28 columns</p>\n",
       "</div>"
      ],
      "text/plain": [
       "       total_images  last_price  total_area first_day_exposition  rooms  \\\n",
       "22573             8   2250000.0       24.00           2017-09-28      0   \n",
       "9511             18   3350000.0       27.00           2018-03-02      0   \n",
       "17182            14   1990000.0       24.40           2017-01-23      0   \n",
       "18444             9   1900000.0       24.20           2017-09-08      0   \n",
       "17582            11   2680000.0       22.00           2018-08-11      0   \n",
       "6612             18   3590000.0       26.80           2017-11-10      0   \n",
       "8776              8   2450000.0       25.00           2018-01-09      0   \n",
       "10416             8   3700000.0       29.10           2018-08-28      0   \n",
       "2563              4   3170000.0       28.40           2018-07-26      0   \n",
       "10182            14   2250000.0       24.75           2018-10-02      0   \n",
       "\n",
       "       ceiling_height  floors_total  living_area  floor  is_apartment  ...  \\\n",
       "22573             NaN            12        15.00      3          True  ...   \n",
       "9511              2.8            18        17.40      5          True  ...   \n",
       "17182             NaN            16        17.20      9          True  ...   \n",
       "18444             NaN            15        18.10      1          True  ...   \n",
       "17582             2.6            25         5.00      8          True  ...   \n",
       "6612              2.6            24        19.00     20          True  ...   \n",
       "8776              NaN            25        18.00     24          True  ...   \n",
       "10416             2.6            14        20.50      2          True  ...   \n",
       "2563              2.6            23        20.46      2          True  ...   \n",
       "10182             NaN            19        17.20      6          True  ...   \n",
       "\n",
       "       parks_nearest  ponds_around3000  ponds_nearest  days_exposition  \\\n",
       "22573            0.0               0.0            0.0             45.0   \n",
       "9511             0.0               0.0            0.0            179.0   \n",
       "17182            0.0               0.0            0.0            159.0   \n",
       "18444            0.0               0.0            0.0             30.0   \n",
       "17582          835.0               1.0          652.0             70.0   \n",
       "6612             0.0               0.0            0.0             15.0   \n",
       "8776             0.0               0.0            0.0             50.0   \n",
       "10416          637.0               0.0            0.0             37.0   \n",
       "2563             0.0               1.0          170.0             28.0   \n",
       "10182            0.0               0.0            0.0             13.0   \n",
       "\n",
       "      price_one_meter  weekday_exposition  month_exposition  year_exposition  \\\n",
       "22573        93750.00                   3                 9             2017   \n",
       "9511        124074.07                   4                 3             2018   \n",
       "17182        81557.38                   0                 1             2017   \n",
       "18444        78512.40                   4                 9             2017   \n",
       "17582       121818.18                   5                 8             2018   \n",
       "6612        133955.22                   4                11             2017   \n",
       "8776         98000.00                   1                 1             2018   \n",
       "10416       127147.77                   1                 8             2018   \n",
       "2563        111619.72                   3                 7             2018   \n",
       "10182        90909.09                   1                10             2018   \n",
       "\n",
       "       floor_type  city_centers_km  \n",
       "22573      другой              NaN  \n",
       "9511       другой              8.0  \n",
       "17182      другой              NaN  \n",
       "18444      первый              NaN  \n",
       "17582      другой             12.0  \n",
       "6612       другой             13.0  \n",
       "8776       другой              NaN  \n",
       "10416      другой             10.0  \n",
       "2563       другой             17.0  \n",
       "10182      другой              NaN  \n",
       "\n",
       "[10 rows x 28 columns]"
      ]
     },
     "execution_count": 47,
     "metadata": {},
     "output_type": "execute_result"
    }
   ],
   "source": [
    "data.sort_values(by='rooms', ascending=False).tail(10)"
   ]
  },
  {
   "cell_type": "markdown",
   "metadata": {},
   "source": [
    "В квартире не может быть ноль комнат. Поскольку общая площадь объекта маленькая, скорее всего продается одна комната, например в коммунальной квартире, поэтому заполнение неправильное, заменим все нули на единицы и построим гистограмму."
   ]
  },
  {
   "cell_type": "code",
   "execution_count": 48,
   "metadata": {},
   "outputs": [],
   "source": [
    "for room in data['rooms']:\n",
    "    data.loc[(data['rooms'] == 0), 'rooms'] = 1"
   ]
  },
  {
   "cell_type": "code",
   "execution_count": 49,
   "metadata": {},
   "outputs": [
    {
     "data": {
      "text/plain": [
       "<AxesSubplot:>"
      ]
     },
     "execution_count": 49,
     "metadata": {},
     "output_type": "execute_result"
    },
    {
     "data": {
      "image/png": "[encoded data removed]",
      "text/plain": [
       "<Figure size 432x288 with 1 Axes>"
      ]
     },
     "metadata": {
      "needs_background": "light"
     },
     "output_type": "display_data"
    }
   ],
   "source": [
    "data['rooms'].hist(bins=30, range=(0, 10))"
   ]
  },
  {
   "cell_type": "markdown",
   "metadata": {},
   "source": [
    "Как и было определено, наиболее часто продаваемыми квартирами являются квартиры малой площади, к которым можно отнести однокомнатные и двухкомнатные варианты. Данные наблюдения так же подтверждаются данной гистограммой, которая показывает, что наиболее встречающееся количество комнат это 1 или 2."
   ]
  },
  {
   "cell_type": "markdown",
   "metadata": {},
   "source": [
    "**Высота потолка.**"
   ]
  },
  {
   "cell_type": "code",
   "execution_count": 50,
   "metadata": {},
   "outputs": [
    {
     "data": {
      "text/plain": [
       "count    21041.000000\n",
       "mean         2.744024\n",
       "std          1.051449\n",
       "min          1.000000\n",
       "25%          2.600000\n",
       "50%          2.600000\n",
       "75%          2.800000\n",
       "max        100.000000\n",
       "Name: ceiling_height, dtype: float64"
      ]
     },
     "execution_count": 50,
     "metadata": {},
     "output_type": "execute_result"
    }
   ],
   "source": [
    "data['ceiling_height'].describe()"
   ]
  },
  {
   "cell_type": "code",
   "execution_count": 51,
   "metadata": {},
   "outputs": [
    {
     "data": {
      "text/html": [
       "<div>\n",
       "<style scoped>\n",
       "    .dataframe tbody tr th:only-of-type {\n",
       "        vertical-align: middle;\n",
       "    }\n",
       "\n",
       "    .dataframe tbody tr th {\n",
       "        vertical-align: top;\n",
       "    }\n",
       "\n",
       "    .dataframe thead th {\n",
       "        text-align: right;\n",
       "    }\n",
       "</style>\n",
       "<table border=\"1\" class=\"dataframe\">\n",
       "  <thead>\n",
       "    <tr style=\"text-align: right;\">\n",
       "      <th></th>\n",
       "      <th>total_images</th>\n",
       "      <th>last_price</th>\n",
       "      <th>total_area</th>\n",
       "      <th>first_day_exposition</th>\n",
       "      <th>rooms</th>\n",
       "      <th>ceiling_height</th>\n",
       "      <th>floors_total</th>\n",
       "      <th>living_area</th>\n",
       "      <th>floor</th>\n",
       "      <th>is_apartment</th>\n",
       "      <th>...</th>\n",
       "      <th>parks_nearest</th>\n",
       "      <th>ponds_around3000</th>\n",
       "      <th>ponds_nearest</th>\n",
       "      <th>days_exposition</th>\n",
       "      <th>price_one_meter</th>\n",
       "      <th>weekday_exposition</th>\n",
       "      <th>month_exposition</th>\n",
       "      <th>year_exposition</th>\n",
       "      <th>floor_type</th>\n",
       "      <th>city_centers_km</th>\n",
       "    </tr>\n",
       "  </thead>\n",
       "  <tbody>\n",
       "    <tr>\n",
       "      <th>22869</th>\n",
       "      <td>0</td>\n",
       "      <td>15000000.0</td>\n",
       "      <td>25.0</td>\n",
       "      <td>2018-07-25</td>\n",
       "      <td>1</td>\n",
       "      <td>100.0</td>\n",
       "      <td>5</td>\n",
       "      <td>14.0</td>\n",
       "      <td>5</td>\n",
       "      <td>True</td>\n",
       "      <td>...</td>\n",
       "      <td>223.0</td>\n",
       "      <td>3.0</td>\n",
       "      <td>30.0</td>\n",
       "      <td>19.0</td>\n",
       "      <td>600000.00</td>\n",
       "      <td>2</td>\n",
       "      <td>7</td>\n",
       "      <td>2018</td>\n",
       "      <td>последний</td>\n",
       "      <td>8.0</td>\n",
       "    </tr>\n",
       "    <tr>\n",
       "      <th>3148</th>\n",
       "      <td>14</td>\n",
       "      <td>2900000.0</td>\n",
       "      <td>75.0</td>\n",
       "      <td>2018-11-12</td>\n",
       "      <td>3</td>\n",
       "      <td>32.0</td>\n",
       "      <td>3</td>\n",
       "      <td>53.0</td>\n",
       "      <td>2</td>\n",
       "      <td>True</td>\n",
       "      <td>...</td>\n",
       "      <td>0.0</td>\n",
       "      <td>0.0</td>\n",
       "      <td>0.0</td>\n",
       "      <td>NaN</td>\n",
       "      <td>38666.67</td>\n",
       "      <td>0</td>\n",
       "      <td>11</td>\n",
       "      <td>2018</td>\n",
       "      <td>другой</td>\n",
       "      <td>NaN</td>\n",
       "    </tr>\n",
       "    <tr>\n",
       "      <th>22336</th>\n",
       "      <td>19</td>\n",
       "      <td>9999000.0</td>\n",
       "      <td>92.4</td>\n",
       "      <td>2019-04-05</td>\n",
       "      <td>2</td>\n",
       "      <td>32.0</td>\n",
       "      <td>6</td>\n",
       "      <td>55.5</td>\n",
       "      <td>5</td>\n",
       "      <td>False</td>\n",
       "      <td>...</td>\n",
       "      <td>0.0</td>\n",
       "      <td>3.0</td>\n",
       "      <td>511.0</td>\n",
       "      <td>NaN</td>\n",
       "      <td>108214.29</td>\n",
       "      <td>4</td>\n",
       "      <td>4</td>\n",
       "      <td>2019</td>\n",
       "      <td>другой</td>\n",
       "      <td>4.0</td>\n",
       "    </tr>\n",
       "    <tr>\n",
       "      <th>21377</th>\n",
       "      <td>19</td>\n",
       "      <td>4900000.0</td>\n",
       "      <td>42.0</td>\n",
       "      <td>2017-04-18</td>\n",
       "      <td>1</td>\n",
       "      <td>27.5</td>\n",
       "      <td>24</td>\n",
       "      <td>37.7</td>\n",
       "      <td>19</td>\n",
       "      <td>False</td>\n",
       "      <td>...</td>\n",
       "      <td>0.0</td>\n",
       "      <td>0.0</td>\n",
       "      <td>0.0</td>\n",
       "      <td>61.0</td>\n",
       "      <td>116666.67</td>\n",
       "      <td>1</td>\n",
       "      <td>4</td>\n",
       "      <td>2017</td>\n",
       "      <td>другой</td>\n",
       "      <td>10.0</td>\n",
       "    </tr>\n",
       "    <tr>\n",
       "      <th>22938</th>\n",
       "      <td>14</td>\n",
       "      <td>4000000.0</td>\n",
       "      <td>98.0</td>\n",
       "      <td>2018-03-15</td>\n",
       "      <td>4</td>\n",
       "      <td>27.0</td>\n",
       "      <td>2</td>\n",
       "      <td>73.0</td>\n",
       "      <td>2</td>\n",
       "      <td>True</td>\n",
       "      <td>...</td>\n",
       "      <td>0.0</td>\n",
       "      <td>0.0</td>\n",
       "      <td>0.0</td>\n",
       "      <td>27.0</td>\n",
       "      <td>40816.33</td>\n",
       "      <td>3</td>\n",
       "      <td>3</td>\n",
       "      <td>2018</td>\n",
       "      <td>последний</td>\n",
       "      <td>NaN</td>\n",
       "    </tr>\n",
       "    <tr>\n",
       "      <th>5246</th>\n",
       "      <td>0</td>\n",
       "      <td>2500000.0</td>\n",
       "      <td>54.0</td>\n",
       "      <td>2017-10-13</td>\n",
       "      <td>2</td>\n",
       "      <td>27.0</td>\n",
       "      <td>5</td>\n",
       "      <td>30.0</td>\n",
       "      <td>3</td>\n",
       "      <td>True</td>\n",
       "      <td>...</td>\n",
       "      <td>0.0</td>\n",
       "      <td>0.0</td>\n",
       "      <td>0.0</td>\n",
       "      <td>540.0</td>\n",
       "      <td>46296.30</td>\n",
       "      <td>4</td>\n",
       "      <td>10</td>\n",
       "      <td>2017</td>\n",
       "      <td>другой</td>\n",
       "      <td>NaN</td>\n",
       "    </tr>\n",
       "    <tr>\n",
       "      <th>4876</th>\n",
       "      <td>7</td>\n",
       "      <td>3000000.0</td>\n",
       "      <td>25.0</td>\n",
       "      <td>2017-09-27</td>\n",
       "      <td>1</td>\n",
       "      <td>27.0</td>\n",
       "      <td>25</td>\n",
       "      <td>17.0</td>\n",
       "      <td>17</td>\n",
       "      <td>True</td>\n",
       "      <td>...</td>\n",
       "      <td>0.0</td>\n",
       "      <td>0.0</td>\n",
       "      <td>0.0</td>\n",
       "      <td>28.0</td>\n",
       "      <td>120000.00</td>\n",
       "      <td>2</td>\n",
       "      <td>9</td>\n",
       "      <td>2017</td>\n",
       "      <td>другой</td>\n",
       "      <td>NaN</td>\n",
       "    </tr>\n",
       "    <tr>\n",
       "      <th>5807</th>\n",
       "      <td>17</td>\n",
       "      <td>8150000.0</td>\n",
       "      <td>80.0</td>\n",
       "      <td>2019-01-09</td>\n",
       "      <td>2</td>\n",
       "      <td>27.0</td>\n",
       "      <td>36</td>\n",
       "      <td>41.0</td>\n",
       "      <td>13</td>\n",
       "      <td>True</td>\n",
       "      <td>...</td>\n",
       "      <td>0.0</td>\n",
       "      <td>3.0</td>\n",
       "      <td>80.0</td>\n",
       "      <td>38.0</td>\n",
       "      <td>101875.00</td>\n",
       "      <td>2</td>\n",
       "      <td>1</td>\n",
       "      <td>2019</td>\n",
       "      <td>другой</td>\n",
       "      <td>20.0</td>\n",
       "    </tr>\n",
       "    <tr>\n",
       "      <th>17857</th>\n",
       "      <td>1</td>\n",
       "      <td>3900000.0</td>\n",
       "      <td>56.0</td>\n",
       "      <td>2017-12-22</td>\n",
       "      <td>3</td>\n",
       "      <td>27.0</td>\n",
       "      <td>5</td>\n",
       "      <td>33.0</td>\n",
       "      <td>4</td>\n",
       "      <td>False</td>\n",
       "      <td>...</td>\n",
       "      <td>0.0</td>\n",
       "      <td>0.0</td>\n",
       "      <td>0.0</td>\n",
       "      <td>73.0</td>\n",
       "      <td>69642.86</td>\n",
       "      <td>4</td>\n",
       "      <td>12</td>\n",
       "      <td>2017</td>\n",
       "      <td>другой</td>\n",
       "      <td>16.0</td>\n",
       "    </tr>\n",
       "    <tr>\n",
       "      <th>20478</th>\n",
       "      <td>11</td>\n",
       "      <td>8000000.0</td>\n",
       "      <td>45.0</td>\n",
       "      <td>2017-07-18</td>\n",
       "      <td>1</td>\n",
       "      <td>27.0</td>\n",
       "      <td>4</td>\n",
       "      <td>22.0</td>\n",
       "      <td>2</td>\n",
       "      <td>True</td>\n",
       "      <td>...</td>\n",
       "      <td>0.0</td>\n",
       "      <td>3.0</td>\n",
       "      <td>449.0</td>\n",
       "      <td>429.0</td>\n",
       "      <td>177777.78</td>\n",
       "      <td>1</td>\n",
       "      <td>7</td>\n",
       "      <td>2017</td>\n",
       "      <td>другой</td>\n",
       "      <td>3.0</td>\n",
       "    </tr>\n",
       "  </tbody>\n",
       "</table>\n",
       "<p>10 rows × 28 columns</p>\n",
       "</div>"
      ],
      "text/plain": [
       "       total_images  last_price  total_area first_day_exposition  rooms  \\\n",
       "22869             0  15000000.0        25.0           2018-07-25      1   \n",
       "3148             14   2900000.0        75.0           2018-11-12      3   \n",
       "22336            19   9999000.0        92.4           2019-04-05      2   \n",
       "21377            19   4900000.0        42.0           2017-04-18      1   \n",
       "22938            14   4000000.0        98.0           2018-03-15      4   \n",
       "5246              0   2500000.0        54.0           2017-10-13      2   \n",
       "4876              7   3000000.0        25.0           2017-09-27      1   \n",
       "5807             17   8150000.0        80.0           2019-01-09      2   \n",
       "17857             1   3900000.0        56.0           2017-12-22      3   \n",
       "20478            11   8000000.0        45.0           2017-07-18      1   \n",
       "\n",
       "       ceiling_height  floors_total  living_area  floor  is_apartment  ...  \\\n",
       "22869           100.0             5         14.0      5          True  ...   \n",
       "3148             32.0             3         53.0      2          True  ...   \n",
       "22336            32.0             6         55.5      5         False  ...   \n",
       "21377            27.5            24         37.7     19         False  ...   \n",
       "22938            27.0             2         73.0      2          True  ...   \n",
       "5246             27.0             5         30.0      3          True  ...   \n",
       "4876             27.0            25         17.0     17          True  ...   \n",
       "5807             27.0            36         41.0     13          True  ...   \n",
       "17857            27.0             5         33.0      4         False  ...   \n",
       "20478            27.0             4         22.0      2          True  ...   \n",
       "\n",
       "       parks_nearest  ponds_around3000  ponds_nearest  days_exposition  \\\n",
       "22869          223.0               3.0           30.0             19.0   \n",
       "3148             0.0               0.0            0.0              NaN   \n",
       "22336            0.0               3.0          511.0              NaN   \n",
       "21377            0.0               0.0            0.0             61.0   \n",
       "22938            0.0               0.0            0.0             27.0   \n",
       "5246             0.0               0.0            0.0            540.0   \n",
       "4876             0.0               0.0            0.0             28.0   \n",
       "5807             0.0               3.0           80.0             38.0   \n",
       "17857            0.0               0.0            0.0             73.0   \n",
       "20478            0.0               3.0          449.0            429.0   \n",
       "\n",
       "      price_one_meter  weekday_exposition  month_exposition  year_exposition  \\\n",
       "22869       600000.00                   2                 7             2018   \n",
       "3148         38666.67                   0                11             2018   \n",
       "22336       108214.29                   4                 4             2019   \n",
       "21377       116666.67                   1                 4             2017   \n",
       "22938        40816.33                   3                 3             2018   \n",
       "5246         46296.30                   4                10             2017   \n",
       "4876        120000.00                   2                 9             2017   \n",
       "5807        101875.00                   2                 1             2019   \n",
       "17857        69642.86                   4                12             2017   \n",
       "20478       177777.78                   1                 7             2017   \n",
       "\n",
       "       floor_type  city_centers_km  \n",
       "22869   последний              8.0  \n",
       "3148       другой              NaN  \n",
       "22336      другой              4.0  \n",
       "21377      другой             10.0  \n",
       "22938   последний              NaN  \n",
       "5246       другой              NaN  \n",
       "4876       другой              NaN  \n",
       "5807       другой             20.0  \n",
       "17857      другой             16.0  \n",
       "20478      другой              3.0  \n",
       "\n",
       "[10 rows x 28 columns]"
      ]
     },
     "execution_count": 51,
     "metadata": {},
     "output_type": "execute_result"
    }
   ],
   "source": [
    "data.sort_values(by='ceiling_height', ascending=False).head(10)"
   ]
  },
  {
   "cell_type": "markdown",
   "metadata": {},
   "source": [
    "Удалим строку с высотой потолка 100 метров, поскольку даные ошибочны. Высота потолка 27 метров так же выглядит неправдоподобно, но в этих данных скорее всего допущена ошибка в порядках, поэтому уменьшим все высоты потолков выше 20 метров в 10 раз."
   ]
  },
  {
   "cell_type": "code",
   "execution_count": 52,
   "metadata": {},
   "outputs": [],
   "source": [
    "data = data.query('ceiling_height != 100.0')"
   ]
  },
  {
   "cell_type": "code",
   "execution_count": 53,
   "metadata": {},
   "outputs": [
    {
     "data": {
      "text/html": [
       "<div>\n",
       "<style scoped>\n",
       "    .dataframe tbody tr th:only-of-type {\n",
       "        vertical-align: middle;\n",
       "    }\n",
       "\n",
       "    .dataframe tbody tr th {\n",
       "        vertical-align: top;\n",
       "    }\n",
       "\n",
       "    .dataframe thead th {\n",
       "        text-align: right;\n",
       "    }\n",
       "</style>\n",
       "<table border=\"1\" class=\"dataframe\">\n",
       "  <thead>\n",
       "    <tr style=\"text-align: right;\">\n",
       "      <th></th>\n",
       "      <th>total_images</th>\n",
       "      <th>last_price</th>\n",
       "      <th>total_area</th>\n",
       "      <th>first_day_exposition</th>\n",
       "      <th>rooms</th>\n",
       "      <th>ceiling_height</th>\n",
       "      <th>floors_total</th>\n",
       "      <th>living_area</th>\n",
       "      <th>floor</th>\n",
       "      <th>is_apartment</th>\n",
       "      <th>...</th>\n",
       "      <th>parks_nearest</th>\n",
       "      <th>ponds_around3000</th>\n",
       "      <th>ponds_nearest</th>\n",
       "      <th>days_exposition</th>\n",
       "      <th>price_one_meter</th>\n",
       "      <th>weekday_exposition</th>\n",
       "      <th>month_exposition</th>\n",
       "      <th>year_exposition</th>\n",
       "      <th>floor_type</th>\n",
       "      <th>city_centers_km</th>\n",
       "    </tr>\n",
       "  </thead>\n",
       "  <tbody>\n",
       "    <tr>\n",
       "      <th>15061</th>\n",
       "      <td>19</td>\n",
       "      <td>5600000.0</td>\n",
       "      <td>56.4</td>\n",
       "      <td>2018-05-11</td>\n",
       "      <td>2</td>\n",
       "      <td>14.0</td>\n",
       "      <td>14</td>\n",
       "      <td>32.400000</td>\n",
       "      <td>5</td>\n",
       "      <td>True</td>\n",
       "      <td>...</td>\n",
       "      <td>0.0</td>\n",
       "      <td>0.0</td>\n",
       "      <td>0.0</td>\n",
       "      <td>315.0</td>\n",
       "      <td>99290.78</td>\n",
       "      <td>4</td>\n",
       "      <td>5</td>\n",
       "      <td>2018</td>\n",
       "      <td>другой</td>\n",
       "      <td>14.0</td>\n",
       "    </tr>\n",
       "    <tr>\n",
       "      <th>22309</th>\n",
       "      <td>20</td>\n",
       "      <td>5300000.0</td>\n",
       "      <td>45.0</td>\n",
       "      <td>2017-09-30</td>\n",
       "      <td>1</td>\n",
       "      <td>10.3</td>\n",
       "      <td>16</td>\n",
       "      <td>15.500000</td>\n",
       "      <td>15</td>\n",
       "      <td>True</td>\n",
       "      <td>...</td>\n",
       "      <td>440.0</td>\n",
       "      <td>2.0</td>\n",
       "      <td>450.0</td>\n",
       "      <td>136.0</td>\n",
       "      <td>117777.78</td>\n",
       "      <td>5</td>\n",
       "      <td>9</td>\n",
       "      <td>2017</td>\n",
       "      <td>другой</td>\n",
       "      <td>12.0</td>\n",
       "    </tr>\n",
       "    <tr>\n",
       "      <th>5863</th>\n",
       "      <td>20</td>\n",
       "      <td>5650000.0</td>\n",
       "      <td>45.0</td>\n",
       "      <td>2018-08-15</td>\n",
       "      <td>1</td>\n",
       "      <td>8.3</td>\n",
       "      <td>16</td>\n",
       "      <td>19.300000</td>\n",
       "      <td>14</td>\n",
       "      <td>True</td>\n",
       "      <td>...</td>\n",
       "      <td>0.0</td>\n",
       "      <td>1.0</td>\n",
       "      <td>613.0</td>\n",
       "      <td>14.0</td>\n",
       "      <td>125555.56</td>\n",
       "      <td>2</td>\n",
       "      <td>8</td>\n",
       "      <td>2018</td>\n",
       "      <td>другой</td>\n",
       "      <td>11.0</td>\n",
       "    </tr>\n",
       "    <tr>\n",
       "      <th>3474</th>\n",
       "      <td>3</td>\n",
       "      <td>1400000.0</td>\n",
       "      <td>30.0</td>\n",
       "      <td>2018-03-16</td>\n",
       "      <td>1</td>\n",
       "      <td>8.0</td>\n",
       "      <td>5</td>\n",
       "      <td>15.300000</td>\n",
       "      <td>2</td>\n",
       "      <td>False</td>\n",
       "      <td>...</td>\n",
       "      <td>0.0</td>\n",
       "      <td>0.0</td>\n",
       "      <td>0.0</td>\n",
       "      <td>125.0</td>\n",
       "      <td>46666.67</td>\n",
       "      <td>4</td>\n",
       "      <td>3</td>\n",
       "      <td>2018</td>\n",
       "      <td>другой</td>\n",
       "      <td>NaN</td>\n",
       "    </tr>\n",
       "    <tr>\n",
       "      <th>17442</th>\n",
       "      <td>0</td>\n",
       "      <td>5350000.0</td>\n",
       "      <td>54.0</td>\n",
       "      <td>2015-06-16</td>\n",
       "      <td>2</td>\n",
       "      <td>8.0</td>\n",
       "      <td>5</td>\n",
       "      <td>29.000000</td>\n",
       "      <td>2</td>\n",
       "      <td>True</td>\n",
       "      <td>...</td>\n",
       "      <td>0.0</td>\n",
       "      <td>0.0</td>\n",
       "      <td>0.0</td>\n",
       "      <td>469.0</td>\n",
       "      <td>99074.07</td>\n",
       "      <td>1</td>\n",
       "      <td>6</td>\n",
       "      <td>2015</td>\n",
       "      <td>другой</td>\n",
       "      <td>28.0</td>\n",
       "    </tr>\n",
       "    <tr>\n",
       "      <th>15743</th>\n",
       "      <td>14</td>\n",
       "      <td>5600000.0</td>\n",
       "      <td>67.0</td>\n",
       "      <td>2016-11-11</td>\n",
       "      <td>3</td>\n",
       "      <td>8.0</td>\n",
       "      <td>16</td>\n",
       "      <td>41.000000</td>\n",
       "      <td>1</td>\n",
       "      <td>True</td>\n",
       "      <td>...</td>\n",
       "      <td>723.0</td>\n",
       "      <td>0.0</td>\n",
       "      <td>0.0</td>\n",
       "      <td>474.0</td>\n",
       "      <td>83582.09</td>\n",
       "      <td>4</td>\n",
       "      <td>11</td>\n",
       "      <td>2016</td>\n",
       "      <td>первый</td>\n",
       "      <td>11.0</td>\n",
       "    </tr>\n",
       "    <tr>\n",
       "      <th>20264</th>\n",
       "      <td>17</td>\n",
       "      <td>119000000.0</td>\n",
       "      <td>187.6</td>\n",
       "      <td>2017-07-10</td>\n",
       "      <td>4</td>\n",
       "      <td>6.0</td>\n",
       "      <td>7</td>\n",
       "      <td>147.000000</td>\n",
       "      <td>7</td>\n",
       "      <td>True</td>\n",
       "      <td>...</td>\n",
       "      <td>484.0</td>\n",
       "      <td>1.0</td>\n",
       "      <td>305.0</td>\n",
       "      <td>259.0</td>\n",
       "      <td>634328.36</td>\n",
       "      <td>0</td>\n",
       "      <td>7</td>\n",
       "      <td>2017</td>\n",
       "      <td>последний</td>\n",
       "      <td>6.0</td>\n",
       "    </tr>\n",
       "    <tr>\n",
       "      <th>21227</th>\n",
       "      <td>0</td>\n",
       "      <td>8200000.0</td>\n",
       "      <td>71.0</td>\n",
       "      <td>2017-07-21</td>\n",
       "      <td>1</td>\n",
       "      <td>5.8</td>\n",
       "      <td>5</td>\n",
       "      <td>68.000000</td>\n",
       "      <td>5</td>\n",
       "      <td>True</td>\n",
       "      <td>...</td>\n",
       "      <td>295.0</td>\n",
       "      <td>3.0</td>\n",
       "      <td>366.0</td>\n",
       "      <td>30.0</td>\n",
       "      <td>115492.96</td>\n",
       "      <td>4</td>\n",
       "      <td>7</td>\n",
       "      <td>2017</td>\n",
       "      <td>последний</td>\n",
       "      <td>1.0</td>\n",
       "    </tr>\n",
       "    <tr>\n",
       "      <th>1388</th>\n",
       "      <td>20</td>\n",
       "      <td>59800000.0</td>\n",
       "      <td>399.0</td>\n",
       "      <td>2015-01-21</td>\n",
       "      <td>5</td>\n",
       "      <td>5.6</td>\n",
       "      <td>6</td>\n",
       "      <td>226.015823</td>\n",
       "      <td>6</td>\n",
       "      <td>True</td>\n",
       "      <td>...</td>\n",
       "      <td>149.0</td>\n",
       "      <td>2.0</td>\n",
       "      <td>577.0</td>\n",
       "      <td>719.0</td>\n",
       "      <td>149874.69</td>\n",
       "      <td>2</td>\n",
       "      <td>1</td>\n",
       "      <td>2015</td>\n",
       "      <td>последний</td>\n",
       "      <td>7.0</td>\n",
       "    </tr>\n",
       "    <tr>\n",
       "      <th>7578</th>\n",
       "      <td>17</td>\n",
       "      <td>38000000.0</td>\n",
       "      <td>143.0</td>\n",
       "      <td>2017-11-02</td>\n",
       "      <td>3</td>\n",
       "      <td>5.5</td>\n",
       "      <td>5</td>\n",
       "      <td>83.000000</td>\n",
       "      <td>5</td>\n",
       "      <td>True</td>\n",
       "      <td>...</td>\n",
       "      <td>479.0</td>\n",
       "      <td>0.0</td>\n",
       "      <td>0.0</td>\n",
       "      <td>NaN</td>\n",
       "      <td>265734.27</td>\n",
       "      <td>3</td>\n",
       "      <td>11</td>\n",
       "      <td>2017</td>\n",
       "      <td>последний</td>\n",
       "      <td>6.0</td>\n",
       "    </tr>\n",
       "  </tbody>\n",
       "</table>\n",
       "<p>10 rows × 28 columns</p>\n",
       "</div>"
      ],
      "text/plain": [
       "       total_images   last_price  total_area first_day_exposition  rooms  \\\n",
       "15061            19    5600000.0        56.4           2018-05-11      2   \n",
       "22309            20    5300000.0        45.0           2017-09-30      1   \n",
       "5863             20    5650000.0        45.0           2018-08-15      1   \n",
       "3474              3    1400000.0        30.0           2018-03-16      1   \n",
       "17442             0    5350000.0        54.0           2015-06-16      2   \n",
       "15743            14    5600000.0        67.0           2016-11-11      3   \n",
       "20264            17  119000000.0       187.6           2017-07-10      4   \n",
       "21227             0    8200000.0        71.0           2017-07-21      1   \n",
       "1388             20   59800000.0       399.0           2015-01-21      5   \n",
       "7578             17   38000000.0       143.0           2017-11-02      3   \n",
       "\n",
       "       ceiling_height  floors_total  living_area  floor  is_apartment  ...  \\\n",
       "15061            14.0            14    32.400000      5          True  ...   \n",
       "22309            10.3            16    15.500000     15          True  ...   \n",
       "5863              8.3            16    19.300000     14          True  ...   \n",
       "3474              8.0             5    15.300000      2         False  ...   \n",
       "17442             8.0             5    29.000000      2          True  ...   \n",
       "15743             8.0            16    41.000000      1          True  ...   \n",
       "20264             6.0             7   147.000000      7          True  ...   \n",
       "21227             5.8             5    68.000000      5          True  ...   \n",
       "1388              5.6             6   226.015823      6          True  ...   \n",
       "7578              5.5             5    83.000000      5          True  ...   \n",
       "\n",
       "       parks_nearest  ponds_around3000  ponds_nearest  days_exposition  \\\n",
       "15061            0.0               0.0            0.0            315.0   \n",
       "22309          440.0               2.0          450.0            136.0   \n",
       "5863             0.0               1.0          613.0             14.0   \n",
       "3474             0.0               0.0            0.0            125.0   \n",
       "17442            0.0               0.0            0.0            469.0   \n",
       "15743          723.0               0.0            0.0            474.0   \n",
       "20264          484.0               1.0          305.0            259.0   \n",
       "21227          295.0               3.0          366.0             30.0   \n",
       "1388           149.0               2.0          577.0            719.0   \n",
       "7578           479.0               0.0            0.0              NaN   \n",
       "\n",
       "      price_one_meter  weekday_exposition  month_exposition  year_exposition  \\\n",
       "15061        99290.78                   4                 5             2018   \n",
       "22309       117777.78                   5                 9             2017   \n",
       "5863        125555.56                   2                 8             2018   \n",
       "3474         46666.67                   4                 3             2018   \n",
       "17442        99074.07                   1                 6             2015   \n",
       "15743        83582.09                   4                11             2016   \n",
       "20264       634328.36                   0                 7             2017   \n",
       "21227       115492.96                   4                 7             2017   \n",
       "1388        149874.69                   2                 1             2015   \n",
       "7578        265734.27                   3                11             2017   \n",
       "\n",
       "       floor_type  city_centers_km  \n",
       "15061      другой             14.0  \n",
       "22309      другой             12.0  \n",
       "5863       другой             11.0  \n",
       "3474       другой              NaN  \n",
       "17442      другой             28.0  \n",
       "15743      первый             11.0  \n",
       "20264   последний              6.0  \n",
       "21227   последний              1.0  \n",
       "1388    последний              7.0  \n",
       "7578    последний              6.0  \n",
       "\n",
       "[10 rows x 28 columns]"
      ]
     },
     "execution_count": 53,
     "metadata": {},
     "output_type": "execute_result"
    }
   ],
   "source": [
    "for ceiling in data['ceiling_height']:\n",
    "    data.loc[(data['ceiling_height'] >= 20.0), 'ceiling_height'] = data['ceiling_height'] / 10\n",
    "\n",
    "data.sort_values(by='ceiling_height', ascending=False).head(10)"
   ]
  },
  {
   "cell_type": "code",
   "execution_count": 54,
   "metadata": {},
   "outputs": [
    {
     "data": {
      "text/plain": [
       "<AxesSubplot:>"
      ]
     },
     "execution_count": 54,
     "metadata": {},
     "output_type": "execute_result"
    },
    {
     "data": {
      "image/png": "[encoded data removed]",
      "text/plain": [
       "<Figure size 432x288 with 1 Axes>"
      ]
     },
     "metadata": {
      "needs_background": "light"
     },
     "output_type": "display_data"
    }
   ],
   "source": [
    "data['ceiling_height'].hist(bins=30, range=(2, 5))"
   ]
  },
  {
   "cell_type": "markdown",
   "metadata": {},
   "source": [
    "Большинство продаваемых квартир имели высоту потолка около 2,6 метра, что соответствует стандартам застройки. Некоторые квартиры в Санкт-Петербурге имеют достаточно высокую высоту потолков, что свойственно старому жилому фонду."
   ]
  },
  {
   "cell_type": "markdown",
   "metadata": {},
   "source": [
    "**Тип этажа.**"
   ]
  },
  {
   "cell_type": "code",
   "execution_count": 55,
   "metadata": {},
   "outputs": [
    {
     "data": {
      "text/plain": [
       "count      23562\n",
       "unique         3\n",
       "top       другой\n",
       "freq       17326\n",
       "Name: floor_type, dtype: object"
      ]
     },
     "execution_count": 55,
     "metadata": {},
     "output_type": "execute_result"
    }
   ],
   "source": [
    "data['floor_type'].describe()"
   ]
  },
  {
   "cell_type": "code",
   "execution_count": 56,
   "metadata": {},
   "outputs": [
    {
     "data": {
      "text/plain": [
       "<AxesSubplot:>"
      ]
     },
     "execution_count": 56,
     "metadata": {},
     "output_type": "execute_result"
    },
    {
     "data": {
      "image/png": "[encoded data removed]",
      "text/plain": [
       "<Figure size 432x288 with 1 Axes>"
      ]
     },
     "metadata": {
      "needs_background": "light"
     },
     "output_type": "display_data"
    }
   ],
   "source": [
    "data['floor_type'].hist()"
   ]
  },
  {
   "cell_type": "markdown",
   "metadata": {},
   "source": [
    "Большинство квартир продается на средних этажах, поскольку основная городская застройка имеет многоэтажность, поэтому вероятность покупки квартиры на средних этажах намного выше."
   ]
  },
  {
   "cell_type": "markdown",
   "metadata": {},
   "source": [
    "**Количество этажей в доме.**"
   ]
  },
  {
   "cell_type": "code",
   "execution_count": 57,
   "metadata": {},
   "outputs": [
    {
     "data": {
      "text/plain": [
       "count    23562.000000\n",
       "mean        10.674900\n",
       "std          6.593819\n",
       "min          1.000000\n",
       "25%          5.000000\n",
       "50%          9.000000\n",
       "75%         16.000000\n",
       "max         60.000000\n",
       "Name: floors_total, dtype: float64"
      ]
     },
     "execution_count": 57,
     "metadata": {},
     "output_type": "execute_result"
    }
   ],
   "source": [
    "data['floors_total'].describe()"
   ]
  },
  {
   "cell_type": "markdown",
   "metadata": {},
   "source": [
    "Удалим дома этажностью выше 50. Не исключено, что такие здания имеются, это может быть верная информация, но такие данные могут влиять на исследование, поэтому удалим их из данных."
   ]
  },
  {
   "cell_type": "code",
   "execution_count": 58,
   "metadata": {},
   "outputs": [
    {
     "data": {
      "text/plain": [
       "<AxesSubplot:>"
      ]
     },
     "execution_count": 58,
     "metadata": {},
     "output_type": "execute_result"
    },
    {
     "data": {
      "image/png": "[encoded data removed]",
      "text/plain": [
       "<Figure size 432x288 with 1 Axes>"
      ]
     },
     "metadata": {
      "needs_background": "light"
     },
     "output_type": "display_data"
    }
   ],
   "source": [
    "data = data.query('floors_total < 50')\n",
    "data['floors_total'].hist(bins=30, range=(1, 40))"
   ]
  },
  {
   "cell_type": "code",
   "execution_count": 59,
   "metadata": {},
   "outputs": [
    {
     "data": {
      "text/html": [
       "<div>\n",
       "<style scoped>\n",
       "    .dataframe tbody tr th:only-of-type {\n",
       "        vertical-align: middle;\n",
       "    }\n",
       "\n",
       "    .dataframe tbody tr th {\n",
       "        vertical-align: top;\n",
       "    }\n",
       "\n",
       "    .dataframe thead th {\n",
       "        text-align: right;\n",
       "    }\n",
       "</style>\n",
       "<table border=\"1\" class=\"dataframe\">\n",
       "  <thead>\n",
       "    <tr style=\"text-align: right;\">\n",
       "      <th></th>\n",
       "      <th>total_images</th>\n",
       "      <th>last_price</th>\n",
       "      <th>total_area</th>\n",
       "      <th>first_day_exposition</th>\n",
       "      <th>rooms</th>\n",
       "      <th>ceiling_height</th>\n",
       "      <th>floors_total</th>\n",
       "      <th>living_area</th>\n",
       "      <th>floor</th>\n",
       "      <th>is_apartment</th>\n",
       "      <th>...</th>\n",
       "      <th>parks_nearest</th>\n",
       "      <th>ponds_around3000</th>\n",
       "      <th>ponds_nearest</th>\n",
       "      <th>days_exposition</th>\n",
       "      <th>price_one_meter</th>\n",
       "      <th>weekday_exposition</th>\n",
       "      <th>month_exposition</th>\n",
       "      <th>year_exposition</th>\n",
       "      <th>floor_type</th>\n",
       "      <th>city_centers_km</th>\n",
       "    </tr>\n",
       "  </thead>\n",
       "  <tbody>\n",
       "    <tr>\n",
       "      <th>16934</th>\n",
       "      <td>5</td>\n",
       "      <td>4100000.0</td>\n",
       "      <td>40.0</td>\n",
       "      <td>2017-10-17</td>\n",
       "      <td>1</td>\n",
       "      <td>1.75</td>\n",
       "      <td>37</td>\n",
       "      <td>17.4</td>\n",
       "      <td>5</td>\n",
       "      <td>True</td>\n",
       "      <td>...</td>\n",
       "      <td>0.0</td>\n",
       "      <td>3.0</td>\n",
       "      <td>80.0</td>\n",
       "      <td>71.0</td>\n",
       "      <td>102500.00</td>\n",
       "      <td>1</td>\n",
       "      <td>10</td>\n",
       "      <td>2017</td>\n",
       "      <td>другой</td>\n",
       "      <td>20.0</td>\n",
       "    </tr>\n",
       "    <tr>\n",
       "      <th>11079</th>\n",
       "      <td>16</td>\n",
       "      <td>9200000.0</td>\n",
       "      <td>75.0</td>\n",
       "      <td>2019-02-22</td>\n",
       "      <td>2</td>\n",
       "      <td>2.70</td>\n",
       "      <td>36</td>\n",
       "      <td>40.0</td>\n",
       "      <td>29</td>\n",
       "      <td>True</td>\n",
       "      <td>...</td>\n",
       "      <td>0.0</td>\n",
       "      <td>3.0</td>\n",
       "      <td>80.0</td>\n",
       "      <td>NaN</td>\n",
       "      <td>122666.67</td>\n",
       "      <td>4</td>\n",
       "      <td>2</td>\n",
       "      <td>2019</td>\n",
       "      <td>другой</td>\n",
       "      <td>20.0</td>\n",
       "    </tr>\n",
       "    <tr>\n",
       "      <th>397</th>\n",
       "      <td>15</td>\n",
       "      <td>5990000.0</td>\n",
       "      <td>54.0</td>\n",
       "      <td>2018-03-22</td>\n",
       "      <td>2</td>\n",
       "      <td>2.60</td>\n",
       "      <td>36</td>\n",
       "      <td>21.4</td>\n",
       "      <td>28</td>\n",
       "      <td>True</td>\n",
       "      <td>...</td>\n",
       "      <td>0.0</td>\n",
       "      <td>3.0</td>\n",
       "      <td>80.0</td>\n",
       "      <td>11.0</td>\n",
       "      <td>110925.93</td>\n",
       "      <td>3</td>\n",
       "      <td>3</td>\n",
       "      <td>2018</td>\n",
       "      <td>другой</td>\n",
       "      <td>20.0</td>\n",
       "    </tr>\n",
       "    <tr>\n",
       "      <th>5807</th>\n",
       "      <td>17</td>\n",
       "      <td>8150000.0</td>\n",
       "      <td>80.0</td>\n",
       "      <td>2019-01-09</td>\n",
       "      <td>2</td>\n",
       "      <td>2.70</td>\n",
       "      <td>36</td>\n",
       "      <td>41.0</td>\n",
       "      <td>13</td>\n",
       "      <td>True</td>\n",
       "      <td>...</td>\n",
       "      <td>0.0</td>\n",
       "      <td>3.0</td>\n",
       "      <td>80.0</td>\n",
       "      <td>38.0</td>\n",
       "      <td>101875.00</td>\n",
       "      <td>2</td>\n",
       "      <td>1</td>\n",
       "      <td>2019</td>\n",
       "      <td>другой</td>\n",
       "      <td>20.0</td>\n",
       "    </tr>\n",
       "    <tr>\n",
       "      <th>20938</th>\n",
       "      <td>18</td>\n",
       "      <td>9900000.0</td>\n",
       "      <td>100.9</td>\n",
       "      <td>2019-04-08</td>\n",
       "      <td>3</td>\n",
       "      <td>2.60</td>\n",
       "      <td>35</td>\n",
       "      <td>53.4</td>\n",
       "      <td>22</td>\n",
       "      <td>True</td>\n",
       "      <td>...</td>\n",
       "      <td>0.0</td>\n",
       "      <td>3.0</td>\n",
       "      <td>80.0</td>\n",
       "      <td>NaN</td>\n",
       "      <td>98116.95</td>\n",
       "      <td>0</td>\n",
       "      <td>4</td>\n",
       "      <td>2019</td>\n",
       "      <td>другой</td>\n",
       "      <td>20.0</td>\n",
       "    </tr>\n",
       "    <tr>\n",
       "      <th>13975</th>\n",
       "      <td>19</td>\n",
       "      <td>6990000.0</td>\n",
       "      <td>65.0</td>\n",
       "      <td>2018-10-06</td>\n",
       "      <td>2</td>\n",
       "      <td>2.60</td>\n",
       "      <td>35</td>\n",
       "      <td>32.1</td>\n",
       "      <td>23</td>\n",
       "      <td>True</td>\n",
       "      <td>...</td>\n",
       "      <td>0.0</td>\n",
       "      <td>3.0</td>\n",
       "      <td>80.0</td>\n",
       "      <td>89.0</td>\n",
       "      <td>107538.46</td>\n",
       "      <td>5</td>\n",
       "      <td>10</td>\n",
       "      <td>2018</td>\n",
       "      <td>другой</td>\n",
       "      <td>20.0</td>\n",
       "    </tr>\n",
       "    <tr>\n",
       "      <th>8496</th>\n",
       "      <td>20</td>\n",
       "      <td>7500000.0</td>\n",
       "      <td>73.3</td>\n",
       "      <td>2017-05-18</td>\n",
       "      <td>3</td>\n",
       "      <td>2.60</td>\n",
       "      <td>35</td>\n",
       "      <td>28.0</td>\n",
       "      <td>27</td>\n",
       "      <td>True</td>\n",
       "      <td>...</td>\n",
       "      <td>0.0</td>\n",
       "      <td>3.0</td>\n",
       "      <td>80.0</td>\n",
       "      <td>250.0</td>\n",
       "      <td>102319.24</td>\n",
       "      <td>3</td>\n",
       "      <td>5</td>\n",
       "      <td>2017</td>\n",
       "      <td>другой</td>\n",
       "      <td>20.0</td>\n",
       "    </tr>\n",
       "    <tr>\n",
       "      <th>22946</th>\n",
       "      <td>14</td>\n",
       "      <td>7690000.0</td>\n",
       "      <td>75.0</td>\n",
       "      <td>2018-03-27</td>\n",
       "      <td>2</td>\n",
       "      <td>2.60</td>\n",
       "      <td>35</td>\n",
       "      <td>40.0</td>\n",
       "      <td>8</td>\n",
       "      <td>True</td>\n",
       "      <td>...</td>\n",
       "      <td>0.0</td>\n",
       "      <td>3.0</td>\n",
       "      <td>80.0</td>\n",
       "      <td>NaN</td>\n",
       "      <td>102533.33</td>\n",
       "      <td>1</td>\n",
       "      <td>3</td>\n",
       "      <td>2018</td>\n",
       "      <td>другой</td>\n",
       "      <td>20.0</td>\n",
       "    </tr>\n",
       "    <tr>\n",
       "      <th>1060</th>\n",
       "      <td>10</td>\n",
       "      <td>5200000.0</td>\n",
       "      <td>50.0</td>\n",
       "      <td>2015-11-06</td>\n",
       "      <td>2</td>\n",
       "      <td>2.60</td>\n",
       "      <td>35</td>\n",
       "      <td>39.0</td>\n",
       "      <td>15</td>\n",
       "      <td>False</td>\n",
       "      <td>...</td>\n",
       "      <td>0.0</td>\n",
       "      <td>3.0</td>\n",
       "      <td>80.0</td>\n",
       "      <td>281.0</td>\n",
       "      <td>104000.00</td>\n",
       "      <td>4</td>\n",
       "      <td>11</td>\n",
       "      <td>2015</td>\n",
       "      <td>другой</td>\n",
       "      <td>20.0</td>\n",
       "    </tr>\n",
       "    <tr>\n",
       "      <th>14347</th>\n",
       "      <td>14</td>\n",
       "      <td>8595000.0</td>\n",
       "      <td>69.7</td>\n",
       "      <td>2018-09-26</td>\n",
       "      <td>2</td>\n",
       "      <td>2.60</td>\n",
       "      <td>35</td>\n",
       "      <td>27.4</td>\n",
       "      <td>26</td>\n",
       "      <td>True</td>\n",
       "      <td>...</td>\n",
       "      <td>0.0</td>\n",
       "      <td>3.0</td>\n",
       "      <td>80.0</td>\n",
       "      <td>NaN</td>\n",
       "      <td>123314.20</td>\n",
       "      <td>2</td>\n",
       "      <td>9</td>\n",
       "      <td>2018</td>\n",
       "      <td>другой</td>\n",
       "      <td>20.0</td>\n",
       "    </tr>\n",
       "  </tbody>\n",
       "</table>\n",
       "<p>10 rows × 28 columns</p>\n",
       "</div>"
      ],
      "text/plain": [
       "       total_images  last_price  total_area first_day_exposition  rooms  \\\n",
       "16934             5   4100000.0        40.0           2017-10-17      1   \n",
       "11079            16   9200000.0        75.0           2019-02-22      2   \n",
       "397              15   5990000.0        54.0           2018-03-22      2   \n",
       "5807             17   8150000.0        80.0           2019-01-09      2   \n",
       "20938            18   9900000.0       100.9           2019-04-08      3   \n",
       "13975            19   6990000.0        65.0           2018-10-06      2   \n",
       "8496             20   7500000.0        73.3           2017-05-18      3   \n",
       "22946            14   7690000.0        75.0           2018-03-27      2   \n",
       "1060             10   5200000.0        50.0           2015-11-06      2   \n",
       "14347            14   8595000.0        69.7           2018-09-26      2   \n",
       "\n",
       "       ceiling_height  floors_total  living_area  floor  is_apartment  ...  \\\n",
       "16934            1.75            37         17.4      5          True  ...   \n",
       "11079            2.70            36         40.0     29          True  ...   \n",
       "397              2.60            36         21.4     28          True  ...   \n",
       "5807             2.70            36         41.0     13          True  ...   \n",
       "20938            2.60            35         53.4     22          True  ...   \n",
       "13975            2.60            35         32.1     23          True  ...   \n",
       "8496             2.60            35         28.0     27          True  ...   \n",
       "22946            2.60            35         40.0      8          True  ...   \n",
       "1060             2.60            35         39.0     15         False  ...   \n",
       "14347            2.60            35         27.4     26          True  ...   \n",
       "\n",
       "       parks_nearest  ponds_around3000  ponds_nearest  days_exposition  \\\n",
       "16934            0.0               3.0           80.0             71.0   \n",
       "11079            0.0               3.0           80.0              NaN   \n",
       "397              0.0               3.0           80.0             11.0   \n",
       "5807             0.0               3.0           80.0             38.0   \n",
       "20938            0.0               3.0           80.0              NaN   \n",
       "13975            0.0               3.0           80.0             89.0   \n",
       "8496             0.0               3.0           80.0            250.0   \n",
       "22946            0.0               3.0           80.0              NaN   \n",
       "1060             0.0               3.0           80.0            281.0   \n",
       "14347            0.0               3.0           80.0              NaN   \n",
       "\n",
       "      price_one_meter  weekday_exposition  month_exposition  year_exposition  \\\n",
       "16934       102500.00                   1                10             2017   \n",
       "11079       122666.67                   4                 2             2019   \n",
       "397         110925.93                   3                 3             2018   \n",
       "5807        101875.00                   2                 1             2019   \n",
       "20938        98116.95                   0                 4             2019   \n",
       "13975       107538.46                   5                10             2018   \n",
       "8496        102319.24                   3                 5             2017   \n",
       "22946       102533.33                   1                 3             2018   \n",
       "1060        104000.00                   4                11             2015   \n",
       "14347       123314.20                   2                 9             2018   \n",
       "\n",
       "       floor_type  city_centers_km  \n",
       "16934      другой             20.0  \n",
       "11079      другой             20.0  \n",
       "397        другой             20.0  \n",
       "5807       другой             20.0  \n",
       "20938      другой             20.0  \n",
       "13975      другой             20.0  \n",
       "8496       другой             20.0  \n",
       "22946      другой             20.0  \n",
       "1060       другой             20.0  \n",
       "14347      другой             20.0  \n",
       "\n",
       "[10 rows x 28 columns]"
      ]
     },
     "execution_count": 59,
     "metadata": {},
     "output_type": "execute_result"
    }
   ],
   "source": [
    "data.sort_values(by='floors_total', ascending=False).head(10)"
   ]
  },
  {
   "cell_type": "markdown",
   "metadata": {},
   "source": [
    "Гистограмма по данному показателю имеет два явных пика. Один из них соответствует 5 этажам, второй соответствует 9 этажам. Это говорит о том, что в Санкт-Петербурге и окрестностях имеется два типа домов: старый жилой фонд с этажностью около 5 и современный жилой фонд, включеющий в том числе панельные дома, имеющий в среднем 9 этажей.\n",
    "\n",
    "Стоит отметить, что так же в городе имеются современные высотки в 35 этажей."
   ]
  },
  {
   "cell_type": "markdown",
   "metadata": {},
   "source": [
    "**Расстояние до центра города в метрах.**"
   ]
  },
  {
   "cell_type": "code",
   "execution_count": 60,
   "metadata": {},
   "outputs": [
    {
     "data": {
      "text/plain": [
       "count    18122.000000\n",
       "mean     14238.615416\n",
       "std       8641.524172\n",
       "min        181.000000\n",
       "25%       9265.000000\n",
       "50%      13123.000000\n",
       "75%      16324.250000\n",
       "max      65968.000000\n",
       "Name: city_centers_nearest, dtype: float64"
      ]
     },
     "execution_count": 60,
     "metadata": {},
     "output_type": "execute_result"
    }
   ],
   "source": [
    "data['city_centers_nearest'].describe()"
   ]
  },
  {
   "cell_type": "code",
   "execution_count": 61,
   "metadata": {},
   "outputs": [
    {
     "data": {
      "text/plain": [
       "<AxesSubplot:>"
      ]
     },
     "execution_count": 61,
     "metadata": {},
     "output_type": "execute_result"
    },
    {
     "data": {
      "image/png": "[encoded data removed]",
      "text/plain": [
       "<Figure size 432x288 with 1 Axes>"
      ]
     },
     "metadata": {
      "needs_background": "light"
     },
     "output_type": "display_data"
    }
   ],
   "source": [
    "data['city_centers_nearest'].hist(bins=30, range=(180, 60000))"
   ]
  },
  {
   "cell_type": "markdown",
   "metadata": {},
   "source": [
    "Максимальное количество продаваемых объектов недвижимости находится в 15 км от центра города. Учитывая, что самыми популярными квартирами являются квартиры меньшей площади и стоимости, то подобная удаленность может быть этим объяснена.\n",
    "\n",
    "Стоит отметить имеющийся пик в удаленности 5 км от центра города. Действительно, недалеко от центра города в Санкт-Петербурге продается значительное количество комнат в коммунальных квартирах, не имеющих большой стоимости и соответствующих средней площади продаваемых квартир.\n",
    "\n",
    "Максимально удаленный объект недвижимости был удален от центра города на 66 км, но выборке имеются в том числе поселки, поэтому данный показатель не является ошибкой."
   ]
  },
  {
   "cell_type": "markdown",
   "metadata": {},
   "source": [
    "**Расстояние до ближайшего парка.**"
   ]
  },
  {
   "cell_type": "code",
   "execution_count": 62,
   "metadata": {},
   "outputs": [
    {
     "data": {
      "text/plain": [
       "count    23560.000000\n",
       "mean       167.113667\n",
       "std        306.274529\n",
       "min          0.000000\n",
       "25%          0.000000\n",
       "50%          0.000000\n",
       "75%        301.000000\n",
       "max       3190.000000\n",
       "Name: parks_nearest, dtype: float64"
      ]
     },
     "execution_count": 62,
     "metadata": {},
     "output_type": "execute_result"
    }
   ],
   "source": [
    "data['parks_nearest'].describe()"
   ]
  },
  {
   "cell_type": "markdown",
   "metadata": {},
   "source": [
    "Ранее в данных о наличии парков и прудов рядом с объектами недвижимости, все пропуски были заполнены нулями. Данное заполнение повлияло на данные о расположении парков. Поэтому для проведения данного анализа не будем учитывать строки, где удаленность парков равна 0. "
   ]
  },
  {
   "cell_type": "code",
   "execution_count": 63,
   "metadata": {},
   "outputs": [
    {
     "name": "stdout",
     "output_type": "stream",
     "text": [
      "count    8026.000000\n",
      "mean      490.555445\n",
      "std       341.606278\n",
      "min         1.000000\n",
      "25%       288.000000\n",
      "50%       455.000000\n",
      "75%       612.000000\n",
      "max      3190.000000\n",
      "Name: parks_nearest, dtype: float64\n"
     ]
    },
    {
     "data": {
      "text/plain": [
       "<AxesSubplot:>"
      ]
     },
     "execution_count": 63,
     "metadata": {},
     "output_type": "execute_result"
    },
    {
     "data": {
      "image/png": "[encoded data removed]",
      "text/plain": [
       "<Figure size 432x288 with 1 Axes>"
      ]
     },
     "metadata": {
      "needs_background": "light"
     },
     "output_type": "display_data"
    }
   ],
   "source": [
    "data_parks = data.query('parks_nearest > 0')\n",
    "print(data_parks['parks_nearest'].describe())\n",
    "data_parks['parks_nearest'].hist(bins=30, range=(301, 2500))"
   ]
  },
  {
   "cell_type": "markdown",
   "metadata": {},
   "source": [
    "В большинстве случаев объекты недвижимости в Санкт-Петербурге не имеют парка в радиусе 3км.\n",
    "\n",
    "Для тех домов, где парк имеется рядом, его удаленность составляет в среднем 500 метров. "
   ]
  },
  {
   "cell_type": "markdown",
   "metadata": {},
   "source": [
    "**Скорость продажи квартир.**"
   ]
  },
  {
   "cell_type": "code",
   "execution_count": 64,
   "metadata": {},
   "outputs": [
    {
     "data": {
      "text/plain": [
       "<AxesSubplot:>"
      ]
     },
     "execution_count": 64,
     "metadata": {},
     "output_type": "execute_result"
    },
    {
     "data": {
      "image/png": "[encoded data removed]",
      "text/plain": [
       "<Figure size 432x288 with 1 Axes>"
      ]
     },
     "metadata": {
      "needs_background": "light"
     },
     "output_type": "display_data"
    }
   ],
   "source": [
    "data['days_exposition'].hist(bins=100, range=(0, 1000))"
   ]
  },
  {
   "cell_type": "markdown",
   "metadata": {},
   "source": [
    "Удилим часть квартир, которая продавалась 0 дней."
   ]
  },
  {
   "cell_type": "code",
   "execution_count": 65,
   "metadata": {},
   "outputs": [],
   "source": [
    "data_exposition = data.query('days_exposition >= 1')"
   ]
  },
  {
   "cell_type": "markdown",
   "metadata": {},
   "source": [
    "В соответствии с полученной гостограммой, чеще всего квартиры продаются до 100 дней. Но так же есть объекты, которые были проданы очень быстро, а так же продавались очень долго, определим пограничные значения для классификации скорости продажи квартиры при помощи межквартильного размаха. \n",
    "\n",
    "Но так же есть объекты, которые были проданы очень быстро, а так же продавались очень долго, определим их количество. Для этого сократим выборку, убрав объекты, которые продавались 0 дней или более 1000 дней (2,76 года)"
   ]
  },
  {
   "cell_type": "code",
   "execution_count": 66,
   "metadata": {},
   "outputs": [
    {
     "data": {
      "text/plain": [
       "count    20389.000000\n",
       "mean       180.768846\n",
       "std        219.750769\n",
       "min          1.000000\n",
       "25%         45.000000\n",
       "50%         95.000000\n",
       "75%        231.000000\n",
       "max       1580.000000\n",
       "Name: days_exposition, dtype: float64"
      ]
     },
     "execution_count": 66,
     "metadata": {},
     "output_type": "execute_result"
    }
   ],
   "source": [
    "data['days_exposition'].describe()"
   ]
  },
  {
   "cell_type": "markdown",
   "metadata": {},
   "source": [
    "В соответствии с полученными значениями, продажи, которые произошли быстрее 45 дней, можно считать быстрыми, а продажи дольше 231 дня - долгими. Количество таких продаж и их доля в имеющемся массиве данных:"
   ]
  },
  {
   "cell_type": "code",
   "execution_count": 67,
   "metadata": {},
   "outputs": [
    {
     "name": "stdout",
     "output_type": "stream",
     "text": [
      "Количество быстрых продаж: 5069\n",
      "Доля быстрых продаж: 24.86%\n"
     ]
    }
   ],
   "source": [
    "print ('Количество быстрых продаж:', len(data_exposition.query('days_exposition <= 45')))\n",
    "\n",
    "print ('Доля быстрых продаж: {:.2%}'.format(len(data_exposition.query('days_exposition <= 45'))/len(data_exposition)))"
   ]
  },
  {
   "cell_type": "code",
   "execution_count": 68,
   "metadata": {},
   "outputs": [
    {
     "name": "stdout",
     "output_type": "stream",
     "text": [
      "Количество долгих продаж: 5094\n",
      "Доля долгих продаж: 24.98%\n"
     ]
    }
   ],
   "source": [
    "print ('Количество долгих продаж:', len(data_exposition.query('days_exposition > 231')))\n",
    "\n",
    "print ('Доля долгих продаж: {:.2%}'.format(len(data_exposition.query('days_exposition > 231'))/len(data_exposition)))"
   ]
  },
  {
   "cell_type": "markdown",
   "metadata": {},
   "source": [
    "Расчет совпадает с определенными ранее квартилями.\n",
    "\n",
    "Определим среднее и медианное значение скорости продаж для всего массива данных:"
   ]
  },
  {
   "cell_type": "code",
   "execution_count": 69,
   "metadata": {},
   "outputs": [
    {
     "data": {
      "text/plain": [
       "180.76884594634362"
      ]
     },
     "execution_count": 69,
     "metadata": {},
     "output_type": "execute_result"
    }
   ],
   "source": [
    "data_exposition['days_exposition'].mean()"
   ]
  },
  {
   "cell_type": "code",
   "execution_count": 70,
   "metadata": {},
   "outputs": [
    {
     "data": {
      "text/plain": [
       "95.0"
      ]
     },
     "execution_count": 70,
     "metadata": {},
     "output_type": "execute_result"
    }
   ],
   "source": [
    "data_exposition['days_exposition'].median()"
   ]
  },
  {
   "cell_type": "markdown",
   "metadata": {},
   "source": [
    "Определим среднее и медианное значение скорости продаж для массива данных без учета долгих и быстрых продаж:"
   ]
  },
  {
   "cell_type": "code",
   "execution_count": 71,
   "metadata": {
    "scrolled": true
   },
   "outputs": [
    {
     "data": {
      "text/plain": [
       "107.8764210113681"
      ]
     },
     "execution_count": 71,
     "metadata": {},
     "output_type": "execute_result"
    }
   ],
   "source": [
    "data_exposition.query('days_exposition > 45 and days_exposition < 231')['days_exposition'].mean()"
   ]
  },
  {
   "cell_type": "code",
   "execution_count": 72,
   "metadata": {},
   "outputs": [
    {
     "data": {
      "text/plain": [
       "95.0"
      ]
     },
     "execution_count": 72,
     "metadata": {},
     "output_type": "execute_result"
    }
   ],
   "source": [
    "data_exposition.query('days_exposition > 45 and days_exposition < 231')['days_exposition'].median()"
   ]
  },
  {
   "cell_type": "markdown",
   "metadata": {},
   "source": [
    "Медианное значение показало, что продажа квартиры в среднем занимала 95, данное значение соответствует как для всего массива данных, так и для выборки без учета быстрых и долгих продаж. \n",
    "Среднее значение данного показателя показало значительную зависимость от аномальных значений. Так при сокращении выборки путем удаления очень быстрых продаж и очень долгих продаж, данное значение изменилось значительно со 180,8 дней до 107."
   ]
  },
  {
   "cell_type": "markdown",
   "metadata": {},
   "source": [
    "**Определим факторы, которые максимально влияют на стоимость объекта**"
   ]
  },
  {
   "cell_type": "code",
   "execution_count": 73,
   "metadata": {},
   "outputs": [
    {
     "data": {
      "text/plain": [
       "0.6431499771449899"
      ]
     },
     "execution_count": 73,
     "metadata": {},
     "output_type": "execute_result"
    }
   ],
   "source": [
    "# Зависимость цены от общей площади квартиры\n",
    "data['last_price'].corr(data['total_area'])"
   ]
  },
  {
   "cell_type": "code",
   "execution_count": 74,
   "metadata": {},
   "outputs": [
    {
     "data": {
      "text/plain": [
       "<AxesSubplot:xlabel='total_area', ylabel='last_price'>"
      ]
     },
     "execution_count": 74,
     "metadata": {},
     "output_type": "execute_result"
    },
    {
     "data": {
      "image/png": "[encoded data removed]",
      "text/plain": [
       "<Figure size 432x288 with 1 Axes>"
      ]
     },
     "metadata": {
      "needs_background": "light"
     },
     "output_type": "display_data"
    }
   ],
   "source": [
    "data.plot(x='total_area', y='last_price', kind='scatter', ylim=(0 ,5*10**7), xlim=(0, 450), alpha=0.3, grid=True)"
   ]
  },
  {
   "cell_type": "code",
   "execution_count": 75,
   "metadata": {},
   "outputs": [
    {
     "data": {
      "text/plain": [
       "0.5799643684515986"
      ]
     },
     "execution_count": 75,
     "metadata": {},
     "output_type": "execute_result"
    }
   ],
   "source": [
    "# Зависимость цены от жилой площади квартиры\n",
    "data['last_price'].corr(data['living_area'])"
   ]
  },
  {
   "cell_type": "code",
   "execution_count": 76,
   "metadata": {},
   "outputs": [
    {
     "data": {
      "text/plain": [
       "<AxesSubplot:xlabel='living_area', ylabel='last_price'>"
      ]
     },
     "execution_count": 76,
     "metadata": {},
     "output_type": "execute_result"
    },
    {
     "data": {
      "image/png": "[encoded data removed]",
      "text/plain": [
       "<Figure size 432x288 with 1 Axes>"
      ]
     },
     "metadata": {
      "needs_background": "light"
     },
     "output_type": "display_data"
    }
   ],
   "source": [
    "data.plot(x='living_area', y='last_price', kind='scatter', ylim=(0 ,5*10**7), xlim=(0, 300), alpha=0.3, grid=True)"
   ]
  },
  {
   "cell_type": "code",
   "execution_count": 77,
   "metadata": {},
   "outputs": [
    {
     "data": {
      "text/plain": [
       "0.505641343020175"
      ]
     },
     "execution_count": 77,
     "metadata": {},
     "output_type": "execute_result"
    }
   ],
   "source": [
    "# Зависимость цены от площади кухни в квартире\n",
    "data['last_price'].corr(data['kitchen_area'])"
   ]
  },
  {
   "cell_type": "code",
   "execution_count": 78,
   "metadata": {},
   "outputs": [
    {
     "data": {
      "text/plain": [
       "<AxesSubplot:xlabel='kitchen_area', ylabel='last_price'>"
      ]
     },
     "execution_count": 78,
     "metadata": {},
     "output_type": "execute_result"
    },
    {
     "data": {
      "image/png": "[encoded data removed]",
      "text/plain": [
       "<Figure size 432x288 with 1 Axes>"
      ]
     },
     "metadata": {
      "needs_background": "light"
     },
     "output_type": "display_data"
    }
   ],
   "source": [
    "data.plot(x='kitchen_area', y='last_price', kind='scatter', ylim=(0 ,5*10**7), xlim=(0, 80), alpha=0.3, grid=True)"
   ]
  },
  {
   "cell_type": "code",
   "execution_count": 79,
   "metadata": {},
   "outputs": [
    {
     "data": {
      "text/plain": [
       "0.36197823930119616"
      ]
     },
     "execution_count": 79,
     "metadata": {},
     "output_type": "execute_result"
    }
   ],
   "source": [
    "# Зависимость цены от количества комнат\n",
    "data['last_price'].corr(data['rooms'])"
   ]
  },
  {
   "cell_type": "code",
   "execution_count": 80,
   "metadata": {},
   "outputs": [
    {
     "data": {
      "text/plain": [
       "array([ 1,  2,  3,  4,  5,  6,  7,  8,  9, 10, 11, 14, 15, 16, 19])"
      ]
     },
     "execution_count": 80,
     "metadata": {},
     "output_type": "execute_result"
    }
   ],
   "source": [
    "data['rooms'].sort_values().unique()"
   ]
  },
  {
   "cell_type": "code",
   "execution_count": 81,
   "metadata": {},
   "outputs": [
    {
     "data": {
      "text/plain": [
       "<AxesSubplot:xlabel='rooms'>"
      ]
     },
     "execution_count": 81,
     "metadata": {},
     "output_type": "execute_result"
    },
    {
     "data": {
      "image/png": "[encoded data removed]",
      "text/plain": [
       "<Figure size 432x288 with 1 Axes>"
      ]
     },
     "metadata": {
      "needs_background": "light"
     },
     "output_type": "display_data"
    }
   ],
   "source": [
    "(data.\n",
    " pivot_table(index='rooms', values='last_price', aggfunc='median').\n",
    " plot(style='o-', xlim=(0, 14), grid=True)\n",
    ")"
   ]
  },
  {
   "cell_type": "code",
   "execution_count": 82,
   "metadata": {},
   "outputs": [
    {
     "data": {
      "text/plain": [
       "<AxesSubplot:xlabel='floor_type'>"
      ]
     },
     "execution_count": 82,
     "metadata": {},
     "output_type": "execute_result"
    },
    {
     "data": {
      "image/png": "[encoded data removed]",
      "text/plain": [
       "<Figure size 432x288 with 1 Axes>"
      ]
     },
     "metadata": {
      "needs_background": "light"
     },
     "output_type": "display_data"
    }
   ],
   "source": [
    "# Зависимость цены от этажа\n",
    "(data.\n",
    " pivot_table(index='floor_type', values='last_price', aggfunc='median').\n",
    " plot(style='-', grid=True)\n",
    ")"
   ]
  },
  {
   "cell_type": "code",
   "execution_count": 83,
   "metadata": {},
   "outputs": [
    {
     "data": {
      "text/plain": [
       "0.0019174191017565423"
      ]
     },
     "execution_count": 83,
     "metadata": {},
     "output_type": "execute_result"
    }
   ],
   "source": [
    "# Зависимость цены от дня, когда было выставлено объявление\n",
    "data['last_price'].corr(data['weekday_exposition'])"
   ]
  },
  {
   "cell_type": "code",
   "execution_count": 84,
   "metadata": {},
   "outputs": [
    {
     "data": {
      "text/plain": [
       "<AxesSubplot:xlabel='weekday_exposition'>"
      ]
     },
     "execution_count": 84,
     "metadata": {},
     "output_type": "execute_result"
    },
    {
     "data": {
      "image/png": "[encoded data removed]",
      "text/plain": [
       "<Figure size 432x288 with 1 Axes>"
      ]
     },
     "metadata": {
      "needs_background": "light"
     },
     "output_type": "display_data"
    }
   ],
   "source": [
    "(data.\n",
    " pivot_table(index='weekday_exposition', values='last_price', aggfunc='median').\n",
    " plot(style='o-', grid=True)\n",
    ")"
   ]
  },
  {
   "cell_type": "code",
   "execution_count": 85,
   "metadata": {},
   "outputs": [
    {
     "data": {
      "text/plain": [
       "0.00012817842259378774"
      ]
     },
     "execution_count": 85,
     "metadata": {},
     "output_type": "execute_result"
    }
   ],
   "source": [
    "# Зависимость цены от месяца, когда было выставлено объявление\n",
    "data['last_price'].corr(data['month_exposition'])"
   ]
  },
  {
   "cell_type": "code",
   "execution_count": 86,
   "metadata": {},
   "outputs": [
    {
     "data": {
      "text/plain": [
       "<AxesSubplot:xlabel='month_exposition'>"
      ]
     },
     "execution_count": 86,
     "metadata": {},
     "output_type": "execute_result"
    },
    {
     "data": {
      "image/png": "[encoded data removed]",
      "text/plain": [
       "<Figure size 432x288 with 1 Axes>"
      ]
     },
     "metadata": {
      "needs_background": "light"
     },
     "output_type": "display_data"
    }
   ],
   "source": [
    "(data.\n",
    " pivot_table(index='month_exposition', values='last_price', aggfunc='median').\n",
    " plot(style='o-', grid=True)\n",
    ")"
   ]
  },
  {
   "cell_type": "code",
   "execution_count": 87,
   "metadata": {},
   "outputs": [
    {
     "data": {
      "text/plain": [
       "-0.04361088172603296"
      ]
     },
     "execution_count": 87,
     "metadata": {},
     "output_type": "execute_result"
    }
   ],
   "source": [
    "# Зависимость цены от года, когда было выставлено объявление\n",
    "data['last_price'].corr(data['year_exposition'])"
   ]
  },
  {
   "cell_type": "code",
   "execution_count": 88,
   "metadata": {},
   "outputs": [
    {
     "data": {
      "text/plain": [
       "<AxesSubplot:xlabel='year_exposition'>"
      ]
     },
     "execution_count": 88,
     "metadata": {},
     "output_type": "execute_result"
    },
    {
     "data": {
      "image/png": "[encoded data removed]",
      "text/plain": [
       "<Figure size 432x288 with 1 Axes>"
      ]
     },
     "metadata": {
      "needs_background": "light"
     },
     "output_type": "display_data"
    }
   ],
   "source": [
    "(data.\n",
    " pivot_table(index='year_exposition', values='last_price', aggfunc='median').\n",
    " plot(style='-', grid=True)\n",
    ")"
   ]
  },
  {
   "cell_type": "markdown",
   "metadata": {},
   "source": [
    "В соответствии с проведенным расчетом коэффициента корреляции, наибольшее влияние на стоимость квартиры оказывает ее прощадь (коэффициент составляет 0,64). Площадь кухни и жилая площадь так же оказывают влияние на стоимость, поскольку являются взаимосвязанными величинами с общей площадью квартиры (в том числе поскольку заполнение пропусков в начале исслодования проводилось в соответствии с линейной зависимостью). Построенные диаграммы рассеяния подтверждают данную зависимость. На графике при увеличении площади квартиры до 150кв.м прослеживается пропорциональная зависимость роста цены, после достижения данного метража, зависимость становится меньше, возможно, данный эффект связая с некоторой уникальностью каждого крупного объекта недвижимости.\n",
    "\n",
    "Несмотря на то, что в соответствии с минимальным коэффициентом корреляции год, месяц, день размещения, этаж, и количество комнат никак не влияют на стоимость жилья, в ходе построения графиков была выявлена описанная ниже зависимость.\n",
    "\n",
    "Как правило, стоимость квартиры меняется пропорционально увеличению количества комнат. Зависимость более сильная для шестикомнатных квартир и меньше, далее данная зависимость слабеет.\n",
    "\n",
    "Этаж так же оказывает непосредственное влияние на стоимость квартиры. В соответствии с графиком, недвижимость стоит дешевле на первом этаже, дороже на последнем и самые дорогие располагаются на других этажах.\n",
    "\n",
    "День недели так же может влиять на стоимость. Дак квартиры, выставленные на продажу в рабочие дни были проданы дороже квартир, выставленных в выходные.\n",
    "\n",
    "Зависисмость стоимости квартиры от месяца, когда было выставлено объявление, показало, что квартиры, выставленные на продажу в начале лета (июне) значительно дешевле квартир, выставляемых в другие месяцы, особенно в апреле.\n",
    "\n",
    "График зависимости стоимости квартиры от года продажи показал падение стоимости квартир на 40% в 2016 году по сравнению с 2014 годом. 2017 и 2018 годы были так же неудачными для выгодных продаж, после чего стоимость квартир вновь начала увеличиваться.\n"
   ]
  },
  {
   "cell_type": "markdown",
   "metadata": {},
   "source": [
    "**Рассчитаем среднюю цену одного квадратного метра в 10 населённых пунктах с большим числом объявлений.** "
   ]
  },
  {
   "cell_type": "code",
   "execution_count": 91,
   "metadata": {},
   "outputs": [
    {
     "data": {
      "text/html": [
       "<div>\n",
       "<style scoped>\n",
       "    .dataframe tbody tr th:only-of-type {\n",
       "        vertical-align: middle;\n",
       "    }\n",
       "\n",
       "    .dataframe tbody tr th {\n",
       "        vertical-align: top;\n",
       "    }\n",
       "\n",
       "    .dataframe thead th {\n",
       "        text-align: right;\n",
       "    }\n",
       "</style>\n",
       "<table border=\"1\" class=\"dataframe\">\n",
       "  <thead>\n",
       "    <tr style=\"text-align: right;\">\n",
       "      <th></th>\n",
       "      <th>number_of_locations</th>\n",
       "      <th>mean_price_one_metre</th>\n",
       "    </tr>\n",
       "    <tr>\n",
       "      <th>locality_name</th>\n",
       "      <th></th>\n",
       "      <th></th>\n",
       "    </tr>\n",
       "  </thead>\n",
       "  <tbody>\n",
       "    <tr>\n",
       "      <th>Выборг</th>\n",
       "      <td>237</td>\n",
       "      <td>58141.909325</td>\n",
       "    </tr>\n",
       "    <tr>\n",
       "      <th>Гатчина</th>\n",
       "      <td>307</td>\n",
       "      <td>68746.146515</td>\n",
       "    </tr>\n",
       "    <tr>\n",
       "      <th>Парголово</th>\n",
       "      <td>327</td>\n",
       "      <td>90175.913089</td>\n",
       "    </tr>\n",
       "    <tr>\n",
       "      <th>Колпино</th>\n",
       "      <td>338</td>\n",
       "      <td>75424.579112</td>\n",
       "    </tr>\n",
       "    <tr>\n",
       "      <th>Пушкин</th>\n",
       "      <td>369</td>\n",
       "      <td>103125.819377</td>\n",
       "    </tr>\n",
       "    <tr>\n",
       "      <th>Всеволожск</th>\n",
       "      <td>398</td>\n",
       "      <td>68654.473970</td>\n",
       "    </tr>\n",
       "    <tr>\n",
       "      <th>Шушары</th>\n",
       "      <td>439</td>\n",
       "      <td>78551.344647</td>\n",
       "    </tr>\n",
       "    <tr>\n",
       "      <th>Кудрово</th>\n",
       "      <td>470</td>\n",
       "      <td>95260.846128</td>\n",
       "    </tr>\n",
       "    <tr>\n",
       "      <th>Мурино</th>\n",
       "      <td>586</td>\n",
       "      <td>86041.116024</td>\n",
       "    </tr>\n",
       "    <tr>\n",
       "      <th>Санкт-Петербург</th>\n",
       "      <td>15647</td>\n",
       "      <td>114823.708745</td>\n",
       "    </tr>\n",
       "  </tbody>\n",
       "</table>\n",
       "</div>"
      ],
      "text/plain": [
       "                 number_of_locations  mean_price_one_metre\n",
       "locality_name                                             \n",
       "Выборг                           237          58141.909325\n",
       "Гатчина                          307          68746.146515\n",
       "Парголово                        327          90175.913089\n",
       "Колпино                          338          75424.579112\n",
       "Пушкин                           369         103125.819377\n",
       "Всеволожск                       398          68654.473970\n",
       "Шушары                           439          78551.344647\n",
       "Кудрово                          470          95260.846128\n",
       "Мурино                           586          86041.116024\n",
       "Санкт-Петербург                15647         114823.708745"
      ]
     },
     "execution_count": 91,
     "metadata": {},
     "output_type": "execute_result"
    }
   ],
   "source": [
    "data_price_one_metre = data.pivot_table(index='locality_name', values='price_one_meter', aggfunc=('count', 'mean'))\n",
    "data_price_one_metre=data_price_one_metre.query('count>220')\n",
    "data_price_one_metre.columns=['number_of_locations', 'mean_price_one_metre']\n",
    "data_price_one_metre.sort_values('number_of_locations')"
   ]
  },
  {
   "cell_type": "code",
   "execution_count": 92,
   "metadata": {},
   "outputs": [
    {
     "data": {
      "text/html": [
       "<div>\n",
       "<style scoped>\n",
       "    .dataframe tbody tr th:only-of-type {\n",
       "        vertical-align: middle;\n",
       "    }\n",
       "\n",
       "    .dataframe tbody tr th {\n",
       "        vertical-align: top;\n",
       "    }\n",
       "\n",
       "    .dataframe thead th {\n",
       "        text-align: right;\n",
       "    }\n",
       "</style>\n",
       "<table border=\"1\" class=\"dataframe\">\n",
       "  <thead>\n",
       "    <tr style=\"text-align: right;\">\n",
       "      <th></th>\n",
       "      <th>number_of_locations</th>\n",
       "      <th>mean_price_one_metre</th>\n",
       "    </tr>\n",
       "    <tr>\n",
       "      <th>locality_name</th>\n",
       "      <th></th>\n",
       "      <th></th>\n",
       "    </tr>\n",
       "  </thead>\n",
       "  <tbody>\n",
       "    <tr>\n",
       "      <th>Выборг</th>\n",
       "      <td>237</td>\n",
       "      <td>58141.909325</td>\n",
       "    </tr>\n",
       "    <tr>\n",
       "      <th>Всеволожск</th>\n",
       "      <td>398</td>\n",
       "      <td>68654.473970</td>\n",
       "    </tr>\n",
       "    <tr>\n",
       "      <th>Гатчина</th>\n",
       "      <td>307</td>\n",
       "      <td>68746.146515</td>\n",
       "    </tr>\n",
       "    <tr>\n",
       "      <th>Колпино</th>\n",
       "      <td>338</td>\n",
       "      <td>75424.579112</td>\n",
       "    </tr>\n",
       "    <tr>\n",
       "      <th>Шушары</th>\n",
       "      <td>439</td>\n",
       "      <td>78551.344647</td>\n",
       "    </tr>\n",
       "    <tr>\n",
       "      <th>Мурино</th>\n",
       "      <td>586</td>\n",
       "      <td>86041.116024</td>\n",
       "    </tr>\n",
       "    <tr>\n",
       "      <th>Парголово</th>\n",
       "      <td>327</td>\n",
       "      <td>90175.913089</td>\n",
       "    </tr>\n",
       "    <tr>\n",
       "      <th>Кудрово</th>\n",
       "      <td>470</td>\n",
       "      <td>95260.846128</td>\n",
       "    </tr>\n",
       "    <tr>\n",
       "      <th>Пушкин</th>\n",
       "      <td>369</td>\n",
       "      <td>103125.819377</td>\n",
       "    </tr>\n",
       "    <tr>\n",
       "      <th>Санкт-Петербург</th>\n",
       "      <td>15647</td>\n",
       "      <td>114823.708745</td>\n",
       "    </tr>\n",
       "  </tbody>\n",
       "</table>\n",
       "</div>"
      ],
      "text/plain": [
       "                 number_of_locations  mean_price_one_metre\n",
       "locality_name                                             \n",
       "Выборг                           237          58141.909325\n",
       "Всеволожск                       398          68654.473970\n",
       "Гатчина                          307          68746.146515\n",
       "Колпино                          338          75424.579112\n",
       "Шушары                           439          78551.344647\n",
       "Мурино                           586          86041.116024\n",
       "Парголово                        327          90175.913089\n",
       "Кудрово                          470          95260.846128\n",
       "Пушкин                           369         103125.819377\n",
       "Санкт-Петербург                15647         114823.708745"
      ]
     },
     "execution_count": 92,
     "metadata": {},
     "output_type": "execute_result"
    }
   ],
   "source": [
    "data_price_one_metre.sort_values('mean_price_one_metre')"
   ]
  },
  {
   "cell_type": "markdown",
   "metadata": {},
   "source": [
    "Как видно из таблиц выше, Санкт-Петербург лидирует как по количеству продаваемых объектов, так и по средней цене квадратного метра.\n",
    "Из выбранных 10 населенных пунктов с наибольшим количеством продаваемых объектов, самая дешевая цена квадратного метра в Выборге."
   ]
  },
  {
   "cell_type": "markdown",
   "metadata": {},
   "source": [
    "**Проведем отдельное исследование для квартир в Санкт-Петербурге.**"
   ]
  },
  {
   "cell_type": "markdown",
   "metadata": {},
   "source": [
    "Округлим километраж до центра города до целых значений. Это позволит провести расчет по километрам, без учета лишних величин."
   ]
  },
  {
   "cell_type": "code",
   "execution_count": 93,
   "metadata": {},
   "outputs": [
    {
     "data": {
      "text/html": [
       "<div>\n",
       "<style scoped>\n",
       "    .dataframe tbody tr th:only-of-type {\n",
       "        vertical-align: middle;\n",
       "    }\n",
       "\n",
       "    .dataframe tbody tr th {\n",
       "        vertical-align: top;\n",
       "    }\n",
       "\n",
       "    .dataframe thead th {\n",
       "        text-align: right;\n",
       "    }\n",
       "</style>\n",
       "<table border=\"1\" class=\"dataframe\">\n",
       "  <thead>\n",
       "    <tr style=\"text-align: right;\">\n",
       "      <th></th>\n",
       "      <th>total_images</th>\n",
       "      <th>last_price</th>\n",
       "      <th>total_area</th>\n",
       "      <th>first_day_exposition</th>\n",
       "      <th>rooms</th>\n",
       "      <th>ceiling_height</th>\n",
       "      <th>floors_total</th>\n",
       "      <th>living_area</th>\n",
       "      <th>floor</th>\n",
       "      <th>is_apartment</th>\n",
       "      <th>...</th>\n",
       "      <th>parks_nearest</th>\n",
       "      <th>ponds_around3000</th>\n",
       "      <th>ponds_nearest</th>\n",
       "      <th>days_exposition</th>\n",
       "      <th>price_one_meter</th>\n",
       "      <th>weekday_exposition</th>\n",
       "      <th>month_exposition</th>\n",
       "      <th>year_exposition</th>\n",
       "      <th>floor_type</th>\n",
       "      <th>city_centers_km</th>\n",
       "    </tr>\n",
       "  </thead>\n",
       "  <tbody>\n",
       "    <tr>\n",
       "      <th>0</th>\n",
       "      <td>20</td>\n",
       "      <td>13000000.0</td>\n",
       "      <td>108.0</td>\n",
       "      <td>2019-03-07</td>\n",
       "      <td>3</td>\n",
       "      <td>2.70</td>\n",
       "      <td>16</td>\n",
       "      <td>51.000000</td>\n",
       "      <td>8</td>\n",
       "      <td>True</td>\n",
       "      <td>...</td>\n",
       "      <td>482.0</td>\n",
       "      <td>2.0</td>\n",
       "      <td>755.0</td>\n",
       "      <td>NaN</td>\n",
       "      <td>120370.37</td>\n",
       "      <td>3</td>\n",
       "      <td>3</td>\n",
       "      <td>2019</td>\n",
       "      <td>другой</td>\n",
       "      <td>16.0</td>\n",
       "    </tr>\n",
       "    <tr>\n",
       "      <th>2</th>\n",
       "      <td>10</td>\n",
       "      <td>5196000.0</td>\n",
       "      <td>56.0</td>\n",
       "      <td>2015-08-20</td>\n",
       "      <td>2</td>\n",
       "      <td>2.60</td>\n",
       "      <td>5</td>\n",
       "      <td>34.300000</td>\n",
       "      <td>4</td>\n",
       "      <td>True</td>\n",
       "      <td>...</td>\n",
       "      <td>90.0</td>\n",
       "      <td>2.0</td>\n",
       "      <td>574.0</td>\n",
       "      <td>558.0</td>\n",
       "      <td>92785.71</td>\n",
       "      <td>3</td>\n",
       "      <td>8</td>\n",
       "      <td>2015</td>\n",
       "      <td>другой</td>\n",
       "      <td>14.0</td>\n",
       "    </tr>\n",
       "    <tr>\n",
       "      <th>3</th>\n",
       "      <td>0</td>\n",
       "      <td>64900000.0</td>\n",
       "      <td>159.0</td>\n",
       "      <td>2015-07-24</td>\n",
       "      <td>3</td>\n",
       "      <td>2.80</td>\n",
       "      <td>14</td>\n",
       "      <td>90.066456</td>\n",
       "      <td>9</td>\n",
       "      <td>True</td>\n",
       "      <td>...</td>\n",
       "      <td>84.0</td>\n",
       "      <td>3.0</td>\n",
       "      <td>234.0</td>\n",
       "      <td>424.0</td>\n",
       "      <td>408176.10</td>\n",
       "      <td>4</td>\n",
       "      <td>7</td>\n",
       "      <td>2015</td>\n",
       "      <td>другой</td>\n",
       "      <td>7.0</td>\n",
       "    </tr>\n",
       "    <tr>\n",
       "      <th>4</th>\n",
       "      <td>2</td>\n",
       "      <td>10000000.0</td>\n",
       "      <td>100.0</td>\n",
       "      <td>2018-06-19</td>\n",
       "      <td>2</td>\n",
       "      <td>3.03</td>\n",
       "      <td>14</td>\n",
       "      <td>32.000000</td>\n",
       "      <td>13</td>\n",
       "      <td>True</td>\n",
       "      <td>...</td>\n",
       "      <td>112.0</td>\n",
       "      <td>1.0</td>\n",
       "      <td>48.0</td>\n",
       "      <td>121.0</td>\n",
       "      <td>100000.00</td>\n",
       "      <td>1</td>\n",
       "      <td>6</td>\n",
       "      <td>2018</td>\n",
       "      <td>другой</td>\n",
       "      <td>8.0</td>\n",
       "    </tr>\n",
       "    <tr>\n",
       "      <th>7</th>\n",
       "      <td>5</td>\n",
       "      <td>7915000.0</td>\n",
       "      <td>71.6</td>\n",
       "      <td>2019-04-18</td>\n",
       "      <td>2</td>\n",
       "      <td>2.60</td>\n",
       "      <td>24</td>\n",
       "      <td>40.558228</td>\n",
       "      <td>22</td>\n",
       "      <td>True</td>\n",
       "      <td>...</td>\n",
       "      <td>0.0</td>\n",
       "      <td>0.0</td>\n",
       "      <td>0.0</td>\n",
       "      <td>NaN</td>\n",
       "      <td>110544.69</td>\n",
       "      <td>3</td>\n",
       "      <td>4</td>\n",
       "      <td>2019</td>\n",
       "      <td>другой</td>\n",
       "      <td>12.0</td>\n",
       "    </tr>\n",
       "  </tbody>\n",
       "</table>\n",
       "<p>5 rows × 28 columns</p>\n",
       "</div>"
      ],
      "text/plain": [
       "   total_images  last_price  total_area first_day_exposition  rooms  \\\n",
       "0            20  13000000.0       108.0           2019-03-07      3   \n",
       "2            10   5196000.0        56.0           2015-08-20      2   \n",
       "3             0  64900000.0       159.0           2015-07-24      3   \n",
       "4             2  10000000.0       100.0           2018-06-19      2   \n",
       "7             5   7915000.0        71.6           2019-04-18      2   \n",
       "\n",
       "   ceiling_height  floors_total  living_area  floor  is_apartment  ...  \\\n",
       "0            2.70            16    51.000000      8          True  ...   \n",
       "2            2.60             5    34.300000      4          True  ...   \n",
       "3            2.80            14    90.066456      9          True  ...   \n",
       "4            3.03            14    32.000000     13          True  ...   \n",
       "7            2.60            24    40.558228     22          True  ...   \n",
       "\n",
       "   parks_nearest  ponds_around3000  ponds_nearest  days_exposition  \\\n",
       "0          482.0               2.0          755.0              NaN   \n",
       "2           90.0               2.0          574.0            558.0   \n",
       "3           84.0               3.0          234.0            424.0   \n",
       "4          112.0               1.0           48.0            121.0   \n",
       "7            0.0               0.0            0.0              NaN   \n",
       "\n",
       "  price_one_meter  weekday_exposition  month_exposition  year_exposition  \\\n",
       "0       120370.37                   3                 3             2019   \n",
       "2        92785.71                   3                 8             2015   \n",
       "3       408176.10                   4                 7             2015   \n",
       "4       100000.00                   1                 6             2018   \n",
       "7       110544.69                   3                 4             2019   \n",
       "\n",
       "   floor_type  city_centers_km  \n",
       "0      другой             16.0  \n",
       "2      другой             14.0  \n",
       "3      другой              7.0  \n",
       "4      другой              8.0  \n",
       "7      другой             12.0  \n",
       "\n",
       "[5 rows x 28 columns]"
      ]
     },
     "execution_count": 93,
     "metadata": {},
     "output_type": "execute_result"
    }
   ],
   "source": [
    "data_spb = data.query('locality_name == \"Санкт-Петербург\"')\n",
    "\n",
    "data_spb.head()"
   ]
  },
  {
   "cell_type": "code",
   "execution_count": 94,
   "metadata": {},
   "outputs": [],
   "source": [
    "data_spb = data_spb.pivot_table(index='city_centers_km', values='price_one_meter', aggfunc='mean')"
   ]
  },
  {
   "cell_type": "code",
   "execution_count": 95,
   "metadata": {},
   "outputs": [
    {
     "data": {
      "text/plain": [
       "<AxesSubplot:xlabel='city_centers_km'>"
      ]
     },
     "execution_count": 95,
     "metadata": {},
     "output_type": "execute_result"
    },
    {
     "data": {
      "image/png": "[encoded data removed]",
      "text/plain": [
       "<Figure size 720x216 with 1 Axes>"
      ]
     },
     "metadata": {
      "needs_background": "light"
     },
     "output_type": "display_data"
    }
   ],
   "source": [
    "data_spb.plot(y='price_one_meter', style='o-',alpha=0.7, grid=True, figsize=(10,3))"
   ]
  },
  {
   "cell_type": "markdown",
   "metadata": {},
   "source": [
    "В соответствии с данным графиком видна явна зависимость стоимости квадратного метра недвижимости от ее расположения по отношению к центру города. Максимально дорогие объекты находятся в непосредственном центре, по мере удаления от него цена постепенно снижается и достигает минимального значения в 27 км от центра города, что является максимальным удалением для Санкт-Петербурга."
   ]
  },
  {
   "cell_type": "markdown",
   "metadata": {},
   "source": [
    "**Промежуточный вывод.**\n",
    "\n",
    "Учитывая полученные результаты расчетов, можно сделать вывод, что не все параметры объектов недвижимости оказывают какое-либо влияние на цену объекта. В частности, не важно когда было выставлено объявление, на цене это отражаться не будет.\n",
    "В то же время, было лпределено, что стоимость квартиры зависит от ее площади и расположения, причем важно не только удаление от центра города, но и населенный пункт. "
   ]
  },
  {
   "cell_type": "markdown",
   "metadata": {},
   "source": [
    "**<font color='red'>ОБЩИЙ ВЫВОД ПО ПРОЕКТУ.</font>**\n",
    "\n",
    "В данном проекте были проанализированы данные сервиса Яндекс Недвижимость — архив объявлений о продаже квартир в Санкт-Петербурге и соседних населённых пунктах за несколько лет. Данная информация включала данные о населенном пункте, стоимость объекта недвижимости, его расположение по отношению к паркам, прудам и удаленность от ценра города Санкт-Петербург, площадь объекта, этажность строения и этаж самого объекта.\n",
    "\n",
    "На первом шаге работы была проведена **предобработка данных**, включающая: предварительный анализ основной информации о базе данных, выявление пропусков в различных категориях данных и последующее их заполнение различными методами, приведение данных к одному виду написания (использование только буквы ё в словах), что позволило удалить неявные дубликаты.\n",
    "\n",
    "Для непосредственного проведения исследования в массив данных были **добавлены шесть новых столбцов** с рассчетами цены одного квадратного метра, дня недели, месяца и года публикации объявления, типа этажа квартиры и расстояния до центра города в километрах.\n",
    "\n",
    "**Согласно полученным расчетам, наиболее популярные квартиры** - это квартиры с малой площадью около 40 - 50кв.м (жилая площадь 20 или 30 кв.м и кухня 9 кв.м), что в целом соответствует тенденциям рынка недвижимости, обусловленным высокими ценами на жилье. Такие объекты недвижимости (однокомнатные и двухкомнатные  квартиры) стоили около 4,6млн.руб. Большинство продаваемых квартир имели высоту потолка около 2,6 метра и находились на средних этажах в пятиэтажных или девятиэтажных строениях. Максимальное количество продаваемых объектов недвижимости находится в 15 км от центра города Санкт-Петербурга. Так же можно отметить, что в большинстве случаев объекты недвижимости в Санкт-Петербурге не имеют парка в радиусе 3км, а квартиры чаще всего продаются до 100 дней. \n",
    "\n",
    "**В ходе проведения исследования с целью поиска зависимости стоимости квартиры от различных факторов, <font color='blue'>были выявлены следующие зависимости</font>**:\n",
    "- наибольшее влияние на стоимость квартиры оказывает ее прощадь, как общая, так и жилая, а так же площадь кухни (максимальный коэффициент корреляции для этих параметров составляет 0,64). Построенные диаграммы рассеяния подтверждают это наиболее наглядно для квартир площадью до 150кв.м.\n",
    "- стоимость квартиры увеличивается пропорционально увеличению количества комнат. Зависимость более сильная для шестикомнатных квартир и меньше, далее данная зависимость слабеет.\n",
    "- недвижимость стоит дешевле на первом этаже, дороже на последнем и наиболее высокой стоимостью обладают объекты, расположенные на других этажах.\n",
    "- день недели, месяц и год, когда было выставлено объявление, так же может влиять на стоимость. Квартиры, выставленные на продажу в рабочие дни были проданы дороже квартир, выставленных в выходные. Зависисмость стоимости квартиры от месяца, показало, что квартиры, выставленные на продажу в начале лета (июне) значительно дешевле квартир, выставляемых в другие месяцы, особенно в апреле. Возможно это связано с существующим спросом на рынке недвижимости в данные месяцы. График зависимости стоимости квартиры от года продажи показал падение стоимости квартир на 40% в 2016 году по сравнению с 2014 годом. 2017 и 2018 годы были так же неудачными для выгодных продаж, после чего стоимость квартир вновь начала увеличиваться.\n",
    "\n",
    "В имеющихся данных, **Санкт-Петербург** лидирует как по количеству продаваемых объектов, так и по средней цене квадратного метра. Также была определена явна зависимость стоимости квадратного метра недвижимости в Санкт-Петербурге от ее расположения по отношению к центру города. Максимально дорогие объекты находятся в непосредственном центре, по мере удаления от него, цена постепенно снижается и достигает минимального значения в 27 км от центра города, что является максимальным удалением для Санкт-Петербурга. \n",
    "\n",
    "С учетом полученной информации, выявлены явные зависимости стоимости объектов недвижимости от перечисленных выше факторов, что сможет позволить проводить автоматизарованную оценку недвижимости для Санкт-Петербурга и его окрестностей.\n",
    "\n",
    "**<font color='blue'>Рекомендации.</font>**\n",
    "В заключении проведенного исследования можно отметить некоторые направления в улучшении данных, связанные с выявленными ошибками в их подготовке, особенно основанных на автоматических данных, полученных из геосервисов. Наличие значительного отсутствия такой информации может говорить о несовершенстве системы ее сбора. Также необходимо обратить внимание на категоризацию населенных пунктов, поскольку различное их написание приводит к задвоению во многих случаях. Данные, предоставляемые пользователями по каким-то причинам так же отсутствуют в некоторых категориях, например, высоте потолка. Возможно, люди не заполняют это, поскольку просто не владеют данной информацией, поэтому возможно, стоит пересмотреть данную систему. \n",
    "Также стоит рассмотреть возможность указания в данных информации является ли квартира коммунальной. Данный фактор так же может быть ключевым, поскольку во-первых это оказывает непосредственное влияние на то, имеется ли кухня в квартире. Без данного показателя корректное заполнение пропусков в данной колонке невозможно, соответственно и расчет влияния площади кухни на стоимость квартиры может не отражать всей действительности. В целом, система сбора данных требует доболнительной доработки и корректировки с целью качественного проведения дальнейших исследований.\n",
    "\n",
    "Также в рекомендациях необходимо отметить, что в имеющейся базе даных никак не отражено наличие ближайших станций метро или веток железнодорожного транспорта по отношению к объектам недвижимости. Рассмотрение данных зависимостей может существенно улучшить результаты проводимого исследования, поскольку данная информация может существенно влиять как на стоимость объекта недвижимости, так и на скорость его продажи."
   ]
  }
 ],
 "metadata": {
  "ExecuteTimeLog": [
   {
    "duration": 563,
    "start_time": "2024-02-09T03:18:06.173Z"
   },
   {
    "duration": 103,
    "start_time": "2024-02-09T03:18:29.527Z"
   },
   {
    "duration": 87,
    "start_time": "2024-02-09T03:19:52.206Z"
   },
   {
    "duration": 94,
    "start_time": "2024-02-09T03:20:10.544Z"
   },
   {
    "duration": 127,
    "start_time": "2024-02-09T03:20:25.080Z"
   },
   {
    "duration": 128,
    "start_time": "2024-02-09T03:20:46.725Z"
   },
   {
    "duration": 125,
    "start_time": "2024-02-09T03:21:45.970Z"
   },
   {
    "duration": 16,
    "start_time": "2024-02-09T03:21:56.983Z"
   },
   {
    "duration": 2452,
    "start_time": "2024-02-09T03:23:36.761Z"
   },
   {
    "duration": 131,
    "start_time": "2024-02-09T03:25:48.345Z"
   },
   {
    "duration": 10,
    "start_time": "2024-02-09T03:29:59.606Z"
   },
   {
    "duration": 26,
    "start_time": "2024-02-09T03:33:17.318Z"
   },
   {
    "duration": 78,
    "start_time": "2024-02-09T03:40:27.628Z"
   },
   {
    "duration": 4,
    "start_time": "2024-02-09T03:40:33.221Z"
   },
   {
    "duration": 29,
    "start_time": "2024-02-09T03:40:49.667Z"
   },
   {
    "duration": 101,
    "start_time": "2024-02-09T03:41:46.245Z"
   },
   {
    "duration": 8,
    "start_time": "2024-02-09T03:52:13.423Z"
   },
   {
    "duration": 13,
    "start_time": "2024-02-09T03:52:23.997Z"
   },
   {
    "duration": 13,
    "start_time": "2024-02-09T03:52:31.513Z"
   },
   {
    "duration": 19,
    "start_time": "2024-02-09T03:52:48.386Z"
   },
   {
    "duration": 19,
    "start_time": "2024-02-09T03:54:56.167Z"
   },
   {
    "duration": 4,
    "start_time": "2024-02-09T03:56:56.217Z"
   },
   {
    "duration": 4,
    "start_time": "2024-02-09T03:59:15.989Z"
   },
   {
    "duration": 8,
    "start_time": "2024-02-09T03:59:37.601Z"
   },
   {
    "duration": 8,
    "start_time": "2024-02-09T04:00:17.327Z"
   },
   {
    "duration": 20,
    "start_time": "2024-02-09T04:00:41.289Z"
   },
   {
    "duration": 1369,
    "start_time": "2024-02-09T04:14:54.280Z"
   },
   {
    "duration": 2224,
    "start_time": "2024-02-09T04:15:23.116Z"
   },
   {
    "duration": 4485,
    "start_time": "2024-02-09T04:17:13.357Z"
   },
   {
    "duration": 39,
    "start_time": "2024-02-09T04:18:27.167Z"
   },
   {
    "duration": 1361,
    "start_time": "2024-02-09T04:25:27.309Z"
   },
   {
    "duration": 28,
    "start_time": "2024-02-09T04:25:48.075Z"
   },
   {
    "duration": 27,
    "start_time": "2024-02-09T04:34:17.848Z"
   },
   {
    "duration": 4343,
    "start_time": "2024-02-09T04:34:56.770Z"
   },
   {
    "duration": 4300,
    "start_time": "2024-02-09T04:35:35.618Z"
   },
   {
    "duration": 540,
    "start_time": "2024-02-09T04:36:56.636Z"
   },
   {
    "duration": 14,
    "start_time": "2024-02-09T04:36:57.178Z"
   },
   {
    "duration": 2395,
    "start_time": "2024-02-09T04:36:57.194Z"
   },
   {
    "duration": 10,
    "start_time": "2024-02-09T04:36:59.591Z"
   },
   {
    "duration": 7,
    "start_time": "2024-02-09T04:36:59.603Z"
   },
   {
    "duration": 27,
    "start_time": "2024-02-09T04:36:59.611Z"
   },
   {
    "duration": 7,
    "start_time": "2024-02-09T04:36:59.640Z"
   },
   {
    "duration": 33,
    "start_time": "2024-02-09T04:36:59.648Z"
   },
   {
    "duration": 4423,
    "start_time": "2024-02-09T04:36:59.683Z"
   },
   {
    "duration": 37,
    "start_time": "2024-02-09T04:37:04.108Z"
   },
   {
    "duration": 4187,
    "start_time": "2024-02-09T04:39:04.118Z"
   },
   {
    "duration": 3961,
    "start_time": "2024-02-09T04:39:12.623Z"
   },
   {
    "duration": 63,
    "start_time": "2024-02-09T04:41:07.277Z"
   },
   {
    "duration": 9,
    "start_time": "2024-02-09T04:43:57.625Z"
   },
   {
    "duration": 29,
    "start_time": "2024-02-09T04:44:07.356Z"
   },
   {
    "duration": 5,
    "start_time": "2024-02-09T04:45:18.908Z"
   },
   {
    "duration": 4,
    "start_time": "2024-02-09T04:45:48.892Z"
   },
   {
    "duration": 160,
    "start_time": "2024-02-09T04:46:41.002Z"
   },
   {
    "duration": 137,
    "start_time": "2024-02-09T04:46:59.926Z"
   },
   {
    "duration": 130,
    "start_time": "2024-02-09T04:47:13.166Z"
   },
   {
    "duration": 120,
    "start_time": "2024-02-09T05:05:11.873Z"
   },
   {
    "duration": 25,
    "start_time": "2024-02-09T05:05:34.503Z"
   },
   {
    "duration": 547,
    "start_time": "2024-02-09T05:05:55.777Z"
   },
   {
    "duration": 15,
    "start_time": "2024-02-09T05:05:56.326Z"
   },
   {
    "duration": 2312,
    "start_time": "2024-02-09T05:05:56.342Z"
   },
   {
    "duration": 10,
    "start_time": "2024-02-09T05:05:58.655Z"
   },
   {
    "duration": 11,
    "start_time": "2024-02-09T05:05:58.667Z"
   },
   {
    "duration": 6,
    "start_time": "2024-02-09T05:05:58.679Z"
   },
   {
    "duration": 42,
    "start_time": "2024-02-09T05:05:58.687Z"
   },
   {
    "duration": 8,
    "start_time": "2024-02-09T05:05:58.731Z"
   },
   {
    "duration": 26,
    "start_time": "2024-02-09T05:05:58.740Z"
   },
   {
    "duration": 4027,
    "start_time": "2024-02-09T05:05:58.773Z"
   },
   {
    "duration": 24,
    "start_time": "2024-02-09T05:06:02.802Z"
   },
   {
    "duration": 4,
    "start_time": "2024-02-09T05:12:10.833Z"
   },
   {
    "duration": 27,
    "start_time": "2024-02-09T05:12:28.068Z"
   },
   {
    "duration": 25,
    "start_time": "2024-02-09T05:13:43.906Z"
   },
   {
    "duration": 134,
    "start_time": "2024-02-09T05:16:16.356Z"
   },
   {
    "duration": 12,
    "start_time": "2024-02-09T05:16:46.281Z"
   },
   {
    "duration": 81,
    "start_time": "2024-02-09T05:17:39.709Z"
   },
   {
    "duration": 10,
    "start_time": "2024-02-09T05:19:20.555Z"
   },
   {
    "duration": 13,
    "start_time": "2024-02-09T05:22:08.928Z"
   },
   {
    "duration": 10,
    "start_time": "2024-02-09T05:22:28.185Z"
   },
   {
    "duration": 11,
    "start_time": "2024-02-09T05:22:33.396Z"
   },
   {
    "duration": 10,
    "start_time": "2024-02-09T05:23:18.890Z"
   },
   {
    "duration": 94,
    "start_time": "2024-02-09T05:28:10.361Z"
   },
   {
    "duration": 11969,
    "start_time": "2024-02-09T05:28:15.873Z"
   },
   {
    "duration": 11873,
    "start_time": "2024-02-09T05:28:49.265Z"
   },
   {
    "duration": 24028,
    "start_time": "2024-02-09T05:30:04.584Z"
   },
   {
    "duration": 10,
    "start_time": "2024-02-09T05:31:00.880Z"
   },
   {
    "duration": 6,
    "start_time": "2024-02-09T05:33:33.569Z"
   },
   {
    "duration": 7,
    "start_time": "2024-02-09T05:33:57.969Z"
   },
   {
    "duration": 8,
    "start_time": "2024-02-09T05:34:09.861Z"
   },
   {
    "duration": 17,
    "start_time": "2024-02-09T05:42:10.553Z"
   },
   {
    "duration": 18,
    "start_time": "2024-02-09T05:42:44.641Z"
   },
   {
    "duration": 9,
    "start_time": "2024-02-09T05:43:00.818Z"
   },
   {
    "duration": 522,
    "start_time": "2024-02-09T05:43:08.504Z"
   },
   {
    "duration": 15,
    "start_time": "2024-02-09T05:43:09.028Z"
   },
   {
    "duration": 2285,
    "start_time": "2024-02-09T05:43:09.044Z"
   },
   {
    "duration": 10,
    "start_time": "2024-02-09T05:43:11.331Z"
   },
   {
    "duration": 8,
    "start_time": "2024-02-09T05:43:11.343Z"
   },
   {
    "duration": 21,
    "start_time": "2024-02-09T05:43:11.352Z"
   },
   {
    "duration": 31,
    "start_time": "2024-02-09T05:43:11.375Z"
   },
   {
    "duration": 7,
    "start_time": "2024-02-09T05:43:11.408Z"
   },
   {
    "duration": 25,
    "start_time": "2024-02-09T05:43:11.417Z"
   },
   {
    "duration": 4076,
    "start_time": "2024-02-09T05:43:11.443Z"
   },
   {
    "duration": 24,
    "start_time": "2024-02-09T05:43:15.520Z"
   },
   {
    "duration": 41,
    "start_time": "2024-02-09T05:43:15.546Z"
   },
   {
    "duration": 15,
    "start_time": "2024-02-09T05:43:15.589Z"
   },
   {
    "duration": 24265,
    "start_time": "2024-02-09T05:43:15.606Z"
   },
   {
    "duration": 17,
    "start_time": "2024-02-09T05:43:39.883Z"
   },
   {
    "duration": 7,
    "start_time": "2024-02-09T05:43:39.902Z"
   },
   {
    "duration": 9,
    "start_time": "2024-02-09T05:43:39.911Z"
   },
   {
    "duration": 27,
    "start_time": "2024-02-09T05:53:18.032Z"
   },
   {
    "duration": 5,
    "start_time": "2024-02-09T05:59:26.611Z"
   },
   {
    "duration": 24,
    "start_time": "2024-02-09T05:59:49.909Z"
   },
   {
    "duration": 557,
    "start_time": "2024-02-09T06:00:03.270Z"
   },
   {
    "duration": 17,
    "start_time": "2024-02-09T06:00:03.829Z"
   },
   {
    "duration": 2273,
    "start_time": "2024-02-09T06:00:03.848Z"
   },
   {
    "duration": 11,
    "start_time": "2024-02-09T06:00:06.123Z"
   },
   {
    "duration": 9,
    "start_time": "2024-02-09T06:00:06.137Z"
   },
   {
    "duration": 6,
    "start_time": "2024-02-09T06:00:06.148Z"
   },
   {
    "duration": 32,
    "start_time": "2024-02-09T06:00:06.156Z"
   },
   {
    "duration": 29,
    "start_time": "2024-02-09T06:00:06.190Z"
   },
   {
    "duration": 8,
    "start_time": "2024-02-09T06:00:06.221Z"
   },
   {
    "duration": 35,
    "start_time": "2024-02-09T06:00:06.230Z"
   },
   {
    "duration": 3983,
    "start_time": "2024-02-09T06:00:06.267Z"
   },
   {
    "duration": 29,
    "start_time": "2024-02-09T06:00:10.251Z"
   },
   {
    "duration": 27,
    "start_time": "2024-02-09T06:00:10.281Z"
   },
   {
    "duration": 15,
    "start_time": "2024-02-09T06:00:10.310Z"
   },
   {
    "duration": 24233,
    "start_time": "2024-02-09T06:00:10.326Z"
   },
   {
    "duration": 16,
    "start_time": "2024-02-09T06:00:34.561Z"
   },
   {
    "duration": 27,
    "start_time": "2024-02-09T06:00:34.579Z"
   },
   {
    "duration": 11,
    "start_time": "2024-02-09T06:00:34.608Z"
   },
   {
    "duration": 6,
    "start_time": "2024-02-09T06:05:32.691Z"
   },
   {
    "duration": 6,
    "start_time": "2024-02-09T06:06:10.683Z"
   },
   {
    "duration": 5,
    "start_time": "2024-02-09T06:06:22.579Z"
   },
   {
    "duration": 16,
    "start_time": "2024-02-09T06:06:46.466Z"
   },
   {
    "duration": 18,
    "start_time": "2024-02-09T06:07:20.245Z"
   },
   {
    "duration": 75,
    "start_time": "2024-02-09T06:09:55.376Z"
   },
   {
    "duration": 10,
    "start_time": "2024-02-09T06:12:21.160Z"
   },
   {
    "duration": 5,
    "start_time": "2024-02-09T06:15:11.951Z"
   },
   {
    "duration": 13,
    "start_time": "2024-02-09T06:15:35.597Z"
   },
   {
    "duration": 11,
    "start_time": "2024-02-09T06:16:06.447Z"
   },
   {
    "duration": 13,
    "start_time": "2024-02-09T06:16:11.308Z"
   },
   {
    "duration": 15,
    "start_time": "2024-02-09T06:16:16.258Z"
   },
   {
    "duration": 558,
    "start_time": "2024-02-09T06:16:25.834Z"
   },
   {
    "duration": 17,
    "start_time": "2024-02-09T06:16:26.394Z"
   },
   {
    "duration": 2313,
    "start_time": "2024-02-09T06:16:26.412Z"
   },
   {
    "duration": 10,
    "start_time": "2024-02-09T06:16:28.727Z"
   },
   {
    "duration": 16,
    "start_time": "2024-02-09T06:16:28.739Z"
   },
   {
    "duration": 5,
    "start_time": "2024-02-09T06:16:28.757Z"
   },
   {
    "duration": 9,
    "start_time": "2024-02-09T06:16:28.764Z"
   },
   {
    "duration": 5,
    "start_time": "2024-02-09T06:16:28.775Z"
   },
   {
    "duration": 26,
    "start_time": "2024-02-09T06:16:28.781Z"
   },
   {
    "duration": 8,
    "start_time": "2024-02-09T06:16:28.810Z"
   },
   {
    "duration": 22,
    "start_time": "2024-02-09T06:16:28.819Z"
   },
   {
    "duration": 4056,
    "start_time": "2024-02-09T06:16:28.842Z"
   },
   {
    "duration": 25,
    "start_time": "2024-02-09T06:16:32.899Z"
   },
   {
    "duration": 26,
    "start_time": "2024-02-09T06:16:32.925Z"
   },
   {
    "duration": 33,
    "start_time": "2024-02-09T06:16:32.953Z"
   },
   {
    "duration": 23795,
    "start_time": "2024-02-09T06:16:32.987Z"
   },
   {
    "duration": 9,
    "start_time": "2024-02-09T06:16:56.784Z"
   },
   {
    "duration": 16,
    "start_time": "2024-02-09T06:16:56.794Z"
   },
   {
    "duration": 102,
    "start_time": "2024-02-09T06:16:56.812Z"
   },
   {
    "duration": 0,
    "start_time": "2024-02-09T06:16:56.916Z"
   },
   {
    "duration": 13,
    "start_time": "2024-02-09T06:17:57.927Z"
   },
   {
    "duration": 11,
    "start_time": "2024-02-09T06:18:12.326Z"
   },
   {
    "duration": 18,
    "start_time": "2024-02-09T06:22:54.742Z"
   },
   {
    "duration": 7,
    "start_time": "2024-02-09T06:24:22.506Z"
   },
   {
    "duration": 8,
    "start_time": "2024-02-09T06:24:39.662Z"
   },
   {
    "duration": 8,
    "start_time": "2024-02-09T06:24:52.613Z"
   },
   {
    "duration": 10,
    "start_time": "2024-02-09T06:28:18.300Z"
   },
   {
    "duration": 9,
    "start_time": "2024-02-09T06:28:41.881Z"
   },
   {
    "duration": 9,
    "start_time": "2024-02-09T06:29:59.641Z"
   },
   {
    "duration": 9,
    "start_time": "2024-02-09T06:30:48.850Z"
   },
   {
    "duration": 87,
    "start_time": "2024-02-09T06:31:31.917Z"
   },
   {
    "duration": 10,
    "start_time": "2024-02-09T06:31:56.647Z"
   },
   {
    "duration": 9,
    "start_time": "2024-02-09T06:33:03.819Z"
   },
   {
    "duration": 8,
    "start_time": "2024-02-09T06:33:09.974Z"
   },
   {
    "duration": 11,
    "start_time": "2024-02-09T06:34:24.328Z"
   },
   {
    "duration": 7,
    "start_time": "2024-02-09T06:34:41.866Z"
   },
   {
    "duration": 18,
    "start_time": "2024-02-09T06:34:49.460Z"
   },
   {
    "duration": 96,
    "start_time": "2024-02-09T06:35:52.788Z"
   },
   {
    "duration": 79,
    "start_time": "2024-02-09T06:38:13.370Z"
   },
   {
    "duration": 92,
    "start_time": "2024-02-09T06:38:36.062Z"
   },
   {
    "duration": 27,
    "start_time": "2024-02-09T06:40:02.498Z"
   },
   {
    "duration": 31,
    "start_time": "2024-02-09T06:40:14.030Z"
   },
   {
    "duration": 29,
    "start_time": "2024-02-09T06:40:23.380Z"
   },
   {
    "duration": 29,
    "start_time": "2024-02-09T06:42:47.156Z"
   },
   {
    "duration": 560,
    "start_time": "2024-02-09T06:44:12.570Z"
   },
   {
    "duration": 15,
    "start_time": "2024-02-09T06:44:13.132Z"
   },
   {
    "duration": 2348,
    "start_time": "2024-02-09T06:44:13.149Z"
   },
   {
    "duration": 10,
    "start_time": "2024-02-09T06:44:15.499Z"
   },
   {
    "duration": 8,
    "start_time": "2024-02-09T06:44:15.510Z"
   },
   {
    "duration": 12,
    "start_time": "2024-02-09T06:44:15.519Z"
   },
   {
    "duration": 10,
    "start_time": "2024-02-09T06:44:15.533Z"
   },
   {
    "duration": 10,
    "start_time": "2024-02-09T06:44:15.545Z"
   },
   {
    "duration": 33,
    "start_time": "2024-02-09T06:44:15.557Z"
   },
   {
    "duration": 7,
    "start_time": "2024-02-09T06:44:15.592Z"
   },
   {
    "duration": 37,
    "start_time": "2024-02-09T06:44:15.601Z"
   },
   {
    "duration": 4057,
    "start_time": "2024-02-09T06:44:15.640Z"
   },
   {
    "duration": 29,
    "start_time": "2024-02-09T06:44:19.698Z"
   },
   {
    "duration": 46,
    "start_time": "2024-02-09T06:44:19.730Z"
   },
   {
    "duration": 15,
    "start_time": "2024-02-09T06:44:19.778Z"
   },
   {
    "duration": 23795,
    "start_time": "2024-02-09T06:44:19.795Z"
   },
   {
    "duration": 10,
    "start_time": "2024-02-09T06:44:43.592Z"
   },
   {
    "duration": 25,
    "start_time": "2024-02-09T06:44:43.603Z"
   },
   {
    "duration": 14,
    "start_time": "2024-02-09T06:44:43.629Z"
   },
   {
    "duration": 24,
    "start_time": "2024-02-09T06:44:43.645Z"
   },
   {
    "duration": 48,
    "start_time": "2024-02-09T06:44:43.670Z"
   },
   {
    "duration": 14,
    "start_time": "2024-02-09T06:56:09.386Z"
   },
   {
    "duration": 15,
    "start_time": "2024-02-09T06:57:29.228Z"
   },
   {
    "duration": 15,
    "start_time": "2024-02-09T06:57:51.110Z"
   },
   {
    "duration": 20,
    "start_time": "2024-02-09T06:58:51.850Z"
   },
   {
    "duration": 14,
    "start_time": "2024-02-09T06:59:08.793Z"
   },
   {
    "duration": 21,
    "start_time": "2024-02-09T07:00:26.590Z"
   },
   {
    "duration": 15,
    "start_time": "2024-02-09T07:00:53.353Z"
   },
   {
    "duration": 16,
    "start_time": "2024-02-09T07:01:00.092Z"
   },
   {
    "duration": 15,
    "start_time": "2024-02-09T07:35:09.061Z"
   },
   {
    "duration": 14,
    "start_time": "2024-02-09T07:35:10.321Z"
   },
   {
    "duration": 213,
    "start_time": "2024-02-09T07:38:31.285Z"
   },
   {
    "duration": 186,
    "start_time": "2024-02-09T07:39:15.712Z"
   },
   {
    "duration": 185,
    "start_time": "2024-02-09T07:39:45.368Z"
   },
   {
    "duration": 208,
    "start_time": "2024-02-09T07:40:01.309Z"
   },
   {
    "duration": 194,
    "start_time": "2024-02-09T07:40:46.410Z"
   },
   {
    "duration": 13,
    "start_time": "2024-02-09T07:43:32.610Z"
   },
   {
    "duration": 18,
    "start_time": "2024-02-09T07:43:36.908Z"
   },
   {
    "duration": 15,
    "start_time": "2024-02-09T07:43:57.529Z"
   },
   {
    "duration": 15,
    "start_time": "2024-02-09T07:43:58.958Z"
   },
   {
    "duration": 20,
    "start_time": "2024-02-09T07:45:41.166Z"
   },
   {
    "duration": 99,
    "start_time": "2024-02-09T07:51:33.781Z"
   },
   {
    "duration": 85,
    "start_time": "2024-02-09T07:53:27.725Z"
   },
   {
    "duration": 90,
    "start_time": "2024-02-09T07:53:42.463Z"
   },
   {
    "duration": 298,
    "start_time": "2024-02-09T07:55:03.182Z"
   },
   {
    "duration": 163,
    "start_time": "2024-02-09T07:55:42.580Z"
   },
   {
    "duration": 799,
    "start_time": "2024-02-09T07:57:23.415Z"
   },
   {
    "duration": 18,
    "start_time": "2024-02-09T07:57:50.696Z"
   },
   {
    "duration": 13,
    "start_time": "2024-02-09T07:59:13.431Z"
   },
   {
    "duration": 63,
    "start_time": "2024-02-09T08:01:22.358Z"
   },
   {
    "duration": 64,
    "start_time": "2024-02-09T08:03:09.696Z"
   },
   {
    "duration": 15,
    "start_time": "2024-02-09T08:04:17.095Z"
   },
   {
    "duration": 10,
    "start_time": "2024-02-09T08:04:35.254Z"
   },
   {
    "duration": 14,
    "start_time": "2024-02-09T08:05:40.358Z"
   },
   {
    "duration": 22,
    "start_time": "2024-02-09T08:05:41.663Z"
   },
   {
    "duration": 11,
    "start_time": "2024-02-09T08:05:47.323Z"
   },
   {
    "duration": 6,
    "start_time": "2024-02-09T08:09:20.673Z"
   },
   {
    "duration": 36,
    "start_time": "2024-02-09T08:09:36.390Z"
   },
   {
    "duration": 13,
    "start_time": "2024-02-09T08:11:05.603Z"
   },
   {
    "duration": 13,
    "start_time": "2024-02-09T08:11:27.112Z"
   },
   {
    "duration": 7,
    "start_time": "2024-02-09T08:14:20.076Z"
   },
   {
    "duration": 37,
    "start_time": "2024-02-09T08:14:36.476Z"
   },
   {
    "duration": 563,
    "start_time": "2024-02-09T08:14:46.867Z"
   },
   {
    "duration": 16,
    "start_time": "2024-02-09T08:14:47.431Z"
   },
   {
    "duration": 2297,
    "start_time": "2024-02-09T08:14:47.448Z"
   },
   {
    "duration": 10,
    "start_time": "2024-02-09T08:14:49.747Z"
   },
   {
    "duration": 8,
    "start_time": "2024-02-09T08:14:49.759Z"
   },
   {
    "duration": 5,
    "start_time": "2024-02-09T08:14:49.768Z"
   },
   {
    "duration": 9,
    "start_time": "2024-02-09T08:14:49.775Z"
   },
   {
    "duration": 6,
    "start_time": "2024-02-09T08:14:49.785Z"
   },
   {
    "duration": 24,
    "start_time": "2024-02-09T08:14:49.792Z"
   },
   {
    "duration": 8,
    "start_time": "2024-02-09T08:14:49.818Z"
   },
   {
    "duration": 48,
    "start_time": "2024-02-09T08:14:49.828Z"
   },
   {
    "duration": 4083,
    "start_time": "2024-02-09T08:14:49.878Z"
   },
   {
    "duration": 33,
    "start_time": "2024-02-09T08:14:53.963Z"
   },
   {
    "duration": 36,
    "start_time": "2024-02-09T08:14:53.998Z"
   },
   {
    "duration": 15,
    "start_time": "2024-02-09T08:14:54.036Z"
   },
   {
    "duration": 23650,
    "start_time": "2024-02-09T08:14:54.072Z"
   },
   {
    "duration": 8,
    "start_time": "2024-02-09T08:15:17.724Z"
   },
   {
    "duration": 10,
    "start_time": "2024-02-09T08:15:17.734Z"
   },
   {
    "duration": 30,
    "start_time": "2024-02-09T08:15:17.745Z"
   },
   {
    "duration": 7,
    "start_time": "2024-02-09T08:15:17.777Z"
   },
   {
    "duration": 28,
    "start_time": "2024-02-09T08:15:17.786Z"
   },
   {
    "duration": 222,
    "start_time": "2024-02-09T08:15:17.815Z"
   },
   {
    "duration": 13,
    "start_time": "2024-02-09T08:15:18.039Z"
   },
   {
    "duration": 32,
    "start_time": "2024-02-09T08:15:18.054Z"
   },
   {
    "duration": 27,
    "start_time": "2024-02-09T08:15:18.087Z"
   },
   {
    "duration": 36,
    "start_time": "2024-02-09T08:15:18.115Z"
   },
   {
    "duration": 29,
    "start_time": "2024-02-09T08:15:18.152Z"
   },
   {
    "duration": 1451,
    "start_time": "2024-02-09T08:15:18.183Z"
   },
   {
    "duration": 0,
    "start_time": "2024-02-09T08:15:19.635Z"
   },
   {
    "duration": 9,
    "start_time": "2024-02-09T08:15:22.524Z"
   },
   {
    "duration": 7,
    "start_time": "2024-02-09T08:15:24.470Z"
   },
   {
    "duration": 5,
    "start_time": "2024-02-09T08:15:27.349Z"
   },
   {
    "duration": 6,
    "start_time": "2024-02-09T08:15:33.414Z"
   },
   {
    "duration": 5,
    "start_time": "2024-02-09T08:15:35.292Z"
   },
   {
    "duration": 26,
    "start_time": "2024-02-09T08:15:41.053Z"
   },
   {
    "duration": 8,
    "start_time": "2024-02-09T08:15:44.957Z"
   },
   {
    "duration": 20,
    "start_time": "2024-02-09T08:15:46.701Z"
   },
   {
    "duration": 3950,
    "start_time": "2024-02-09T08:15:58.096Z"
   },
   {
    "duration": 29,
    "start_time": "2024-02-09T08:16:02.048Z"
   },
   {
    "duration": 27,
    "start_time": "2024-02-09T08:16:08.898Z"
   },
   {
    "duration": 14,
    "start_time": "2024-02-09T08:16:13.667Z"
   },
   {
    "duration": 23654,
    "start_time": "2024-02-09T08:16:16.457Z"
   },
   {
    "duration": 14,
    "start_time": "2024-02-09T08:16:40.113Z"
   },
   {
    "duration": 29,
    "start_time": "2024-02-09T08:16:40.154Z"
   },
   {
    "duration": 11,
    "start_time": "2024-02-09T08:16:43.750Z"
   },
   {
    "duration": 9,
    "start_time": "2024-02-09T08:16:46.766Z"
   },
   {
    "duration": 12,
    "start_time": "2024-02-09T08:16:49.028Z"
   },
   {
    "duration": 129,
    "start_time": "2024-02-09T08:16:57.814Z"
   },
   {
    "duration": 15,
    "start_time": "2024-02-09T08:16:59.917Z"
   },
   {
    "duration": 2009,
    "start_time": "2024-02-09T08:17:02.020Z"
   },
   {
    "duration": 9,
    "start_time": "2024-02-09T08:17:05.668Z"
   },
   {
    "duration": 7,
    "start_time": "2024-02-09T08:17:09.299Z"
   },
   {
    "duration": 6,
    "start_time": "2024-02-09T08:17:10.806Z"
   },
   {
    "duration": 8,
    "start_time": "2024-02-09T08:17:13.484Z"
   },
   {
    "duration": 5,
    "start_time": "2024-02-09T08:17:15.734Z"
   },
   {
    "duration": 31,
    "start_time": "2024-02-09T08:17:18.347Z"
   },
   {
    "duration": 8,
    "start_time": "2024-02-09T08:17:20.188Z"
   },
   {
    "duration": 19,
    "start_time": "2024-02-09T08:17:21.449Z"
   },
   {
    "duration": 4040,
    "start_time": "2024-02-09T08:17:24.622Z"
   },
   {
    "duration": 32,
    "start_time": "2024-02-09T08:17:28.664Z"
   },
   {
    "duration": 28,
    "start_time": "2024-02-09T08:17:33.015Z"
   },
   {
    "duration": 12,
    "start_time": "2024-02-09T08:17:35.220Z"
   },
   {
    "duration": 24414,
    "start_time": "2024-02-09T08:17:37.155Z"
   },
   {
    "duration": 9,
    "start_time": "2024-02-09T08:18:04.267Z"
   },
   {
    "duration": 9,
    "start_time": "2024-02-09T08:18:06.698Z"
   },
   {
    "duration": 13,
    "start_time": "2024-02-09T08:18:08.880Z"
   },
   {
    "duration": 8,
    "start_time": "2024-02-09T08:18:12.426Z"
   },
   {
    "duration": 28,
    "start_time": "2024-02-09T08:18:14.922Z"
   },
   {
    "duration": 195,
    "start_time": "2024-02-09T08:18:18.139Z"
   },
   {
    "duration": 13,
    "start_time": "2024-02-09T08:18:21.334Z"
   },
   {
    "duration": 21,
    "start_time": "2024-02-09T08:18:23.695Z"
   },
   {
    "duration": 27,
    "start_time": "2024-02-09T08:18:29.739Z"
   },
   {
    "duration": 36,
    "start_time": "2024-02-09T08:18:33.654Z"
   },
   {
    "duration": 9,
    "start_time": "2024-02-09T08:19:39.356Z"
   },
   {
    "duration": 37,
    "start_time": "2024-02-09T08:19:52.371Z"
   },
   {
    "duration": 43,
    "start_time": "2024-02-09T08:20:49.032Z"
   },
   {
    "duration": 34,
    "start_time": "2024-02-09T08:21:15.253Z"
   },
   {
    "duration": 10,
    "start_time": "2024-02-09T08:21:19.459Z"
   },
   {
    "duration": 44,
    "start_time": "2024-02-09T08:22:27.345Z"
   },
   {
    "duration": 9,
    "start_time": "2024-02-09T08:22:38.774Z"
   },
   {
    "duration": 4,
    "start_time": "2024-02-09T08:30:15.833Z"
   },
   {
    "duration": 578,
    "start_time": "2024-02-09T08:36:55.201Z"
   },
   {
    "duration": 600,
    "start_time": "2024-02-09T08:37:08.286Z"
   },
   {
    "duration": 589,
    "start_time": "2024-02-09T08:38:07.609Z"
   },
   {
    "duration": 43,
    "start_time": "2024-02-09T08:38:33.450Z"
   },
   {
    "duration": 636,
    "start_time": "2024-02-09T08:39:53.202Z"
   },
   {
    "duration": 31,
    "start_time": "2024-02-09T08:40:12.035Z"
   },
   {
    "duration": 1459,
    "start_time": "2024-02-09T08:41:44.366Z"
   },
   {
    "duration": 11,
    "start_time": "2024-02-09T08:43:18.541Z"
   },
   {
    "duration": 16,
    "start_time": "2024-02-09T08:43:33.470Z"
   },
   {
    "duration": 44,
    "start_time": "2024-02-09T08:43:46.059Z"
   },
   {
    "duration": 4,
    "start_time": "2024-02-09T08:46:45.117Z"
   },
   {
    "duration": 35,
    "start_time": "2024-02-09T08:47:08.776Z"
   },
   {
    "duration": 562,
    "start_time": "2024-02-09T08:47:15.540Z"
   },
   {
    "duration": 17,
    "start_time": "2024-02-09T08:47:16.104Z"
   },
   {
    "duration": 2287,
    "start_time": "2024-02-09T08:47:16.123Z"
   },
   {
    "duration": 10,
    "start_time": "2024-02-09T08:47:18.411Z"
   },
   {
    "duration": 12,
    "start_time": "2024-02-09T08:47:18.423Z"
   },
   {
    "duration": 88,
    "start_time": "2024-02-09T08:47:18.437Z"
   },
   {
    "duration": 0,
    "start_time": "2024-02-09T08:47:18.527Z"
   },
   {
    "duration": 0,
    "start_time": "2024-02-09T08:47:18.529Z"
   },
   {
    "duration": 0,
    "start_time": "2024-02-09T08:47:18.530Z"
   },
   {
    "duration": 0,
    "start_time": "2024-02-09T08:47:18.531Z"
   },
   {
    "duration": 0,
    "start_time": "2024-02-09T08:47:18.533Z"
   },
   {
    "duration": 0,
    "start_time": "2024-02-09T08:47:18.534Z"
   },
   {
    "duration": 0,
    "start_time": "2024-02-09T08:47:18.535Z"
   },
   {
    "duration": 0,
    "start_time": "2024-02-09T08:47:18.536Z"
   },
   {
    "duration": 0,
    "start_time": "2024-02-09T08:47:18.537Z"
   },
   {
    "duration": 0,
    "start_time": "2024-02-09T08:47:18.538Z"
   },
   {
    "duration": 0,
    "start_time": "2024-02-09T08:47:18.539Z"
   },
   {
    "duration": 0,
    "start_time": "2024-02-09T08:47:18.540Z"
   },
   {
    "duration": 0,
    "start_time": "2024-02-09T08:47:18.541Z"
   },
   {
    "duration": 0,
    "start_time": "2024-02-09T08:47:18.542Z"
   },
   {
    "duration": 0,
    "start_time": "2024-02-09T08:47:18.543Z"
   },
   {
    "duration": 0,
    "start_time": "2024-02-09T08:47:18.543Z"
   },
   {
    "duration": 0,
    "start_time": "2024-02-09T08:47:18.573Z"
   },
   {
    "duration": 0,
    "start_time": "2024-02-09T08:47:18.574Z"
   },
   {
    "duration": 0,
    "start_time": "2024-02-09T08:47:18.575Z"
   },
   {
    "duration": 0,
    "start_time": "2024-02-09T08:47:18.576Z"
   },
   {
    "duration": 0,
    "start_time": "2024-02-09T08:47:18.578Z"
   },
   {
    "duration": 0,
    "start_time": "2024-02-09T08:47:18.579Z"
   },
   {
    "duration": 0,
    "start_time": "2024-02-09T08:47:18.580Z"
   },
   {
    "duration": 0,
    "start_time": "2024-02-09T08:47:18.581Z"
   },
   {
    "duration": 0,
    "start_time": "2024-02-09T08:47:18.583Z"
   },
   {
    "duration": 0,
    "start_time": "2024-02-09T08:47:18.584Z"
   },
   {
    "duration": 0,
    "start_time": "2024-02-09T08:47:18.585Z"
   },
   {
    "duration": 141,
    "start_time": "2024-02-09T08:47:40.638Z"
   },
   {
    "duration": 16,
    "start_time": "2024-02-09T08:47:43.685Z"
   },
   {
    "duration": 2085,
    "start_time": "2024-02-09T08:47:46.397Z"
   },
   {
    "duration": 9,
    "start_time": "2024-02-09T08:47:52.889Z"
   },
   {
    "duration": 5,
    "start_time": "2024-02-09T08:47:55.959Z"
   },
   {
    "duration": 13,
    "start_time": "2024-02-09T08:47:58.875Z"
   },
   {
    "duration": 12,
    "start_time": "2024-02-09T08:48:11.047Z"
   },
   {
    "duration": 117,
    "start_time": "2024-02-09T08:49:19.819Z"
   },
   {
    "duration": 14,
    "start_time": "2024-02-09T08:49:23.533Z"
   },
   {
    "duration": 2118,
    "start_time": "2024-02-09T08:49:25.827Z"
   },
   {
    "duration": 10,
    "start_time": "2024-02-09T08:49:32.317Z"
   },
   {
    "duration": 7,
    "start_time": "2024-02-09T08:49:35.546Z"
   },
   {
    "duration": 11,
    "start_time": "2024-02-09T08:49:38.966Z"
   },
   {
    "duration": 11,
    "start_time": "2024-02-09T08:50:58.686Z"
   },
   {
    "duration": 7,
    "start_time": "2024-02-09T08:51:24.844Z"
   },
   {
    "duration": 9,
    "start_time": "2024-02-09T08:51:26.833Z"
   },
   {
    "duration": 7,
    "start_time": "2024-02-09T08:51:28.081Z"
   },
   {
    "duration": 25,
    "start_time": "2024-02-09T08:51:29.712Z"
   },
   {
    "duration": 9,
    "start_time": "2024-02-09T08:51:33.166Z"
   },
   {
    "duration": 22,
    "start_time": "2024-02-09T08:51:35.338Z"
   },
   {
    "duration": 3989,
    "start_time": "2024-02-09T08:51:38.951Z"
   },
   {
    "duration": 27,
    "start_time": "2024-02-09T08:51:46.589Z"
   },
   {
    "duration": 27,
    "start_time": "2024-02-09T08:51:49.254Z"
   },
   {
    "duration": 11,
    "start_time": "2024-02-09T08:51:52.034Z"
   },
   {
    "duration": 24608,
    "start_time": "2024-02-09T08:51:55.330Z"
   },
   {
    "duration": 9,
    "start_time": "2024-02-09T08:52:22.274Z"
   },
   {
    "duration": 9,
    "start_time": "2024-02-09T08:52:26.447Z"
   },
   {
    "duration": 6,
    "start_time": "2024-02-09T08:52:33.097Z"
   },
   {
    "duration": 14,
    "start_time": "2024-02-09T08:52:37.118Z"
   },
   {
    "duration": 7,
    "start_time": "2024-02-09T08:52:40.342Z"
   },
   {
    "duration": 28,
    "start_time": "2024-02-09T08:52:44.437Z"
   },
   {
    "duration": 197,
    "start_time": "2024-02-09T08:52:47.711Z"
   },
   {
    "duration": 13,
    "start_time": "2024-02-09T08:52:52.132Z"
   },
   {
    "duration": 22,
    "start_time": "2024-02-09T08:52:53.347Z"
   },
   {
    "duration": 34,
    "start_time": "2024-02-09T08:52:56.328Z"
   },
   {
    "duration": 10,
    "start_time": "2024-02-09T08:52:59.624Z"
   },
   {
    "duration": 4,
    "start_time": "2024-02-09T08:53:03.258Z"
   },
   {
    "duration": 39,
    "start_time": "2024-02-09T08:53:05.441Z"
   },
   {
    "duration": 34,
    "start_time": "2024-02-09T08:54:01.007Z"
   },
   {
    "duration": 4,
    "start_time": "2024-02-09T09:04:38.230Z"
   },
   {
    "duration": 32,
    "start_time": "2024-02-09T09:04:52.910Z"
   },
   {
    "duration": 4,
    "start_time": "2024-02-09T09:06:57.282Z"
   },
   {
    "duration": 26,
    "start_time": "2024-02-09T09:07:14.979Z"
   },
   {
    "duration": 38,
    "start_time": "2024-02-09T09:09:24.989Z"
   },
   {
    "duration": 37,
    "start_time": "2024-02-09T09:09:54.104Z"
   },
   {
    "duration": 34,
    "start_time": "2024-02-09T09:10:37.982Z"
   },
   {
    "duration": 10,
    "start_time": "2024-02-09T09:13:45.173Z"
   },
   {
    "duration": 16,
    "start_time": "2024-02-09T09:16:24.445Z"
   },
   {
    "duration": 37,
    "start_time": "2024-02-09T09:17:31.590Z"
   },
   {
    "duration": 16,
    "start_time": "2024-02-09T09:17:54.808Z"
   },
   {
    "duration": 18,
    "start_time": "2024-02-09T09:18:19.153Z"
   },
   {
    "duration": 11,
    "start_time": "2024-02-09T09:18:26.151Z"
   },
   {
    "duration": 16,
    "start_time": "2024-02-09T09:19:21.884Z"
   },
   {
    "duration": 21,
    "start_time": "2024-02-09T09:19:27.981Z"
   },
   {
    "duration": 15,
    "start_time": "2024-02-09T09:20:28.644Z"
   },
   {
    "duration": 6,
    "start_time": "2024-02-09T09:21:47.259Z"
   },
   {
    "duration": 5,
    "start_time": "2024-02-09T09:22:09.638Z"
   },
   {
    "duration": 26,
    "start_time": "2024-02-09T09:22:17.928Z"
   },
   {
    "duration": 199,
    "start_time": "2024-02-09T09:24:21.582Z"
   },
   {
    "duration": 93,
    "start_time": "2024-02-09T09:26:44.168Z"
   },
   {
    "duration": 93,
    "start_time": "2024-02-09T09:27:08.917Z"
   },
   {
    "duration": 96,
    "start_time": "2024-02-09T09:27:50.317Z"
   },
   {
    "duration": 215,
    "start_time": "2024-02-09T09:28:07.667Z"
   },
   {
    "duration": 91,
    "start_time": "2024-02-09T09:29:17.148Z"
   },
   {
    "duration": 17,
    "start_time": "2024-02-09T09:30:23.288Z"
   },
   {
    "duration": 90,
    "start_time": "2024-02-09T09:30:28.048Z"
   },
   {
    "duration": 2862,
    "start_time": "2024-02-09T09:32:05.091Z"
   },
   {
    "duration": 2894,
    "start_time": "2024-02-09T09:32:09.625Z"
   },
   {
    "duration": 508,
    "start_time": "2024-02-09T09:33:32.212Z"
   },
   {
    "duration": 362,
    "start_time": "2024-02-09T09:33:49.774Z"
   },
   {
    "duration": 23,
    "start_time": "2024-02-09T09:33:52.383Z"
   },
   {
    "duration": 600,
    "start_time": "2024-02-10T05:01:17.398Z"
   },
   {
    "duration": 538,
    "start_time": "2024-02-10T05:01:25.341Z"
   },
   {
    "duration": 15,
    "start_time": "2024-02-10T05:01:25.881Z"
   },
   {
    "duration": 2468,
    "start_time": "2024-02-10T05:01:25.897Z"
   },
   {
    "duration": 11,
    "start_time": "2024-02-10T05:01:28.368Z"
   },
   {
    "duration": 8,
    "start_time": "2024-02-10T05:01:28.380Z"
   },
   {
    "duration": 8,
    "start_time": "2024-02-10T05:01:28.389Z"
   },
   {
    "duration": 9,
    "start_time": "2024-02-10T05:01:28.398Z"
   },
   {
    "duration": 11,
    "start_time": "2024-02-10T05:01:28.408Z"
   },
   {
    "duration": 26,
    "start_time": "2024-02-10T05:01:28.420Z"
   },
   {
    "duration": 28,
    "start_time": "2024-02-10T05:01:28.449Z"
   },
   {
    "duration": 25,
    "start_time": "2024-02-10T05:01:28.478Z"
   },
   {
    "duration": 3978,
    "start_time": "2024-02-10T05:01:28.504Z"
   },
   {
    "duration": 24,
    "start_time": "2024-02-10T05:01:32.483Z"
   },
   {
    "duration": 36,
    "start_time": "2024-02-10T05:01:32.509Z"
   },
   {
    "duration": 26,
    "start_time": "2024-02-10T05:01:32.547Z"
   },
   {
    "duration": 23513,
    "start_time": "2024-02-10T05:01:32.575Z"
   },
   {
    "duration": 10,
    "start_time": "2024-02-10T05:01:56.089Z"
   },
   {
    "duration": 12,
    "start_time": "2024-02-10T05:01:56.100Z"
   },
   {
    "duration": 14,
    "start_time": "2024-02-10T05:01:56.113Z"
   },
   {
    "duration": 8,
    "start_time": "2024-02-10T05:01:56.128Z"
   },
   {
    "duration": 56,
    "start_time": "2024-02-10T05:01:56.138Z"
   },
   {
    "duration": 209,
    "start_time": "2024-02-10T05:01:56.195Z"
   },
   {
    "duration": 13,
    "start_time": "2024-02-10T05:01:56.406Z"
   },
   {
    "duration": 22,
    "start_time": "2024-02-10T05:01:56.421Z"
   },
   {
    "duration": 50,
    "start_time": "2024-02-10T05:01:56.444Z"
   },
   {
    "duration": 8,
    "start_time": "2024-02-10T05:01:56.496Z"
   },
   {
    "duration": 3,
    "start_time": "2024-02-10T05:01:56.506Z"
   },
   {
    "duration": 12,
    "start_time": "2024-02-10T05:01:56.512Z"
   },
   {
    "duration": 12,
    "start_time": "2024-02-10T05:01:56.526Z"
   },
   {
    "duration": 7,
    "start_time": "2024-02-10T05:01:56.539Z"
   },
   {
    "duration": 372,
    "start_time": "2024-02-10T05:01:56.548Z"
   },
   {
    "duration": 26,
    "start_time": "2024-02-10T05:01:56.922Z"
   },
   {
    "duration": 78,
    "start_time": "2024-02-10T05:02:36.630Z"
   },
   {
    "duration": 27,
    "start_time": "2024-02-10T05:02:43.278Z"
   },
   {
    "duration": 24,
    "start_time": "2024-02-10T05:03:18.570Z"
   },
   {
    "duration": 8,
    "start_time": "2024-02-10T05:04:46.458Z"
   },
   {
    "duration": 6,
    "start_time": "2024-02-10T05:05:33.370Z"
   },
   {
    "duration": 9,
    "start_time": "2024-02-10T05:05:45.723Z"
   },
   {
    "duration": 7,
    "start_time": "2024-02-10T05:06:02.823Z"
   },
   {
    "duration": 11,
    "start_time": "2024-02-10T05:06:17.991Z"
   },
   {
    "duration": 9,
    "start_time": "2024-02-10T05:06:45.890Z"
   },
   {
    "duration": 50,
    "start_time": "2024-02-10T08:51:53.974Z"
   },
   {
    "duration": 769,
    "start_time": "2024-02-10T08:52:01.320Z"
   },
   {
    "duration": 16,
    "start_time": "2024-02-10T08:52:02.091Z"
   },
   {
    "duration": 2564,
    "start_time": "2024-02-10T08:52:02.108Z"
   },
   {
    "duration": 11,
    "start_time": "2024-02-10T08:52:04.674Z"
   },
   {
    "duration": 22,
    "start_time": "2024-02-10T08:52:04.686Z"
   },
   {
    "duration": 15,
    "start_time": "2024-02-10T08:52:04.710Z"
   },
   {
    "duration": 13,
    "start_time": "2024-02-10T08:52:04.727Z"
   },
   {
    "duration": 6,
    "start_time": "2024-02-10T08:52:04.742Z"
   },
   {
    "duration": 27,
    "start_time": "2024-02-10T08:52:04.749Z"
   },
   {
    "duration": 18,
    "start_time": "2024-02-10T08:52:04.778Z"
   },
   {
    "duration": 23,
    "start_time": "2024-02-10T08:52:04.798Z"
   },
   {
    "duration": 4161,
    "start_time": "2024-02-10T08:52:04.823Z"
   },
   {
    "duration": 26,
    "start_time": "2024-02-10T08:52:08.986Z"
   },
   {
    "duration": 46,
    "start_time": "2024-02-10T08:52:09.014Z"
   },
   {
    "duration": 15,
    "start_time": "2024-02-10T08:52:09.062Z"
   },
   {
    "duration": 24866,
    "start_time": "2024-02-10T08:52:09.079Z"
   },
   {
    "duration": 16,
    "start_time": "2024-02-10T08:52:33.947Z"
   },
   {
    "duration": 11,
    "start_time": "2024-02-10T08:52:33.964Z"
   },
   {
    "duration": 15,
    "start_time": "2024-02-10T08:52:33.977Z"
   },
   {
    "duration": 8,
    "start_time": "2024-02-10T08:52:33.994Z"
   },
   {
    "duration": 58,
    "start_time": "2024-02-10T08:52:34.004Z"
   },
   {
    "duration": 220,
    "start_time": "2024-02-10T08:52:34.063Z"
   },
   {
    "duration": 13,
    "start_time": "2024-02-10T08:52:34.285Z"
   },
   {
    "duration": 27,
    "start_time": "2024-02-10T08:52:34.300Z"
   },
   {
    "duration": 53,
    "start_time": "2024-02-10T08:52:34.328Z"
   },
   {
    "duration": 9,
    "start_time": "2024-02-10T08:52:34.382Z"
   },
   {
    "duration": 26,
    "start_time": "2024-02-10T08:52:34.393Z"
   },
   {
    "duration": 7,
    "start_time": "2024-02-10T08:52:34.424Z"
   },
   {
    "duration": 8,
    "start_time": "2024-02-10T08:52:34.459Z"
   },
   {
    "duration": 5,
    "start_time": "2024-02-10T08:52:34.469Z"
   },
   {
    "duration": 15,
    "start_time": "2024-02-10T08:52:34.475Z"
   },
   {
    "duration": 6,
    "start_time": "2024-02-10T08:52:34.492Z"
   },
   {
    "duration": 6,
    "start_time": "2024-02-10T08:52:34.499Z"
   },
   {
    "duration": 385,
    "start_time": "2024-02-10T08:52:34.507Z"
   },
   {
    "duration": 27,
    "start_time": "2024-02-10T08:52:34.894Z"
   },
   {
    "duration": 8,
    "start_time": "2024-02-10T08:57:23.969Z"
   },
   {
    "duration": 11,
    "start_time": "2024-02-10T08:57:42.782Z"
   },
   {
    "duration": 9,
    "start_time": "2024-02-10T08:59:03.658Z"
   },
   {
    "duration": 12,
    "start_time": "2024-02-10T08:59:18.184Z"
   },
   {
    "duration": 13,
    "start_time": "2024-02-10T09:03:12.683Z"
   },
   {
    "duration": 15,
    "start_time": "2024-02-10T09:03:52.163Z"
   },
   {
    "duration": 58,
    "start_time": "2024-02-10T09:06:37.838Z"
   },
   {
    "duration": 55,
    "start_time": "2024-02-10T09:07:34.017Z"
   },
   {
    "duration": 65,
    "start_time": "2024-02-10T09:09:06.668Z"
   },
   {
    "duration": 78,
    "start_time": "2024-02-10T09:09:57.419Z"
   },
   {
    "duration": 8,
    "start_time": "2024-02-10T09:11:55.455Z"
   },
   {
    "duration": 74,
    "start_time": "2024-02-10T09:13:56.340Z"
   },
   {
    "duration": 114,
    "start_time": "2024-02-10T09:14:09.890Z"
   },
   {
    "duration": 41,
    "start_time": "2024-02-10T09:15:05.638Z"
   },
   {
    "duration": 39,
    "start_time": "2024-02-10T09:15:30.197Z"
   },
   {
    "duration": 12,
    "start_time": "2024-02-10T09:15:47.056Z"
   },
   {
    "duration": 46,
    "start_time": "2024-02-10T09:18:30.508Z"
   },
   {
    "duration": 521,
    "start_time": "2024-02-10T09:19:25.906Z"
   },
   {
    "duration": 20,
    "start_time": "2024-02-10T09:19:26.434Z"
   },
   {
    "duration": 2365,
    "start_time": "2024-02-10T09:19:26.459Z"
   },
   {
    "duration": 11,
    "start_time": "2024-02-10T09:19:28.826Z"
   },
   {
    "duration": 8,
    "start_time": "2024-02-10T09:19:28.838Z"
   },
   {
    "duration": 6,
    "start_time": "2024-02-10T09:19:28.859Z"
   },
   {
    "duration": 13,
    "start_time": "2024-02-10T09:19:28.866Z"
   },
   {
    "duration": 5,
    "start_time": "2024-02-10T09:19:28.881Z"
   },
   {
    "duration": 27,
    "start_time": "2024-02-10T09:19:28.888Z"
   },
   {
    "duration": 9,
    "start_time": "2024-02-10T09:19:28.917Z"
   },
   {
    "duration": 22,
    "start_time": "2024-02-10T09:19:28.958Z"
   },
   {
    "duration": 4224,
    "start_time": "2024-02-10T09:19:28.982Z"
   },
   {
    "duration": 26,
    "start_time": "2024-02-10T09:19:33.208Z"
   },
   {
    "duration": 45,
    "start_time": "2024-02-10T09:19:33.236Z"
   },
   {
    "duration": 16,
    "start_time": "2024-02-10T09:19:33.283Z"
   },
   {
    "duration": 25081,
    "start_time": "2024-02-10T09:19:33.301Z"
   },
   {
    "duration": 9,
    "start_time": "2024-02-10T09:19:58.383Z"
   },
   {
    "duration": 10,
    "start_time": "2024-02-10T09:19:58.394Z"
   },
   {
    "duration": 29,
    "start_time": "2024-02-10T09:19:58.406Z"
   },
   {
    "duration": 4,
    "start_time": "2024-02-10T09:19:58.436Z"
   },
   {
    "duration": 45,
    "start_time": "2024-02-10T09:19:58.441Z"
   },
   {
    "duration": 225,
    "start_time": "2024-02-10T09:19:58.488Z"
   },
   {
    "duration": 16,
    "start_time": "2024-02-10T09:19:58.715Z"
   },
   {
    "duration": 41,
    "start_time": "2024-02-10T09:19:58.732Z"
   },
   {
    "duration": 36,
    "start_time": "2024-02-10T09:19:58.775Z"
   },
   {
    "duration": 10,
    "start_time": "2024-02-10T09:19:58.814Z"
   },
   {
    "duration": 52,
    "start_time": "2024-02-10T09:19:58.826Z"
   },
   {
    "duration": 9,
    "start_time": "2024-02-10T09:19:58.881Z"
   },
   {
    "duration": 19,
    "start_time": "2024-02-10T09:19:58.891Z"
   },
   {
    "duration": 5,
    "start_time": "2024-02-10T09:19:58.911Z"
   },
   {
    "duration": 16,
    "start_time": "2024-02-10T09:19:58.917Z"
   },
   {
    "duration": 27,
    "start_time": "2024-02-10T09:19:58.935Z"
   },
   {
    "duration": 7,
    "start_time": "2024-02-10T09:19:58.964Z"
   },
   {
    "duration": 361,
    "start_time": "2024-02-10T09:19:58.972Z"
   },
   {
    "duration": 33,
    "start_time": "2024-02-10T09:19:59.335Z"
   },
   {
    "duration": 3393,
    "start_time": "2024-02-10T09:20:39.096Z"
   },
   {
    "duration": 3206,
    "start_time": "2024-02-10T09:23:25.186Z"
   },
   {
    "duration": 6,
    "start_time": "2024-02-10T09:23:52.646Z"
   },
   {
    "duration": 14,
    "start_time": "2024-02-10T09:24:52.255Z"
   },
   {
    "duration": 76,
    "start_time": "2024-02-10T09:25:04.648Z"
   },
   {
    "duration": 22,
    "start_time": "2024-02-10T09:25:49.074Z"
   },
   {
    "duration": 13,
    "start_time": "2024-02-10T09:26:06.457Z"
   },
   {
    "duration": 12,
    "start_time": "2024-02-10T09:26:52.337Z"
   },
   {
    "duration": 15,
    "start_time": "2024-02-10T09:27:01.865Z"
   },
   {
    "duration": 13,
    "start_time": "2024-02-10T09:27:23.301Z"
   },
   {
    "duration": 3365,
    "start_time": "2024-02-10T09:28:07.759Z"
   },
   {
    "duration": 13,
    "start_time": "2024-02-10T09:29:51.539Z"
   },
   {
    "duration": 68,
    "start_time": "2024-02-10T09:30:58.593Z"
   },
   {
    "duration": 4855,
    "start_time": "2024-02-10T09:35:14.006Z"
   },
   {
    "duration": 4800,
    "start_time": "2024-02-10T09:36:17.214Z"
   },
   {
    "duration": 4813,
    "start_time": "2024-02-10T09:37:55.440Z"
   },
   {
    "duration": 32691,
    "start_time": "2024-02-10T09:40:29.773Z"
   },
   {
    "duration": 4845,
    "start_time": "2024-02-10T09:41:15.574Z"
   },
   {
    "duration": 5021,
    "start_time": "2024-02-10T09:42:12.017Z"
   },
   {
    "duration": 48,
    "start_time": "2024-02-10T09:46:34.013Z"
   },
   {
    "duration": 586,
    "start_time": "2024-02-10T09:46:50.775Z"
   },
   {
    "duration": 17,
    "start_time": "2024-02-10T09:46:51.364Z"
   },
   {
    "duration": 2485,
    "start_time": "2024-02-10T09:46:51.383Z"
   },
   {
    "duration": 10,
    "start_time": "2024-02-10T09:46:53.870Z"
   },
   {
    "duration": 17,
    "start_time": "2024-02-10T09:46:53.882Z"
   },
   {
    "duration": 8,
    "start_time": "2024-02-10T09:46:53.902Z"
   },
   {
    "duration": 11,
    "start_time": "2024-02-10T09:46:53.911Z"
   },
   {
    "duration": 8,
    "start_time": "2024-02-10T09:46:53.924Z"
   },
   {
    "duration": 55,
    "start_time": "2024-02-10T09:46:53.934Z"
   },
   {
    "duration": 9,
    "start_time": "2024-02-10T09:46:53.991Z"
   },
   {
    "duration": 35,
    "start_time": "2024-02-10T09:46:54.002Z"
   },
   {
    "duration": 4409,
    "start_time": "2024-02-10T09:46:54.039Z"
   },
   {
    "duration": 30,
    "start_time": "2024-02-10T09:46:58.450Z"
   },
   {
    "duration": 40,
    "start_time": "2024-02-10T09:46:58.482Z"
   },
   {
    "duration": 36,
    "start_time": "2024-02-10T09:46:58.524Z"
   },
   {
    "duration": 24844,
    "start_time": "2024-02-10T09:46:58.562Z"
   },
   {
    "duration": 9,
    "start_time": "2024-02-10T09:47:23.408Z"
   },
   {
    "duration": 11,
    "start_time": "2024-02-10T09:47:23.419Z"
   },
   {
    "duration": 31,
    "start_time": "2024-02-10T09:47:23.432Z"
   },
   {
    "duration": 4,
    "start_time": "2024-02-10T09:47:23.465Z"
   },
   {
    "duration": 32,
    "start_time": "2024-02-10T09:47:23.471Z"
   },
   {
    "duration": 230,
    "start_time": "2024-02-10T09:47:23.505Z"
   },
   {
    "duration": 23,
    "start_time": "2024-02-10T09:47:23.736Z"
   },
   {
    "duration": 27,
    "start_time": "2024-02-10T09:47:23.761Z"
   },
   {
    "duration": 35,
    "start_time": "2024-02-10T09:47:23.790Z"
   },
   {
    "duration": 9,
    "start_time": "2024-02-10T09:47:23.827Z"
   },
   {
    "duration": 43,
    "start_time": "2024-02-10T09:47:23.837Z"
   },
   {
    "duration": 7,
    "start_time": "2024-02-10T09:47:23.883Z"
   },
   {
    "duration": 67,
    "start_time": "2024-02-10T09:47:23.892Z"
   },
   {
    "duration": 4,
    "start_time": "2024-02-10T09:47:23.961Z"
   },
   {
    "duration": 18,
    "start_time": "2024-02-10T09:47:23.966Z"
   },
   {
    "duration": 28,
    "start_time": "2024-02-10T09:47:23.986Z"
   },
   {
    "duration": 6,
    "start_time": "2024-02-10T09:47:24.015Z"
   },
   {
    "duration": 373,
    "start_time": "2024-02-10T09:47:24.023Z"
   },
   {
    "duration": 27,
    "start_time": "2024-02-10T09:47:24.398Z"
   },
   {
    "duration": 8,
    "start_time": "2024-02-10T09:50:28.659Z"
   },
   {
    "duration": 42,
    "start_time": "2024-02-10T09:51:01.833Z"
   },
   {
    "duration": 45,
    "start_time": "2024-02-10T09:51:17.702Z"
   },
   {
    "duration": 42,
    "start_time": "2024-02-10T09:53:32.110Z"
   },
   {
    "duration": 13,
    "start_time": "2024-02-10T09:54:05.644Z"
   },
   {
    "duration": 66,
    "start_time": "2024-02-10T09:55:04.302Z"
   },
   {
    "duration": 94,
    "start_time": "2024-02-10T09:56:44.865Z"
   },
   {
    "duration": 64,
    "start_time": "2024-02-10T09:58:29.300Z"
   },
   {
    "duration": 145,
    "start_time": "2024-02-10T09:59:50.827Z"
   },
   {
    "duration": 4845,
    "start_time": "2024-02-10T10:01:21.079Z"
   },
   {
    "duration": 44,
    "start_time": "2024-02-10T10:05:39.644Z"
   },
   {
    "duration": 521,
    "start_time": "2024-02-10T10:05:58.512Z"
   },
   {
    "duration": 25,
    "start_time": "2024-02-10T10:05:59.035Z"
   },
   {
    "duration": 2458,
    "start_time": "2024-02-10T10:05:59.062Z"
   },
   {
    "duration": 11,
    "start_time": "2024-02-10T10:06:01.522Z"
   },
   {
    "duration": 19,
    "start_time": "2024-02-10T10:06:01.534Z"
   },
   {
    "duration": 20,
    "start_time": "2024-02-10T10:06:01.554Z"
   },
   {
    "duration": 52,
    "start_time": "2024-02-10T10:06:01.575Z"
   },
   {
    "duration": 38,
    "start_time": "2024-02-10T10:06:01.628Z"
   },
   {
    "duration": 53,
    "start_time": "2024-02-10T10:06:01.668Z"
   },
   {
    "duration": 15,
    "start_time": "2024-02-10T10:06:01.724Z"
   },
   {
    "duration": 44,
    "start_time": "2024-02-10T10:06:01.741Z"
   },
   {
    "duration": 4264,
    "start_time": "2024-02-10T10:06:01.786Z"
   },
   {
    "duration": 31,
    "start_time": "2024-02-10T10:06:06.052Z"
   },
   {
    "duration": 30,
    "start_time": "2024-02-10T10:06:06.084Z"
   },
   {
    "duration": 35,
    "start_time": "2024-02-10T10:06:06.124Z"
   },
   {
    "duration": 23952,
    "start_time": "2024-02-10T10:06:06.161Z"
   },
   {
    "duration": 10,
    "start_time": "2024-02-10T10:06:30.114Z"
   },
   {
    "duration": 51,
    "start_time": "2024-02-10T10:06:30.125Z"
   },
   {
    "duration": 46,
    "start_time": "2024-02-10T10:06:30.178Z"
   },
   {
    "duration": 30,
    "start_time": "2024-02-10T10:06:30.225Z"
   },
   {
    "duration": 85,
    "start_time": "2024-02-10T10:06:30.257Z"
   },
   {
    "duration": 321,
    "start_time": "2024-02-10T10:06:30.343Z"
   },
   {
    "duration": 14,
    "start_time": "2024-02-10T10:06:30.666Z"
   },
   {
    "duration": 98,
    "start_time": "2024-02-10T10:06:30.682Z"
   },
   {
    "duration": 77,
    "start_time": "2024-02-10T10:06:30.781Z"
   },
   {
    "duration": 66,
    "start_time": "2024-02-10T10:06:30.860Z"
   },
   {
    "duration": 57,
    "start_time": "2024-02-10T10:06:30.928Z"
   },
   {
    "duration": 35,
    "start_time": "2024-02-10T10:06:30.988Z"
   },
   {
    "duration": 68,
    "start_time": "2024-02-10T10:06:31.024Z"
   },
   {
    "duration": 23,
    "start_time": "2024-02-10T10:06:31.093Z"
   },
   {
    "duration": 23,
    "start_time": "2024-02-10T10:06:31.118Z"
   },
   {
    "duration": 48,
    "start_time": "2024-02-10T10:06:31.144Z"
   },
   {
    "duration": 37,
    "start_time": "2024-02-10T10:06:31.194Z"
   },
   {
    "duration": 10,
    "start_time": "2024-02-10T10:06:31.233Z"
   },
   {
    "duration": 386,
    "start_time": "2024-02-10T10:06:31.244Z"
   },
   {
    "duration": 31,
    "start_time": "2024-02-10T10:06:31.631Z"
   },
   {
    "duration": 15,
    "start_time": "2024-02-10T10:07:09.488Z"
   },
   {
    "duration": 16,
    "start_time": "2024-02-10T10:08:18.742Z"
   },
   {
    "duration": 9,
    "start_time": "2024-02-10T10:08:40.557Z"
   },
   {
    "duration": 14,
    "start_time": "2024-02-10T10:09:07.304Z"
   },
   {
    "duration": 26,
    "start_time": "2024-02-10T10:09:47.049Z"
   },
   {
    "duration": 548,
    "start_time": "2024-02-10T10:09:56.197Z"
   },
   {
    "duration": 17,
    "start_time": "2024-02-10T10:09:56.747Z"
   },
   {
    "duration": 2373,
    "start_time": "2024-02-10T10:09:56.767Z"
   },
   {
    "duration": 12,
    "start_time": "2024-02-10T10:09:59.142Z"
   },
   {
    "duration": 10,
    "start_time": "2024-02-10T10:09:59.157Z"
   },
   {
    "duration": 6,
    "start_time": "2024-02-10T10:09:59.169Z"
   },
   {
    "duration": 10,
    "start_time": "2024-02-10T10:09:59.176Z"
   },
   {
    "duration": 12,
    "start_time": "2024-02-10T10:09:59.187Z"
   },
   {
    "duration": 29,
    "start_time": "2024-02-10T10:09:59.201Z"
   },
   {
    "duration": 9,
    "start_time": "2024-02-10T10:09:59.259Z"
   },
   {
    "duration": 26,
    "start_time": "2024-02-10T10:09:59.269Z"
   },
   {
    "duration": 4292,
    "start_time": "2024-02-10T10:09:59.297Z"
   },
   {
    "duration": 25,
    "start_time": "2024-02-10T10:10:03.591Z"
   },
   {
    "duration": 55,
    "start_time": "2024-02-10T10:10:03.619Z"
   },
   {
    "duration": 16,
    "start_time": "2024-02-10T10:10:03.676Z"
   },
   {
    "duration": 24854,
    "start_time": "2024-02-10T10:10:03.693Z"
   },
   {
    "duration": 10,
    "start_time": "2024-02-10T10:10:28.549Z"
   },
   {
    "duration": 11,
    "start_time": "2024-02-10T10:10:28.561Z"
   },
   {
    "duration": 14,
    "start_time": "2024-02-10T10:10:28.574Z"
   },
   {
    "duration": 2,
    "start_time": "2024-02-10T10:10:28.590Z"
   },
   {
    "duration": 30,
    "start_time": "2024-02-10T10:10:28.594Z"
   },
   {
    "duration": 249,
    "start_time": "2024-02-10T10:10:28.626Z"
   },
   {
    "duration": 14,
    "start_time": "2024-02-10T10:10:28.877Z"
   },
   {
    "duration": 38,
    "start_time": "2024-02-10T10:10:28.892Z"
   },
   {
    "duration": 38,
    "start_time": "2024-02-10T10:10:28.932Z"
   },
   {
    "duration": 9,
    "start_time": "2024-02-10T10:10:28.971Z"
   },
   {
    "duration": 25,
    "start_time": "2024-02-10T10:10:28.982Z"
   },
   {
    "duration": 9,
    "start_time": "2024-02-10T10:10:29.009Z"
   },
   {
    "duration": 42,
    "start_time": "2024-02-10T10:10:29.019Z"
   },
   {
    "duration": 7,
    "start_time": "2024-02-10T10:10:29.063Z"
   },
   {
    "duration": 4,
    "start_time": "2024-02-10T10:10:29.072Z"
   },
   {
    "duration": 12,
    "start_time": "2024-02-10T10:10:29.078Z"
   },
   {
    "duration": 5,
    "start_time": "2024-02-10T10:10:29.092Z"
   },
   {
    "duration": 6,
    "start_time": "2024-02-10T10:10:29.099Z"
   },
   {
    "duration": 399,
    "start_time": "2024-02-10T10:10:29.106Z"
   },
   {
    "duration": 27,
    "start_time": "2024-02-10T10:10:29.506Z"
   },
   {
    "duration": 8,
    "start_time": "2024-02-10T10:11:09.650Z"
   },
   {
    "duration": 8,
    "start_time": "2024-02-10T10:16:20.760Z"
   },
   {
    "duration": 5,
    "start_time": "2024-02-10T10:22:08.509Z"
   },
   {
    "duration": 53,
    "start_time": "2024-02-10T10:23:37.119Z"
   },
   {
    "duration": 573,
    "start_time": "2024-02-10T10:25:34.572Z"
   },
   {
    "duration": 26,
    "start_time": "2024-02-10T10:25:35.147Z"
   },
   {
    "duration": 2521,
    "start_time": "2024-02-10T10:25:35.175Z"
   },
   {
    "duration": 11,
    "start_time": "2024-02-10T10:25:37.698Z"
   },
   {
    "duration": 17,
    "start_time": "2024-02-10T10:25:37.711Z"
   },
   {
    "duration": 15,
    "start_time": "2024-02-10T10:25:37.730Z"
   },
   {
    "duration": 17,
    "start_time": "2024-02-10T10:25:37.746Z"
   },
   {
    "duration": 16,
    "start_time": "2024-02-10T10:25:37.764Z"
   },
   {
    "duration": 30,
    "start_time": "2024-02-10T10:25:37.782Z"
   },
   {
    "duration": 9,
    "start_time": "2024-02-10T10:25:37.814Z"
   },
   {
    "duration": 38,
    "start_time": "2024-02-10T10:25:37.825Z"
   },
   {
    "duration": 4124,
    "start_time": "2024-02-10T10:25:37.865Z"
   },
   {
    "duration": 26,
    "start_time": "2024-02-10T10:25:41.991Z"
   },
   {
    "duration": 49,
    "start_time": "2024-02-10T10:25:42.020Z"
   },
   {
    "duration": 17,
    "start_time": "2024-02-10T10:25:42.071Z"
   },
   {
    "duration": 24303,
    "start_time": "2024-02-10T10:25:42.089Z"
   },
   {
    "duration": 10,
    "start_time": "2024-02-10T10:26:06.394Z"
   },
   {
    "duration": 12,
    "start_time": "2024-02-10T10:26:06.405Z"
   },
   {
    "duration": 16,
    "start_time": "2024-02-10T10:26:06.418Z"
   },
   {
    "duration": 24,
    "start_time": "2024-02-10T10:26:06.435Z"
   },
   {
    "duration": 31,
    "start_time": "2024-02-10T10:26:06.461Z"
   },
   {
    "duration": 241,
    "start_time": "2024-02-10T10:26:06.493Z"
   },
   {
    "duration": 25,
    "start_time": "2024-02-10T10:26:06.735Z"
   },
   {
    "duration": 25,
    "start_time": "2024-02-10T10:26:06.762Z"
   },
   {
    "duration": 35,
    "start_time": "2024-02-10T10:26:06.789Z"
   },
   {
    "duration": 9,
    "start_time": "2024-02-10T10:26:06.826Z"
   },
   {
    "duration": 44,
    "start_time": "2024-02-10T10:26:06.836Z"
   },
   {
    "duration": 7,
    "start_time": "2024-02-10T10:26:06.882Z"
   },
   {
    "duration": 16,
    "start_time": "2024-02-10T10:26:06.891Z"
   },
   {
    "duration": 77,
    "start_time": "2024-02-10T10:26:06.909Z"
   },
   {
    "duration": 5,
    "start_time": "2024-02-10T10:26:06.987Z"
   },
   {
    "duration": 15,
    "start_time": "2024-02-10T10:26:06.994Z"
   },
   {
    "duration": 5,
    "start_time": "2024-02-10T10:26:07.011Z"
   },
   {
    "duration": 6,
    "start_time": "2024-02-10T10:26:07.018Z"
   },
   {
    "duration": 382,
    "start_time": "2024-02-10T10:26:07.025Z"
   },
   {
    "duration": 27,
    "start_time": "2024-02-10T10:26:07.409Z"
   },
   {
    "duration": 15,
    "start_time": "2024-02-10T10:33:36.557Z"
   },
   {
    "duration": 5,
    "start_time": "2024-02-10T10:34:14.988Z"
   },
   {
    "duration": 75,
    "start_time": "2024-02-10T10:34:37.706Z"
   },
   {
    "duration": 11,
    "start_time": "2024-02-10T10:34:44.300Z"
   },
   {
    "duration": 7,
    "start_time": "2024-02-10T10:35:10.828Z"
   },
   {
    "duration": 122,
    "start_time": "2024-02-10T10:35:34.648Z"
   },
   {
    "duration": 200,
    "start_time": "2024-02-10T10:37:13.048Z"
   },
   {
    "duration": 125,
    "start_time": "2024-02-10T10:37:25.127Z"
   },
   {
    "duration": 9,
    "start_time": "2024-02-10T10:41:16.115Z"
   },
   {
    "duration": 119,
    "start_time": "2024-02-10T10:41:56.169Z"
   },
   {
    "duration": 243,
    "start_time": "2024-02-10T10:42:01.697Z"
   },
   {
    "duration": 151,
    "start_time": "2024-02-10T10:42:12.607Z"
   },
   {
    "duration": 160,
    "start_time": "2024-02-10T10:43:04.858Z"
   },
   {
    "duration": 181,
    "start_time": "2024-02-10T10:43:18.397Z"
   },
   {
    "duration": 9,
    "start_time": "2024-02-10T10:43:53.067Z"
   },
   {
    "duration": 175,
    "start_time": "2024-02-10T10:44:20.258Z"
   },
   {
    "duration": 167,
    "start_time": "2024-02-10T10:44:33.859Z"
   },
   {
    "duration": 10,
    "start_time": "2024-02-10T10:45:13.539Z"
   },
   {
    "duration": 157,
    "start_time": "2024-02-10T10:45:28.867Z"
   },
   {
    "duration": 10,
    "start_time": "2024-02-10T10:46:27.263Z"
   },
   {
    "duration": 242,
    "start_time": "2024-02-10T10:46:32.348Z"
   },
   {
    "duration": 161,
    "start_time": "2024-02-10T10:46:54.685Z"
   },
   {
    "duration": 158,
    "start_time": "2024-02-10T10:47:11.448Z"
   },
   {
    "duration": 168,
    "start_time": "2024-02-10T10:47:24.878Z"
   },
   {
    "duration": 167,
    "start_time": "2024-02-10T10:47:52.769Z"
   },
   {
    "duration": 192,
    "start_time": "2024-02-10T10:48:00.124Z"
   },
   {
    "duration": 181,
    "start_time": "2024-02-10T10:48:05.625Z"
   },
   {
    "duration": 171,
    "start_time": "2024-02-10T10:48:09.567Z"
   },
   {
    "duration": 9,
    "start_time": "2024-02-10T10:49:26.477Z"
   },
   {
    "duration": 178,
    "start_time": "2024-02-10T10:49:40.687Z"
   },
   {
    "duration": 174,
    "start_time": "2024-02-10T10:49:47.666Z"
   },
   {
    "duration": 10,
    "start_time": "2024-02-10T10:50:37.986Z"
   },
   {
    "duration": 188,
    "start_time": "2024-02-10T10:50:51.900Z"
   },
   {
    "duration": 285,
    "start_time": "2024-02-10T10:51:00.895Z"
   },
   {
    "duration": 173,
    "start_time": "2024-02-10T10:51:11.340Z"
   },
   {
    "duration": 10,
    "start_time": "2024-02-10T10:53:07.757Z"
   },
   {
    "duration": 158,
    "start_time": "2024-02-10T10:53:18.495Z"
   },
   {
    "duration": 130,
    "start_time": "2024-02-10T10:53:27.687Z"
   },
   {
    "duration": 9,
    "start_time": "2024-02-10T10:54:36.697Z"
   },
   {
    "duration": 167,
    "start_time": "2024-02-10T10:54:51.857Z"
   },
   {
    "duration": 172,
    "start_time": "2024-02-10T10:54:58.706Z"
   },
   {
    "duration": 10,
    "start_time": "2024-02-10T10:56:11.056Z"
   },
   {
    "duration": 164,
    "start_time": "2024-02-10T10:56:24.348Z"
   },
   {
    "duration": 155,
    "start_time": "2024-02-10T10:56:37.228Z"
   },
   {
    "duration": 151,
    "start_time": "2024-02-10T10:56:46.507Z"
   },
   {
    "duration": 163,
    "start_time": "2024-02-10T10:56:52.003Z"
   },
   {
    "duration": 9,
    "start_time": "2024-02-10T10:57:44.218Z"
   },
   {
    "duration": 164,
    "start_time": "2024-02-10T10:58:20.521Z"
   },
   {
    "duration": 182,
    "start_time": "2024-02-10T10:58:32.156Z"
   },
   {
    "duration": 10,
    "start_time": "2024-02-10T11:00:32.459Z"
   },
   {
    "duration": 9,
    "start_time": "2024-02-10T11:00:50.407Z"
   },
   {
    "duration": 12,
    "start_time": "2024-02-10T11:01:22.054Z"
   },
   {
    "duration": 574,
    "start_time": "2024-02-10T11:01:37.658Z"
   },
   {
    "duration": 25,
    "start_time": "2024-02-10T11:01:38.234Z"
   },
   {
    "duration": 2395,
    "start_time": "2024-02-10T11:01:38.261Z"
   },
   {
    "duration": 11,
    "start_time": "2024-02-10T11:01:40.657Z"
   },
   {
    "duration": 23,
    "start_time": "2024-02-10T11:01:40.670Z"
   },
   {
    "duration": 27,
    "start_time": "2024-02-10T11:01:40.695Z"
   },
   {
    "duration": 15,
    "start_time": "2024-02-10T11:01:40.724Z"
   },
   {
    "duration": 24,
    "start_time": "2024-02-10T11:01:40.741Z"
   },
   {
    "duration": 43,
    "start_time": "2024-02-10T11:01:40.767Z"
   },
   {
    "duration": 32,
    "start_time": "2024-02-10T11:01:40.811Z"
   },
   {
    "duration": 32,
    "start_time": "2024-02-10T11:01:40.845Z"
   },
   {
    "duration": 4290,
    "start_time": "2024-02-10T11:01:40.878Z"
   },
   {
    "duration": 28,
    "start_time": "2024-02-10T11:01:45.170Z"
   },
   {
    "duration": 37,
    "start_time": "2024-02-10T11:01:45.201Z"
   },
   {
    "duration": 29,
    "start_time": "2024-02-10T11:01:45.240Z"
   },
   {
    "duration": 24597,
    "start_time": "2024-02-10T11:01:45.271Z"
   },
   {
    "duration": 9,
    "start_time": "2024-02-10T11:02:09.869Z"
   },
   {
    "duration": 38,
    "start_time": "2024-02-10T11:02:09.880Z"
   },
   {
    "duration": 30,
    "start_time": "2024-02-10T11:02:09.920Z"
   },
   {
    "duration": 22,
    "start_time": "2024-02-10T11:02:09.951Z"
   },
   {
    "duration": 57,
    "start_time": "2024-02-10T11:02:09.975Z"
   },
   {
    "duration": 225,
    "start_time": "2024-02-10T11:02:10.034Z"
   },
   {
    "duration": 16,
    "start_time": "2024-02-10T11:02:10.260Z"
   },
   {
    "duration": 22,
    "start_time": "2024-02-10T11:02:10.278Z"
   },
   {
    "duration": 58,
    "start_time": "2024-02-10T11:02:10.302Z"
   },
   {
    "duration": 11,
    "start_time": "2024-02-10T11:02:10.362Z"
   },
   {
    "duration": 45,
    "start_time": "2024-02-10T11:02:10.375Z"
   },
   {
    "duration": 11,
    "start_time": "2024-02-10T11:02:10.422Z"
   },
   {
    "duration": 25,
    "start_time": "2024-02-10T11:02:10.435Z"
   },
   {
    "duration": 48,
    "start_time": "2024-02-10T11:02:10.462Z"
   },
   {
    "duration": 27,
    "start_time": "2024-02-10T11:02:10.511Z"
   },
   {
    "duration": 31,
    "start_time": "2024-02-10T11:02:10.540Z"
   },
   {
    "duration": 21,
    "start_time": "2024-02-10T11:02:10.573Z"
   },
   {
    "duration": 14,
    "start_time": "2024-02-10T11:02:10.596Z"
   },
   {
    "duration": 347,
    "start_time": "2024-02-10T11:02:10.612Z"
   },
   {
    "duration": 27,
    "start_time": "2024-02-10T11:02:10.961Z"
   },
   {
    "duration": 22,
    "start_time": "2024-02-10T11:02:10.990Z"
   },
   {
    "duration": 17,
    "start_time": "2024-02-10T11:02:11.014Z"
   },
   {
    "duration": 253,
    "start_time": "2024-02-10T11:02:11.033Z"
   },
   {
    "duration": 10,
    "start_time": "2024-02-10T11:02:11.288Z"
   },
   {
    "duration": 258,
    "start_time": "2024-02-10T11:02:11.303Z"
   },
   {
    "duration": 11,
    "start_time": "2024-02-10T11:02:11.563Z"
   },
   {
    "duration": 189,
    "start_time": "2024-02-10T11:02:11.575Z"
   },
   {
    "duration": 9,
    "start_time": "2024-02-10T11:02:11.767Z"
   },
   {
    "duration": 209,
    "start_time": "2024-02-10T11:02:11.777Z"
   },
   {
    "duration": 11,
    "start_time": "2024-02-10T11:02:11.988Z"
   },
   {
    "duration": 235,
    "start_time": "2024-02-10T11:02:12.001Z"
   },
   {
    "duration": 10,
    "start_time": "2024-02-10T11:02:12.238Z"
   },
   {
    "duration": 217,
    "start_time": "2024-02-10T11:02:12.259Z"
   },
   {
    "duration": 11,
    "start_time": "2024-02-10T11:02:12.478Z"
   },
   {
    "duration": 157,
    "start_time": "2024-02-10T11:02:12.491Z"
   },
   {
    "duration": 15,
    "start_time": "2024-02-10T11:02:12.650Z"
   },
   {
    "duration": 170,
    "start_time": "2024-02-10T11:02:12.667Z"
   },
   {
    "duration": 10,
    "start_time": "2024-02-10T11:02:12.838Z"
   },
   {
    "duration": 193,
    "start_time": "2024-02-10T11:02:12.859Z"
   },
   {
    "duration": 13,
    "start_time": "2024-02-10T11:02:13.053Z"
   },
   {
    "duration": 190,
    "start_time": "2024-02-10T11:02:13.068Z"
   },
   {
    "duration": 82,
    "start_time": "2024-02-10T11:02:55.609Z"
   },
   {
    "duration": 128,
    "start_time": "2024-02-10T11:03:03.134Z"
   },
   {
    "duration": 864,
    "start_time": "2024-02-10T11:03:11.776Z"
   },
   {
    "duration": 28,
    "start_time": "2024-02-10T11:03:12.642Z"
   },
   {
    "duration": 2160,
    "start_time": "2024-02-10T11:03:12.672Z"
   },
   {
    "duration": 12,
    "start_time": "2024-02-10T11:03:14.835Z"
   },
   {
    "duration": 12,
    "start_time": "2024-02-10T11:03:14.848Z"
   },
   {
    "duration": 7,
    "start_time": "2024-02-10T11:03:14.862Z"
   },
   {
    "duration": 10,
    "start_time": "2024-02-10T11:03:14.870Z"
   },
   {
    "duration": 6,
    "start_time": "2024-02-10T11:03:14.881Z"
   },
   {
    "duration": 27,
    "start_time": "2024-02-10T11:03:14.889Z"
   },
   {
    "duration": 45,
    "start_time": "2024-02-10T11:03:14.919Z"
   },
   {
    "duration": 23,
    "start_time": "2024-02-10T11:03:14.965Z"
   },
   {
    "duration": 4221,
    "start_time": "2024-02-10T11:03:14.990Z"
   },
   {
    "duration": 28,
    "start_time": "2024-02-10T11:03:19.212Z"
   },
   {
    "duration": 49,
    "start_time": "2024-02-10T11:03:19.241Z"
   },
   {
    "duration": 17,
    "start_time": "2024-02-10T11:03:19.291Z"
   },
   {
    "duration": 24507,
    "start_time": "2024-02-10T11:03:19.309Z"
   },
   {
    "duration": 9,
    "start_time": "2024-02-10T11:03:43.818Z"
   },
   {
    "duration": 11,
    "start_time": "2024-02-10T11:03:43.829Z"
   },
   {
    "duration": 14,
    "start_time": "2024-02-10T11:03:43.858Z"
   },
   {
    "duration": 4,
    "start_time": "2024-02-10T11:03:43.873Z"
   },
   {
    "duration": 33,
    "start_time": "2024-02-10T11:03:43.878Z"
   },
   {
    "duration": 223,
    "start_time": "2024-02-10T11:03:43.912Z"
   },
   {
    "duration": 21,
    "start_time": "2024-02-10T11:03:44.137Z"
   },
   {
    "duration": 22,
    "start_time": "2024-02-10T11:03:44.160Z"
   },
   {
    "duration": 39,
    "start_time": "2024-02-10T11:03:44.184Z"
   },
   {
    "duration": 9,
    "start_time": "2024-02-10T11:03:44.225Z"
   },
   {
    "duration": 46,
    "start_time": "2024-02-10T11:03:44.235Z"
   },
   {
    "duration": 10,
    "start_time": "2024-02-10T11:03:44.285Z"
   },
   {
    "duration": 16,
    "start_time": "2024-02-10T11:03:44.297Z"
   },
   {
    "duration": 14,
    "start_time": "2024-02-10T11:03:44.314Z"
   },
   {
    "duration": 4,
    "start_time": "2024-02-10T11:03:44.359Z"
   },
   {
    "duration": 16,
    "start_time": "2024-02-10T11:03:44.364Z"
   },
   {
    "duration": 5,
    "start_time": "2024-02-10T11:03:44.382Z"
   },
   {
    "duration": 8,
    "start_time": "2024-02-10T11:03:44.389Z"
   },
   {
    "duration": 374,
    "start_time": "2024-02-10T11:03:44.399Z"
   },
   {
    "duration": 26,
    "start_time": "2024-02-10T11:03:44.774Z"
   },
   {
    "duration": 16,
    "start_time": "2024-02-10T11:03:44.802Z"
   },
   {
    "duration": 9,
    "start_time": "2024-02-10T11:03:44.820Z"
   },
   {
    "duration": 213,
    "start_time": "2024-02-10T11:03:44.830Z"
   },
   {
    "duration": 17,
    "start_time": "2024-02-10T11:03:45.045Z"
   },
   {
    "duration": 251,
    "start_time": "2024-02-10T11:03:45.064Z"
   },
   {
    "duration": 9,
    "start_time": "2024-02-10T11:03:45.317Z"
   },
   {
    "duration": 180,
    "start_time": "2024-02-10T11:03:45.327Z"
   },
   {
    "duration": 10,
    "start_time": "2024-02-10T11:03:45.509Z"
   },
   {
    "duration": 213,
    "start_time": "2024-02-10T11:03:45.521Z"
   },
   {
    "duration": 9,
    "start_time": "2024-02-10T11:03:45.736Z"
   },
   {
    "duration": 180,
    "start_time": "2024-02-10T11:03:45.758Z"
   },
   {
    "duration": 19,
    "start_time": "2024-02-10T11:03:45.940Z"
   },
   {
    "duration": 180,
    "start_time": "2024-02-10T11:03:45.961Z"
   },
   {
    "duration": 15,
    "start_time": "2024-02-10T11:03:46.142Z"
   },
   {
    "duration": 137,
    "start_time": "2024-02-10T11:03:46.159Z"
   },
   {
    "duration": 8,
    "start_time": "2024-02-10T11:03:46.298Z"
   },
   {
    "duration": 182,
    "start_time": "2024-02-10T11:03:46.307Z"
   },
   {
    "duration": 10,
    "start_time": "2024-02-10T11:03:46.491Z"
   },
   {
    "duration": 194,
    "start_time": "2024-02-10T11:03:46.503Z"
   },
   {
    "duration": 10,
    "start_time": "2024-02-10T11:03:46.699Z"
   },
   {
    "duration": 173,
    "start_time": "2024-02-10T11:03:46.711Z"
   },
   {
    "duration": 8,
    "start_time": "2024-02-10T11:05:20.789Z"
   },
   {
    "duration": 5,
    "start_time": "2024-02-10T11:06:12.292Z"
   },
   {
    "duration": 7,
    "start_time": "2024-02-10T11:06:26.576Z"
   },
   {
    "duration": 807,
    "start_time": "2024-02-10T11:57:23.693Z"
   },
   {
    "duration": 16,
    "start_time": "2024-02-10T11:57:24.503Z"
   },
   {
    "duration": 2156,
    "start_time": "2024-02-10T11:57:24.520Z"
   },
   {
    "duration": 10,
    "start_time": "2024-02-10T11:57:26.678Z"
   },
   {
    "duration": 9,
    "start_time": "2024-02-10T11:57:26.689Z"
   },
   {
    "duration": 5,
    "start_time": "2024-02-10T11:57:26.700Z"
   },
   {
    "duration": 15,
    "start_time": "2024-02-10T11:57:26.707Z"
   },
   {
    "duration": 15,
    "start_time": "2024-02-10T11:57:26.724Z"
   },
   {
    "duration": 30,
    "start_time": "2024-02-10T11:57:26.740Z"
   },
   {
    "duration": 9,
    "start_time": "2024-02-10T11:57:26.773Z"
   },
   {
    "duration": 25,
    "start_time": "2024-02-10T11:57:26.783Z"
   },
   {
    "duration": 4244,
    "start_time": "2024-02-10T11:57:26.810Z"
   },
   {
    "duration": 27,
    "start_time": "2024-02-10T11:57:31.059Z"
   },
   {
    "duration": 35,
    "start_time": "2024-02-10T11:57:31.088Z"
   },
   {
    "duration": 18,
    "start_time": "2024-02-10T11:57:31.124Z"
   },
   {
    "duration": 24889,
    "start_time": "2024-02-10T11:57:31.159Z"
   },
   {
    "duration": 16,
    "start_time": "2024-02-10T11:57:56.050Z"
   },
   {
    "duration": 12,
    "start_time": "2024-02-10T11:57:56.067Z"
   },
   {
    "duration": 20,
    "start_time": "2024-02-10T11:57:56.081Z"
   },
   {
    "duration": 2,
    "start_time": "2024-02-10T11:57:56.103Z"
   },
   {
    "duration": 52,
    "start_time": "2024-02-10T11:57:56.106Z"
   },
   {
    "duration": 215,
    "start_time": "2024-02-10T11:57:56.160Z"
   },
   {
    "duration": 14,
    "start_time": "2024-02-10T11:57:56.376Z"
   },
   {
    "duration": 34,
    "start_time": "2024-02-10T11:57:56.392Z"
   },
   {
    "duration": 44,
    "start_time": "2024-02-10T11:57:56.427Z"
   },
   {
    "duration": 9,
    "start_time": "2024-02-10T11:57:56.473Z"
   },
   {
    "duration": 38,
    "start_time": "2024-02-10T11:57:56.484Z"
   },
   {
    "duration": 9,
    "start_time": "2024-02-10T11:57:56.526Z"
   },
   {
    "duration": 36,
    "start_time": "2024-02-10T11:57:56.536Z"
   },
   {
    "duration": 8,
    "start_time": "2024-02-10T11:57:56.574Z"
   },
   {
    "duration": 8,
    "start_time": "2024-02-10T11:57:56.584Z"
   },
   {
    "duration": 15,
    "start_time": "2024-02-10T11:57:56.593Z"
   },
   {
    "duration": 7,
    "start_time": "2024-02-10T11:57:56.609Z"
   },
   {
    "duration": 7,
    "start_time": "2024-02-10T11:57:56.617Z"
   },
   {
    "duration": 429,
    "start_time": "2024-02-10T11:57:56.625Z"
   },
   {
    "duration": 27,
    "start_time": "2024-02-10T11:57:57.056Z"
   },
   {
    "duration": 15,
    "start_time": "2024-02-10T11:57:57.085Z"
   },
   {
    "duration": 38,
    "start_time": "2024-02-10T11:57:57.101Z"
   },
   {
    "duration": 43,
    "start_time": "2024-02-10T11:57:57.140Z"
   },
   {
    "duration": 187,
    "start_time": "2024-02-10T11:57:57.185Z"
   },
   {
    "duration": 9,
    "start_time": "2024-02-10T11:57:57.373Z"
   },
   {
    "duration": 261,
    "start_time": "2024-02-10T11:57:57.383Z"
   },
   {
    "duration": 13,
    "start_time": "2024-02-10T11:57:57.646Z"
   },
   {
    "duration": 165,
    "start_time": "2024-02-10T11:57:57.661Z"
   },
   {
    "duration": 10,
    "start_time": "2024-02-10T11:57:57.827Z"
   },
   {
    "duration": 192,
    "start_time": "2024-02-10T11:57:57.838Z"
   },
   {
    "duration": 8,
    "start_time": "2024-02-10T11:57:58.032Z"
   },
   {
    "duration": 251,
    "start_time": "2024-02-10T11:57:58.042Z"
   },
   {
    "duration": 10,
    "start_time": "2024-02-10T11:57:58.294Z"
   },
   {
    "duration": 196,
    "start_time": "2024-02-10T11:57:58.305Z"
   },
   {
    "duration": 10,
    "start_time": "2024-02-10T11:57:58.502Z"
   },
   {
    "duration": 150,
    "start_time": "2024-02-10T11:57:58.514Z"
   },
   {
    "duration": 9,
    "start_time": "2024-02-10T11:57:58.665Z"
   },
   {
    "duration": 186,
    "start_time": "2024-02-10T11:57:58.675Z"
   },
   {
    "duration": 9,
    "start_time": "2024-02-10T11:57:58.863Z"
   },
   {
    "duration": 207,
    "start_time": "2024-02-10T11:57:58.874Z"
   },
   {
    "duration": 9,
    "start_time": "2024-02-10T11:57:59.082Z"
   },
   {
    "duration": 174,
    "start_time": "2024-02-10T11:57:59.093Z"
   },
   {
    "duration": 57,
    "start_time": "2024-02-10T12:00:45.393Z"
   },
   {
    "duration": 38,
    "start_time": "2024-02-10T12:01:34.151Z"
   },
   {
    "duration": 37,
    "start_time": "2024-02-10T12:01:41.279Z"
   },
   {
    "duration": 80,
    "start_time": "2024-02-10T12:05:23.911Z"
   },
   {
    "duration": 95,
    "start_time": "2024-02-10T12:07:49.220Z"
   },
   {
    "duration": 25,
    "start_time": "2024-02-10T12:08:04.002Z"
   },
   {
    "duration": 202,
    "start_time": "2024-02-10T12:08:40.760Z"
   },
   {
    "duration": 43,
    "start_time": "2024-02-10T12:10:14.479Z"
   },
   {
    "duration": 200,
    "start_time": "2024-02-10T12:13:02.250Z"
   },
   {
    "duration": 845,
    "start_time": "2024-02-10T12:53:04.662Z"
   },
   {
    "duration": 17,
    "start_time": "2024-02-10T12:53:05.510Z"
   },
   {
    "duration": 2108,
    "start_time": "2024-02-10T12:53:05.528Z"
   },
   {
    "duration": 10,
    "start_time": "2024-02-10T12:53:07.637Z"
   },
   {
    "duration": 9,
    "start_time": "2024-02-10T12:53:07.649Z"
   },
   {
    "duration": 6,
    "start_time": "2024-02-10T12:53:07.660Z"
   },
   {
    "duration": 8,
    "start_time": "2024-02-10T12:53:07.667Z"
   },
   {
    "duration": 5,
    "start_time": "2024-02-10T12:53:07.677Z"
   },
   {
    "duration": 26,
    "start_time": "2024-02-10T12:53:07.684Z"
   },
   {
    "duration": 8,
    "start_time": "2024-02-10T12:53:07.711Z"
   },
   {
    "duration": 58,
    "start_time": "2024-02-10T12:53:07.721Z"
   },
   {
    "duration": 4143,
    "start_time": "2024-02-10T12:53:07.780Z"
   },
   {
    "duration": 34,
    "start_time": "2024-02-10T12:53:11.925Z"
   },
   {
    "duration": 27,
    "start_time": "2024-02-10T12:53:11.963Z"
   },
   {
    "duration": 16,
    "start_time": "2024-02-10T12:53:11.992Z"
   },
   {
    "duration": 24769,
    "start_time": "2024-02-10T12:53:12.009Z"
   },
   {
    "duration": 9,
    "start_time": "2024-02-10T12:53:36.780Z"
   },
   {
    "duration": 25,
    "start_time": "2024-02-10T12:53:36.791Z"
   },
   {
    "duration": 16,
    "start_time": "2024-02-10T12:53:36.817Z"
   },
   {
    "duration": 2,
    "start_time": "2024-02-10T12:53:36.834Z"
   },
   {
    "duration": 42,
    "start_time": "2024-02-10T12:53:36.838Z"
   },
   {
    "duration": 237,
    "start_time": "2024-02-10T12:53:36.881Z"
   },
   {
    "duration": 16,
    "start_time": "2024-02-10T12:53:37.120Z"
   },
   {
    "duration": 34,
    "start_time": "2024-02-10T12:53:37.138Z"
   },
   {
    "duration": 38,
    "start_time": "2024-02-10T12:53:37.174Z"
   },
   {
    "duration": 9,
    "start_time": "2024-02-10T12:53:37.214Z"
   },
   {
    "duration": 52,
    "start_time": "2024-02-10T12:53:37.224Z"
   },
   {
    "duration": 10,
    "start_time": "2024-02-10T12:53:37.277Z"
   },
   {
    "duration": 14,
    "start_time": "2024-02-10T12:53:37.289Z"
   },
   {
    "duration": 19,
    "start_time": "2024-02-10T12:53:37.304Z"
   },
   {
    "duration": 4,
    "start_time": "2024-02-10T12:53:37.325Z"
   },
   {
    "duration": 37,
    "start_time": "2024-02-10T12:53:37.331Z"
   },
   {
    "duration": 41,
    "start_time": "2024-02-10T12:53:37.370Z"
   },
   {
    "duration": 26,
    "start_time": "2024-02-10T12:53:37.412Z"
   },
   {
    "duration": 355,
    "start_time": "2024-02-10T12:53:37.440Z"
   },
   {
    "duration": 27,
    "start_time": "2024-02-10T12:53:37.796Z"
   },
   {
    "duration": 10,
    "start_time": "2024-02-10T12:53:37.825Z"
   },
   {
    "duration": 59,
    "start_time": "2024-02-10T12:53:37.837Z"
   },
   {
    "duration": 35,
    "start_time": "2024-02-10T12:53:37.898Z"
   },
   {
    "duration": 205,
    "start_time": "2024-02-10T12:53:37.935Z"
   },
   {
    "duration": 18,
    "start_time": "2024-02-10T12:53:38.145Z"
   },
   {
    "duration": 243,
    "start_time": "2024-02-10T12:53:38.165Z"
   },
   {
    "duration": 10,
    "start_time": "2024-02-10T12:53:38.410Z"
   },
   {
    "duration": 180,
    "start_time": "2024-02-10T12:53:38.422Z"
   },
   {
    "duration": 9,
    "start_time": "2024-02-10T12:53:38.603Z"
   },
   {
    "duration": 46,
    "start_time": "2024-02-10T12:53:38.614Z"
   },
   {
    "duration": 191,
    "start_time": "2024-02-10T12:53:38.661Z"
   },
   {
    "duration": 11,
    "start_time": "2024-02-10T12:53:38.854Z"
   },
   {
    "duration": 34,
    "start_time": "2024-02-10T12:53:38.867Z"
   },
   {
    "duration": 195,
    "start_time": "2024-02-10T12:53:38.903Z"
   },
   {
    "duration": 10,
    "start_time": "2024-02-10T12:53:39.100Z"
   },
   {
    "duration": 201,
    "start_time": "2024-02-10T12:53:39.112Z"
   },
   {
    "duration": 10,
    "start_time": "2024-02-10T12:53:39.316Z"
   },
   {
    "duration": 149,
    "start_time": "2024-02-10T12:53:39.328Z"
   },
   {
    "duration": 9,
    "start_time": "2024-02-10T12:53:39.479Z"
   },
   {
    "duration": 187,
    "start_time": "2024-02-10T12:53:39.490Z"
   },
   {
    "duration": 10,
    "start_time": "2024-02-10T12:53:39.678Z"
   },
   {
    "duration": 171,
    "start_time": "2024-02-10T12:53:39.696Z"
   },
   {
    "duration": 8,
    "start_time": "2024-02-10T12:53:39.869Z"
   },
   {
    "duration": 168,
    "start_time": "2024-02-10T12:53:39.879Z"
   },
   {
    "duration": 12307,
    "start_time": "2024-02-10T13:02:00.260Z"
   },
   {
    "duration": 182,
    "start_time": "2024-02-10T13:02:12.570Z"
   },
   {
    "duration": 36,
    "start_time": "2024-02-10T13:03:13.670Z"
   },
   {
    "duration": 35,
    "start_time": "2024-02-10T13:04:16.689Z"
   },
   {
    "duration": 12,
    "start_time": "2024-02-10T13:10:42.930Z"
   },
   {
    "duration": 12355,
    "start_time": "2024-02-10T13:13:25.793Z"
   },
   {
    "duration": 12433,
    "start_time": "2024-02-10T13:13:55.370Z"
   },
   {
    "duration": 170,
    "start_time": "2024-02-10T13:14:54.519Z"
   },
   {
    "duration": 34,
    "start_time": "2024-02-10T13:15:48.151Z"
   },
   {
    "duration": 16,
    "start_time": "2024-02-10T13:17:32.289Z"
   },
   {
    "duration": 256,
    "start_time": "2024-02-10T13:18:18.589Z"
   },
   {
    "duration": 179,
    "start_time": "2024-02-10T13:18:32.940Z"
   },
   {
    "duration": 46,
    "start_time": "2024-02-10T13:20:17.082Z"
   },
   {
    "duration": 43,
    "start_time": "2024-02-10T13:20:32.406Z"
   },
   {
    "duration": 71,
    "start_time": "2024-02-10T13:21:38.952Z"
   },
   {
    "duration": 102,
    "start_time": "2024-02-10T13:22:19.368Z"
   },
   {
    "duration": 47,
    "start_time": "2024-02-10T13:22:33.749Z"
   },
   {
    "duration": 38,
    "start_time": "2024-02-10T13:23:46.579Z"
   },
   {
    "duration": 41,
    "start_time": "2024-02-10T13:25:31.286Z"
   },
   {
    "duration": 209,
    "start_time": "2024-02-10T13:29:56.489Z"
   },
   {
    "duration": 262,
    "start_time": "2024-02-10T13:30:05.477Z"
   },
   {
    "duration": 51,
    "start_time": "2024-02-10T13:31:38.351Z"
   },
   {
    "duration": 28,
    "start_time": "2024-02-10T13:32:02.811Z"
   },
   {
    "duration": 8,
    "start_time": "2024-02-10T13:32:16.049Z"
   },
   {
    "duration": 7,
    "start_time": "2024-02-10T13:32:29.646Z"
   },
   {
    "duration": 8,
    "start_time": "2024-02-10T13:32:34.248Z"
   },
   {
    "duration": 8,
    "start_time": "2024-02-10T13:36:07.595Z"
   },
   {
    "duration": 29,
    "start_time": "2024-02-10T13:36:15.950Z"
   },
   {
    "duration": 1250,
    "start_time": "2024-02-10T13:41:23.451Z"
   },
   {
    "duration": 6,
    "start_time": "2024-02-10T13:45:09.598Z"
   },
   {
    "duration": 5,
    "start_time": "2024-02-10T13:50:12.492Z"
   },
   {
    "duration": 5,
    "start_time": "2024-02-10T13:50:29.620Z"
   },
   {
    "duration": 5,
    "start_time": "2024-02-10T13:50:45.092Z"
   },
   {
    "duration": 15,
    "start_time": "2024-02-10T13:51:53.401Z"
   },
   {
    "duration": 5,
    "start_time": "2024-02-10T13:53:06.043Z"
   },
   {
    "duration": 5,
    "start_time": "2024-02-10T13:53:21.569Z"
   },
   {
    "duration": 9,
    "start_time": "2024-02-10T13:54:18.000Z"
   },
   {
    "duration": 14,
    "start_time": "2024-02-10T13:55:15.571Z"
   },
   {
    "duration": 8,
    "start_time": "2024-02-10T13:55:32.811Z"
   },
   {
    "duration": 33,
    "start_time": "2024-02-10T13:56:25.291Z"
   },
   {
    "duration": 31,
    "start_time": "2024-02-10T13:56:46.331Z"
   },
   {
    "duration": 10,
    "start_time": "2024-02-10T13:57:12.261Z"
   },
   {
    "duration": 10,
    "start_time": "2024-02-10T13:57:31.346Z"
   },
   {
    "duration": 9,
    "start_time": "2024-02-10T13:57:35.232Z"
   },
   {
    "duration": 325,
    "start_time": "2024-02-10T13:58:29.292Z"
   },
   {
    "duration": 6,
    "start_time": "2024-02-10T13:59:16.360Z"
   },
   {
    "duration": 318,
    "start_time": "2024-02-10T14:02:34.112Z"
   },
   {
    "duration": 2,
    "start_time": "2024-02-10T14:02:50.823Z"
   },
   {
    "duration": 5,
    "start_time": "2024-02-10T14:03:21.456Z"
   },
   {
    "duration": 81,
    "start_time": "2024-02-10T14:03:42.104Z"
   },
   {
    "duration": 6,
    "start_time": "2024-02-10T14:03:54.571Z"
   },
   {
    "duration": 6,
    "start_time": "2024-02-10T14:04:09.730Z"
   },
   {
    "duration": 6,
    "start_time": "2024-02-10T14:04:54.922Z"
   },
   {
    "duration": 42,
    "start_time": "2024-02-10T14:07:39.289Z"
   },
   {
    "duration": 871,
    "start_time": "2024-02-10T14:08:59.601Z"
   },
   {
    "duration": 16,
    "start_time": "2024-02-10T14:09:00.475Z"
   },
   {
    "duration": 2324,
    "start_time": "2024-02-10T14:09:00.492Z"
   },
   {
    "duration": 10,
    "start_time": "2024-02-10T14:09:02.818Z"
   },
   {
    "duration": 62,
    "start_time": "2024-02-10T14:09:02.830Z"
   },
   {
    "duration": 44,
    "start_time": "2024-02-10T14:09:02.894Z"
   },
   {
    "duration": 38,
    "start_time": "2024-02-10T14:09:02.939Z"
   },
   {
    "duration": 47,
    "start_time": "2024-02-10T14:09:02.979Z"
   },
   {
    "duration": 95,
    "start_time": "2024-02-10T14:09:03.028Z"
   },
   {
    "duration": 48,
    "start_time": "2024-02-10T14:09:03.126Z"
   },
   {
    "duration": 50,
    "start_time": "2024-02-10T14:09:03.176Z"
   },
   {
    "duration": 4476,
    "start_time": "2024-02-10T14:09:03.228Z"
   },
   {
    "duration": 26,
    "start_time": "2024-02-10T14:09:07.705Z"
   },
   {
    "duration": 47,
    "start_time": "2024-02-10T14:09:07.732Z"
   },
   {
    "duration": 15,
    "start_time": "2024-02-10T14:09:07.781Z"
   },
   {
    "duration": 25134,
    "start_time": "2024-02-10T14:09:07.798Z"
   },
   {
    "duration": 9,
    "start_time": "2024-02-10T14:09:32.933Z"
   },
   {
    "duration": 36,
    "start_time": "2024-02-10T14:09:32.944Z"
   },
   {
    "duration": 22,
    "start_time": "2024-02-10T14:09:32.981Z"
   },
   {
    "duration": 63,
    "start_time": "2024-02-10T14:09:33.005Z"
   },
   {
    "duration": 61,
    "start_time": "2024-02-10T14:09:33.070Z"
   },
   {
    "duration": 256,
    "start_time": "2024-02-10T14:09:33.132Z"
   },
   {
    "duration": 13,
    "start_time": "2024-02-10T14:09:33.390Z"
   },
   {
    "duration": 23,
    "start_time": "2024-02-10T14:09:33.405Z"
   },
   {
    "duration": 56,
    "start_time": "2024-02-10T14:09:33.429Z"
   },
   {
    "duration": 10,
    "start_time": "2024-02-10T14:09:33.486Z"
   },
   {
    "duration": 24,
    "start_time": "2024-02-10T14:09:33.497Z"
   },
   {
    "duration": 34,
    "start_time": "2024-02-10T14:09:33.525Z"
   },
   {
    "duration": 22,
    "start_time": "2024-02-10T14:09:33.561Z"
   },
   {
    "duration": 11,
    "start_time": "2024-02-10T14:09:33.585Z"
   },
   {
    "duration": 4,
    "start_time": "2024-02-10T14:09:33.598Z"
   },
   {
    "duration": 14,
    "start_time": "2024-02-10T14:09:33.604Z"
   },
   {
    "duration": 5,
    "start_time": "2024-02-10T14:09:33.620Z"
   },
   {
    "duration": 35,
    "start_time": "2024-02-10T14:09:33.627Z"
   },
   {
    "duration": 378,
    "start_time": "2024-02-10T14:09:33.667Z"
   },
   {
    "duration": 33,
    "start_time": "2024-02-10T14:09:34.047Z"
   },
   {
    "duration": 9,
    "start_time": "2024-02-10T14:09:34.082Z"
   },
   {
    "duration": 34,
    "start_time": "2024-02-10T14:09:34.092Z"
   },
   {
    "duration": 62,
    "start_time": "2024-02-10T14:09:34.127Z"
   },
   {
    "duration": 211,
    "start_time": "2024-02-10T14:09:34.190Z"
   },
   {
    "duration": 9,
    "start_time": "2024-02-10T14:09:34.402Z"
   },
   {
    "duration": 260,
    "start_time": "2024-02-10T14:09:34.413Z"
   },
   {
    "duration": 9,
    "start_time": "2024-02-10T14:09:34.675Z"
   },
   {
    "duration": 185,
    "start_time": "2024-02-10T14:09:34.685Z"
   },
   {
    "duration": 13,
    "start_time": "2024-02-10T14:09:34.871Z"
   },
   {
    "duration": 36,
    "start_time": "2024-02-10T14:09:34.886Z"
   },
   {
    "duration": 215,
    "start_time": "2024-02-10T14:09:34.925Z"
   },
   {
    "duration": 22,
    "start_time": "2024-02-10T14:09:35.142Z"
   },
   {
    "duration": 37,
    "start_time": "2024-02-10T14:09:35.171Z"
   },
   {
    "duration": 12206,
    "start_time": "2024-02-10T14:09:35.209Z"
   },
   {
    "duration": 195,
    "start_time": "2024-02-10T14:09:47.417Z"
   },
   {
    "duration": 9,
    "start_time": "2024-02-10T14:09:47.614Z"
   },
   {
    "duration": 52,
    "start_time": "2024-02-10T14:09:47.625Z"
   },
   {
    "duration": 12,
    "start_time": "2024-02-10T14:09:47.679Z"
   },
   {
    "duration": 13013,
    "start_time": "2024-02-10T14:09:47.692Z"
   },
   {
    "duration": 192,
    "start_time": "2024-02-10T14:10:00.707Z"
   },
   {
    "duration": 11,
    "start_time": "2024-02-10T14:10:00.901Z"
   },
   {
    "duration": 173,
    "start_time": "2024-02-10T14:10:00.914Z"
   },
   {
    "duration": 8,
    "start_time": "2024-02-10T14:10:01.089Z"
   },
   {
    "duration": 234,
    "start_time": "2024-02-10T14:10:01.099Z"
   },
   {
    "duration": 49,
    "start_time": "2024-02-10T14:10:01.334Z"
   },
   {
    "duration": 9,
    "start_time": "2024-02-10T14:10:01.385Z"
   },
   {
    "duration": 202,
    "start_time": "2024-02-10T14:10:01.396Z"
   },
   {
    "duration": 10,
    "start_time": "2024-02-10T14:10:01.600Z"
   },
   {
    "duration": 203,
    "start_time": "2024-02-10T14:10:01.611Z"
   },
   {
    "duration": 15,
    "start_time": "2024-02-10T14:10:01.816Z"
   },
   {
    "duration": 413,
    "start_time": "2024-02-10T14:10:01.833Z"
   },
   {
    "duration": 57,
    "start_time": "2024-02-10T14:10:02.248Z"
   },
   {
    "duration": 9,
    "start_time": "2024-02-10T14:10:02.306Z"
   },
   {
    "duration": 38,
    "start_time": "2024-02-10T14:10:02.317Z"
   },
   {
    "duration": 36,
    "start_time": "2024-02-10T14:10:02.357Z"
   },
   {
    "duration": 181,
    "start_time": "2024-02-10T14:10:02.395Z"
   },
   {
    "duration": 42,
    "start_time": "2024-02-10T14:10:02.577Z"
   },
   {
    "duration": 54,
    "start_time": "2024-02-10T14:10:02.621Z"
   },
   {
    "duration": 98,
    "start_time": "2024-02-10T14:10:02.677Z"
   },
   {
    "duration": 158,
    "start_time": "2024-02-10T14:10:02.777Z"
   },
   {
    "duration": 7,
    "start_time": "2024-02-10T14:10:02.937Z"
   },
   {
    "duration": 42,
    "start_time": "2024-02-10T14:10:02.946Z"
   },
   {
    "duration": 5,
    "start_time": "2024-02-10T14:10:02.989Z"
   },
   {
    "duration": 6,
    "start_time": "2024-02-10T14:10:02.996Z"
   },
   {
    "duration": 17,
    "start_time": "2024-02-10T14:10:03.003Z"
   },
   {
    "duration": 4,
    "start_time": "2024-02-10T14:10:03.026Z"
   },
   {
    "duration": 23,
    "start_time": "2024-02-10T14:10:03.031Z"
   },
   {
    "duration": 91,
    "start_time": "2024-02-10T14:11:33.547Z"
   },
   {
    "duration": 7,
    "start_time": "2024-02-10T14:13:01.296Z"
   },
   {
    "duration": 7,
    "start_time": "2024-02-10T14:13:21.428Z"
   },
   {
    "duration": 18,
    "start_time": "2024-02-10T14:14:59.528Z"
   },
   {
    "duration": 31,
    "start_time": "2024-02-10T14:15:20.226Z"
   },
   {
    "duration": 37,
    "start_time": "2024-02-10T14:17:21.262Z"
   },
   {
    "duration": 5,
    "start_time": "2024-02-10T14:20:05.488Z"
   },
   {
    "duration": 6,
    "start_time": "2024-02-10T14:21:15.391Z"
   },
   {
    "duration": 5,
    "start_time": "2024-02-10T14:21:28.995Z"
   },
   {
    "duration": 6,
    "start_time": "2024-02-10T14:21:42.136Z"
   },
   {
    "duration": 6,
    "start_time": "2024-02-10T14:21:56.154Z"
   },
   {
    "duration": 6,
    "start_time": "2024-02-10T14:22:10.553Z"
   },
   {
    "duration": 6,
    "start_time": "2024-02-10T14:22:24.905Z"
   },
   {
    "duration": 5,
    "start_time": "2024-02-10T14:22:42.433Z"
   },
   {
    "duration": 44,
    "start_time": "2024-02-10T14:23:29.171Z"
   },
   {
    "duration": 33,
    "start_time": "2024-02-10T14:26:06.861Z"
   },
   {
    "duration": 3414,
    "start_time": "2024-02-10T14:27:02.723Z"
   },
   {
    "duration": 3607,
    "start_time": "2024-02-10T14:27:44.559Z"
   },
   {
    "duration": 3767,
    "start_time": "2024-02-10T14:28:00.342Z"
   },
   {
    "duration": 54,
    "start_time": "2024-02-11T04:14:36.572Z"
   },
   {
    "duration": 1115,
    "start_time": "2024-02-11T04:14:47.042Z"
   },
   {
    "duration": 18,
    "start_time": "2024-02-11T04:14:48.159Z"
   },
   {
    "duration": 1877,
    "start_time": "2024-02-11T04:14:48.178Z"
   },
   {
    "duration": 9,
    "start_time": "2024-02-11T04:14:50.056Z"
   },
   {
    "duration": 14,
    "start_time": "2024-02-11T04:14:50.067Z"
   },
   {
    "duration": 5,
    "start_time": "2024-02-11T04:14:50.082Z"
   },
   {
    "duration": 19,
    "start_time": "2024-02-11T04:14:50.088Z"
   },
   {
    "duration": 5,
    "start_time": "2024-02-11T04:14:50.108Z"
   },
   {
    "duration": 23,
    "start_time": "2024-02-11T04:14:50.114Z"
   },
   {
    "duration": 7,
    "start_time": "2024-02-11T04:14:50.139Z"
   },
   {
    "duration": 21,
    "start_time": "2024-02-11T04:14:50.147Z"
   },
   {
    "duration": 3647,
    "start_time": "2024-02-11T04:14:50.169Z"
   },
   {
    "duration": 24,
    "start_time": "2024-02-11T04:14:53.817Z"
   },
   {
    "duration": 25,
    "start_time": "2024-02-11T04:14:53.843Z"
   },
   {
    "duration": 14,
    "start_time": "2024-02-11T04:14:53.869Z"
   },
   {
    "duration": 22333,
    "start_time": "2024-02-11T04:14:53.884Z"
   },
   {
    "duration": 8,
    "start_time": "2024-02-11T04:15:16.219Z"
   },
   {
    "duration": 17,
    "start_time": "2024-02-11T04:15:16.229Z"
   },
   {
    "duration": 32,
    "start_time": "2024-02-11T04:15:16.248Z"
   },
   {
    "duration": 7,
    "start_time": "2024-02-11T04:15:16.282Z"
   },
   {
    "duration": 37,
    "start_time": "2024-02-11T04:15:16.290Z"
   },
   {
    "duration": 191,
    "start_time": "2024-02-11T04:15:16.328Z"
   },
   {
    "duration": 12,
    "start_time": "2024-02-11T04:15:16.520Z"
   },
   {
    "duration": 25,
    "start_time": "2024-02-11T04:15:16.534Z"
   },
   {
    "duration": 30,
    "start_time": "2024-02-11T04:15:16.561Z"
   },
   {
    "duration": 25,
    "start_time": "2024-02-11T04:15:16.592Z"
   },
   {
    "duration": 21,
    "start_time": "2024-02-11T04:15:16.618Z"
   },
   {
    "duration": 8,
    "start_time": "2024-02-11T04:15:16.640Z"
   },
   {
    "duration": 20,
    "start_time": "2024-02-11T04:15:16.649Z"
   },
   {
    "duration": 15,
    "start_time": "2024-02-11T04:15:16.671Z"
   },
   {
    "duration": 12,
    "start_time": "2024-02-11T04:15:16.687Z"
   },
   {
    "duration": 23,
    "start_time": "2024-02-11T04:15:16.700Z"
   },
   {
    "duration": 19,
    "start_time": "2024-02-11T04:15:16.725Z"
   },
   {
    "duration": 5,
    "start_time": "2024-02-11T04:15:16.745Z"
   },
   {
    "duration": 347,
    "start_time": "2024-02-11T04:15:16.751Z"
   },
   {
    "duration": 28,
    "start_time": "2024-02-11T04:15:17.100Z"
   },
   {
    "duration": 8,
    "start_time": "2024-02-11T04:15:17.129Z"
   },
   {
    "duration": 44,
    "start_time": "2024-02-11T04:15:17.138Z"
   },
   {
    "duration": 33,
    "start_time": "2024-02-11T04:15:17.184Z"
   },
   {
    "duration": 169,
    "start_time": "2024-02-11T04:15:17.219Z"
   },
   {
    "duration": 9,
    "start_time": "2024-02-11T04:15:17.392Z"
   },
   {
    "duration": 214,
    "start_time": "2024-02-11T04:15:17.403Z"
   },
   {
    "duration": 9,
    "start_time": "2024-02-11T04:15:17.619Z"
   },
   {
    "duration": 154,
    "start_time": "2024-02-11T04:15:17.630Z"
   },
   {
    "duration": 10,
    "start_time": "2024-02-11T04:15:17.786Z"
   },
   {
    "duration": 46,
    "start_time": "2024-02-11T04:15:17.797Z"
   },
   {
    "duration": 178,
    "start_time": "2024-02-11T04:15:17.845Z"
   },
   {
    "duration": 11,
    "start_time": "2024-02-11T04:15:18.025Z"
   },
   {
    "duration": 36,
    "start_time": "2024-02-11T04:15:18.037Z"
   },
   {
    "duration": 11258,
    "start_time": "2024-02-11T04:15:18.076Z"
   },
   {
    "duration": 191,
    "start_time": "2024-02-11T04:15:29.336Z"
   },
   {
    "duration": 11,
    "start_time": "2024-02-11T04:15:29.528Z"
   },
   {
    "duration": 33,
    "start_time": "2024-02-11T04:15:29.541Z"
   },
   {
    "duration": 11,
    "start_time": "2024-02-11T04:15:29.575Z"
   },
   {
    "duration": 11041,
    "start_time": "2024-02-11T04:15:29.587Z"
   },
   {
    "duration": 161,
    "start_time": "2024-02-11T04:15:40.629Z"
   },
   {
    "duration": 10,
    "start_time": "2024-02-11T04:15:40.791Z"
   },
   {
    "duration": 145,
    "start_time": "2024-02-11T04:15:40.802Z"
   },
   {
    "duration": 7,
    "start_time": "2024-02-11T04:15:40.948Z"
   },
   {
    "duration": 157,
    "start_time": "2024-02-11T04:15:40.956Z"
   },
   {
    "duration": 30,
    "start_time": "2024-02-11T04:15:41.115Z"
   },
   {
    "duration": 8,
    "start_time": "2024-02-11T04:15:41.147Z"
   },
   {
    "duration": 163,
    "start_time": "2024-02-11T04:15:41.156Z"
   },
   {
    "duration": 7,
    "start_time": "2024-02-11T04:15:41.321Z"
   },
   {
    "duration": 143,
    "start_time": "2024-02-11T04:15:41.330Z"
   },
   {
    "duration": 13,
    "start_time": "2024-02-11T04:15:41.474Z"
   },
   {
    "duration": 248,
    "start_time": "2024-02-11T04:15:41.489Z"
   },
   {
    "duration": 36,
    "start_time": "2024-02-11T04:15:41.739Z"
   },
   {
    "duration": 7,
    "start_time": "2024-02-11T04:15:41.776Z"
   },
   {
    "duration": 9,
    "start_time": "2024-02-11T04:15:41.784Z"
   },
   {
    "duration": 3,
    "start_time": "2024-02-11T04:15:41.815Z"
   },
   {
    "duration": 17,
    "start_time": "2024-02-11T04:15:41.820Z"
   },
   {
    "duration": 91,
    "start_time": "2024-02-11T04:15:41.839Z"
   },
   {
    "duration": 9,
    "start_time": "2024-02-11T04:15:41.931Z"
   },
   {
    "duration": 5,
    "start_time": "2024-02-11T04:15:41.942Z"
   },
   {
    "duration": 4,
    "start_time": "2024-02-11T04:15:41.948Z"
   },
   {
    "duration": 4,
    "start_time": "2024-02-11T04:15:41.954Z"
   },
   {
    "duration": 5,
    "start_time": "2024-02-11T04:15:41.959Z"
   },
   {
    "duration": 4,
    "start_time": "2024-02-11T04:15:41.966Z"
   },
   {
    "duration": 6,
    "start_time": "2024-02-11T04:15:42.015Z"
   },
   {
    "duration": 5,
    "start_time": "2024-02-11T04:15:42.023Z"
   },
   {
    "duration": 5,
    "start_time": "2024-02-11T04:15:42.030Z"
   },
   {
    "duration": 30,
    "start_time": "2024-02-11T04:15:42.036Z"
   },
   {
    "duration": 3228,
    "start_time": "2024-02-11T04:15:42.068Z"
   },
   {
    "duration": 85,
    "start_time": "2024-02-11T04:15:45.297Z"
   },
   {
    "duration": 22,
    "start_time": "2024-02-11T04:16:43.305Z"
   },
   {
    "duration": 20,
    "start_time": "2024-02-11T04:17:41.767Z"
   },
   {
    "duration": 22,
    "start_time": "2024-02-11T04:18:21.315Z"
   },
   {
    "duration": 21,
    "start_time": "2024-02-11T04:19:07.040Z"
   },
   {
    "duration": 1168,
    "start_time": "2024-02-11T04:25:40.900Z"
   },
   {
    "duration": 24,
    "start_time": "2024-02-11T04:29:11.957Z"
   },
   {
    "duration": 21,
    "start_time": "2024-02-11T04:29:25.920Z"
   },
   {
    "duration": 23,
    "start_time": "2024-02-11T04:29:38.317Z"
   },
   {
    "duration": 30,
    "start_time": "2024-02-11T04:29:46.257Z"
   },
   {
    "duration": 20,
    "start_time": "2024-02-11T04:29:57.100Z"
   },
   {
    "duration": 22,
    "start_time": "2024-02-11T04:32:18.246Z"
   },
   {
    "duration": 21,
    "start_time": "2024-02-11T04:32:58.215Z"
   },
   {
    "duration": 22,
    "start_time": "2024-02-11T04:33:17.350Z"
   },
   {
    "duration": 21,
    "start_time": "2024-02-11T04:33:34.673Z"
   },
   {
    "duration": 8,
    "start_time": "2024-02-11T04:34:47.040Z"
   },
   {
    "duration": 15,
    "start_time": "2024-02-11T04:38:24.047Z"
   },
   {
    "duration": 39,
    "start_time": "2024-02-11T04:38:40.211Z"
   },
   {
    "duration": 30,
    "start_time": "2024-02-11T04:38:54.815Z"
   },
   {
    "duration": 788,
    "start_time": "2024-02-11T04:46:10.314Z"
   },
   {
    "duration": 16,
    "start_time": "2024-02-11T04:46:11.103Z"
   },
   {
    "duration": 1863,
    "start_time": "2024-02-11T04:46:11.120Z"
   },
   {
    "duration": 9,
    "start_time": "2024-02-11T04:46:12.985Z"
   },
   {
    "duration": 7,
    "start_time": "2024-02-11T04:46:12.995Z"
   },
   {
    "duration": 5,
    "start_time": "2024-02-11T04:46:13.003Z"
   },
   {
    "duration": 10,
    "start_time": "2024-02-11T04:46:13.010Z"
   },
   {
    "duration": 5,
    "start_time": "2024-02-11T04:46:13.021Z"
   },
   {
    "duration": 25,
    "start_time": "2024-02-11T04:46:13.027Z"
   },
   {
    "duration": 8,
    "start_time": "2024-02-11T04:46:13.054Z"
   },
   {
    "duration": 23,
    "start_time": "2024-02-11T04:46:13.063Z"
   },
   {
    "duration": 3696,
    "start_time": "2024-02-11T04:46:13.115Z"
   },
   {
    "duration": 25,
    "start_time": "2024-02-11T04:46:16.814Z"
   },
   {
    "duration": 27,
    "start_time": "2024-02-11T04:46:16.841Z"
   },
   {
    "duration": 15,
    "start_time": "2024-02-11T04:46:16.869Z"
   },
   {
    "duration": 23345,
    "start_time": "2024-02-11T04:46:16.885Z"
   },
   {
    "duration": 8,
    "start_time": "2024-02-11T04:46:40.231Z"
   },
   {
    "duration": 9,
    "start_time": "2024-02-11T04:46:40.241Z"
   },
   {
    "duration": 11,
    "start_time": "2024-02-11T04:46:40.252Z"
   },
   {
    "duration": 2,
    "start_time": "2024-02-11T04:46:40.265Z"
   },
   {
    "duration": 52,
    "start_time": "2024-02-11T04:46:40.269Z"
   },
   {
    "duration": 200,
    "start_time": "2024-02-11T04:46:40.323Z"
   },
   {
    "duration": 14,
    "start_time": "2024-02-11T04:46:40.525Z"
   },
   {
    "duration": 20,
    "start_time": "2024-02-11T04:46:40.541Z"
   },
   {
    "duration": 53,
    "start_time": "2024-02-11T04:46:40.563Z"
   },
   {
    "duration": 8,
    "start_time": "2024-02-11T04:46:40.618Z"
   },
   {
    "duration": 23,
    "start_time": "2024-02-11T04:46:40.628Z"
   },
   {
    "duration": 8,
    "start_time": "2024-02-11T04:46:40.655Z"
   },
   {
    "duration": 13,
    "start_time": "2024-02-11T04:46:40.665Z"
   },
   {
    "duration": 40,
    "start_time": "2024-02-11T04:46:40.679Z"
   },
   {
    "duration": 4,
    "start_time": "2024-02-11T04:46:40.721Z"
   },
   {
    "duration": 12,
    "start_time": "2024-02-11T04:46:40.726Z"
   },
   {
    "duration": 7,
    "start_time": "2024-02-11T04:46:40.739Z"
   },
   {
    "duration": 5,
    "start_time": "2024-02-11T04:46:40.747Z"
   },
   {
    "duration": 343,
    "start_time": "2024-02-11T04:46:40.753Z"
   },
   {
    "duration": 29,
    "start_time": "2024-02-11T04:46:41.097Z"
   },
   {
    "duration": 8,
    "start_time": "2024-02-11T04:46:41.127Z"
   },
   {
    "duration": 30,
    "start_time": "2024-02-11T04:46:41.136Z"
   },
   {
    "duration": 48,
    "start_time": "2024-02-11T04:46:41.168Z"
   },
   {
    "duration": 178,
    "start_time": "2024-02-11T04:46:41.217Z"
   },
   {
    "duration": 18,
    "start_time": "2024-02-11T04:46:41.397Z"
   },
   {
    "duration": 217,
    "start_time": "2024-02-11T04:46:41.417Z"
   },
   {
    "duration": 8,
    "start_time": "2024-02-11T04:46:41.636Z"
   },
   {
    "duration": 145,
    "start_time": "2024-02-11T04:46:41.645Z"
   },
   {
    "duration": 8,
    "start_time": "2024-02-11T04:46:41.791Z"
   },
   {
    "duration": 44,
    "start_time": "2024-02-11T04:46:41.801Z"
   },
   {
    "duration": 171,
    "start_time": "2024-02-11T04:46:41.846Z"
   },
   {
    "duration": 7,
    "start_time": "2024-02-11T04:46:42.019Z"
   },
   {
    "duration": 30,
    "start_time": "2024-02-11T04:46:42.028Z"
   },
   {
    "duration": 11236,
    "start_time": "2024-02-11T04:46:42.059Z"
   },
   {
    "duration": 153,
    "start_time": "2024-02-11T04:46:53.296Z"
   },
   {
    "duration": 9,
    "start_time": "2024-02-11T04:46:53.450Z"
   },
   {
    "duration": 31,
    "start_time": "2024-02-11T04:46:53.461Z"
   },
   {
    "duration": 28,
    "start_time": "2024-02-11T04:46:53.494Z"
   },
   {
    "duration": 12133,
    "start_time": "2024-02-11T04:46:53.524Z"
   },
   {
    "duration": 186,
    "start_time": "2024-02-11T04:47:05.659Z"
   },
   {
    "duration": 9,
    "start_time": "2024-02-11T04:47:05.847Z"
   },
   {
    "duration": 129,
    "start_time": "2024-02-11T04:47:05.857Z"
   },
   {
    "duration": 7,
    "start_time": "2024-02-11T04:47:05.988Z"
   },
   {
    "duration": 188,
    "start_time": "2024-02-11T04:47:05.996Z"
   },
   {
    "duration": 48,
    "start_time": "2024-02-11T04:47:06.186Z"
   },
   {
    "duration": 12,
    "start_time": "2024-02-11T04:47:06.236Z"
   },
   {
    "duration": 175,
    "start_time": "2024-02-11T04:47:06.250Z"
   },
   {
    "duration": 8,
    "start_time": "2024-02-11T04:47:06.426Z"
   },
   {
    "duration": 160,
    "start_time": "2024-02-11T04:47:06.435Z"
   },
   {
    "duration": 19,
    "start_time": "2024-02-11T04:47:06.596Z"
   },
   {
    "duration": 283,
    "start_time": "2024-02-11T04:47:06.617Z"
   },
   {
    "duration": 44,
    "start_time": "2024-02-11T04:47:06.902Z"
   },
   {
    "duration": 9,
    "start_time": "2024-02-11T04:47:06.947Z"
   },
   {
    "duration": 8,
    "start_time": "2024-02-11T04:47:06.957Z"
   },
   {
    "duration": 9,
    "start_time": "2024-02-11T04:47:06.967Z"
   },
   {
    "duration": 126,
    "start_time": "2024-02-11T04:47:06.978Z"
   },
   {
    "duration": 15,
    "start_time": "2024-02-11T04:47:07.106Z"
   },
   {
    "duration": 8,
    "start_time": "2024-02-11T04:47:07.123Z"
   },
   {
    "duration": 4,
    "start_time": "2024-02-11T04:47:07.132Z"
   },
   {
    "duration": 4,
    "start_time": "2024-02-11T04:47:07.137Z"
   },
   {
    "duration": 4,
    "start_time": "2024-02-11T04:47:07.143Z"
   },
   {
    "duration": 12,
    "start_time": "2024-02-11T04:47:07.148Z"
   },
   {
    "duration": 4,
    "start_time": "2024-02-11T04:47:07.161Z"
   },
   {
    "duration": 5,
    "start_time": "2024-02-11T04:47:07.166Z"
   },
   {
    "duration": 5,
    "start_time": "2024-02-11T04:47:07.172Z"
   },
   {
    "duration": 5,
    "start_time": "2024-02-11T04:47:07.215Z"
   },
   {
    "duration": 31,
    "start_time": "2024-02-11T04:47:07.221Z"
   },
   {
    "duration": 3305,
    "start_time": "2024-02-11T04:47:07.254Z"
   },
   {
    "duration": 24,
    "start_time": "2024-02-11T04:47:10.561Z"
   },
   {
    "duration": 29,
    "start_time": "2024-02-11T04:47:10.587Z"
   },
   {
    "duration": 33,
    "start_time": "2024-02-11T04:47:10.618Z"
   },
   {
    "duration": 78,
    "start_time": "2024-02-11T04:48:54.201Z"
   },
   {
    "duration": 20,
    "start_time": "2024-02-11T04:49:58.565Z"
   },
   {
    "duration": 29,
    "start_time": "2024-02-11T04:50:41.318Z"
   },
   {
    "duration": 14,
    "start_time": "2024-02-11T04:53:57.244Z"
   },
   {
    "duration": 94,
    "start_time": "2024-02-11T04:57:59.054Z"
   },
   {
    "duration": 524,
    "start_time": "2024-02-11T04:58:58.714Z"
   },
   {
    "duration": 459,
    "start_time": "2024-02-11T05:00:07.894Z"
   },
   {
    "duration": 210,
    "start_time": "2024-02-11T05:00:19.662Z"
   },
   {
    "duration": 439,
    "start_time": "2024-02-11T05:00:52.326Z"
   },
   {
    "duration": 257,
    "start_time": "2024-02-11T05:01:21.502Z"
   },
   {
    "duration": 188,
    "start_time": "2024-02-11T05:01:56.903Z"
   },
   {
    "duration": 299,
    "start_time": "2024-02-11T05:02:15.193Z"
   },
   {
    "duration": 283,
    "start_time": "2024-02-11T05:02:50.681Z"
   },
   {
    "duration": 279,
    "start_time": "2024-02-11T05:03:19.759Z"
   },
   {
    "duration": 285,
    "start_time": "2024-02-11T05:03:34.097Z"
   },
   {
    "duration": 294,
    "start_time": "2024-02-11T05:03:42.754Z"
   },
   {
    "duration": 119,
    "start_time": "2024-02-11T05:04:02.657Z"
   },
   {
    "duration": 111,
    "start_time": "2024-02-11T05:04:17.486Z"
   },
   {
    "duration": 167,
    "start_time": "2024-02-11T05:04:24.089Z"
   },
   {
    "duration": 167,
    "start_time": "2024-02-11T05:04:45.563Z"
   },
   {
    "duration": 29,
    "start_time": "2024-02-11T05:07:10.553Z"
   },
   {
    "duration": 3727,
    "start_time": "2024-02-11T05:08:28.832Z"
   },
   {
    "duration": 10,
    "start_time": "2024-02-11T06:33:07.901Z"
   },
   {
    "duration": 171,
    "start_time": "2024-02-11T06:44:04.570Z"
   },
   {
    "duration": 161,
    "start_time": "2024-02-11T06:46:27.922Z"
   },
   {
    "duration": 192,
    "start_time": "2024-02-11T06:46:35.687Z"
   },
   {
    "duration": 38,
    "start_time": "2024-02-11T06:46:48.684Z"
   },
   {
    "duration": 152,
    "start_time": "2024-02-11T06:56:45.014Z"
   },
   {
    "duration": 143,
    "start_time": "2024-02-11T07:00:35.481Z"
   },
   {
    "duration": 45,
    "start_time": "2024-02-11T08:33:56.254Z"
   },
   {
    "duration": 1192,
    "start_time": "2024-02-11T08:34:03.637Z"
   },
   {
    "duration": 21,
    "start_time": "2024-02-11T08:34:04.831Z"
   },
   {
    "duration": 2081,
    "start_time": "2024-02-11T08:34:04.854Z"
   },
   {
    "duration": 11,
    "start_time": "2024-02-11T08:34:06.937Z"
   },
   {
    "duration": 10,
    "start_time": "2024-02-11T08:34:06.951Z"
   },
   {
    "duration": 6,
    "start_time": "2024-02-11T08:34:06.963Z"
   },
   {
    "duration": 7,
    "start_time": "2024-02-11T08:34:06.971Z"
   },
   {
    "duration": 5,
    "start_time": "2024-02-11T08:34:06.980Z"
   },
   {
    "duration": 24,
    "start_time": "2024-02-11T08:34:06.986Z"
   },
   {
    "duration": 54,
    "start_time": "2024-02-11T08:34:07.012Z"
   },
   {
    "duration": 3911,
    "start_time": "2024-02-11T08:34:07.068Z"
   },
   {
    "duration": 28,
    "start_time": "2024-02-11T08:34:10.981Z"
   },
   {
    "duration": 54,
    "start_time": "2024-02-11T08:34:11.011Z"
   },
   {
    "duration": 20,
    "start_time": "2024-02-11T08:34:11.070Z"
   },
   {
    "duration": 23443,
    "start_time": "2024-02-11T08:34:11.092Z"
   },
   {
    "duration": 9,
    "start_time": "2024-02-11T08:34:34.536Z"
   },
   {
    "duration": 32,
    "start_time": "2024-02-11T08:34:34.547Z"
   },
   {
    "duration": 23,
    "start_time": "2024-02-11T08:34:34.581Z"
   },
   {
    "duration": 30,
    "start_time": "2024-02-11T08:34:34.606Z"
   },
   {
    "duration": 199,
    "start_time": "2024-02-11T08:34:34.638Z"
   },
   {
    "duration": 13,
    "start_time": "2024-02-11T08:34:34.838Z"
   },
   {
    "duration": 54,
    "start_time": "2024-02-11T08:34:34.853Z"
   },
   {
    "duration": 63,
    "start_time": "2024-02-11T08:34:34.909Z"
   },
   {
    "duration": 15,
    "start_time": "2024-02-11T08:34:34.974Z"
   },
   {
    "duration": 58,
    "start_time": "2024-02-11T08:34:34.990Z"
   },
   {
    "duration": 18,
    "start_time": "2024-02-11T08:34:35.050Z"
   },
   {
    "duration": 22,
    "start_time": "2024-02-11T08:34:35.070Z"
   },
   {
    "duration": 29,
    "start_time": "2024-02-11T08:34:35.094Z"
   },
   {
    "duration": 23,
    "start_time": "2024-02-11T08:34:35.125Z"
   },
   {
    "duration": 22,
    "start_time": "2024-02-11T08:34:35.150Z"
   },
   {
    "duration": 22,
    "start_time": "2024-02-11T08:34:35.174Z"
   },
   {
    "duration": 25,
    "start_time": "2024-02-11T08:34:35.198Z"
   },
   {
    "duration": 332,
    "start_time": "2024-02-11T08:34:35.225Z"
   },
   {
    "duration": 27,
    "start_time": "2024-02-11T08:34:35.558Z"
   },
   {
    "duration": 8,
    "start_time": "2024-02-11T08:34:35.586Z"
   },
   {
    "duration": 66,
    "start_time": "2024-02-11T08:34:35.595Z"
   },
   {
    "duration": 31,
    "start_time": "2024-02-11T08:34:35.662Z"
   },
   {
    "duration": 200,
    "start_time": "2024-02-11T08:34:35.695Z"
   },
   {
    "duration": 10,
    "start_time": "2024-02-11T08:34:35.898Z"
   },
   {
    "duration": 238,
    "start_time": "2024-02-11T08:34:35.910Z"
   },
   {
    "duration": 17,
    "start_time": "2024-02-11T08:34:36.153Z"
   },
   {
    "duration": 148,
    "start_time": "2024-02-11T08:34:36.172Z"
   },
   {
    "duration": 10,
    "start_time": "2024-02-11T08:34:36.322Z"
   },
   {
    "duration": 49,
    "start_time": "2024-02-11T08:34:36.334Z"
   },
   {
    "duration": 170,
    "start_time": "2024-02-11T08:34:36.384Z"
   },
   {
    "duration": 12,
    "start_time": "2024-02-11T08:34:36.555Z"
   },
   {
    "duration": 31,
    "start_time": "2024-02-11T08:34:36.568Z"
   },
   {
    "duration": 11126,
    "start_time": "2024-02-11T08:34:36.600Z"
   },
   {
    "duration": 168,
    "start_time": "2024-02-11T08:34:47.728Z"
   },
   {
    "duration": 9,
    "start_time": "2024-02-11T08:34:47.898Z"
   },
   {
    "duration": 31,
    "start_time": "2024-02-11T08:34:47.909Z"
   },
   {
    "duration": 30,
    "start_time": "2024-02-11T08:34:47.941Z"
   },
   {
    "duration": 11564,
    "start_time": "2024-02-11T08:34:47.973Z"
   },
   {
    "duration": 155,
    "start_time": "2024-02-11T08:34:59.538Z"
   },
   {
    "duration": 9,
    "start_time": "2024-02-11T08:34:59.695Z"
   },
   {
    "duration": 147,
    "start_time": "2024-02-11T08:34:59.706Z"
   },
   {
    "duration": 14,
    "start_time": "2024-02-11T08:34:59.854Z"
   },
   {
    "duration": 217,
    "start_time": "2024-02-11T08:34:59.870Z"
   },
   {
    "duration": 33,
    "start_time": "2024-02-11T08:35:00.089Z"
   },
   {
    "duration": 23,
    "start_time": "2024-02-11T08:35:00.124Z"
   },
   {
    "duration": 187,
    "start_time": "2024-02-11T08:35:00.148Z"
   },
   {
    "duration": 9,
    "start_time": "2024-02-11T08:35:00.337Z"
   },
   {
    "duration": 232,
    "start_time": "2024-02-11T08:35:00.347Z"
   },
   {
    "duration": 268,
    "start_time": "2024-02-11T08:35:00.581Z"
   },
   {
    "duration": 44,
    "start_time": "2024-02-11T08:35:00.850Z"
   },
   {
    "duration": 70,
    "start_time": "2024-02-11T08:35:00.895Z"
   },
   {
    "duration": 63,
    "start_time": "2024-02-11T08:35:00.966Z"
   },
   {
    "duration": 51,
    "start_time": "2024-02-11T08:35:01.031Z"
   },
   {
    "duration": 57,
    "start_time": "2024-02-11T08:35:01.084Z"
   },
   {
    "duration": 170,
    "start_time": "2024-02-11T08:35:01.143Z"
   },
   {
    "duration": 59,
    "start_time": "2024-02-11T08:35:01.314Z"
   },
   {
    "duration": 43,
    "start_time": "2024-02-11T08:35:01.374Z"
   },
   {
    "duration": 34,
    "start_time": "2024-02-11T08:35:01.418Z"
   },
   {
    "duration": 35,
    "start_time": "2024-02-11T08:35:01.454Z"
   },
   {
    "duration": 100,
    "start_time": "2024-02-11T08:35:01.490Z"
   },
   {
    "duration": 59,
    "start_time": "2024-02-11T08:35:01.592Z"
   },
   {
    "duration": 38,
    "start_time": "2024-02-11T08:35:01.653Z"
   },
   {
    "duration": 43,
    "start_time": "2024-02-11T08:35:01.692Z"
   },
   {
    "duration": 20,
    "start_time": "2024-02-11T08:35:01.737Z"
   },
   {
    "duration": 36,
    "start_time": "2024-02-11T08:35:01.759Z"
   },
   {
    "duration": 3657,
    "start_time": "2024-02-11T08:35:01.797Z"
   },
   {
    "duration": 25,
    "start_time": "2024-02-11T08:35:05.456Z"
   },
   {
    "duration": 13,
    "start_time": "2024-02-11T08:35:05.483Z"
   },
   {
    "duration": 42,
    "start_time": "2024-02-11T08:35:05.497Z"
   },
   {
    "duration": 28,
    "start_time": "2024-02-11T08:35:05.541Z"
   },
   {
    "duration": 1537,
    "start_time": "2024-02-11T08:35:05.571Z"
   },
   {
    "duration": 368,
    "start_time": "2024-02-11T08:56:46.304Z"
   },
   {
    "duration": 7,
    "start_time": "2024-02-11T08:56:57.683Z"
   },
   {
    "duration": 1313,
    "start_time": "2024-02-11T09:03:50.734Z"
   },
   {
    "duration": 31,
    "start_time": "2024-02-11T09:03:59.974Z"
   },
   {
    "duration": 9,
    "start_time": "2024-02-11T09:04:03.712Z"
   },
   {
    "duration": 7,
    "start_time": "2024-02-11T09:04:08.263Z"
   },
   {
    "duration": 1368,
    "start_time": "2024-02-11T09:04:11.413Z"
   },
   {
    "duration": 139,
    "start_time": "2024-02-11T09:04:51.912Z"
   },
   {
    "duration": 139,
    "start_time": "2024-02-11T09:05:05.664Z"
   },
   {
    "duration": 971,
    "start_time": "2024-02-12T08:47:38.419Z"
   },
   {
    "duration": 17,
    "start_time": "2024-02-12T08:47:39.393Z"
   },
   {
    "duration": 1858,
    "start_time": "2024-02-12T08:47:39.412Z"
   },
   {
    "duration": 9,
    "start_time": "2024-02-12T08:47:41.272Z"
   },
   {
    "duration": 25,
    "start_time": "2024-02-12T08:47:41.283Z"
   },
   {
    "duration": 26,
    "start_time": "2024-02-12T08:47:41.310Z"
   },
   {
    "duration": 42,
    "start_time": "2024-02-12T08:47:41.337Z"
   },
   {
    "duration": 29,
    "start_time": "2024-02-12T08:47:41.381Z"
   },
   {
    "duration": 52,
    "start_time": "2024-02-12T08:47:41.412Z"
   },
   {
    "duration": 19,
    "start_time": "2024-02-12T08:47:41.466Z"
   },
   {
    "duration": 3544,
    "start_time": "2024-02-12T08:47:41.486Z"
   },
   {
    "duration": 22,
    "start_time": "2024-02-12T08:47:45.032Z"
   },
   {
    "duration": 110,
    "start_time": "2024-02-12T08:47:45.056Z"
   },
   {
    "duration": 41,
    "start_time": "2024-02-12T08:47:45.169Z"
   },
   {
    "duration": 21631,
    "start_time": "2024-02-12T08:47:45.212Z"
   },
   {
    "duration": 8,
    "start_time": "2024-02-12T08:48:06.844Z"
   },
   {
    "duration": 10,
    "start_time": "2024-02-12T08:48:06.853Z"
   },
   {
    "duration": 12,
    "start_time": "2024-02-12T08:48:06.864Z"
   },
   {
    "duration": 27,
    "start_time": "2024-02-12T08:48:06.894Z"
   },
   {
    "duration": 196,
    "start_time": "2024-02-12T08:48:06.922Z"
   },
   {
    "duration": 12,
    "start_time": "2024-02-12T08:48:07.119Z"
   },
   {
    "duration": 24,
    "start_time": "2024-02-12T08:48:07.132Z"
   },
   {
    "duration": 48,
    "start_time": "2024-02-12T08:48:07.157Z"
   },
   {
    "duration": 11,
    "start_time": "2024-02-12T08:48:07.207Z"
   },
   {
    "duration": 23,
    "start_time": "2024-02-12T08:48:07.220Z"
   },
   {
    "duration": 10,
    "start_time": "2024-02-12T08:48:07.245Z"
   },
   {
    "duration": 39,
    "start_time": "2024-02-12T08:48:07.256Z"
   },
   {
    "duration": 21,
    "start_time": "2024-02-12T08:48:07.298Z"
   },
   {
    "duration": 12,
    "start_time": "2024-02-12T08:48:07.321Z"
   },
   {
    "duration": 26,
    "start_time": "2024-02-12T08:48:07.334Z"
   },
   {
    "duration": 13,
    "start_time": "2024-02-12T08:48:07.362Z"
   },
   {
    "duration": 9,
    "start_time": "2024-02-12T08:48:07.377Z"
   },
   {
    "duration": 319,
    "start_time": "2024-02-12T08:48:07.387Z"
   },
   {
    "duration": 25,
    "start_time": "2024-02-12T08:48:07.707Z"
   },
   {
    "duration": 8,
    "start_time": "2024-02-12T08:48:07.733Z"
   },
   {
    "duration": 51,
    "start_time": "2024-02-12T08:48:07.743Z"
   },
   {
    "duration": 31,
    "start_time": "2024-02-12T08:48:07.796Z"
   },
   {
    "duration": 178,
    "start_time": "2024-02-12T08:48:07.828Z"
   },
   {
    "duration": 8,
    "start_time": "2024-02-12T08:48:08.008Z"
   },
   {
    "duration": 211,
    "start_time": "2024-02-12T08:48:08.017Z"
   },
   {
    "duration": 8,
    "start_time": "2024-02-12T08:48:08.232Z"
   },
   {
    "duration": 138,
    "start_time": "2024-02-12T08:48:08.241Z"
   },
   {
    "duration": 13,
    "start_time": "2024-02-12T08:48:08.381Z"
   },
   {
    "duration": 31,
    "start_time": "2024-02-12T08:48:08.396Z"
   },
   {
    "duration": 196,
    "start_time": "2024-02-12T08:48:08.428Z"
   },
   {
    "duration": 7,
    "start_time": "2024-02-12T08:48:08.625Z"
   },
   {
    "duration": 34,
    "start_time": "2024-02-12T08:48:08.633Z"
   },
   {
    "duration": 10618,
    "start_time": "2024-02-12T08:48:08.668Z"
   },
   {
    "duration": 157,
    "start_time": "2024-02-12T08:48:19.288Z"
   },
   {
    "duration": 9,
    "start_time": "2024-02-12T08:48:19.447Z"
   },
   {
    "duration": 47,
    "start_time": "2024-02-12T08:48:19.458Z"
   },
   {
    "duration": 10,
    "start_time": "2024-02-12T08:48:19.507Z"
   },
   {
    "duration": 10993,
    "start_time": "2024-02-12T08:48:19.518Z"
   },
   {
    "duration": 171,
    "start_time": "2024-02-12T08:48:30.513Z"
   },
   {
    "duration": 12,
    "start_time": "2024-02-12T08:48:30.686Z"
   },
   {
    "duration": 182,
    "start_time": "2024-02-12T08:48:30.699Z"
   },
   {
    "duration": 13,
    "start_time": "2024-02-12T08:48:30.883Z"
   },
   {
    "duration": 180,
    "start_time": "2024-02-12T08:48:30.897Z"
   },
   {
    "duration": 31,
    "start_time": "2024-02-12T08:48:31.079Z"
   },
   {
    "duration": 18,
    "start_time": "2024-02-12T08:48:31.112Z"
   },
   {
    "duration": 182,
    "start_time": "2024-02-12T08:48:31.131Z"
   },
   {
    "duration": 8,
    "start_time": "2024-02-12T08:48:31.315Z"
   },
   {
    "duration": 187,
    "start_time": "2024-02-12T08:48:31.325Z"
   },
   {
    "duration": 232,
    "start_time": "2024-02-12T08:48:31.513Z"
   },
   {
    "duration": 37,
    "start_time": "2024-02-12T08:48:31.746Z"
   },
   {
    "duration": 13,
    "start_time": "2024-02-12T08:48:31.795Z"
   },
   {
    "duration": 24,
    "start_time": "2024-02-12T08:48:31.809Z"
   },
   {
    "duration": 32,
    "start_time": "2024-02-12T08:48:31.835Z"
   },
   {
    "duration": 41,
    "start_time": "2024-02-12T08:48:31.869Z"
   },
   {
    "duration": 115,
    "start_time": "2024-02-12T08:48:31.911Z"
   },
   {
    "duration": 29,
    "start_time": "2024-02-12T08:48:32.027Z"
   },
   {
    "duration": 27,
    "start_time": "2024-02-12T08:48:32.057Z"
   },
   {
    "duration": 30,
    "start_time": "2024-02-12T08:48:32.086Z"
   },
   {
    "duration": 19,
    "start_time": "2024-02-12T08:48:32.118Z"
   },
   {
    "duration": 11,
    "start_time": "2024-02-12T08:48:32.138Z"
   },
   {
    "duration": 44,
    "start_time": "2024-02-12T08:48:32.151Z"
   },
   {
    "duration": 40,
    "start_time": "2024-02-12T08:48:32.196Z"
   },
   {
    "duration": 53,
    "start_time": "2024-02-12T08:48:32.237Z"
   },
   {
    "duration": 50,
    "start_time": "2024-02-12T08:48:32.292Z"
   },
   {
    "duration": 75,
    "start_time": "2024-02-12T08:48:32.344Z"
   },
   {
    "duration": 3521,
    "start_time": "2024-02-12T08:48:32.420Z"
   },
   {
    "duration": 22,
    "start_time": "2024-02-12T08:48:35.943Z"
   },
   {
    "duration": 7,
    "start_time": "2024-02-12T08:48:35.966Z"
   },
   {
    "duration": 44,
    "start_time": "2024-02-12T08:48:35.994Z"
   },
   {
    "duration": 8,
    "start_time": "2024-02-12T08:48:36.039Z"
   },
   {
    "duration": 152,
    "start_time": "2024-02-12T08:48:36.048Z"
   },
   {
    "duration": 5,
    "start_time": "2024-02-12T08:49:53.456Z"
   },
   {
    "duration": 91,
    "start_time": "2024-02-12T08:55:24.618Z"
   },
   {
    "duration": 57,
    "start_time": "2024-02-13T05:01:41.432Z"
   },
   {
    "duration": 1103,
    "start_time": "2024-02-13T05:01:54.381Z"
   },
   {
    "duration": 14,
    "start_time": "2024-02-13T05:01:55.486Z"
   },
   {
    "duration": 1800,
    "start_time": "2024-02-13T05:01:55.501Z"
   },
   {
    "duration": 10,
    "start_time": "2024-02-13T05:01:57.303Z"
   },
   {
    "duration": 19,
    "start_time": "2024-02-13T05:01:57.314Z"
   },
   {
    "duration": 27,
    "start_time": "2024-02-13T05:01:57.334Z"
   },
   {
    "duration": 30,
    "start_time": "2024-02-13T05:01:57.362Z"
   },
   {
    "duration": 17,
    "start_time": "2024-02-13T05:01:57.394Z"
   },
   {
    "duration": 38,
    "start_time": "2024-02-13T05:01:57.412Z"
   },
   {
    "duration": 23,
    "start_time": "2024-02-13T05:01:57.452Z"
   },
   {
    "duration": 3596,
    "start_time": "2024-02-13T05:01:57.476Z"
   },
   {
    "duration": 24,
    "start_time": "2024-02-13T05:02:01.074Z"
   },
   {
    "duration": 72,
    "start_time": "2024-02-13T05:02:01.100Z"
   },
   {
    "duration": 32,
    "start_time": "2024-02-13T05:02:01.173Z"
   },
   {
    "duration": 22487,
    "start_time": "2024-02-13T05:02:01.206Z"
   },
   {
    "duration": 7,
    "start_time": "2024-02-13T05:02:23.695Z"
   },
   {
    "duration": 9,
    "start_time": "2024-02-13T05:02:23.704Z"
   },
   {
    "duration": 32,
    "start_time": "2024-02-13T05:02:23.714Z"
   },
   {
    "duration": 28,
    "start_time": "2024-02-13T05:02:23.748Z"
   },
   {
    "duration": 191,
    "start_time": "2024-02-13T05:02:23.778Z"
   },
   {
    "duration": 14,
    "start_time": "2024-02-13T05:02:23.970Z"
   },
   {
    "duration": 23,
    "start_time": "2024-02-13T05:02:23.985Z"
   },
   {
    "duration": 48,
    "start_time": "2024-02-13T05:02:24.009Z"
   },
   {
    "duration": 8,
    "start_time": "2024-02-13T05:02:24.059Z"
   },
   {
    "duration": 27,
    "start_time": "2024-02-13T05:02:24.068Z"
   },
   {
    "duration": 8,
    "start_time": "2024-02-13T05:02:24.097Z"
   },
   {
    "duration": 34,
    "start_time": "2024-02-13T05:02:24.106Z"
   },
   {
    "duration": 14,
    "start_time": "2024-02-13T05:02:24.144Z"
   },
   {
    "duration": 28,
    "start_time": "2024-02-13T05:02:24.160Z"
   },
   {
    "duration": 14,
    "start_time": "2024-02-13T05:02:24.190Z"
   },
   {
    "duration": 15,
    "start_time": "2024-02-13T05:02:24.205Z"
   },
   {
    "duration": 6,
    "start_time": "2024-02-13T05:02:24.222Z"
   },
   {
    "duration": 304,
    "start_time": "2024-02-13T05:02:24.229Z"
   },
   {
    "duration": 24,
    "start_time": "2024-02-13T05:02:24.534Z"
   },
   {
    "duration": 8,
    "start_time": "2024-02-13T05:02:24.559Z"
   },
   {
    "duration": 30,
    "start_time": "2024-02-13T05:02:24.568Z"
   },
   {
    "duration": 66,
    "start_time": "2024-02-13T05:02:24.600Z"
   },
   {
    "duration": 170,
    "start_time": "2024-02-13T05:02:24.667Z"
   },
   {
    "duration": 8,
    "start_time": "2024-02-13T05:02:24.838Z"
   },
   {
    "duration": 217,
    "start_time": "2024-02-13T05:02:24.847Z"
   },
   {
    "duration": 8,
    "start_time": "2024-02-13T05:02:25.066Z"
   },
   {
    "duration": 148,
    "start_time": "2024-02-13T05:02:25.075Z"
   },
   {
    "duration": 15,
    "start_time": "2024-02-13T05:02:25.225Z"
   },
   {
    "duration": 31,
    "start_time": "2024-02-13T05:02:25.241Z"
   },
   {
    "duration": 172,
    "start_time": "2024-02-13T05:02:25.274Z"
   },
   {
    "duration": 8,
    "start_time": "2024-02-13T05:02:25.447Z"
   },
   {
    "duration": 31,
    "start_time": "2024-02-13T05:02:25.456Z"
   },
   {
    "duration": 10764,
    "start_time": "2024-02-13T05:02:25.489Z"
   },
   {
    "duration": 205,
    "start_time": "2024-02-13T05:02:36.255Z"
   },
   {
    "duration": 9,
    "start_time": "2024-02-13T05:02:36.461Z"
   },
   {
    "duration": 30,
    "start_time": "2024-02-13T05:02:36.472Z"
   },
   {
    "duration": 31,
    "start_time": "2024-02-13T05:02:36.503Z"
   },
   {
    "duration": 10933,
    "start_time": "2024-02-13T05:02:36.535Z"
   },
   {
    "duration": 164,
    "start_time": "2024-02-13T05:02:47.469Z"
   },
   {
    "duration": 10,
    "start_time": "2024-02-13T05:02:47.634Z"
   },
   {
    "duration": 148,
    "start_time": "2024-02-13T05:02:47.645Z"
   },
   {
    "duration": 8,
    "start_time": "2024-02-13T05:02:47.795Z"
   },
   {
    "duration": 183,
    "start_time": "2024-02-13T05:02:47.804Z"
   },
   {
    "duration": 31,
    "start_time": "2024-02-13T05:02:47.989Z"
   },
   {
    "duration": 10,
    "start_time": "2024-02-13T05:02:48.032Z"
   },
   {
    "duration": 167,
    "start_time": "2024-02-13T05:02:48.043Z"
   },
   {
    "duration": 8,
    "start_time": "2024-02-13T05:02:48.213Z"
   },
   {
    "duration": 167,
    "start_time": "2024-02-13T05:02:48.222Z"
   },
   {
    "duration": 259,
    "start_time": "2024-02-13T05:02:48.391Z"
   },
   {
    "duration": 45,
    "start_time": "2024-02-13T05:02:48.652Z"
   },
   {
    "duration": 7,
    "start_time": "2024-02-13T05:02:48.699Z"
   },
   {
    "duration": 28,
    "start_time": "2024-02-13T05:02:48.707Z"
   },
   {
    "duration": 4,
    "start_time": "2024-02-13T05:02:48.737Z"
   },
   {
    "duration": 97,
    "start_time": "2024-02-13T05:02:48.742Z"
   },
   {
    "duration": 11,
    "start_time": "2024-02-13T05:02:48.840Z"
   },
   {
    "duration": 8,
    "start_time": "2024-02-13T05:02:48.852Z"
   },
   {
    "duration": 5,
    "start_time": "2024-02-13T05:02:48.862Z"
   },
   {
    "duration": 10,
    "start_time": "2024-02-13T05:02:48.869Z"
   },
   {
    "duration": 9,
    "start_time": "2024-02-13T05:02:48.880Z"
   },
   {
    "duration": 20,
    "start_time": "2024-02-13T05:02:48.890Z"
   },
   {
    "duration": 22,
    "start_time": "2024-02-13T05:02:48.912Z"
   },
   {
    "duration": 5,
    "start_time": "2024-02-13T05:02:48.935Z"
   },
   {
    "duration": 10,
    "start_time": "2024-02-13T05:02:48.941Z"
   },
   {
    "duration": 18,
    "start_time": "2024-02-13T05:02:48.953Z"
   },
   {
    "duration": 29,
    "start_time": "2024-02-13T05:02:48.972Z"
   },
   {
    "duration": 3711,
    "start_time": "2024-02-13T05:02:49.003Z"
   },
   {
    "duration": 27,
    "start_time": "2024-02-13T05:02:52.721Z"
   },
   {
    "duration": 6,
    "start_time": "2024-02-13T05:02:52.750Z"
   },
   {
    "duration": 48,
    "start_time": "2024-02-13T05:02:52.757Z"
   },
   {
    "duration": 8,
    "start_time": "2024-02-13T05:02:52.807Z"
   },
   {
    "duration": 196,
    "start_time": "2024-02-13T05:02:52.817Z"
   },
   {
    "duration": 76,
    "start_time": "2024-02-13T05:04:08.902Z"
   },
   {
    "duration": 9,
    "start_time": "2024-02-13T05:08:35.414Z"
   },
   {
    "duration": 8,
    "start_time": "2024-02-13T05:08:59.882Z"
   },
   {
    "duration": 6,
    "start_time": "2024-02-13T05:09:11.515Z"
   },
   {
    "duration": 7,
    "start_time": "2024-02-13T05:13:07.754Z"
   },
   {
    "duration": 36,
    "start_time": "2024-02-13T05:13:13.508Z"
   },
   {
    "duration": 26,
    "start_time": "2024-02-13T05:14:26.634Z"
   },
   {
    "duration": 34,
    "start_time": "2024-02-13T05:14:36.861Z"
   },
   {
    "duration": 734,
    "start_time": "2024-02-13T05:14:43.349Z"
   },
   {
    "duration": 14,
    "start_time": "2024-02-13T05:14:44.084Z"
   },
   {
    "duration": 1770,
    "start_time": "2024-02-13T05:14:44.099Z"
   },
   {
    "duration": 10,
    "start_time": "2024-02-13T05:14:45.870Z"
   },
   {
    "duration": 9,
    "start_time": "2024-02-13T05:14:45.882Z"
   },
   {
    "duration": 6,
    "start_time": "2024-02-13T05:14:45.892Z"
   },
   {
    "duration": 7,
    "start_time": "2024-02-13T05:14:45.899Z"
   },
   {
    "duration": 5,
    "start_time": "2024-02-13T05:14:45.907Z"
   },
   {
    "duration": 27,
    "start_time": "2024-02-13T05:14:45.913Z"
   },
   {
    "duration": 21,
    "start_time": "2024-02-13T05:14:45.941Z"
   },
   {
    "duration": 3590,
    "start_time": "2024-02-13T05:14:45.963Z"
   },
   {
    "duration": 21,
    "start_time": "2024-02-13T05:14:49.555Z"
   },
   {
    "duration": 35,
    "start_time": "2024-02-13T05:14:49.578Z"
   },
   {
    "duration": 27,
    "start_time": "2024-02-13T05:14:49.615Z"
   },
   {
    "duration": 30,
    "start_time": "2024-02-13T05:14:49.643Z"
   },
   {
    "duration": 8,
    "start_time": "2024-02-13T05:14:49.674Z"
   },
   {
    "duration": 17,
    "start_time": "2024-02-13T05:14:49.684Z"
   },
   {
    "duration": 18,
    "start_time": "2024-02-13T05:14:49.703Z"
   },
   {
    "duration": 27,
    "start_time": "2024-02-13T05:14:49.732Z"
   },
   {
    "duration": 203,
    "start_time": "2024-02-13T05:14:49.760Z"
   },
   {
    "duration": 12,
    "start_time": "2024-02-13T05:14:49.965Z"
   },
   {
    "duration": 42,
    "start_time": "2024-02-13T05:14:49.979Z"
   },
   {
    "duration": 40,
    "start_time": "2024-02-13T05:14:50.022Z"
   },
   {
    "duration": 8,
    "start_time": "2024-02-13T05:14:50.063Z"
   },
   {
    "duration": 41,
    "start_time": "2024-02-13T05:14:50.072Z"
   },
   {
    "duration": 8,
    "start_time": "2024-02-13T05:14:50.114Z"
   },
   {
    "duration": 24,
    "start_time": "2024-02-13T05:14:50.124Z"
   },
   {
    "duration": 8,
    "start_time": "2024-02-13T05:14:50.149Z"
   },
   {
    "duration": 25,
    "start_time": "2024-02-13T05:14:50.158Z"
   },
   {
    "duration": 36,
    "start_time": "2024-02-13T05:14:50.184Z"
   },
   {
    "duration": 16,
    "start_time": "2024-02-13T05:14:50.222Z"
   },
   {
    "duration": 30,
    "start_time": "2024-02-13T05:14:50.239Z"
   },
   {
    "duration": 319,
    "start_time": "2024-02-13T05:14:50.271Z"
   },
   {
    "duration": 22,
    "start_time": "2024-02-13T05:14:50.592Z"
   },
   {
    "duration": 18,
    "start_time": "2024-02-13T05:14:50.616Z"
   },
   {
    "duration": 38,
    "start_time": "2024-02-13T05:14:50.635Z"
   },
   {
    "duration": 31,
    "start_time": "2024-02-13T05:14:50.675Z"
   },
   {
    "duration": 169,
    "start_time": "2024-02-13T05:14:50.707Z"
   },
   {
    "duration": 9,
    "start_time": "2024-02-13T05:14:50.877Z"
   },
   {
    "duration": 208,
    "start_time": "2024-02-13T05:14:50.888Z"
   },
   {
    "duration": 8,
    "start_time": "2024-02-13T05:14:51.101Z"
   },
   {
    "duration": 152,
    "start_time": "2024-02-13T05:14:51.111Z"
   },
   {
    "duration": 8,
    "start_time": "2024-02-13T05:14:51.265Z"
   },
   {
    "duration": 33,
    "start_time": "2024-02-13T05:14:51.274Z"
   },
   {
    "duration": 189,
    "start_time": "2024-02-13T05:14:51.309Z"
   },
   {
    "duration": 8,
    "start_time": "2024-02-13T05:14:51.500Z"
   },
   {
    "duration": 49,
    "start_time": "2024-02-13T05:14:51.509Z"
   },
   {
    "duration": 10664,
    "start_time": "2024-02-13T05:14:51.560Z"
   },
   {
    "duration": 150,
    "start_time": "2024-02-13T05:15:02.225Z"
   },
   {
    "duration": 9,
    "start_time": "2024-02-13T05:15:02.376Z"
   },
   {
    "duration": 45,
    "start_time": "2024-02-13T05:15:02.386Z"
   },
   {
    "duration": 10,
    "start_time": "2024-02-13T05:15:02.432Z"
   },
   {
    "duration": 11122,
    "start_time": "2024-02-13T05:15:02.443Z"
   },
   {
    "duration": 156,
    "start_time": "2024-02-13T05:15:13.567Z"
   },
   {
    "duration": 11,
    "start_time": "2024-02-13T05:15:13.733Z"
   },
   {
    "duration": 146,
    "start_time": "2024-02-13T05:15:13.746Z"
   },
   {
    "duration": 8,
    "start_time": "2024-02-13T05:15:13.893Z"
   },
   {
    "duration": 196,
    "start_time": "2024-02-13T05:15:13.903Z"
   },
   {
    "duration": 40,
    "start_time": "2024-02-13T05:15:14.100Z"
   },
   {
    "duration": 8,
    "start_time": "2024-02-13T05:15:14.142Z"
   },
   {
    "duration": 172,
    "start_time": "2024-02-13T05:15:14.152Z"
   },
   {
    "duration": 13,
    "start_time": "2024-02-13T05:15:14.326Z"
   },
   {
    "duration": 157,
    "start_time": "2024-02-13T05:15:14.340Z"
   },
   {
    "duration": 226,
    "start_time": "2024-02-13T05:15:14.499Z"
   },
   {
    "duration": 39,
    "start_time": "2024-02-13T05:15:14.726Z"
   },
   {
    "duration": 7,
    "start_time": "2024-02-13T05:15:14.767Z"
   },
   {
    "duration": 19,
    "start_time": "2024-02-13T05:15:14.775Z"
   },
   {
    "duration": 6,
    "start_time": "2024-02-13T05:15:14.796Z"
   },
   {
    "duration": 5,
    "start_time": "2024-02-13T05:15:14.804Z"
   },
   {
    "duration": 103,
    "start_time": "2024-02-13T05:15:14.811Z"
   },
   {
    "duration": 21,
    "start_time": "2024-02-13T05:15:14.916Z"
   },
   {
    "duration": 5,
    "start_time": "2024-02-13T05:15:14.939Z"
   },
   {
    "duration": 9,
    "start_time": "2024-02-13T05:15:14.945Z"
   },
   {
    "duration": 5,
    "start_time": "2024-02-13T05:15:14.955Z"
   },
   {
    "duration": 4,
    "start_time": "2024-02-13T05:15:14.961Z"
   },
   {
    "duration": 4,
    "start_time": "2024-02-13T05:15:14.966Z"
   },
   {
    "duration": 4,
    "start_time": "2024-02-13T05:15:14.972Z"
   },
   {
    "duration": 9,
    "start_time": "2024-02-13T05:15:14.978Z"
   },
   {
    "duration": 7,
    "start_time": "2024-02-13T05:15:14.988Z"
   },
   {
    "duration": 61,
    "start_time": "2024-02-13T05:15:14.996Z"
   },
   {
    "duration": 3428,
    "start_time": "2024-02-13T05:15:15.059Z"
   },
   {
    "duration": 45,
    "start_time": "2024-02-13T05:15:18.489Z"
   },
   {
    "duration": 7,
    "start_time": "2024-02-13T05:15:18.536Z"
   },
   {
    "duration": 35,
    "start_time": "2024-02-13T05:15:18.545Z"
   },
   {
    "duration": 19,
    "start_time": "2024-02-13T05:15:18.582Z"
   },
   {
    "duration": 155,
    "start_time": "2024-02-13T05:15:18.602Z"
   },
   {
    "duration": 15,
    "start_time": "2024-02-13T05:22:07.440Z"
   },
   {
    "duration": 76,
    "start_time": "2024-02-13T05:22:47.821Z"
   },
   {
    "duration": 16,
    "start_time": "2024-02-13T05:23:08.365Z"
   },
   {
    "duration": 26,
    "start_time": "2024-02-13T05:23:51.309Z"
   },
   {
    "duration": 27,
    "start_time": "2024-02-13T05:24:04.514Z"
   },
   {
    "duration": 5,
    "start_time": "2024-02-13T05:31:10.428Z"
   },
   {
    "duration": 4,
    "start_time": "2024-02-13T05:31:33.096Z"
   },
   {
    "duration": 24,
    "start_time": "2024-02-13T05:41:52.624Z"
   },
   {
    "duration": 9,
    "start_time": "2024-02-13T05:47:51.845Z"
   },
   {
    "duration": 10,
    "start_time": "2024-02-13T05:48:18.307Z"
   },
   {
    "duration": 9,
    "start_time": "2024-02-13T05:51:21.212Z"
   },
   {
    "duration": 8,
    "start_time": "2024-02-13T05:54:21.810Z"
   },
   {
    "duration": 7,
    "start_time": "2024-02-13T05:54:30.482Z"
   },
   {
    "duration": 7,
    "start_time": "2024-02-13T05:56:11.464Z"
   },
   {
    "duration": 11,
    "start_time": "2024-02-13T05:57:38.584Z"
   },
   {
    "duration": 10,
    "start_time": "2024-02-13T05:58:11.458Z"
   },
   {
    "duration": 77,
    "start_time": "2024-02-13T05:58:42.687Z"
   },
   {
    "duration": 10,
    "start_time": "2024-02-13T05:59:01.588Z"
   },
   {
    "duration": 79,
    "start_time": "2024-02-13T06:00:51.131Z"
   },
   {
    "duration": 11,
    "start_time": "2024-02-13T06:02:19.478Z"
   },
   {
    "duration": 130,
    "start_time": "2024-02-13T06:03:15.481Z"
   },
   {
    "duration": 10,
    "start_time": "2024-02-13T06:03:35.011Z"
   },
   {
    "duration": 10,
    "start_time": "2024-02-13T06:04:02.439Z"
   },
   {
    "duration": 4,
    "start_time": "2024-02-13T06:04:36.055Z"
   },
   {
    "duration": 5,
    "start_time": "2024-02-13T06:04:38.924Z"
   },
   {
    "duration": 8,
    "start_time": "2024-02-13T06:06:48.594Z"
   },
   {
    "duration": 9,
    "start_time": "2024-02-13T06:06:59.620Z"
   },
   {
    "duration": 5,
    "start_time": "2024-02-13T06:27:04.631Z"
   },
   {
    "duration": 185,
    "start_time": "2024-02-13T06:27:59.722Z"
   },
   {
    "duration": 73,
    "start_time": "2024-02-13T06:28:17.205Z"
   },
   {
    "duration": 87,
    "start_time": "2024-02-13T06:29:02.331Z"
   },
   {
    "duration": 67,
    "start_time": "2024-02-13T06:29:48.815Z"
   },
   {
    "duration": 188,
    "start_time": "2024-02-13T06:30:44.042Z"
   },
   {
    "duration": 5,
    "start_time": "2024-02-13T06:33:47.894Z"
   },
   {
    "duration": 193,
    "start_time": "2024-02-13T06:35:14.724Z"
   },
   {
    "duration": 175,
    "start_time": "2024-02-13T06:36:04.030Z"
   },
   {
    "duration": 171,
    "start_time": "2024-02-13T06:36:47.470Z"
   },
   {
    "duration": 172,
    "start_time": "2024-02-13T06:37:08.981Z"
   },
   {
    "duration": 185,
    "start_time": "2024-02-13T06:38:00.857Z"
   },
   {
    "duration": 134,
    "start_time": "2024-02-13T06:40:43.401Z"
   },
   {
    "duration": 132,
    "start_time": "2024-02-13T06:42:33.111Z"
   },
   {
    "duration": 139,
    "start_time": "2024-02-13T06:43:24.603Z"
   },
   {
    "duration": 142,
    "start_time": "2024-02-13T06:43:54.879Z"
   },
   {
    "duration": 19,
    "start_time": "2024-02-13T06:57:21.092Z"
   },
   {
    "duration": 4,
    "start_time": "2024-02-13T06:58:00.310Z"
   },
   {
    "duration": 72,
    "start_time": "2024-02-13T06:58:11.740Z"
   },
   {
    "duration": 5,
    "start_time": "2024-02-13T06:58:14.924Z"
   },
   {
    "duration": 186,
    "start_time": "2024-02-13T06:59:42.238Z"
   },
   {
    "duration": 146,
    "start_time": "2024-02-13T07:01:51.941Z"
   },
   {
    "duration": 146,
    "start_time": "2024-02-13T07:02:09.908Z"
   },
   {
    "duration": 145,
    "start_time": "2024-02-13T07:02:17.559Z"
   },
   {
    "duration": 195,
    "start_time": "2024-02-13T07:04:39.244Z"
   },
   {
    "duration": 182,
    "start_time": "2024-02-13T07:04:59.235Z"
   },
   {
    "duration": 204,
    "start_time": "2024-02-13T07:05:18.701Z"
   },
   {
    "duration": 159,
    "start_time": "2024-02-13T07:05:44.359Z"
   },
   {
    "duration": 215,
    "start_time": "2024-02-13T07:06:05.995Z"
   },
   {
    "duration": 239,
    "start_time": "2024-02-13T07:06:16.333Z"
   },
   {
    "duration": 190,
    "start_time": "2024-02-13T07:06:50.827Z"
   },
   {
    "duration": 191,
    "start_time": "2024-02-13T07:06:54.989Z"
   },
   {
    "duration": 196,
    "start_time": "2024-02-13T07:07:07.757Z"
   },
   {
    "duration": 136,
    "start_time": "2024-02-13T07:07:44.829Z"
   },
   {
    "duration": 188,
    "start_time": "2024-02-13T07:08:56.506Z"
   },
   {
    "duration": 361,
    "start_time": "2024-02-13T07:09:17.091Z"
   },
   {
    "duration": 186,
    "start_time": "2024-02-13T07:09:31.953Z"
   },
   {
    "duration": 1408,
    "start_time": "2024-02-13T07:10:17.640Z"
   },
   {
    "duration": 1554,
    "start_time": "2024-02-13T07:10:31.106Z"
   },
   {
    "duration": 1119,
    "start_time": "2024-02-13T07:10:38.464Z"
   },
   {
    "duration": 157,
    "start_time": "2024-02-13T07:21:50.070Z"
   },
   {
    "duration": 143,
    "start_time": "2024-02-13T07:22:26.509Z"
   },
   {
    "duration": 158,
    "start_time": "2024-02-13T07:24:40.522Z"
   },
   {
    "duration": 135,
    "start_time": "2024-02-13T07:25:09.606Z"
   },
   {
    "duration": 1801,
    "start_time": "2024-02-13T07:25:35.109Z"
   },
   {
    "duration": 178,
    "start_time": "2024-02-13T07:25:42.769Z"
   },
   {
    "duration": 139,
    "start_time": "2024-02-13T07:26:25.981Z"
   },
   {
    "duration": 143,
    "start_time": "2024-02-13T07:26:48.832Z"
   },
   {
    "duration": 171,
    "start_time": "2024-02-13T07:27:21.636Z"
   },
   {
    "duration": 154,
    "start_time": "2024-02-13T07:27:31.829Z"
   },
   {
    "duration": 148,
    "start_time": "2024-02-13T07:27:53.789Z"
   },
   {
    "duration": 139,
    "start_time": "2024-02-13T07:42:50.531Z"
   },
   {
    "duration": 3,
    "start_time": "2024-02-13T08:14:07.856Z"
   },
   {
    "duration": 3,
    "start_time": "2024-02-13T08:14:13.591Z"
   },
   {
    "duration": 37,
    "start_time": "2024-02-13T08:21:38.406Z"
   },
   {
    "duration": 74,
    "start_time": "2024-02-13T09:02:15.589Z"
   },
   {
    "duration": 68,
    "start_time": "2024-02-13T09:02:26.505Z"
   },
   {
    "duration": 46,
    "start_time": "2024-02-13T09:02:51.827Z"
   },
   {
    "duration": 24,
    "start_time": "2024-02-13T09:03:11.367Z"
   },
   {
    "duration": 23,
    "start_time": "2024-02-13T09:04:08.597Z"
   },
   {
    "duration": 809,
    "start_time": "2024-02-13T09:04:38.549Z"
   },
   {
    "duration": 14,
    "start_time": "2024-02-13T09:04:39.360Z"
   },
   {
    "duration": 1982,
    "start_time": "2024-02-13T09:04:39.375Z"
   },
   {
    "duration": 9,
    "start_time": "2024-02-13T09:04:41.359Z"
   },
   {
    "duration": 41,
    "start_time": "2024-02-13T09:04:41.369Z"
   },
   {
    "duration": 16,
    "start_time": "2024-02-13T09:04:41.412Z"
   },
   {
    "duration": 26,
    "start_time": "2024-02-13T09:04:41.429Z"
   },
   {
    "duration": 24,
    "start_time": "2024-02-13T09:04:41.456Z"
   },
   {
    "duration": 35,
    "start_time": "2024-02-13T09:04:41.481Z"
   },
   {
    "duration": 32,
    "start_time": "2024-02-13T09:04:41.518Z"
   },
   {
    "duration": 4076,
    "start_time": "2024-02-13T09:04:41.552Z"
   },
   {
    "duration": 34,
    "start_time": "2024-02-13T09:04:45.630Z"
   },
   {
    "duration": 26,
    "start_time": "2024-02-13T09:04:45.665Z"
   },
   {
    "duration": 15,
    "start_time": "2024-02-13T09:04:45.693Z"
   },
   {
    "duration": 43,
    "start_time": "2024-02-13T09:04:45.710Z"
   },
   {
    "duration": 10,
    "start_time": "2024-02-13T09:04:45.755Z"
   },
   {
    "duration": 13,
    "start_time": "2024-02-13T09:04:45.766Z"
   },
   {
    "duration": 13,
    "start_time": "2024-02-13T09:04:45.781Z"
   },
   {
    "duration": 64,
    "start_time": "2024-02-13T09:04:45.795Z"
   },
   {
    "duration": 228,
    "start_time": "2024-02-13T09:04:45.862Z"
   },
   {
    "duration": 19,
    "start_time": "2024-02-13T09:04:46.092Z"
   },
   {
    "duration": 33,
    "start_time": "2024-02-13T09:04:46.113Z"
   },
   {
    "duration": 34,
    "start_time": "2024-02-13T09:04:46.148Z"
   },
   {
    "duration": 9,
    "start_time": "2024-02-13T09:04:46.184Z"
   },
   {
    "duration": 52,
    "start_time": "2024-02-13T09:04:46.195Z"
   },
   {
    "duration": 10,
    "start_time": "2024-02-13T09:04:46.248Z"
   },
   {
    "duration": 30,
    "start_time": "2024-02-13T09:04:46.259Z"
   },
   {
    "duration": 5,
    "start_time": "2024-02-13T09:04:46.292Z"
   },
   {
    "duration": 9,
    "start_time": "2024-02-13T09:04:46.299Z"
   },
   {
    "duration": 36,
    "start_time": "2024-02-13T09:04:46.309Z"
   },
   {
    "duration": 5,
    "start_time": "2024-02-13T09:04:46.347Z"
   },
   {
    "duration": 6,
    "start_time": "2024-02-13T09:04:46.353Z"
   },
   {
    "duration": 339,
    "start_time": "2024-02-13T09:04:46.360Z"
   },
   {
    "duration": 23,
    "start_time": "2024-02-13T09:04:46.701Z"
   },
   {
    "duration": 10,
    "start_time": "2024-02-13T09:04:46.745Z"
   },
   {
    "duration": 56,
    "start_time": "2024-02-13T09:04:46.757Z"
   },
   {
    "duration": 34,
    "start_time": "2024-02-13T09:04:46.815Z"
   },
   {
    "duration": 174,
    "start_time": "2024-02-13T09:04:46.850Z"
   },
   {
    "duration": 14,
    "start_time": "2024-02-13T09:04:47.026Z"
   },
   {
    "duration": 221,
    "start_time": "2024-02-13T09:04:47.042Z"
   },
   {
    "duration": 9,
    "start_time": "2024-02-13T09:04:47.265Z"
   },
   {
    "duration": 155,
    "start_time": "2024-02-13T09:04:47.275Z"
   },
   {
    "duration": 19,
    "start_time": "2024-02-13T09:04:47.432Z"
   },
   {
    "duration": 32,
    "start_time": "2024-02-13T09:04:47.453Z"
   },
   {
    "duration": 180,
    "start_time": "2024-02-13T09:04:47.487Z"
   },
   {
    "duration": 8,
    "start_time": "2024-02-13T09:04:47.668Z"
   },
   {
    "duration": 39,
    "start_time": "2024-02-13T09:04:47.677Z"
   },
   {
    "duration": 11832,
    "start_time": "2024-02-13T09:04:47.718Z"
   },
   {
    "duration": 170,
    "start_time": "2024-02-13T09:04:59.552Z"
   },
   {
    "duration": 26,
    "start_time": "2024-02-13T09:04:59.724Z"
   },
   {
    "duration": 33,
    "start_time": "2024-02-13T09:04:59.752Z"
   },
   {
    "duration": 11,
    "start_time": "2024-02-13T09:04:59.787Z"
   },
   {
    "duration": 11811,
    "start_time": "2024-02-13T09:04:59.799Z"
   },
   {
    "duration": 187,
    "start_time": "2024-02-13T09:05:11.612Z"
   },
   {
    "duration": 11,
    "start_time": "2024-02-13T09:05:11.800Z"
   },
   {
    "duration": 149,
    "start_time": "2024-02-13T09:05:11.812Z"
   },
   {
    "duration": 11,
    "start_time": "2024-02-13T09:05:11.969Z"
   },
   {
    "duration": 195,
    "start_time": "2024-02-13T09:05:11.982Z"
   },
   {
    "duration": 30,
    "start_time": "2024-02-13T09:05:12.179Z"
   },
   {
    "duration": 8,
    "start_time": "2024-02-13T09:05:12.211Z"
   },
   {
    "duration": 177,
    "start_time": "2024-02-13T09:05:12.220Z"
   },
   {
    "duration": 8,
    "start_time": "2024-02-13T09:05:12.399Z"
   },
   {
    "duration": 171,
    "start_time": "2024-02-13T09:05:12.409Z"
   },
   {
    "duration": 240,
    "start_time": "2024-02-13T09:05:12.582Z"
   },
   {
    "duration": 21,
    "start_time": "2024-02-13T09:05:12.824Z"
   },
   {
    "duration": 13,
    "start_time": "2024-02-13T09:05:12.849Z"
   },
   {
    "duration": 11,
    "start_time": "2024-02-13T09:05:12.863Z"
   },
   {
    "duration": 120,
    "start_time": "2024-02-13T09:05:12.875Z"
   },
   {
    "duration": 5,
    "start_time": "2024-02-13T09:05:12.997Z"
   },
   {
    "duration": 7,
    "start_time": "2024-02-13T09:05:13.004Z"
   },
   {
    "duration": 53,
    "start_time": "2024-02-13T09:05:13.013Z"
   },
   {
    "duration": 11,
    "start_time": "2024-02-13T09:05:13.068Z"
   },
   {
    "duration": 5,
    "start_time": "2024-02-13T09:05:13.080Z"
   },
   {
    "duration": 232,
    "start_time": "2024-02-13T09:05:13.086Z"
   },
   {
    "duration": 25,
    "start_time": "2024-02-13T09:05:13.319Z"
   },
   {
    "duration": 192,
    "start_time": "2024-02-13T09:05:13.346Z"
   },
   {
    "duration": 6,
    "start_time": "2024-02-13T09:05:13.540Z"
   },
   {
    "duration": 205,
    "start_time": "2024-02-13T09:05:13.549Z"
   },
   {
    "duration": 5,
    "start_time": "2024-02-13T09:05:13.756Z"
   },
   {
    "duration": 6,
    "start_time": "2024-02-13T09:05:13.763Z"
   },
   {
    "duration": 176,
    "start_time": "2024-02-13T09:05:13.771Z"
   },
   {
    "duration": 146,
    "start_time": "2024-02-13T09:05:13.952Z"
   },
   {
    "duration": 5,
    "start_time": "2024-02-13T09:05:14.099Z"
   },
   {
    "duration": 192,
    "start_time": "2024-02-13T09:05:14.106Z"
   },
   {
    "duration": 5,
    "start_time": "2024-02-13T09:05:14.300Z"
   },
   {
    "duration": 188,
    "start_time": "2024-02-13T09:05:14.307Z"
   },
   {
    "duration": 6,
    "start_time": "2024-02-13T09:05:14.497Z"
   },
   {
    "duration": 174,
    "start_time": "2024-02-13T09:05:14.505Z"
   },
   {
    "duration": 3,
    "start_time": "2024-02-13T09:05:14.680Z"
   },
   {
    "duration": 7,
    "start_time": "2024-02-13T09:05:14.684Z"
   },
   {
    "duration": 25,
    "start_time": "2024-02-13T09:05:14.692Z"
   },
   {
    "duration": 22,
    "start_time": "2024-02-13T09:05:14.724Z"
   },
   {
    "duration": 46,
    "start_time": "2024-02-13T09:05:14.747Z"
   },
   {
    "duration": 9,
    "start_time": "2024-02-13T09:05:14.795Z"
   },
   {
    "duration": 163,
    "start_time": "2024-02-13T09:05:14.805Z"
   },
   {
    "duration": 84,
    "start_time": "2024-02-13T09:07:58.280Z"
   },
   {
    "duration": 24,
    "start_time": "2024-02-13T09:08:13.491Z"
   },
   {
    "duration": 17,
    "start_time": "2024-02-13T09:09:02.814Z"
   },
   {
    "duration": 31,
    "start_time": "2024-02-13T09:09:16.430Z"
   },
   {
    "duration": 771,
    "start_time": "2024-02-13T09:09:50.136Z"
   },
   {
    "duration": 14,
    "start_time": "2024-02-13T09:09:50.909Z"
   },
   {
    "duration": 1820,
    "start_time": "2024-02-13T09:09:50.925Z"
   },
   {
    "duration": 9,
    "start_time": "2024-02-13T09:09:52.747Z"
   },
   {
    "duration": 28,
    "start_time": "2024-02-13T09:09:52.757Z"
   },
   {
    "duration": 5,
    "start_time": "2024-02-13T09:09:52.786Z"
   },
   {
    "duration": 8,
    "start_time": "2024-02-13T09:09:52.792Z"
   },
   {
    "duration": 5,
    "start_time": "2024-02-13T09:09:52.801Z"
   },
   {
    "duration": 27,
    "start_time": "2024-02-13T09:09:52.807Z"
   },
   {
    "duration": 22,
    "start_time": "2024-02-13T09:09:52.836Z"
   },
   {
    "duration": 3679,
    "start_time": "2024-02-13T09:09:52.860Z"
   },
   {
    "duration": 24,
    "start_time": "2024-02-13T09:09:56.541Z"
   },
   {
    "duration": 63,
    "start_time": "2024-02-13T09:09:56.566Z"
   },
   {
    "duration": 38,
    "start_time": "2024-02-13T09:09:56.630Z"
   },
   {
    "duration": 40,
    "start_time": "2024-02-13T09:09:56.669Z"
   },
   {
    "duration": 21,
    "start_time": "2024-02-13T09:09:56.710Z"
   },
   {
    "duration": 22,
    "start_time": "2024-02-13T09:09:56.733Z"
   },
   {
    "duration": 39,
    "start_time": "2024-02-13T09:09:56.757Z"
   },
   {
    "duration": 47,
    "start_time": "2024-02-13T09:09:56.797Z"
   },
   {
    "duration": 175,
    "start_time": "2024-02-13T09:09:56.845Z"
   },
   {
    "duration": 16,
    "start_time": "2024-02-13T09:09:57.021Z"
   },
   {
    "duration": 45,
    "start_time": "2024-02-13T09:09:57.038Z"
   },
   {
    "duration": 34,
    "start_time": "2024-02-13T09:09:57.084Z"
   },
   {
    "duration": 7,
    "start_time": "2024-02-13T09:09:57.119Z"
   },
   {
    "duration": 39,
    "start_time": "2024-02-13T09:09:57.128Z"
   },
   {
    "duration": 8,
    "start_time": "2024-02-13T09:09:57.169Z"
   },
   {
    "duration": 36,
    "start_time": "2024-02-13T09:09:57.178Z"
   },
   {
    "duration": 9,
    "start_time": "2024-02-13T09:09:57.218Z"
   },
   {
    "duration": 28,
    "start_time": "2024-02-13T09:09:57.228Z"
   },
   {
    "duration": 36,
    "start_time": "2024-02-13T09:09:57.257Z"
   },
   {
    "duration": 31,
    "start_time": "2024-02-13T09:09:57.295Z"
   },
   {
    "duration": 29,
    "start_time": "2024-02-13T09:09:57.328Z"
   },
   {
    "duration": 317,
    "start_time": "2024-02-13T09:09:57.359Z"
   },
   {
    "duration": 24,
    "start_time": "2024-02-13T09:09:57.678Z"
   },
   {
    "duration": 12,
    "start_time": "2024-02-13T09:09:57.704Z"
   },
   {
    "duration": 65,
    "start_time": "2024-02-13T09:09:57.717Z"
   },
   {
    "duration": 35,
    "start_time": "2024-02-13T09:09:57.784Z"
   },
   {
    "duration": 173,
    "start_time": "2024-02-13T09:09:57.821Z"
   },
   {
    "duration": 8,
    "start_time": "2024-02-13T09:09:57.995Z"
   },
   {
    "duration": 220,
    "start_time": "2024-02-13T09:09:58.004Z"
   },
   {
    "duration": 15,
    "start_time": "2024-02-13T09:09:58.225Z"
   },
   {
    "duration": 150,
    "start_time": "2024-02-13T09:09:58.242Z"
   },
   {
    "duration": 9,
    "start_time": "2024-02-13T09:09:58.393Z"
   },
   {
    "duration": 49,
    "start_time": "2024-02-13T09:09:58.403Z"
   },
   {
    "duration": 157,
    "start_time": "2024-02-13T09:09:58.453Z"
   },
   {
    "duration": 8,
    "start_time": "2024-02-13T09:09:58.612Z"
   },
   {
    "duration": 38,
    "start_time": "2024-02-13T09:09:58.621Z"
   },
   {
    "duration": 11133,
    "start_time": "2024-02-13T09:09:58.661Z"
   },
   {
    "duration": 167,
    "start_time": "2024-02-13T09:10:09.796Z"
   },
   {
    "duration": 8,
    "start_time": "2024-02-13T09:10:09.964Z"
   },
   {
    "duration": 31,
    "start_time": "2024-02-13T09:10:09.974Z"
   },
   {
    "duration": 27,
    "start_time": "2024-02-13T09:10:10.007Z"
   },
   {
    "duration": 11827,
    "start_time": "2024-02-13T09:10:10.035Z"
   },
   {
    "duration": 173,
    "start_time": "2024-02-13T09:10:21.864Z"
   },
   {
    "duration": 9,
    "start_time": "2024-02-13T09:10:22.039Z"
   },
   {
    "duration": 136,
    "start_time": "2024-02-13T09:10:22.050Z"
   },
   {
    "duration": 9,
    "start_time": "2024-02-13T09:10:22.188Z"
   },
   {
    "duration": 179,
    "start_time": "2024-02-13T09:10:22.198Z"
   },
   {
    "duration": 30,
    "start_time": "2024-02-13T09:10:22.378Z"
   },
   {
    "duration": 25,
    "start_time": "2024-02-13T09:10:22.410Z"
   },
   {
    "duration": 149,
    "start_time": "2024-02-13T09:10:22.436Z"
   },
   {
    "duration": 8,
    "start_time": "2024-02-13T09:10:22.586Z"
   },
   {
    "duration": 156,
    "start_time": "2024-02-13T09:10:22.595Z"
   },
   {
    "duration": 259,
    "start_time": "2024-02-13T09:10:22.752Z"
   },
   {
    "duration": 10,
    "start_time": "2024-02-13T09:10:23.013Z"
   },
   {
    "duration": 15,
    "start_time": "2024-02-13T09:10:23.025Z"
   },
   {
    "duration": 12,
    "start_time": "2024-02-13T09:10:23.042Z"
   },
   {
    "duration": 114,
    "start_time": "2024-02-13T09:10:23.055Z"
   },
   {
    "duration": 29,
    "start_time": "2024-02-13T09:10:23.171Z"
   },
   {
    "duration": 5,
    "start_time": "2024-02-13T09:10:23.202Z"
   },
   {
    "duration": 16,
    "start_time": "2024-02-13T09:10:23.209Z"
   },
   {
    "duration": 9,
    "start_time": "2024-02-13T09:10:23.226Z"
   },
   {
    "duration": 5,
    "start_time": "2024-02-13T09:10:23.237Z"
   },
   {
    "duration": 205,
    "start_time": "2024-02-13T09:10:23.244Z"
   },
   {
    "duration": 5,
    "start_time": "2024-02-13T09:10:23.450Z"
   },
   {
    "duration": 186,
    "start_time": "2024-02-13T09:10:23.457Z"
   },
   {
    "duration": 5,
    "start_time": "2024-02-13T09:10:23.644Z"
   },
   {
    "duration": 196,
    "start_time": "2024-02-13T09:10:23.650Z"
   },
   {
    "duration": 5,
    "start_time": "2024-02-13T09:10:23.847Z"
   },
   {
    "duration": 5,
    "start_time": "2024-02-13T09:10:23.854Z"
   },
   {
    "duration": 150,
    "start_time": "2024-02-13T09:10:23.860Z"
   },
   {
    "duration": 135,
    "start_time": "2024-02-13T09:10:24.016Z"
   },
   {
    "duration": 5,
    "start_time": "2024-02-13T09:10:24.152Z"
   },
   {
    "duration": 169,
    "start_time": "2024-02-13T09:10:24.158Z"
   },
   {
    "duration": 9,
    "start_time": "2024-02-13T09:10:24.328Z"
   },
   {
    "duration": 164,
    "start_time": "2024-02-13T09:10:24.339Z"
   },
   {
    "duration": 6,
    "start_time": "2024-02-13T09:10:24.504Z"
   },
   {
    "duration": 161,
    "start_time": "2024-02-13T09:10:24.512Z"
   },
   {
    "duration": 2,
    "start_time": "2024-02-13T09:10:24.674Z"
   },
   {
    "duration": 4,
    "start_time": "2024-02-13T09:10:24.678Z"
   },
   {
    "duration": 26,
    "start_time": "2024-02-13T09:10:24.683Z"
   },
   {
    "duration": 23,
    "start_time": "2024-02-13T09:10:24.711Z"
   },
   {
    "duration": 29,
    "start_time": "2024-02-13T09:10:24.735Z"
   },
   {
    "duration": 7,
    "start_time": "2024-02-13T09:10:24.766Z"
   },
   {
    "duration": 169,
    "start_time": "2024-02-13T09:10:24.774Z"
   },
   {
    "duration": 90,
    "start_time": "2024-02-13T09:11:52.521Z"
   },
   {
    "duration": 21,
    "start_time": "2024-02-13T09:12:58.616Z"
   },
   {
    "duration": 790,
    "start_time": "2024-02-13T09:13:09.944Z"
   },
   {
    "duration": 16,
    "start_time": "2024-02-13T09:13:10.735Z"
   },
   {
    "duration": 1988,
    "start_time": "2024-02-13T09:13:10.753Z"
   },
   {
    "duration": 9,
    "start_time": "2024-02-13T09:13:12.744Z"
   },
   {
    "duration": 7,
    "start_time": "2024-02-13T09:13:12.755Z"
   },
   {
    "duration": 10,
    "start_time": "2024-02-13T09:13:12.764Z"
   },
   {
    "duration": 6,
    "start_time": "2024-02-13T09:13:12.776Z"
   },
   {
    "duration": 5,
    "start_time": "2024-02-13T09:13:12.784Z"
   },
   {
    "duration": 50,
    "start_time": "2024-02-13T09:13:12.791Z"
   },
   {
    "duration": 30,
    "start_time": "2024-02-13T09:13:12.845Z"
   },
   {
    "duration": 3805,
    "start_time": "2024-02-13T09:13:12.876Z"
   },
   {
    "duration": 27,
    "start_time": "2024-02-13T09:13:16.682Z"
   },
   {
    "duration": 34,
    "start_time": "2024-02-13T09:13:16.710Z"
   },
   {
    "duration": 14,
    "start_time": "2024-02-13T09:13:16.745Z"
   },
   {
    "duration": 24,
    "start_time": "2024-02-13T09:13:16.761Z"
   },
   {
    "duration": 8,
    "start_time": "2024-02-13T09:13:16.786Z"
   },
   {
    "duration": 16,
    "start_time": "2024-02-13T09:13:16.795Z"
   },
   {
    "duration": 13,
    "start_time": "2024-02-13T09:13:16.833Z"
   },
   {
    "duration": 27,
    "start_time": "2024-02-13T09:13:16.847Z"
   },
   {
    "duration": 195,
    "start_time": "2024-02-13T09:13:16.875Z"
   },
   {
    "duration": 14,
    "start_time": "2024-02-13T09:13:17.071Z"
   },
   {
    "duration": 21,
    "start_time": "2024-02-13T09:13:17.086Z"
   },
   {
    "duration": 48,
    "start_time": "2024-02-13T09:13:17.109Z"
   },
   {
    "duration": 8,
    "start_time": "2024-02-13T09:13:17.158Z"
   },
   {
    "duration": 21,
    "start_time": "2024-02-13T09:13:17.167Z"
   },
   {
    "duration": 8,
    "start_time": "2024-02-13T09:13:17.190Z"
   },
   {
    "duration": 55,
    "start_time": "2024-02-13T09:13:17.199Z"
   },
   {
    "duration": 5,
    "start_time": "2024-02-13T09:13:17.257Z"
   },
   {
    "duration": 5,
    "start_time": "2024-02-13T09:13:17.264Z"
   },
   {
    "duration": 16,
    "start_time": "2024-02-13T09:13:17.270Z"
   },
   {
    "duration": 5,
    "start_time": "2024-02-13T09:13:17.288Z"
   },
   {
    "duration": 7,
    "start_time": "2024-02-13T09:13:17.294Z"
   },
   {
    "duration": 333,
    "start_time": "2024-02-13T09:13:17.303Z"
   },
   {
    "duration": 23,
    "start_time": "2024-02-13T09:13:17.638Z"
   },
   {
    "duration": 8,
    "start_time": "2024-02-13T09:13:17.662Z"
   },
   {
    "duration": 44,
    "start_time": "2024-02-13T09:13:17.671Z"
   },
   {
    "duration": 52,
    "start_time": "2024-02-13T09:13:17.717Z"
   },
   {
    "duration": 168,
    "start_time": "2024-02-13T09:13:17.771Z"
   },
   {
    "duration": 9,
    "start_time": "2024-02-13T09:13:17.941Z"
   },
   {
    "duration": 242,
    "start_time": "2024-02-13T09:13:17.951Z"
   },
   {
    "duration": 11,
    "start_time": "2024-02-13T09:13:18.195Z"
   },
   {
    "duration": 168,
    "start_time": "2024-02-13T09:13:18.207Z"
   },
   {
    "duration": 10,
    "start_time": "2024-02-13T09:13:18.377Z"
   },
   {
    "duration": 49,
    "start_time": "2024-02-13T09:13:18.389Z"
   },
   {
    "duration": 177,
    "start_time": "2024-02-13T09:13:18.440Z"
   },
   {
    "duration": 14,
    "start_time": "2024-02-13T09:13:18.620Z"
   },
   {
    "duration": 31,
    "start_time": "2024-02-13T09:13:18.636Z"
   },
   {
    "duration": 11121,
    "start_time": "2024-02-13T09:13:18.669Z"
   },
   {
    "duration": 179,
    "start_time": "2024-02-13T09:13:29.792Z"
   },
   {
    "duration": 10,
    "start_time": "2024-02-13T09:13:29.973Z"
   },
   {
    "duration": 51,
    "start_time": "2024-02-13T09:13:29.985Z"
   },
   {
    "duration": 11,
    "start_time": "2024-02-13T09:13:30.037Z"
   },
   {
    "duration": 11608,
    "start_time": "2024-02-13T09:13:30.049Z"
   },
   {
    "duration": 188,
    "start_time": "2024-02-13T09:13:41.658Z"
   },
   {
    "duration": 9,
    "start_time": "2024-02-13T09:13:41.848Z"
   },
   {
    "duration": 129,
    "start_time": "2024-02-13T09:13:41.858Z"
   },
   {
    "duration": 8,
    "start_time": "2024-02-13T09:13:41.988Z"
   },
   {
    "duration": 177,
    "start_time": "2024-02-13T09:13:41.998Z"
   },
   {
    "duration": 33,
    "start_time": "2024-02-13T09:13:42.177Z"
   },
   {
    "duration": 26,
    "start_time": "2024-02-13T09:13:42.211Z"
   },
   {
    "duration": 175,
    "start_time": "2024-02-13T09:13:42.239Z"
   },
   {
    "duration": 9,
    "start_time": "2024-02-13T09:13:42.415Z"
   },
   {
    "duration": 166,
    "start_time": "2024-02-13T09:13:42.426Z"
   },
   {
    "duration": 241,
    "start_time": "2024-02-13T09:13:42.593Z"
   },
   {
    "duration": 11,
    "start_time": "2024-02-13T09:13:42.836Z"
   },
   {
    "duration": 11,
    "start_time": "2024-02-13T09:13:42.848Z"
   },
   {
    "duration": 12,
    "start_time": "2024-02-13T09:13:42.861Z"
   },
   {
    "duration": 119,
    "start_time": "2024-02-13T09:13:42.877Z"
   },
   {
    "duration": 4,
    "start_time": "2024-02-13T09:13:42.998Z"
   },
   {
    "duration": 6,
    "start_time": "2024-02-13T09:13:43.003Z"
   },
   {
    "duration": 23,
    "start_time": "2024-02-13T09:13:43.011Z"
   },
   {
    "duration": 9,
    "start_time": "2024-02-13T09:13:43.035Z"
   },
   {
    "duration": 10,
    "start_time": "2024-02-13T09:13:43.046Z"
   },
   {
    "duration": 215,
    "start_time": "2024-02-13T09:13:43.058Z"
   },
   {
    "duration": 5,
    "start_time": "2024-02-13T09:13:43.275Z"
   },
   {
    "duration": 196,
    "start_time": "2024-02-13T09:13:43.281Z"
   },
   {
    "duration": 5,
    "start_time": "2024-02-13T09:13:43.480Z"
   },
   {
    "duration": 213,
    "start_time": "2024-02-13T09:13:43.488Z"
   },
   {
    "duration": 6,
    "start_time": "2024-02-13T09:13:43.703Z"
   },
   {
    "duration": 6,
    "start_time": "2024-02-13T09:13:43.711Z"
   },
   {
    "duration": 163,
    "start_time": "2024-02-13T09:13:43.733Z"
   },
   {
    "duration": 138,
    "start_time": "2024-02-13T09:13:43.902Z"
   },
   {
    "duration": 5,
    "start_time": "2024-02-13T09:13:44.042Z"
   },
   {
    "duration": 163,
    "start_time": "2024-02-13T09:13:44.048Z"
   },
   {
    "duration": 5,
    "start_time": "2024-02-13T09:13:44.212Z"
   },
   {
    "duration": 167,
    "start_time": "2024-02-13T09:13:44.219Z"
   },
   {
    "duration": 4,
    "start_time": "2024-02-13T09:13:44.388Z"
   },
   {
    "duration": 145,
    "start_time": "2024-02-13T09:13:44.394Z"
   },
   {
    "duration": 2,
    "start_time": "2024-02-13T09:13:44.541Z"
   },
   {
    "duration": 12,
    "start_time": "2024-02-13T09:13:44.545Z"
   },
   {
    "duration": 25,
    "start_time": "2024-02-13T09:13:44.558Z"
   },
   {
    "duration": 7,
    "start_time": "2024-02-13T09:13:44.585Z"
   },
   {
    "duration": 45,
    "start_time": "2024-02-13T09:13:44.594Z"
   },
   {
    "duration": 8,
    "start_time": "2024-02-13T09:13:44.641Z"
   },
   {
    "duration": 172,
    "start_time": "2024-02-13T09:13:44.651Z"
   }
  ],
  "colab": {
   "provenance": []
  },
  "kernelspec": {
   "display_name": "Python 3 (ipykernel)",
   "language": "python",
   "name": "python3"
  },
  "language_info": {
   "codemirror_mode": {
    "name": "ipython",
    "version": 3
   },
   "file_extension": ".py",
   "mimetype": "text/x-python",
   "name": "python",
   "nbconvert_exporter": "python",
   "pygments_lexer": "ipython3",
   "version": "3.11.5"
  },
  "toc": {
   "base_numbering": 1,
   "nav_menu": {},
   "number_sections": true,
   "sideBar": true,
   "skip_h1_title": true,
   "title_cell": "Table of Contents",
   "title_sidebar": "Contents",
   "toc_cell": false,
   "toc_position": {},
   "toc_section_display": true,
   "toc_window_display": false
  }
 },
 "nbformat": 4,
 "nbformat_minor": 1
}
