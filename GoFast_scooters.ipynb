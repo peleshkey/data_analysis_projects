{
 "cells": [
  {
   "cell_type": "markdown",
   "id": "25f31463",
   "metadata": {},
   "source": [
    "# Статистический анализ данных сервиса аренды самокатов.\n",
    "\n",
    "\n",
    "## Ведение.\n",
    "\n",
    "Данный проект направлен на проведение анализа данных сервиса GoFast, предоставленных о некоторых пользователях из нескольких городов а также об их поездках. Цель проекта - проведение анализа данных и проверка ряда гипотез, которые могут помочь повышению эффективности бизнес-процессов и росту компании.\n",
    "\n",
    "Для проведения данного исследования компанией были предоставлены три массива данных: о пользователях; о поездках; о стоимости использования сервиса по подписке и без. Указанные массивы содержат информацию об id пользователя, его имени, возрасте, городе, дате совершения каждой поездки, ее продолжительности и расстояние, а также наличие подписки.\n",
    "\n",
    "В ходе проведения данного исследования планируется:\n",
    "1. Проведение предобработки данных с целью выявления ошибок, пропусков или дубликатов и их исправления.\n",
    "2. Исследовательский анализ данных, включающий определение частоты встречаемости городов, соотношение пользователей с подпиской и без, оценка расстояния, которое пользователь преодолевает за одну поездку, продолжительность поездок.\n",
    "3. Объединение данных (объединение массивов данных в один с ценью проведения более детального анализа) и проведение анализа для каждой категории пользователей отдельно.\n",
    "4. Подсчет ежемесячной выручки с каждого пользователя.\n",
    "5. Проверка ряда гипотез.\n",
    "\n",
    "В заключении проекта будут сформированы основные выводы по резальтатам проведенного исследования, а так же описаны некоторые рекомендации."
   ]
  },
  {
   "cell_type": "markdown",
   "id": "0cb52acc",
   "metadata": {},
   "source": [
    "## 1. Загрузка данных."
   ]
  },
  {
   "cell_type": "code",
   "execution_count": 73,
   "id": "4e35bfd4",
   "metadata": {
    "jupyter": {
     "outputs_hidden": true
    },
    "scrolled": true,
    "tags": []
   },
   "outputs": [],
   "source": [
    "import pandas as pd\n",
    "import numpy as np\n",
    "from scipy import stats as st\n",
    "import matplotlib.pyplot as plt\n",
    "from math import factorial, sqrt\n",
    "from scipy.stats import binom, poisson, norm\n",
    "import seaborn as sns"
   ]
  },
  {
   "cell_type": "code",
   "execution_count": 74,
   "id": "31069b7f",
   "metadata": {
    "scrolled": false
   },
   "outputs": [
    {
     "data": {
      "text/html": [
       "<div>\n",
       "<style scoped>\n",
       "    .dataframe tbody tr th:only-of-type {\n",
       "        vertical-align: middle;\n",
       "    }\n",
       "\n",
       "    .dataframe tbody tr th {\n",
       "        vertical-align: top;\n",
       "    }\n",
       "\n",
       "    .dataframe thead th {\n",
       "        text-align: right;\n",
       "    }\n",
       "</style>\n",
       "<table border=\"1\" class=\"dataframe\">\n",
       "  <thead>\n",
       "    <tr style=\"text-align: right;\">\n",
       "      <th></th>\n",
       "      <th>user_id</th>\n",
       "      <th>distance</th>\n",
       "      <th>duration</th>\n",
       "      <th>date</th>\n",
       "    </tr>\n",
       "  </thead>\n",
       "  <tbody>\n",
       "    <tr>\n",
       "      <th>0</th>\n",
       "      <td>1</td>\n",
       "      <td>4409.919140</td>\n",
       "      <td>25.599769</td>\n",
       "      <td>2021-01-01</td>\n",
       "    </tr>\n",
       "    <tr>\n",
       "      <th>1</th>\n",
       "      <td>1</td>\n",
       "      <td>2617.592153</td>\n",
       "      <td>15.816871</td>\n",
       "      <td>2021-01-18</td>\n",
       "    </tr>\n",
       "    <tr>\n",
       "      <th>2</th>\n",
       "      <td>1</td>\n",
       "      <td>754.159807</td>\n",
       "      <td>6.232113</td>\n",
       "      <td>2021-04-20</td>\n",
       "    </tr>\n",
       "    <tr>\n",
       "      <th>3</th>\n",
       "      <td>1</td>\n",
       "      <td>2694.783254</td>\n",
       "      <td>18.511000</td>\n",
       "      <td>2021-08-11</td>\n",
       "    </tr>\n",
       "    <tr>\n",
       "      <th>4</th>\n",
       "      <td>1</td>\n",
       "      <td>4028.687306</td>\n",
       "      <td>26.265803</td>\n",
       "      <td>2021-08-28</td>\n",
       "    </tr>\n",
       "  </tbody>\n",
       "</table>\n",
       "</div>"
      ],
      "text/plain": [
       "   user_id     distance   duration        date\n",
       "0        1  4409.919140  25.599769  2021-01-01\n",
       "1        1  2617.592153  15.816871  2021-01-18\n",
       "2        1   754.159807   6.232113  2021-04-20\n",
       "3        1  2694.783254  18.511000  2021-08-11\n",
       "4        1  4028.687306  26.265803  2021-08-28"
      ]
     },
     "execution_count": 74,
     "metadata": {},
     "output_type": "execute_result"
    }
   ],
   "source": [
    "try:\n",
    "    rides = pd.read_csv('/Users/imac27/DataAnalysis/datasets/project4/rides_go.csv')\n",
    "except:\n",
    "    rides = pd.read_csv('/datasets/rides_go.csv')\n",
    "    \n",
    "rides.head()"
   ]
  },
  {
   "cell_type": "code",
   "execution_count": 75,
   "id": "e59cf26d",
   "metadata": {},
   "outputs": [
    {
     "name": "stdout",
     "output_type": "stream",
     "text": [
      "<class 'pandas.core.frame.DataFrame'>\n",
      "RangeIndex: 18068 entries, 0 to 18067\n",
      "Data columns (total 4 columns):\n",
      " #   Column    Non-Null Count  Dtype  \n",
      "---  ------    --------------  -----  \n",
      " 0   user_id   18068 non-null  int64  \n",
      " 1   distance  18068 non-null  float64\n",
      " 2   duration  18068 non-null  float64\n",
      " 3   date      18068 non-null  object \n",
      "dtypes: float64(2), int64(1), object(1)\n",
      "memory usage: 564.8+ KB\n"
     ]
    }
   ],
   "source": [
    "rides.info()"
   ]
  },
  {
   "cell_type": "markdown",
   "id": "f4214904",
   "metadata": {},
   "source": [
    "В данном датафрейме пропуски отсутствуют. Необходимо отметить, что в колонке 'date' тип данных не соответствует требуемому в проекте, что потребует исправления."
   ]
  },
  {
   "cell_type": "code",
   "execution_count": 76,
   "id": "7bcb9d49",
   "metadata": {},
   "outputs": [
    {
     "data": {
      "text/html": [
       "<div>\n",
       "<style scoped>\n",
       "    .dataframe tbody tr th:only-of-type {\n",
       "        vertical-align: middle;\n",
       "    }\n",
       "\n",
       "    .dataframe tbody tr th {\n",
       "        vertical-align: top;\n",
       "    }\n",
       "\n",
       "    .dataframe thead th {\n",
       "        text-align: right;\n",
       "    }\n",
       "</style>\n",
       "<table border=\"1\" class=\"dataframe\">\n",
       "  <thead>\n",
       "    <tr style=\"text-align: right;\">\n",
       "      <th></th>\n",
       "      <th>subscription_type</th>\n",
       "      <th>minute_price</th>\n",
       "      <th>start_ride_price</th>\n",
       "      <th>subscription_fee</th>\n",
       "    </tr>\n",
       "  </thead>\n",
       "  <tbody>\n",
       "    <tr>\n",
       "      <th>0</th>\n",
       "      <td>free</td>\n",
       "      <td>8</td>\n",
       "      <td>50</td>\n",
       "      <td>0</td>\n",
       "    </tr>\n",
       "    <tr>\n",
       "      <th>1</th>\n",
       "      <td>ultra</td>\n",
       "      <td>6</td>\n",
       "      <td>0</td>\n",
       "      <td>199</td>\n",
       "    </tr>\n",
       "  </tbody>\n",
       "</table>\n",
       "</div>"
      ],
      "text/plain": [
       "  subscription_type  minute_price  start_ride_price  subscription_fee\n",
       "0              free             8                50                 0\n",
       "1             ultra             6                 0               199"
      ]
     },
     "execution_count": 76,
     "metadata": {},
     "output_type": "execute_result"
    }
   ],
   "source": [
    "try:\n",
    "    subs = pd.read_csv('/Users/imac27/DataAnalysis/datasets/project4/subscriptions_go.csv')\n",
    "except:\n",
    "    subs = pd.read_csv('/datasets/subscriptions_go.csv')\n",
    "subs.head()"
   ]
  },
  {
   "cell_type": "code",
   "execution_count": 77,
   "id": "d0b5030f",
   "metadata": {},
   "outputs": [
    {
     "name": "stdout",
     "output_type": "stream",
     "text": [
      "<class 'pandas.core.frame.DataFrame'>\n",
      "RangeIndex: 2 entries, 0 to 1\n",
      "Data columns (total 4 columns):\n",
      " #   Column             Non-Null Count  Dtype \n",
      "---  ------             --------------  ----- \n",
      " 0   subscription_type  2 non-null      object\n",
      " 1   minute_price       2 non-null      int64 \n",
      " 2   start_ride_price   2 non-null      int64 \n",
      " 3   subscription_fee   2 non-null      int64 \n",
      "dtypes: int64(3), object(1)\n",
      "memory usage: 196.0+ bytes\n"
     ]
    }
   ],
   "source": [
    "subs.info()"
   ]
  },
  {
   "cell_type": "markdown",
   "id": "62bb6f5e",
   "metadata": {},
   "source": [
    "Согласно полученной информации, датафрейм содержит исключительно информацию о тарифах, что составляет две строки, пропусков и наличия некорректных данных не выявлено."
   ]
  },
  {
   "cell_type": "code",
   "execution_count": 78,
   "id": "cd97c404",
   "metadata": {},
   "outputs": [
    {
     "data": {
      "text/html": [
       "<div>\n",
       "<style scoped>\n",
       "    .dataframe tbody tr th:only-of-type {\n",
       "        vertical-align: middle;\n",
       "    }\n",
       "\n",
       "    .dataframe tbody tr th {\n",
       "        vertical-align: top;\n",
       "    }\n",
       "\n",
       "    .dataframe thead th {\n",
       "        text-align: right;\n",
       "    }\n",
       "</style>\n",
       "<table border=\"1\" class=\"dataframe\">\n",
       "  <thead>\n",
       "    <tr style=\"text-align: right;\">\n",
       "      <th></th>\n",
       "      <th>user_id</th>\n",
       "      <th>name</th>\n",
       "      <th>age</th>\n",
       "      <th>city</th>\n",
       "      <th>subscription_type</th>\n",
       "    </tr>\n",
       "  </thead>\n",
       "  <tbody>\n",
       "    <tr>\n",
       "      <th>0</th>\n",
       "      <td>1</td>\n",
       "      <td>Кира</td>\n",
       "      <td>22</td>\n",
       "      <td>Тюмень</td>\n",
       "      <td>ultra</td>\n",
       "    </tr>\n",
       "    <tr>\n",
       "      <th>1</th>\n",
       "      <td>2</td>\n",
       "      <td>Станислав</td>\n",
       "      <td>31</td>\n",
       "      <td>Омск</td>\n",
       "      <td>ultra</td>\n",
       "    </tr>\n",
       "    <tr>\n",
       "      <th>2</th>\n",
       "      <td>3</td>\n",
       "      <td>Алексей</td>\n",
       "      <td>20</td>\n",
       "      <td>Москва</td>\n",
       "      <td>ultra</td>\n",
       "    </tr>\n",
       "    <tr>\n",
       "      <th>3</th>\n",
       "      <td>4</td>\n",
       "      <td>Константин</td>\n",
       "      <td>26</td>\n",
       "      <td>Ростов-на-Дону</td>\n",
       "      <td>ultra</td>\n",
       "    </tr>\n",
       "    <tr>\n",
       "      <th>4</th>\n",
       "      <td>5</td>\n",
       "      <td>Адель</td>\n",
       "      <td>28</td>\n",
       "      <td>Омск</td>\n",
       "      <td>ultra</td>\n",
       "    </tr>\n",
       "  </tbody>\n",
       "</table>\n",
       "</div>"
      ],
      "text/plain": [
       "   user_id        name  age            city subscription_type\n",
       "0        1        Кира   22          Тюмень             ultra\n",
       "1        2   Станислав   31            Омск             ultra\n",
       "2        3     Алексей   20          Москва             ultra\n",
       "3        4  Константин   26  Ростов-на-Дону             ultra\n",
       "4        5       Адель   28            Омск             ultra"
      ]
     },
     "execution_count": 78,
     "metadata": {},
     "output_type": "execute_result"
    }
   ],
   "source": [
    "try:\n",
    "    users = pd.read_csv('/Users/imac27/DataAnalysis/datasets/project4/users_go.csv')\n",
    "except:\n",
    "    users = pd.read_csv('/datasets/users_go.csv')\n",
    "users.head()"
   ]
  },
  {
   "cell_type": "code",
   "execution_count": 79,
   "id": "97ca4be1",
   "metadata": {},
   "outputs": [
    {
     "name": "stdout",
     "output_type": "stream",
     "text": [
      "<class 'pandas.core.frame.DataFrame'>\n",
      "RangeIndex: 1565 entries, 0 to 1564\n",
      "Data columns (total 5 columns):\n",
      " #   Column             Non-Null Count  Dtype \n",
      "---  ------             --------------  ----- \n",
      " 0   user_id            1565 non-null   int64 \n",
      " 1   name               1565 non-null   object\n",
      " 2   age                1565 non-null   int64 \n",
      " 3   city               1565 non-null   object\n",
      " 4   subscription_type  1565 non-null   object\n",
      "dtypes: int64(2), object(3)\n",
      "memory usage: 61.3+ KB\n"
     ]
    }
   ],
   "source": [
    "users.info()"
   ]
  },
  {
   "cell_type": "markdown",
   "id": "1f0c2cf3",
   "metadata": {},
   "source": [
    "Учитывая полученную информацию, в данном датафрейме не содержится пропусков, все данные имеют корректный тип, соответствующй требуемому.\n",
    "\n",
    "**Промежуточный вывод:**\n",
    "Все необходимые данные были загружены, выявлены некоторые ошибки в данных, такие как несоответствие типа данных, которые будут устранены в следующем разделе проекта. Так же на следующем этапе будет проведена проверка данных на наличие дубликатов."
   ]
  },
  {
   "cell_type": "markdown",
   "id": "ffd460e8",
   "metadata": {},
   "source": [
    "## 2. Предобработка данных."
   ]
  },
  {
   "cell_type": "markdown",
   "id": "dd370c45",
   "metadata": {},
   "source": [
    "Рассмотрим более подробно каждый массив данных.\n",
    "\n",
    "`rides` - информация о поездках.\n",
    "\n",
    "Согласно информации, полученной ранее, пропущенных значений в данном массиве нет, но тип данных в колонке 'date' не соответствует необходимому для дат. Приведем эту часть датафрейма к требуемому формату."
   ]
  },
  {
   "cell_type": "code",
   "execution_count": 80,
   "id": "b3649e56",
   "metadata": {
    "scrolled": true
   },
   "outputs": [
    {
     "name": "stdout",
     "output_type": "stream",
     "text": [
      "<class 'pandas.core.frame.DataFrame'>\n",
      "RangeIndex: 18068 entries, 0 to 18067\n",
      "Data columns (total 4 columns):\n",
      " #   Column    Non-Null Count  Dtype         \n",
      "---  ------    --------------  -----         \n",
      " 0   user_id   18068 non-null  int64         \n",
      " 1   distance  18068 non-null  float64       \n",
      " 2   duration  18068 non-null  float64       \n",
      " 3   date      18068 non-null  datetime64[ns]\n",
      "dtypes: datetime64[ns](1), float64(2), int64(1)\n",
      "memory usage: 564.8 KB\n"
     ]
    }
   ],
   "source": [
    "rides['date'] = pd.to_datetime(rides['date'], format='%Y-%m-%d')\n",
    "rides.info()"
   ]
  },
  {
   "cell_type": "markdown",
   "id": "25019c0b",
   "metadata": {},
   "source": [
    "Проверим данный датафрейм на наличие явных дубликатов."
   ]
  },
  {
   "cell_type": "code",
   "execution_count": 81,
   "id": "349f7050",
   "metadata": {},
   "outputs": [
    {
     "data": {
      "text/plain": [
       "0"
      ]
     },
     "execution_count": 81,
     "metadata": {},
     "output_type": "execute_result"
    }
   ],
   "source": [
    "rides.duplicated().sum()"
   ]
  },
  {
   "cell_type": "markdown",
   "id": "56c996a3",
   "metadata": {},
   "source": [
    "Дубликаты отсутствуют.\n",
    "\n",
    "Проверим колонку 'date', какой период времени включен в данные, чтобы в дальнейшем избежать их задвоения."
   ]
  },
  {
   "cell_type": "code",
   "execution_count": 82,
   "id": "498b09ac",
   "metadata": {},
   "outputs": [
    {
     "data": {
      "text/plain": [
       "Timestamp('2021-12-30 00:00:00')"
      ]
     },
     "execution_count": 82,
     "metadata": {},
     "output_type": "execute_result"
    }
   ],
   "source": [
    "rides['date'].max()"
   ]
  },
  {
   "cell_type": "code",
   "execution_count": 83,
   "id": "2a7cca4a",
   "metadata": {},
   "outputs": [
    {
     "data": {
      "text/plain": [
       "Timestamp('2021-01-01 00:00:00')"
      ]
     },
     "execution_count": 83,
     "metadata": {},
     "output_type": "execute_result"
    }
   ],
   "source": [
    "rides['date'].min()"
   ]
  },
  {
   "cell_type": "markdown",
   "id": "ce2a0fc9",
   "metadata": {},
   "source": [
    "Данные приведены с января по декабрь 2021 года, соответственно к обращению к месяцу по его номеру нет вероятности получить некорректные задвоения при группировке по месяцам.\n",
    "\n",
    "В соответствии с заданием к проекту, добавим к данному набору данных новый столбец с номером месяца на основе столбца 'date'."
   ]
  },
  {
   "cell_type": "code",
   "execution_count": 84,
   "id": "0c3adf1c",
   "metadata": {},
   "outputs": [
    {
     "data": {
      "text/html": [
       "<div>\n",
       "<style scoped>\n",
       "    .dataframe tbody tr th:only-of-type {\n",
       "        vertical-align: middle;\n",
       "    }\n",
       "\n",
       "    .dataframe tbody tr th {\n",
       "        vertical-align: top;\n",
       "    }\n",
       "\n",
       "    .dataframe thead th {\n",
       "        text-align: right;\n",
       "    }\n",
       "</style>\n",
       "<table border=\"1\" class=\"dataframe\">\n",
       "  <thead>\n",
       "    <tr style=\"text-align: right;\">\n",
       "      <th></th>\n",
       "      <th>user_id</th>\n",
       "      <th>distance</th>\n",
       "      <th>duration</th>\n",
       "      <th>date</th>\n",
       "      <th>month</th>\n",
       "    </tr>\n",
       "  </thead>\n",
       "  <tbody>\n",
       "    <tr>\n",
       "      <th>0</th>\n",
       "      <td>1</td>\n",
       "      <td>4409.919140</td>\n",
       "      <td>25.599769</td>\n",
       "      <td>2021-01-01</td>\n",
       "      <td>1</td>\n",
       "    </tr>\n",
       "    <tr>\n",
       "      <th>1</th>\n",
       "      <td>1</td>\n",
       "      <td>2617.592153</td>\n",
       "      <td>15.816871</td>\n",
       "      <td>2021-01-18</td>\n",
       "      <td>1</td>\n",
       "    </tr>\n",
       "    <tr>\n",
       "      <th>2</th>\n",
       "      <td>1</td>\n",
       "      <td>754.159807</td>\n",
       "      <td>6.232113</td>\n",
       "      <td>2021-04-20</td>\n",
       "      <td>4</td>\n",
       "    </tr>\n",
       "    <tr>\n",
       "      <th>3</th>\n",
       "      <td>1</td>\n",
       "      <td>2694.783254</td>\n",
       "      <td>18.511000</td>\n",
       "      <td>2021-08-11</td>\n",
       "      <td>8</td>\n",
       "    </tr>\n",
       "    <tr>\n",
       "      <th>4</th>\n",
       "      <td>1</td>\n",
       "      <td>4028.687306</td>\n",
       "      <td>26.265803</td>\n",
       "      <td>2021-08-28</td>\n",
       "      <td>8</td>\n",
       "    </tr>\n",
       "  </tbody>\n",
       "</table>\n",
       "</div>"
      ],
      "text/plain": [
       "   user_id     distance   duration       date  month\n",
       "0        1  4409.919140  25.599769 2021-01-01      1\n",
       "1        1  2617.592153  15.816871 2021-01-18      1\n",
       "2        1   754.159807   6.232113 2021-04-20      4\n",
       "3        1  2694.783254  18.511000 2021-08-11      8\n",
       "4        1  4028.687306  26.265803 2021-08-28      8"
      ]
     },
     "execution_count": 84,
     "metadata": {},
     "output_type": "execute_result"
    }
   ],
   "source": [
    "rides['month'] = pd.DatetimeIndex(rides['date']).month\n",
    "rides.head()"
   ]
  },
  {
   "cell_type": "markdown",
   "id": "04f73c6f",
   "metadata": {},
   "source": [
    "\n",
    "Рассмотрим следующий набор данных.\n",
    "\n",
    "`users` - информация о пользователях.\n",
    "\n",
    "Согласно информации о данных, полученной ранее, пропущенных значений нет, тип данных соответствует заявленным во всех колонках.\n",
    "\n",
    "Проверим данный датафрейм на наличие явных дубликатов."
   ]
  },
  {
   "cell_type": "code",
   "execution_count": 85,
   "id": "414c5a3c",
   "metadata": {},
   "outputs": [
    {
     "data": {
      "text/plain": [
       "31"
      ]
     },
     "execution_count": 85,
     "metadata": {},
     "output_type": "execute_result"
    }
   ],
   "source": [
    "users.duplicated().sum()"
   ]
  },
  {
   "cell_type": "markdown",
   "id": "3e6e8445",
   "metadata": {},
   "source": [
    "Удалим выявленные явные дубликаты, а также восстановим порядок индексов после удаления."
   ]
  },
  {
   "cell_type": "code",
   "execution_count": 86,
   "id": "5fa684d0",
   "metadata": {},
   "outputs": [],
   "source": [
    "users = users.drop_duplicates().reset_index(drop=True)"
   ]
  },
  {
   "cell_type": "markdown",
   "id": "f7df54e9",
   "metadata": {},
   "source": [
    "Проверим колонку 'city' в данном наборе данных на возможное наличие неявных дубликатов."
   ]
  },
  {
   "cell_type": "code",
   "execution_count": 87,
   "id": "1adaa5f9",
   "metadata": {},
   "outputs": [
    {
     "data": {
      "text/plain": [
       "array(['Тюмень', 'Омск', 'Москва', 'Ростов-на-Дону', 'Краснодар',\n",
       "       'Пятигорск', 'Екатеринбург', 'Сочи'], dtype=object)"
      ]
     },
     "execution_count": 87,
     "metadata": {},
     "output_type": "execute_result"
    }
   ],
   "source": [
    "users['city'].unique()"
   ]
  },
  {
   "cell_type": "markdown",
   "id": "cb50c55c",
   "metadata": {},
   "source": [
    "Скрытых дубликатов нет. \n",
    "\n",
    "**Промежуточный вывод.**\n",
    "Вся необходимая предобработка данных была выполнена для всех трех наборов данных, а именно: удалены имеющиеся явные дубликаты и и выполнено приведение к требуемому типу данных, где это было необходимо."
   ]
  },
  {
   "cell_type": "markdown",
   "id": "fddfd6e8",
   "metadata": {},
   "source": [
    "## 3. Исследовательский анализ данных"
   ]
  },
  {
   "cell_type": "markdown",
   "id": "7f97bfc2",
   "metadata": {},
   "source": [
    "Опишем и визуализируем общую информацию о пользователях и поездках.\n",
    "\n",
    "**1. Частота встречаемости городов.**"
   ]
  },
  {
   "cell_type": "code",
   "execution_count": 88,
   "id": "a73c4ea2",
   "metadata": {},
   "outputs": [
    {
     "data": {
      "text/html": [
       "<div>\n",
       "<style scoped>\n",
       "    .dataframe tbody tr th:only-of-type {\n",
       "        vertical-align: middle;\n",
       "    }\n",
       "\n",
       "    .dataframe tbody tr th {\n",
       "        vertical-align: top;\n",
       "    }\n",
       "\n",
       "    .dataframe thead th {\n",
       "        text-align: right;\n",
       "    }\n",
       "</style>\n",
       "<table border=\"1\" class=\"dataframe\">\n",
       "  <thead>\n",
       "    <tr style=\"text-align: right;\">\n",
       "      <th></th>\n",
       "      <th>city</th>\n",
       "      <th>count</th>\n",
       "    </tr>\n",
       "  </thead>\n",
       "  <tbody>\n",
       "    <tr>\n",
       "      <th>0</th>\n",
       "      <td>Пятигорск</td>\n",
       "      <td>219</td>\n",
       "    </tr>\n",
       "    <tr>\n",
       "      <th>1</th>\n",
       "      <td>Екатеринбург</td>\n",
       "      <td>204</td>\n",
       "    </tr>\n",
       "    <tr>\n",
       "      <th>2</th>\n",
       "      <td>Ростов-на-Дону</td>\n",
       "      <td>198</td>\n",
       "    </tr>\n",
       "    <tr>\n",
       "      <th>3</th>\n",
       "      <td>Краснодар</td>\n",
       "      <td>193</td>\n",
       "    </tr>\n",
       "    <tr>\n",
       "      <th>4</th>\n",
       "      <td>Сочи</td>\n",
       "      <td>189</td>\n",
       "    </tr>\n",
       "    <tr>\n",
       "      <th>5</th>\n",
       "      <td>Омск</td>\n",
       "      <td>183</td>\n",
       "    </tr>\n",
       "    <tr>\n",
       "      <th>6</th>\n",
       "      <td>Тюмень</td>\n",
       "      <td>180</td>\n",
       "    </tr>\n",
       "    <tr>\n",
       "      <th>7</th>\n",
       "      <td>Москва</td>\n",
       "      <td>168</td>\n",
       "    </tr>\n",
       "  </tbody>\n",
       "</table>\n",
       "</div>"
      ],
      "text/plain": [
       "             city  count\n",
       "0       Пятигорск    219\n",
       "1    Екатеринбург    204\n",
       "2  Ростов-на-Дону    198\n",
       "3       Краснодар    193\n",
       "4            Сочи    189\n",
       "5            Омск    183\n",
       "6          Тюмень    180\n",
       "7          Москва    168"
      ]
     },
     "execution_count": 88,
     "metadata": {},
     "output_type": "execute_result"
    }
   ],
   "source": [
    "users_city = users['city'].value_counts()\n",
    "\n",
    "users_city = users_city.reset_index()\n",
    "\n",
    "users_city"
   ]
  },
  {
   "cell_type": "code",
   "execution_count": 138,
   "id": "659fbca1",
   "metadata": {},
   "outputs": [
    {
     "data": {
      "image/png": "[encoded data removed]",
      "text/plain": [
       "<Figure size 1200x300 with 1 Axes>"
      ]
     },
     "metadata": {},
     "output_type": "display_data"
    }
   ],
   "source": [
    "plt.figure(figsize=(12, 3))\n",
    "diagram = sns.barplot(x='city', y='count', data=users_city)\n",
    "\n",
    "diagram.set_title('Частота встречаемости городов')\n",
    "diagram.set_xlabel('Количество')\n",
    "diagram.set_ylabel('Город')\n",
    "plt.show()"
   ]
  },
  {
   "cell_type": "markdown",
   "id": "24774431",
   "metadata": {},
   "source": [
    "Согласно данному расчету, наиболее встречающийся город - Пятигорск, в то время, как наименее встречающийся - Москва. Не учитывая Екатеринбурга, все наиболее часто встречающиеся города - южные, что может быть объяснено более теплым климатом, позволяющим использовать самокаты чаще.\n",
    "\n",
    "**2. Соотношение пользователей с подпиской и без подписки.**"
   ]
  },
  {
   "cell_type": "code",
   "execution_count": 90,
   "id": "92ba8472",
   "metadata": {},
   "outputs": [
    {
     "data": {
      "text/plain": [
       "Text(0.5, 1.0, 'Соотношение пользователей с подпиской и без:\\n free - без подписки\\n ultra - с подпиской\\n')"
      ]
     },
     "execution_count": 90,
     "metadata": {},
     "output_type": "execute_result"
    },
    {
     "data": {
      "image/png": "[encoded data removed]",
      "text/plain": [
       "<Figure size 400x400 with 1 Axes>"
      ]
     },
     "metadata": {},
     "output_type": "display_data"
    }
   ],
   "source": [
    "for_pie = users['subscription_type'].value_counts()\n",
    "\n",
    "for_pie.plot(kind='pie', figsize=(4,4), autopct='%1.1f%%', explode=(0.1, 0), shadow=True)\n",
    "\n",
    "plt.title('Соотношение пользователей с подпиской и без:\\n free - без подписки\\n ultra - с подпиской\\n')"
   ]
  },
  {
   "cell_type": "code",
   "execution_count": 91,
   "id": "b1d6be0e",
   "metadata": {},
   "outputs": [
    {
     "name": "stdout",
     "output_type": "stream",
     "text": [
      "Процент пользователей, имеющих подписку: 45.57%\n",
      "Процент пользователей без подписки: 54.43%\n"
     ]
    }
   ],
   "source": [
    "print ('Процент пользователей, имеющих подписку: {:.2%}'.\n",
    " format(len(users.query('subscription_type == \"ultra\"'))/len(users['subscription_type'])))\n",
    "\n",
    "print ('Процент пользователей без подписки: {:.2%}'.\n",
    " format(len(users.query('subscription_type == \"free\"'))/len(users['subscription_type'])))"
   ]
  },
  {
   "cell_type": "markdown",
   "id": "b8aa0189",
   "metadata": {},
   "source": [
    "Процент пользователей без подписки больше имеющих подписку на 8,86%, соответственно сервис более популярен в использовании без подписки.\n",
    "\n",
    "**3. Возраст пользователей.**"
   ]
  },
  {
   "cell_type": "code",
   "execution_count": 92,
   "id": "1b288d7d",
   "metadata": {},
   "outputs": [
    {
     "data": {
      "text/plain": [
       "Text(0, 0.5, 'Количество пользователей')"
      ]
     },
     "execution_count": 92,
     "metadata": {},
     "output_type": "execute_result"
    },
    {
     "data": {
      "image/png": "[encoded data removed]",
      "text/plain": [
       "<Figure size 900x300 with 1 Axes>"
      ]
     },
     "metadata": {},
     "output_type": "display_data"
    }
   ],
   "source": [
    "(users.\n",
    " pivot_table(index='age', values='user_id', aggfunc='count').\n",
    " plot(style='o-', grid=True, figsize=(9,3), title='Возраст пользователей')\n",
    ") \n",
    "\n",
    "plt.xlabel('Возраст')\n",
    "plt.ylabel('Количество пользователей')"
   ]
  },
  {
   "cell_type": "markdown",
   "id": "a9745d15",
   "metadata": {},
   "source": [
    "По графику, анализирующему возраст пользователей, можно сделать вывод, что использование сервиса начинается с 12 лет, его популярность растет пропорционально возрасту пользователей и достигает максимальной популярности для пользователей 25 лет, после чего наблюдается спад. Необходимо отметить, что практически не встречаются потребители старше 37 лет.\n",
    "\n",
    "**4. Расстояние, которое пользователь преодолел за одну поездку.**"
   ]
  },
  {
   "cell_type": "code",
   "execution_count": 93,
   "id": "14af6dd2",
   "metadata": {},
   "outputs": [
    {
     "data": {
      "text/plain": [
       "Text(0, 0.5, 'Количество поездок')"
      ]
     },
     "execution_count": 93,
     "metadata": {},
     "output_type": "execute_result"
    },
    {
     "data": {
      "image/png": "[encoded data removed]",
      "text/plain": [
       "<Figure size 640x480 with 1 Axes>"
      ]
     },
     "metadata": {},
     "output_type": "display_data"
    }
   ],
   "source": [
    "plt.hist(rides['distance'], bins=100)\n",
    "\n",
    "plt.title('Расстояние за одну поездку')\n",
    "plt.xlabel('Расстояние')\n",
    "plt.ylabel('Количество поездок')"
   ]
  },
  {
   "cell_type": "code",
   "execution_count": 94,
   "id": "19df2cd3",
   "metadata": {},
   "outputs": [
    {
     "data": {
      "text/plain": [
       "count    18068.000000\n",
       "mean      3070.659976\n",
       "std       1116.831209\n",
       "min          0.855683\n",
       "25%       2543.226360\n",
       "50%       3133.609994\n",
       "75%       3776.222735\n",
       "max       7211.007745\n",
       "Name: distance, dtype: float64"
      ]
     },
     "execution_count": 94,
     "metadata": {},
     "output_type": "execute_result"
    }
   ],
   "source": [
    "rides['distance'].describe()"
   ]
  },
  {
   "cell_type": "code",
   "execution_count": 95,
   "id": "7735dd20",
   "metadata": {},
   "outputs": [
    {
     "data": {
      "image/png": "[encoded data removed]",
      "text/plain": [
       "<Figure size 640x480 with 1 Axes>"
      ]
     },
     "metadata": {},
     "output_type": "display_data"
    }
   ],
   "source": [
    "rides['distance'].plot.box()\n",
    "\n",
    "plt.title('Диаграмма размаха для дальности поездок')\n",
    "plt.ylabel('Дальность поездки')\n",
    "\n",
    "plt.show()"
   ]
  },
  {
   "cell_type": "markdown",
   "id": "8b2ad1d9",
   "metadata": {},
   "source": [
    "Рассмотрев медианное расстояние за одну поездку для каждого пользователя сервиса, можно сделать вывод, что медианное значение расстояния за одну поездку по всей выборке составляет 3131 метров, согласно диаграмме размаха, наиболее частыми поездками являются попадающие в межквартильный размах от 2916 метров до 3338 метров, большинство поездок укладывается от 2300 метров до 3900 метров, но так же имеются выбросы больше 3900 метров и меньше 2300 метров.\n",
    "\n",
    "**5. Продолжительность поездок.**"
   ]
  },
  {
   "cell_type": "code",
   "execution_count": 96,
   "id": "e96e48a9",
   "metadata": {},
   "outputs": [
    {
     "data": {
      "text/plain": [
       "Text(0, 0.5, 'Количество поездок')"
      ]
     },
     "execution_count": 96,
     "metadata": {},
     "output_type": "execute_result"
    },
    {
     "data": {
      "image/png": "[encoded data removed]",
      "text/plain": [
       "<Figure size 640x480 with 1 Axes>"
      ]
     },
     "metadata": {},
     "output_type": "display_data"
    }
   ],
   "source": [
    "plt.hist(rides['duration'], bins=100)\n",
    "\n",
    "plt.title('Продолжительность поездок')\n",
    "plt.xlabel('Продолжительность поездки')\n",
    "plt.ylabel('Количество поездок')"
   ]
  },
  {
   "cell_type": "code",
   "execution_count": 97,
   "id": "9aa10439",
   "metadata": {},
   "outputs": [
    {
     "data": {
      "text/plain": [
       "count    18068.000000\n",
       "mean        17.805011\n",
       "std          6.091051\n",
       "min          0.500000\n",
       "25%         13.597563\n",
       "50%         17.678395\n",
       "75%         21.724800\n",
       "max         40.823963\n",
       "Name: duration, dtype: float64"
      ]
     },
     "execution_count": 97,
     "metadata": {},
     "output_type": "execute_result"
    }
   ],
   "source": [
    "rides['duration'].describe()"
   ]
  },
  {
   "cell_type": "code",
   "execution_count": 98,
   "id": "e6f6e566",
   "metadata": {},
   "outputs": [
    {
     "data": {
      "image/png": "[encoded data removed]",
      "text/plain": [
       "<Figure size 640x480 with 1 Axes>"
      ]
     },
     "metadata": {},
     "output_type": "display_data"
    }
   ],
   "source": [
    "rides['duration'].plot.box()\n",
    "\n",
    "plt.title('Диаграмма размаха для продолжительности поездок')\n",
    "plt.ylabel('Продолжительность поездки')\n",
    "\n",
    "plt.show()"
   ]
  },
  {
   "cell_type": "markdown",
   "id": "b533e9dd",
   "metadata": {},
   "source": [
    "Рассмотрев медианную продолжительность поездки для каждого пользователя сервиса, можно сделать вывод, что медианное значение этого показателя по всей выборке составляет 17,74 минуты, согласно диаграмме размаха, наиболее частыми поездками являются попадающие в межквартильный размах от 16,19 минут до 19,21 минут, большинство поездок укладывается от 12 минут до 24 минут, но так же имеются выбросы больше или меньше данных показателей."
   ]
  },
  {
   "cell_type": "markdown",
   "id": "061116b0",
   "metadata": {},
   "source": [
    "## 4. Объединение данных."
   ]
  },
  {
   "cell_type": "markdown",
   "id": "71184b3c",
   "metadata": {},
   "source": [
    "Объединим данные о пользователях, поездках и подписках в один датафрейм."
   ]
  },
  {
   "cell_type": "code",
   "execution_count": 99,
   "id": "abe5740d",
   "metadata": {},
   "outputs": [
    {
     "data": {
      "text/html": [
       "<div>\n",
       "<style scoped>\n",
       "    .dataframe tbody tr th:only-of-type {\n",
       "        vertical-align: middle;\n",
       "    }\n",
       "\n",
       "    .dataframe tbody tr th {\n",
       "        vertical-align: top;\n",
       "    }\n",
       "\n",
       "    .dataframe thead th {\n",
       "        text-align: right;\n",
       "    }\n",
       "</style>\n",
       "<table border=\"1\" class=\"dataframe\">\n",
       "  <thead>\n",
       "    <tr style=\"text-align: right;\">\n",
       "      <th></th>\n",
       "      <th>user_id</th>\n",
       "      <th>name</th>\n",
       "      <th>age</th>\n",
       "      <th>city</th>\n",
       "      <th>subscription_type</th>\n",
       "      <th>distance</th>\n",
       "      <th>duration</th>\n",
       "      <th>date</th>\n",
       "      <th>month</th>\n",
       "      <th>minute_price</th>\n",
       "      <th>start_ride_price</th>\n",
       "      <th>subscription_fee</th>\n",
       "    </tr>\n",
       "  </thead>\n",
       "  <tbody>\n",
       "    <tr>\n",
       "      <th>18063</th>\n",
       "      <td>1534</td>\n",
       "      <td>Альберт</td>\n",
       "      <td>25</td>\n",
       "      <td>Краснодар</td>\n",
       "      <td>free</td>\n",
       "      <td>3781.098080</td>\n",
       "      <td>19.822962</td>\n",
       "      <td>2021-11-04</td>\n",
       "      <td>11</td>\n",
       "      <td>8</td>\n",
       "      <td>50</td>\n",
       "      <td>0</td>\n",
       "    </tr>\n",
       "    <tr>\n",
       "      <th>18064</th>\n",
       "      <td>1534</td>\n",
       "      <td>Альберт</td>\n",
       "      <td>25</td>\n",
       "      <td>Краснодар</td>\n",
       "      <td>free</td>\n",
       "      <td>2840.423057</td>\n",
       "      <td>21.409799</td>\n",
       "      <td>2021-11-16</td>\n",
       "      <td>11</td>\n",
       "      <td>8</td>\n",
       "      <td>50</td>\n",
       "      <td>0</td>\n",
       "    </tr>\n",
       "    <tr>\n",
       "      <th>18065</th>\n",
       "      <td>1534</td>\n",
       "      <td>Альберт</td>\n",
       "      <td>25</td>\n",
       "      <td>Краснодар</td>\n",
       "      <td>free</td>\n",
       "      <td>3826.185507</td>\n",
       "      <td>18.435051</td>\n",
       "      <td>2021-11-18</td>\n",
       "      <td>11</td>\n",
       "      <td>8</td>\n",
       "      <td>50</td>\n",
       "      <td>0</td>\n",
       "    </tr>\n",
       "    <tr>\n",
       "      <th>18066</th>\n",
       "      <td>1534</td>\n",
       "      <td>Альберт</td>\n",
       "      <td>25</td>\n",
       "      <td>Краснодар</td>\n",
       "      <td>free</td>\n",
       "      <td>2902.308661</td>\n",
       "      <td>16.674362</td>\n",
       "      <td>2021-11-27</td>\n",
       "      <td>11</td>\n",
       "      <td>8</td>\n",
       "      <td>50</td>\n",
       "      <td>0</td>\n",
       "    </tr>\n",
       "    <tr>\n",
       "      <th>18067</th>\n",
       "      <td>1534</td>\n",
       "      <td>Альберт</td>\n",
       "      <td>25</td>\n",
       "      <td>Краснодар</td>\n",
       "      <td>free</td>\n",
       "      <td>2371.711192</td>\n",
       "      <td>15.893917</td>\n",
       "      <td>2021-12-29</td>\n",
       "      <td>12</td>\n",
       "      <td>8</td>\n",
       "      <td>50</td>\n",
       "      <td>0</td>\n",
       "    </tr>\n",
       "  </tbody>\n",
       "</table>\n",
       "</div>"
      ],
      "text/plain": [
       "       user_id     name  age       city subscription_type     distance  \\\n",
       "18063     1534  Альберт   25  Краснодар              free  3781.098080   \n",
       "18064     1534  Альберт   25  Краснодар              free  2840.423057   \n",
       "18065     1534  Альберт   25  Краснодар              free  3826.185507   \n",
       "18066     1534  Альберт   25  Краснодар              free  2902.308661   \n",
       "18067     1534  Альберт   25  Краснодар              free  2371.711192   \n",
       "\n",
       "        duration       date  month  minute_price  start_ride_price  \\\n",
       "18063  19.822962 2021-11-04     11             8                50   \n",
       "18064  21.409799 2021-11-16     11             8                50   \n",
       "18065  18.435051 2021-11-18     11             8                50   \n",
       "18066  16.674362 2021-11-27     11             8                50   \n",
       "18067  15.893917 2021-12-29     12             8                50   \n",
       "\n",
       "       subscription_fee  \n",
       "18063                 0  \n",
       "18064                 0  \n",
       "18065                 0  \n",
       "18066                 0  \n",
       "18067                 0  "
      ]
     },
     "execution_count": 99,
     "metadata": {},
     "output_type": "execute_result"
    }
   ],
   "source": [
    "users_plus_rides = users.merge(rides, on='user_id', how='outer')\n",
    "\n",
    "data = users_plus_rides.merge(subs, on='subscription_type', how='outer')\n",
    "\n",
    "data.tail()"
   ]
  },
  {
   "cell_type": "code",
   "execution_count": 100,
   "id": "11f6193c",
   "metadata": {},
   "outputs": [
    {
     "name": "stdout",
     "output_type": "stream",
     "text": [
      "<class 'pandas.core.frame.DataFrame'>\n",
      "RangeIndex: 18068 entries, 0 to 18067\n",
      "Data columns (total 12 columns):\n",
      " #   Column             Non-Null Count  Dtype         \n",
      "---  ------             --------------  -----         \n",
      " 0   user_id            18068 non-null  int64         \n",
      " 1   name               18068 non-null  object        \n",
      " 2   age                18068 non-null  int64         \n",
      " 3   city               18068 non-null  object        \n",
      " 4   subscription_type  18068 non-null  object        \n",
      " 5   distance           18068 non-null  float64       \n",
      " 6   duration           18068 non-null  float64       \n",
      " 7   date               18068 non-null  datetime64[ns]\n",
      " 8   month              18068 non-null  int32         \n",
      " 9   minute_price       18068 non-null  int64         \n",
      " 10  start_ride_price   18068 non-null  int64         \n",
      " 11  subscription_fee   18068 non-null  int64         \n",
      "dtypes: datetime64[ns](1), float64(2), int32(1), int64(5), object(3)\n",
      "memory usage: 1.6+ MB\n"
     ]
    }
   ],
   "source": [
    "data.info()"
   ]
  },
  {
   "cell_type": "markdown",
   "id": "660b4cb7",
   "metadata": {},
   "source": [
    "Проверим сохранение всех строк с исходными массивами."
   ]
  },
  {
   "cell_type": "code",
   "execution_count": 101,
   "id": "2a9d33e6",
   "metadata": {},
   "outputs": [
    {
     "name": "stdout",
     "output_type": "stream",
     "text": [
      "<class 'pandas.core.frame.DataFrame'>\n",
      "RangeIndex: 18068 entries, 0 to 18067\n",
      "Data columns (total 5 columns):\n",
      " #   Column    Non-Null Count  Dtype         \n",
      "---  ------    --------------  -----         \n",
      " 0   user_id   18068 non-null  int64         \n",
      " 1   distance  18068 non-null  float64       \n",
      " 2   duration  18068 non-null  float64       \n",
      " 3   date      18068 non-null  datetime64[ns]\n",
      " 4   month     18068 non-null  int32         \n",
      "dtypes: datetime64[ns](1), float64(2), int32(1), int64(1)\n",
      "memory usage: 635.3 KB\n"
     ]
    }
   ],
   "source": [
    "rides.info()"
   ]
  },
  {
   "cell_type": "code",
   "execution_count": 102,
   "id": "fe27c7d5",
   "metadata": {},
   "outputs": [
    {
     "name": "stdout",
     "output_type": "stream",
     "text": [
      "<class 'pandas.core.frame.DataFrame'>\n",
      "RangeIndex: 1534 entries, 0 to 1533\n",
      "Data columns (total 5 columns):\n",
      " #   Column             Non-Null Count  Dtype \n",
      "---  ------             --------------  ----- \n",
      " 0   user_id            1534 non-null   int64 \n",
      " 1   name               1534 non-null   object\n",
      " 2   age                1534 non-null   int64 \n",
      " 3   city               1534 non-null   object\n",
      " 4   subscription_type  1534 non-null   object\n",
      "dtypes: int64(2), object(3)\n",
      "memory usage: 60.1+ KB\n"
     ]
    }
   ],
   "source": [
    "users.info()"
   ]
  },
  {
   "cell_type": "markdown",
   "id": "ef842aed",
   "metadata": {},
   "source": [
    "Количество строк осталось максимальным и соответствующим с массивом 'rides', что подтверждает корректность объединения."
   ]
  },
  {
   "cell_type": "markdown",
   "id": "f96bdc37",
   "metadata": {},
   "source": [
    "Разделим весь массив данных на две части: \n",
    "1. data_ultra - содержит данные о пользователях с подпиской. \n",
    "2. data_free - содержит данные о пользователях без подписки."
   ]
  },
  {
   "cell_type": "code",
   "execution_count": 103,
   "id": "7fe64643",
   "metadata": {},
   "outputs": [],
   "source": [
    "data_ultra = data.query('subscription_type == \"ultra\"')"
   ]
  },
  {
   "cell_type": "code",
   "execution_count": 104,
   "id": "22ce7c34",
   "metadata": {},
   "outputs": [],
   "source": [
    "data_free = data.query('subscription_type == \"free\"')"
   ]
  },
  {
   "cell_type": "markdown",
   "id": "31ba74d8",
   "metadata": {},
   "source": [
    "Проанализируем информацию о расстоянии и времени поездок для каждой категории.\n",
    "\n",
    "**Пользователи с подпиской.**"
   ]
  },
  {
   "cell_type": "code",
   "execution_count": 105,
   "id": "aa45cb70",
   "metadata": {},
   "outputs": [
    {
     "data": {
      "text/plain": [
       "Text(0, 0.5, 'Количество поездок')"
      ]
     },
     "execution_count": 105,
     "metadata": {},
     "output_type": "execute_result"
    },
    {
     "data": {
      "image/png": "[encoded data removed]",
      "text/plain": [
       "<Figure size 640x480 with 1 Axes>"
      ]
     },
     "metadata": {},
     "output_type": "display_data"
    }
   ],
   "source": [
    "plt.hist(data_ultra['distance'], bins=100)\n",
    "\n",
    "plt.title('Расстояние за одну поездку у пользователей с подпиской.')\n",
    "plt.xlabel('Расстояние')\n",
    "plt.ylabel('Количество поездок')"
   ]
  },
  {
   "cell_type": "code",
   "execution_count": 106,
   "id": "74e292e7",
   "metadata": {},
   "outputs": [
    {
     "data": {
      "text/plain": [
       "count    6500.000000\n",
       "mean     3115.445388\n",
       "std       836.895330\n",
       "min       244.210438\n",
       "25%      2785.444017\n",
       "50%      3148.637229\n",
       "75%      3560.574425\n",
       "max      5699.769662\n",
       "Name: distance, dtype: float64"
      ]
     },
     "execution_count": 106,
     "metadata": {},
     "output_type": "execute_result"
    }
   ],
   "source": [
    "data_ultra['distance'].describe()"
   ]
  },
  {
   "cell_type": "code",
   "execution_count": 107,
   "id": "8532dad0",
   "metadata": {},
   "outputs": [
    {
     "data": {
      "text/plain": [
       "Text(0, 0.5, 'Количество поездок')"
      ]
     },
     "execution_count": 107,
     "metadata": {},
     "output_type": "execute_result"
    },
    {
     "data": {
      "image/png": "[encoded data removed]",
      "text/plain": [
       "<Figure size 640x480 with 1 Axes>"
      ]
     },
     "metadata": {},
     "output_type": "display_data"
    }
   ],
   "source": [
    "plt.hist(data_ultra['duration'], bins=100)\n",
    "\n",
    "plt.title('Продолжительность поездок у пользователей с подпиской.')\n",
    "plt.xlabel('Продолжительность поездки')\n",
    "plt.ylabel('Количество поездок')"
   ]
  },
  {
   "cell_type": "code",
   "execution_count": 108,
   "id": "2533df55",
   "metadata": {},
   "outputs": [
    {
     "data": {
      "text/plain": [
       "count    6500.000000\n",
       "mean       18.541985\n",
       "std         5.572048\n",
       "min         3.760353\n",
       "25%        14.524654\n",
       "50%        18.178153\n",
       "75%        21.884129\n",
       "max        40.823963\n",
       "Name: duration, dtype: float64"
      ]
     },
     "execution_count": 108,
     "metadata": {},
     "output_type": "execute_result"
    }
   ],
   "source": [
    "data_ultra['duration'].describe()"
   ]
  },
  {
   "cell_type": "markdown",
   "id": "ff1adfcf",
   "metadata": {},
   "source": [
    "В соответствии с полученными рассчетами, медианное значение поездок у пользователей с подпиской составляет 3142 метров (наиболее частые поездки от 3005 метров до 3287 метров). Медианная продолжительность таких поездок составляет 18,2 минуты (наиболее частые поездки укладываются от 16,7 минут до 19,7 минут).\n",
    "\n",
    "**Пользователи без подписки.**"
   ]
  },
  {
   "cell_type": "code",
   "execution_count": 109,
   "id": "ac46602d",
   "metadata": {},
   "outputs": [
    {
     "data": {
      "text/plain": [
       "Text(0, 0.5, 'Количество поездок')"
      ]
     },
     "execution_count": 109,
     "metadata": {},
     "output_type": "execute_result"
    },
    {
     "data": {
      "image/png": "[encoded data removed]",
      "text/plain": [
       "<Figure size 640x480 with 1 Axes>"
      ]
     },
     "metadata": {},
     "output_type": "display_data"
    }
   ],
   "source": [
    "plt.hist(data_free['distance'], bins=100)\n",
    "\n",
    "plt.title('Расстояние за одну поездку у пользователей без подписки.')\n",
    "plt.xlabel('Расстояние')\n",
    "plt.ylabel('Количество поездок')"
   ]
  },
  {
   "cell_type": "code",
   "execution_count": 110,
   "id": "e19c35f6",
   "metadata": {},
   "outputs": [
    {
     "data": {
      "text/plain": [
       "count    11568.000000\n",
       "mean      3045.495282\n",
       "std       1246.173806\n",
       "min          0.855683\n",
       "25%       2366.562689\n",
       "50%       3114.648465\n",
       "75%       3905.697894\n",
       "max       7211.007745\n",
       "Name: distance, dtype: float64"
      ]
     },
     "execution_count": 110,
     "metadata": {},
     "output_type": "execute_result"
    }
   ],
   "source": [
    "data_free['distance'].describe()"
   ]
  },
  {
   "cell_type": "code",
   "execution_count": 111,
   "id": "c3a4a573",
   "metadata": {},
   "outputs": [
    {
     "data": {
      "text/plain": [
       "Text(0, 0.5, 'Количество поездок')"
      ]
     },
     "execution_count": 111,
     "metadata": {},
     "output_type": "execute_result"
    },
    {
     "data": {
      "image/png": "[encoded data removed]",
      "text/plain": [
       "<Figure size 640x480 with 1 Axes>"
      ]
     },
     "metadata": {},
     "output_type": "display_data"
    }
   ],
   "source": [
    "plt.hist(data_free['duration'], bins=100)\n",
    "\n",
    "plt.title('Продолжительность поездок у пользователей без подписки.')\n",
    "plt.xlabel('Продолжительность поездки')\n",
    "plt.ylabel('Количество поездок')"
   ]
  },
  {
   "cell_type": "code",
   "execution_count": 112,
   "id": "96df855c",
   "metadata": {},
   "outputs": [
    {
     "data": {
      "text/plain": [
       "count    11568.000000\n",
       "mean        17.390909\n",
       "std          6.326803\n",
       "min          0.500000\n",
       "25%         12.958437\n",
       "50%         17.326890\n",
       "75%         21.594071\n",
       "max         34.948498\n",
       "Name: duration, dtype: float64"
      ]
     },
     "execution_count": 112,
     "metadata": {},
     "output_type": "execute_result"
    }
   ],
   "source": [
    "data_free['duration'].describe()"
   ]
  },
  {
   "cell_type": "markdown",
   "id": "ac0d9c14",
   "metadata": {},
   "source": [
    "В соответствии с полученными рассчетами, медианное значение поездок у пользователей без подписки составляет 3112 метров (наиболее частые поездки от 2839 метров до 3398 метров). Медианная продолжительность таких поездок составляет 17,3 минуты (наиболее частые поездки укладываются от 15,7 минут до 18,7 минут)."
   ]
  },
  {
   "cell_type": "markdown",
   "id": "d29e2c63",
   "metadata": {},
   "source": [
    "Сравним графики продолжительности поездок и их дальность для двух групп пользователей."
   ]
  },
  {
   "cell_type": "code",
   "execution_count": 113,
   "id": "b119b010",
   "metadata": {},
   "outputs": [
    {
     "data": {
      "text/plain": [
       "Text(0, 0.5, 'Количество поездок')"
      ]
     },
     "execution_count": 113,
     "metadata": {},
     "output_type": "execute_result"
    },
    {
     "data": {
      "image/png": "[encoded data removed]",
      "text/plain": [
       "<Figure size 900x300 with 1 Axes>"
      ]
     },
     "metadata": {},
     "output_type": "display_data"
    }
   ],
   "source": [
    "ax = (data_free['distance'].\n",
    "      plot(kind='hist', bins=100, grid=True, figsize=(9,3), linewidth=3, histtype='step', label='Без подписки', title='Сравнение расстояний за одну поездку у пользователей с подпиской и без.')\n",
    "     )\n",
    "\n",
    "(data_ultra['distance'].\n",
    " plot(ax=ax, kind='hist', bins=100, grid=True, figsize=(9,3), linewidth=3, histtype='step', label='С подпиской')\n",
    ")\n",
    "\n",
    "ax.legend(loc='best')\n",
    "plt.xlabel('Расстояние')\n",
    "plt.ylabel('Количество поездок')"
   ]
  },
  {
   "cell_type": "code",
   "execution_count": 114,
   "id": "ca6d94ca",
   "metadata": {},
   "outputs": [
    {
     "data": {
      "text/plain": [
       "<matplotlib.legend.Legend at 0x148fc8510>"
      ]
     },
     "execution_count": 114,
     "metadata": {},
     "output_type": "execute_result"
    },
    {
     "data": {
      "image/png": "[encoded data removed]",
      "text/plain": [
       "<Figure size 900x300 with 1 Axes>"
      ]
     },
     "metadata": {},
     "output_type": "display_data"
    }
   ],
   "source": [
    "ax = (data_free['duration'].\n",
    "      plot(kind='hist', bins=100, grid=True, figsize=(9,3), linewidth=3, histtype='step', title='Сравнение продолжительностей поездок у пользователей с подпиской и без.', label='Без подписки')\n",
    "     )\n",
    "\n",
    "(data_ultra['duration'].\n",
    " plot(ax=ax, kind='hist', bins=100, grid=True, figsize=(9,3), linewidth=3, histtype='step', label='С подпиской')\n",
    ")\n",
    "\n",
    "plt.xlabel('Продолжительность')\n",
    "plt.ylabel('Количество поездок')\n",
    "plt.legend()"
   ]
  },
  {
   "cell_type": "markdown",
   "id": "d2197f09",
   "metadata": {},
   "source": [
    "**<font color='green'>Промежуточный вывод.</font>**\n",
    "\n",
    "Медианное расстояние для каждой группы пользователей примерно равно, но стои отметить, что разброс данных в группе пользователей без подписки больше, т.е. пользователи с подпиской имеют тенденцию совершать примерно одинаковые поездки, возможно они и преобретают подписку для регулярных одинаковых передвижений, в то время как пользователи без подписки действуют более спонтанно. \n",
    "Так же стоит отметить, что пользователи без подписки стараются экономить на времени, в связи с чем время их поездок обычно короче на одну минуту, а именно: большинство поездок по подписке происходят в пределах от 16,7 минут до 19,7 минут (медиана 18,2 минуты), а без подписки - от 15,7 минут до 18,7 минут (медиана 17,3 минуты). \n",
    "\n",
    "Данный вывод подтверждается графиками, на которых наглядно видно, что время, затрачиваемое на поездку больше у пользователей с подпиской. Также стоит отметить, что график распределения поездок у пользователей с подпиской уже, что говорит о меньшем различии в длительности поездок."
   ]
  },
  {
   "cell_type": "markdown",
   "id": "ba46cc1e",
   "metadata": {},
   "source": [
    "## 5. Подсчет выручки."
   ]
  },
  {
   "cell_type": "code",
   "execution_count": 115,
   "id": "e39b0676",
   "metadata": {},
   "outputs": [
    {
     "data": {
      "text/html": [
       "<div>\n",
       "<style scoped>\n",
       "    .dataframe tbody tr th:only-of-type {\n",
       "        vertical-align: middle;\n",
       "    }\n",
       "\n",
       "    .dataframe tbody tr th {\n",
       "        vertical-align: top;\n",
       "    }\n",
       "\n",
       "    .dataframe thead th {\n",
       "        text-align: right;\n",
       "    }\n",
       "</style>\n",
       "<table border=\"1\" class=\"dataframe\">\n",
       "  <thead>\n",
       "    <tr style=\"text-align: right;\">\n",
       "      <th></th>\n",
       "      <th>user_id</th>\n",
       "      <th>month</th>\n",
       "      <th>subscription_type</th>\n",
       "      <th>distance</th>\n",
       "      <th>duration</th>\n",
       "      <th>number_of_rides</th>\n",
       "    </tr>\n",
       "  </thead>\n",
       "  <tbody>\n",
       "    <tr>\n",
       "      <th>0</th>\n",
       "      <td>1</td>\n",
       "      <td>1</td>\n",
       "      <td>ultra</td>\n",
       "      <td>7027.511294</td>\n",
       "      <td>42.0</td>\n",
       "      <td>2</td>\n",
       "    </tr>\n",
       "    <tr>\n",
       "      <th>1</th>\n",
       "      <td>1</td>\n",
       "      <td>4</td>\n",
       "      <td>ultra</td>\n",
       "      <td>754.159807</td>\n",
       "      <td>7.0</td>\n",
       "      <td>1</td>\n",
       "    </tr>\n",
       "    <tr>\n",
       "      <th>2</th>\n",
       "      <td>1</td>\n",
       "      <td>8</td>\n",
       "      <td>ultra</td>\n",
       "      <td>6723.470560</td>\n",
       "      <td>46.0</td>\n",
       "      <td>2</td>\n",
       "    </tr>\n",
       "    <tr>\n",
       "      <th>3</th>\n",
       "      <td>1</td>\n",
       "      <td>10</td>\n",
       "      <td>ultra</td>\n",
       "      <td>5809.911100</td>\n",
       "      <td>32.0</td>\n",
       "      <td>2</td>\n",
       "    </tr>\n",
       "    <tr>\n",
       "      <th>4</th>\n",
       "      <td>1</td>\n",
       "      <td>11</td>\n",
       "      <td>ultra</td>\n",
       "      <td>7003.499363</td>\n",
       "      <td>56.0</td>\n",
       "      <td>3</td>\n",
       "    </tr>\n",
       "    <tr>\n",
       "      <th>...</th>\n",
       "      <td>...</td>\n",
       "      <td>...</td>\n",
       "      <td>...</td>\n",
       "      <td>...</td>\n",
       "      <td>...</td>\n",
       "      <td>...</td>\n",
       "    </tr>\n",
       "    <tr>\n",
       "      <th>11326</th>\n",
       "      <td>1534</td>\n",
       "      <td>6</td>\n",
       "      <td>free</td>\n",
       "      <td>3409.468534</td>\n",
       "      <td>26.0</td>\n",
       "      <td>2</td>\n",
       "    </tr>\n",
       "    <tr>\n",
       "      <th>11327</th>\n",
       "      <td>1534</td>\n",
       "      <td>8</td>\n",
       "      <td>free</td>\n",
       "      <td>7622.453034</td>\n",
       "      <td>48.0</td>\n",
       "      <td>2</td>\n",
       "    </tr>\n",
       "    <tr>\n",
       "      <th>11328</th>\n",
       "      <td>1534</td>\n",
       "      <td>9</td>\n",
       "      <td>free</td>\n",
       "      <td>4928.173852</td>\n",
       "      <td>23.0</td>\n",
       "      <td>1</td>\n",
       "    </tr>\n",
       "    <tr>\n",
       "      <th>11329</th>\n",
       "      <td>1534</td>\n",
       "      <td>11</td>\n",
       "      <td>free</td>\n",
       "      <td>13350.015305</td>\n",
       "      <td>78.0</td>\n",
       "      <td>4</td>\n",
       "    </tr>\n",
       "    <tr>\n",
       "      <th>11330</th>\n",
       "      <td>1534</td>\n",
       "      <td>12</td>\n",
       "      <td>free</td>\n",
       "      <td>2371.711192</td>\n",
       "      <td>16.0</td>\n",
       "      <td>1</td>\n",
       "    </tr>\n",
       "  </tbody>\n",
       "</table>\n",
       "<p>11331 rows × 6 columns</p>\n",
       "</div>"
      ],
      "text/plain": [
       "       user_id  month subscription_type      distance  duration  \\\n",
       "0            1      1             ultra   7027.511294      42.0   \n",
       "1            1      4             ultra    754.159807       7.0   \n",
       "2            1      8             ultra   6723.470560      46.0   \n",
       "3            1     10             ultra   5809.911100      32.0   \n",
       "4            1     11             ultra   7003.499363      56.0   \n",
       "...        ...    ...               ...           ...       ...   \n",
       "11326     1534      6              free   3409.468534      26.0   \n",
       "11327     1534      8              free   7622.453034      48.0   \n",
       "11328     1534      9              free   4928.173852      23.0   \n",
       "11329     1534     11              free  13350.015305      78.0   \n",
       "11330     1534     12              free   2371.711192      16.0   \n",
       "\n",
       "       number_of_rides  \n",
       "0                    2  \n",
       "1                    1  \n",
       "2                    2  \n",
       "3                    2  \n",
       "4                    3  \n",
       "...                ...  \n",
       "11326                2  \n",
       "11327                2  \n",
       "11328                1  \n",
       "11329                4  \n",
       "11330                1  \n",
       "\n",
       "[11331 rows x 6 columns]"
      ]
     },
     "execution_count": 115,
     "metadata": {},
     "output_type": "execute_result"
    }
   ],
   "source": [
    "data['number_of_rides'] = 1  # Добавим столбец для подсчета количества поездок\n",
    "\n",
    "data['duration'] = np.ceil(data['duration']) # Округлим столбец c продолжительностью поездки до целых значений в сторону увеличения\n",
    "\n",
    "data_revenue = data.pivot_table(index=['user_id', 'month', 'subscription_type'], \n",
    "                                values=['distance', 'number_of_rides', 'duration'], \n",
    "                                aggfunc='sum').reset_index()\n",
    "\n",
    "data_revenue"
   ]
  },
  {
   "cell_type": "code",
   "execution_count": 116,
   "id": "dab20a4a",
   "metadata": {},
   "outputs": [
    {
     "data": {
      "text/html": [
       "<div>\n",
       "<style scoped>\n",
       "    .dataframe tbody tr th:only-of-type {\n",
       "        vertical-align: middle;\n",
       "    }\n",
       "\n",
       "    .dataframe tbody tr th {\n",
       "        vertical-align: top;\n",
       "    }\n",
       "\n",
       "    .dataframe thead th {\n",
       "        text-align: right;\n",
       "    }\n",
       "</style>\n",
       "<table border=\"1\" class=\"dataframe\">\n",
       "  <thead>\n",
       "    <tr style=\"text-align: right;\">\n",
       "      <th></th>\n",
       "      <th>user_id</th>\n",
       "      <th>month</th>\n",
       "      <th>subscription_type</th>\n",
       "      <th>distance</th>\n",
       "      <th>duration</th>\n",
       "      <th>number_of_rides</th>\n",
       "      <th>minute_price</th>\n",
       "      <th>start_ride_price</th>\n",
       "      <th>subscription_fee</th>\n",
       "    </tr>\n",
       "  </thead>\n",
       "  <tbody>\n",
       "    <tr>\n",
       "      <th>0</th>\n",
       "      <td>1</td>\n",
       "      <td>1</td>\n",
       "      <td>ultra</td>\n",
       "      <td>7027.511294</td>\n",
       "      <td>42.0</td>\n",
       "      <td>2</td>\n",
       "      <td>6</td>\n",
       "      <td>0</td>\n",
       "      <td>199</td>\n",
       "    </tr>\n",
       "    <tr>\n",
       "      <th>1</th>\n",
       "      <td>1</td>\n",
       "      <td>4</td>\n",
       "      <td>ultra</td>\n",
       "      <td>754.159807</td>\n",
       "      <td>7.0</td>\n",
       "      <td>1</td>\n",
       "      <td>6</td>\n",
       "      <td>0</td>\n",
       "      <td>199</td>\n",
       "    </tr>\n",
       "    <tr>\n",
       "      <th>2</th>\n",
       "      <td>1</td>\n",
       "      <td>8</td>\n",
       "      <td>ultra</td>\n",
       "      <td>6723.470560</td>\n",
       "      <td>46.0</td>\n",
       "      <td>2</td>\n",
       "      <td>6</td>\n",
       "      <td>0</td>\n",
       "      <td>199</td>\n",
       "    </tr>\n",
       "    <tr>\n",
       "      <th>3</th>\n",
       "      <td>1</td>\n",
       "      <td>10</td>\n",
       "      <td>ultra</td>\n",
       "      <td>5809.911100</td>\n",
       "      <td>32.0</td>\n",
       "      <td>2</td>\n",
       "      <td>6</td>\n",
       "      <td>0</td>\n",
       "      <td>199</td>\n",
       "    </tr>\n",
       "    <tr>\n",
       "      <th>4</th>\n",
       "      <td>1</td>\n",
       "      <td>11</td>\n",
       "      <td>ultra</td>\n",
       "      <td>7003.499363</td>\n",
       "      <td>56.0</td>\n",
       "      <td>3</td>\n",
       "      <td>6</td>\n",
       "      <td>0</td>\n",
       "      <td>199</td>\n",
       "    </tr>\n",
       "    <tr>\n",
       "      <th>...</th>\n",
       "      <td>...</td>\n",
       "      <td>...</td>\n",
       "      <td>...</td>\n",
       "      <td>...</td>\n",
       "      <td>...</td>\n",
       "      <td>...</td>\n",
       "      <td>...</td>\n",
       "      <td>...</td>\n",
       "      <td>...</td>\n",
       "    </tr>\n",
       "    <tr>\n",
       "      <th>11326</th>\n",
       "      <td>1534</td>\n",
       "      <td>6</td>\n",
       "      <td>free</td>\n",
       "      <td>3409.468534</td>\n",
       "      <td>26.0</td>\n",
       "      <td>2</td>\n",
       "      <td>8</td>\n",
       "      <td>50</td>\n",
       "      <td>0</td>\n",
       "    </tr>\n",
       "    <tr>\n",
       "      <th>11327</th>\n",
       "      <td>1534</td>\n",
       "      <td>8</td>\n",
       "      <td>free</td>\n",
       "      <td>7622.453034</td>\n",
       "      <td>48.0</td>\n",
       "      <td>2</td>\n",
       "      <td>8</td>\n",
       "      <td>50</td>\n",
       "      <td>0</td>\n",
       "    </tr>\n",
       "    <tr>\n",
       "      <th>11328</th>\n",
       "      <td>1534</td>\n",
       "      <td>9</td>\n",
       "      <td>free</td>\n",
       "      <td>4928.173852</td>\n",
       "      <td>23.0</td>\n",
       "      <td>1</td>\n",
       "      <td>8</td>\n",
       "      <td>50</td>\n",
       "      <td>0</td>\n",
       "    </tr>\n",
       "    <tr>\n",
       "      <th>11329</th>\n",
       "      <td>1534</td>\n",
       "      <td>11</td>\n",
       "      <td>free</td>\n",
       "      <td>13350.015305</td>\n",
       "      <td>78.0</td>\n",
       "      <td>4</td>\n",
       "      <td>8</td>\n",
       "      <td>50</td>\n",
       "      <td>0</td>\n",
       "    </tr>\n",
       "    <tr>\n",
       "      <th>11330</th>\n",
       "      <td>1534</td>\n",
       "      <td>12</td>\n",
       "      <td>free</td>\n",
       "      <td>2371.711192</td>\n",
       "      <td>16.0</td>\n",
       "      <td>1</td>\n",
       "      <td>8</td>\n",
       "      <td>50</td>\n",
       "      <td>0</td>\n",
       "    </tr>\n",
       "  </tbody>\n",
       "</table>\n",
       "<p>11331 rows × 9 columns</p>\n",
       "</div>"
      ],
      "text/plain": [
       "       user_id  month subscription_type      distance  duration  \\\n",
       "0            1      1             ultra   7027.511294      42.0   \n",
       "1            1      4             ultra    754.159807       7.0   \n",
       "2            1      8             ultra   6723.470560      46.0   \n",
       "3            1     10             ultra   5809.911100      32.0   \n",
       "4            1     11             ultra   7003.499363      56.0   \n",
       "...        ...    ...               ...           ...       ...   \n",
       "11326     1534      6              free   3409.468534      26.0   \n",
       "11327     1534      8              free   7622.453034      48.0   \n",
       "11328     1534      9              free   4928.173852      23.0   \n",
       "11329     1534     11              free  13350.015305      78.0   \n",
       "11330     1534     12              free   2371.711192      16.0   \n",
       "\n",
       "       number_of_rides  minute_price  start_ride_price  subscription_fee  \n",
       "0                    2             6                 0               199  \n",
       "1                    1             6                 0               199  \n",
       "2                    2             6                 0               199  \n",
       "3                    2             6                 0               199  \n",
       "4                    3             6                 0               199  \n",
       "...                ...           ...               ...               ...  \n",
       "11326                2             8                50                 0  \n",
       "11327                2             8                50                 0  \n",
       "11328                1             8                50                 0  \n",
       "11329                4             8                50                 0  \n",
       "11330                1             8                50                 0  \n",
       "\n",
       "[11331 rows x 9 columns]"
      ]
     },
     "execution_count": 116,
     "metadata": {},
     "output_type": "execute_result"
    }
   ],
   "source": [
    "data_revenue = data_revenue.merge(subs, on='subscription_type')\n",
    "\n",
    "data_revenue"
   ]
  },
  {
   "cell_type": "markdown",
   "id": "e4f15b71",
   "metadata": {},
   "source": [
    "Количество строк после добавления новых столбцов сохранено."
   ]
  },
  {
   "cell_type": "code",
   "execution_count": 117,
   "id": "a714fbe5",
   "metadata": {},
   "outputs": [
    {
     "data": {
      "text/html": [
       "<div>\n",
       "<style scoped>\n",
       "    .dataframe tbody tr th:only-of-type {\n",
       "        vertical-align: middle;\n",
       "    }\n",
       "\n",
       "    .dataframe tbody tr th {\n",
       "        vertical-align: top;\n",
       "    }\n",
       "\n",
       "    .dataframe thead th {\n",
       "        text-align: right;\n",
       "    }\n",
       "</style>\n",
       "<table border=\"1\" class=\"dataframe\">\n",
       "  <thead>\n",
       "    <tr style=\"text-align: right;\">\n",
       "      <th></th>\n",
       "      <th>user_id</th>\n",
       "      <th>month</th>\n",
       "      <th>subscription_type</th>\n",
       "      <th>distance</th>\n",
       "      <th>duration</th>\n",
       "      <th>number_of_rides</th>\n",
       "      <th>minute_price</th>\n",
       "      <th>start_ride_price</th>\n",
       "      <th>subscription_fee</th>\n",
       "      <th>revenue</th>\n",
       "    </tr>\n",
       "  </thead>\n",
       "  <tbody>\n",
       "    <tr>\n",
       "      <th>0</th>\n",
       "      <td>1</td>\n",
       "      <td>1</td>\n",
       "      <td>ultra</td>\n",
       "      <td>7027.511294</td>\n",
       "      <td>42.0</td>\n",
       "      <td>2</td>\n",
       "      <td>6</td>\n",
       "      <td>0</td>\n",
       "      <td>199</td>\n",
       "      <td>451.0</td>\n",
       "    </tr>\n",
       "    <tr>\n",
       "      <th>1</th>\n",
       "      <td>1</td>\n",
       "      <td>4</td>\n",
       "      <td>ultra</td>\n",
       "      <td>754.159807</td>\n",
       "      <td>7.0</td>\n",
       "      <td>1</td>\n",
       "      <td>6</td>\n",
       "      <td>0</td>\n",
       "      <td>199</td>\n",
       "      <td>241.0</td>\n",
       "    </tr>\n",
       "    <tr>\n",
       "      <th>2</th>\n",
       "      <td>1</td>\n",
       "      <td>8</td>\n",
       "      <td>ultra</td>\n",
       "      <td>6723.470560</td>\n",
       "      <td>46.0</td>\n",
       "      <td>2</td>\n",
       "      <td>6</td>\n",
       "      <td>0</td>\n",
       "      <td>199</td>\n",
       "      <td>475.0</td>\n",
       "    </tr>\n",
       "    <tr>\n",
       "      <th>3</th>\n",
       "      <td>1</td>\n",
       "      <td>10</td>\n",
       "      <td>ultra</td>\n",
       "      <td>5809.911100</td>\n",
       "      <td>32.0</td>\n",
       "      <td>2</td>\n",
       "      <td>6</td>\n",
       "      <td>0</td>\n",
       "      <td>199</td>\n",
       "      <td>391.0</td>\n",
       "    </tr>\n",
       "    <tr>\n",
       "      <th>4</th>\n",
       "      <td>1</td>\n",
       "      <td>11</td>\n",
       "      <td>ultra</td>\n",
       "      <td>7003.499363</td>\n",
       "      <td>56.0</td>\n",
       "      <td>3</td>\n",
       "      <td>6</td>\n",
       "      <td>0</td>\n",
       "      <td>199</td>\n",
       "      <td>535.0</td>\n",
       "    </tr>\n",
       "  </tbody>\n",
       "</table>\n",
       "</div>"
      ],
      "text/plain": [
       "   user_id  month subscription_type     distance  duration  number_of_rides  \\\n",
       "0        1      1             ultra  7027.511294      42.0                2   \n",
       "1        1      4             ultra   754.159807       7.0                1   \n",
       "2        1      8             ultra  6723.470560      46.0                2   \n",
       "3        1     10             ultra  5809.911100      32.0                2   \n",
       "4        1     11             ultra  7003.499363      56.0                3   \n",
       "\n",
       "   minute_price  start_ride_price  subscription_fee  revenue  \n",
       "0             6                 0               199    451.0  \n",
       "1             6                 0               199    241.0  \n",
       "2             6                 0               199    475.0  \n",
       "3             6                 0               199    391.0  \n",
       "4             6                 0               199    535.0  "
      ]
     },
     "execution_count": 117,
     "metadata": {},
     "output_type": "execute_result"
    }
   ],
   "source": [
    "data_revenue['revenue'] = data_revenue['duration'] * data_revenue['minute_price'] + \\\n",
    "                          data_revenue['number_of_rides'] * data_revenue['start_ride_price'] + \\\n",
    "                          data_revenue['subscription_fee']\n",
    "\n",
    "\n",
    "data_revenue.head()"
   ]
  },
  {
   "cell_type": "markdown",
   "id": "957a8e1c",
   "metadata": {},
   "source": [
    "В ходе выполнения данного раздела проекта был добавлен дополнительный столбец 'revenue' с расчетом помесячной выручки, получаемой компанией с каждого пользователя, проведенный с учетом наличия подписки и других параметров использования сервиса."
   ]
  },
  {
   "cell_type": "markdown",
   "id": "429f3fbc",
   "metadata": {},
   "source": [
    "## 6. Проверка гипотез. "
   ]
  },
  {
   "cell_type": "markdown",
   "id": "00eb24b9",
   "metadata": {},
   "source": [
    "**6.1. Сравнение времени, которое тратят пользователи с подпиской и без**\n",
    "\n",
    "Гипотеза:\n",
    "- Нулевая - пользователи с подпиской тратят столько же времени на поездку сколько пользователи без подписки. \n",
    "- Альтернативная - пользователи с подпиской тратят больше времени"
   ]
  },
  {
   "cell_type": "code",
   "execution_count": 118,
   "id": "3a7fb81e",
   "metadata": {},
   "outputs": [
    {
     "name": "stdout",
     "output_type": "stream",
     "text": [
      "Отвергаем нулевую гипотезу\n"
     ]
    }
   ],
   "source": [
    "alpha = 0.05\n",
    "\n",
    "result1 = st.ttest_ind(data_ultra['duration'], data_free['duration'], alternative='greater')\n",
    "\n",
    "if result1.pvalue < alpha:\n",
    "    print('Отвергаем нулевую гипотезу')\n",
    "else:\n",
    "    print('Не получилось отверкнуть нулевую гипотезу')"
   ]
  },
  {
   "cell_type": "markdown",
   "id": "ed9f65f7",
   "metadata": {},
   "source": [
    "Проверим данную гипотезу дополнительным рассчетом среднего значание продолжительности поездок каждой из групп:"
   ]
  },
  {
   "cell_type": "code",
   "execution_count": 119,
   "id": "4abdb226",
   "metadata": {
    "scrolled": true
   },
   "outputs": [
    {
     "data": {
      "text/plain": [
       "18.54198516280583"
      ]
     },
     "execution_count": 119,
     "metadata": {},
     "output_type": "execute_result"
    }
   ],
   "source": [
    "data_ultra['duration'].mean()"
   ]
  },
  {
   "cell_type": "code",
   "execution_count": 120,
   "id": "144e6dca",
   "metadata": {},
   "outputs": [
    {
     "data": {
      "text/plain": [
       "17.39090929866399"
      ]
     },
     "execution_count": 120,
     "metadata": {},
     "output_type": "execute_result"
    }
   ],
   "source": [
    "data_free['duration'].mean()"
   ]
  },
  {
   "cell_type": "markdown",
   "id": "d6de7a9e",
   "metadata": {},
   "source": [
    "Согласно проведенной проверке гипотезы, пользователи с подпиской действительно тратят больше времени на поездки и соответственно они \"выгоднее\" для компании. Данное заключение было так же подтверждени сравнением средних значение продолжительности поездок для каждой из групп.\n",
    "\n",
    "**6.2. Расстояние одной поездки в 3130 метров**\n",
    "\n",
    "Гипотезы:\n",
    "- Нулевая - среднее расстояние одной поездки пользователей с подпиской составляет 3130 метров.\n",
    "- Альтернативная - среднее расстояние одной поездки пользователей с подпиской больше 3130 метров."
   ]
  },
  {
   "cell_type": "code",
   "execution_count": 121,
   "id": "40f1a49c",
   "metadata": {},
   "outputs": [
    {
     "name": "stdout",
     "output_type": "stream",
     "text": [
      "Не получилось отверкнуть нулевую гипотезу\n"
     ]
    }
   ],
   "source": [
    "distance = 3130\n",
    "\n",
    "result2 = st.ttest_1samp(data_ultra['distance'], distance, alternative='greater')\n",
    "\n",
    "if result2.pvalue < alpha:\n",
    "    print('Отвергаем нулевую гипотезу')\n",
    "else:\n",
    "    print('Не получилось отверкнуть нулевую гипотезу')"
   ]
  },
  {
   "cell_type": "markdown",
   "id": "dcb3858c",
   "metadata": {},
   "source": [
    "Дополнительно проверим данную гипотезу расчетом среднего значения преодолеваемой дистанции для рассматриваемой группы:"
   ]
  },
  {
   "cell_type": "code",
   "execution_count": 122,
   "id": "b0ede6e5",
   "metadata": {},
   "outputs": [
    {
     "data": {
      "text/plain": [
       "3115.4453880370247"
      ]
     },
     "execution_count": 122,
     "metadata": {},
     "output_type": "execute_result"
    }
   ],
   "source": [
    "data_ultra['distance'].mean()"
   ]
  },
  {
   "cell_type": "markdown",
   "id": "f7169fd9",
   "metadata": {},
   "source": [
    "Согласно проведенной проверке гипотезы, среднее расстояние, которое проезжают на самокате пользователи с подпиской, меньше 3130 метров, что так же подтверждается расчетом среднего значения, которое составляет 3115 метров(меньше 3130 метров).\n",
    "\n",
    "**6.3. Помесячная выручка от пользователей.**\n",
    "\n",
    "Гипотезы:\n",
    "- Нулевая - средняя помесячная выручка от пользователей с подпиской по месяцам равна средней выручке от пользователей без подписки.\n",
    "- Альтернативная - средняя помесячная выручка от пользователей с подпиской по месяцам выше средней выручки от пользователей без подписки."
   ]
  },
  {
   "cell_type": "code",
   "execution_count": 123,
   "id": "080fa93d",
   "metadata": {},
   "outputs": [],
   "source": [
    "data_revenue_ultra = data_revenue.query('subscription_type == \"ultra\"')\n",
    "\n",
    "data_revenue_free = data_revenue.query('subscription_type == \"free\"')"
   ]
  },
  {
   "cell_type": "code",
   "execution_count": 124,
   "id": "d0897ea1",
   "metadata": {},
   "outputs": [
    {
     "data": {
      "text/html": [
       "<div>\n",
       "<style scoped>\n",
       "    .dataframe tbody tr th:only-of-type {\n",
       "        vertical-align: middle;\n",
       "    }\n",
       "\n",
       "    .dataframe tbody tr th {\n",
       "        vertical-align: top;\n",
       "    }\n",
       "\n",
       "    .dataframe thead th {\n",
       "        text-align: right;\n",
       "    }\n",
       "</style>\n",
       "<table border=\"1\" class=\"dataframe\">\n",
       "  <thead>\n",
       "    <tr style=\"text-align: right;\">\n",
       "      <th></th>\n",
       "      <th>user_id</th>\n",
       "      <th>month</th>\n",
       "      <th>subscription_type</th>\n",
       "      <th>distance</th>\n",
       "      <th>duration</th>\n",
       "      <th>number_of_rides</th>\n",
       "      <th>minute_price</th>\n",
       "      <th>start_ride_price</th>\n",
       "      <th>subscription_fee</th>\n",
       "      <th>revenue</th>\n",
       "    </tr>\n",
       "  </thead>\n",
       "  <tbody>\n",
       "    <tr>\n",
       "      <th>0</th>\n",
       "      <td>1</td>\n",
       "      <td>1</td>\n",
       "      <td>ultra</td>\n",
       "      <td>7027.511294</td>\n",
       "      <td>42.0</td>\n",
       "      <td>2</td>\n",
       "      <td>6</td>\n",
       "      <td>0</td>\n",
       "      <td>199</td>\n",
       "      <td>451.0</td>\n",
       "    </tr>\n",
       "    <tr>\n",
       "      <th>1</th>\n",
       "      <td>1</td>\n",
       "      <td>4</td>\n",
       "      <td>ultra</td>\n",
       "      <td>754.159807</td>\n",
       "      <td>7.0</td>\n",
       "      <td>1</td>\n",
       "      <td>6</td>\n",
       "      <td>0</td>\n",
       "      <td>199</td>\n",
       "      <td>241.0</td>\n",
       "    </tr>\n",
       "    <tr>\n",
       "      <th>2</th>\n",
       "      <td>1</td>\n",
       "      <td>8</td>\n",
       "      <td>ultra</td>\n",
       "      <td>6723.470560</td>\n",
       "      <td>46.0</td>\n",
       "      <td>2</td>\n",
       "      <td>6</td>\n",
       "      <td>0</td>\n",
       "      <td>199</td>\n",
       "      <td>475.0</td>\n",
       "    </tr>\n",
       "    <tr>\n",
       "      <th>3</th>\n",
       "      <td>1</td>\n",
       "      <td>10</td>\n",
       "      <td>ultra</td>\n",
       "      <td>5809.911100</td>\n",
       "      <td>32.0</td>\n",
       "      <td>2</td>\n",
       "      <td>6</td>\n",
       "      <td>0</td>\n",
       "      <td>199</td>\n",
       "      <td>391.0</td>\n",
       "    </tr>\n",
       "    <tr>\n",
       "      <th>4</th>\n",
       "      <td>1</td>\n",
       "      <td>11</td>\n",
       "      <td>ultra</td>\n",
       "      <td>7003.499363</td>\n",
       "      <td>56.0</td>\n",
       "      <td>3</td>\n",
       "      <td>6</td>\n",
       "      <td>0</td>\n",
       "      <td>199</td>\n",
       "      <td>535.0</td>\n",
       "    </tr>\n",
       "  </tbody>\n",
       "</table>\n",
       "</div>"
      ],
      "text/plain": [
       "   user_id  month subscription_type     distance  duration  number_of_rides  \\\n",
       "0        1      1             ultra  7027.511294      42.0                2   \n",
       "1        1      4             ultra   754.159807       7.0                1   \n",
       "2        1      8             ultra  6723.470560      46.0                2   \n",
       "3        1     10             ultra  5809.911100      32.0                2   \n",
       "4        1     11             ultra  7003.499363      56.0                3   \n",
       "\n",
       "   minute_price  start_ride_price  subscription_fee  revenue  \n",
       "0             6                 0               199    451.0  \n",
       "1             6                 0               199    241.0  \n",
       "2             6                 0               199    475.0  \n",
       "3             6                 0               199    391.0  \n",
       "4             6                 0               199    535.0  "
      ]
     },
     "execution_count": 124,
     "metadata": {},
     "output_type": "execute_result"
    }
   ],
   "source": [
    "data_revenue_ultra.head()"
   ]
  },
  {
   "cell_type": "code",
   "execution_count": 125,
   "id": "7895afd3",
   "metadata": {},
   "outputs": [
    {
     "data": {
      "text/html": [
       "<div>\n",
       "<style scoped>\n",
       "    .dataframe tbody tr th:only-of-type {\n",
       "        vertical-align: middle;\n",
       "    }\n",
       "\n",
       "    .dataframe tbody tr th {\n",
       "        vertical-align: top;\n",
       "    }\n",
       "\n",
       "    .dataframe thead th {\n",
       "        text-align: right;\n",
       "    }\n",
       "</style>\n",
       "<table border=\"1\" class=\"dataframe\">\n",
       "  <thead>\n",
       "    <tr style=\"text-align: right;\">\n",
       "      <th></th>\n",
       "      <th>user_id</th>\n",
       "      <th>month</th>\n",
       "      <th>subscription_type</th>\n",
       "      <th>distance</th>\n",
       "      <th>duration</th>\n",
       "      <th>number_of_rides</th>\n",
       "      <th>minute_price</th>\n",
       "      <th>start_ride_price</th>\n",
       "      <th>subscription_fee</th>\n",
       "      <th>revenue</th>\n",
       "    </tr>\n",
       "  </thead>\n",
       "  <tbody>\n",
       "    <tr>\n",
       "      <th>4533</th>\n",
       "      <td>700</td>\n",
       "      <td>1</td>\n",
       "      <td>free</td>\n",
       "      <td>2515.690719</td>\n",
       "      <td>15.0</td>\n",
       "      <td>1</td>\n",
       "      <td>8</td>\n",
       "      <td>50</td>\n",
       "      <td>0</td>\n",
       "      <td>170.0</td>\n",
       "    </tr>\n",
       "    <tr>\n",
       "      <th>4534</th>\n",
       "      <td>700</td>\n",
       "      <td>2</td>\n",
       "      <td>free</td>\n",
       "      <td>13446.659764</td>\n",
       "      <td>89.0</td>\n",
       "      <td>5</td>\n",
       "      <td>8</td>\n",
       "      <td>50</td>\n",
       "      <td>0</td>\n",
       "      <td>962.0</td>\n",
       "    </tr>\n",
       "    <tr>\n",
       "      <th>4535</th>\n",
       "      <td>700</td>\n",
       "      <td>3</td>\n",
       "      <td>free</td>\n",
       "      <td>3798.334905</td>\n",
       "      <td>19.0</td>\n",
       "      <td>1</td>\n",
       "      <td>8</td>\n",
       "      <td>50</td>\n",
       "      <td>0</td>\n",
       "      <td>202.0</td>\n",
       "    </tr>\n",
       "    <tr>\n",
       "      <th>4536</th>\n",
       "      <td>700</td>\n",
       "      <td>4</td>\n",
       "      <td>free</td>\n",
       "      <td>2984.551206</td>\n",
       "      <td>16.0</td>\n",
       "      <td>1</td>\n",
       "      <td>8</td>\n",
       "      <td>50</td>\n",
       "      <td>0</td>\n",
       "      <td>178.0</td>\n",
       "    </tr>\n",
       "    <tr>\n",
       "      <th>4537</th>\n",
       "      <td>700</td>\n",
       "      <td>6</td>\n",
       "      <td>free</td>\n",
       "      <td>5927.650988</td>\n",
       "      <td>29.0</td>\n",
       "      <td>2</td>\n",
       "      <td>8</td>\n",
       "      <td>50</td>\n",
       "      <td>0</td>\n",
       "      <td>332.0</td>\n",
       "    </tr>\n",
       "  </tbody>\n",
       "</table>\n",
       "</div>"
      ],
      "text/plain": [
       "      user_id  month subscription_type      distance  duration  \\\n",
       "4533      700      1              free   2515.690719      15.0   \n",
       "4534      700      2              free  13446.659764      89.0   \n",
       "4535      700      3              free   3798.334905      19.0   \n",
       "4536      700      4              free   2984.551206      16.0   \n",
       "4537      700      6              free   5927.650988      29.0   \n",
       "\n",
       "      number_of_rides  minute_price  start_ride_price  subscription_fee  \\\n",
       "4533                1             8                50                 0   \n",
       "4534                5             8                50                 0   \n",
       "4535                1             8                50                 0   \n",
       "4536                1             8                50                 0   \n",
       "4537                2             8                50                 0   \n",
       "\n",
       "      revenue  \n",
       "4533    170.0  \n",
       "4534    962.0  \n",
       "4535    202.0  \n",
       "4536    178.0  \n",
       "4537    332.0  "
      ]
     },
     "execution_count": 125,
     "metadata": {},
     "output_type": "execute_result"
    }
   ],
   "source": [
    "data_revenue_free.head()"
   ]
  },
  {
   "cell_type": "code",
   "execution_count": 126,
   "id": "d9c4054d",
   "metadata": {},
   "outputs": [
    {
     "name": "stdout",
     "output_type": "stream",
     "text": [
      "Отвергаем нулевую гипотезу\n"
     ]
    }
   ],
   "source": [
    "result3 = st.ttest_ind(data_revenue_ultra['revenue'], data_revenue_free['revenue'], alternative='greater')\n",
    "\n",
    "if result3.pvalue < alpha:\n",
    "    print('Отвергаем нулевую гипотезу')\n",
    "else:\n",
    "    print('Не получилось отверкнуть нулевую гипотезу')"
   ]
  },
  {
   "cell_type": "markdown",
   "id": "213ccf29",
   "metadata": {},
   "source": [
    "Проверим данную гипотезу расчетом среднего значения помесячной выручки для каждой группы:"
   ]
  },
  {
   "cell_type": "code",
   "execution_count": 127,
   "id": "6eb13131",
   "metadata": {},
   "outputs": [
    {
     "data": {
      "text/plain": [
       "362.7921906022502"
      ]
     },
     "execution_count": 127,
     "metadata": {},
     "output_type": "execute_result"
    }
   ],
   "source": [
    "data_revenue_ultra['revenue'].mean()"
   ]
  },
  {
   "cell_type": "code",
   "execution_count": 128,
   "id": "92510e01",
   "metadata": {},
   "outputs": [
    {
     "data": {
      "text/plain": [
       "328.6413651073845"
      ]
     },
     "execution_count": 128,
     "metadata": {},
     "output_type": "execute_result"
    }
   ],
   "source": [
    "data_revenue_free['revenue'].mean()"
   ]
  },
  {
   "cell_type": "markdown",
   "id": "f8151a95",
   "metadata": {},
   "source": [
    "Согласно проведенной проверке гипотезы, помесячная выручка от пользователей с подпиской по месяцам выше выручки от пользователей без подписки. Данное заключение было дополнительно проверено расчетом среднего значения помесячной выручки для каждой группы.\n",
    "\n",
    "\n",
    "\n",
    "\n"
   ]
  },
  {
   "cell_type": "markdown",
   "id": "751a83f8",
   "metadata": {},
   "source": [
    "**6.4. Количество обращений в техподдержку до и после обновлений.**\n",
    "\n",
    "Для проверки данного теста, файл, содержащий данные о количестве пользователей до и после обращений, рассматривался бы с помощью гипотезы о равенстве средних для зависимых (парных) выборок, выполняемый методом st.ttest_rel(). Параметрами данного теста являлись бы наборы данных до и после обновления сервера, одинаковые по размеру, а также с сохраненным порядком объектов, для которого проводились измерения до и после.\n",
    "\n",
    "После выполнения данного метода была бы опровергнута или не опровергнута гипотеза о равенстве количества обращений до или после, в том числе с учетом их уменьшения.\n"
   ]
  },
  {
   "cell_type": "markdown",
   "id": "69e3e3f6",
   "metadata": {},
   "source": [
    "## 7. Распределения."
   ]
  },
  {
   "cell_type": "markdown",
   "id": "8cf73953",
   "metadata": {},
   "source": [
    "**7.1. Проведение акции с раздачей промокодов на один бесплатный месяц подписки.**"
   ]
  },
  {
   "cell_type": "code",
   "execution_count": 129,
   "id": "3195da66",
   "metadata": {},
   "outputs": [
    {
     "data": {
      "text/plain": [
       "Text(0, 0.5, 'Вероятность')"
      ]
     },
     "execution_count": 129,
     "metadata": {},
     "output_type": "execute_result"
    },
    {
     "data": {
      "image/png": "[encoded data removed]",
      "text/plain": [
       "<Figure size 640x480 with 1 Axes>"
      ]
     },
     "metadata": {},
     "output_type": "display_data"
    }
   ],
   "source": [
    "p = 0.1 # Вероятность оформления подписки\n",
    "n = 1000 # Предположительное количество пользователей акции (редположим, что каждый 10й купит подписку)\n",
    "\n",
    "marketing = []\n",
    "\n",
    "for k in range(0, n+1):\n",
    "    prob = binom.pmf(k, n, p)\n",
    "    marketing.append(prob)\n",
    "    \n",
    "plt.bar(range(0, n+1), marketing)\n",
    "plt.xlim(50, 150)\n",
    "plt.title('Количество пользователей, оформивших подписку после акции')\n",
    "plt.xlabel('Количество пользователей')\n",
    "plt.ylabel('Вероятность')"
   ]
  },
  {
   "cell_type": "markdown",
   "id": "5b6b2caa",
   "metadata": {},
   "source": [
    "Вероятность получения 100 подписок после такой акции составляет более 40%, соответственно выдачи 100 промокодов может быть недостаточно, с 50% вероятностью можно получить количество подписок меньше требуемой величины."
   ]
  },
  {
   "cell_type": "code",
   "execution_count": 130,
   "id": "e63e4d35",
   "metadata": {},
   "outputs": [
    {
     "data": {
      "text/plain": [
       "0.5"
      ]
     },
     "execution_count": 130,
     "metadata": {},
     "output_type": "execute_result"
    }
   ],
   "source": [
    "mu = n * p\n",
    "\n",
    "sigma = sqrt(mu * (1-p))\n",
    "\n",
    "distr = st.norm(mu, sigma)\n",
    "\n",
    "x = 100 # Желаемое количество подписок\n",
    "\n",
    "result = distr.cdf(x)\n",
    "\n",
    "result"
   ]
  },
  {
   "cell_type": "markdown",
   "id": "e6be3261",
   "metadata": {},
   "source": [
    "Метод cdf() подтверждает, что вероятность получить 100 подписок составляет 100% при данном количестве рассылок.\n",
    "\n",
    "Увеличим предполагаемое количество рассылок до 1168."
   ]
  },
  {
   "cell_type": "code",
   "execution_count": 131,
   "id": "20a36faf",
   "metadata": {},
   "outputs": [
    {
     "data": {
      "text/plain": [
       "Text(0, 0.5, 'Вероятность')"
      ]
     },
     "execution_count": 131,
     "metadata": {},
     "output_type": "execute_result"
    },
    {
     "data": {
      "image/png": "[encoded data removed]",
      "text/plain": [
       "<Figure size 640x480 with 1 Axes>"
      ]
     },
     "metadata": {},
     "output_type": "display_data"
    }
   ],
   "source": [
    "n_new = 1168 # Предположительное количество пользователей акции\n",
    "\n",
    "marketing_new = []\n",
    "\n",
    "for k in range(0, n_new+1):\n",
    "    prob_new = binom.pmf(k, n_new, p)\n",
    "    marketing_new.append(prob_new)\n",
    "    \n",
    "plt.bar(range(0, n_new+1), marketing_new)\n",
    "plt.xlim(80, 160)\n",
    "plt.title('Количество пользователей, оформивших подписку после акции')\n",
    "plt.xlabel('Количество пользователей')\n",
    "plt.ylabel('Вероятность')"
   ]
  },
  {
   "cell_type": "code",
   "execution_count": 132,
   "id": "6e1e5d36",
   "metadata": {},
   "outputs": [
    {
     "data": {
      "text/plain": [
       "0.050650790692463"
      ]
     },
     "execution_count": 132,
     "metadata": {},
     "output_type": "execute_result"
    }
   ],
   "source": [
    "mu_new = n_new * p\n",
    "\n",
    "sigma_new = sqrt(mu_new * (1-p))\n",
    "\n",
    "distr = st.norm(mu_new, sigma_new)\n",
    "\n",
    "result = distr.cdf(x)\n",
    "\n",
    "result"
   ]
  },
  {
   "cell_type": "markdown",
   "id": "6677d184",
   "metadata": {},
   "source": [
    "**Вывод:** \n",
    "\n",
    "Минимальное количество промокодов, которое длжно быть разослано - 1168 штук. Такое количество позволит получить вероятность не выполнить план равную 5%. "
   ]
  },
  {
   "cell_type": "markdown",
   "id": "e7d6c460",
   "metadata": {},
   "source": [
    "**7.2. Рассылка push-уведомлений.**"
   ]
  },
  {
   "cell_type": "code",
   "execution_count": 133,
   "id": "1518b312",
   "metadata": {},
   "outputs": [
    {
     "data": {
      "image/png": "[encoded data removed]",
      "text/plain": [
       "<Figure size 640x480 with 1 Axes>"
      ]
     },
     "metadata": {},
     "output_type": "display_data"
    }
   ],
   "source": [
    "n2 = 1000000\n",
    "p2 = 0.4\n",
    "\n",
    "mu2 = n2 * p2\n",
    "sigma2 = sqrt(n2 * p2 * (1 - p2))\n",
    "\n",
    "def linspace(start, stop, num):   # Функция для построения графика\n",
    "    step = (stop - start) / (num - 1)\n",
    "    result = []\n",
    "    for i in range(num):\n",
    "        result.append(start + step * i)\n",
    "    return result\n",
    "\n",
    "left = int(mu2 - 4 * sigma2)  # Граница промежутка для аппроксимации\n",
    "right = int(mu2 + 4 * sigma2)\n",
    "\n",
    "ay = plt.subplot()\n",
    "\n",
    "y = linspace(left, right, n2)\n",
    "\n",
    "ay.plot(y, norm.pdf(y, mu2, sigma2), 'r-', lw=3, alpha=0.3)\n",
    "\n",
    "plt.title('Нормальное распределение открывания push-уведомлений пользователями из рассылки')\n",
    "plt.xlabel('Открытые push-уведомления')\n",
    "plt.ylabel('Вероятность')\n",
    "plt.show()\n"
   ]
  },
  {
   "cell_type": "code",
   "execution_count": 134,
   "id": "e8d2ec58",
   "metadata": {},
   "outputs": [
    {
     "data": {
      "text/plain": [
       "0.15371708296369768"
      ]
     },
     "execution_count": 134,
     "metadata": {},
     "output_type": "execute_result"
    }
   ],
   "source": [
    "distr2 = st.norm(mu2, sigma2)\n",
    "\n",
    "x2 = 399500\n",
    "\n",
    "result2 = distr2.cdf(x2)\n",
    "\n",
    "result2"
   ]
  },
  {
   "cell_type": "markdown",
   "id": "eb7e7c61",
   "metadata": {},
   "source": [
    "**Вывод:**\n",
    "\n",
    "Вероятность того, что уведомления откроют не более 399,5 тыс. пользователей из рассылки, проведенной для 1 млн. клиентов, составляет 15,4%."
   ]
  },
  {
   "cell_type": "markdown",
   "id": "eae9bcf6",
   "metadata": {},
   "source": [
    "# **<font color='green'>ОБЩИЙ ВЫВОД ПО ПРОЕКТУ.</font>**\n",
    "\n",
    "Данный проект был направлен на проведение анализа данных сервиса GoFast, предоставленных о некоторых пользователях из нескольких городов а также об их поездках.\n",
    "Для проведения анализа были предоставлены три массива данных:\n",
    "- о пользователях;\n",
    "- о поездках;\n",
    "- о стоимости использования сервиса по подписке и без.\n",
    "\n",
    "На первом шаге работы была проведена **предобработка данных**, включающая: предварительный анализ основной информации о базе данных (в том числе ее соответствие требуемому типу данных), проверка массивов на наличие пропусков, проверка данных на наличие дубликатов. В ходе данного этапа, все данные были приведены к необходимой форме.\n",
    "\n",
    "Далее был проведен **исследовательский анализ данных по пяти показателям**. По результатам каждого из них были сделаны соответствующие выводы, а именно:\n",
    "1. Частота встречаемости городов. Данный сервис используется в 8 городах России. Была выявлена разная активность пользователей в зависимости от населенного пункта, так наиболее часто встречающийся город - Пятигорск, в то время как Москва встречалась в данных реже всего. Кроме того, прослеживается тенденция использования данного сервиса в южной части страны, что может быть объяснено более благоприятными климатическими условиями.\n",
    "\n",
    "2. Соотношение пользователей с подпиской и без подписки. В ходе исследования было выявлено, что сервис более популярен в использовании без подписки. Процент пользователей без подписки больше имеющих подписку на 8,86%. Возможно, люди не используют самокаты, как постоянный вид транспорта и предпочитают экономить на оплате подписки.\n",
    "\n",
    "3. Возраст пользователей. Сервис наиболее популярен среди пользователей 25 лет. Для людей младшего и старшего возраста, количество поездок плавно снижается и приближается к нулю для возраста 12 и 37 лет. \n",
    "\n",
    "4. Расстояние, которое пользователь преодолел за одну поездку. Среднее расстояние за одно поездку составляет 3131 метров, наиболее частыми поездками являются поездки от 2916 метров до 3338 метров, большинство поездок укладывается от 2300 метров до 3900 метров.\n",
    "\n",
    "5. Продолжительность поездок. Среднее значение продолжительности поездки составляет 17,74 минуты, наиболее частыми поездками являются поездки от 16,19 минут до 19,21 минут, большинство поездок укладывается от 12 минут до 24 минут.\n",
    "\n",
    "Для проведения дальнейшего исследования, массивы данных о пользователях и поездках были объединены в один и разделены на двы части по принципу наличия подписки для изучения **характеристик, соответствующих кажной из двух категорий**. Были получены следующие результаты:\n",
    "- <font color='blue'>Пользователи с подпиской</font>. Медианное значение дальности поездок для этой категории пользователей составляет 3142 метров (наиболее частые поездки от 3005 метров до 3287 метров). Медианная продолжительность таких поездок составляет 18,2 минуты (наиболее частые поездки укладываются от 16,7 минут до 19,7 минут).\n",
    "- <font color='blue'>Пользователи без подписки</font>. Медианное значение дальности поездок для этой категории составляет 3112 метров (наиболее частые поездки от 2839 метров до 3398 метров). Медианная продолжительность таких поездок составляет 17,3 минуты (наиболее частые поездки укладываются от 15,7 минут до 18,7 минут).\n",
    "\n",
    "Исходя из вышесказанного можно сделать вывод, что медианное расстояние для каждой группы пользователей примерно равно, но важно отметить, что разброс данных в группе пользователей без подписки больше, т.е. пользователи с подпиской имеют тенденцию совершать примерно одинаковые поездки, возможно они преобретают подписку для регулярных одинаковых передвижений, в то время как пользователи без подписки действуют более спонтанно. Так же стоит отметить, что пользователи без подписки стараются экономить на времени, в связи с чем время их поездок обычно короче на одну минуту.\n",
    "\n",
    "В завершении проекта была проведена **проверка нескольких гипотез**:\n",
    "1. Сравнение времени, которое тратят пользователи с подпиской и без. По результатам проведенной проверки данной гипотезы было определено, что пользователи с подпиской действительно тратят больше времени на поездки и соответственно они \"выгоднее\" для компании.\n",
    "2. Расстояние одной поездки в 3130 метров. Согласно проведенной проверке гипотезы, среднее расстояние, которое проезжают на самокате пользователи с подпиской, меньше 3130 метров, что способствует более медленному износу оборудования и является дополнительной причиной для стимулирование клиентов на оформление подписок.\n",
    "3. Помесячная выручка от пользователей. Согласно проведенной проверке гипотезы, помесячная выручка от пользователей с подпиской по месяцам выше выручки от пользователей без подписки. Соответственно, клиенты с подпиской выгоднее для компании.\n",
    "\n",
    "**<font color='red'>Рекомендации.</font>**\n",
    "В заключении проведенного исследования можно отметить некоторые направления для улучшения выручки сервиса GoFast. Поскольку исследование показало, что пользователи с подпиской более выгодные для компании (они тратят больше времени на поездки, а также оплачивают абонентскую плату, что в совокупности гарантирует большую выручку с каждого клиента), стоит рассмотреть некоторые инструменты для их привлечения, такие как предоставление промокодов на месяц бесплатной подписки среди имеющихся клинтов без подписки. Согласно прогнозу, рассылка 1168 промокодов может гарантировать в 95% случаев приобретение 100 новых подписок. \n",
    "Также рассылка push-уведомлений в приложений может способствовать распространению информации, поскольку было рассчитано, что с вероятностью около 85% из 1 млн. уведомдений будет открыто около 400 тыс., а сделав их графичаски привлекательными или содержащими интересную информацию для основной группы пользователей (молодых людей в возрасте околого 25 лет), данный инструмент можно использовать для эффективного улучшения показателей компании.\n"
   ]
  }
 ],
 "metadata": {
  "ExecuteTimeLog": [
   {
    "duration": 1220,
    "start_time": "2024-02-20T07:29:04.861Z"
   },
   {
    "duration": 166,
    "start_time": "2024-02-20T07:29:06.084Z"
   },
   {
    "duration": 0,
    "start_time": "2024-02-20T07:29:06.253Z"
   },
   {
    "duration": 0,
    "start_time": "2024-02-20T07:29:06.254Z"
   },
   {
    "duration": 0,
    "start_time": "2024-02-20T07:29:06.255Z"
   },
   {
    "duration": 0,
    "start_time": "2024-02-20T07:29:06.265Z"
   },
   {
    "duration": 0,
    "start_time": "2024-02-20T07:29:06.266Z"
   },
   {
    "duration": 0,
    "start_time": "2024-02-20T07:29:06.268Z"
   },
   {
    "duration": 0,
    "start_time": "2024-02-20T07:29:06.268Z"
   },
   {
    "duration": 0,
    "start_time": "2024-02-20T07:29:06.269Z"
   },
   {
    "duration": 0,
    "start_time": "2024-02-20T07:29:06.270Z"
   },
   {
    "duration": 1,
    "start_time": "2024-02-20T07:29:06.271Z"
   },
   {
    "duration": 0,
    "start_time": "2024-02-20T07:29:06.273Z"
   },
   {
    "duration": 0,
    "start_time": "2024-02-20T07:29:06.274Z"
   },
   {
    "duration": 0,
    "start_time": "2024-02-20T07:29:06.275Z"
   },
   {
    "duration": 0,
    "start_time": "2024-02-20T07:29:06.276Z"
   },
   {
    "duration": 0,
    "start_time": "2024-02-20T07:29:06.277Z"
   },
   {
    "duration": 0,
    "start_time": "2024-02-20T07:29:06.278Z"
   },
   {
    "duration": 0,
    "start_time": "2024-02-20T07:29:06.279Z"
   },
   {
    "duration": 0,
    "start_time": "2024-02-20T07:29:06.280Z"
   },
   {
    "duration": 0,
    "start_time": "2024-02-20T07:29:06.281Z"
   },
   {
    "duration": 0,
    "start_time": "2024-02-20T07:29:06.282Z"
   },
   {
    "duration": 0,
    "start_time": "2024-02-20T07:29:06.283Z"
   },
   {
    "duration": 0,
    "start_time": "2024-02-20T07:29:06.284Z"
   },
   {
    "duration": 0,
    "start_time": "2024-02-20T07:29:06.285Z"
   },
   {
    "duration": 1,
    "start_time": "2024-02-20T07:29:06.285Z"
   },
   {
    "duration": 0,
    "start_time": "2024-02-20T07:29:06.287Z"
   },
   {
    "duration": 0,
    "start_time": "2024-02-20T07:29:06.288Z"
   },
   {
    "duration": 0,
    "start_time": "2024-02-20T07:29:06.289Z"
   },
   {
    "duration": 0,
    "start_time": "2024-02-20T07:29:06.290Z"
   },
   {
    "duration": 0,
    "start_time": "2024-02-20T07:29:06.291Z"
   },
   {
    "duration": 0,
    "start_time": "2024-02-20T07:29:06.292Z"
   },
   {
    "duration": 0,
    "start_time": "2024-02-20T07:29:06.293Z"
   },
   {
    "duration": 0,
    "start_time": "2024-02-20T07:29:06.294Z"
   },
   {
    "duration": 0,
    "start_time": "2024-02-20T07:29:06.295Z"
   },
   {
    "duration": 0,
    "start_time": "2024-02-20T07:29:06.296Z"
   },
   {
    "duration": 0,
    "start_time": "2024-02-20T07:29:06.297Z"
   },
   {
    "duration": 0,
    "start_time": "2024-02-20T07:29:06.298Z"
   },
   {
    "duration": 0,
    "start_time": "2024-02-20T07:29:06.299Z"
   },
   {
    "duration": 0,
    "start_time": "2024-02-20T07:29:06.300Z"
   },
   {
    "duration": 0,
    "start_time": "2024-02-20T07:29:06.301Z"
   },
   {
    "duration": 0,
    "start_time": "2024-02-20T07:29:06.302Z"
   },
   {
    "duration": 0,
    "start_time": "2024-02-20T07:29:06.366Z"
   },
   {
    "duration": 0,
    "start_time": "2024-02-20T07:29:06.367Z"
   },
   {
    "duration": 0,
    "start_time": "2024-02-20T07:29:06.368Z"
   },
   {
    "duration": 0,
    "start_time": "2024-02-20T07:29:06.369Z"
   },
   {
    "duration": 0,
    "start_time": "2024-02-20T07:29:06.370Z"
   },
   {
    "duration": 0,
    "start_time": "2024-02-20T07:29:06.371Z"
   },
   {
    "duration": 0,
    "start_time": "2024-02-20T07:29:06.372Z"
   },
   {
    "duration": 0,
    "start_time": "2024-02-20T07:29:06.373Z"
   },
   {
    "duration": 1072,
    "start_time": "2024-02-20T07:31:19.457Z"
   },
   {
    "duration": 172,
    "start_time": "2024-02-20T07:31:20.530Z"
   },
   {
    "duration": 0,
    "start_time": "2024-02-20T07:31:20.705Z"
   },
   {
    "duration": 0,
    "start_time": "2024-02-20T07:31:20.707Z"
   },
   {
    "duration": 0,
    "start_time": "2024-02-20T07:31:20.708Z"
   },
   {
    "duration": 0,
    "start_time": "2024-02-20T07:31:20.709Z"
   },
   {
    "duration": 0,
    "start_time": "2024-02-20T07:31:20.711Z"
   },
   {
    "duration": 0,
    "start_time": "2024-02-20T07:31:20.712Z"
   },
   {
    "duration": 0,
    "start_time": "2024-02-20T07:31:20.713Z"
   },
   {
    "duration": 0,
    "start_time": "2024-02-20T07:31:20.715Z"
   },
   {
    "duration": 0,
    "start_time": "2024-02-20T07:31:20.716Z"
   },
   {
    "duration": 0,
    "start_time": "2024-02-20T07:31:20.717Z"
   },
   {
    "duration": 0,
    "start_time": "2024-02-20T07:31:20.719Z"
   },
   {
    "duration": 0,
    "start_time": "2024-02-20T07:31:20.720Z"
   },
   {
    "duration": 0,
    "start_time": "2024-02-20T07:31:20.721Z"
   },
   {
    "duration": 0,
    "start_time": "2024-02-20T07:31:20.722Z"
   },
   {
    "duration": 0,
    "start_time": "2024-02-20T07:31:20.724Z"
   },
   {
    "duration": 0,
    "start_time": "2024-02-20T07:31:20.725Z"
   },
   {
    "duration": 0,
    "start_time": "2024-02-20T07:31:20.726Z"
   },
   {
    "duration": 0,
    "start_time": "2024-02-20T07:31:20.765Z"
   },
   {
    "duration": 0,
    "start_time": "2024-02-20T07:31:20.767Z"
   },
   {
    "duration": 0,
    "start_time": "2024-02-20T07:31:20.768Z"
   },
   {
    "duration": 0,
    "start_time": "2024-02-20T07:31:20.769Z"
   },
   {
    "duration": 0,
    "start_time": "2024-02-20T07:31:20.770Z"
   },
   {
    "duration": 1,
    "start_time": "2024-02-20T07:31:20.771Z"
   },
   {
    "duration": 1,
    "start_time": "2024-02-20T07:31:20.772Z"
   },
   {
    "duration": 1,
    "start_time": "2024-02-20T07:31:20.773Z"
   },
   {
    "duration": 0,
    "start_time": "2024-02-20T07:31:20.774Z"
   },
   {
    "duration": 0,
    "start_time": "2024-02-20T07:31:20.775Z"
   },
   {
    "duration": 0,
    "start_time": "2024-02-20T07:31:20.777Z"
   },
   {
    "duration": 0,
    "start_time": "2024-02-20T07:31:20.778Z"
   },
   {
    "duration": 0,
    "start_time": "2024-02-20T07:31:20.780Z"
   },
   {
    "duration": 0,
    "start_time": "2024-02-20T07:31:20.781Z"
   },
   {
    "duration": 0,
    "start_time": "2024-02-20T07:31:20.782Z"
   },
   {
    "duration": 0,
    "start_time": "2024-02-20T07:31:20.784Z"
   },
   {
    "duration": 0,
    "start_time": "2024-02-20T07:31:20.785Z"
   },
   {
    "duration": 0,
    "start_time": "2024-02-20T07:31:20.787Z"
   },
   {
    "duration": 0,
    "start_time": "2024-02-20T07:31:20.788Z"
   },
   {
    "duration": 0,
    "start_time": "2024-02-20T07:31:20.789Z"
   },
   {
    "duration": 0,
    "start_time": "2024-02-20T07:31:20.791Z"
   },
   {
    "duration": 0,
    "start_time": "2024-02-20T07:31:20.792Z"
   },
   {
    "duration": 0,
    "start_time": "2024-02-20T07:31:20.794Z"
   },
   {
    "duration": 0,
    "start_time": "2024-02-20T07:31:20.795Z"
   },
   {
    "duration": 0,
    "start_time": "2024-02-20T07:31:20.796Z"
   },
   {
    "duration": 0,
    "start_time": "2024-02-20T07:31:20.797Z"
   },
   {
    "duration": 0,
    "start_time": "2024-02-20T07:31:20.798Z"
   },
   {
    "duration": 0,
    "start_time": "2024-02-20T07:31:20.800Z"
   },
   {
    "duration": 0,
    "start_time": "2024-02-20T07:31:20.801Z"
   },
   {
    "duration": 0,
    "start_time": "2024-02-20T07:31:20.802Z"
   },
   {
    "duration": 0,
    "start_time": "2024-02-20T07:31:20.803Z"
   },
   {
    "duration": 92,
    "start_time": "2024-02-20T07:31:32.529Z"
   },
   {
    "duration": 986,
    "start_time": "2024-02-20T07:31:38.019Z"
   },
   {
    "duration": 95,
    "start_time": "2024-02-20T07:31:39.007Z"
   },
   {
    "duration": 12,
    "start_time": "2024-02-20T07:31:39.103Z"
   },
   {
    "duration": 20,
    "start_time": "2024-02-20T07:31:39.116Z"
   },
   {
    "duration": 6,
    "start_time": "2024-02-20T07:31:39.138Z"
   },
   {
    "duration": 18,
    "start_time": "2024-02-20T07:31:39.145Z"
   },
   {
    "duration": 98,
    "start_time": "2024-02-20T07:31:39.164Z"
   },
   {
    "duration": 0,
    "start_time": "2024-02-20T07:31:39.265Z"
   },
   {
    "duration": 0,
    "start_time": "2024-02-20T07:31:39.266Z"
   },
   {
    "duration": 0,
    "start_time": "2024-02-20T07:31:39.267Z"
   },
   {
    "duration": 0,
    "start_time": "2024-02-20T07:31:39.268Z"
   },
   {
    "duration": 0,
    "start_time": "2024-02-20T07:31:39.269Z"
   },
   {
    "duration": 0,
    "start_time": "2024-02-20T07:31:39.270Z"
   },
   {
    "duration": 0,
    "start_time": "2024-02-20T07:31:39.271Z"
   },
   {
    "duration": 0,
    "start_time": "2024-02-20T07:31:39.272Z"
   },
   {
    "duration": 0,
    "start_time": "2024-02-20T07:31:39.272Z"
   },
   {
    "duration": 0,
    "start_time": "2024-02-20T07:31:39.273Z"
   },
   {
    "duration": 0,
    "start_time": "2024-02-20T07:31:39.274Z"
   },
   {
    "duration": 0,
    "start_time": "2024-02-20T07:31:39.275Z"
   },
   {
    "duration": 0,
    "start_time": "2024-02-20T07:31:39.276Z"
   },
   {
    "duration": 0,
    "start_time": "2024-02-20T07:31:39.277Z"
   },
   {
    "duration": 0,
    "start_time": "2024-02-20T07:31:39.278Z"
   },
   {
    "duration": 0,
    "start_time": "2024-02-20T07:31:39.279Z"
   },
   {
    "duration": 0,
    "start_time": "2024-02-20T07:31:39.280Z"
   },
   {
    "duration": 0,
    "start_time": "2024-02-20T07:31:39.281Z"
   },
   {
    "duration": 0,
    "start_time": "2024-02-20T07:31:39.282Z"
   },
   {
    "duration": 0,
    "start_time": "2024-02-20T07:31:39.283Z"
   },
   {
    "duration": 0,
    "start_time": "2024-02-20T07:31:39.284Z"
   },
   {
    "duration": 0,
    "start_time": "2024-02-20T07:31:39.285Z"
   },
   {
    "duration": 0,
    "start_time": "2024-02-20T07:31:39.285Z"
   },
   {
    "duration": 0,
    "start_time": "2024-02-20T07:31:39.286Z"
   },
   {
    "duration": 0,
    "start_time": "2024-02-20T07:31:39.287Z"
   },
   {
    "duration": 0,
    "start_time": "2024-02-20T07:31:39.288Z"
   },
   {
    "duration": 0,
    "start_time": "2024-02-20T07:31:39.289Z"
   },
   {
    "duration": 0,
    "start_time": "2024-02-20T07:31:39.290Z"
   },
   {
    "duration": 0,
    "start_time": "2024-02-20T07:31:39.291Z"
   },
   {
    "duration": 0,
    "start_time": "2024-02-20T07:31:39.292Z"
   },
   {
    "duration": 0,
    "start_time": "2024-02-20T07:31:39.293Z"
   },
   {
    "duration": 0,
    "start_time": "2024-02-20T07:31:39.294Z"
   },
   {
    "duration": 0,
    "start_time": "2024-02-20T07:31:39.295Z"
   },
   {
    "duration": 0,
    "start_time": "2024-02-20T07:31:39.296Z"
   },
   {
    "duration": 0,
    "start_time": "2024-02-20T07:31:39.297Z"
   },
   {
    "duration": 0,
    "start_time": "2024-02-20T07:31:39.298Z"
   },
   {
    "duration": 0,
    "start_time": "2024-02-20T07:31:39.299Z"
   },
   {
    "duration": 0,
    "start_time": "2024-02-20T07:31:39.300Z"
   },
   {
    "duration": 0,
    "start_time": "2024-02-20T07:31:39.301Z"
   },
   {
    "duration": 0,
    "start_time": "2024-02-20T07:31:39.302Z"
   },
   {
    "duration": 0,
    "start_time": "2024-02-20T07:31:39.303Z"
   },
   {
    "duration": 0,
    "start_time": "2024-02-20T07:31:39.304Z"
   },
   {
    "duration": 0,
    "start_time": "2024-02-20T07:31:39.304Z"
   },
   {
    "duration": 20,
    "start_time": "2024-02-20T07:32:37.991Z"
   },
   {
    "duration": 69,
    "start_time": "2024-02-20T07:32:51.135Z"
   },
   {
    "duration": 82,
    "start_time": "2024-02-20T07:33:20.908Z"
   },
   {
    "duration": 1033,
    "start_time": "2024-02-20T07:35:03.387Z"
   },
   {
    "duration": 106,
    "start_time": "2024-02-20T07:35:04.421Z"
   },
   {
    "duration": 12,
    "start_time": "2024-02-20T07:35:04.528Z"
   },
   {
    "duration": 28,
    "start_time": "2024-02-20T07:35:04.541Z"
   },
   {
    "duration": 14,
    "start_time": "2024-02-20T07:35:04.571Z"
   },
   {
    "duration": 12,
    "start_time": "2024-02-20T07:35:04.587Z"
   },
   {
    "duration": 27,
    "start_time": "2024-02-20T07:35:04.600Z"
   },
   {
    "duration": 11,
    "start_time": "2024-02-20T07:35:04.628Z"
   },
   {
    "duration": 50,
    "start_time": "2024-02-20T07:35:04.640Z"
   },
   {
    "duration": 18,
    "start_time": "2024-02-20T07:35:04.692Z"
   },
   {
    "duration": 15,
    "start_time": "2024-02-20T07:35:04.713Z"
   },
   {
    "duration": 33,
    "start_time": "2024-02-20T07:35:04.730Z"
   },
   {
    "duration": 43,
    "start_time": "2024-02-20T07:35:04.765Z"
   },
   {
    "duration": 31,
    "start_time": "2024-02-20T07:35:04.811Z"
   },
   {
    "duration": 168,
    "start_time": "2024-02-20T07:35:04.844Z"
   },
   {
    "duration": 100,
    "start_time": "2024-02-20T07:35:05.014Z"
   },
   {
    "duration": 8,
    "start_time": "2024-02-20T07:35:05.115Z"
   },
   {
    "duration": 255,
    "start_time": "2024-02-20T07:35:05.124Z"
   },
   {
    "duration": 235,
    "start_time": "2024-02-20T07:35:05.380Z"
   },
   {
    "duration": 12,
    "start_time": "2024-02-20T07:35:05.617Z"
   },
   {
    "duration": 138,
    "start_time": "2024-02-20T07:35:05.630Z"
   },
   {
    "duration": 209,
    "start_time": "2024-02-20T07:35:05.769Z"
   },
   {
    "duration": 13,
    "start_time": "2024-02-20T07:35:05.980Z"
   },
   {
    "duration": 133,
    "start_time": "2024-02-20T07:35:05.995Z"
   },
   {
    "duration": 18,
    "start_time": "2024-02-20T07:35:06.130Z"
   },
   {
    "duration": 28,
    "start_time": "2024-02-20T07:35:06.150Z"
   },
   {
    "duration": 15,
    "start_time": "2024-02-20T07:35:06.179Z"
   },
   {
    "duration": 7,
    "start_time": "2024-02-20T07:35:06.196Z"
   },
   {
    "duration": 163,
    "start_time": "2024-02-20T07:35:06.205Z"
   },
   {
    "duration": 12,
    "start_time": "2024-02-20T07:35:06.370Z"
   },
   {
    "duration": 172,
    "start_time": "2024-02-20T07:35:06.384Z"
   },
   {
    "duration": 17,
    "start_time": "2024-02-20T07:35:06.558Z"
   },
   {
    "duration": 191,
    "start_time": "2024-02-20T07:35:06.577Z"
   },
   {
    "duration": 12,
    "start_time": "2024-02-20T07:35:06.769Z"
   },
   {
    "duration": 212,
    "start_time": "2024-02-20T07:35:06.783Z"
   },
   {
    "duration": 11,
    "start_time": "2024-02-20T07:35:06.997Z"
   },
   {
    "duration": 46,
    "start_time": "2024-02-20T07:35:07.009Z"
   },
   {
    "duration": 2624,
    "start_time": "2024-02-20T07:35:07.057Z"
   },
   {
    "duration": 180,
    "start_time": "2024-02-20T07:35:09.683Z"
   },
   {
    "duration": 5,
    "start_time": "2024-02-20T07:35:09.864Z"
   },
   {
    "duration": 11,
    "start_time": "2024-02-20T07:35:09.872Z"
   },
   {
    "duration": 2201,
    "start_time": "2024-02-20T07:35:09.885Z"
   },
   {
    "duration": 7,
    "start_time": "2024-02-20T07:35:12.088Z"
   },
   {
    "duration": 45,
    "start_time": "2024-02-20T07:35:12.096Z"
   },
   {
    "duration": 1468,
    "start_time": "2024-02-20T07:35:12.142Z"
   },
   {
    "duration": 6,
    "start_time": "2024-02-20T07:35:13.611Z"
   },
   {
    "duration": 1745,
    "start_time": "2024-02-20T07:35:13.618Z"
   },
   {
    "duration": 5,
    "start_time": "2024-02-20T07:35:15.365Z"
   },
   {
    "duration": 613,
    "start_time": "2024-02-20T07:35:15.371Z"
   },
   {
    "duration": 6,
    "start_time": "2024-02-20T07:35:15.985Z"
   },
   {
    "duration": 6,
    "start_time": "2024-02-20T07:56:55.870Z"
   },
   {
    "duration": 6,
    "start_time": "2024-02-20T07:57:03.890Z"
   },
   {
    "duration": 996,
    "start_time": "2024-02-20T08:01:20.510Z"
   },
   {
    "duration": 98,
    "start_time": "2024-02-20T08:01:21.508Z"
   },
   {
    "duration": 12,
    "start_time": "2024-02-20T08:01:21.608Z"
   },
   {
    "duration": 36,
    "start_time": "2024-02-20T08:01:21.622Z"
   },
   {
    "duration": 37,
    "start_time": "2024-02-20T08:01:21.660Z"
   },
   {
    "duration": 32,
    "start_time": "2024-02-20T08:01:21.699Z"
   },
   {
    "duration": 31,
    "start_time": "2024-02-20T08:01:21.733Z"
   },
   {
    "duration": 23,
    "start_time": "2024-02-20T08:01:21.766Z"
   },
   {
    "duration": 51,
    "start_time": "2024-02-20T08:01:21.791Z"
   },
   {
    "duration": 15,
    "start_time": "2024-02-20T08:01:21.846Z"
   },
   {
    "duration": 37,
    "start_time": "2024-02-20T08:01:21.862Z"
   },
   {
    "duration": 20,
    "start_time": "2024-02-20T08:01:21.901Z"
   },
   {
    "duration": 51,
    "start_time": "2024-02-20T08:01:21.922Z"
   },
   {
    "duration": 37,
    "start_time": "2024-02-20T08:01:21.974Z"
   },
   {
    "duration": 164,
    "start_time": "2024-02-20T08:01:22.012Z"
   },
   {
    "duration": 101,
    "start_time": "2024-02-20T08:01:22.178Z"
   },
   {
    "duration": 9,
    "start_time": "2024-02-20T08:01:22.280Z"
   },
   {
    "duration": 179,
    "start_time": "2024-02-20T08:01:22.290Z"
   },
   {
    "duration": 206,
    "start_time": "2024-02-20T08:01:22.471Z"
   },
   {
    "duration": 12,
    "start_time": "2024-02-20T08:01:22.679Z"
   },
   {
    "duration": 113,
    "start_time": "2024-02-20T08:01:22.692Z"
   },
   {
    "duration": 178,
    "start_time": "2024-02-20T08:01:22.807Z"
   },
   {
    "duration": 13,
    "start_time": "2024-02-20T08:01:22.987Z"
   },
   {
    "duration": 136,
    "start_time": "2024-02-20T08:01:23.002Z"
   },
   {
    "duration": 26,
    "start_time": "2024-02-20T08:01:23.140Z"
   },
   {
    "duration": 16,
    "start_time": "2024-02-20T08:01:23.167Z"
   },
   {
    "duration": 13,
    "start_time": "2024-02-20T08:01:23.184Z"
   },
   {
    "duration": 24,
    "start_time": "2024-02-20T08:01:23.200Z"
   },
   {
    "duration": 175,
    "start_time": "2024-02-20T08:01:23.226Z"
   },
   {
    "duration": 13,
    "start_time": "2024-02-20T08:01:23.402Z"
   },
   {
    "duration": 195,
    "start_time": "2024-02-20T08:01:23.416Z"
   },
   {
    "duration": 10,
    "start_time": "2024-02-20T08:01:23.613Z"
   },
   {
    "duration": 150,
    "start_time": "2024-02-20T08:01:23.625Z"
   },
   {
    "duration": 11,
    "start_time": "2024-02-20T08:01:23.777Z"
   },
   {
    "duration": 224,
    "start_time": "2024-02-20T08:01:23.789Z"
   },
   {
    "duration": 11,
    "start_time": "2024-02-20T08:01:24.014Z"
   },
   {
    "duration": 47,
    "start_time": "2024-02-20T08:01:24.027Z"
   },
   {
    "duration": 2726,
    "start_time": "2024-02-20T08:01:24.076Z"
   },
   {
    "duration": 175,
    "start_time": "2024-02-20T08:01:26.804Z"
   },
   {
    "duration": 5,
    "start_time": "2024-02-20T08:01:26.981Z"
   },
   {
    "duration": 44,
    "start_time": "2024-02-20T08:01:26.987Z"
   },
   {
    "duration": 2233,
    "start_time": "2024-02-20T08:01:27.032Z"
   },
   {
    "duration": 8,
    "start_time": "2024-02-20T08:01:29.267Z"
   },
   {
    "duration": 5,
    "start_time": "2024-02-20T08:01:29.276Z"
   },
   {
    "duration": 1522,
    "start_time": "2024-02-20T08:01:29.283Z"
   },
   {
    "duration": 6,
    "start_time": "2024-02-20T08:01:30.807Z"
   },
   {
    "duration": 1793,
    "start_time": "2024-02-20T08:01:30.814Z"
   },
   {
    "duration": 5,
    "start_time": "2024-02-20T08:01:32.609Z"
   },
   {
    "duration": 587,
    "start_time": "2024-02-20T08:01:32.616Z"
   },
   {
    "duration": 6,
    "start_time": "2024-02-20T08:01:33.204Z"
   },
   {
    "duration": 1198,
    "start_time": "2024-02-21T15:32:19.499Z"
   },
   {
    "duration": 49,
    "start_time": "2024-02-21T15:32:20.699Z"
   },
   {
    "duration": 15,
    "start_time": "2024-02-21T15:32:20.750Z"
   },
   {
    "duration": 39,
    "start_time": "2024-02-21T15:32:20.767Z"
   },
   {
    "duration": 9,
    "start_time": "2024-02-21T15:32:20.807Z"
   },
   {
    "duration": 32,
    "start_time": "2024-02-21T15:32:20.817Z"
   },
   {
    "duration": 9,
    "start_time": "2024-02-21T15:32:20.850Z"
   },
   {
    "duration": 16,
    "start_time": "2024-02-21T15:32:20.861Z"
   },
   {
    "duration": 7,
    "start_time": "2024-02-21T15:32:20.878Z"
   },
   {
    "duration": 6,
    "start_time": "2024-02-21T15:32:20.887Z"
   },
   {
    "duration": 17,
    "start_time": "2024-02-21T15:32:20.894Z"
   },
   {
    "duration": 16,
    "start_time": "2024-02-21T15:32:20.912Z"
   },
   {
    "duration": 7,
    "start_time": "2024-02-21T15:32:20.945Z"
   },
   {
    "duration": 11,
    "start_time": "2024-02-21T15:32:20.954Z"
   },
   {
    "duration": 5,
    "start_time": "2024-02-21T15:32:20.966Z"
   },
   {
    "duration": 16,
    "start_time": "2024-02-21T15:32:20.972Z"
   },
   {
    "duration": 342,
    "start_time": "2024-02-21T15:32:20.989Z"
   },
   {
    "duration": 124,
    "start_time": "2024-02-21T15:32:21.333Z"
   },
   {
    "duration": 13,
    "start_time": "2024-02-21T15:32:21.460Z"
   },
   {
    "duration": 335,
    "start_time": "2024-02-21T15:32:21.545Z"
   },
   {
    "duration": 494,
    "start_time": "2024-02-21T15:32:21.881Z"
   },
   {
    "duration": 10,
    "start_time": "2024-02-21T15:32:22.377Z"
   },
   {
    "duration": 210,
    "start_time": "2024-02-21T15:32:22.389Z"
   },
   {
    "duration": 536,
    "start_time": "2024-02-21T15:32:22.601Z"
   },
   {
    "duration": 11,
    "start_time": "2024-02-21T15:32:23.145Z"
   },
   {
    "duration": 248,
    "start_time": "2024-02-21T15:32:23.158Z"
   },
   {
    "duration": 22,
    "start_time": "2024-02-21T15:32:23.407Z"
   },
   {
    "duration": 12,
    "start_time": "2024-02-21T15:32:23.444Z"
   },
   {
    "duration": 8,
    "start_time": "2024-02-21T15:32:23.458Z"
   },
   {
    "duration": 9,
    "start_time": "2024-02-21T15:32:23.468Z"
   },
   {
    "duration": 8,
    "start_time": "2024-02-21T15:32:23.478Z"
   },
   {
    "duration": 5,
    "start_time": "2024-02-21T15:32:23.488Z"
   },
   {
    "duration": 476,
    "start_time": "2024-02-21T15:32:23.494Z"
   },
   {
    "duration": 10,
    "start_time": "2024-02-21T15:32:23.971Z"
   },
   {
    "duration": 567,
    "start_time": "2024-02-21T15:32:23.983Z"
   },
   {
    "duration": 11,
    "start_time": "2024-02-21T15:32:24.552Z"
   },
   {
    "duration": 488,
    "start_time": "2024-02-21T15:32:24.564Z"
   },
   {
    "duration": 11,
    "start_time": "2024-02-21T15:32:25.053Z"
   },
   {
    "duration": 517,
    "start_time": "2024-02-21T15:32:25.065Z"
   },
   {
    "duration": 11,
    "start_time": "2024-02-21T15:32:25.584Z"
   },
   {
    "duration": 334,
    "start_time": "2024-02-21T15:32:25.596Z"
   },
   {
    "duration": 371,
    "start_time": "2024-02-21T15:32:25.931Z"
   },
   {
    "duration": 27,
    "start_time": "2024-02-21T15:32:26.304Z"
   },
   {
    "duration": 28,
    "start_time": "2024-02-21T15:32:26.333Z"
   },
   {
    "duration": 16,
    "start_time": "2024-02-21T15:32:26.363Z"
   },
   {
    "duration": 22,
    "start_time": "2024-02-21T15:32:26.380Z"
   },
   {
    "duration": 21,
    "start_time": "2024-02-21T15:32:26.403Z"
   },
   {
    "duration": 31,
    "start_time": "2024-02-21T15:32:26.425Z"
   },
   {
    "duration": 19,
    "start_time": "2024-02-21T15:32:26.457Z"
   },
   {
    "duration": 26,
    "start_time": "2024-02-21T15:32:26.477Z"
   },
   {
    "duration": 17,
    "start_time": "2024-02-21T15:32:26.505Z"
   },
   {
    "duration": 20,
    "start_time": "2024-02-21T15:32:26.523Z"
   },
   {
    "duration": 18,
    "start_time": "2024-02-21T15:32:26.545Z"
   },
   {
    "duration": 6,
    "start_time": "2024-02-21T15:32:26.564Z"
   },
   {
    "duration": 17,
    "start_time": "2024-02-21T15:32:26.572Z"
   },
   {
    "duration": 13,
    "start_time": "2024-02-21T15:32:26.590Z"
   },
   {
    "duration": 1669,
    "start_time": "2024-02-21T15:32:26.605Z"
   },
   {
    "duration": 5,
    "start_time": "2024-02-21T15:32:28.276Z"
   },
   {
    "duration": 1932,
    "start_time": "2024-02-21T15:32:28.283Z"
   },
   {
    "duration": 6,
    "start_time": "2024-02-21T15:32:30.217Z"
   },
   {
    "duration": 742,
    "start_time": "2024-02-21T15:32:30.225Z"
   },
   {
    "duration": 5,
    "start_time": "2024-02-21T15:32:30.969Z"
   },
   {
    "duration": 5,
    "start_time": "2024-02-21T15:38:53.216Z"
   },
   {
    "duration": 1195,
    "start_time": "2024-02-21T15:41:00.780Z"
   },
   {
    "duration": 48,
    "start_time": "2024-02-21T15:41:01.979Z"
   },
   {
    "duration": 105,
    "start_time": "2024-02-21T15:41:02.029Z"
   },
   {
    "duration": 74,
    "start_time": "2024-02-21T15:41:02.136Z"
   },
   {
    "duration": 15,
    "start_time": "2024-02-21T15:41:02.211Z"
   },
   {
    "duration": 57,
    "start_time": "2024-02-21T15:41:02.227Z"
   },
   {
    "duration": 10,
    "start_time": "2024-02-21T15:41:02.285Z"
   },
   {
    "duration": 95,
    "start_time": "2024-02-21T15:41:02.296Z"
   },
   {
    "duration": 114,
    "start_time": "2024-02-21T15:41:02.393Z"
   },
   {
    "duration": 52,
    "start_time": "2024-02-21T15:41:02.508Z"
   },
   {
    "duration": 23,
    "start_time": "2024-02-21T15:41:02.561Z"
   },
   {
    "duration": 47,
    "start_time": "2024-02-21T15:41:02.585Z"
   },
   {
    "duration": 39,
    "start_time": "2024-02-21T15:41:02.633Z"
   },
   {
    "duration": 46,
    "start_time": "2024-02-21T15:41:02.673Z"
   },
   {
    "duration": 44,
    "start_time": "2024-02-21T15:41:02.721Z"
   },
   {
    "duration": 62,
    "start_time": "2024-02-21T15:41:02.766Z"
   },
   {
    "duration": 328,
    "start_time": "2024-02-21T15:41:02.830Z"
   },
   {
    "duration": 187,
    "start_time": "2024-02-21T15:41:03.159Z"
   },
   {
    "duration": 3,
    "start_time": "2024-02-21T15:41:03.348Z"
   },
   {
    "duration": 0,
    "start_time": "2024-02-21T15:41:03.354Z"
   },
   {
    "duration": 0,
    "start_time": "2024-02-21T15:41:03.354Z"
   },
   {
    "duration": 0,
    "start_time": "2024-02-21T15:41:03.355Z"
   },
   {
    "duration": 0,
    "start_time": "2024-02-21T15:41:03.356Z"
   },
   {
    "duration": 0,
    "start_time": "2024-02-21T15:41:03.357Z"
   },
   {
    "duration": 0,
    "start_time": "2024-02-21T15:41:03.358Z"
   },
   {
    "duration": 0,
    "start_time": "2024-02-21T15:41:03.359Z"
   },
   {
    "duration": 0,
    "start_time": "2024-02-21T15:41:03.360Z"
   },
   {
    "duration": 0,
    "start_time": "2024-02-21T15:41:03.361Z"
   },
   {
    "duration": 0,
    "start_time": "2024-02-21T15:41:03.362Z"
   },
   {
    "duration": 0,
    "start_time": "2024-02-21T15:41:03.363Z"
   },
   {
    "duration": 0,
    "start_time": "2024-02-21T15:41:03.364Z"
   },
   {
    "duration": 0,
    "start_time": "2024-02-21T15:41:03.365Z"
   },
   {
    "duration": 0,
    "start_time": "2024-02-21T15:41:03.366Z"
   },
   {
    "duration": 0,
    "start_time": "2024-02-21T15:41:03.367Z"
   },
   {
    "duration": 0,
    "start_time": "2024-02-21T15:41:03.368Z"
   },
   {
    "duration": 0,
    "start_time": "2024-02-21T15:41:03.369Z"
   },
   {
    "duration": 0,
    "start_time": "2024-02-21T15:41:03.370Z"
   },
   {
    "duration": 0,
    "start_time": "2024-02-21T15:41:03.371Z"
   },
   {
    "duration": 0,
    "start_time": "2024-02-21T15:41:03.372Z"
   },
   {
    "duration": 0,
    "start_time": "2024-02-21T15:41:03.373Z"
   },
   {
    "duration": 0,
    "start_time": "2024-02-21T15:41:03.374Z"
   },
   {
    "duration": 0,
    "start_time": "2024-02-21T15:41:03.375Z"
   },
   {
    "duration": 0,
    "start_time": "2024-02-21T15:41:03.375Z"
   },
   {
    "duration": 0,
    "start_time": "2024-02-21T15:41:03.376Z"
   },
   {
    "duration": 0,
    "start_time": "2024-02-21T15:41:03.377Z"
   },
   {
    "duration": 0,
    "start_time": "2024-02-21T15:41:03.378Z"
   },
   {
    "duration": 0,
    "start_time": "2024-02-21T15:41:03.379Z"
   },
   {
    "duration": 0,
    "start_time": "2024-02-21T15:41:03.380Z"
   },
   {
    "duration": 0,
    "start_time": "2024-02-21T15:41:03.381Z"
   },
   {
    "duration": 0,
    "start_time": "2024-02-21T15:41:03.444Z"
   },
   {
    "duration": 0,
    "start_time": "2024-02-21T15:41:03.446Z"
   },
   {
    "duration": 0,
    "start_time": "2024-02-21T15:41:03.447Z"
   },
   {
    "duration": 0,
    "start_time": "2024-02-21T15:41:03.448Z"
   },
   {
    "duration": 0,
    "start_time": "2024-02-21T15:41:03.448Z"
   },
   {
    "duration": 0,
    "start_time": "2024-02-21T15:41:03.449Z"
   },
   {
    "duration": 0,
    "start_time": "2024-02-21T15:41:03.450Z"
   },
   {
    "duration": 0,
    "start_time": "2024-02-21T15:41:03.451Z"
   },
   {
    "duration": 0,
    "start_time": "2024-02-21T15:41:03.452Z"
   },
   {
    "duration": 0,
    "start_time": "2024-02-21T15:41:03.454Z"
   },
   {
    "duration": 0,
    "start_time": "2024-02-21T15:41:03.455Z"
   },
   {
    "duration": 0,
    "start_time": "2024-02-21T15:41:03.456Z"
   },
   {
    "duration": 0,
    "start_time": "2024-02-21T15:41:03.457Z"
   },
   {
    "duration": 4,
    "start_time": "2024-02-21T15:41:21.207Z"
   },
   {
    "duration": 1433,
    "start_time": "2024-02-22T05:54:57.808Z"
   },
   {
    "duration": 181,
    "start_time": "2024-02-22T05:54:59.243Z"
   },
   {
    "duration": 12,
    "start_time": "2024-02-22T05:54:59.426Z"
   },
   {
    "duration": 63,
    "start_time": "2024-02-22T05:54:59.440Z"
   },
   {
    "duration": 10,
    "start_time": "2024-02-22T05:54:59.504Z"
   },
   {
    "duration": 82,
    "start_time": "2024-02-22T05:54:59.515Z"
   },
   {
    "duration": 10,
    "start_time": "2024-02-22T05:54:59.598Z"
   },
   {
    "duration": 31,
    "start_time": "2024-02-22T05:54:59.610Z"
   },
   {
    "duration": 7,
    "start_time": "2024-02-22T05:54:59.643Z"
   },
   {
    "duration": 4,
    "start_time": "2024-02-22T05:54:59.653Z"
   },
   {
    "duration": 8,
    "start_time": "2024-02-22T05:54:59.659Z"
   },
   {
    "duration": 11,
    "start_time": "2024-02-22T05:54:59.668Z"
   },
   {
    "duration": 17,
    "start_time": "2024-02-22T05:54:59.681Z"
   },
   {
    "duration": 13,
    "start_time": "2024-02-22T05:54:59.700Z"
   },
   {
    "duration": 4,
    "start_time": "2024-02-22T05:54:59.715Z"
   },
   {
    "duration": 13,
    "start_time": "2024-02-22T05:54:59.721Z"
   },
   {
    "duration": 120,
    "start_time": "2024-02-22T05:54:59.736Z"
   },
   {
    "duration": 0,
    "start_time": "2024-02-22T05:54:59.858Z"
   },
   {
    "duration": 0,
    "start_time": "2024-02-22T05:54:59.860Z"
   },
   {
    "duration": 0,
    "start_time": "2024-02-22T05:54:59.861Z"
   },
   {
    "duration": 0,
    "start_time": "2024-02-22T05:54:59.861Z"
   },
   {
    "duration": 0,
    "start_time": "2024-02-22T05:54:59.863Z"
   },
   {
    "duration": 0,
    "start_time": "2024-02-22T05:54:59.863Z"
   },
   {
    "duration": 0,
    "start_time": "2024-02-22T05:54:59.873Z"
   },
   {
    "duration": 0,
    "start_time": "2024-02-22T05:54:59.874Z"
   },
   {
    "duration": 0,
    "start_time": "2024-02-22T05:54:59.875Z"
   },
   {
    "duration": 0,
    "start_time": "2024-02-22T05:54:59.876Z"
   },
   {
    "duration": 0,
    "start_time": "2024-02-22T05:54:59.876Z"
   },
   {
    "duration": 0,
    "start_time": "2024-02-22T05:54:59.877Z"
   },
   {
    "duration": 0,
    "start_time": "2024-02-22T05:54:59.879Z"
   },
   {
    "duration": 0,
    "start_time": "2024-02-22T05:54:59.880Z"
   },
   {
    "duration": 0,
    "start_time": "2024-02-22T05:54:59.881Z"
   },
   {
    "duration": 0,
    "start_time": "2024-02-22T05:54:59.882Z"
   },
   {
    "duration": 0,
    "start_time": "2024-02-22T05:54:59.883Z"
   },
   {
    "duration": 0,
    "start_time": "2024-02-22T05:54:59.884Z"
   },
   {
    "duration": 0,
    "start_time": "2024-02-22T05:54:59.885Z"
   },
   {
    "duration": 0,
    "start_time": "2024-02-22T05:54:59.886Z"
   },
   {
    "duration": 0,
    "start_time": "2024-02-22T05:54:59.887Z"
   },
   {
    "duration": 0,
    "start_time": "2024-02-22T05:54:59.888Z"
   },
   {
    "duration": 0,
    "start_time": "2024-02-22T05:54:59.889Z"
   },
   {
    "duration": 0,
    "start_time": "2024-02-22T05:54:59.890Z"
   },
   {
    "duration": 0,
    "start_time": "2024-02-22T05:54:59.891Z"
   },
   {
    "duration": 0,
    "start_time": "2024-02-22T05:54:59.892Z"
   },
   {
    "duration": 0,
    "start_time": "2024-02-22T05:54:59.893Z"
   },
   {
    "duration": 0,
    "start_time": "2024-02-22T05:54:59.894Z"
   },
   {
    "duration": 0,
    "start_time": "2024-02-22T05:54:59.895Z"
   },
   {
    "duration": 0,
    "start_time": "2024-02-22T05:54:59.896Z"
   },
   {
    "duration": 0,
    "start_time": "2024-02-22T05:54:59.897Z"
   },
   {
    "duration": 0,
    "start_time": "2024-02-22T05:54:59.898Z"
   },
   {
    "duration": 0,
    "start_time": "2024-02-22T05:54:59.899Z"
   },
   {
    "duration": 0,
    "start_time": "2024-02-22T05:54:59.900Z"
   },
   {
    "duration": 0,
    "start_time": "2024-02-22T05:54:59.901Z"
   },
   {
    "duration": 0,
    "start_time": "2024-02-22T05:54:59.902Z"
   },
   {
    "duration": 0,
    "start_time": "2024-02-22T05:54:59.903Z"
   },
   {
    "duration": 0,
    "start_time": "2024-02-22T05:54:59.904Z"
   },
   {
    "duration": 0,
    "start_time": "2024-02-22T05:54:59.905Z"
   },
   {
    "duration": 0,
    "start_time": "2024-02-22T05:54:59.906Z"
   },
   {
    "duration": 0,
    "start_time": "2024-02-22T05:54:59.907Z"
   },
   {
    "duration": 0,
    "start_time": "2024-02-22T05:54:59.908Z"
   },
   {
    "duration": 0,
    "start_time": "2024-02-22T05:54:59.973Z"
   },
   {
    "duration": 0,
    "start_time": "2024-02-22T05:54:59.975Z"
   },
   {
    "duration": 0,
    "start_time": "2024-02-22T05:54:59.976Z"
   },
   {
    "duration": 170,
    "start_time": "2024-02-22T05:56:03.299Z"
   },
   {
    "duration": 1171,
    "start_time": "2024-02-22T05:56:18.312Z"
   },
   {
    "duration": 48,
    "start_time": "2024-02-22T05:56:19.485Z"
   },
   {
    "duration": 12,
    "start_time": "2024-02-22T05:56:19.534Z"
   },
   {
    "duration": 22,
    "start_time": "2024-02-22T05:56:19.548Z"
   },
   {
    "duration": 10,
    "start_time": "2024-02-22T05:56:19.571Z"
   },
   {
    "duration": 36,
    "start_time": "2024-02-22T05:56:19.582Z"
   },
   {
    "duration": 11,
    "start_time": "2024-02-22T05:56:19.619Z"
   },
   {
    "duration": 14,
    "start_time": "2024-02-22T05:56:19.631Z"
   },
   {
    "duration": 7,
    "start_time": "2024-02-22T05:56:19.647Z"
   },
   {
    "duration": 14,
    "start_time": "2024-02-22T05:56:19.656Z"
   },
   {
    "duration": 12,
    "start_time": "2024-02-22T05:56:19.672Z"
   },
   {
    "duration": 16,
    "start_time": "2024-02-22T05:56:19.686Z"
   },
   {
    "duration": 6,
    "start_time": "2024-02-22T05:56:19.703Z"
   },
   {
    "duration": 18,
    "start_time": "2024-02-22T05:56:19.710Z"
   },
   {
    "duration": 4,
    "start_time": "2024-02-22T05:56:19.730Z"
   },
   {
    "duration": 10,
    "start_time": "2024-02-22T05:56:19.735Z"
   },
   {
    "duration": 168,
    "start_time": "2024-02-22T05:56:19.747Z"
   },
   {
    "duration": 123,
    "start_time": "2024-02-22T05:56:19.917Z"
   },
   {
    "duration": 10,
    "start_time": "2024-02-22T05:56:20.042Z"
   },
   {
    "duration": 186,
    "start_time": "2024-02-22T05:56:20.053Z"
   },
   {
    "duration": 275,
    "start_time": "2024-02-22T05:56:20.241Z"
   },
   {
    "duration": 11,
    "start_time": "2024-02-22T05:56:20.517Z"
   },
   {
    "duration": 146,
    "start_time": "2024-02-22T05:56:20.529Z"
   },
   {
    "duration": 273,
    "start_time": "2024-02-22T05:56:20.677Z"
   },
   {
    "duration": 9,
    "start_time": "2024-02-22T05:56:20.951Z"
   },
   {
    "duration": 141,
    "start_time": "2024-02-22T05:56:20.972Z"
   },
   {
    "duration": 26,
    "start_time": "2024-02-22T05:56:21.114Z"
   },
   {
    "duration": 29,
    "start_time": "2024-02-22T05:56:21.144Z"
   },
   {
    "duration": 84,
    "start_time": "2024-02-22T05:56:21.175Z"
   },
   {
    "duration": 19,
    "start_time": "2024-02-22T05:56:21.260Z"
   },
   {
    "duration": 50,
    "start_time": "2024-02-22T05:56:21.280Z"
   },
   {
    "duration": 16,
    "start_time": "2024-02-22T05:56:21.332Z"
   },
   {
    "duration": 295,
    "start_time": "2024-02-22T05:56:21.350Z"
   },
   {
    "duration": 8,
    "start_time": "2024-02-22T05:56:21.647Z"
   },
   {
    "duration": 293,
    "start_time": "2024-02-22T05:56:21.657Z"
   },
   {
    "duration": 8,
    "start_time": "2024-02-22T05:56:21.952Z"
   },
   {
    "duration": 307,
    "start_time": "2024-02-22T05:56:21.962Z"
   },
   {
    "duration": 9,
    "start_time": "2024-02-22T05:56:22.271Z"
   },
   {
    "duration": 292,
    "start_time": "2024-02-22T05:56:22.282Z"
   },
   {
    "duration": 8,
    "start_time": "2024-02-22T05:56:22.576Z"
   },
   {
    "duration": 204,
    "start_time": "2024-02-22T05:56:22.585Z"
   },
   {
    "duration": 189,
    "start_time": "2024-02-22T05:56:22.790Z"
   },
   {
    "duration": 35,
    "start_time": "2024-02-22T05:56:22.981Z"
   },
   {
    "duration": 52,
    "start_time": "2024-02-22T05:56:23.018Z"
   },
   {
    "duration": 39,
    "start_time": "2024-02-22T05:56:23.072Z"
   },
   {
    "duration": 5,
    "start_time": "2024-02-22T05:56:23.113Z"
   },
   {
    "duration": 20,
    "start_time": "2024-02-22T05:56:23.120Z"
   },
   {
    "duration": 20,
    "start_time": "2024-02-22T05:56:23.141Z"
   },
   {
    "duration": 23,
    "start_time": "2024-02-22T05:56:23.163Z"
   },
   {
    "duration": 39,
    "start_time": "2024-02-22T05:56:23.188Z"
   },
   {
    "duration": 36,
    "start_time": "2024-02-22T05:56:23.228Z"
   },
   {
    "duration": 31,
    "start_time": "2024-02-22T05:56:23.265Z"
   },
   {
    "duration": 31,
    "start_time": "2024-02-22T05:56:23.297Z"
   },
   {
    "duration": 26,
    "start_time": "2024-02-22T05:56:23.330Z"
   },
   {
    "duration": 51,
    "start_time": "2024-02-22T05:56:23.358Z"
   },
   {
    "duration": 44,
    "start_time": "2024-02-22T05:56:23.410Z"
   },
   {
    "duration": 1641,
    "start_time": "2024-02-22T05:56:23.456Z"
   },
   {
    "duration": 7,
    "start_time": "2024-02-22T05:56:25.099Z"
   },
   {
    "duration": 2072,
    "start_time": "2024-02-22T05:56:25.107Z"
   },
   {
    "duration": 6,
    "start_time": "2024-02-22T05:56:27.180Z"
   },
   {
    "duration": 630,
    "start_time": "2024-02-22T05:56:27.187Z"
   },
   {
    "duration": 6,
    "start_time": "2024-02-22T05:56:27.818Z"
   },
   {
    "duration": 123,
    "start_time": "2024-02-22T05:57:09.959Z"
   },
   {
    "duration": 110,
    "start_time": "2024-02-22T05:57:17.508Z"
   },
   {
    "duration": 278,
    "start_time": "2024-02-22T05:58:10.621Z"
   },
   {
    "duration": 251,
    "start_time": "2024-02-22T05:58:23.513Z"
   },
   {
    "duration": 262,
    "start_time": "2024-02-22T05:58:43.178Z"
   },
   {
    "duration": 266,
    "start_time": "2024-02-22T05:58:51.323Z"
   },
   {
    "duration": 484,
    "start_time": "2024-02-22T05:59:00.389Z"
   },
   {
    "duration": 275,
    "start_time": "2024-02-22T05:59:07.254Z"
   },
   {
    "duration": 1211,
    "start_time": "2024-02-22T06:00:14.357Z"
   },
   {
    "duration": 50,
    "start_time": "2024-02-22T06:00:15.570Z"
   },
   {
    "duration": 12,
    "start_time": "2024-02-22T06:00:15.622Z"
   },
   {
    "duration": 38,
    "start_time": "2024-02-22T06:00:15.636Z"
   },
   {
    "duration": 9,
    "start_time": "2024-02-22T06:00:15.676Z"
   },
   {
    "duration": 39,
    "start_time": "2024-02-22T06:00:15.687Z"
   },
   {
    "duration": 10,
    "start_time": "2024-02-22T06:00:15.728Z"
   },
   {
    "duration": 21,
    "start_time": "2024-02-22T06:00:15.739Z"
   },
   {
    "duration": 7,
    "start_time": "2024-02-22T06:00:15.762Z"
   },
   {
    "duration": 4,
    "start_time": "2024-02-22T06:00:15.772Z"
   },
   {
    "duration": 7,
    "start_time": "2024-02-22T06:00:15.777Z"
   },
   {
    "duration": 17,
    "start_time": "2024-02-22T06:00:15.786Z"
   },
   {
    "duration": 6,
    "start_time": "2024-02-22T06:00:15.804Z"
   },
   {
    "duration": 6,
    "start_time": "2024-02-22T06:00:15.811Z"
   },
   {
    "duration": 4,
    "start_time": "2024-02-22T06:00:15.818Z"
   },
   {
    "duration": 11,
    "start_time": "2024-02-22T06:00:15.824Z"
   },
   {
    "duration": 184,
    "start_time": "2024-02-22T06:00:15.837Z"
   },
   {
    "duration": 138,
    "start_time": "2024-02-22T06:00:16.023Z"
   },
   {
    "duration": 12,
    "start_time": "2024-02-22T06:00:16.163Z"
   },
   {
    "duration": 176,
    "start_time": "2024-02-22T06:00:16.177Z"
   },
   {
    "duration": 276,
    "start_time": "2024-02-22T06:00:16.354Z"
   },
   {
    "duration": 10,
    "start_time": "2024-02-22T06:00:16.631Z"
   },
   {
    "duration": 145,
    "start_time": "2024-02-22T06:00:16.643Z"
   },
   {
    "duration": 273,
    "start_time": "2024-02-22T06:00:16.789Z"
   },
   {
    "duration": 16,
    "start_time": "2024-02-22T06:00:17.064Z"
   },
   {
    "duration": 128,
    "start_time": "2024-02-22T06:00:17.082Z"
   },
   {
    "duration": 25,
    "start_time": "2024-02-22T06:00:17.211Z"
   },
   {
    "duration": 32,
    "start_time": "2024-02-22T06:00:17.241Z"
   },
   {
    "duration": 80,
    "start_time": "2024-02-22T06:00:17.274Z"
   },
   {
    "duration": 23,
    "start_time": "2024-02-22T06:00:17.355Z"
   },
   {
    "duration": 14,
    "start_time": "2024-02-22T06:00:17.379Z"
   },
   {
    "duration": 7,
    "start_time": "2024-02-22T06:00:17.394Z"
   },
   {
    "duration": 275,
    "start_time": "2024-02-22T06:00:17.402Z"
   },
   {
    "duration": 8,
    "start_time": "2024-02-22T06:00:17.679Z"
   },
   {
    "duration": 285,
    "start_time": "2024-02-22T06:00:17.689Z"
   },
   {
    "duration": 8,
    "start_time": "2024-02-22T06:00:17.976Z"
   },
   {
    "duration": 278,
    "start_time": "2024-02-22T06:00:17.986Z"
   },
   {
    "duration": 13,
    "start_time": "2024-02-22T06:00:18.265Z"
   },
   {
    "duration": 277,
    "start_time": "2024-02-22T06:00:18.280Z"
   },
   {
    "duration": 17,
    "start_time": "2024-02-22T06:00:18.558Z"
   },
   {
    "duration": 205,
    "start_time": "2024-02-22T06:00:18.577Z"
   },
   {
    "duration": 206,
    "start_time": "2024-02-22T06:00:18.783Z"
   },
   {
    "duration": 32,
    "start_time": "2024-02-22T06:00:18.990Z"
   },
   {
    "duration": 17,
    "start_time": "2024-02-22T06:00:19.024Z"
   },
   {
    "duration": 34,
    "start_time": "2024-02-22T06:00:19.042Z"
   },
   {
    "duration": 4,
    "start_time": "2024-02-22T06:00:19.078Z"
   },
   {
    "duration": 15,
    "start_time": "2024-02-22T06:00:19.084Z"
   },
   {
    "duration": 13,
    "start_time": "2024-02-22T06:00:19.100Z"
   },
   {
    "duration": 25,
    "start_time": "2024-02-22T06:00:19.114Z"
   },
   {
    "duration": 46,
    "start_time": "2024-02-22T06:00:19.140Z"
   },
   {
    "duration": 19,
    "start_time": "2024-02-22T06:00:19.187Z"
   },
   {
    "duration": 10,
    "start_time": "2024-02-22T06:00:19.208Z"
   },
   {
    "duration": 14,
    "start_time": "2024-02-22T06:00:19.220Z"
   },
   {
    "duration": 20,
    "start_time": "2024-02-22T06:00:19.235Z"
   },
   {
    "duration": 18,
    "start_time": "2024-02-22T06:00:19.257Z"
   },
   {
    "duration": 16,
    "start_time": "2024-02-22T06:00:19.277Z"
   },
   {
    "duration": 1627,
    "start_time": "2024-02-22T06:00:19.294Z"
   },
   {
    "duration": 7,
    "start_time": "2024-02-22T06:00:20.922Z"
   },
   {
    "duration": 2029,
    "start_time": "2024-02-22T06:00:20.930Z"
   },
   {
    "duration": 12,
    "start_time": "2024-02-22T06:00:22.961Z"
   },
   {
    "duration": 636,
    "start_time": "2024-02-22T06:00:22.975Z"
   },
   {
    "duration": 6,
    "start_time": "2024-02-22T06:00:23.613Z"
   },
   {
    "duration": 1741,
    "start_time": "2024-02-22T10:44:44.600Z"
   },
   {
    "duration": 57,
    "start_time": "2024-02-22T10:44:46.343Z"
   },
   {
    "duration": 15,
    "start_time": "2024-02-22T10:44:46.402Z"
   },
   {
    "duration": 37,
    "start_time": "2024-02-22T10:44:46.418Z"
   },
   {
    "duration": 8,
    "start_time": "2024-02-22T10:44:46.457Z"
   },
   {
    "duration": 36,
    "start_time": "2024-02-22T10:44:46.467Z"
   },
   {
    "duration": 11,
    "start_time": "2024-02-22T10:44:46.507Z"
   },
   {
    "duration": 19,
    "start_time": "2024-02-22T10:44:46.520Z"
   },
   {
    "duration": 9,
    "start_time": "2024-02-22T10:44:46.541Z"
   },
   {
    "duration": 20,
    "start_time": "2024-02-22T10:44:46.552Z"
   },
   {
    "duration": 20,
    "start_time": "2024-02-22T10:44:46.573Z"
   },
   {
    "duration": 18,
    "start_time": "2024-02-22T10:44:46.596Z"
   },
   {
    "duration": 10,
    "start_time": "2024-02-22T10:44:46.617Z"
   },
   {
    "duration": 12,
    "start_time": "2024-02-22T10:44:46.630Z"
   },
   {
    "duration": 4,
    "start_time": "2024-02-22T10:44:46.644Z"
   },
   {
    "duration": 16,
    "start_time": "2024-02-22T10:44:46.650Z"
   },
   {
    "duration": 161,
    "start_time": "2024-02-22T10:44:46.667Z"
   },
   {
    "duration": 0,
    "start_time": "2024-02-22T10:44:46.830Z"
   },
   {
    "duration": 0,
    "start_time": "2024-02-22T10:44:46.832Z"
   },
   {
    "duration": 0,
    "start_time": "2024-02-22T10:44:46.833Z"
   },
   {
    "duration": 0,
    "start_time": "2024-02-22T10:44:46.834Z"
   },
   {
    "duration": 0,
    "start_time": "2024-02-22T10:44:46.835Z"
   },
   {
    "duration": 0,
    "start_time": "2024-02-22T10:44:46.836Z"
   },
   {
    "duration": 0,
    "start_time": "2024-02-22T10:44:46.837Z"
   },
   {
    "duration": 0,
    "start_time": "2024-02-22T10:44:46.839Z"
   },
   {
    "duration": 0,
    "start_time": "2024-02-22T10:44:46.840Z"
   },
   {
    "duration": 0,
    "start_time": "2024-02-22T10:44:46.841Z"
   },
   {
    "duration": 0,
    "start_time": "2024-02-22T10:44:46.842Z"
   },
   {
    "duration": 0,
    "start_time": "2024-02-22T10:44:46.843Z"
   },
   {
    "duration": 0,
    "start_time": "2024-02-22T10:44:46.844Z"
   },
   {
    "duration": 0,
    "start_time": "2024-02-22T10:44:46.846Z"
   },
   {
    "duration": 0,
    "start_time": "2024-02-22T10:44:46.847Z"
   },
   {
    "duration": 0,
    "start_time": "2024-02-22T10:44:46.848Z"
   },
   {
    "duration": 0,
    "start_time": "2024-02-22T10:44:46.849Z"
   },
   {
    "duration": 0,
    "start_time": "2024-02-22T10:44:46.850Z"
   },
   {
    "duration": 0,
    "start_time": "2024-02-22T10:44:46.851Z"
   },
   {
    "duration": 0,
    "start_time": "2024-02-22T10:44:46.892Z"
   },
   {
    "duration": 0,
    "start_time": "2024-02-22T10:44:46.893Z"
   },
   {
    "duration": 0,
    "start_time": "2024-02-22T10:44:46.895Z"
   },
   {
    "duration": 0,
    "start_time": "2024-02-22T10:44:46.896Z"
   },
   {
    "duration": 0,
    "start_time": "2024-02-22T10:44:46.897Z"
   },
   {
    "duration": 0,
    "start_time": "2024-02-22T10:44:46.899Z"
   },
   {
    "duration": 0,
    "start_time": "2024-02-22T10:44:46.900Z"
   },
   {
    "duration": 0,
    "start_time": "2024-02-22T10:44:46.902Z"
   },
   {
    "duration": 0,
    "start_time": "2024-02-22T10:44:46.903Z"
   },
   {
    "duration": 0,
    "start_time": "2024-02-22T10:44:46.905Z"
   },
   {
    "duration": 0,
    "start_time": "2024-02-22T10:44:46.907Z"
   },
   {
    "duration": 0,
    "start_time": "2024-02-22T10:44:46.911Z"
   },
   {
    "duration": 0,
    "start_time": "2024-02-22T10:44:46.913Z"
   },
   {
    "duration": 0,
    "start_time": "2024-02-22T10:44:46.914Z"
   },
   {
    "duration": 0,
    "start_time": "2024-02-22T10:44:46.915Z"
   },
   {
    "duration": 0,
    "start_time": "2024-02-22T10:44:46.917Z"
   },
   {
    "duration": 0,
    "start_time": "2024-02-22T10:44:46.918Z"
   },
   {
    "duration": 0,
    "start_time": "2024-02-22T10:44:46.919Z"
   },
   {
    "duration": 0,
    "start_time": "2024-02-22T10:44:46.920Z"
   },
   {
    "duration": 0,
    "start_time": "2024-02-22T10:44:46.921Z"
   },
   {
    "duration": 0,
    "start_time": "2024-02-22T10:44:46.922Z"
   },
   {
    "duration": 0,
    "start_time": "2024-02-22T10:44:46.924Z"
   },
   {
    "duration": 0,
    "start_time": "2024-02-22T10:44:46.925Z"
   },
   {
    "duration": 0,
    "start_time": "2024-02-22T10:44:46.926Z"
   },
   {
    "duration": 0,
    "start_time": "2024-02-22T10:44:46.927Z"
   },
   {
    "duration": 0,
    "start_time": "2024-02-22T10:44:46.929Z"
   },
   {
    "duration": 373,
    "start_time": "2024-02-22T10:45:34.380Z"
   },
   {
    "duration": 1691,
    "start_time": "2024-02-22T10:46:35.405Z"
   },
   {
    "duration": 53,
    "start_time": "2024-02-22T10:46:37.099Z"
   },
   {
    "duration": 11,
    "start_time": "2024-02-22T10:46:37.154Z"
   },
   {
    "duration": 27,
    "start_time": "2024-02-22T10:46:37.167Z"
   },
   {
    "duration": 10,
    "start_time": "2024-02-22T10:46:37.196Z"
   },
   {
    "duration": 48,
    "start_time": "2024-02-22T10:46:37.210Z"
   },
   {
    "duration": 9,
    "start_time": "2024-02-22T10:46:37.259Z"
   },
   {
    "duration": 22,
    "start_time": "2024-02-22T10:46:37.269Z"
   },
   {
    "duration": 16,
    "start_time": "2024-02-22T10:46:37.298Z"
   },
   {
    "duration": 11,
    "start_time": "2024-02-22T10:46:37.319Z"
   },
   {
    "duration": 19,
    "start_time": "2024-02-22T10:46:37.332Z"
   },
   {
    "duration": 21,
    "start_time": "2024-02-22T10:46:37.352Z"
   },
   {
    "duration": 24,
    "start_time": "2024-02-22T10:46:37.374Z"
   },
   {
    "duration": 12,
    "start_time": "2024-02-22T10:46:37.401Z"
   },
   {
    "duration": 14,
    "start_time": "2024-02-22T10:46:37.414Z"
   },
   {
    "duration": 25,
    "start_time": "2024-02-22T10:46:37.430Z"
   },
   {
    "duration": 407,
    "start_time": "2024-02-22T10:46:37.457Z"
   },
   {
    "duration": 229,
    "start_time": "2024-02-22T10:46:37.866Z"
   },
   {
    "duration": 14,
    "start_time": "2024-02-22T10:46:38.098Z"
   },
   {
    "duration": 377,
    "start_time": "2024-02-22T10:46:38.115Z"
   },
   {
    "duration": 524,
    "start_time": "2024-02-22T10:46:38.494Z"
   },
   {
    "duration": 9,
    "start_time": "2024-02-22T10:46:39.019Z"
   },
   {
    "duration": 342,
    "start_time": "2024-02-22T10:46:39.029Z"
   },
   {
    "duration": 487,
    "start_time": "2024-02-22T10:46:39.373Z"
   },
   {
    "duration": 10,
    "start_time": "2024-02-22T10:46:39.862Z"
   },
   {
    "duration": 306,
    "start_time": "2024-02-22T10:46:39.874Z"
   },
   {
    "duration": 42,
    "start_time": "2024-02-22T10:46:40.182Z"
   },
   {
    "duration": 13,
    "start_time": "2024-02-22T10:46:40.228Z"
   },
   {
    "duration": 33,
    "start_time": "2024-02-22T10:46:40.243Z"
   },
   {
    "duration": 19,
    "start_time": "2024-02-22T10:46:40.278Z"
   },
   {
    "duration": 29,
    "start_time": "2024-02-22T10:46:40.299Z"
   },
   {
    "duration": 38,
    "start_time": "2024-02-22T10:46:40.330Z"
   },
   {
    "duration": 585,
    "start_time": "2024-02-22T10:46:40.370Z"
   },
   {
    "duration": 8,
    "start_time": "2024-02-22T10:46:40.957Z"
   },
   {
    "duration": 543,
    "start_time": "2024-02-22T10:46:40.967Z"
   },
   {
    "duration": 10,
    "start_time": "2024-02-22T10:46:41.512Z"
   },
   {
    "duration": 467,
    "start_time": "2024-02-22T10:46:41.524Z"
   },
   {
    "duration": 14,
    "start_time": "2024-02-22T10:46:41.993Z"
   },
   {
    "duration": 477,
    "start_time": "2024-02-22T10:46:42.010Z"
   },
   {
    "duration": 13,
    "start_time": "2024-02-22T10:46:42.491Z"
   },
   {
    "duration": 447,
    "start_time": "2024-02-22T10:46:42.506Z"
   },
   {
    "duration": 463,
    "start_time": "2024-02-22T10:46:42.955Z"
   },
   {
    "duration": 25,
    "start_time": "2024-02-22T10:46:43.420Z"
   },
   {
    "duration": 16,
    "start_time": "2024-02-22T10:46:43.446Z"
   },
   {
    "duration": 37,
    "start_time": "2024-02-22T10:46:43.464Z"
   },
   {
    "duration": 8,
    "start_time": "2024-02-22T10:46:43.505Z"
   },
   {
    "duration": 6,
    "start_time": "2024-02-22T10:46:43.516Z"
   },
   {
    "duration": 6,
    "start_time": "2024-02-22T10:46:43.523Z"
   },
   {
    "duration": 5,
    "start_time": "2024-02-22T10:46:43.530Z"
   },
   {
    "duration": 9,
    "start_time": "2024-02-22T10:46:43.536Z"
   },
   {
    "duration": 11,
    "start_time": "2024-02-22T10:46:43.547Z"
   },
   {
    "duration": 18,
    "start_time": "2024-02-22T10:46:43.593Z"
   },
   {
    "duration": 14,
    "start_time": "2024-02-22T10:46:43.613Z"
   },
   {
    "duration": 6,
    "start_time": "2024-02-22T10:46:43.629Z"
   },
   {
    "duration": 10,
    "start_time": "2024-02-22T10:46:43.636Z"
   },
   {
    "duration": 22,
    "start_time": "2024-02-22T10:46:43.647Z"
   },
   {
    "duration": 1933,
    "start_time": "2024-02-22T10:46:43.671Z"
   },
   {
    "duration": 8,
    "start_time": "2024-02-22T10:46:45.607Z"
   },
   {
    "duration": 2266,
    "start_time": "2024-02-22T10:46:45.617Z"
   },
   {
    "duration": 7,
    "start_time": "2024-02-22T10:46:47.885Z"
   },
   {
    "duration": 753,
    "start_time": "2024-02-22T10:46:47.895Z"
   },
   {
    "duration": 6,
    "start_time": "2024-02-22T10:46:48.650Z"
   }
  ],
  "kernelspec": {
   "display_name": "Python 3 (ipykernel)",
   "language": "python",
   "name": "python3"
  },
  "language_info": {
   "codemirror_mode": {
    "name": "ipython",
    "version": 3
   },
   "file_extension": ".py",
   "mimetype": "text/x-python",
   "name": "python",
   "nbconvert_exporter": "python",
   "pygments_lexer": "ipython3",
   "version": "3.11.5"
  },
  "toc": {
   "base_numbering": 1,
   "nav_menu": {},
   "number_sections": true,
   "sideBar": true,
   "skip_h1_title": true,
   "title_cell": "Table of Contents",
   "title_sidebar": "Contents",
   "toc_cell": false,
   "toc_position": {},
   "toc_section_display": true,
   "toc_window_display": false
  },
  "toc-autonumbering": true,
  "toc-showcode": true,
  "toc-showmarkdowntxt": false,
  "toc-showtags": true
 },
 "nbformat": 4,
 "nbformat_minor": 5
}
